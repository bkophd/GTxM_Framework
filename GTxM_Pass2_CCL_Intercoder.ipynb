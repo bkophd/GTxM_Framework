{
 "cells": [
  {
   "cell_type": "markdown",
   "id": "00fc9860-410b-4bfe-9d28-9cb780201aa9",
   "metadata": {
    "tags": []
   },
   "source": [
    "### Setup Env"
   ]
  },
  {
   "cell_type": "code",
   "execution_count": 1,
   "id": "fa5913b1-2aef-4594-ba52-4a082a35c64e",
   "metadata": {},
   "outputs": [],
   "source": [
    "# credit: https://github.com/grrrr/krippendorff-alpha (Thomas Grill)\n",
    "# downloaded: https://github.com/grrrr/krippendorff-alpha/blob/master/krippendorff_alpha.py"
   ]
  },
  {
   "cell_type": "code",
   "execution_count": 4,
   "id": "88856349-9517-4bf5-a2f0-c77b20a620c8",
   "metadata": {},
   "outputs": [],
   "source": [
    "# krippendorff_alpha.py must be locally stored in the same folder as this notebook\n",
    "from krippendorff_alpha import *"
   ]
  },
  {
   "cell_type": "code",
   "execution_count": 1,
   "id": "41e3004d-1133-4d6a-ae6e-060ed981d64d",
   "metadata": {},
   "outputs": [],
   "source": [
    "import pandas as pd\n",
    "import numpy as np\n",
    "import re"
   ]
  },
  {
   "cell_type": "code",
   "execution_count": 2,
   "id": "80187d6e-64e9-42e8-81bd-0f28697da23e",
   "metadata": {},
   "outputs": [],
   "source": [
    "def removeSpCharLine(text):\n",
    "    # remove all non ASCII characters and line breaks.\n",
    "    # credit: https://stackoverflow.com/questions/2758921/regular-expression-that-finds-and-replaces-non-ascii-characters-with-python\n",
    "    text.replace('\\n', ' ')\n",
    "    text.replace('\\r', ' ')\n",
    "    text = re.sub(r\"[\\u0080-\\uFFFF]\", \" \", text) #see ASCII list: https://www.asciitable.com/\n",
    "    text = \" \".join(text.split()) # replace multiple spaces with a single space\n",
    "    return(text)"
   ]
  },
  {
   "cell_type": "markdown",
   "id": "3d126cbc-5a6e-4f80-95ee-3e606f5c8851",
   "metadata": {
    "jp-MarkdownHeadingCollapsed": true,
    "tags": []
   },
   "source": [
    "### Prepare Intercoder DataFrame"
   ]
  },
  {
   "cell_type": "code",
   "execution_count": 7,
   "id": "f34de0d7-ce0e-4033-ae3f-53018fc76f4a",
   "metadata": {},
   "outputs": [],
   "source": [
    "# Use the result of individual algorithm experiments to create a unified  GTxM Classifier prediction\n",
    "# SVM: GTxM/GTxM_Pass2_SVM.ipynb\n",
    "# BERT: Colab/\n",
    "# XLNet: Colab/"
   ]
  },
  {
   "cell_type": "code",
   "execution_count": 8,
   "id": "da81858d-9c34-419a-ba76-bb9dc7e69f8e",
   "metadata": {},
   "outputs": [],
   "source": [
    "df = pd.read_csv(\"results/GTxM_Pass2/GClf_Intercoder_Pred.csv\", dtype='str')"
   ]
  },
  {
   "cell_type": "code",
   "execution_count": 9,
   "id": "cc3f8e36-ff5d-466a-8307-2940a5b07311",
   "metadata": {},
   "outputs": [
    {
     "data": {
      "text/plain": [
       "407"
      ]
     },
     "execution_count": 9,
     "metadata": {},
     "output_type": "execute_result"
    }
   ],
   "source": [
    "len(df)"
   ]
  },
  {
   "cell_type": "code",
   "execution_count": 10,
   "id": "c918b8d5-d4d5-46de-ac9d-a334ff4ea352",
   "metadata": {},
   "outputs": [
    {
     "data": {
      "text/html": [
       "<div>\n",
       "<style scoped>\n",
       "    .dataframe tbody tr th:only-of-type {\n",
       "        vertical-align: middle;\n",
       "    }\n",
       "\n",
       "    .dataframe tbody tr th {\n",
       "        vertical-align: top;\n",
       "    }\n",
       "\n",
       "    .dataframe thead th {\n",
       "        text-align: right;\n",
       "    }\n",
       "</style>\n",
       "<table border=\"1\" class=\"dataframe\">\n",
       "  <thead>\n",
       "    <tr style=\"text-align: right;\">\n",
       "      <th></th>\n",
       "      <th>RecID</th>\n",
       "      <th>Label</th>\n",
       "      <th>Target</th>\n",
       "      <th>SVMPred</th>\n",
       "      <th>BERTPred</th>\n",
       "      <th>XLNetPred</th>\n",
       "    </tr>\n",
       "  </thead>\n",
       "  <tbody>\n",
       "    <tr>\n",
       "      <th>0</th>\n",
       "      <td>1223365339494453248</td>\n",
       "      <td>Politics</td>\n",
       "      <td>6</td>\n",
       "      <td>6</td>\n",
       "      <td>-1</td>\n",
       "      <td>-1</td>\n",
       "    </tr>\n",
       "    <tr>\n",
       "      <th>1</th>\n",
       "      <td>1222952347548164098</td>\n",
       "      <td>Politics</td>\n",
       "      <td>6</td>\n",
       "      <td>6</td>\n",
       "      <td>6</td>\n",
       "      <td>6</td>\n",
       "    </tr>\n",
       "    <tr>\n",
       "      <th>2</th>\n",
       "      <td>1222288749813518339</td>\n",
       "      <td>Politics</td>\n",
       "      <td>6</td>\n",
       "      <td>6</td>\n",
       "      <td>6</td>\n",
       "      <td>6</td>\n",
       "    </tr>\n",
       "    <tr>\n",
       "      <th>3</th>\n",
       "      <td>1222281539100250114</td>\n",
       "      <td>Entertainment</td>\n",
       "      <td>2</td>\n",
       "      <td>6</td>\n",
       "      <td>-1</td>\n",
       "      <td>-1</td>\n",
       "    </tr>\n",
       "    <tr>\n",
       "      <th>4</th>\n",
       "      <td>1222242112307187712</td>\n",
       "      <td>Obituary</td>\n",
       "      <td>9</td>\n",
       "      <td>6</td>\n",
       "      <td>9</td>\n",
       "      <td>9</td>\n",
       "    </tr>\n",
       "  </tbody>\n",
       "</table>\n",
       "</div>"
      ],
      "text/plain": [
       "                 RecID          Label Target SVMPred BERTPred XLNetPred\n",
       "0  1223365339494453248       Politics      6       6       -1        -1\n",
       "1  1222952347548164098       Politics      6       6        6         6\n",
       "2  1222288749813518339       Politics      6       6        6         6\n",
       "3  1222281539100250114  Entertainment      2       6       -1        -1\n",
       "4  1222242112307187712       Obituary      9       6        9         9"
      ]
     },
     "execution_count": 10,
     "metadata": {},
     "output_type": "execute_result"
    }
   ],
   "source": [
    "df.head()"
   ]
  },
  {
   "cell_type": "markdown",
   "id": "8e61bd50-808b-462f-ac5d-ea1185d0e462",
   "metadata": {
    "jp-MarkdownHeadingCollapsed": true,
    "tags": []
   },
   "source": [
    "### Get the subset with XLNet and BERT agreement"
   ]
  },
  {
   "cell_type": "code",
   "execution_count": 11,
   "id": "2ecb5f13-702a-4822-bf32-1ee7513a2e7e",
   "metadata": {},
   "outputs": [],
   "source": [
    "df_AgreeXLNetBERT = df[(df.XLNetPred == df.BERTPred) & (df.XLNetPred != '-1')]"
   ]
  },
  {
   "cell_type": "code",
   "execution_count": 12,
   "id": "ccd5c778-e7ad-4c38-a782-09f51a4183eb",
   "metadata": {},
   "outputs": [
    {
     "data": {
      "text/plain": [
       "266"
      ]
     },
     "execution_count": 12,
     "metadata": {},
     "output_type": "execute_result"
    }
   ],
   "source": [
    "len(df_AgreeXLNetBERT)"
   ]
  },
  {
   "cell_type": "code",
   "execution_count": 13,
   "id": "226b95e3-b1dc-4e57-9a8c-da48b446287a",
   "metadata": {},
   "outputs": [],
   "source": [
    "df_AgreeXLNetBERT.to_csv('df_AgreeXLNetBERT.csv')"
   ]
  },
  {
   "cell_type": "code",
   "execution_count": 14,
   "id": "61b9ab1a-a696-4b78-b661-ad6b6788cbd2",
   "metadata": {},
   "outputs": [
    {
     "data": {
      "text/html": [
       "<div>\n",
       "<style scoped>\n",
       "    .dataframe tbody tr th:only-of-type {\n",
       "        vertical-align: middle;\n",
       "    }\n",
       "\n",
       "    .dataframe tbody tr th {\n",
       "        vertical-align: top;\n",
       "    }\n",
       "\n",
       "    .dataframe thead th {\n",
       "        text-align: right;\n",
       "    }\n",
       "</style>\n",
       "<table border=\"1\" class=\"dataframe\">\n",
       "  <thead>\n",
       "    <tr style=\"text-align: right;\">\n",
       "      <th></th>\n",
       "      <th>RecID</th>\n",
       "      <th>Label</th>\n",
       "      <th>Target</th>\n",
       "      <th>SVMPred</th>\n",
       "      <th>BERTPred</th>\n",
       "      <th>XLNetPred</th>\n",
       "    </tr>\n",
       "  </thead>\n",
       "  <tbody>\n",
       "    <tr>\n",
       "      <th>1</th>\n",
       "      <td>1222952347548164098</td>\n",
       "      <td>Politics</td>\n",
       "      <td>6</td>\n",
       "      <td>6</td>\n",
       "      <td>6</td>\n",
       "      <td>6</td>\n",
       "    </tr>\n",
       "    <tr>\n",
       "      <th>2</th>\n",
       "      <td>1222288749813518339</td>\n",
       "      <td>Politics</td>\n",
       "      <td>6</td>\n",
       "      <td>6</td>\n",
       "      <td>6</td>\n",
       "      <td>6</td>\n",
       "    </tr>\n",
       "  </tbody>\n",
       "</table>\n",
       "</div>"
      ],
      "text/plain": [
       "                 RecID     Label Target SVMPred BERTPred XLNetPred\n",
       "1  1222952347548164098  Politics      6       6        6         6\n",
       "2  1222288749813518339  Politics      6       6        6         6"
      ]
     },
     "execution_count": 14,
     "metadata": {},
     "output_type": "execute_result"
    }
   ],
   "source": [
    "df_AgreeXLNetBERT.head(2)"
   ]
  },
  {
   "cell_type": "markdown",
   "id": "f6d8c7c2-a316-457d-b3a5-d0ea146d77e6",
   "metadata": {
    "jp-MarkdownHeadingCollapsed": true,
    "tags": []
   },
   "source": [
    "### Find krippendorff's alpha for the agreement between XLNet and BERT"
   ]
  },
  {
   "cell_type": "code",
   "execution_count": 15,
   "id": "c9675c07-c1cd-4b3d-a718-8af530769f6c",
   "metadata": {},
   "outputs": [],
   "source": [
    "# convert to horizontal array as expected by Krippendorff Alpha\n",
    "XLNetPred = np.stack(df['XLNetPred'].astype(\"string\"))\n",
    "BERTPred = np.stack(df['BERTPred'].astype(\"string\"))"
   ]
  },
  {
   "cell_type": "code",
   "execution_count": 16,
   "id": "7ba02c54-62e7-409a-a21a-9b1a10ce03e3",
   "metadata": {},
   "outputs": [
    {
     "data": {
      "text/plain": [
       "0.9211240586926798"
      ]
     },
     "execution_count": 16,
     "metadata": {},
     "output_type": "execute_result"
    }
   ],
   "source": [
    "arr = np.array((XLNetPred,BERTPred))\n",
    "missing = '-1'\n",
    "alpha1 = krippendorff_alpha(arr, nominal_metric, missing_items=missing)\n",
    "alpha1"
   ]
  },
  {
   "cell_type": "markdown",
   "id": "58078bd6-f4a1-4577-94d7-0219c8d6a6e4",
   "metadata": {
    "jp-MarkdownHeadingCollapsed": true,
    "tags": []
   },
   "source": [
    "### Get the subset with XLNet or BERT agreement with SVM"
   ]
  },
  {
   "cell_type": "code",
   "execution_count": 17,
   "id": "447f2b5c-039d-4dd8-9585-79a905f3d3c7",
   "metadata": {},
   "outputs": [],
   "source": [
    "def AgreeTargetWithA3(A1Target, A2Target, A3Target):\n",
    "    AgreedTarget = -1\n",
    "    if (A1Target == A3Target):\n",
    "        AgreedTarget = A3Target\n",
    "    if (A2Target == A3Target):\n",
    "        AgreedTarget = A3Target\n",
    "    return AgreedTarget"
   ]
  },
  {
   "cell_type": "code",
   "execution_count": 18,
   "id": "31649a21-88c6-4fc9-bae7-c05212582de1",
   "metadata": {},
   "outputs": [],
   "source": [
    "df2 = df[df.SVMPred != '-1']"
   ]
  },
  {
   "cell_type": "code",
   "execution_count": 19,
   "id": "c9281391-996f-4fe4-8108-94c93cf8d8a9",
   "metadata": {},
   "outputs": [
    {
     "data": {
      "text/plain": [
       "317"
      ]
     },
     "execution_count": 19,
     "metadata": {},
     "output_type": "execute_result"
    }
   ],
   "source": [
    "len(df2)"
   ]
  },
  {
   "cell_type": "code",
   "execution_count": 20,
   "id": "ccd624cd-225a-469a-984b-00c49a7e1953",
   "metadata": {},
   "outputs": [
    {
     "data": {
      "text/html": [
       "<div>\n",
       "<style scoped>\n",
       "    .dataframe tbody tr th:only-of-type {\n",
       "        vertical-align: middle;\n",
       "    }\n",
       "\n",
       "    .dataframe tbody tr th {\n",
       "        vertical-align: top;\n",
       "    }\n",
       "\n",
       "    .dataframe thead th {\n",
       "        text-align: right;\n",
       "    }\n",
       "</style>\n",
       "<table border=\"1\" class=\"dataframe\">\n",
       "  <thead>\n",
       "    <tr style=\"text-align: right;\">\n",
       "      <th></th>\n",
       "      <th>RecID</th>\n",
       "      <th>Label</th>\n",
       "      <th>Target</th>\n",
       "      <th>SVMPred</th>\n",
       "      <th>BERTPred</th>\n",
       "      <th>XLNetPred</th>\n",
       "    </tr>\n",
       "  </thead>\n",
       "  <tbody>\n",
       "    <tr>\n",
       "      <th>0</th>\n",
       "      <td>1223365339494453248</td>\n",
       "      <td>Politics</td>\n",
       "      <td>6</td>\n",
       "      <td>6</td>\n",
       "      <td>-1</td>\n",
       "      <td>-1</td>\n",
       "    </tr>\n",
       "    <tr>\n",
       "      <th>1</th>\n",
       "      <td>1222952347548164098</td>\n",
       "      <td>Politics</td>\n",
       "      <td>6</td>\n",
       "      <td>6</td>\n",
       "      <td>6</td>\n",
       "      <td>6</td>\n",
       "    </tr>\n",
       "  </tbody>\n",
       "</table>\n",
       "</div>"
      ],
      "text/plain": [
       "                 RecID     Label Target SVMPred BERTPred XLNetPred\n",
       "0  1223365339494453248  Politics      6       6       -1        -1\n",
       "1  1222952347548164098  Politics      6       6        6         6"
      ]
     },
     "execution_count": 20,
     "metadata": {},
     "output_type": "execute_result"
    }
   ],
   "source": [
    "df2.head(2)"
   ]
  },
  {
   "cell_type": "markdown",
   "id": "9362dd89-36b6-4b62-9039-e5d78754b288",
   "metadata": {
    "jp-MarkdownHeadingCollapsed": true,
    "tags": []
   },
   "source": [
    "### Find krippendorff's alpha for the agreement between (XLNet or BERT) and SVM"
   ]
  },
  {
   "cell_type": "code",
   "execution_count": 21,
   "id": "48db6256-f705-4ff2-a01e-9fad98cfc7db",
   "metadata": {
    "tags": []
   },
   "outputs": [
    {
     "name": "stderr",
     "output_type": "stream",
     "text": [
      "C:\\Users\\kazeem\\AppData\\Local\\Temp/ipykernel_3032/4107587226.py:1: SettingWithCopyWarning: \n",
      "A value is trying to be set on a copy of a slice from a DataFrame.\n",
      "Try using .loc[row_indexer,col_indexer] = value instead\n",
      "\n",
      "See the caveats in the documentation: https://pandas.pydata.org/pandas-docs/stable/user_guide/indexing.html#returning-a-view-versus-a-copy\n",
      "  df2['AgreedTarget'] = df2.apply(lambda x: AgreeTargetWithA3(x['XLNetPred'], x['BERTPred'], x['SVMPred']), axis=1)\n"
     ]
    }
   ],
   "source": [
    "df2['AgreedTarget'] = df2.apply(lambda x: AgreeTargetWithA3(x['XLNetPred'], x['BERTPred'], x['SVMPred']), axis=1)"
   ]
  },
  {
   "cell_type": "code",
   "execution_count": 22,
   "id": "80e8e242-875c-4045-8bfa-d0d2e2b80e63",
   "metadata": {},
   "outputs": [],
   "source": [
    "# convert to horizontal array as expected by Krippendorff Alpha\n",
    "SVMPred = np.stack(df2['SVMPred'].astype(\"string\"))\n",
    "AgreedTarget = np.stack(df2['AgreedTarget'].astype(\"string\"))"
   ]
  },
  {
   "cell_type": "code",
   "execution_count": 23,
   "id": "6ea39961-f274-42be-a275-4dca19ee34fb",
   "metadata": {},
   "outputs": [
    {
     "data": {
      "text/plain": [
       "0.058255070096637995"
      ]
     },
     "execution_count": 23,
     "metadata": {},
     "output_type": "execute_result"
    }
   ],
   "source": [
    "missing = '-1'\n",
    "arr = np.array((SVMPred,AgreedTarget))\n",
    "alpha2 = krippendorff_alpha(arr, nominal_metric, missing_items=missing)\n",
    "alpha2"
   ]
  },
  {
   "cell_type": "markdown",
   "id": "d0b4af01-e935-4f7b-a897-8e7b0016b30e",
   "metadata": {
    "jp-MarkdownHeadingCollapsed": true,
    "tags": []
   },
   "source": [
    "### Get HO1 labels After running Jato"
   ]
  },
  {
   "cell_type": "code",
   "execution_count": 24,
   "id": "6d22456d-9009-4ea0-aedb-89135b571959",
   "metadata": {},
   "outputs": [],
   "source": [
    "# use the RecIDs to generate the JatoMaster.csv in SQL-Server (subset of MasterTokens)\n",
    "df_RecID = df['RecID']"
   ]
  },
  {
   "cell_type": "code",
   "execution_count": 25,
   "id": "eb9479f8-9404-4f75-9caa-397e34ffe183",
   "metadata": {},
   "outputs": [],
   "source": [
    "df_jato_HO1_Labels = pd.read_csv('D:/KOPro/PhD/Implementation/SourceCode/JatoPass2/data/JatoClassified_HO1_Pass2.csv', dtype='str')"
   ]
  },
  {
   "cell_type": "code",
   "execution_count": 26,
   "id": "38921259-2328-4f8c-9307-23ab67743703",
   "metadata": {},
   "outputs": [
    {
     "data": {
      "text/html": [
       "<div>\n",
       "<style scoped>\n",
       "    .dataframe tbody tr th:only-of-type {\n",
       "        vertical-align: middle;\n",
       "    }\n",
       "\n",
       "    .dataframe tbody tr th {\n",
       "        vertical-align: top;\n",
       "    }\n",
       "\n",
       "    .dataframe thead th {\n",
       "        text-align: right;\n",
       "    }\n",
       "</style>\n",
       "<table border=\"1\" class=\"dataframe\">\n",
       "  <thead>\n",
       "    <tr style=\"text-align: right;\">\n",
       "      <th></th>\n",
       "      <th>rowid</th>\n",
       "      <th>RecID</th>\n",
       "      <th>SavedDataTime</th>\n",
       "      <th>JatoCat</th>\n",
       "      <th>JatoSubCat</th>\n",
       "      <th>JatoCat2</th>\n",
       "      <th>JatoSubCat2</th>\n",
       "      <th>JatoCat3</th>\n",
       "      <th>JatoSubCat3</th>\n",
       "      <th>NewRecClass</th>\n",
       "      <th>GTCodes</th>\n",
       "      <th>NewsPubCat</th>\n",
       "    </tr>\n",
       "  </thead>\n",
       "  <tbody>\n",
       "    <tr>\n",
       "      <th>0</th>\n",
       "      <td>6.0</td>\n",
       "      <td>222818213392678912</td>\n",
       "      <td>2021:01:17 21:15:20</td>\n",
       "      <td>Political</td>\n",
       "      <td>Debate</td>\n",
       "      <td>NaN</td>\n",
       "      <td>NaN</td>\n",
       "      <td>NaN</td>\n",
       "      <td>NaN</td>\n",
       "      <td>NaN</td>\n",
       "      <td>NaN</td>\n",
       "      <td>Politics</td>\n",
       "    </tr>\n",
       "    <tr>\n",
       "      <th>1</th>\n",
       "      <td>60.0</td>\n",
       "      <td>826262311560216578</td>\n",
       "      <td>2021:01:13 19:53:48</td>\n",
       "      <td>Political</td>\n",
       "      <td>Debate</td>\n",
       "      <td>NaN</td>\n",
       "      <td>NaN</td>\n",
       "      <td>NaN</td>\n",
       "      <td>NaN</td>\n",
       "      <td>NaN</td>\n",
       "      <td>NaN</td>\n",
       "      <td>Politics</td>\n",
       "    </tr>\n",
       "  </tbody>\n",
       "</table>\n",
       "</div>"
      ],
      "text/plain": [
       "  rowid               RecID        SavedDataTime    JatoCat JatoSubCat  \\\n",
       "0   6.0  222818213392678912  2021:01:17 21:15:20  Political     Debate   \n",
       "1  60.0  826262311560216578  2021:01:13 19:53:48  Political     Debate   \n",
       "\n",
       "  JatoCat2 JatoSubCat2 JatoCat3 JatoSubCat3 NewRecClass GTCodes NewsPubCat  \n",
       "0      NaN         NaN      NaN         NaN         NaN     NaN   Politics  \n",
       "1      NaN         NaN      NaN         NaN         NaN     NaN   Politics  "
      ]
     },
     "execution_count": 26,
     "metadata": {},
     "output_type": "execute_result"
    }
   ],
   "source": [
    "df_jato_HO1_Labels.head(2)"
   ]
  },
  {
   "cell_type": "code",
   "execution_count": 27,
   "id": "7cc3efd8-cff7-4600-97c8-26855348505b",
   "metadata": {},
   "outputs": [
    {
     "data": {
      "text/plain": [
       "2385"
      ]
     },
     "execution_count": 27,
     "metadata": {},
     "output_type": "execute_result"
    }
   ],
   "source": [
    "len(df_jato_HO1_Labels)"
   ]
  },
  {
   "cell_type": "code",
   "execution_count": 28,
   "id": "bce44c6f-13b5-4c89-8272-090900ccb0da",
   "metadata": {},
   "outputs": [],
   "source": [
    "df_jato_HO1_Labels.drop(['rowid','SavedDataTime','JatoCat','JatoSubCat','JatoCat2','JatoSubCat2','JatoCat3','JatoSubCat3','NewRecClass','GTCodes'], axis=1, inplace=True)"
   ]
  },
  {
   "cell_type": "code",
   "execution_count": 29,
   "id": "41492bd0-61ed-48f2-91da-8c0978ddf307",
   "metadata": {},
   "outputs": [
    {
     "data": {
      "text/html": [
       "<div>\n",
       "<style scoped>\n",
       "    .dataframe tbody tr th:only-of-type {\n",
       "        vertical-align: middle;\n",
       "    }\n",
       "\n",
       "    .dataframe tbody tr th {\n",
       "        vertical-align: top;\n",
       "    }\n",
       "\n",
       "    .dataframe thead th {\n",
       "        text-align: right;\n",
       "    }\n",
       "</style>\n",
       "<table border=\"1\" class=\"dataframe\">\n",
       "  <thead>\n",
       "    <tr style=\"text-align: right;\">\n",
       "      <th></th>\n",
       "      <th>RecID</th>\n",
       "      <th>NewsPubCat</th>\n",
       "    </tr>\n",
       "  </thead>\n",
       "  <tbody>\n",
       "    <tr>\n",
       "      <th>0</th>\n",
       "      <td>222818213392678912</td>\n",
       "      <td>Politics</td>\n",
       "    </tr>\n",
       "    <tr>\n",
       "      <th>1</th>\n",
       "      <td>826262311560216578</td>\n",
       "      <td>Politics</td>\n",
       "    </tr>\n",
       "  </tbody>\n",
       "</table>\n",
       "</div>"
      ],
      "text/plain": [
       "                RecID NewsPubCat\n",
       "0  222818213392678912   Politics\n",
       "1  826262311560216578   Politics"
      ]
     },
     "execution_count": 29,
     "metadata": {},
     "output_type": "execute_result"
    }
   ],
   "source": [
    "df_jato_HO1_Labels.head(2)"
   ]
  },
  {
   "cell_type": "code",
   "execution_count": 30,
   "id": "4c5fd983-02bd-4988-a2d2-42d99122c155",
   "metadata": {},
   "outputs": [
    {
     "data": {
      "text/plain": [
       "407"
      ]
     },
     "execution_count": 30,
     "metadata": {},
     "output_type": "execute_result"
    }
   ],
   "source": [
    "len(df_RecID)"
   ]
  },
  {
   "cell_type": "code",
   "execution_count": 31,
   "id": "2fb4b5c1-a33d-4081-8320-a47100009654",
   "metadata": {},
   "outputs": [],
   "source": [
    "df_HO1_Labels = pd.merge(df_jato_HO1_Labels,df_RecID, on='RecID')"
   ]
  },
  {
   "cell_type": "code",
   "execution_count": 32,
   "id": "73ec5357-283f-42d1-b4b1-6b9b30850b36",
   "metadata": {},
   "outputs": [
    {
     "data": {
      "text/html": [
       "<div>\n",
       "<style scoped>\n",
       "    .dataframe tbody tr th:only-of-type {\n",
       "        vertical-align: middle;\n",
       "    }\n",
       "\n",
       "    .dataframe tbody tr th {\n",
       "        vertical-align: top;\n",
       "    }\n",
       "\n",
       "    .dataframe thead th {\n",
       "        text-align: right;\n",
       "    }\n",
       "</style>\n",
       "<table border=\"1\" class=\"dataframe\">\n",
       "  <thead>\n",
       "    <tr style=\"text-align: right;\">\n",
       "      <th></th>\n",
       "      <th>RecID</th>\n",
       "      <th>NewsPubCat</th>\n",
       "    </tr>\n",
       "  </thead>\n",
       "  <tbody>\n",
       "    <tr>\n",
       "      <th>0</th>\n",
       "      <td>833502973204459520</td>\n",
       "      <td>Entertainment</td>\n",
       "    </tr>\n",
       "    <tr>\n",
       "      <th>1</th>\n",
       "      <td>1175105751846510592</td>\n",
       "      <td>Environmental</td>\n",
       "    </tr>\n",
       "    <tr>\n",
       "      <th>2</th>\n",
       "      <td>1178650857430274049</td>\n",
       "      <td>Human Rights</td>\n",
       "    </tr>\n",
       "    <tr>\n",
       "      <th>3</th>\n",
       "      <td>1178745116758020097</td>\n",
       "      <td>Social Stories</td>\n",
       "    </tr>\n",
       "    <tr>\n",
       "      <th>4</th>\n",
       "      <td>1178756273124335624</td>\n",
       "      <td>Obituary</td>\n",
       "    </tr>\n",
       "  </tbody>\n",
       "</table>\n",
       "</div>"
      ],
      "text/plain": [
       "                 RecID      NewsPubCat\n",
       "0   833502973204459520   Entertainment\n",
       "1  1175105751846510592   Environmental\n",
       "2  1178650857430274049    Human Rights\n",
       "3  1178745116758020097  Social Stories\n",
       "4  1178756273124335624        Obituary"
      ]
     },
     "execution_count": 32,
     "metadata": {},
     "output_type": "execute_result"
    }
   ],
   "source": [
    "df_HO1_Labels.head()"
   ]
  },
  {
   "cell_type": "code",
   "execution_count": 33,
   "id": "18adeb4a-a893-4e81-accd-b97537f876e2",
   "metadata": {},
   "outputs": [
    {
     "data": {
      "text/plain": [
       "407"
      ]
     },
     "execution_count": 33,
     "metadata": {},
     "output_type": "execute_result"
    }
   ],
   "source": [
    "len(df_HO1_Labels)"
   ]
  },
  {
   "cell_type": "code",
   "execution_count": 34,
   "id": "87d9facb-b3bb-4df6-aea2-b64406f8306d",
   "metadata": {},
   "outputs": [],
   "source": [
    "df_HO1_Labels.to_csv('df_HO1_Labels.csv')"
   ]
  },
  {
   "cell_type": "code",
   "execution_count": 35,
   "id": "cca38ad5-7988-43c5-abc1-d86a4bd6a7ed",
   "metadata": {},
   "outputs": [],
   "source": [
    "Labels_Targets = pd.read_csv('data/Labels_TargetsV2.csv')"
   ]
  },
  {
   "cell_type": "code",
   "execution_count": 36,
   "id": "368e5998-8034-4009-9e22-b0e7b81587ce",
   "metadata": {},
   "outputs": [
    {
     "data": {
      "text/html": [
       "<div>\n",
       "<style scoped>\n",
       "    .dataframe tbody tr th:only-of-type {\n",
       "        vertical-align: middle;\n",
       "    }\n",
       "\n",
       "    .dataframe tbody tr th {\n",
       "        vertical-align: top;\n",
       "    }\n",
       "\n",
       "    .dataframe thead th {\n",
       "        text-align: right;\n",
       "    }\n",
       "</style>\n",
       "<table border=\"1\" class=\"dataframe\">\n",
       "  <thead>\n",
       "    <tr style=\"text-align: right;\">\n",
       "      <th></th>\n",
       "      <th>Target</th>\n",
       "      <th>Label</th>\n",
       "    </tr>\n",
       "  </thead>\n",
       "  <tbody>\n",
       "    <tr>\n",
       "      <th>0</th>\n",
       "      <td>1</td>\n",
       "      <td>Business</td>\n",
       "    </tr>\n",
       "    <tr>\n",
       "      <th>1</th>\n",
       "      <td>2</td>\n",
       "      <td>Entertainment</td>\n",
       "    </tr>\n",
       "  </tbody>\n",
       "</table>\n",
       "</div>"
      ],
      "text/plain": [
       "   Target          Label\n",
       "0       1       Business\n",
       "1       2  Entertainment"
      ]
     },
     "execution_count": 36,
     "metadata": {},
     "output_type": "execute_result"
    }
   ],
   "source": [
    "Labels_Targets.head(2)"
   ]
  },
  {
   "cell_type": "code",
   "execution_count": 37,
   "id": "96e4413b-0fec-4a85-81a0-b319708abcd4",
   "metadata": {},
   "outputs": [],
   "source": [
    "Labels_Targets.rename(columns={'Label': 'NewsPubCat'}, inplace=True)"
   ]
  },
  {
   "cell_type": "code",
   "execution_count": 38,
   "id": "4127db0a-53fe-48a1-a0ac-2ba01a27297a",
   "metadata": {},
   "outputs": [],
   "source": [
    "df_HO1_Label_Target = pd.merge(df_HO1_Labels,Labels_Targets, on='NewsPubCat', how='left')"
   ]
  },
  {
   "cell_type": "code",
   "execution_count": 39,
   "id": "be68f96d-afef-4f57-8bfa-6e4efcaa1dbb",
   "metadata": {},
   "outputs": [
    {
     "data": {
      "text/html": [
       "<div>\n",
       "<style scoped>\n",
       "    .dataframe tbody tr th:only-of-type {\n",
       "        vertical-align: middle;\n",
       "    }\n",
       "\n",
       "    .dataframe tbody tr th {\n",
       "        vertical-align: top;\n",
       "    }\n",
       "\n",
       "    .dataframe thead th {\n",
       "        text-align: right;\n",
       "    }\n",
       "</style>\n",
       "<table border=\"1\" class=\"dataframe\">\n",
       "  <thead>\n",
       "    <tr style=\"text-align: right;\">\n",
       "      <th></th>\n",
       "      <th>RecID</th>\n",
       "      <th>NewsPubCat</th>\n",
       "      <th>Target</th>\n",
       "    </tr>\n",
       "  </thead>\n",
       "  <tbody>\n",
       "    <tr>\n",
       "      <th>0</th>\n",
       "      <td>833502973204459520</td>\n",
       "      <td>Entertainment</td>\n",
       "      <td>2</td>\n",
       "    </tr>\n",
       "    <tr>\n",
       "      <th>1</th>\n",
       "      <td>1175105751846510592</td>\n",
       "      <td>Environmental</td>\n",
       "      <td>3</td>\n",
       "    </tr>\n",
       "    <tr>\n",
       "      <th>2</th>\n",
       "      <td>1178650857430274049</td>\n",
       "      <td>Human Rights</td>\n",
       "      <td>5</td>\n",
       "    </tr>\n",
       "    <tr>\n",
       "      <th>3</th>\n",
       "      <td>1178745116758020097</td>\n",
       "      <td>Social Stories</td>\n",
       "      <td>10</td>\n",
       "    </tr>\n",
       "    <tr>\n",
       "      <th>4</th>\n",
       "      <td>1178756273124335624</td>\n",
       "      <td>Obituary</td>\n",
       "      <td>9</td>\n",
       "    </tr>\n",
       "    <tr>\n",
       "      <th>...</th>\n",
       "      <td>...</td>\n",
       "      <td>...</td>\n",
       "      <td>...</td>\n",
       "    </tr>\n",
       "    <tr>\n",
       "      <th>402</th>\n",
       "      <td>1222872177604775937</td>\n",
       "      <td>Politics</td>\n",
       "      <td>6</td>\n",
       "    </tr>\n",
       "    <tr>\n",
       "      <th>403</th>\n",
       "      <td>1222910064236744704</td>\n",
       "      <td>Politics</td>\n",
       "      <td>6</td>\n",
       "    </tr>\n",
       "    <tr>\n",
       "      <th>404</th>\n",
       "      <td>1222952347548164098</td>\n",
       "      <td>Politics</td>\n",
       "      <td>6</td>\n",
       "    </tr>\n",
       "    <tr>\n",
       "      <th>405</th>\n",
       "      <td>1223302445889150976</td>\n",
       "      <td>Politics</td>\n",
       "      <td>6</td>\n",
       "    </tr>\n",
       "    <tr>\n",
       "      <th>406</th>\n",
       "      <td>1223365339494453248</td>\n",
       "      <td>Politics</td>\n",
       "      <td>6</td>\n",
       "    </tr>\n",
       "  </tbody>\n",
       "</table>\n",
       "<p>407 rows × 3 columns</p>\n",
       "</div>"
      ],
      "text/plain": [
       "                   RecID      NewsPubCat  Target\n",
       "0     833502973204459520   Entertainment       2\n",
       "1    1175105751846510592   Environmental       3\n",
       "2    1178650857430274049    Human Rights       5\n",
       "3    1178745116758020097  Social Stories      10\n",
       "4    1178756273124335624        Obituary       9\n",
       "..                   ...             ...     ...\n",
       "402  1222872177604775937        Politics       6\n",
       "403  1222910064236744704        Politics       6\n",
       "404  1222952347548164098        Politics       6\n",
       "405  1223302445889150976        Politics       6\n",
       "406  1223365339494453248        Politics       6\n",
       "\n",
       "[407 rows x 3 columns]"
      ]
     },
     "execution_count": 39,
     "metadata": {},
     "output_type": "execute_result"
    }
   ],
   "source": [
    "df_HO1_Label_Target"
   ]
  },
  {
   "cell_type": "code",
   "execution_count": 40,
   "id": "0c1dec1f-0e65-40e9-b7cf-3f6a97d77431",
   "metadata": {},
   "outputs": [],
   "source": [
    "df_HO1_Label_Target.rename(columns={'NewsPubCat': 'HO1Label'}, inplace=True)"
   ]
  },
  {
   "cell_type": "code",
   "execution_count": 41,
   "id": "309f969d-d7e0-40f9-b55b-81523835d5d0",
   "metadata": {},
   "outputs": [],
   "source": [
    "df_HO1_Label_Target['Target'] = df_HO1_Label_Target['Target'].astype('Int64')\n",
    "df_HO1_Label_Target.rename(columns={'Target': 'HO1Target'}, inplace=True)"
   ]
  },
  {
   "cell_type": "code",
   "execution_count": 42,
   "id": "c6aaca13-8f2c-4aa7-b4a0-ab377342e7ed",
   "metadata": {},
   "outputs": [
    {
     "data": {
      "text/html": [
       "<div>\n",
       "<style scoped>\n",
       "    .dataframe tbody tr th:only-of-type {\n",
       "        vertical-align: middle;\n",
       "    }\n",
       "\n",
       "    .dataframe tbody tr th {\n",
       "        vertical-align: top;\n",
       "    }\n",
       "\n",
       "    .dataframe thead th {\n",
       "        text-align: right;\n",
       "    }\n",
       "</style>\n",
       "<table border=\"1\" class=\"dataframe\">\n",
       "  <thead>\n",
       "    <tr style=\"text-align: right;\">\n",
       "      <th></th>\n",
       "      <th>RecID</th>\n",
       "      <th>HO1Label</th>\n",
       "      <th>HO1Target</th>\n",
       "    </tr>\n",
       "  </thead>\n",
       "  <tbody>\n",
       "    <tr>\n",
       "      <th>0</th>\n",
       "      <td>833502973204459520</td>\n",
       "      <td>Entertainment</td>\n",
       "      <td>2</td>\n",
       "    </tr>\n",
       "    <tr>\n",
       "      <th>1</th>\n",
       "      <td>1175105751846510592</td>\n",
       "      <td>Environmental</td>\n",
       "      <td>3</td>\n",
       "    </tr>\n",
       "  </tbody>\n",
       "</table>\n",
       "</div>"
      ],
      "text/plain": [
       "                 RecID       HO1Label  HO1Target\n",
       "0   833502973204459520  Entertainment          2\n",
       "1  1175105751846510592  Environmental          3"
      ]
     },
     "execution_count": 42,
     "metadata": {},
     "output_type": "execute_result"
    }
   ],
   "source": [
    "df_HO1_Label_Target.head(2)"
   ]
  },
  {
   "cell_type": "code",
   "execution_count": 68,
   "id": "9e243445-6c14-4030-b4a8-46e81440a973",
   "metadata": {},
   "outputs": [],
   "source": [
    "df_HO1_Label_Target.to_csv('data/GTxM_Pass2/JatoHO1_Labels.csv')"
   ]
  },
  {
   "cell_type": "markdown",
   "id": "3b8ea784-5ecb-4f52-9221-ba7c384ff7dc",
   "metadata": {
    "jp-MarkdownHeadingCollapsed": true,
    "tags": []
   },
   "source": [
    "### Get Krippendorff's Alpha between HO1 and GTxM Classifier (the accepted XLNet/BERT subset only)"
   ]
  },
  {
   "cell_type": "code",
   "execution_count": 43,
   "id": "e3702a32-69e4-4601-b80f-cf220fd2bb7f",
   "metadata": {},
   "outputs": [
    {
     "data": {
      "text/html": [
       "<div>\n",
       "<style scoped>\n",
       "    .dataframe tbody tr th:only-of-type {\n",
       "        vertical-align: middle;\n",
       "    }\n",
       "\n",
       "    .dataframe tbody tr th {\n",
       "        vertical-align: top;\n",
       "    }\n",
       "\n",
       "    .dataframe thead th {\n",
       "        text-align: right;\n",
       "    }\n",
       "</style>\n",
       "<table border=\"1\" class=\"dataframe\">\n",
       "  <thead>\n",
       "    <tr style=\"text-align: right;\">\n",
       "      <th></th>\n",
       "      <th>RecID</th>\n",
       "      <th>Label</th>\n",
       "      <th>Target</th>\n",
       "      <th>SVMPred</th>\n",
       "      <th>BERTPred</th>\n",
       "      <th>XLNetPred</th>\n",
       "    </tr>\n",
       "  </thead>\n",
       "  <tbody>\n",
       "    <tr>\n",
       "      <th>1</th>\n",
       "      <td>1222952347548164098</td>\n",
       "      <td>Politics</td>\n",
       "      <td>6</td>\n",
       "      <td>6</td>\n",
       "      <td>6</td>\n",
       "      <td>6</td>\n",
       "    </tr>\n",
       "    <tr>\n",
       "      <th>2</th>\n",
       "      <td>1222288749813518339</td>\n",
       "      <td>Politics</td>\n",
       "      <td>6</td>\n",
       "      <td>6</td>\n",
       "      <td>6</td>\n",
       "      <td>6</td>\n",
       "    </tr>\n",
       "  </tbody>\n",
       "</table>\n",
       "</div>"
      ],
      "text/plain": [
       "                 RecID     Label Target SVMPred BERTPred XLNetPred\n",
       "1  1222952347548164098  Politics      6       6        6         6\n",
       "2  1222288749813518339  Politics      6       6        6         6"
      ]
     },
     "execution_count": 43,
     "metadata": {},
     "output_type": "execute_result"
    }
   ],
   "source": [
    "df_AgreeXLNetBERT.head(2)"
   ]
  },
  {
   "cell_type": "code",
   "execution_count": 44,
   "id": "d8de9970-cef4-4539-97fc-9b3349152884",
   "metadata": {},
   "outputs": [
    {
     "data": {
      "text/plain": [
       "266"
      ]
     },
     "execution_count": 44,
     "metadata": {},
     "output_type": "execute_result"
    }
   ],
   "source": [
    "len(df_AgreeXLNetBERT)"
   ]
  },
  {
   "cell_type": "code",
   "execution_count": 45,
   "id": "8a72432f-5f06-4b25-be8f-6274db4fb012",
   "metadata": {},
   "outputs": [
    {
     "name": "stderr",
     "output_type": "stream",
     "text": [
      "C:\\Users\\kazeem\\anaconda3\\envs\\py38\\lib\\site-packages\\pandas\\core\\frame.py:4901: SettingWithCopyWarning: \n",
      "A value is trying to be set on a copy of a slice from a DataFrame\n",
      "\n",
      "See the caveats in the documentation: https://pandas.pydata.org/pandas-docs/stable/user_guide/indexing.html#returning-a-view-versus-a-copy\n",
      "  return super().drop(\n"
     ]
    }
   ],
   "source": [
    "df_AgreeXLNetBERT.drop(['Label','Target','SVMPred','BERTPred'], axis=1, inplace=True)"
   ]
  },
  {
   "cell_type": "code",
   "execution_count": 46,
   "id": "c069a3af-b294-4d93-a052-be1b88c2a7e3",
   "metadata": {},
   "outputs": [
    {
     "name": "stderr",
     "output_type": "stream",
     "text": [
      "C:\\Users\\kazeem\\anaconda3\\envs\\py38\\lib\\site-packages\\pandas\\core\\frame.py:5034: SettingWithCopyWarning: \n",
      "A value is trying to be set on a copy of a slice from a DataFrame\n",
      "\n",
      "See the caveats in the documentation: https://pandas.pydata.org/pandas-docs/stable/user_guide/indexing.html#returning-a-view-versus-a-copy\n",
      "  return super().rename(\n"
     ]
    }
   ],
   "source": [
    "df_AgreeXLNetBERT.rename(columns={'XLNetPred': 'GClfTarget'}, inplace=True)"
   ]
  },
  {
   "cell_type": "code",
   "execution_count": 47,
   "id": "aa8e5836-06d4-441c-81ae-f8f72744a0ae",
   "metadata": {},
   "outputs": [
    {
     "data": {
      "text/html": [
       "<div>\n",
       "<style scoped>\n",
       "    .dataframe tbody tr th:only-of-type {\n",
       "        vertical-align: middle;\n",
       "    }\n",
       "\n",
       "    .dataframe tbody tr th {\n",
       "        vertical-align: top;\n",
       "    }\n",
       "\n",
       "    .dataframe thead th {\n",
       "        text-align: right;\n",
       "    }\n",
       "</style>\n",
       "<table border=\"1\" class=\"dataframe\">\n",
       "  <thead>\n",
       "    <tr style=\"text-align: right;\">\n",
       "      <th></th>\n",
       "      <th>RecID</th>\n",
       "      <th>GClfTarget</th>\n",
       "    </tr>\n",
       "  </thead>\n",
       "  <tbody>\n",
       "    <tr>\n",
       "      <th>1</th>\n",
       "      <td>1222952347548164098</td>\n",
       "      <td>6</td>\n",
       "    </tr>\n",
       "    <tr>\n",
       "      <th>2</th>\n",
       "      <td>1222288749813518339</td>\n",
       "      <td>6</td>\n",
       "    </tr>\n",
       "  </tbody>\n",
       "</table>\n",
       "</div>"
      ],
      "text/plain": [
       "                 RecID GClfTarget\n",
       "1  1222952347548164098          6\n",
       "2  1222288749813518339          6"
      ]
     },
     "execution_count": 47,
     "metadata": {},
     "output_type": "execute_result"
    }
   ],
   "source": [
    "df_AgreeXLNetBERT.head(2)"
   ]
  },
  {
   "cell_type": "code",
   "execution_count": 48,
   "id": "32bdde67-02a8-4e3e-9227-9d069a86291e",
   "metadata": {},
   "outputs": [],
   "source": [
    "df_HO1_GClf = pd.merge(df_HO1_Label_Target,df_AgreeXLNetBERT, on='RecID', how='left')"
   ]
  },
  {
   "cell_type": "code",
   "execution_count": 49,
   "id": "ae93d71e-318b-4e45-99eb-3f755793cbc1",
   "metadata": {},
   "outputs": [
    {
     "data": {
      "text/html": [
       "<div>\n",
       "<style scoped>\n",
       "    .dataframe tbody tr th:only-of-type {\n",
       "        vertical-align: middle;\n",
       "    }\n",
       "\n",
       "    .dataframe tbody tr th {\n",
       "        vertical-align: top;\n",
       "    }\n",
       "\n",
       "    .dataframe thead th {\n",
       "        text-align: right;\n",
       "    }\n",
       "</style>\n",
       "<table border=\"1\" class=\"dataframe\">\n",
       "  <thead>\n",
       "    <tr style=\"text-align: right;\">\n",
       "      <th></th>\n",
       "      <th>RecID</th>\n",
       "      <th>HO1Label</th>\n",
       "      <th>HO1Target</th>\n",
       "      <th>GClfTarget</th>\n",
       "    </tr>\n",
       "  </thead>\n",
       "  <tbody>\n",
       "    <tr>\n",
       "      <th>0</th>\n",
       "      <td>833502973204459520</td>\n",
       "      <td>Entertainment</td>\n",
       "      <td>2</td>\n",
       "      <td>9</td>\n",
       "    </tr>\n",
       "    <tr>\n",
       "      <th>1</th>\n",
       "      <td>1175105751846510592</td>\n",
       "      <td>Environmental</td>\n",
       "      <td>3</td>\n",
       "      <td>1</td>\n",
       "    </tr>\n",
       "    <tr>\n",
       "      <th>2</th>\n",
       "      <td>1178650857430274049</td>\n",
       "      <td>Human Rights</td>\n",
       "      <td>5</td>\n",
       "      <td>2</td>\n",
       "    </tr>\n",
       "    <tr>\n",
       "      <th>3</th>\n",
       "      <td>1178745116758020097</td>\n",
       "      <td>Social Stories</td>\n",
       "      <td>10</td>\n",
       "      <td>NaN</td>\n",
       "    </tr>\n",
       "    <tr>\n",
       "      <th>4</th>\n",
       "      <td>1178756273124335624</td>\n",
       "      <td>Obituary</td>\n",
       "      <td>9</td>\n",
       "      <td>9</td>\n",
       "    </tr>\n",
       "    <tr>\n",
       "      <th>...</th>\n",
       "      <td>...</td>\n",
       "      <td>...</td>\n",
       "      <td>...</td>\n",
       "      <td>...</td>\n",
       "    </tr>\n",
       "    <tr>\n",
       "      <th>402</th>\n",
       "      <td>1222872177604775937</td>\n",
       "      <td>Politics</td>\n",
       "      <td>6</td>\n",
       "      <td>6</td>\n",
       "    </tr>\n",
       "    <tr>\n",
       "      <th>403</th>\n",
       "      <td>1222910064236744704</td>\n",
       "      <td>Politics</td>\n",
       "      <td>6</td>\n",
       "      <td>6</td>\n",
       "    </tr>\n",
       "    <tr>\n",
       "      <th>404</th>\n",
       "      <td>1222952347548164098</td>\n",
       "      <td>Politics</td>\n",
       "      <td>6</td>\n",
       "      <td>6</td>\n",
       "    </tr>\n",
       "    <tr>\n",
       "      <th>405</th>\n",
       "      <td>1223302445889150976</td>\n",
       "      <td>Politics</td>\n",
       "      <td>6</td>\n",
       "      <td>NaN</td>\n",
       "    </tr>\n",
       "    <tr>\n",
       "      <th>406</th>\n",
       "      <td>1223365339494453248</td>\n",
       "      <td>Politics</td>\n",
       "      <td>6</td>\n",
       "      <td>NaN</td>\n",
       "    </tr>\n",
       "  </tbody>\n",
       "</table>\n",
       "<p>407 rows × 4 columns</p>\n",
       "</div>"
      ],
      "text/plain": [
       "                   RecID        HO1Label  HO1Target GClfTarget\n",
       "0     833502973204459520   Entertainment          2          9\n",
       "1    1175105751846510592   Environmental          3          1\n",
       "2    1178650857430274049    Human Rights          5          2\n",
       "3    1178745116758020097  Social Stories         10        NaN\n",
       "4    1178756273124335624        Obituary          9          9\n",
       "..                   ...             ...        ...        ...\n",
       "402  1222872177604775937        Politics          6          6\n",
       "403  1222910064236744704        Politics          6          6\n",
       "404  1222952347548164098        Politics          6          6\n",
       "405  1223302445889150976        Politics          6        NaN\n",
       "406  1223365339494453248        Politics          6        NaN\n",
       "\n",
       "[407 rows x 4 columns]"
      ]
     },
     "execution_count": 49,
     "metadata": {},
     "output_type": "execute_result"
    }
   ],
   "source": [
    "df_HO1_GClf"
   ]
  },
  {
   "cell_type": "code",
   "execution_count": 50,
   "id": "7d868879-ffec-4a43-9eac-69f2908a953c",
   "metadata": {},
   "outputs": [],
   "source": [
    "df_HO1_GClf_Pred = df_HO1_GClf[(df_HO1_GClf.GClfTarget.notna())]"
   ]
  },
  {
   "cell_type": "code",
   "execution_count": 51,
   "id": "3caf0ca0-93e5-4420-b1c5-4ab6b1839aeb",
   "metadata": {},
   "outputs": [],
   "source": [
    "HO1Pred = np.stack(df_HO1_GClf_Pred['HO1Target'].astype(\"string\"))\n",
    "GClfPred = np.stack(df_HO1_GClf_Pred['GClfTarget'].astype(\"string\"))"
   ]
  },
  {
   "cell_type": "code",
   "execution_count": 52,
   "id": "2b367cf7-5081-42be-bef7-cd196ab64958",
   "metadata": {},
   "outputs": [
    {
     "data": {
      "text/plain": [
       "0.6052469070079427"
      ]
     },
     "execution_count": 52,
     "metadata": {},
     "output_type": "execute_result"
    }
   ],
   "source": [
    "missing = '0'\n",
    "arr = np.array((HO1Pred,GClfPred))\n",
    "alpha3 = krippendorff_alpha(arr, nominal_metric, missing_items=missing)\n",
    "alpha3"
   ]
  },
  {
   "cell_type": "code",
   "execution_count": 53,
   "id": "da4c757d-57d9-4619-95b1-12614184447e",
   "metadata": {},
   "outputs": [],
   "source": [
    "df_HO1_GClf_Pred.to_csv('df_HO1_GClf_Pred.csv')"
   ]
  },
  {
   "cell_type": "code",
   "execution_count": 54,
   "id": "fb3369ab-41bf-4156-b932-d350559cc88f",
   "metadata": {},
   "outputs": [],
   "source": [
    "df_HO1_GClf_GTD = df_HO1_GClf[(df_HO1_GClf.GClfTarget.astype(\"string\")==df_HO1_GClf.HO1Target.astype(\"string\"))]"
   ]
  },
  {
   "cell_type": "code",
   "execution_count": 55,
   "id": "ada3bd63-0205-48ce-aa9c-5755a91d309f",
   "metadata": {},
   "outputs": [
    {
     "data": {
      "text/plain": [
       "156"
      ]
     },
     "execution_count": 55,
     "metadata": {},
     "output_type": "execute_result"
    }
   ],
   "source": [
    "len(df_HO1_GClf_GTD)"
   ]
  },
  {
   "cell_type": "code",
   "execution_count": 56,
   "id": "a0dc09ec-ce03-44fe-9844-3c4b8c40b83d",
   "metadata": {},
   "outputs": [],
   "source": [
    "df_HO1_To_HO2 = df_HO1_GClf[(df_HO1_GClf.GClfTarget.isna()) | (df_HO1_GClf.GClfTarget.astype(\"string\")!=df_HO1_GClf.HO1Target.astype(\"string\"))]"
   ]
  },
  {
   "cell_type": "code",
   "execution_count": 57,
   "id": "a4fda540-c32a-4a30-840f-2a97225637dc",
   "metadata": {},
   "outputs": [
    {
     "data": {
      "text/plain": [
       "251"
      ]
     },
     "execution_count": 57,
     "metadata": {},
     "output_type": "execute_result"
    }
   ],
   "source": [
    "len(df_HO1_To_HO2)"
   ]
  },
  {
   "cell_type": "code",
   "execution_count": 58,
   "id": "aec789b4-5e24-4d67-b5e4-7db07729ea5d",
   "metadata": {},
   "outputs": [
    {
     "data": {
      "text/html": [
       "<div>\n",
       "<style scoped>\n",
       "    .dataframe tbody tr th:only-of-type {\n",
       "        vertical-align: middle;\n",
       "    }\n",
       "\n",
       "    .dataframe tbody tr th {\n",
       "        vertical-align: top;\n",
       "    }\n",
       "\n",
       "    .dataframe thead th {\n",
       "        text-align: right;\n",
       "    }\n",
       "</style>\n",
       "<table border=\"1\" class=\"dataframe\">\n",
       "  <thead>\n",
       "    <tr style=\"text-align: right;\">\n",
       "      <th></th>\n",
       "      <th>RecID</th>\n",
       "      <th>HO1Label</th>\n",
       "      <th>HO1Target</th>\n",
       "      <th>GClfTarget</th>\n",
       "    </tr>\n",
       "  </thead>\n",
       "  <tbody>\n",
       "    <tr>\n",
       "      <th>0</th>\n",
       "      <td>833502973204459520</td>\n",
       "      <td>Entertainment</td>\n",
       "      <td>2</td>\n",
       "      <td>9</td>\n",
       "    </tr>\n",
       "    <tr>\n",
       "      <th>1</th>\n",
       "      <td>1175105751846510592</td>\n",
       "      <td>Environmental</td>\n",
       "      <td>3</td>\n",
       "      <td>1</td>\n",
       "    </tr>\n",
       "  </tbody>\n",
       "</table>\n",
       "</div>"
      ],
      "text/plain": [
       "                 RecID       HO1Label  HO1Target GClfTarget\n",
       "0   833502973204459520  Entertainment          2          9\n",
       "1  1175105751846510592  Environmental          3          1"
      ]
     },
     "execution_count": 58,
     "metadata": {},
     "output_type": "execute_result"
    }
   ],
   "source": [
    "df_HO1_To_HO2.head(2)"
   ]
  },
  {
   "cell_type": "code",
   "execution_count": 59,
   "id": "cda1853e-2431-4dd8-98fe-23c4c5b0f8a8",
   "metadata": {},
   "outputs": [],
   "source": [
    "# Use the RecIDs in this file to extract JatoMaster from MasterTokens in SQL-SERVER and save into data/GTxM_Pass2/\n",
    "df_HO1_To_HO2.to_csv('data/GTxM_Pass2/df_HO1_To_HO2.csv', index=False)"
   ]
  },
  {
   "cell_type": "markdown",
   "id": "98a7dd34-c75c-456d-a883-ed883041de1c",
   "metadata": {
    "jp-MarkdownHeadingCollapsed": true,
    "tags": []
   },
   "source": [
    "### Acquire new GTD from HO1 and GClf agreement"
   ]
  },
  {
   "cell_type": "code",
   "execution_count": 61,
   "id": "2573f14f-036e-4981-b08d-09dd5e5365a3",
   "metadata": {},
   "outputs": [
    {
     "data": {
      "text/html": [
       "<div>\n",
       "<style scoped>\n",
       "    .dataframe tbody tr th:only-of-type {\n",
       "        vertical-align: middle;\n",
       "    }\n",
       "\n",
       "    .dataframe tbody tr th {\n",
       "        vertical-align: top;\n",
       "    }\n",
       "\n",
       "    .dataframe thead th {\n",
       "        text-align: right;\n",
       "    }\n",
       "</style>\n",
       "<table border=\"1\" class=\"dataframe\">\n",
       "  <thead>\n",
       "    <tr style=\"text-align: right;\">\n",
       "      <th></th>\n",
       "      <th>RecID</th>\n",
       "      <th>HO1Label</th>\n",
       "      <th>HO1Target</th>\n",
       "      <th>GClfTarget</th>\n",
       "    </tr>\n",
       "  </thead>\n",
       "  <tbody>\n",
       "    <tr>\n",
       "      <th>4</th>\n",
       "      <td>1178756273124335624</td>\n",
       "      <td>Obituary</td>\n",
       "      <td>9</td>\n",
       "      <td>9</td>\n",
       "    </tr>\n",
       "    <tr>\n",
       "      <th>5</th>\n",
       "      <td>1178805608331526145</td>\n",
       "      <td>Politics</td>\n",
       "      <td>6</td>\n",
       "      <td>6</td>\n",
       "    </tr>\n",
       "    <tr>\n",
       "      <th>11</th>\n",
       "      <td>1179746754058739712</td>\n",
       "      <td>Politics</td>\n",
       "      <td>6</td>\n",
       "      <td>6</td>\n",
       "    </tr>\n",
       "    <tr>\n",
       "      <th>13</th>\n",
       "      <td>1180079141087055872</td>\n",
       "      <td>Politics</td>\n",
       "      <td>6</td>\n",
       "      <td>6</td>\n",
       "    </tr>\n",
       "    <tr>\n",
       "      <th>14</th>\n",
       "      <td>1180195222212562946</td>\n",
       "      <td>Politics</td>\n",
       "      <td>6</td>\n",
       "      <td>6</td>\n",
       "    </tr>\n",
       "    <tr>\n",
       "      <th>...</th>\n",
       "      <td>...</td>\n",
       "      <td>...</td>\n",
       "      <td>...</td>\n",
       "      <td>...</td>\n",
       "    </tr>\n",
       "    <tr>\n",
       "      <th>394</th>\n",
       "      <td>1222142443463663616</td>\n",
       "      <td>Politics</td>\n",
       "      <td>6</td>\n",
       "      <td>6</td>\n",
       "    </tr>\n",
       "    <tr>\n",
       "      <th>399</th>\n",
       "      <td>1222288749813518339</td>\n",
       "      <td>Politics</td>\n",
       "      <td>6</td>\n",
       "      <td>6</td>\n",
       "    </tr>\n",
       "    <tr>\n",
       "      <th>402</th>\n",
       "      <td>1222872177604775937</td>\n",
       "      <td>Politics</td>\n",
       "      <td>6</td>\n",
       "      <td>6</td>\n",
       "    </tr>\n",
       "    <tr>\n",
       "      <th>403</th>\n",
       "      <td>1222910064236744704</td>\n",
       "      <td>Politics</td>\n",
       "      <td>6</td>\n",
       "      <td>6</td>\n",
       "    </tr>\n",
       "    <tr>\n",
       "      <th>404</th>\n",
       "      <td>1222952347548164098</td>\n",
       "      <td>Politics</td>\n",
       "      <td>6</td>\n",
       "      <td>6</td>\n",
       "    </tr>\n",
       "  </tbody>\n",
       "</table>\n",
       "<p>156 rows × 4 columns</p>\n",
       "</div>"
      ],
      "text/plain": [
       "                   RecID  HO1Label  HO1Target GClfTarget\n",
       "4    1178756273124335624  Obituary          9          9\n",
       "5    1178805608331526145  Politics          6          6\n",
       "11   1179746754058739712  Politics          6          6\n",
       "13   1180079141087055872  Politics          6          6\n",
       "14   1180195222212562946  Politics          6          6\n",
       "..                   ...       ...        ...        ...\n",
       "394  1222142443463663616  Politics          6          6\n",
       "399  1222288749813518339  Politics          6          6\n",
       "402  1222872177604775937  Politics          6          6\n",
       "403  1222910064236744704  Politics          6          6\n",
       "404  1222952347548164098  Politics          6          6\n",
       "\n",
       "[156 rows x 4 columns]"
      ]
     },
     "execution_count": 61,
     "metadata": {},
     "output_type": "execute_result"
    }
   ],
   "source": [
    "df_HO1_GClf_GTD"
   ]
  },
  {
   "cell_type": "code",
   "execution_count": 62,
   "id": "892104aa-4260-42ed-90a9-62794f1e6334",
   "metadata": {},
   "outputs": [
    {
     "name": "stderr",
     "output_type": "stream",
     "text": [
      "C:\\Users\\kazeem\\anaconda3\\envs\\py38\\lib\\site-packages\\pandas\\core\\frame.py:4901: SettingWithCopyWarning: \n",
      "A value is trying to be set on a copy of a slice from a DataFrame\n",
      "\n",
      "See the caveats in the documentation: https://pandas.pydata.org/pandas-docs/stable/user_guide/indexing.html#returning-a-view-versus-a-copy\n",
      "  return super().drop(\n",
      "C:\\Users\\kazeem\\anaconda3\\envs\\py38\\lib\\site-packages\\pandas\\core\\frame.py:5034: SettingWithCopyWarning: \n",
      "A value is trying to be set on a copy of a slice from a DataFrame\n",
      "\n",
      "See the caveats in the documentation: https://pandas.pydata.org/pandas-docs/stable/user_guide/indexing.html#returning-a-view-versus-a-copy\n",
      "  return super().rename(\n"
     ]
    }
   ],
   "source": [
    "df_HO1_GClf_GTD.drop(['GClfTarget'], axis=1, inplace=True)\n",
    "df_HO1_GClf_GTD.rename(columns={'HO1Label': 'Label', 'HO1Target': 'Target'}, inplace=True)"
   ]
  },
  {
   "cell_type": "code",
   "execution_count": 63,
   "id": "4bdfb7e5-2ccc-4d49-898e-f2028a90179a",
   "metadata": {},
   "outputs": [
    {
     "data": {
      "text/html": [
       "<div>\n",
       "<style scoped>\n",
       "    .dataframe tbody tr th:only-of-type {\n",
       "        vertical-align: middle;\n",
       "    }\n",
       "\n",
       "    .dataframe tbody tr th {\n",
       "        vertical-align: top;\n",
       "    }\n",
       "\n",
       "    .dataframe thead th {\n",
       "        text-align: right;\n",
       "    }\n",
       "</style>\n",
       "<table border=\"1\" class=\"dataframe\">\n",
       "  <thead>\n",
       "    <tr style=\"text-align: right;\">\n",
       "      <th></th>\n",
       "      <th>RecID</th>\n",
       "      <th>Label</th>\n",
       "      <th>Target</th>\n",
       "    </tr>\n",
       "  </thead>\n",
       "  <tbody>\n",
       "    <tr>\n",
       "      <th>4</th>\n",
       "      <td>1178756273124335624</td>\n",
       "      <td>Obituary</td>\n",
       "      <td>9</td>\n",
       "    </tr>\n",
       "    <tr>\n",
       "      <th>5</th>\n",
       "      <td>1178805608331526145</td>\n",
       "      <td>Politics</td>\n",
       "      <td>6</td>\n",
       "    </tr>\n",
       "  </tbody>\n",
       "</table>\n",
       "</div>"
      ],
      "text/plain": [
       "                 RecID     Label  Target\n",
       "4  1178756273124335624  Obituary       9\n",
       "5  1178805608331526145  Politics       6"
      ]
     },
     "execution_count": 63,
     "metadata": {},
     "output_type": "execute_result"
    }
   ],
   "source": [
    "df_HO1_GClf_GTD.head(2)"
   ]
  },
  {
   "cell_type": "code",
   "execution_count": 110,
   "id": "19c785ff-3298-4352-b8f7-0643dc75147c",
   "metadata": {},
   "outputs": [],
   "source": [
    "df_HO1_GClf_GTD.to_csv('data/GTxM_Pass2/GTxM_Pass2_GTD_HO1_GClf.csv', index=False)"
   ]
  },
  {
   "cell_type": "markdown",
   "id": "fc495e75-8f84-4655-923b-1e558025fcc1",
   "metadata": {
    "tags": []
   },
   "source": [
    "### Generate JatoMaster for HO2 Labeling"
   ]
  },
  {
   "cell_type": "code",
   "execution_count": 64,
   "id": "82f7c35b-2c3e-4d32-b8d3-630fe53802b8",
   "metadata": {},
   "outputs": [],
   "source": [
    "df_HO2_RecID = df_HO1_To_HO2['RecID']"
   ]
  },
  {
   "cell_type": "code",
   "execution_count": 65,
   "id": "899d1306-6dcf-489b-b42c-b251acbf916c",
   "metadata": {},
   "outputs": [],
   "source": [
    "df_master_tokens = pd.read_csv('data/MasterTokens.csv', dtype='str')"
   ]
  },
  {
   "cell_type": "code",
   "execution_count": 66,
   "id": "90b3e0bb-6574-43ba-a73f-ee78e9ecf5c9",
   "metadata": {},
   "outputs": [],
   "source": [
    "df_jato_HO2_tokens = pd.merge(df_master_tokens,df_HO2_RecID, on='RecID')"
   ]
  },
  {
   "cell_type": "code",
   "execution_count": 67,
   "id": "4ac7971d-35e3-4ccc-8586-96f9b685acd9",
   "metadata": {},
   "outputs": [
    {
     "data": {
      "text/plain": [
       "251"
      ]
     },
     "execution_count": 67,
     "metadata": {},
     "output_type": "execute_result"
    }
   ],
   "source": [
    "len(df_jato_HO2_tokens)"
   ]
  },
  {
   "cell_type": "code",
   "execution_count": 68,
   "id": "2e6c4ea3-6d5f-4aea-bc75-4f3a91efdd28",
   "metadata": {},
   "outputs": [
    {
     "data": {
      "text/html": [
       "<div>\n",
       "<style scoped>\n",
       "    .dataframe tbody tr th:only-of-type {\n",
       "        vertical-align: middle;\n",
       "    }\n",
       "\n",
       "    .dataframe tbody tr th {\n",
       "        vertical-align: top;\n",
       "    }\n",
       "\n",
       "    .dataframe thead th {\n",
       "        text-align: right;\n",
       "    }\n",
       "</style>\n",
       "<table border=\"1\" class=\"dataframe\">\n",
       "  <thead>\n",
       "    <tr style=\"text-align: right;\">\n",
       "      <th></th>\n",
       "      <th>rowid</th>\n",
       "      <th>RecID</th>\n",
       "      <th>PubTitle</th>\n",
       "      <th>RecDoc</th>\n",
       "      <th>countSupTweets</th>\n",
       "      <th>smrHashtags</th>\n",
       "      <th>smrMentions</th>\n",
       "      <th>smrNER</th>\n",
       "      <th>smrNouns</th>\n",
       "      <th>smrVerbs</th>\n",
       "      <th>smrAdverbs</th>\n",
       "      <th>smrAdjectives</th>\n",
       "      <th>smrTopText</th>\n",
       "      <th>smrSummary</th>\n",
       "    </tr>\n",
       "  </thead>\n",
       "  <tbody>\n",
       "    <tr>\n",
       "      <th>0</th>\n",
       "      <td>63</td>\n",
       "      <td>833502973204459520</td>\n",
       "      <td>Ringo Starr: Abbey Road wasn't meant to be The...</td>\n",
       "      <td>Thanks for coming over man and playing  Great ...</td>\n",
       "      <td>13.0</td>\n",
       "      <td></td>\n",
       "      <td>ringostarrmusic</td>\n",
       "      <td>ringo paul fn fn fn fn fn fn fyifyifyifyifyify...</td>\n",
       "      <td>man bass peac love photo memori band music guy...</td>\n",
       "      <td>play love man love order live play love beat f...</td>\n",
       "      <td>togeth forev especi nearli</td>\n",
       "      <td>great great greatest happi love ador beauti wo...</td>\n",
       "      <td>Thanks for coming over man and playing  Great ...</td>\n",
       "      <td>Summarization skipped (text is 1000 characters...</td>\n",
       "    </tr>\n",
       "    <tr>\n",
       "      <th>1</th>\n",
       "      <td>437</td>\n",
       "      <td>1175105751846510592</td>\n",
       "      <td>Aarey protests: Supreme Court steps in to save...</td>\n",
       "      <td>We at #MMRC plant trees &amp;amp; build @MumbaiMet...</td>\n",
       "      <td>37.0</td>\n",
       "      <td>infrastructure climatechange shame saveaarey m...</td>\n",
       "      <td>cmomaharashtra ashwinibhide authackeray fayeds...</td>\n",
       "      <td>anuanc anoan ancan anoanian anian bkc midc kal...</td>\n",
       "      <td>plant tree cut tree suit citi tree tree wel an...</td>\n",
       "      <td>build build mitig plant plant geotag maintain ...</td>\n",
       "      <td>newli kindli late ahead kindli properli fulli ...</td>\n",
       "      <td>present futur local inhuman small depend truth...</td>\n",
       "      <td>We at #MMRC plant trees &amp;amp; build @MumbaiMet...</td>\n",
       "      <td>We at plant trees build also.\\nWe do need 2 cu...</td>\n",
       "    </tr>\n",
       "  </tbody>\n",
       "</table>\n",
       "</div>"
      ],
      "text/plain": [
       "  rowid                RecID  \\\n",
       "0    63   833502973204459520   \n",
       "1   437  1175105751846510592   \n",
       "\n",
       "                                            PubTitle  \\\n",
       "0  Ringo Starr: Abbey Road wasn't meant to be The...   \n",
       "1  Aarey protests: Supreme Court steps in to save...   \n",
       "\n",
       "                                              RecDoc countSupTweets  \\\n",
       "0  Thanks for coming over man and playing  Great ...           13.0   \n",
       "1  We at #MMRC plant trees &amp; build @MumbaiMet...           37.0   \n",
       "\n",
       "                                         smrHashtags  \\\n",
       "0                                                      \n",
       "1  infrastructure climatechange shame saveaarey m...   \n",
       "\n",
       "                                         smrMentions  \\\n",
       "0                                    ringostarrmusic   \n",
       "1  cmomaharashtra ashwinibhide authackeray fayeds...   \n",
       "\n",
       "                                              smrNER  \\\n",
       "0  ringo paul fn fn fn fn fn fn fyifyifyifyifyify...   \n",
       "1  anuanc anoan ancan anoanian anian bkc midc kal...   \n",
       "\n",
       "                                            smrNouns  \\\n",
       "0  man bass peac love photo memori band music guy...   \n",
       "1  plant tree cut tree suit citi tree tree wel an...   \n",
       "\n",
       "                                            smrVerbs  \\\n",
       "0  play love man love order live play love beat f...   \n",
       "1  build build mitig plant plant geotag maintain ...   \n",
       "\n",
       "                                          smrAdverbs  \\\n",
       "0                         togeth forev especi nearli   \n",
       "1  newli kindli late ahead kindli properli fulli ...   \n",
       "\n",
       "                                       smrAdjectives  \\\n",
       "0  great great greatest happi love ador beauti wo...   \n",
       "1  present futur local inhuman small depend truth...   \n",
       "\n",
       "                                          smrTopText  \\\n",
       "0  Thanks for coming over man and playing  Great ...   \n",
       "1  We at #MMRC plant trees &amp; build @MumbaiMet...   \n",
       "\n",
       "                                          smrSummary  \n",
       "0  Summarization skipped (text is 1000 characters...  \n",
       "1  We at plant trees build also.\\nWe do need 2 cu...  "
      ]
     },
     "execution_count": 68,
     "metadata": {},
     "output_type": "execute_result"
    }
   ],
   "source": [
    "df_jato_HO2_tokens.head(2)"
   ]
  },
  {
   "cell_type": "code",
   "execution_count": 69,
   "id": "0cff6709-56ef-42d3-bf8a-1337f358d3d5",
   "metadata": {},
   "outputs": [],
   "source": [
    "df_jato_HO2_tokens.drop(['smrAdverbs','smrAdjectives'], axis=1, inplace=True)"
   ]
  },
  {
   "cell_type": "code",
   "execution_count": 70,
   "id": "7d5ea597-72af-42c8-9e5f-7e996e8240dd",
   "metadata": {},
   "outputs": [],
   "source": [
    "df_jato_HO2_tokens['PubTitle'] = df_jato_HO2_tokens['PubTitle'].apply(removeSpCharLine)\n",
    "df_jato_HO2_tokens['RecDoc'] = df_jato_HO2_tokens['RecDoc'].apply(removeSpCharLine)\n",
    "df_jato_HO2_tokens['smrTopText'] = df_jato_HO2_tokens['smrTopText'].apply(removeSpCharLine)\n",
    "df_jato_HO2_tokens['smrSummary'] = df_jato_HO2_tokens['smrSummary'].apply(removeSpCharLine)"
   ]
  },
  {
   "cell_type": "code",
   "execution_count": 69,
   "id": "c53085ce-d551-4f44-9637-b279f4125db9",
   "metadata": {},
   "outputs": [],
   "source": [
    "# save the file to D:\\KOPro\\PhD\\Implementation\\SourceCode\\JatoPass2\\data -- \n",
    "df_jato_HO2_tokens.to_csv('D:/KOPro/PhD/Implementation/SourceCode/JatoPass2_HO2/data/JatoMaster.csv', index=False)"
   ]
  },
  {
   "cell_type": "markdown",
   "id": "7c2bf4f9-55f5-4c9f-a5e6-83dcca86e90a",
   "metadata": {
    "jp-MarkdownHeadingCollapsed": true,
    "tags": []
   },
   "source": [
    "### Generate JatoClassified for HO2"
   ]
  },
  {
   "cell_type": "code",
   "execution_count": 65,
   "id": "4fc380ad-9710-4c3a-9f1a-814ea4e94903",
   "metadata": {},
   "outputs": [],
   "source": [
    "df_JatoClf_Blank = pd.read_csv('D:/KOPro/PhD/Implementation/SourceCode/jatoPass2_HO2/data/JatoClassified_BlankCat.csv')"
   ]
  },
  {
   "cell_type": "code",
   "execution_count": 66,
   "id": "00c60bbe-de1c-467d-a089-eafcac38054d",
   "metadata": {},
   "outputs": [
    {
     "data": {
      "text/html": [
       "<div>\n",
       "<style scoped>\n",
       "    .dataframe tbody tr th:only-of-type {\n",
       "        vertical-align: middle;\n",
       "    }\n",
       "\n",
       "    .dataframe tbody tr th {\n",
       "        vertical-align: top;\n",
       "    }\n",
       "\n",
       "    .dataframe thead th {\n",
       "        text-align: right;\n",
       "    }\n",
       "</style>\n",
       "<table border=\"1\" class=\"dataframe\">\n",
       "  <thead>\n",
       "    <tr style=\"text-align: right;\">\n",
       "      <th></th>\n",
       "      <th>rowid</th>\n",
       "      <th>RecID</th>\n",
       "      <th>SavedDataTime</th>\n",
       "      <th>JatoCat</th>\n",
       "      <th>JatoSubCat</th>\n",
       "      <th>JatoCat2</th>\n",
       "      <th>JatoSubCat2</th>\n",
       "      <th>JatoCat3</th>\n",
       "      <th>JatoSubCat3</th>\n",
       "      <th>NewRecClass</th>\n",
       "      <th>GTCodes</th>\n",
       "      <th>NewsPubCat</th>\n",
       "    </tr>\n",
       "  </thead>\n",
       "  <tbody>\n",
       "    <tr>\n",
       "      <th>0</th>\n",
       "      <td>6</td>\n",
       "      <td>222818213392678912</td>\n",
       "      <td>2021:01:17 21:15:20</td>\n",
       "      <td>Political</td>\n",
       "      <td>Debate</td>\n",
       "      <td>NaN</td>\n",
       "      <td>NaN</td>\n",
       "      <td>NaN</td>\n",
       "      <td>NaN</td>\n",
       "      <td>NaN</td>\n",
       "      <td>NaN</td>\n",
       "      <td>Unknown</td>\n",
       "    </tr>\n",
       "    <tr>\n",
       "      <th>1</th>\n",
       "      <td>60</td>\n",
       "      <td>826262311560216578</td>\n",
       "      <td>2021:01:13 19:53:48</td>\n",
       "      <td>Political</td>\n",
       "      <td>Debate</td>\n",
       "      <td>NaN</td>\n",
       "      <td>NaN</td>\n",
       "      <td>NaN</td>\n",
       "      <td>NaN</td>\n",
       "      <td>NaN</td>\n",
       "      <td>NaN</td>\n",
       "      <td>Unknown</td>\n",
       "    </tr>\n",
       "  </tbody>\n",
       "</table>\n",
       "</div>"
      ],
      "text/plain": [
       "   rowid               RecID        SavedDataTime    JatoCat JatoSubCat  \\\n",
       "0      6  222818213392678912  2021:01:17 21:15:20  Political     Debate   \n",
       "1     60  826262311560216578  2021:01:13 19:53:48  Political     Debate   \n",
       "\n",
       "  JatoCat2 JatoSubCat2 JatoCat3 JatoSubCat3  NewRecClass  GTCodes NewsPubCat  \n",
       "0      NaN         NaN      NaN         NaN          NaN      NaN    Unknown  \n",
       "1      NaN         NaN      NaN         NaN          NaN      NaN    Unknown  "
      ]
     },
     "execution_count": 66,
     "metadata": {},
     "output_type": "execute_result"
    }
   ],
   "source": [
    "df_JatoClf_Blank.head(2)"
   ]
  },
  {
   "cell_type": "code",
   "execution_count": 67,
   "id": "8245526a-fdad-45dc-950f-4f2b56410834",
   "metadata": {},
   "outputs": [
    {
     "data": {
      "text/plain": [
       "2385"
      ]
     },
     "execution_count": 67,
     "metadata": {},
     "output_type": "execute_result"
    }
   ],
   "source": [
    "len(df_JatoClf_Blank)"
   ]
  },
  {
   "cell_type": "code",
   "execution_count": 68,
   "id": "7dd167ca-6e5a-4c35-9bdb-145c29d03921",
   "metadata": {},
   "outputs": [],
   "source": [
    "df_JatoCl_Pass0_in_2 = pd.read_csv('data/GTxM_Pass0/JatoClassified_HO2_Pass0_in_Pass2_task.csv')"
   ]
  },
  {
   "cell_type": "code",
   "execution_count": 69,
   "id": "4fc3a8b6-f0d5-486c-ad91-8160fe57c02b",
   "metadata": {},
   "outputs": [
    {
     "data": {
      "text/html": [
       "<div>\n",
       "<style scoped>\n",
       "    .dataframe tbody tr th:only-of-type {\n",
       "        vertical-align: middle;\n",
       "    }\n",
       "\n",
       "    .dataframe tbody tr th {\n",
       "        vertical-align: top;\n",
       "    }\n",
       "\n",
       "    .dataframe thead th {\n",
       "        text-align: right;\n",
       "    }\n",
       "</style>\n",
       "<table border=\"1\" class=\"dataframe\">\n",
       "  <thead>\n",
       "    <tr style=\"text-align: right;\">\n",
       "      <th></th>\n",
       "      <th>rowid</th>\n",
       "      <th>RecID</th>\n",
       "      <th>SavedDataTime</th>\n",
       "      <th>JatoCat</th>\n",
       "      <th>JatoSubCat</th>\n",
       "      <th>JatoCat2</th>\n",
       "      <th>JatoSubCat2</th>\n",
       "      <th>JatoCat3</th>\n",
       "      <th>JatoSubCat3</th>\n",
       "      <th>NewRecClass</th>\n",
       "      <th>GTCodes</th>\n",
       "      <th>NewsPubCat</th>\n",
       "    </tr>\n",
       "  </thead>\n",
       "  <tbody>\n",
       "    <tr>\n",
       "      <th>0</th>\n",
       "      <td>747</td>\n",
       "      <td>1181547287014789120</td>\n",
       "      <td>2021:02:06 10:19:04</td>\n",
       "      <td>Business</td>\n",
       "      <td>Complaint</td>\n",
       "      <td>Business</td>\n",
       "      <td>Technology</td>\n",
       "      <td>NaN</td>\n",
       "      <td>NaN</td>\n",
       "      <td>NaN</td>\n",
       "      <td>NaN</td>\n",
       "      <td>Politics</td>\n",
       "    </tr>\n",
       "    <tr>\n",
       "      <th>1</th>\n",
       "      <td>797</td>\n",
       "      <td>1181864136155828224</td>\n",
       "      <td>2021:02:06 10:19:04</td>\n",
       "      <td>Conversational</td>\n",
       "      <td>Negative</td>\n",
       "      <td>NaN</td>\n",
       "      <td>NaN</td>\n",
       "      <td>NaN</td>\n",
       "      <td>NaN</td>\n",
       "      <td>NaN</td>\n",
       "      <td>NaN</td>\n",
       "      <td>Unknown</td>\n",
       "    </tr>\n",
       "  </tbody>\n",
       "</table>\n",
       "</div>"
      ],
      "text/plain": [
       "   rowid                RecID        SavedDataTime         JatoCat JatoSubCat  \\\n",
       "0    747  1181547287014789120  2021:02:06 10:19:04        Business  Complaint   \n",
       "1    797  1181864136155828224  2021:02:06 10:19:04  Conversational   Negative   \n",
       "\n",
       "   JatoCat2 JatoSubCat2 JatoCat3 JatoSubCat3 NewRecClass  GTCodes NewsPubCat  \n",
       "0  Business  Technology      NaN         NaN         NaN      NaN   Politics  \n",
       "1       NaN         NaN      NaN         NaN         NaN      NaN    Unknown  "
      ]
     },
     "execution_count": 69,
     "metadata": {},
     "output_type": "execute_result"
    }
   ],
   "source": [
    "df_JatoCl_Pass0_in_2.head(2)"
   ]
  },
  {
   "cell_type": "code",
   "execution_count": 70,
   "id": "731f95ce-d8a0-4576-aec4-b52b1c402622",
   "metadata": {},
   "outputs": [
    {
     "data": {
      "text/plain": [
       "36"
      ]
     },
     "execution_count": 70,
     "metadata": {},
     "output_type": "execute_result"
    }
   ],
   "source": [
    "len(df_JatoCl_Pass0_in_2)"
   ]
  },
  {
   "cell_type": "code",
   "execution_count": 71,
   "id": "3a174654-fc4a-40a7-a3b0-b194c14f5c2a",
   "metadata": {},
   "outputs": [],
   "source": [
    "df_JatoCl_Pass2_dedup = pd.concat([df_JatoClf_Blank,df_JatoCl_Pass0_in_2], axis=0)"
   ]
  },
  {
   "cell_type": "code",
   "execution_count": 72,
   "id": "63bdf6a1-1f37-4033-8153-dbf191f28716",
   "metadata": {},
   "outputs": [
    {
     "data": {
      "text/plain": [
       "2421"
      ]
     },
     "execution_count": 72,
     "metadata": {},
     "output_type": "execute_result"
    }
   ],
   "source": [
    "len(df_JatoCl_Pass2_dedup)"
   ]
  },
  {
   "cell_type": "code",
   "execution_count": 73,
   "id": "576c54a4-ba2e-4d6a-afd4-12c8fd8ea504",
   "metadata": {},
   "outputs": [],
   "source": [
    "df_JatoCl_Pass2_dedup.drop_duplicates(subset='RecID', keep=False, inplace=True)"
   ]
  },
  {
   "cell_type": "code",
   "execution_count": 74,
   "id": "b1ddbd80-c851-4779-bd9f-ec8a52445007",
   "metadata": {},
   "outputs": [
    {
     "data": {
      "text/plain": [
       "2349"
      ]
     },
     "execution_count": 74,
     "metadata": {},
     "output_type": "execute_result"
    }
   ],
   "source": [
    "len(df_JatoCl_Pass2_dedup)"
   ]
  },
  {
   "cell_type": "code",
   "execution_count": 75,
   "id": "450b6788-e952-465b-b360-df0ecdbc6ce4",
   "metadata": {},
   "outputs": [],
   "source": [
    "# re-concatenate the datasets to add the new subset only\n",
    "df_JatoCl_Pass2 = pd.concat([df_JatoCl_Pass2_dedup,df_JatoCl_Pass0_in_2], axis=0)"
   ]
  },
  {
   "cell_type": "code",
   "execution_count": 76,
   "id": "fe1dbbf5-c310-4c4a-839d-85e1caf8a83f",
   "metadata": {},
   "outputs": [
    {
     "data": {
      "text/html": [
       "<div>\n",
       "<style scoped>\n",
       "    .dataframe tbody tr th:only-of-type {\n",
       "        vertical-align: middle;\n",
       "    }\n",
       "\n",
       "    .dataframe tbody tr th {\n",
       "        vertical-align: top;\n",
       "    }\n",
       "\n",
       "    .dataframe thead th {\n",
       "        text-align: right;\n",
       "    }\n",
       "</style>\n",
       "<table border=\"1\" class=\"dataframe\">\n",
       "  <thead>\n",
       "    <tr style=\"text-align: right;\">\n",
       "      <th></th>\n",
       "      <th>rowid</th>\n",
       "      <th>RecID</th>\n",
       "      <th>SavedDataTime</th>\n",
       "      <th>JatoCat</th>\n",
       "      <th>JatoSubCat</th>\n",
       "      <th>JatoCat2</th>\n",
       "      <th>JatoSubCat2</th>\n",
       "      <th>JatoCat3</th>\n",
       "      <th>JatoSubCat3</th>\n",
       "      <th>NewRecClass</th>\n",
       "      <th>GTCodes</th>\n",
       "      <th>NewsPubCat</th>\n",
       "    </tr>\n",
       "  </thead>\n",
       "  <tbody>\n",
       "    <tr>\n",
       "      <th>0</th>\n",
       "      <td>6</td>\n",
       "      <td>222818213392678912</td>\n",
       "      <td>2021:01:17 21:15:20</td>\n",
       "      <td>Political</td>\n",
       "      <td>Debate</td>\n",
       "      <td>NaN</td>\n",
       "      <td>NaN</td>\n",
       "      <td>NaN</td>\n",
       "      <td>NaN</td>\n",
       "      <td>NaN</td>\n",
       "      <td>NaN</td>\n",
       "      <td>Unknown</td>\n",
       "    </tr>\n",
       "    <tr>\n",
       "      <th>1</th>\n",
       "      <td>60</td>\n",
       "      <td>826262311560216578</td>\n",
       "      <td>2021:01:13 19:53:48</td>\n",
       "      <td>Political</td>\n",
       "      <td>Debate</td>\n",
       "      <td>NaN</td>\n",
       "      <td>NaN</td>\n",
       "      <td>NaN</td>\n",
       "      <td>NaN</td>\n",
       "      <td>NaN</td>\n",
       "      <td>NaN</td>\n",
       "      <td>Unknown</td>\n",
       "    </tr>\n",
       "    <tr>\n",
       "      <th>2</th>\n",
       "      <td>63</td>\n",
       "      <td>833502973204459520</td>\n",
       "      <td>2023:03:16 20:23:22</td>\n",
       "      <td>Lifestyle</td>\n",
       "      <td>Music</td>\n",
       "      <td>NaN</td>\n",
       "      <td>NaN</td>\n",
       "      <td>NaN</td>\n",
       "      <td>NaN</td>\n",
       "      <td>NaN</td>\n",
       "      <td>NaN</td>\n",
       "      <td>Unknown</td>\n",
       "    </tr>\n",
       "    <tr>\n",
       "      <th>3</th>\n",
       "      <td>64</td>\n",
       "      <td>835347243020451840</td>\n",
       "      <td>2021:01:18 15:17:18</td>\n",
       "      <td>Abusive Material</td>\n",
       "      <td>Hate Speech</td>\n",
       "      <td>NaN</td>\n",
       "      <td>NaN</td>\n",
       "      <td>NaN</td>\n",
       "      <td>NaN</td>\n",
       "      <td>NaN</td>\n",
       "      <td>NaN</td>\n",
       "      <td>Unknown</td>\n",
       "    </tr>\n",
       "    <tr>\n",
       "      <th>4</th>\n",
       "      <td>69</td>\n",
       "      <td>867832469181128704</td>\n",
       "      <td>2021:02:03 13:42:38</td>\n",
       "      <td>Lifestyle</td>\n",
       "      <td>Music</td>\n",
       "      <td>NaN</td>\n",
       "      <td>NaN</td>\n",
       "      <td>NaN</td>\n",
       "      <td>NaN</td>\n",
       "      <td>NaN</td>\n",
       "      <td>NaN</td>\n",
       "      <td>Unknown</td>\n",
       "    </tr>\n",
       "    <tr>\n",
       "      <th>...</th>\n",
       "      <td>...</td>\n",
       "      <td>...</td>\n",
       "      <td>...</td>\n",
       "      <td>...</td>\n",
       "      <td>...</td>\n",
       "      <td>...</td>\n",
       "      <td>...</td>\n",
       "      <td>...</td>\n",
       "      <td>...</td>\n",
       "      <td>...</td>\n",
       "      <td>...</td>\n",
       "      <td>...</td>\n",
       "    </tr>\n",
       "    <tr>\n",
       "      <th>31</th>\n",
       "      <td>4599</td>\n",
       "      <td>1222177357261180933</td>\n",
       "      <td>2021:02:15 18:57:22</td>\n",
       "      <td>Conversational</td>\n",
       "      <td>NaN</td>\n",
       "      <td>NaN</td>\n",
       "      <td>NaN</td>\n",
       "      <td>NaN</td>\n",
       "      <td>NaN</td>\n",
       "      <td>travel</td>\n",
       "      <td>NaN</td>\n",
       "      <td>Unknown</td>\n",
       "    </tr>\n",
       "    <tr>\n",
       "      <th>32</th>\n",
       "      <td>4608</td>\n",
       "      <td>1222223980909813761</td>\n",
       "      <td>2021:02:15 20:23:29</td>\n",
       "      <td>Human Rights</td>\n",
       "      <td>Police Brutality</td>\n",
       "      <td>NaN</td>\n",
       "      <td>NaN</td>\n",
       "      <td>NaN</td>\n",
       "      <td>NaN</td>\n",
       "      <td>violence</td>\n",
       "      <td>NaN</td>\n",
       "      <td>Unknown</td>\n",
       "    </tr>\n",
       "    <tr>\n",
       "      <th>33</th>\n",
       "      <td>4612</td>\n",
       "      <td>1222242112307187712</td>\n",
       "      <td>2021:02:15 20:23:29</td>\n",
       "      <td>Conversational</td>\n",
       "      <td>Positive</td>\n",
       "      <td>Lifestyle</td>\n",
       "      <td>Music</td>\n",
       "      <td>NaN</td>\n",
       "      <td>NaN</td>\n",
       "      <td>NaN</td>\n",
       "      <td>NaN</td>\n",
       "      <td>Social Stories</td>\n",
       "    </tr>\n",
       "    <tr>\n",
       "      <th>34</th>\n",
       "      <td>4621</td>\n",
       "      <td>1222281539100250114</td>\n",
       "      <td>2021:02:15 20:23:29</td>\n",
       "      <td>Conversational</td>\n",
       "      <td>Negative</td>\n",
       "      <td>NaN</td>\n",
       "      <td>NaN</td>\n",
       "      <td>NaN</td>\n",
       "      <td>NaN</td>\n",
       "      <td>NaN</td>\n",
       "      <td>NaN</td>\n",
       "      <td>Sports</td>\n",
       "    </tr>\n",
       "    <tr>\n",
       "      <th>35</th>\n",
       "      <td>4629</td>\n",
       "      <td>1222335744687198209</td>\n",
       "      <td>2021:02:15 20:23:29</td>\n",
       "      <td>News</td>\n",
       "      <td>NaN</td>\n",
       "      <td>NaN</td>\n",
       "      <td>NaN</td>\n",
       "      <td>NaN</td>\n",
       "      <td>NaN</td>\n",
       "      <td>NaN</td>\n",
       "      <td>NaN</td>\n",
       "      <td>Social Stories</td>\n",
       "    </tr>\n",
       "  </tbody>\n",
       "</table>\n",
       "<p>2385 rows × 12 columns</p>\n",
       "</div>"
      ],
      "text/plain": [
       "    rowid                RecID        SavedDataTime           JatoCat  \\\n",
       "0       6   222818213392678912  2021:01:17 21:15:20         Political   \n",
       "1      60   826262311560216578  2021:01:13 19:53:48         Political   \n",
       "2      63   833502973204459520  2023:03:16 20:23:22         Lifestyle   \n",
       "3      64   835347243020451840  2021:01:18 15:17:18  Abusive Material   \n",
       "4      69   867832469181128704  2021:02:03 13:42:38         Lifestyle   \n",
       "..    ...                  ...                  ...               ...   \n",
       "31   4599  1222177357261180933  2021:02:15 18:57:22    Conversational   \n",
       "32   4608  1222223980909813761  2021:02:15 20:23:29      Human Rights   \n",
       "33   4612  1222242112307187712  2021:02:15 20:23:29    Conversational   \n",
       "34   4621  1222281539100250114  2021:02:15 20:23:29    Conversational   \n",
       "35   4629  1222335744687198209  2021:02:15 20:23:29              News   \n",
       "\n",
       "          JatoSubCat   JatoCat2 JatoSubCat2 JatoCat3 JatoSubCat3 NewRecClass  \\\n",
       "0             Debate        NaN         NaN      NaN         NaN         NaN   \n",
       "1             Debate        NaN         NaN      NaN         NaN         NaN   \n",
       "2              Music        NaN         NaN      NaN         NaN         NaN   \n",
       "3        Hate Speech        NaN         NaN      NaN         NaN         NaN   \n",
       "4              Music        NaN         NaN      NaN         NaN         NaN   \n",
       "..               ...        ...         ...      ...         ...         ...   \n",
       "31               NaN        NaN         NaN      NaN         NaN      travel   \n",
       "32  Police Brutality        NaN         NaN      NaN         NaN    violence   \n",
       "33          Positive  Lifestyle       Music      NaN         NaN         NaN   \n",
       "34          Negative        NaN         NaN      NaN         NaN         NaN   \n",
       "35               NaN        NaN         NaN      NaN         NaN         NaN   \n",
       "\n",
       "    GTCodes      NewsPubCat  \n",
       "0       NaN         Unknown  \n",
       "1       NaN         Unknown  \n",
       "2       NaN         Unknown  \n",
       "3       NaN         Unknown  \n",
       "4       NaN         Unknown  \n",
       "..      ...             ...  \n",
       "31      NaN         Unknown  \n",
       "32      NaN         Unknown  \n",
       "33      NaN  Social Stories  \n",
       "34      NaN          Sports  \n",
       "35      NaN  Social Stories  \n",
       "\n",
       "[2385 rows x 12 columns]"
      ]
     },
     "execution_count": 76,
     "metadata": {},
     "output_type": "execute_result"
    }
   ],
   "source": [
    "df_JatoCl_Pass2"
   ]
  },
  {
   "cell_type": "code",
   "execution_count": 70,
   "id": "0fec8de5-4beb-40dc-9832-74d48ede40d4",
   "metadata": {},
   "outputs": [],
   "source": [
    "df_JatoCl_Pass2.to_csv('D:/KOPro/PhD/Implementation/SourceCode/jatoPass2_HO2/data/JatoClassified.csv', index=False)"
   ]
  },
  {
   "cell_type": "markdown",
   "id": "c2f52ba8-be8e-4897-8f86-919ed2068655",
   "metadata": {
    "jp-MarkdownHeadingCollapsed": true,
    "tags": []
   },
   "source": [
    "### Get HO2 labels After running Jato"
   ]
  },
  {
   "cell_type": "code",
   "execution_count": 71,
   "id": "eaa99099-1d8f-4d7b-8346-0691e7f3b7fe",
   "metadata": {},
   "outputs": [],
   "source": [
    "#DEL\n",
    "#use the RecIDs to generate the JatoMaster.csv in SQL-Server (subset of MasterTokens)\n",
    "#df_RecID = df['RecID']"
   ]
  },
  {
   "cell_type": "code",
   "execution_count": 72,
   "id": "dfe76837-01d3-44f8-966b-2914c580b721",
   "metadata": {},
   "outputs": [],
   "source": [
    "df_jato_HO2_Labels = pd.read_csv('D:/KOPro/PhD/Implementation/SourceCode/jatoPass2_HO2/data/JatoClassified_Pass2_HO2.csv', dtype='str')"
   ]
  },
  {
   "cell_type": "code",
   "execution_count": 73,
   "id": "f84cc675-c93b-4cd9-a9f9-95cd74fbeadd",
   "metadata": {},
   "outputs": [
    {
     "data": {
      "text/html": [
       "<div>\n",
       "<style scoped>\n",
       "    .dataframe tbody tr th:only-of-type {\n",
       "        vertical-align: middle;\n",
       "    }\n",
       "\n",
       "    .dataframe tbody tr th {\n",
       "        vertical-align: top;\n",
       "    }\n",
       "\n",
       "    .dataframe thead th {\n",
       "        text-align: right;\n",
       "    }\n",
       "</style>\n",
       "<table border=\"1\" class=\"dataframe\">\n",
       "  <thead>\n",
       "    <tr style=\"text-align: right;\">\n",
       "      <th></th>\n",
       "      <th>rowid</th>\n",
       "      <th>RecID</th>\n",
       "      <th>SavedDataTime</th>\n",
       "      <th>JatoCat</th>\n",
       "      <th>JatoSubCat</th>\n",
       "      <th>JatoCat2</th>\n",
       "      <th>JatoSubCat2</th>\n",
       "      <th>JatoCat3</th>\n",
       "      <th>JatoSubCat3</th>\n",
       "      <th>NewRecClass</th>\n",
       "      <th>GTCodes</th>\n",
       "      <th>NewsPubCat</th>\n",
       "    </tr>\n",
       "  </thead>\n",
       "  <tbody>\n",
       "    <tr>\n",
       "      <th>0</th>\n",
       "      <td>6.0</td>\n",
       "      <td>222818213392678912</td>\n",
       "      <td>2021:01:17 21:15:20</td>\n",
       "      <td>Political</td>\n",
       "      <td>Debate</td>\n",
       "      <td>NaN</td>\n",
       "      <td>NaN</td>\n",
       "      <td>NaN</td>\n",
       "      <td>NaN</td>\n",
       "      <td>NaN</td>\n",
       "      <td>NaN</td>\n",
       "      <td>Unknown</td>\n",
       "    </tr>\n",
       "    <tr>\n",
       "      <th>1</th>\n",
       "      <td>60.0</td>\n",
       "      <td>826262311560216578</td>\n",
       "      <td>2021:01:13 19:53:48</td>\n",
       "      <td>Political</td>\n",
       "      <td>Debate</td>\n",
       "      <td>NaN</td>\n",
       "      <td>NaN</td>\n",
       "      <td>NaN</td>\n",
       "      <td>NaN</td>\n",
       "      <td>NaN</td>\n",
       "      <td>NaN</td>\n",
       "      <td>Unknown</td>\n",
       "    </tr>\n",
       "  </tbody>\n",
       "</table>\n",
       "</div>"
      ],
      "text/plain": [
       "  rowid               RecID        SavedDataTime    JatoCat JatoSubCat  \\\n",
       "0   6.0  222818213392678912  2021:01:17 21:15:20  Political     Debate   \n",
       "1  60.0  826262311560216578  2021:01:13 19:53:48  Political     Debate   \n",
       "\n",
       "  JatoCat2 JatoSubCat2 JatoCat3 JatoSubCat3 NewRecClass GTCodes NewsPubCat  \n",
       "0      NaN         NaN      NaN         NaN         NaN     NaN    Unknown  \n",
       "1      NaN         NaN      NaN         NaN         NaN     NaN    Unknown  "
      ]
     },
     "execution_count": 73,
     "metadata": {},
     "output_type": "execute_result"
    }
   ],
   "source": [
    "df_jato_HO2_Labels.head(2)"
   ]
  },
  {
   "cell_type": "code",
   "execution_count": 74,
   "id": "48ba483b-3eb1-49d9-b755-5fadfffcbc2a",
   "metadata": {},
   "outputs": [
    {
     "data": {
      "text/plain": [
       "2385"
      ]
     },
     "execution_count": 74,
     "metadata": {},
     "output_type": "execute_result"
    }
   ],
   "source": [
    "len(df_jato_HO2_Labels)"
   ]
  },
  {
   "cell_type": "code",
   "execution_count": 75,
   "id": "bbfeb627-5aeb-449c-a3ff-2ea8ac824022",
   "metadata": {},
   "outputs": [],
   "source": [
    "df_jato_HO2_Labels.drop(['rowid','SavedDataTime','JatoCat','JatoSubCat','JatoCat2','JatoSubCat2','JatoCat3','JatoSubCat3','NewRecClass','GTCodes'], axis=1, inplace=True)"
   ]
  },
  {
   "cell_type": "code",
   "execution_count": 76,
   "id": "ae67e2ea-7a1f-4bf8-9793-b6b9e340a33b",
   "metadata": {},
   "outputs": [
    {
     "data": {
      "text/html": [
       "<div>\n",
       "<style scoped>\n",
       "    .dataframe tbody tr th:only-of-type {\n",
       "        vertical-align: middle;\n",
       "    }\n",
       "\n",
       "    .dataframe tbody tr th {\n",
       "        vertical-align: top;\n",
       "    }\n",
       "\n",
       "    .dataframe thead th {\n",
       "        text-align: right;\n",
       "    }\n",
       "</style>\n",
       "<table border=\"1\" class=\"dataframe\">\n",
       "  <thead>\n",
       "    <tr style=\"text-align: right;\">\n",
       "      <th></th>\n",
       "      <th>RecID</th>\n",
       "      <th>NewsPubCat</th>\n",
       "    </tr>\n",
       "  </thead>\n",
       "  <tbody>\n",
       "    <tr>\n",
       "      <th>0</th>\n",
       "      <td>222818213392678912</td>\n",
       "      <td>Unknown</td>\n",
       "    </tr>\n",
       "    <tr>\n",
       "      <th>1</th>\n",
       "      <td>826262311560216578</td>\n",
       "      <td>Unknown</td>\n",
       "    </tr>\n",
       "  </tbody>\n",
       "</table>\n",
       "</div>"
      ],
      "text/plain": [
       "                RecID NewsPubCat\n",
       "0  222818213392678912    Unknown\n",
       "1  826262311560216578    Unknown"
      ]
     },
     "execution_count": 76,
     "metadata": {},
     "output_type": "execute_result"
    }
   ],
   "source": [
    "df_jato_HO2_Labels.head(2)"
   ]
  },
  {
   "cell_type": "code",
   "execution_count": 77,
   "id": "03928f82-d3c8-465d-9b6c-5d62c2e8f135",
   "metadata": {},
   "outputs": [],
   "source": [
    "Labels_Targets = pd.read_csv('data/Labels_TargetsV2.csv')"
   ]
  },
  {
   "cell_type": "code",
   "execution_count": 78,
   "id": "d4557d92-1672-4b9c-82c7-f7d630602c08",
   "metadata": {},
   "outputs": [
    {
     "data": {
      "text/html": [
       "<div>\n",
       "<style scoped>\n",
       "    .dataframe tbody tr th:only-of-type {\n",
       "        vertical-align: middle;\n",
       "    }\n",
       "\n",
       "    .dataframe tbody tr th {\n",
       "        vertical-align: top;\n",
       "    }\n",
       "\n",
       "    .dataframe thead th {\n",
       "        text-align: right;\n",
       "    }\n",
       "</style>\n",
       "<table border=\"1\" class=\"dataframe\">\n",
       "  <thead>\n",
       "    <tr style=\"text-align: right;\">\n",
       "      <th></th>\n",
       "      <th>Target</th>\n",
       "      <th>Label</th>\n",
       "    </tr>\n",
       "  </thead>\n",
       "  <tbody>\n",
       "    <tr>\n",
       "      <th>0</th>\n",
       "      <td>1</td>\n",
       "      <td>Business</td>\n",
       "    </tr>\n",
       "    <tr>\n",
       "      <th>1</th>\n",
       "      <td>2</td>\n",
       "      <td>Entertainment</td>\n",
       "    </tr>\n",
       "  </tbody>\n",
       "</table>\n",
       "</div>"
      ],
      "text/plain": [
       "   Target          Label\n",
       "0       1       Business\n",
       "1       2  Entertainment"
      ]
     },
     "execution_count": 78,
     "metadata": {},
     "output_type": "execute_result"
    }
   ],
   "source": [
    "Labels_Targets.head(2)"
   ]
  },
  {
   "cell_type": "code",
   "execution_count": 79,
   "id": "b46ab5dd-81fa-4b38-901d-9a78d643325c",
   "metadata": {},
   "outputs": [],
   "source": [
    "Labels_Targets.rename(columns={'Label': 'NewsPubCat'}, inplace=True)"
   ]
  },
  {
   "cell_type": "code",
   "execution_count": 80,
   "id": "da96a5e5-7f41-4592-98fa-fd9be0edac41",
   "metadata": {},
   "outputs": [],
   "source": [
    "df_jato_HO2_Label_Target = pd.merge(df_jato_HO2_Labels,Labels_Targets, on='NewsPubCat', how='left')"
   ]
  },
  {
   "cell_type": "code",
   "execution_count": 81,
   "id": "4eff3b64-0d25-4b73-adb2-2928922e3651",
   "metadata": {},
   "outputs": [
    {
     "data": {
      "text/html": [
       "<div>\n",
       "<style scoped>\n",
       "    .dataframe tbody tr th:only-of-type {\n",
       "        vertical-align: middle;\n",
       "    }\n",
       "\n",
       "    .dataframe tbody tr th {\n",
       "        vertical-align: top;\n",
       "    }\n",
       "\n",
       "    .dataframe thead th {\n",
       "        text-align: right;\n",
       "    }\n",
       "</style>\n",
       "<table border=\"1\" class=\"dataframe\">\n",
       "  <thead>\n",
       "    <tr style=\"text-align: right;\">\n",
       "      <th></th>\n",
       "      <th>RecID</th>\n",
       "      <th>NewsPubCat</th>\n",
       "      <th>Target</th>\n",
       "    </tr>\n",
       "  </thead>\n",
       "  <tbody>\n",
       "    <tr>\n",
       "      <th>0</th>\n",
       "      <td>222818213392678912</td>\n",
       "      <td>Unknown</td>\n",
       "      <td>0</td>\n",
       "    </tr>\n",
       "    <tr>\n",
       "      <th>1</th>\n",
       "      <td>826262311560216578</td>\n",
       "      <td>Unknown</td>\n",
       "      <td>0</td>\n",
       "    </tr>\n",
       "    <tr>\n",
       "      <th>2</th>\n",
       "      <td>833502973204459520</td>\n",
       "      <td>Entertainment</td>\n",
       "      <td>2</td>\n",
       "    </tr>\n",
       "    <tr>\n",
       "      <th>3</th>\n",
       "      <td>835347243020451840</td>\n",
       "      <td>Unknown</td>\n",
       "      <td>0</td>\n",
       "    </tr>\n",
       "    <tr>\n",
       "      <th>4</th>\n",
       "      <td>867832469181128704</td>\n",
       "      <td>Unknown</td>\n",
       "      <td>0</td>\n",
       "    </tr>\n",
       "    <tr>\n",
       "      <th>...</th>\n",
       "      <td>...</td>\n",
       "      <td>...</td>\n",
       "      <td>...</td>\n",
       "    </tr>\n",
       "    <tr>\n",
       "      <th>2380</th>\n",
       "      <td>1222177357261180933</td>\n",
       "      <td>Social Stories</td>\n",
       "      <td>10</td>\n",
       "    </tr>\n",
       "    <tr>\n",
       "      <th>2381</th>\n",
       "      <td>1222223980909813761</td>\n",
       "      <td>Law and Order</td>\n",
       "      <td>7</td>\n",
       "    </tr>\n",
       "    <tr>\n",
       "      <th>2382</th>\n",
       "      <td>1222242112307187712</td>\n",
       "      <td>Social Stories</td>\n",
       "      <td>10</td>\n",
       "    </tr>\n",
       "    <tr>\n",
       "      <th>2383</th>\n",
       "      <td>1222281539100250114</td>\n",
       "      <td>Sports</td>\n",
       "      <td>11</td>\n",
       "    </tr>\n",
       "    <tr>\n",
       "      <th>2384</th>\n",
       "      <td>1222335744687198209</td>\n",
       "      <td>Social Stories</td>\n",
       "      <td>10</td>\n",
       "    </tr>\n",
       "  </tbody>\n",
       "</table>\n",
       "<p>2385 rows × 3 columns</p>\n",
       "</div>"
      ],
      "text/plain": [
       "                    RecID      NewsPubCat  Target\n",
       "0      222818213392678912         Unknown       0\n",
       "1      826262311560216578         Unknown       0\n",
       "2      833502973204459520   Entertainment       2\n",
       "3      835347243020451840         Unknown       0\n",
       "4      867832469181128704         Unknown       0\n",
       "...                   ...             ...     ...\n",
       "2380  1222177357261180933  Social Stories      10\n",
       "2381  1222223980909813761   Law and Order       7\n",
       "2382  1222242112307187712  Social Stories      10\n",
       "2383  1222281539100250114          Sports      11\n",
       "2384  1222335744687198209  Social Stories      10\n",
       "\n",
       "[2385 rows x 3 columns]"
      ]
     },
     "execution_count": 81,
     "metadata": {},
     "output_type": "execute_result"
    }
   ],
   "source": [
    "df_jato_HO2_Label_Target"
   ]
  },
  {
   "cell_type": "code",
   "execution_count": 82,
   "id": "ae728d8e-cfef-463b-a88f-47b6705f03b1",
   "metadata": {},
   "outputs": [],
   "source": [
    "df_jato_HO2_Label_Target.rename(columns={'NewsPubCat': 'HO2Label'}, inplace=True)"
   ]
  },
  {
   "cell_type": "code",
   "execution_count": 83,
   "id": "fe10b2d6-0d65-4c3b-915d-0d0893b707aa",
   "metadata": {},
   "outputs": [],
   "source": [
    "#df_jato_HO2_Label_Target['Target'] = df_jato_HO2_Label_Target['Target'].astype('Int64')\n",
    "df_jato_HO2_Label_Target.rename(columns={'Target': 'HO2Target'}, inplace=True)"
   ]
  },
  {
   "cell_type": "code",
   "execution_count": 84,
   "id": "5c7b7013-c3d0-48a3-89fb-798a623e87cb",
   "metadata": {},
   "outputs": [
    {
     "data": {
      "text/html": [
       "<div>\n",
       "<style scoped>\n",
       "    .dataframe tbody tr th:only-of-type {\n",
       "        vertical-align: middle;\n",
       "    }\n",
       "\n",
       "    .dataframe tbody tr th {\n",
       "        vertical-align: top;\n",
       "    }\n",
       "\n",
       "    .dataframe thead th {\n",
       "        text-align: right;\n",
       "    }\n",
       "</style>\n",
       "<table border=\"1\" class=\"dataframe\">\n",
       "  <thead>\n",
       "    <tr style=\"text-align: right;\">\n",
       "      <th></th>\n",
       "      <th>RecID</th>\n",
       "      <th>HO2Label</th>\n",
       "      <th>HO2Target</th>\n",
       "    </tr>\n",
       "  </thead>\n",
       "  <tbody>\n",
       "    <tr>\n",
       "      <th>0</th>\n",
       "      <td>222818213392678912</td>\n",
       "      <td>Unknown</td>\n",
       "      <td>0</td>\n",
       "    </tr>\n",
       "    <tr>\n",
       "      <th>1</th>\n",
       "      <td>826262311560216578</td>\n",
       "      <td>Unknown</td>\n",
       "      <td>0</td>\n",
       "    </tr>\n",
       "  </tbody>\n",
       "</table>\n",
       "</div>"
      ],
      "text/plain": [
       "                RecID HO2Label  HO2Target\n",
       "0  222818213392678912  Unknown          0\n",
       "1  826262311560216578  Unknown          0"
      ]
     },
     "execution_count": 84,
     "metadata": {},
     "output_type": "execute_result"
    }
   ],
   "source": [
    "df_jato_HO2_Label_Target.head(2)"
   ]
  },
  {
   "cell_type": "code",
   "execution_count": 85,
   "id": "e695cc98-3b4c-4723-9216-55f8e5db4362",
   "metadata": {},
   "outputs": [
    {
     "data": {
      "text/plain": [
       "251"
      ]
     },
     "execution_count": 85,
     "metadata": {},
     "output_type": "execute_result"
    }
   ],
   "source": [
    "len(df_HO1_To_HO2)"
   ]
  },
  {
   "cell_type": "code",
   "execution_count": 86,
   "id": "65405f35-d336-4f81-8519-24484d7172f2",
   "metadata": {},
   "outputs": [
    {
     "data": {
      "text/html": [
       "<div>\n",
       "<style scoped>\n",
       "    .dataframe tbody tr th:only-of-type {\n",
       "        vertical-align: middle;\n",
       "    }\n",
       "\n",
       "    .dataframe tbody tr th {\n",
       "        vertical-align: top;\n",
       "    }\n",
       "\n",
       "    .dataframe thead th {\n",
       "        text-align: right;\n",
       "    }\n",
       "</style>\n",
       "<table border=\"1\" class=\"dataframe\">\n",
       "  <thead>\n",
       "    <tr style=\"text-align: right;\">\n",
       "      <th></th>\n",
       "      <th>RecID</th>\n",
       "      <th>HO1Label</th>\n",
       "      <th>HO1Target</th>\n",
       "      <th>GClfTarget</th>\n",
       "    </tr>\n",
       "  </thead>\n",
       "  <tbody>\n",
       "    <tr>\n",
       "      <th>0</th>\n",
       "      <td>833502973204459520</td>\n",
       "      <td>Entertainment</td>\n",
       "      <td>2</td>\n",
       "      <td>9</td>\n",
       "    </tr>\n",
       "    <tr>\n",
       "      <th>1</th>\n",
       "      <td>1175105751846510592</td>\n",
       "      <td>Environmental</td>\n",
       "      <td>3</td>\n",
       "      <td>1</td>\n",
       "    </tr>\n",
       "  </tbody>\n",
       "</table>\n",
       "</div>"
      ],
      "text/plain": [
       "                 RecID       HO1Label  HO1Target GClfTarget\n",
       "0   833502973204459520  Entertainment          2          9\n",
       "1  1175105751846510592  Environmental          3          1"
      ]
     },
     "execution_count": 86,
     "metadata": {},
     "output_type": "execute_result"
    }
   ],
   "source": [
    "df_HO1_To_HO2.head(2)"
   ]
  },
  {
   "cell_type": "code",
   "execution_count": 87,
   "id": "90fd4016-372e-4bd5-abad-08166369a0dd",
   "metadata": {},
   "outputs": [],
   "source": [
    "df_HO2_HO1_GClf_Targets = pd.merge(df_jato_HO2_Label_Target,df_HO1_To_HO2, on='RecID')"
   ]
  },
  {
   "cell_type": "code",
   "execution_count": 88,
   "id": "321c9c45-4c7c-4594-b73a-58c1b8c2dffe",
   "metadata": {},
   "outputs": [
    {
     "data": {
      "text/html": [
       "<div>\n",
       "<style scoped>\n",
       "    .dataframe tbody tr th:only-of-type {\n",
       "        vertical-align: middle;\n",
       "    }\n",
       "\n",
       "    .dataframe tbody tr th {\n",
       "        vertical-align: top;\n",
       "    }\n",
       "\n",
       "    .dataframe thead th {\n",
       "        text-align: right;\n",
       "    }\n",
       "</style>\n",
       "<table border=\"1\" class=\"dataframe\">\n",
       "  <thead>\n",
       "    <tr style=\"text-align: right;\">\n",
       "      <th></th>\n",
       "      <th>RecID</th>\n",
       "      <th>HO2Label</th>\n",
       "      <th>HO2Target</th>\n",
       "      <th>HO1Label</th>\n",
       "      <th>HO1Target</th>\n",
       "      <th>GClfTarget</th>\n",
       "    </tr>\n",
       "  </thead>\n",
       "  <tbody>\n",
       "    <tr>\n",
       "      <th>0</th>\n",
       "      <td>833502973204459520</td>\n",
       "      <td>Entertainment</td>\n",
       "      <td>2</td>\n",
       "      <td>Entertainment</td>\n",
       "      <td>2</td>\n",
       "      <td>9</td>\n",
       "    </tr>\n",
       "    <tr>\n",
       "      <th>1</th>\n",
       "      <td>1175105751846510592</td>\n",
       "      <td>Environmental</td>\n",
       "      <td>3</td>\n",
       "      <td>Environmental</td>\n",
       "      <td>3</td>\n",
       "      <td>1</td>\n",
       "    </tr>\n",
       "    <tr>\n",
       "      <th>2</th>\n",
       "      <td>1178650857430274049</td>\n",
       "      <td>Politics</td>\n",
       "      <td>6</td>\n",
       "      <td>Human Rights</td>\n",
       "      <td>5</td>\n",
       "      <td>2</td>\n",
       "    </tr>\n",
       "    <tr>\n",
       "      <th>3</th>\n",
       "      <td>1178745116758020097</td>\n",
       "      <td>Social Stories</td>\n",
       "      <td>10</td>\n",
       "      <td>Social Stories</td>\n",
       "      <td>10</td>\n",
       "      <td>NaN</td>\n",
       "    </tr>\n",
       "    <tr>\n",
       "      <th>4</th>\n",
       "      <td>1178961065918500864</td>\n",
       "      <td>Entertainment</td>\n",
       "      <td>2</td>\n",
       "      <td>Unknown</td>\n",
       "      <td>0</td>\n",
       "      <td>2</td>\n",
       "    </tr>\n",
       "  </tbody>\n",
       "</table>\n",
       "</div>"
      ],
      "text/plain": [
       "                 RecID        HO2Label  HO2Target        HO1Label  HO1Target  \\\n",
       "0   833502973204459520   Entertainment          2   Entertainment          2   \n",
       "1  1175105751846510592   Environmental          3   Environmental          3   \n",
       "2  1178650857430274049        Politics          6    Human Rights          5   \n",
       "3  1178745116758020097  Social Stories         10  Social Stories         10   \n",
       "4  1178961065918500864   Entertainment          2         Unknown          0   \n",
       "\n",
       "  GClfTarget  \n",
       "0          9  \n",
       "1          1  \n",
       "2          2  \n",
       "3        NaN  \n",
       "4          2  "
      ]
     },
     "execution_count": 88,
     "metadata": {},
     "output_type": "execute_result"
    }
   ],
   "source": [
    "df_HO2_HO1_GClf_Targets.head()"
   ]
  },
  {
   "cell_type": "code",
   "execution_count": 89,
   "id": "042cb2e6-5012-46a9-9aea-d9394e1b44b0",
   "metadata": {},
   "outputs": [
    {
     "data": {
      "text/plain": [
       "251"
      ]
     },
     "execution_count": 89,
     "metadata": {},
     "output_type": "execute_result"
    }
   ],
   "source": [
    "len(df_HO2_HO1_GClf_Targets)"
   ]
  },
  {
   "cell_type": "code",
   "execution_count": 99,
   "id": "a312a553-638c-40ec-83a3-73e99c703584",
   "metadata": {},
   "outputs": [],
   "source": [
    "df_HO2_HO1_GClf_Targets.to_csv('data/GTxM_Pass2/HO2_HO1_GClf_Targets.csv')"
   ]
  },
  {
   "cell_type": "markdown",
   "id": "9c8241a2-fb31-453c-b51b-091a9af5e370",
   "metadata": {
    "jp-MarkdownHeadingCollapsed": true,
    "tags": []
   },
   "source": [
    "### Get Krippendorff's Alpha between HO2 and HO1"
   ]
  },
  {
   "cell_type": "code",
   "execution_count": 90,
   "id": "5aaeaf27-de40-4c68-b420-1ff10c195ee6",
   "metadata": {},
   "outputs": [],
   "source": [
    "HO1Target = np.stack(df_HO2_HO1_GClf_Targets['HO1Target'].astype(\"string\"))\n",
    "HO2Target = np.stack(df_HO2_HO1_GClf_Targets['HO2Target'].astype(\"string\"))"
   ]
  },
  {
   "cell_type": "code",
   "execution_count": 91,
   "id": "d4c0212c-260c-48f1-9e68-cde5478bf8fd",
   "metadata": {},
   "outputs": [
    {
     "data": {
      "text/plain": [
       "0.6038420409410328"
      ]
     },
     "execution_count": 91,
     "metadata": {},
     "output_type": "execute_result"
    }
   ],
   "source": [
    "missing = '0'\n",
    "arr = np.array((HO1Target,HO2Target))\n",
    "alpha4 = krippendorff_alpha(arr, nominal_metric, missing_items=missing)\n",
    "alpha4"
   ]
  },
  {
   "cell_type": "markdown",
   "id": "a09d29bf-7bb7-47eb-9189-bc4559d221fa",
   "metadata": {
    "jp-MarkdownHeadingCollapsed": true,
    "tags": []
   },
   "source": [
    "### Get the new GTD from Pass 2 to Pass 3"
   ]
  },
  {
   "cell_type": "code",
   "execution_count": 92,
   "id": "c53db545-d01e-4682-a481-c8093161c5b4",
   "metadata": {},
   "outputs": [
    {
     "data": {
      "text/plain": [
       "86"
      ]
     },
     "execution_count": 92,
     "metadata": {},
     "output_type": "execute_result"
    }
   ],
   "source": [
    "# HO2 Agreement with HO1\n",
    "df_HO2_HO1_GTD = df_HO2_HO1_GClf_Targets[\n",
    "    (df_HO2_HO1_GClf_Targets.HO2Target.astype(\"string\")==df_HO2_HO1_GClf_Targets.HO1Target.astype(\"string\"))]\n",
    "len(df_HO2_HO1_GTD)"
   ]
  },
  {
   "cell_type": "code",
   "execution_count": 93,
   "id": "790c5886-b825-4b73-bba6-047d6a9d1c46",
   "metadata": {},
   "outputs": [
    {
     "data": {
      "text/plain": [
       "127"
      ]
     },
     "execution_count": 93,
     "metadata": {},
     "output_type": "execute_result"
    }
   ],
   "source": [
    "df_HO2_HO1_GClf_GTD = df_HO2_HO1_GClf_Targets[\n",
    "    (df_HO2_HO1_GClf_Targets.HO2Target.astype(\"string\")==df_HO2_HO1_GClf_Targets.HO1Target.astype(\"string\"))\n",
    "    | (df_HO2_HO1_GClf_Targets.HO2Target.astype(\"string\")==df_HO2_HO1_GClf_Targets.GClfTarget.astype(\"string\"))\n",
    "    ]\n",
    "len(df_HO2_HO1_GClf_GTD)"
   ]
  },
  {
   "cell_type": "code",
   "execution_count": 94,
   "id": "dfe00b86-9d5a-4790-b48a-d78e7dc98adf",
   "metadata": {},
   "outputs": [
    {
     "data": {
      "text/html": [
       "<div>\n",
       "<style scoped>\n",
       "    .dataframe tbody tr th:only-of-type {\n",
       "        vertical-align: middle;\n",
       "    }\n",
       "\n",
       "    .dataframe tbody tr th {\n",
       "        vertical-align: top;\n",
       "    }\n",
       "\n",
       "    .dataframe thead th {\n",
       "        text-align: right;\n",
       "    }\n",
       "</style>\n",
       "<table border=\"1\" class=\"dataframe\">\n",
       "  <thead>\n",
       "    <tr style=\"text-align: right;\">\n",
       "      <th></th>\n",
       "      <th>RecID</th>\n",
       "      <th>HO2Label</th>\n",
       "      <th>HO2Target</th>\n",
       "      <th>HO1Label</th>\n",
       "      <th>HO1Target</th>\n",
       "      <th>GClfTarget</th>\n",
       "    </tr>\n",
       "  </thead>\n",
       "  <tbody>\n",
       "    <tr>\n",
       "      <th>0</th>\n",
       "      <td>833502973204459520</td>\n",
       "      <td>Entertainment</td>\n",
       "      <td>2</td>\n",
       "      <td>Entertainment</td>\n",
       "      <td>2</td>\n",
       "      <td>9</td>\n",
       "    </tr>\n",
       "    <tr>\n",
       "      <th>1</th>\n",
       "      <td>1175105751846510592</td>\n",
       "      <td>Environmental</td>\n",
       "      <td>3</td>\n",
       "      <td>Environmental</td>\n",
       "      <td>3</td>\n",
       "      <td>1</td>\n",
       "    </tr>\n",
       "  </tbody>\n",
       "</table>\n",
       "</div>"
      ],
      "text/plain": [
       "                 RecID       HO2Label  HO2Target       HO1Label  HO1Target  \\\n",
       "0   833502973204459520  Entertainment          2  Entertainment          2   \n",
       "1  1175105751846510592  Environmental          3  Environmental          3   \n",
       "\n",
       "  GClfTarget  \n",
       "0          9  \n",
       "1          1  "
      ]
     },
     "execution_count": 94,
     "metadata": {},
     "output_type": "execute_result"
    }
   ],
   "source": [
    "df_HO2_HO1_GClf_GTD.head(2)"
   ]
  },
  {
   "cell_type": "code",
   "execution_count": 95,
   "id": "28ef79f8-2ab4-4f02-b03c-2fdf89885b58",
   "metadata": {},
   "outputs": [
    {
     "name": "stderr",
     "output_type": "stream",
     "text": [
      "C:\\Users\\kazeem\\anaconda3\\envs\\py38\\lib\\site-packages\\pandas\\core\\frame.py:4901: SettingWithCopyWarning: \n",
      "A value is trying to be set on a copy of a slice from a DataFrame\n",
      "\n",
      "See the caveats in the documentation: https://pandas.pydata.org/pandas-docs/stable/user_guide/indexing.html#returning-a-view-versus-a-copy\n",
      "  return super().drop(\n"
     ]
    }
   ],
   "source": [
    "df_HO2_HO1_GClf_GTD.drop(['HO1Label','HO1Target','GClfTarget'], axis=1, inplace=True)"
   ]
  },
  {
   "cell_type": "code",
   "execution_count": 96,
   "id": "b0d96b21-c666-4037-8722-6e55415a558f",
   "metadata": {},
   "outputs": [
    {
     "name": "stderr",
     "output_type": "stream",
     "text": [
      "C:\\Users\\kazeem\\anaconda3\\envs\\py38\\lib\\site-packages\\pandas\\core\\frame.py:5034: SettingWithCopyWarning: \n",
      "A value is trying to be set on a copy of a slice from a DataFrame\n",
      "\n",
      "See the caveats in the documentation: https://pandas.pydata.org/pandas-docs/stable/user_guide/indexing.html#returning-a-view-versus-a-copy\n",
      "  return super().rename(\n"
     ]
    }
   ],
   "source": [
    "df_HO2_HO1_GClf_GTD.rename(columns={'HO2Label': 'Label', 'HO2Target': 'Target'}, inplace=True)"
   ]
  },
  {
   "cell_type": "code",
   "execution_count": 97,
   "id": "326eea09-3ba4-44d5-8d5c-93eee5230bce",
   "metadata": {},
   "outputs": [
    {
     "data": {
      "text/html": [
       "<div>\n",
       "<style scoped>\n",
       "    .dataframe tbody tr th:only-of-type {\n",
       "        vertical-align: middle;\n",
       "    }\n",
       "\n",
       "    .dataframe tbody tr th {\n",
       "        vertical-align: top;\n",
       "    }\n",
       "\n",
       "    .dataframe thead th {\n",
       "        text-align: right;\n",
       "    }\n",
       "</style>\n",
       "<table border=\"1\" class=\"dataframe\">\n",
       "  <thead>\n",
       "    <tr style=\"text-align: right;\">\n",
       "      <th></th>\n",
       "      <th>RecID</th>\n",
       "      <th>Label</th>\n",
       "      <th>Target</th>\n",
       "    </tr>\n",
       "  </thead>\n",
       "  <tbody>\n",
       "    <tr>\n",
       "      <th>0</th>\n",
       "      <td>833502973204459520</td>\n",
       "      <td>Entertainment</td>\n",
       "      <td>2</td>\n",
       "    </tr>\n",
       "    <tr>\n",
       "      <th>1</th>\n",
       "      <td>1175105751846510592</td>\n",
       "      <td>Environmental</td>\n",
       "      <td>3</td>\n",
       "    </tr>\n",
       "  </tbody>\n",
       "</table>\n",
       "</div>"
      ],
      "text/plain": [
       "                 RecID          Label  Target\n",
       "0   833502973204459520  Entertainment       2\n",
       "1  1175105751846510592  Environmental       3"
      ]
     },
     "execution_count": 97,
     "metadata": {},
     "output_type": "execute_result"
    }
   ],
   "source": [
    "df_HO2_HO1_GClf_GTD.head(2)"
   ]
  },
  {
   "cell_type": "code",
   "execution_count": 98,
   "id": "8a2f3e66-c5bf-4809-aac5-b953f4ac0c26",
   "metadata": {},
   "outputs": [
    {
     "data": {
      "text/html": [
       "<div>\n",
       "<style scoped>\n",
       "    .dataframe tbody tr th:only-of-type {\n",
       "        vertical-align: middle;\n",
       "    }\n",
       "\n",
       "    .dataframe tbody tr th {\n",
       "        vertical-align: top;\n",
       "    }\n",
       "\n",
       "    .dataframe thead th {\n",
       "        text-align: right;\n",
       "    }\n",
       "</style>\n",
       "<table border=\"1\" class=\"dataframe\">\n",
       "  <thead>\n",
       "    <tr style=\"text-align: right;\">\n",
       "      <th></th>\n",
       "      <th>RecID</th>\n",
       "      <th>Label</th>\n",
       "      <th>Target</th>\n",
       "    </tr>\n",
       "  </thead>\n",
       "  <tbody>\n",
       "    <tr>\n",
       "      <th>4</th>\n",
       "      <td>1178756273124335624</td>\n",
       "      <td>Obituary</td>\n",
       "      <td>9</td>\n",
       "    </tr>\n",
       "    <tr>\n",
       "      <th>5</th>\n",
       "      <td>1178805608331526145</td>\n",
       "      <td>Politics</td>\n",
       "      <td>6</td>\n",
       "    </tr>\n",
       "  </tbody>\n",
       "</table>\n",
       "</div>"
      ],
      "text/plain": [
       "                 RecID     Label  Target\n",
       "4  1178756273124335624  Obituary       9\n",
       "5  1178805608331526145  Politics       6"
      ]
     },
     "execution_count": 98,
     "metadata": {},
     "output_type": "execute_result"
    }
   ],
   "source": [
    "df_HO1_GClf_GTD.head(2)"
   ]
  },
  {
   "cell_type": "code",
   "execution_count": 99,
   "id": "d94f1d42-8f5d-4a89-8d81-ce6754ef28ef",
   "metadata": {},
   "outputs": [
    {
     "data": {
      "text/plain": [
       "156"
      ]
     },
     "execution_count": 99,
     "metadata": {},
     "output_type": "execute_result"
    }
   ],
   "source": [
    "len(df_HO1_GClf_GTD)"
   ]
  },
  {
   "cell_type": "code",
   "execution_count": 100,
   "id": "2a49101d-96fd-4105-9f49-cf5dda7c673f",
   "metadata": {},
   "outputs": [],
   "source": [
    "df_Pass2_GTD = pd.concat([df_HO2_HO1_GClf_GTD,df_HO1_GClf_GTD], axis=0)"
   ]
  },
  {
   "cell_type": "code",
   "execution_count": 101,
   "id": "e2bbb699-232b-4dc0-be09-6f1ba539a0bb",
   "metadata": {},
   "outputs": [],
   "source": [
    "df_Pass2_GTD.drop_duplicates(subset='RecID', keep=False, inplace=True)"
   ]
  },
  {
   "cell_type": "code",
   "execution_count": 102,
   "id": "8bd5d5fb-618a-4703-a270-5d45a5f679ab",
   "metadata": {},
   "outputs": [
    {
     "data": {
      "text/plain": [
       "283"
      ]
     },
     "execution_count": 102,
     "metadata": {},
     "output_type": "execute_result"
    }
   ],
   "source": [
    "len(df_Pass2_GTD)"
   ]
  },
  {
   "cell_type": "markdown",
   "id": "e2e7a022-387a-4e3d-a523-7437a3811b27",
   "metadata": {
    "tags": []
   },
   "source": [
    "### Create GTD Tokens dataset for SVM"
   ]
  },
  {
   "cell_type": "code",
   "execution_count": 103,
   "id": "4abdfa92-fb6f-41f3-8a15-cb796a1c13e4",
   "metadata": {},
   "outputs": [],
   "source": [
    "# core table required for BERT/XLNet Algorithm requirement\n",
    "df_core1 = pd.read_csv(\"data/MasterTokens.csv\", dtype='str')"
   ]
  },
  {
   "cell_type": "code",
   "execution_count": 104,
   "id": "ce4533b7-1922-49de-9bcb-ca9ce37fe177",
   "metadata": {},
   "outputs": [
    {
     "data": {
      "text/html": [
       "<div>\n",
       "<style scoped>\n",
       "    .dataframe tbody tr th:only-of-type {\n",
       "        vertical-align: middle;\n",
       "    }\n",
       "\n",
       "    .dataframe tbody tr th {\n",
       "        vertical-align: top;\n",
       "    }\n",
       "\n",
       "    .dataframe thead th {\n",
       "        text-align: right;\n",
       "    }\n",
       "</style>\n",
       "<table border=\"1\" class=\"dataframe\">\n",
       "  <thead>\n",
       "    <tr style=\"text-align: right;\">\n",
       "      <th></th>\n",
       "      <th>rowid</th>\n",
       "      <th>RecID</th>\n",
       "      <th>PubTitle</th>\n",
       "      <th>RecDoc</th>\n",
       "      <th>countSupTweets</th>\n",
       "      <th>smrHashtags</th>\n",
       "      <th>smrMentions</th>\n",
       "      <th>smrNER</th>\n",
       "      <th>smrNouns</th>\n",
       "      <th>smrVerbs</th>\n",
       "      <th>smrAdverbs</th>\n",
       "      <th>smrAdjectives</th>\n",
       "      <th>smrTopText</th>\n",
       "      <th>smrSummary</th>\n",
       "    </tr>\n",
       "  </thead>\n",
       "  <tbody>\n",
       "    <tr>\n",
       "      <th>0</th>\n",
       "      <td>0</td>\n",
       "      <td>11947603240</td>\n",
       "      <td>Ed Sheeran, Drake and Justin Bieber: What were...</td>\n",
       "      <td>I think I have part created a pretty amazing s...</td>\n",
       "      <td>0.0</td>\n",
       "      <td></td>\n",
       "      <td></td>\n",
       "      <td></td>\n",
       "      <td>part song lie</td>\n",
       "      <td>creat</td>\n",
       "      <td>pretti</td>\n",
       "      <td>amaz</td>\n",
       "      <td>I think I have part created a pretty amazing s...</td>\n",
       "      <td>Summarization skipped (text is 1000 characters...</td>\n",
       "    </tr>\n",
       "    <tr>\n",
       "      <th>1</th>\n",
       "      <td>1</td>\n",
       "      <td>12643331537</td>\n",
       "      <td>Ed Sheeran, Drake and Justin Bieber: What were...</td>\n",
       "      <td>can i have one more follower please... i would...</td>\n",
       "      <td>1.0</td>\n",
       "      <td></td>\n",
       "      <td>jessglynne</td>\n",
       "      <td></td>\n",
       "      <td>follow igcom club gpsi</td>\n",
       "      <td>love</td>\n",
       "      <td></td>\n",
       "      <td>top</td>\n",
       "      <td>can i have one more follower please... i would...</td>\n",
       "      <td>Summarization skipped (text is 1000 characters...</td>\n",
       "    </tr>\n",
       "  </tbody>\n",
       "</table>\n",
       "</div>"
      ],
      "text/plain": [
       "  rowid        RecID                                           PubTitle  \\\n",
       "0     0  11947603240  Ed Sheeran, Drake and Justin Bieber: What were...   \n",
       "1     1  12643331537  Ed Sheeran, Drake and Justin Bieber: What were...   \n",
       "\n",
       "                                              RecDoc countSupTweets  \\\n",
       "0  I think I have part created a pretty amazing s...            0.0   \n",
       "1  can i have one more follower please... i would...            1.0   \n",
       "\n",
       "  smrHashtags smrMentions smrNER                smrNouns smrVerbs smrAdverbs  \\\n",
       "0                                          part song lie    creat     pretti   \n",
       "1              jessglynne         follow igcom club gpsi     love              \n",
       "\n",
       "  smrAdjectives                                         smrTopText  \\\n",
       "0          amaz  I think I have part created a pretty amazing s...   \n",
       "1           top  can i have one more follower please... i would...   \n",
       "\n",
       "                                          smrSummary  \n",
       "0  Summarization skipped (text is 1000 characters...  \n",
       "1  Summarization skipped (text is 1000 characters...  "
      ]
     },
     "execution_count": 104,
     "metadata": {},
     "output_type": "execute_result"
    }
   ],
   "source": [
    "df_core1.head(2)"
   ]
  },
  {
   "cell_type": "code",
   "execution_count": 105,
   "id": "26c761b1-1c8f-4bf8-9f43-3901357081a7",
   "metadata": {},
   "outputs": [],
   "source": [
    "df_Pass2_To_3_GTD_tokens = pd.merge(df_Pass2_GTD,df_core1, on='RecID', how='inner')"
   ]
  },
  {
   "cell_type": "code",
   "execution_count": 106,
   "id": "21220f36-cfbe-4f8e-bb71-1331193a661b",
   "metadata": {},
   "outputs": [
    {
     "data": {
      "text/plain": [
       "283"
      ]
     },
     "execution_count": 106,
     "metadata": {},
     "output_type": "execute_result"
    }
   ],
   "source": [
    "len(df_Pass2_To_3_GTD_tokens)"
   ]
  },
  {
   "cell_type": "code",
   "execution_count": 107,
   "id": "95f3c71e-4f14-4077-9bd3-f3814ff454ce",
   "metadata": {},
   "outputs": [
    {
     "data": {
      "text/html": [
       "<div>\n",
       "<style scoped>\n",
       "    .dataframe tbody tr th:only-of-type {\n",
       "        vertical-align: middle;\n",
       "    }\n",
       "\n",
       "    .dataframe tbody tr th {\n",
       "        vertical-align: top;\n",
       "    }\n",
       "\n",
       "    .dataframe thead th {\n",
       "        text-align: right;\n",
       "    }\n",
       "</style>\n",
       "<table border=\"1\" class=\"dataframe\">\n",
       "  <thead>\n",
       "    <tr style=\"text-align: right;\">\n",
       "      <th></th>\n",
       "      <th>RecID</th>\n",
       "      <th>Label</th>\n",
       "      <th>Target</th>\n",
       "      <th>rowid</th>\n",
       "      <th>PubTitle</th>\n",
       "      <th>RecDoc</th>\n",
       "      <th>countSupTweets</th>\n",
       "      <th>smrHashtags</th>\n",
       "      <th>smrMentions</th>\n",
       "      <th>smrNER</th>\n",
       "      <th>smrNouns</th>\n",
       "      <th>smrVerbs</th>\n",
       "      <th>smrAdverbs</th>\n",
       "      <th>smrAdjectives</th>\n",
       "      <th>smrTopText</th>\n",
       "      <th>smrSummary</th>\n",
       "    </tr>\n",
       "  </thead>\n",
       "  <tbody>\n",
       "    <tr>\n",
       "      <th>0</th>\n",
       "      <td>833502973204459520</td>\n",
       "      <td>Entertainment</td>\n",
       "      <td>2</td>\n",
       "      <td>63</td>\n",
       "      <td>Ringo Starr: Abbey Road wasn't meant to be The...</td>\n",
       "      <td>Thanks for coming over man and playing  Great ...</td>\n",
       "      <td>13.0</td>\n",
       "      <td></td>\n",
       "      <td>ringostarrmusic</td>\n",
       "      <td>ringo paul fn fn fn fn fn fn fyifyifyifyifyify...</td>\n",
       "      <td>man bass peac love photo memori band music guy...</td>\n",
       "      <td>play love man love order live play love beat f...</td>\n",
       "      <td>togeth forev especi nearli</td>\n",
       "      <td>great great greatest happi love ador beauti wo...</td>\n",
       "      <td>Thanks for coming over man and playing  Great ...</td>\n",
       "      <td>Summarization skipped (text is 1000 characters...</td>\n",
       "    </tr>\n",
       "    <tr>\n",
       "      <th>1</th>\n",
       "      <td>1175105751846510592</td>\n",
       "      <td>Environmental</td>\n",
       "      <td>3</td>\n",
       "      <td>437</td>\n",
       "      <td>Aarey protests: Supreme Court steps in to save...</td>\n",
       "      <td>We at #MMRC plant trees &amp;amp; build @MumbaiMet...</td>\n",
       "      <td>37.0</td>\n",
       "      <td>infrastructure climatechange shame saveaarey m...</td>\n",
       "      <td>cmomaharashtra ashwinibhide authackeray fayeds...</td>\n",
       "      <td>anuanc anoan ancan anoanian anian bkc midc kal...</td>\n",
       "      <td>plant tree cut tree suit citi tree tree wel an...</td>\n",
       "      <td>build build mitig plant plant geotag maintain ...</td>\n",
       "      <td>newli kindli late ahead kindli properli fulli ...</td>\n",
       "      <td>present futur local inhuman small depend truth...</td>\n",
       "      <td>We at #MMRC plant trees &amp;amp; build @MumbaiMet...</td>\n",
       "      <td>We at plant trees build also.\\nWe do need 2 cu...</td>\n",
       "    </tr>\n",
       "  </tbody>\n",
       "</table>\n",
       "</div>"
      ],
      "text/plain": [
       "                 RecID          Label  Target rowid  \\\n",
       "0   833502973204459520  Entertainment       2    63   \n",
       "1  1175105751846510592  Environmental       3   437   \n",
       "\n",
       "                                            PubTitle  \\\n",
       "0  Ringo Starr: Abbey Road wasn't meant to be The...   \n",
       "1  Aarey protests: Supreme Court steps in to save...   \n",
       "\n",
       "                                              RecDoc countSupTweets  \\\n",
       "0  Thanks for coming over man and playing  Great ...           13.0   \n",
       "1  We at #MMRC plant trees &amp; build @MumbaiMet...           37.0   \n",
       "\n",
       "                                         smrHashtags  \\\n",
       "0                                                      \n",
       "1  infrastructure climatechange shame saveaarey m...   \n",
       "\n",
       "                                         smrMentions  \\\n",
       "0                                    ringostarrmusic   \n",
       "1  cmomaharashtra ashwinibhide authackeray fayeds...   \n",
       "\n",
       "                                              smrNER  \\\n",
       "0  ringo paul fn fn fn fn fn fn fyifyifyifyifyify...   \n",
       "1  anuanc anoan ancan anoanian anian bkc midc kal...   \n",
       "\n",
       "                                            smrNouns  \\\n",
       "0  man bass peac love photo memori band music guy...   \n",
       "1  plant tree cut tree suit citi tree tree wel an...   \n",
       "\n",
       "                                            smrVerbs  \\\n",
       "0  play love man love order live play love beat f...   \n",
       "1  build build mitig plant plant geotag maintain ...   \n",
       "\n",
       "                                          smrAdverbs  \\\n",
       "0                         togeth forev especi nearli   \n",
       "1  newli kindli late ahead kindli properli fulli ...   \n",
       "\n",
       "                                       smrAdjectives  \\\n",
       "0  great great greatest happi love ador beauti wo...   \n",
       "1  present futur local inhuman small depend truth...   \n",
       "\n",
       "                                          smrTopText  \\\n",
       "0  Thanks for coming over man and playing  Great ...   \n",
       "1  We at #MMRC plant trees &amp; build @MumbaiMet...   \n",
       "\n",
       "                                          smrSummary  \n",
       "0  Summarization skipped (text is 1000 characters...  \n",
       "1  We at plant trees build also.\\nWe do need 2 cu...  "
      ]
     },
     "execution_count": 107,
     "metadata": {},
     "output_type": "execute_result"
    }
   ],
   "source": [
    "df_Pass2_To_3_GTD_tokens.head(2)"
   ]
  },
  {
   "cell_type": "code",
   "execution_count": 142,
   "id": "f82f47a1-4ff1-49e2-88a6-5527c77d165a",
   "metadata": {},
   "outputs": [],
   "source": [
    "# Save Tokens for SVM to Pass3\n",
    "df_Pass2_To_3_GTD_tokens.to_csv('data/GTxM_Pass2/GTD_Pass2_To_3_tokens.csv')"
   ]
  },
  {
   "cell_type": "markdown",
   "id": "23bdd7cc-9bf0-4f7f-b77a-ef3d1f96ba11",
   "metadata": {
    "tags": []
   },
   "source": [
    "#### Create GTD decomposed SMT dataset for DL BERT/XLNet"
   ]
  },
  {
   "cell_type": "code",
   "execution_count": 158,
   "id": "9b4db583-a5ac-468e-8c57-faf5df498f0c",
   "metadata": {},
   "outputs": [
    {
     "data": {
      "text/html": [
       "<div>\n",
       "<style scoped>\n",
       "    .dataframe tbody tr th:only-of-type {\n",
       "        vertical-align: middle;\n",
       "    }\n",
       "\n",
       "    .dataframe tbody tr th {\n",
       "        vertical-align: top;\n",
       "    }\n",
       "\n",
       "    .dataframe thead th {\n",
       "        text-align: right;\n",
       "    }\n",
       "</style>\n",
       "<table border=\"1\" class=\"dataframe\">\n",
       "  <thead>\n",
       "    <tr style=\"text-align: right;\">\n",
       "      <th></th>\n",
       "      <th>Unnamed: 0</th>\n",
       "      <th>TID</th>\n",
       "      <th>OrigTweet</th>\n",
       "      <th>CleanTweetNoHttp</th>\n",
       "      <th>CleanTweetNoSpecChar</th>\n",
       "      <th>HashTags</th>\n",
       "      <th>Mentions</th>\n",
       "      <th>InReplyTo</th>\n",
       "      <th>ArticleTitle</th>\n",
       "      <th>CountReplyTweets</th>\n",
       "      <th>CountReplyWords</th>\n",
       "      <th>CountReplyChars</th>\n",
       "      <th>Target</th>\n",
       "      <th>Label</th>\n",
       "    </tr>\n",
       "  </thead>\n",
       "  <tbody>\n",
       "    <tr>\n",
       "      <th>0</th>\n",
       "      <td>0</td>\n",
       "      <td>826262311560216578</td>\n",
       "      <td>#coup has started. First of many steps. #rebel...</td>\n",
       "      <td>#coup has started. first of many steps. #rebel...</td>\n",
       "      <td>coup has started first of many steps rebellion...</td>\n",
       "      <td>coup rebellion impeachment lawyers</td>\n",
       "      <td></td>\n",
       "      <td>NaN</td>\n",
       "      <td>Assessing the Impeachment Defenses Offered by ...</td>\n",
       "      <td>76</td>\n",
       "      <td>NaN</td>\n",
       "      <td>NaN</td>\n",
       "      <td>10</td>\n",
       "      <td>Politics</td>\n",
       "    </tr>\n",
       "    <tr>\n",
       "      <th>1</th>\n",
       "      <td>1</td>\n",
       "      <td>1193437298303438858</td>\n",
       "      <td>@MarkSZaidEsq @jody_prichard Funny you want to...</td>\n",
       "      <td>@markszaidesq @jody_prichard funny you want to...</td>\n",
       "      <td>markszaidesq jody_prichard funny you want to d...</td>\n",
       "      <td>NaN</td>\n",
       "      <td>@jody_prichard @markszaidesq</td>\n",
       "      <td>826262311560216578</td>\n",
       "      <td>NaN</td>\n",
       "      <td>NaN</td>\n",
       "      <td>51</td>\n",
       "      <td>313</td>\n",
       "      <td>10</td>\n",
       "      <td>Politics</td>\n",
       "    </tr>\n",
       "  </tbody>\n",
       "</table>\n",
       "</div>"
      ],
      "text/plain": [
       "  Unnamed: 0                  TID  \\\n",
       "0          0   826262311560216578   \n",
       "1          1  1193437298303438858   \n",
       "\n",
       "                                           OrigTweet  \\\n",
       "0  #coup has started. First of many steps. #rebel...   \n",
       "1  @MarkSZaidEsq @jody_prichard Funny you want to...   \n",
       "\n",
       "                                    CleanTweetNoHttp  \\\n",
       "0  #coup has started. first of many steps. #rebel...   \n",
       "1  @markszaidesq @jody_prichard funny you want to...   \n",
       "\n",
       "                                CleanTweetNoSpecChar  \\\n",
       "0  coup has started first of many steps rebellion...   \n",
       "1  markszaidesq jody_prichard funny you want to d...   \n",
       "\n",
       "                             HashTags                      Mentions  \\\n",
       "0  coup rebellion impeachment lawyers                                 \n",
       "1                                 NaN  @jody_prichard @markszaidesq   \n",
       "\n",
       "            InReplyTo                                       ArticleTitle  \\\n",
       "0                 NaN  Assessing the Impeachment Defenses Offered by ...   \n",
       "1  826262311560216578                                                NaN   \n",
       "\n",
       "  CountReplyTweets CountReplyWords CountReplyChars Target     Label  \n",
       "0               76             NaN             NaN     10  Politics  \n",
       "1              NaN              51             313     10  Politics  "
      ]
     },
     "execution_count": 158,
     "metadata": {},
     "output_type": "execute_result"
    }
   ],
   "source": [
    "# core tables required for BERT/XLNet Algorithm requirement\n",
    "# the concat of GroundTruthBERT and CGTexpandedSMR_Data are the equivalent of MasterTokens\n",
    "# but with decomposed SMR tweets\n",
    "df_core2 = pd.read_csv(\"data/GroundTruthBERT.csv\", dtype='str')\n",
    "df_core2.head(2)"
   ]
  },
  {
   "cell_type": "code",
   "execution_count": 159,
   "id": "40d947e5-03e5-4768-b5aa-1c4f8d0951bd",
   "metadata": {},
   "outputs": [
    {
     "data": {
      "text/html": [
       "<div>\n",
       "<style scoped>\n",
       "    .dataframe tbody tr th:only-of-type {\n",
       "        vertical-align: middle;\n",
       "    }\n",
       "\n",
       "    .dataframe tbody tr th {\n",
       "        vertical-align: top;\n",
       "    }\n",
       "\n",
       "    .dataframe thead th {\n",
       "        text-align: right;\n",
       "    }\n",
       "</style>\n",
       "<table border=\"1\" class=\"dataframe\">\n",
       "  <thead>\n",
       "    <tr style=\"text-align: right;\">\n",
       "      <th></th>\n",
       "      <th>Unnamed: 0</th>\n",
       "      <th>TID</th>\n",
       "      <th>OrigTweet</th>\n",
       "      <th>CleanTweetNoHttp</th>\n",
       "      <th>CleanTweetNoSpecChar</th>\n",
       "      <th>HashTags</th>\n",
       "      <th>Mentions</th>\n",
       "      <th>InReplyTo</th>\n",
       "      <th>ArticleTitle</th>\n",
       "      <th>CountReplyTweets</th>\n",
       "      <th>CountReplyWords</th>\n",
       "      <th>CountReplyChars</th>\n",
       "    </tr>\n",
       "  </thead>\n",
       "  <tbody>\n",
       "    <tr>\n",
       "      <th>0</th>\n",
       "      <td>0</td>\n",
       "      <td>222818213392678912</td>\n",
       "      <td>Seedy lists of party apparatchiks appointed by...</td>\n",
       "      <td>seedy lists of party apparatchiks appointed by...</td>\n",
       "      <td>seedy lists of party apparatchiks appointed by...</td>\n",
       "      <td>NaN</td>\n",
       "      <td></td>\n",
       "      <td>NaN</td>\n",
       "      <td>No 10 dismisses Goldsmith 'cronyism' claims</td>\n",
       "      <td>260.0</td>\n",
       "      <td>NaN</td>\n",
       "      <td>NaN</td>\n",
       "    </tr>\n",
       "    <tr>\n",
       "      <th>1</th>\n",
       "      <td>1</td>\n",
       "      <td>1207942378688040961</td>\n",
       "      <td>@ZacGoldsmith @mrjamesob Do you think losing y...</td>\n",
       "      <td>@zacgoldsmith @mrjamesob do you think losing y...</td>\n",
       "      <td>zacgoldsmith mrjamesob do you think losing you...</td>\n",
       "      <td>NaN</td>\n",
       "      <td>@mrjamesob @zacgoldsmith</td>\n",
       "      <td>222818213392678912</td>\n",
       "      <td>NaN</td>\n",
       "      <td>NaN</td>\n",
       "      <td>47</td>\n",
       "      <td>307</td>\n",
       "    </tr>\n",
       "  </tbody>\n",
       "</table>\n",
       "</div>"
      ],
      "text/plain": [
       "  Unnamed: 0                  TID  \\\n",
       "0          0   222818213392678912   \n",
       "1          1  1207942378688040961   \n",
       "\n",
       "                                           OrigTweet  \\\n",
       "0  Seedy lists of party apparatchiks appointed by...   \n",
       "1  @ZacGoldsmith @mrjamesob Do you think losing y...   \n",
       "\n",
       "                                    CleanTweetNoHttp  \\\n",
       "0  seedy lists of party apparatchiks appointed by...   \n",
       "1  @zacgoldsmith @mrjamesob do you think losing y...   \n",
       "\n",
       "                                CleanTweetNoSpecChar HashTags  \\\n",
       "0  seedy lists of party apparatchiks appointed by...      NaN   \n",
       "1  zacgoldsmith mrjamesob do you think losing you...      NaN   \n",
       "\n",
       "                   Mentions           InReplyTo  \\\n",
       "0                                           NaN   \n",
       "1  @mrjamesob @zacgoldsmith  222818213392678912   \n",
       "\n",
       "                                  ArticleTitle CountReplyTweets  \\\n",
       "0  No 10 dismisses Goldsmith 'cronyism' claims            260.0   \n",
       "1                                          NaN              NaN   \n",
       "\n",
       "  CountReplyWords CountReplyChars  \n",
       "0             NaN             NaN  \n",
       "1              47             307  "
      ]
     },
     "execution_count": 159,
     "metadata": {},
     "output_type": "execute_result"
    }
   ],
   "source": [
    "df_core3 = pd.read_csv(\"data/CGTexpandedSMR_Data.csv\", dtype='str')\n",
    "df_core3.head(2)"
   ]
  },
  {
   "cell_type": "code",
   "execution_count": 160,
   "id": "6ac09dc9-4dea-4035-9ea7-19d00eaba523",
   "metadata": {},
   "outputs": [],
   "source": [
    "# drop Label and Target columns on core2 -- to match the fields in core3\n",
    "df_core2.drop(['Label','Target'], axis=1, inplace=True)"
   ]
  },
  {
   "cell_type": "code",
   "execution_count": 161,
   "id": "e7cfab37-e79a-48bf-b7a8-53f1598ce9d8",
   "metadata": {},
   "outputs": [],
   "source": [
    "df_core_decomposed = pd.concat([df_core2,df_core3], axis=0)"
   ]
  },
  {
   "cell_type": "code",
   "execution_count": 162,
   "id": "4829fee6-d3de-4568-85f9-6265c7724070",
   "metadata": {},
   "outputs": [
    {
     "data": {
      "text/plain": [
       "322199"
      ]
     },
     "execution_count": 162,
     "metadata": {},
     "output_type": "execute_result"
    }
   ],
   "source": [
    "len(df_core_decomposed)"
   ]
  },
  {
   "cell_type": "code",
   "execution_count": 163,
   "id": "9f7e5255-2bc6-4c0d-8c36-d59745aacac8",
   "metadata": {},
   "outputs": [],
   "source": [
    "# Get the Rec subset, InReplyTo is null for all the records"
   ]
  },
  {
   "cell_type": "code",
   "execution_count": 164,
   "id": "545535f4-10e7-4461-a80d-a463b8816a60",
   "metadata": {},
   "outputs": [],
   "source": [
    "df_core_decomposed_rec = df_core_decomposed[(df_core_decomposed.InReplyTo.isna())]"
   ]
  },
  {
   "cell_type": "code",
   "execution_count": 165,
   "id": "938e8ee9-01eb-4dd1-bf8c-1332c53437a1",
   "metadata": {},
   "outputs": [
    {
     "data": {
      "text/plain": [
       "2385"
      ]
     },
     "execution_count": 165,
     "metadata": {},
     "output_type": "execute_result"
    }
   ],
   "source": [
    "len(df_core_decomposed_rec)"
   ]
  },
  {
   "cell_type": "code",
   "execution_count": 166,
   "id": "3ed7e26f-d7e3-40b7-936f-bbbf74d9eeca",
   "metadata": {},
   "outputs": [],
   "source": [
    "df_Pass2_GTD_TID = df_Pass2_GTD.rename(columns={'RecID': 'TID'})"
   ]
  },
  {
   "cell_type": "code",
   "execution_count": 167,
   "id": "f8272d81-acaa-4a82-b713-c368f5e264a9",
   "metadata": {},
   "outputs": [],
   "source": [
    "df_Pass2_GTD_decomposedRec = pd.merge(df_core_decomposed_rec, df_Pass2_GTD_TID, on='TID', how='inner')"
   ]
  },
  {
   "cell_type": "code",
   "execution_count": 168,
   "id": "707f7b3e-1cc2-41e3-9667-d5137b3bc397",
   "metadata": {},
   "outputs": [
    {
     "data": {
      "text/plain": [
       "283"
      ]
     },
     "execution_count": 168,
     "metadata": {},
     "output_type": "execute_result"
    }
   ],
   "source": [
    "len(df_Pass2_GTD_decomposedRec)"
   ]
  },
  {
   "cell_type": "code",
   "execution_count": 169,
   "id": "f63c30d9-90ab-455c-b394-b75ccc713130",
   "metadata": {},
   "outputs": [
    {
     "data": {
      "text/html": [
       "<div>\n",
       "<style scoped>\n",
       "    .dataframe tbody tr th:only-of-type {\n",
       "        vertical-align: middle;\n",
       "    }\n",
       "\n",
       "    .dataframe tbody tr th {\n",
       "        vertical-align: top;\n",
       "    }\n",
       "\n",
       "    .dataframe thead th {\n",
       "        text-align: right;\n",
       "    }\n",
       "</style>\n",
       "<table border=\"1\" class=\"dataframe\">\n",
       "  <thead>\n",
       "    <tr style=\"text-align: right;\">\n",
       "      <th></th>\n",
       "      <th>Unnamed: 0</th>\n",
       "      <th>TID</th>\n",
       "      <th>OrigTweet</th>\n",
       "      <th>CleanTweetNoHttp</th>\n",
       "      <th>CleanTweetNoSpecChar</th>\n",
       "      <th>HashTags</th>\n",
       "      <th>Mentions</th>\n",
       "      <th>InReplyTo</th>\n",
       "      <th>ArticleTitle</th>\n",
       "      <th>CountReplyTweets</th>\n",
       "      <th>CountReplyWords</th>\n",
       "      <th>CountReplyChars</th>\n",
       "      <th>Label</th>\n",
       "      <th>Target</th>\n",
       "    </tr>\n",
       "  </thead>\n",
       "  <tbody>\n",
       "    <tr>\n",
       "      <th>0</th>\n",
       "      <td>261</td>\n",
       "      <td>833502973204459520</td>\n",
       "      <td>Thanks for coming over man and playing  Great ...</td>\n",
       "      <td>thanks for coming over man and playing great b...</td>\n",
       "      <td>thanks for coming over man and playing great b...</td>\n",
       "      <td>NaN</td>\n",
       "      <td></td>\n",
       "      <td>NaN</td>\n",
       "      <td>Ringo Starr: Abbey Road wasn't meant to be The...</td>\n",
       "      <td>13.0</td>\n",
       "      <td>NaN</td>\n",
       "      <td>NaN</td>\n",
       "      <td>Entertainment</td>\n",
       "      <td>2</td>\n",
       "    </tr>\n",
       "    <tr>\n",
       "      <th>1</th>\n",
       "      <td>749</td>\n",
       "      <td>1175105751846510592</td>\n",
       "      <td>We at #MMRC plant trees &amp;amp; build @MumbaiMet...</td>\n",
       "      <td>we at #mmrc plant trees build @mumbaimetro3 al...</td>\n",
       "      <td>we at mmrc plant trees build mumbaimetro also ...</td>\n",
       "      <td>MMRC infrastructure MMRC</td>\n",
       "      <td>@mumbaimetro3 @cmomaharashtra</td>\n",
       "      <td>NaN</td>\n",
       "      <td>Aarey protests: Supreme Court steps in to save...</td>\n",
       "      <td>37.0</td>\n",
       "      <td>NaN</td>\n",
       "      <td>NaN</td>\n",
       "      <td>Environmental</td>\n",
       "      <td>3</td>\n",
       "    </tr>\n",
       "  </tbody>\n",
       "</table>\n",
       "</div>"
      ],
      "text/plain": [
       "  Unnamed: 0                  TID  \\\n",
       "0        261   833502973204459520   \n",
       "1        749  1175105751846510592   \n",
       "\n",
       "                                           OrigTweet  \\\n",
       "0  Thanks for coming over man and playing  Great ...   \n",
       "1  We at #MMRC plant trees &amp; build @MumbaiMet...   \n",
       "\n",
       "                                    CleanTweetNoHttp  \\\n",
       "0  thanks for coming over man and playing great b...   \n",
       "1  we at #mmrc plant trees build @mumbaimetro3 al...   \n",
       "\n",
       "                                CleanTweetNoSpecChar  \\\n",
       "0  thanks for coming over man and playing great b...   \n",
       "1  we at mmrc plant trees build mumbaimetro also ...   \n",
       "\n",
       "                   HashTags                       Mentions InReplyTo  \\\n",
       "0                       NaN                                      NaN   \n",
       "1  MMRC infrastructure MMRC  @mumbaimetro3 @cmomaharashtra       NaN   \n",
       "\n",
       "                                        ArticleTitle CountReplyTweets  \\\n",
       "0  Ringo Starr: Abbey Road wasn't meant to be The...             13.0   \n",
       "1  Aarey protests: Supreme Court steps in to save...             37.0   \n",
       "\n",
       "  CountReplyWords CountReplyChars          Label  Target  \n",
       "0             NaN             NaN  Entertainment       2  \n",
       "1             NaN             NaN  Environmental       3  "
      ]
     },
     "execution_count": 169,
     "metadata": {},
     "output_type": "execute_result"
    }
   ],
   "source": [
    "df_Pass2_GTD_decomposedRec.head(2)"
   ]
  },
  {
   "cell_type": "code",
   "execution_count": 170,
   "id": "1ddd3eea-f503-482c-b206-4c702d6de8c4",
   "metadata": {},
   "outputs": [],
   "source": [
    "# Get the supporting tweets based on InReplyTo"
   ]
  },
  {
   "cell_type": "code",
   "execution_count": 171,
   "id": "5b359bb9-1029-43a7-bcff-0e60f09e4fb7",
   "metadata": {},
   "outputs": [],
   "source": [
    "df_core_decomposed_sup = df_core_decomposed[(df_core_decomposed.InReplyTo.notna())]"
   ]
  },
  {
   "cell_type": "code",
   "execution_count": 172,
   "id": "ea2506d5-27c3-4bf6-8cfe-e819b4d4ec4a",
   "metadata": {},
   "outputs": [
    {
     "data": {
      "text/plain": [
       "319814"
      ]
     },
     "execution_count": 172,
     "metadata": {},
     "output_type": "execute_result"
    }
   ],
   "source": [
    "len(df_core_decomposed_sup)"
   ]
  },
  {
   "cell_type": "code",
   "execution_count": 174,
   "id": "e6810ce7-d4df-4bc3-a1b7-82e9b82c9bd4",
   "metadata": {},
   "outputs": [
    {
     "data": {
      "text/html": [
       "<div>\n",
       "<style scoped>\n",
       "    .dataframe tbody tr th:only-of-type {\n",
       "        vertical-align: middle;\n",
       "    }\n",
       "\n",
       "    .dataframe tbody tr th {\n",
       "        vertical-align: top;\n",
       "    }\n",
       "\n",
       "    .dataframe thead th {\n",
       "        text-align: right;\n",
       "    }\n",
       "</style>\n",
       "<table border=\"1\" class=\"dataframe\">\n",
       "  <thead>\n",
       "    <tr style=\"text-align: right;\">\n",
       "      <th></th>\n",
       "      <th>Unnamed: 0</th>\n",
       "      <th>TID</th>\n",
       "      <th>OrigTweet</th>\n",
       "      <th>CleanTweetNoHttp</th>\n",
       "      <th>CleanTweetNoSpecChar</th>\n",
       "      <th>HashTags</th>\n",
       "      <th>Mentions</th>\n",
       "      <th>InReplyTo</th>\n",
       "      <th>ArticleTitle</th>\n",
       "      <th>CountReplyTweets</th>\n",
       "      <th>CountReplyWords</th>\n",
       "      <th>CountReplyChars</th>\n",
       "    </tr>\n",
       "  </thead>\n",
       "  <tbody>\n",
       "    <tr>\n",
       "      <th>1</th>\n",
       "      <td>1</td>\n",
       "      <td>1193437298303438858</td>\n",
       "      <td>@MarkSZaidEsq @jody_prichard Funny you want to...</td>\n",
       "      <td>@markszaidesq @jody_prichard funny you want to...</td>\n",
       "      <td>markszaidesq jody_prichard funny you want to d...</td>\n",
       "      <td>NaN</td>\n",
       "      <td>@jody_prichard @markszaidesq</td>\n",
       "      <td>826262311560216578</td>\n",
       "      <td>NaN</td>\n",
       "      <td>NaN</td>\n",
       "      <td>51</td>\n",
       "      <td>313</td>\n",
       "    </tr>\n",
       "    <tr>\n",
       "      <th>2</th>\n",
       "      <td>2</td>\n",
       "      <td>1194280882540036098</td>\n",
       "      <td>@MarkSZaidEsq at THAT time, the only \"stepping...</td>\n",
       "      <td>@markszaidesq at that time, the only \"stepping...</td>\n",
       "      <td>markszaidesq at that time the only stepping ov...</td>\n",
       "      <td>NaN</td>\n",
       "      <td>@markszaidesq</td>\n",
       "      <td>826262311560216578</td>\n",
       "      <td>NaN</td>\n",
       "      <td>NaN</td>\n",
       "      <td>57</td>\n",
       "      <td>291</td>\n",
       "    </tr>\n",
       "  </tbody>\n",
       "</table>\n",
       "</div>"
      ],
      "text/plain": [
       "  Unnamed: 0                  TID  \\\n",
       "1          1  1193437298303438858   \n",
       "2          2  1194280882540036098   \n",
       "\n",
       "                                           OrigTweet  \\\n",
       "1  @MarkSZaidEsq @jody_prichard Funny you want to...   \n",
       "2  @MarkSZaidEsq at THAT time, the only \"stepping...   \n",
       "\n",
       "                                    CleanTweetNoHttp  \\\n",
       "1  @markszaidesq @jody_prichard funny you want to...   \n",
       "2  @markszaidesq at that time, the only \"stepping...   \n",
       "\n",
       "                                CleanTweetNoSpecChar HashTags  \\\n",
       "1  markszaidesq jody_prichard funny you want to d...      NaN   \n",
       "2  markszaidesq at that time the only stepping ov...      NaN   \n",
       "\n",
       "                       Mentions           InReplyTo ArticleTitle  \\\n",
       "1  @jody_prichard @markszaidesq  826262311560216578          NaN   \n",
       "2                 @markszaidesq  826262311560216578          NaN   \n",
       "\n",
       "  CountReplyTweets CountReplyWords CountReplyChars  \n",
       "1              NaN              51             313  \n",
       "2              NaN              57             291  "
      ]
     },
     "execution_count": 174,
     "metadata": {},
     "output_type": "execute_result"
    }
   ],
   "source": [
    "df_core_decomposed_sup.head(2)"
   ]
  },
  {
   "cell_type": "code",
   "execution_count": 175,
   "id": "d41fc65f-14cb-4037-a4bf-81b74e257916",
   "metadata": {},
   "outputs": [],
   "source": [
    "df_Pass2_GTD_InReplyTo = df_Pass2_GTD.rename(columns={'RecID': 'InReplyTo'})"
   ]
  },
  {
   "cell_type": "code",
   "execution_count": 176,
   "id": "611cd790-8e63-403b-98d2-01f3d7609356",
   "metadata": {},
   "outputs": [],
   "source": [
    "df_Pass2_GTD_decomposedSup = pd.merge(df_core_decomposed_sup, df_Pass2_GTD_InReplyTo, on='InReplyTo', how='inner')"
   ]
  },
  {
   "cell_type": "code",
   "execution_count": 177,
   "id": "5ba81045-234f-4b35-be36-30077dbcdee7",
   "metadata": {},
   "outputs": [
    {
     "data": {
      "text/plain": [
       "51068"
      ]
     },
     "execution_count": 177,
     "metadata": {},
     "output_type": "execute_result"
    }
   ],
   "source": [
    "len(df_Pass2_GTD_decomposedSup)"
   ]
  },
  {
   "cell_type": "code",
   "execution_count": 178,
   "id": "754a4d6b-b3cc-43bf-885b-4c617e561205",
   "metadata": {},
   "outputs": [
    {
     "data": {
      "text/html": [
       "<div>\n",
       "<style scoped>\n",
       "    .dataframe tbody tr th:only-of-type {\n",
       "        vertical-align: middle;\n",
       "    }\n",
       "\n",
       "    .dataframe tbody tr th {\n",
       "        vertical-align: top;\n",
       "    }\n",
       "\n",
       "    .dataframe thead th {\n",
       "        text-align: right;\n",
       "    }\n",
       "</style>\n",
       "<table border=\"1\" class=\"dataframe\">\n",
       "  <thead>\n",
       "    <tr style=\"text-align: right;\">\n",
       "      <th></th>\n",
       "      <th>Unnamed: 0</th>\n",
       "      <th>TID</th>\n",
       "      <th>OrigTweet</th>\n",
       "      <th>CleanTweetNoHttp</th>\n",
       "      <th>CleanTweetNoSpecChar</th>\n",
       "      <th>HashTags</th>\n",
       "      <th>Mentions</th>\n",
       "      <th>InReplyTo</th>\n",
       "      <th>ArticleTitle</th>\n",
       "      <th>CountReplyTweets</th>\n",
       "      <th>CountReplyWords</th>\n",
       "      <th>CountReplyChars</th>\n",
       "      <th>Label</th>\n",
       "      <th>Target</th>\n",
       "    </tr>\n",
       "  </thead>\n",
       "  <tbody>\n",
       "    <tr>\n",
       "      <th>51066</th>\n",
       "      <td>197220</td>\n",
       "      <td>1224290723584978944</td>\n",
       "      <td>@BorisJohnson Together Boris and Donald can di...</td>\n",
       "      <td>@borisjohnson together boris and donald can di...</td>\n",
       "      <td>borisjohnson together boris and donald can dir...</td>\n",
       "      <td>NaN</td>\n",
       "      <td>@borisjohnson</td>\n",
       "      <td>1223365339494453248</td>\n",
       "      <td>NaN</td>\n",
       "      <td>NaN</td>\n",
       "      <td>41</td>\n",
       "      <td>251</td>\n",
       "      <td>Politics</td>\n",
       "      <td>6</td>\n",
       "    </tr>\n",
       "    <tr>\n",
       "      <th>51067</th>\n",
       "      <td>197221</td>\n",
       "      <td>1223366743906824194</td>\n",
       "      <td>@BorisJohnson I donΓÇÖt wanna be brought toget...</td>\n",
       "      <td>@borisjohnson i dongcot wanna be brought toget...</td>\n",
       "      <td>borisjohnson i dongcot wanna be brought togeth...</td>\n",
       "      <td>NaN</td>\n",
       "      <td>@borisjohnson</td>\n",
       "      <td>1223365339494453248</td>\n",
       "      <td>NaN</td>\n",
       "      <td>NaN</td>\n",
       "      <td>44</td>\n",
       "      <td>250</td>\n",
       "      <td>Politics</td>\n",
       "      <td>6</td>\n",
       "    </tr>\n",
       "  </tbody>\n",
       "</table>\n",
       "</div>"
      ],
      "text/plain": [
       "      Unnamed: 0                  TID  \\\n",
       "51066     197220  1224290723584978944   \n",
       "51067     197221  1223366743906824194   \n",
       "\n",
       "                                               OrigTweet  \\\n",
       "51066  @BorisJohnson Together Boris and Donald can di...   \n",
       "51067  @BorisJohnson I donΓÇÖt wanna be brought toget...   \n",
       "\n",
       "                                        CleanTweetNoHttp  \\\n",
       "51066  @borisjohnson together boris and donald can di...   \n",
       "51067  @borisjohnson i dongcot wanna be brought toget...   \n",
       "\n",
       "                                    CleanTweetNoSpecChar HashTags  \\\n",
       "51066  borisjohnson together boris and donald can dir...      NaN   \n",
       "51067  borisjohnson i dongcot wanna be brought togeth...      NaN   \n",
       "\n",
       "            Mentions            InReplyTo ArticleTitle CountReplyTweets  \\\n",
       "51066  @borisjohnson  1223365339494453248          NaN              NaN   \n",
       "51067  @borisjohnson  1223365339494453248          NaN              NaN   \n",
       "\n",
       "      CountReplyWords CountReplyChars     Label  Target  \n",
       "51066              41             251  Politics       6  \n",
       "51067              44             250  Politics       6  "
      ]
     },
     "execution_count": 178,
     "metadata": {},
     "output_type": "execute_result"
    }
   ],
   "source": [
    "df_Pass2_GTD_decomposedSup.tail(2)"
   ]
  },
  {
   "cell_type": "code",
   "execution_count": 179,
   "id": "bd58e7d2-1181-4c12-92f7-fa9c8ed7afcc",
   "metadata": {},
   "outputs": [],
   "source": [
    "# Prepare the final file for df_Pass2_GTD_decomposedRec + df_Pass2_GTD_decomposedSup\n",
    "df_Pass2_GTD_decomposed_final = pd.concat([df_Pass2_GTD_decomposedRec, df_Pass2_GTD_decomposedSup], axis = 0)"
   ]
  },
  {
   "cell_type": "code",
   "execution_count": 180,
   "id": "b13d8ad0-51b6-4b21-a845-257f76e2ceb5",
   "metadata": {},
   "outputs": [
    {
     "data": {
      "text/html": [
       "<div>\n",
       "<style scoped>\n",
       "    .dataframe tbody tr th:only-of-type {\n",
       "        vertical-align: middle;\n",
       "    }\n",
       "\n",
       "    .dataframe tbody tr th {\n",
       "        vertical-align: top;\n",
       "    }\n",
       "\n",
       "    .dataframe thead th {\n",
       "        text-align: right;\n",
       "    }\n",
       "</style>\n",
       "<table border=\"1\" class=\"dataframe\">\n",
       "  <thead>\n",
       "    <tr style=\"text-align: right;\">\n",
       "      <th></th>\n",
       "      <th>Unnamed: 0</th>\n",
       "      <th>TID</th>\n",
       "      <th>OrigTweet</th>\n",
       "      <th>CleanTweetNoHttp</th>\n",
       "      <th>CleanTweetNoSpecChar</th>\n",
       "      <th>HashTags</th>\n",
       "      <th>Mentions</th>\n",
       "      <th>InReplyTo</th>\n",
       "      <th>ArticleTitle</th>\n",
       "      <th>CountReplyTweets</th>\n",
       "      <th>CountReplyWords</th>\n",
       "      <th>CountReplyChars</th>\n",
       "      <th>Label</th>\n",
       "      <th>Target</th>\n",
       "    </tr>\n",
       "  </thead>\n",
       "  <tbody>\n",
       "    <tr>\n",
       "      <th>0</th>\n",
       "      <td>261</td>\n",
       "      <td>833502973204459520</td>\n",
       "      <td>Thanks for coming over man and playing  Great ...</td>\n",
       "      <td>thanks for coming over man and playing great b...</td>\n",
       "      <td>thanks for coming over man and playing great b...</td>\n",
       "      <td>NaN</td>\n",
       "      <td></td>\n",
       "      <td>NaN</td>\n",
       "      <td>Ringo Starr: Abbey Road wasn't meant to be The...</td>\n",
       "      <td>13.0</td>\n",
       "      <td>NaN</td>\n",
       "      <td>NaN</td>\n",
       "      <td>Entertainment</td>\n",
       "      <td>2</td>\n",
       "    </tr>\n",
       "    <tr>\n",
       "      <th>1</th>\n",
       "      <td>749</td>\n",
       "      <td>1175105751846510592</td>\n",
       "      <td>We at #MMRC plant trees &amp;amp; build @MumbaiMet...</td>\n",
       "      <td>we at #mmrc plant trees build @mumbaimetro3 al...</td>\n",
       "      <td>we at mmrc plant trees build mumbaimetro also ...</td>\n",
       "      <td>MMRC infrastructure MMRC</td>\n",
       "      <td>@mumbaimetro3 @cmomaharashtra</td>\n",
       "      <td>NaN</td>\n",
       "      <td>Aarey protests: Supreme Court steps in to save...</td>\n",
       "      <td>37.0</td>\n",
       "      <td>NaN</td>\n",
       "      <td>NaN</td>\n",
       "      <td>Environmental</td>\n",
       "      <td>3</td>\n",
       "    </tr>\n",
       "  </tbody>\n",
       "</table>\n",
       "</div>"
      ],
      "text/plain": [
       "  Unnamed: 0                  TID  \\\n",
       "0        261   833502973204459520   \n",
       "1        749  1175105751846510592   \n",
       "\n",
       "                                           OrigTweet  \\\n",
       "0  Thanks for coming over man and playing  Great ...   \n",
       "1  We at #MMRC plant trees &amp; build @MumbaiMet...   \n",
       "\n",
       "                                    CleanTweetNoHttp  \\\n",
       "0  thanks for coming over man and playing great b...   \n",
       "1  we at #mmrc plant trees build @mumbaimetro3 al...   \n",
       "\n",
       "                                CleanTweetNoSpecChar  \\\n",
       "0  thanks for coming over man and playing great b...   \n",
       "1  we at mmrc plant trees build mumbaimetro also ...   \n",
       "\n",
       "                   HashTags                       Mentions InReplyTo  \\\n",
       "0                       NaN                                      NaN   \n",
       "1  MMRC infrastructure MMRC  @mumbaimetro3 @cmomaharashtra       NaN   \n",
       "\n",
       "                                        ArticleTitle CountReplyTweets  \\\n",
       "0  Ringo Starr: Abbey Road wasn't meant to be The...             13.0   \n",
       "1  Aarey protests: Supreme Court steps in to save...             37.0   \n",
       "\n",
       "  CountReplyWords CountReplyChars          Label  Target  \n",
       "0             NaN             NaN  Entertainment       2  \n",
       "1             NaN             NaN  Environmental       3  "
      ]
     },
     "execution_count": 180,
     "metadata": {},
     "output_type": "execute_result"
    }
   ],
   "source": [
    "df_Pass2_GTD_decomposed_final.head(2)"
   ]
  },
  {
   "cell_type": "code",
   "execution_count": 182,
   "id": "5d03ebc1-fccd-4ec8-873f-b6206d5e9169",
   "metadata": {},
   "outputs": [
    {
     "data": {
      "text/html": [
       "<div>\n",
       "<style scoped>\n",
       "    .dataframe tbody tr th:only-of-type {\n",
       "        vertical-align: middle;\n",
       "    }\n",
       "\n",
       "    .dataframe tbody tr th {\n",
       "        vertical-align: top;\n",
       "    }\n",
       "\n",
       "    .dataframe thead th {\n",
       "        text-align: right;\n",
       "    }\n",
       "</style>\n",
       "<table border=\"1\" class=\"dataframe\">\n",
       "  <thead>\n",
       "    <tr style=\"text-align: right;\">\n",
       "      <th></th>\n",
       "      <th>Unnamed: 0</th>\n",
       "      <th>TID</th>\n",
       "      <th>OrigTweet</th>\n",
       "      <th>CleanTweetNoHttp</th>\n",
       "      <th>CleanTweetNoSpecChar</th>\n",
       "      <th>HashTags</th>\n",
       "      <th>Mentions</th>\n",
       "      <th>InReplyTo</th>\n",
       "      <th>ArticleTitle</th>\n",
       "      <th>CountReplyTweets</th>\n",
       "      <th>CountReplyWords</th>\n",
       "      <th>CountReplyChars</th>\n",
       "      <th>Label</th>\n",
       "      <th>Target</th>\n",
       "    </tr>\n",
       "  </thead>\n",
       "  <tbody>\n",
       "    <tr>\n",
       "      <th>51066</th>\n",
       "      <td>197220</td>\n",
       "      <td>1224290723584978944</td>\n",
       "      <td>@BorisJohnson Together Boris and Donald can di...</td>\n",
       "      <td>@borisjohnson together boris and donald can di...</td>\n",
       "      <td>borisjohnson together boris and donald can dir...</td>\n",
       "      <td>NaN</td>\n",
       "      <td>@borisjohnson</td>\n",
       "      <td>1223365339494453248</td>\n",
       "      <td>NaN</td>\n",
       "      <td>NaN</td>\n",
       "      <td>41</td>\n",
       "      <td>251</td>\n",
       "      <td>Politics</td>\n",
       "      <td>6</td>\n",
       "    </tr>\n",
       "    <tr>\n",
       "      <th>51067</th>\n",
       "      <td>197221</td>\n",
       "      <td>1223366743906824194</td>\n",
       "      <td>@BorisJohnson I donΓÇÖt wanna be brought toget...</td>\n",
       "      <td>@borisjohnson i dongcot wanna be brought toget...</td>\n",
       "      <td>borisjohnson i dongcot wanna be brought togeth...</td>\n",
       "      <td>NaN</td>\n",
       "      <td>@borisjohnson</td>\n",
       "      <td>1223365339494453248</td>\n",
       "      <td>NaN</td>\n",
       "      <td>NaN</td>\n",
       "      <td>44</td>\n",
       "      <td>250</td>\n",
       "      <td>Politics</td>\n",
       "      <td>6</td>\n",
       "    </tr>\n",
       "  </tbody>\n",
       "</table>\n",
       "</div>"
      ],
      "text/plain": [
       "      Unnamed: 0                  TID  \\\n",
       "51066     197220  1224290723584978944   \n",
       "51067     197221  1223366743906824194   \n",
       "\n",
       "                                               OrigTweet  \\\n",
       "51066  @BorisJohnson Together Boris and Donald can di...   \n",
       "51067  @BorisJohnson I donΓÇÖt wanna be brought toget...   \n",
       "\n",
       "                                        CleanTweetNoHttp  \\\n",
       "51066  @borisjohnson together boris and donald can di...   \n",
       "51067  @borisjohnson i dongcot wanna be brought toget...   \n",
       "\n",
       "                                    CleanTweetNoSpecChar HashTags  \\\n",
       "51066  borisjohnson together boris and donald can dir...      NaN   \n",
       "51067  borisjohnson i dongcot wanna be brought togeth...      NaN   \n",
       "\n",
       "            Mentions            InReplyTo ArticleTitle CountReplyTweets  \\\n",
       "51066  @borisjohnson  1223365339494453248          NaN              NaN   \n",
       "51067  @borisjohnson  1223365339494453248          NaN              NaN   \n",
       "\n",
       "      CountReplyWords CountReplyChars     Label  Target  \n",
       "51066              41             251  Politics       6  \n",
       "51067              44             250  Politics       6  "
      ]
     },
     "execution_count": 182,
     "metadata": {},
     "output_type": "execute_result"
    }
   ],
   "source": [
    "df_Pass2_GTD_decomposed_final.tail(2)"
   ]
  },
  {
   "cell_type": "code",
   "execution_count": 183,
   "id": "49c2e169-de89-4c86-9b15-1156d4ceeef6",
   "metadata": {},
   "outputs": [
    {
     "data": {
      "text/plain": [
       "51351"
      ]
     },
     "execution_count": 183,
     "metadata": {},
     "output_type": "execute_result"
    }
   ],
   "source": [
    "len(df_Pass2_GTD_decomposed_final)"
   ]
  },
  {
   "cell_type": "code",
   "execution_count": 184,
   "id": "09e7ce4c-14ba-4827-8404-22b1bd4cda7c",
   "metadata": {},
   "outputs": [],
   "source": [
    "# Save new decomposed SMR for BERT/XLNet to Pass 3\n",
    "df_Pass2_GTD_decomposed_final.to_csv('data/GTxM_Pass2/GTD_Pass2_To_3_decomposedSMR.csv')"
   ]
  },
  {
   "cell_type": "markdown",
   "id": "bff4e781-9063-4c92-8b56-629eeddeee7b",
   "metadata": {
    "tags": []
   },
   "source": [
    "### Generate GTD Rejected"
   ]
  },
  {
   "cell_type": "code",
   "execution_count": 109,
   "id": "2bb8ec96-3d99-457d-bf93-d2f5706bde42",
   "metadata": {},
   "outputs": [
    {
     "data": {
      "text/plain": [
       "407"
      ]
     },
     "execution_count": 109,
     "metadata": {},
     "output_type": "execute_result"
    }
   ],
   "source": [
    "df_Rec = df['RecID']\n",
    "len(df_Rec)"
   ]
  },
  {
   "cell_type": "code",
   "execution_count": 120,
   "id": "0f63cf3c-c120-492a-be48-8a9297518304",
   "metadata": {},
   "outputs": [
    {
     "data": {
      "text/plain": [
       "283"
      ]
     },
     "execution_count": 120,
     "metadata": {},
     "output_type": "execute_result"
    }
   ],
   "source": [
    "# New GTD\n",
    "df_NewGTD_Rec = df_Pass2_To_3_GTD_tokens[['RecID','Label']]\n",
    "len(df_NewGTD_Rec)"
   ]
  },
  {
   "cell_type": "code",
   "execution_count": 121,
   "id": "ceba5887-99a3-4159-bbbc-ebb753857dcd",
   "metadata": {},
   "outputs": [],
   "source": [
    "df_Rejected_Rec = pd.merge(df_Rec, df_NewGTD_Rec, on='RecID', how='left')"
   ]
  },
  {
   "cell_type": "code",
   "execution_count": 122,
   "id": "e1bc8d95-046e-4e0b-9780-4013d0a18c31",
   "metadata": {},
   "outputs": [
    {
     "data": {
      "text/plain": [
       "407"
      ]
     },
     "execution_count": 122,
     "metadata": {},
     "output_type": "execute_result"
    }
   ],
   "source": [
    "len(df_Rejected_Rec)"
   ]
  },
  {
   "cell_type": "code",
   "execution_count": 123,
   "id": "6bdcf564-87c3-490f-9a09-f00086e54d3e",
   "metadata": {},
   "outputs": [],
   "source": [
    "df_Rejected_Rec = df_Rejected_Rec[df_Rejected_Rec.Label.isna()]"
   ]
  },
  {
   "cell_type": "code",
   "execution_count": 124,
   "id": "ef30025e-91f0-4944-ac24-bb9e81a098fb",
   "metadata": {},
   "outputs": [
    {
     "data": {
      "text/plain": [
       "124"
      ]
     },
     "execution_count": 124,
     "metadata": {},
     "output_type": "execute_result"
    }
   ],
   "source": [
    "len(df_Rejected_Rec)"
   ]
  },
  {
   "cell_type": "code",
   "execution_count": 126,
   "id": "f5a7e8c5-dd10-47f4-a96e-b8628f47593e",
   "metadata": {},
   "outputs": [],
   "source": [
    "df_Rejected_Rec['RecID'].to_csv('data/GTxM_Pass2/GTxM_Pass2_Reject.csv', index=False)"
   ]
  },
  {
   "cell_type": "markdown",
   "id": "b692afb9-0a8b-4cba-934b-dbef5aa2b6bf",
   "metadata": {},
   "source": [
    "### Generate JatoMaster for Rejected (rerun)"
   ]
  },
  {
   "cell_type": "code",
   "execution_count": 3,
   "id": "63371ea4-0ae7-4853-b0da-7ebf7acf28b5",
   "metadata": {},
   "outputs": [],
   "source": [
    "df_Rejected_Rec = pd.read_csv('data/GTxM_Pass2/GTxM_Pass2_Reject.csv', dtype='str')\n",
    "df_master_tokens = pd.read_csv('data/MasterTokens.csv', dtype='str')"
   ]
  },
  {
   "cell_type": "code",
   "execution_count": 4,
   "id": "dcd762e3-59e9-4ca3-b81c-289737a4ce3d",
   "metadata": {},
   "outputs": [
    {
     "data": {
      "text/plain": [
       "124"
      ]
     },
     "execution_count": 4,
     "metadata": {},
     "output_type": "execute_result"
    }
   ],
   "source": [
    "df_jato_Pass2Rej_tokens = pd.merge(df_master_tokens,df_Rejected_Rec, on='RecID')\n",
    "len(df_jato_Pass2Rej_tokens)"
   ]
  },
  {
   "cell_type": "code",
   "execution_count": 5,
   "id": "741bb6ea-65ed-4961-a6d0-742be99064b0",
   "metadata": {},
   "outputs": [
    {
     "data": {
      "text/html": [
       "<div>\n",
       "<style scoped>\n",
       "    .dataframe tbody tr th:only-of-type {\n",
       "        vertical-align: middle;\n",
       "    }\n",
       "\n",
       "    .dataframe tbody tr th {\n",
       "        vertical-align: top;\n",
       "    }\n",
       "\n",
       "    .dataframe thead th {\n",
       "        text-align: right;\n",
       "    }\n",
       "</style>\n",
       "<table border=\"1\" class=\"dataframe\">\n",
       "  <thead>\n",
       "    <tr style=\"text-align: right;\">\n",
       "      <th></th>\n",
       "      <th>rowid</th>\n",
       "      <th>RecID</th>\n",
       "      <th>PubTitle</th>\n",
       "      <th>RecDoc</th>\n",
       "      <th>countSupTweets</th>\n",
       "      <th>smrHashtags</th>\n",
       "      <th>smrMentions</th>\n",
       "      <th>smrNER</th>\n",
       "      <th>smrNouns</th>\n",
       "      <th>smrVerbs</th>\n",
       "      <th>smrAdverbs</th>\n",
       "      <th>smrAdjectives</th>\n",
       "      <th>smrTopText</th>\n",
       "      <th>smrSummary</th>\n",
       "    </tr>\n",
       "  </thead>\n",
       "  <tbody>\n",
       "    <tr>\n",
       "      <th>0</th>\n",
       "      <td>479</td>\n",
       "      <td>1178650857430274049</td>\n",
       "      <td>Naga Munchetty, BBC News Anchor, Has Reprimand...</td>\n",
       "      <td>BBC now has to explain; 1. why it reprimanded ...</td>\n",
       "      <td>210.0</td>\n",
       "      <td>racist bbcbias catalan istandwithnaga benn yes...</td>\n",
       "      <td>conservatives iaindocherty bbcdavidjordan miri...</td>\n",
       "      <td>naga munchetti dan walker toni hall execut com...</td>\n",
       "      <td>naga munchetti racism host dan walker air reas...</td>\n",
       "      <td>explain reprimand condemn reprimand draw lie q...</td>\n",
       "      <td>twice perhap twice intens abroad bare real hon...</td>\n",
       "      <td>big senior high evid difficult subtl sophist p...</td>\n",
       "      <td>BBC now has to explain; 1. why it reprimanded ...</td>\n",
       "      <td>Also needs to be asked is the fact that only 1...</td>\n",
       "    </tr>\n",
       "    <tr>\n",
       "      <th>1</th>\n",
       "      <td>519</td>\n",
       "      <td>1179074719049494528</td>\n",
       "      <td>Woman in swimsuit photo-shamed by potential em...</td>\n",
       "      <td>i was objectified earlier today by a company b...</td>\n",
       "      <td>260.0</td>\n",
       "      <td>realfeminism theyneverdeservedyou daringgreatl...</td>\n",
       "      <td>u_movingup realyeyoza kim_amsterdam cbsaustinc...</td>\n",
       "      <td>earlier ig ashley smith dalla tx us bc ms clow...</td>\n",
       "      <td>compani pictur bikini photo insta stori compan...</td>\n",
       "      <td>claim screenshot post baffl handl itgco live c...</td>\n",
       "      <td>earlier actual fulli obvious absolut clearli s...</td>\n",
       "      <td>objectifi unprofession strang fearless intern ...</td>\n",
       "      <td>i was objectified earlier today by a company b...</td>\n",
       "      <td>i was objectified earlier today by a company b...</td>\n",
       "    </tr>\n",
       "  </tbody>\n",
       "</table>\n",
       "</div>"
      ],
      "text/plain": [
       "  rowid                RecID  \\\n",
       "0   479  1178650857430274049   \n",
       "1   519  1179074719049494528   \n",
       "\n",
       "                                            PubTitle  \\\n",
       "0  Naga Munchetty, BBC News Anchor, Has Reprimand...   \n",
       "1  Woman in swimsuit photo-shamed by potential em...   \n",
       "\n",
       "                                              RecDoc countSupTweets  \\\n",
       "0  BBC now has to explain; 1. why it reprimanded ...          210.0   \n",
       "1  i was objectified earlier today by a company b...          260.0   \n",
       "\n",
       "                                         smrHashtags  \\\n",
       "0  racist bbcbias catalan istandwithnaga benn yes...   \n",
       "1  realfeminism theyneverdeservedyou daringgreatl...   \n",
       "\n",
       "                                         smrMentions  \\\n",
       "0  conservatives iaindocherty bbcdavidjordan miri...   \n",
       "1  u_movingup realyeyoza kim_amsterdam cbsaustinc...   \n",
       "\n",
       "                                              smrNER  \\\n",
       "0  naga munchetti dan walker toni hall execut com...   \n",
       "1  earlier ig ashley smith dalla tx us bc ms clow...   \n",
       "\n",
       "                                            smrNouns  \\\n",
       "0  naga munchetti racism host dan walker air reas...   \n",
       "1  compani pictur bikini photo insta stori compan...   \n",
       "\n",
       "                                            smrVerbs  \\\n",
       "0  explain reprimand condemn reprimand draw lie q...   \n",
       "1  claim screenshot post baffl handl itgco live c...   \n",
       "\n",
       "                                          smrAdverbs  \\\n",
       "0  twice perhap twice intens abroad bare real hon...   \n",
       "1  earlier actual fulli obvious absolut clearli s...   \n",
       "\n",
       "                                       smrAdjectives  \\\n",
       "0  big senior high evid difficult subtl sophist p...   \n",
       "1  objectifi unprofession strang fearless intern ...   \n",
       "\n",
       "                                          smrTopText  \\\n",
       "0  BBC now has to explain; 1. why it reprimanded ...   \n",
       "1  i was objectified earlier today by a company b...   \n",
       "\n",
       "                                          smrSummary  \n",
       "0  Also needs to be asked is the fact that only 1...  \n",
       "1  i was objectified earlier today by a company b...  "
      ]
     },
     "execution_count": 5,
     "metadata": {},
     "output_type": "execute_result"
    }
   ],
   "source": [
    "df_jato_Pass2Rej_tokens.head(2)"
   ]
  },
  {
   "cell_type": "code",
   "execution_count": 6,
   "id": "fc2e0c5b-382f-40d6-b9a5-7a7c28f7aae4",
   "metadata": {},
   "outputs": [],
   "source": [
    "df_jato_Pass2Rej_tokens.drop(['smrAdverbs','smrAdjectives'], axis=1, inplace=True)"
   ]
  },
  {
   "cell_type": "code",
   "execution_count": 7,
   "id": "d8df28b0-1180-4799-b0e6-acb11c2fc248",
   "metadata": {},
   "outputs": [],
   "source": [
    "df_jato_Pass2Rej_tokens['PubTitle'] = df_jato_Pass2Rej_tokens['PubTitle'].apply(removeSpCharLine)\n",
    "df_jato_Pass2Rej_tokens['RecDoc'] = df_jato_Pass2Rej_tokens['RecDoc'].apply(removeSpCharLine)\n",
    "df_jato_Pass2Rej_tokens['smrTopText'] = df_jato_Pass2Rej_tokens['smrTopText'].apply(removeSpCharLine)\n",
    "df_jato_Pass2Rej_tokens['smrSummary'] = df_jato_Pass2Rej_tokens['smrSummary'].apply(removeSpCharLine)"
   ]
  },
  {
   "cell_type": "code",
   "execution_count": 8,
   "id": "6dbcd172-9a7f-46e3-b3e3-d464af969e1d",
   "metadata": {},
   "outputs": [],
   "source": [
    "# save the file to D:\\KOPro\\PhD\\Implementation\\SourceCode\\JatoPass2\\data -- \n",
    "df_jato_Pass2Rej_tokens.to_csv('D:/KOPro/PhD/Implementation/SourceCode/jatoPass2_rerun_HO1/data/JatoMaster.csv', index=False)"
   ]
  },
  {
   "cell_type": "code",
   "execution_count": null,
   "id": "3083fe1f-86af-4032-a18a-4b43db6eba44",
   "metadata": {},
   "outputs": [],
   "source": []
  }
 ],
 "metadata": {
  "kernelspec": {
   "display_name": "Python 3 (ipykernel)",
   "language": "python",
   "name": "python3"
  },
  "language_info": {
   "codemirror_mode": {
    "name": "ipython",
    "version": 3
   },
   "file_extension": ".py",
   "mimetype": "text/x-python",
   "name": "python",
   "nbconvert_exporter": "python",
   "pygments_lexer": "ipython3",
   "version": "3.8.11"
  }
 },
 "nbformat": 4,
 "nbformat_minor": 5
}
