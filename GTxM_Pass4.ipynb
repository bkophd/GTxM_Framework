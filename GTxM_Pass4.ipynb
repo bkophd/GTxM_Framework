{
 "cells": [
  {
   "cell_type": "markdown",
   "id": "5fd2ee66-8412-4b24-a793-c76fc19da9d6",
   "metadata": {},
   "source": [
    "##### Pass 4 objective: Perform CGT on the remaining unclassified SMRs, use the GTxM Classifier, HO1 and HO2 to code new GTD"
   ]
  },
  {
   "cell_type": "code",
   "execution_count": 1,
   "id": "ddf8a06b-aa79-497c-9ff0-cbcda5db5e8a",
   "metadata": {
    "tags": []
   },
   "outputs": [],
   "source": [
    "import re\n",
    "import numpy as np\n",
    "import pandas as pd\n",
    "from krippendorff_alpha import *"
   ]
  },
  {
   "cell_type": "markdown",
   "id": "a90fa01e-df39-4d6f-b64d-1c7ba703e715",
   "metadata": {
    "jp-MarkdownHeadingCollapsed": true,
    "tags": []
   },
   "source": [
    "### Cleanup for Jato"
   ]
  },
  {
   "cell_type": "code",
   "execution_count": 3,
   "id": "7fa77343-d3fe-4805-8c99-6fbc9a7d56fa",
   "metadata": {},
   "outputs": [],
   "source": [
    "# For use with Jato\n",
    "\n",
    "def removeSpChar4Jato(text):\n",
    "  #old text = re.sub(r'\\W', ' ', text) #replace ALL non-word characters, including emojis with space\n",
    "  # remove all non ASCII characters \n",
    "  text.replace('\\n', ' ')\n",
    "  text.replace('\\r', ' ')\n",
    "  # credit: https://stackoverflow.com/questions/2758921/regular-expression-that-finds-and-replaces-non-ascii-characters-with-python\n",
    "  text = re.sub(r\"[\\u0080-\\uFFFF]\", \" \", text) #see ASCII list: https://www.asciitable.com/\n",
    "  text = \" \".join(text.split()) # replace multiple spaces with a single space\n",
    "  return(text)\n",
    "\n",
    "def cleanupText4Jato(text):\n",
    "  #replace this strange chars in the text with space\n",
    "  text = text.replace(\"GCO\",\" \")\n",
    "  text = text.replace(\"GY=n+\",\" \")\n",
    "  text = text.replace(\"GCY\",\" \")\n",
    "  text = text.replace(\"fcafc+\",\" \")\n",
    "  text = text.replace(\"fAE+\",\" \")\n",
    "  text = text.replace(\"#fAE\",\" \")\n",
    "  text = text.replace(\"fnae\",\" \")\n",
    "  text = text.replace(\"fye\",\" \")\n",
    "\n",
    "  #Replace common abbreviations and slangs\n",
    "  text = text.replace(\" i m \",\" i am \")\n",
    "  text = text.replace(\" i ve \",\" i have \")\n",
    "  text = text.replace(\" i ll \",\" i will \")\n",
    "  text = text.replace(\" i d \",\" i had \")\n",
    "  text = text.replace(\" that s \",\" that is \")\n",
    "  text = text.replace(\" isn t \",\" is not \")\n",
    "  text = text.replace(\" it s \",\" it is \")\n",
    "  text = text.replace(\" she s \",\" she is \")\n",
    "  text = text.replace(\" he s \",\" he is \")\n",
    "  text = text.replace(\" u \",\" you \")\n",
    "  text = text.replace(\" ur \",\" your \")\n",
    "  text = text.replace(\" b4 \",\" before \")\n",
    "  text = text.replace(\" wasnt \",\" was not \")\n",
    "  text = text.replace(\" wasn t \",\" was not \")\n",
    "  text = text.replace(\" cant \",\" can not \")\n",
    "  text = text.replace(\" can t \",\" can not \")\n",
    "  text = text.replace(\" couldnt \",\" could not \")\n",
    "  text = text.replace(\" couldn t \",\" could not \")\n",
    "  text = text.replace(\" wouldnt \",\" would not \")\n",
    "  text = text.replace(\" wouldn t \",\" would not \")\n",
    "  text = text.replace(\" dont \",\" do not \")\n",
    "  text = text.replace(\" don t \",\" do not \")\n",
    "  text = text.replace(\" didnt \",\" did not \")\n",
    "  text = text.replace(\" didn t \",\" did not \")\n",
    "  text = text.replace(\" let s \",\" let us \")\n",
    "  text = text.replace(\" i'm \",\" i am \")\n",
    "  text = text.replace(\" i've \",\" i have \")\n",
    "  text = text.replace(\" i'll \",\" i will \")\n",
    "  text = text.replace(\" i'd \",\" i had \")\n",
    "  text = text.replace(\" that's \",\" that is \")\n",
    "  text = text.replace(\" isn't \",\" is not \")\n",
    "  text = text.replace(\" it's \",\" it is \")\n",
    "  text = text.replace(\" she's \",\" she is \")\n",
    "  text = text.replace(\" he's \",\" he is \")\n",
    "  text = text.replace(\" u \",\" you \")\n",
    "  text = text.replace(\" ur \",\" your \")\n",
    "  text = text.replace(\" b4 \",\" before \")\n",
    "  text = text.replace(\" wasn't \",\" was not \")\n",
    "  text = text.replace(\" can't \",\" can not \")\n",
    "  text = text.replace(\" couldn't \",\" could not \")\n",
    "  text = text.replace(\" wouldn't \",\" would not \")\n",
    "  text = text.replace(\" don't \",\" do not \")\n",
    "  text = text.replace(\" didn't \",\" did not \")\n",
    "  text = text.replace(\" let's \",\" let us \")\n",
    "  text = text.replace(\" luv \",\" love \")\n",
    "  text = text.replace(\" true \",\" truth \")\n",
    "  text = text.replace(\" ppl \",\" people \")\n",
    "  text = text.replace(\" fb \",\" facebook \")\n",
    "  text = text.replace(\" b day \",\" birthday \")\n",
    "  text = text.replace(\" bday \",\" birthday \")\n",
    "  if (len(text.strip())  == 0):\n",
    "      text = ' ' #replace None with a single space\n",
    "  return(text)\n"
   ]
  },
  {
   "cell_type": "markdown",
   "id": "ea9a403f-cc29-4366-94c0-e896119af3e3",
   "metadata": {
    "tags": []
   },
   "source": [
    "### CGT Step 1: Pattern Detection"
   ]
  },
  {
   "cell_type": "code",
   "execution_count": 3,
   "id": "93f04d34-3a13-4ec7-bae6-623fb66ef5e0",
   "metadata": {},
   "outputs": [
    {
     "name": "stderr",
     "output_type": "stream",
     "text": [
      "[nltk_data] Downloading package wordnet to\n",
      "[nltk_data]     C:\\Users\\kazeem\\AppData\\Roaming\\nltk_data...\n",
      "[nltk_data]   Package wordnet is already up-to-date!\n",
      "[nltk_data] Downloading package words to\n",
      "[nltk_data]     C:\\Users\\kazeem\\AppData\\Roaming\\nltk_data...\n",
      "[nltk_data]   Package words is already up-to-date!\n",
      "[nltk_data] Downloading package punkt to\n",
      "[nltk_data]     C:\\Users\\kazeem\\AppData\\Roaming\\nltk_data...\n",
      "[nltk_data]   Package punkt is already up-to-date!\n"
     ]
    }
   ],
   "source": [
    "# Import libraries\n",
    "from pprint import pprint\n",
    "# Gensim for topic modeling functions\n",
    "import gensim\n",
    "import gensim.corpora as corpora\n",
    "from gensim.utils import simple_preprocess\n",
    "from gensim.models import CoherenceModel\n",
    "# spacy for lemmatization\n",
    "import spacy\n",
    "# Plotting tools\n",
    "import pyLDAvis\n",
    "import pyLDAvis.gensim_models\n",
    "import matplotlib.pyplot as plt\n",
    "import warnings\n",
    "warnings.filterwarnings(\"ignore\",category=DeprecationWarning)\n",
    "# libraries to tokenize, clean up and calculate word counts\n",
    "import nltk\n",
    "from nltk.corpus import words\n",
    "from nltk.stem import PorterStemmer\n",
    "from nltk.stem import WordNetLemmatizer\n",
    "nltk.download('wordnet')\n",
    "nltk.download('words')\n",
    "nltk.download('punkt')\n",
    "wordlist = nltk.corpus.words.words()\n",
    "stemmer = PorterStemmer()\n",
    "lemmatizer = WordNetLemmatizer()\n",
    "wordlist = [stemmer.stem(lemmatizer.lemmatize(word)) for word in wordlist]"
   ]
  },
  {
   "cell_type": "code",
   "execution_count": 17,
   "id": "aa5d69ad-03ec-4ad2-a833-e493c12b6a87",
   "metadata": {},
   "outputs": [
    {
     "data": {
      "text/plain": [
       "(1512, 1057, 223)"
      ]
     },
     "execution_count": 17,
     "metadata": {},
     "output_type": "execute_result"
    }
   ],
   "source": [
    "# Import Dataset\n",
    "df = pd.read_csv('data/MasterTokens_10to260SupTw_Not_GTr.csv')\n",
    "df_GTD_Rec = pd.read_csv('data/GTxM_Pass3/GTxM_Pass3_GTD_UpTodate.csv')\n",
    "df_Reject_Rec = pd.read_csv('data/GTxM_Pass3/GTxM_Pass3_Reject_UpTodate.csv')\n",
    "len(df), len(df_GTD_Rec), len(df_Reject_Rec)"
   ]
  },
  {
   "cell_type": "code",
   "execution_count": 18,
   "id": "02262b25-a134-4eb4-bb2d-ad869226a740",
   "metadata": {},
   "outputs": [
    {
     "data": {
      "text/plain": [
       "1512"
      ]
     },
     "execution_count": 18,
     "metadata": {},
     "output_type": "execute_result"
    }
   ],
   "source": [
    "# get the CGT RecIDs by ensuring GTD and Rejected are not included\n",
    "df_CGT_Rec = pd.merge(df['RecID'], df_GTD_Rec, on='RecID', how='left')\n",
    "len(df_CGT_Rec)"
   ]
  },
  {
   "cell_type": "code",
   "execution_count": 19,
   "id": "62f22b08-9899-4317-9f18-7d30220c133b",
   "metadata": {},
   "outputs": [
    {
     "data": {
      "text/html": [
       "<div>\n",
       "<style scoped>\n",
       "    .dataframe tbody tr th:only-of-type {\n",
       "        vertical-align: middle;\n",
       "    }\n",
       "\n",
       "    .dataframe tbody tr th {\n",
       "        vertical-align: top;\n",
       "    }\n",
       "\n",
       "    .dataframe thead th {\n",
       "        text-align: right;\n",
       "    }\n",
       "</style>\n",
       "<table border=\"1\" class=\"dataframe\">\n",
       "  <thead>\n",
       "    <tr style=\"text-align: right;\">\n",
       "      <th></th>\n",
       "      <th>RecID</th>\n",
       "      <th>Label</th>\n",
       "      <th>Target</th>\n",
       "    </tr>\n",
       "  </thead>\n",
       "  <tbody>\n",
       "    <tr>\n",
       "      <th>0</th>\n",
       "      <td>1057291398880391170</td>\n",
       "      <td>NaN</td>\n",
       "      <td>NaN</td>\n",
       "    </tr>\n",
       "    <tr>\n",
       "      <th>1</th>\n",
       "      <td>1124056098925944832</td>\n",
       "      <td>NaN</td>\n",
       "      <td>NaN</td>\n",
       "    </tr>\n",
       "  </tbody>\n",
       "</table>\n",
       "</div>"
      ],
      "text/plain": [
       "                 RecID Label  Target\n",
       "0  1057291398880391170   NaN     NaN\n",
       "1  1124056098925944832   NaN     NaN"
      ]
     },
     "execution_count": 19,
     "metadata": {},
     "output_type": "execute_result"
    }
   ],
   "source": [
    "df_CGT_Rec.head(2)"
   ]
  },
  {
   "cell_type": "code",
   "execution_count": 20,
   "id": "330b4121-0ddf-43ee-8587-b8a7722962a2",
   "metadata": {},
   "outputs": [
    {
     "data": {
      "text/plain": [
       "1269"
      ]
     },
     "execution_count": 20,
     "metadata": {},
     "output_type": "execute_result"
    }
   ],
   "source": [
    "df_CGT_Rec = df_CGT_Rec[df_CGT_Rec.Target.isna()]\n",
    "len(df_CGT_Rec)"
   ]
  },
  {
   "cell_type": "code",
   "execution_count": 31,
   "id": "d51b75d3-d7dd-4fba-ab2a-ce5faef919f5",
   "metadata": {},
   "outputs": [],
   "source": [
    "# remove Rejected\n",
    "df_CGT_Rec_NoReject = pd.merge(df_CGT_Rec, df_Reject_Rec, on='RecID', how=\"outer\", indicator=True\n",
    "              ).query('_merge==\"left_only\"')"
   ]
  },
  {
   "cell_type": "code",
   "execution_count": 32,
   "id": "6d678d7b-c9ca-4c10-8f20-c0808a5d359c",
   "metadata": {},
   "outputs": [
    {
     "data": {
      "text/plain": [
       "1105"
      ]
     },
     "execution_count": 32,
     "metadata": {},
     "output_type": "execute_result"
    }
   ],
   "source": [
    "len(df_CGT_Rec_NoReject)"
   ]
  },
  {
   "cell_type": "code",
   "execution_count": 33,
   "id": "e70f9f24-8b7d-4f34-975c-2e9dbba4a30f",
   "metadata": {},
   "outputs": [
    {
     "data": {
      "text/html": [
       "<div>\n",
       "<style scoped>\n",
       "    .dataframe tbody tr th:only-of-type {\n",
       "        vertical-align: middle;\n",
       "    }\n",
       "\n",
       "    .dataframe tbody tr th {\n",
       "        vertical-align: top;\n",
       "    }\n",
       "\n",
       "    .dataframe thead th {\n",
       "        text-align: right;\n",
       "    }\n",
       "</style>\n",
       "<table border=\"1\" class=\"dataframe\">\n",
       "  <thead>\n",
       "    <tr style=\"text-align: right;\">\n",
       "      <th></th>\n",
       "      <th>RecID</th>\n",
       "      <th>Label</th>\n",
       "      <th>Target</th>\n",
       "      <th>_merge</th>\n",
       "    </tr>\n",
       "  </thead>\n",
       "  <tbody>\n",
       "    <tr>\n",
       "      <th>0</th>\n",
       "      <td>1057291398880391170</td>\n",
       "      <td>NaN</td>\n",
       "      <td>NaN</td>\n",
       "      <td>left_only</td>\n",
       "    </tr>\n",
       "    <tr>\n",
       "      <th>1</th>\n",
       "      <td>1124056098925944832</td>\n",
       "      <td>NaN</td>\n",
       "      <td>NaN</td>\n",
       "      <td>left_only</td>\n",
       "    </tr>\n",
       "  </tbody>\n",
       "</table>\n",
       "</div>"
      ],
      "text/plain": [
       "                 RecID Label  Target     _merge\n",
       "0  1057291398880391170   NaN     NaN  left_only\n",
       "1  1124056098925944832   NaN     NaN  left_only"
      ]
     },
     "execution_count": 33,
     "metadata": {},
     "output_type": "execute_result"
    }
   ],
   "source": [
    "df_CGT_Rec_NoReject.head(2)"
   ]
  },
  {
   "cell_type": "code",
   "execution_count": 34,
   "id": "56b3f370-f71d-4af4-ba52-bed59f6d4bf6",
   "metadata": {},
   "outputs": [],
   "source": [
    "df_CGT = pd.merge(df, df_CGT_Rec_NoReject['RecID'], on='RecID', how='inner')"
   ]
  },
  {
   "cell_type": "code",
   "execution_count": 35,
   "id": "959d8c9d-0e9f-412f-abb8-87156476e2c2",
   "metadata": {},
   "outputs": [
    {
     "data": {
      "text/plain": [
       "1105"
      ]
     },
     "execution_count": 35,
     "metadata": {},
     "output_type": "execute_result"
    }
   ],
   "source": [
    "len(df_CGT)"
   ]
  },
  {
   "cell_type": "code",
   "execution_count": 36,
   "id": "3b956ebc-295c-4abb-ae7e-7f4b3e14d2bc",
   "metadata": {},
   "outputs": [
    {
     "data": {
      "text/html": [
       "<div>\n",
       "<style scoped>\n",
       "    .dataframe tbody tr th:only-of-type {\n",
       "        vertical-align: middle;\n",
       "    }\n",
       "\n",
       "    .dataframe tbody tr th {\n",
       "        vertical-align: top;\n",
       "    }\n",
       "\n",
       "    .dataframe thead th {\n",
       "        text-align: right;\n",
       "    }\n",
       "</style>\n",
       "<table border=\"1\" class=\"dataframe\">\n",
       "  <thead>\n",
       "    <tr style=\"text-align: right;\">\n",
       "      <th></th>\n",
       "      <th>rowid</th>\n",
       "      <th>RecID</th>\n",
       "      <th>PubTitle</th>\n",
       "      <th>RecDoc</th>\n",
       "      <th>countSupTweets</th>\n",
       "      <th>smrHashtags</th>\n",
       "      <th>smrMentions</th>\n",
       "      <th>smrNER</th>\n",
       "      <th>smrNouns</th>\n",
       "      <th>smrVerbs</th>\n",
       "      <th>smrAdverbs</th>\n",
       "      <th>smrAdjectives</th>\n",
       "      <th>smrTopText</th>\n",
       "      <th>smrSummary</th>\n",
       "    </tr>\n",
       "  </thead>\n",
       "  <tbody>\n",
       "    <tr>\n",
       "      <th>0</th>\n",
       "      <td>155</td>\n",
       "      <td>1057291398880391170</td>\n",
       "      <td>Could fireworks be restricted at Scottish homes?</td>\n",
       "      <td>This is the effect fireworks can have on a dog...</td>\n",
       "      <td>45.0</td>\n",
       "      <td>banfireworks fireworks</td>\n",
       "      <td>neilmackay gamesshed didriksoderlind bbcradios...</td>\n",
       "      <td>juli timmi uk last night daili bob marley ub j...</td>\n",
       "      <td>effect firework dog juli hors goat lot firewor...</td>\n",
       "      <td>stand comfort reli built hear held purchas des...</td>\n",
       "      <td>outsid long care fairli ahead exactli seemingl...</td>\n",
       "      <td>gener licens wide gener last daili big loud so...</td>\n",
       "      <td>This is the effect fireworks can have on a dog...</td>\n",
       "      <td>This is the effect fireworks can have on a dog...</td>\n",
       "    </tr>\n",
       "    <tr>\n",
       "      <th>1</th>\n",
       "      <td>258</td>\n",
       "      <td>1124056098925944832</td>\n",
       "      <td>Sonic movie: New trailer shows redesigned hedg...</td>\n",
       "      <td>Thank you for the support. And the criticism. ...</td>\n",
       "      <td>18.0</td>\n",
       "      <td>sonicmovie gottafixfast</td>\n",
       "      <td>fowltown</td>\n",
       "      <td>paramount sega sonic hollywood sonic jeff</td>\n",
       "      <td>support critic messag design chang paramount s...</td>\n",
       "      <td>happen care watch show listen handl learn wait...</td>\n",
       "      <td>fulli total definit actual</td>\n",
       "      <td>loud clear happi commit hard massiv awesom gla...</td>\n",
       "      <td>Thank you for the support. And the criticism. ...</td>\n",
       "      <td>Thank you for the support. And the criticism. ...</td>\n",
       "    </tr>\n",
       "  </tbody>\n",
       "</table>\n",
       "</div>"
      ],
      "text/plain": [
       "   rowid                RecID  \\\n",
       "0    155  1057291398880391170   \n",
       "1    258  1124056098925944832   \n",
       "\n",
       "                                            PubTitle  \\\n",
       "0   Could fireworks be restricted at Scottish homes?   \n",
       "1  Sonic movie: New trailer shows redesigned hedg...   \n",
       "\n",
       "                                              RecDoc  countSupTweets  \\\n",
       "0  This is the effect fireworks can have on a dog...            45.0   \n",
       "1  Thank you for the support. And the criticism. ...            18.0   \n",
       "\n",
       "               smrHashtags                                        smrMentions  \\\n",
       "0   banfireworks fireworks  neilmackay gamesshed didriksoderlind bbcradios...   \n",
       "1  sonicmovie gottafixfast                                           fowltown   \n",
       "\n",
       "                                              smrNER  \\\n",
       "0  juli timmi uk last night daili bob marley ub j...   \n",
       "1          paramount sega sonic hollywood sonic jeff   \n",
       "\n",
       "                                            smrNouns  \\\n",
       "0  effect firework dog juli hors goat lot firewor...   \n",
       "1  support critic messag design chang paramount s...   \n",
       "\n",
       "                                            smrVerbs  \\\n",
       "0  stand comfort reli built hear held purchas des...   \n",
       "1  happen care watch show listen handl learn wait...   \n",
       "\n",
       "                                          smrAdverbs  \\\n",
       "0  outsid long care fairli ahead exactli seemingl...   \n",
       "1                         fulli total definit actual   \n",
       "\n",
       "                                       smrAdjectives  \\\n",
       "0  gener licens wide gener last daili big loud so...   \n",
       "1  loud clear happi commit hard massiv awesom gla...   \n",
       "\n",
       "                                          smrTopText  \\\n",
       "0  This is the effect fireworks can have on a dog...   \n",
       "1  Thank you for the support. And the criticism. ...   \n",
       "\n",
       "                                          smrSummary  \n",
       "0  This is the effect fireworks can have on a dog...  \n",
       "1  Thank you for the support. And the criticism. ...  "
      ]
     },
     "execution_count": 36,
     "metadata": {},
     "output_type": "execute_result"
    }
   ],
   "source": [
    "df_CGT.head(2)"
   ]
  },
  {
   "cell_type": "code",
   "execution_count": 37,
   "id": "ecafbf3b-8501-4738-ac06-a43f31a59758",
   "metadata": {},
   "outputs": [
    {
     "name": "stdout",
     "output_type": "stream",
     "text": [
      "Token list created successfully.\n"
     ]
    }
   ],
   "source": [
    "ExpName = \"Pass4_CGTNounAdv\"\n",
    "df_CGT_corpus = df_CGT['smrNouns'].fillna(value='') + df_CGT['smrAdverbs'].fillna(value='')\n",
    "data = df_CGT_corpus.str.split()\n",
    "data_words = data.values.tolist()\n",
    "print('Token list created successfully.')"
   ]
  },
  {
   "cell_type": "code",
   "execution_count": 38,
   "id": "844fae50-0001-4fb3-861c-4bcbb166db7e",
   "metadata": {},
   "outputs": [
    {
     "name": "stdout",
     "output_type": "stream",
     "text": [
      "Word dictionary created successfully.\n"
     ]
    }
   ],
   "source": [
    "df_CGT_docs = df_CGT['RecID']\n",
    "id2word = corpora.Dictionary(data_words)\n",
    "print('Word dictionary created successfully.')"
   ]
  },
  {
   "cell_type": "code",
   "execution_count": 39,
   "id": "eef9698a-9ac8-406c-aa05-677788d9b9bc",
   "metadata": {},
   "outputs": [
    {
     "name": "stdout",
     "output_type": "stream",
     "text": [
      "Term-Doc-Frequency created successfully.\n"
     ]
    }
   ],
   "source": [
    "# Term Document Frequency\n",
    "texts = data_words\n",
    "corpus = [id2word.doc2bow(text) for text in texts]\n",
    "print('Term-Doc-Frequency created successfully.')"
   ]
  },
  {
   "cell_type": "code",
   "execution_count": 40,
   "id": "ab6a3dbb-0d54-4552-892b-1aec3b9a65a2",
   "metadata": {},
   "outputs": [
    {
     "data": {
      "text/plain": [
       "1105"
      ]
     },
     "execution_count": 40,
     "metadata": {},
     "output_type": "execute_result"
    }
   ],
   "source": [
    "len(corpus)"
   ]
  },
  {
   "cell_type": "code",
   "execution_count": 41,
   "id": "084d68d1-8138-427a-b9d0-e2bd8d69e9bd",
   "metadata": {},
   "outputs": [
    {
     "name": "stdout",
     "output_type": "stream",
     "text": [
      "Building LDA model...\n",
      "LDA model created successfully.\n",
      "[(0,\n",
      "  '0.051*\"space\" + 0.039*\"book\" + 0.031*\"movi\" + 0.020*\"art\" + 0.019*\"film\" + '\n",
      "  '0.018*\"ad\" + 0.015*\"star\" + 0.015*\"twitter\" + 0.012*\"site\" + '\n",
      "  '0.012*\"transgend\"'),\n",
      " (1,\n",
      "  '0.054*\"food\" + 0.053*\"anim\" + 0.042*\"coffe\" + 0.030*\"bank\" + 0.021*\"lamb\" + '\n",
      "  '0.019*\"shop\" + 0.018*\"chicken\" + 0.016*\"employe\" + 0.014*\"compani\" + '\n",
      "  '0.013*\"custom\"'),\n",
      " (2,\n",
      "  '0.031*\"parti\" + 0.017*\"tori\" + 0.015*\"power\" + 0.013*\"leader\" + '\n",
      "  '0.012*\"lord\" + 0.012*\"peopl\" + 0.012*\"tweet\" + 0.010*\"seat\" + '\n",
      "  '0.010*\"hypocrit\" + 0.010*\"principl\"'),\n",
      " (3,\n",
      "  '0.006*\"cctv\" + 0.000*\"plymouth\" + 0.000*\"graffiti\" + 0.000*\"homophob\" + '\n",
      "  '0.000*\"lotti\" + 0.000*\"pedo\" + 0.000*\"cemeteri\" + 0.000*\"chloe\" + '\n",
      "  '0.000*\"slur\" + 0.000*\"homophobia\"'),\n",
      " (4,\n",
      "  '0.034*\"peopl\" + 0.020*\"agps\" + 0.009*\"man\" + 0.009*\"dongcot\" + '\n",
      "  '0.008*\"woman\" + 0.008*\"person\" + 0.008*\"life\" + 0.006*\"itgco\" + '\n",
      "  '0.006*\"igcom\" + 0.006*\"famili\"'),\n",
      " (5,\n",
      "  '0.026*\"anc\" + 0.010*\"anaan\" + 0.004*\"faefaefa\" + 0.002*\"lockdown\" + '\n",
      "  '0.000*\"anoan\" + 0.000*\"anian\" + 0.000*\"ancan\" + 0.000*\"anuan\" + 0.000*\"ane\" '\n",
      "  '+ 0.000*\"anoanc\"'),\n",
      " (6,\n",
      "  '0.041*\"mcconnel\" + 0.029*\"kentucki\" + 0.026*\"asset\" + 0.026*\"bound\" + '\n",
      "  '0.023*\"mitch\" + 0.015*\"gcyem\" + 0.009*\"moscow\" + 0.004*\"elain\" + '\n",
      "  '0.003*\"espionag\" + 0.001*\"benn\"'),\n",
      " (7,\n",
      "  '0.221*\"agi\" + 0.020*\"megan\" + 0.013*\"duchess\" + 0.001*\"dynam\" + '\n",
      "  '0.001*\"inna\" + 0.001*\"allah\" + 0.001*\"lillahi\" + 0.000*\"naman\" + '\n",
      "  '0.000*\"ikran\" + 0.000*\"rajioon\"'),\n",
      " (8,\n",
      "  '0.089*\"referendum\" + 0.051*\"ira\" + 0.017*\"veto\" + 0.017*\"grant\" + '\n",
      "  '0.012*\"dup\" + 0.009*\"sf\" + 0.008*\"assembl\" + 0.007*\"stormont\" + '\n",
      "  '0.002*\"halfwit\" + 0.000*\"michel\"'),\n",
      " (9,\n",
      "  '0.048*\"trump\" + 0.021*\"presid\" + 0.012*\"senat\" + 0.011*\"peopl\" + '\n",
      "  '0.011*\"democrat\" + 0.009*\"berni\" + 0.008*\"countri\" + 0.008*\"elect\" + '\n",
      "  '0.008*\"warren\" + 0.008*\"republican\"'),\n",
      " (10,\n",
      "  '0.030*\"fire\" + 0.025*\"climat\" + 0.023*\"state\" + 0.019*\"citi\" + '\n",
      "  '0.017*\"chang\" + 0.015*\"tax\" + 0.013*\"money\" + 0.011*\"governor\" + '\n",
      "  '0.011*\"problem\" + 0.010*\"firework\"'),\n",
      " (11,\n",
      "  '0.038*\"gy\" + 0.035*\"fy\" + 0.030*\"congratul\" + 0.028*\"love\" + 0.027*\"famili\" '\n",
      "  '+ 0.015*\"igcom\" + 0.013*\"heart\" + 0.013*\"congrat\" + 0.012*\"agi\" + '\n",
      "  '0.012*\"faeafa\"'),\n",
      " (12,\n",
      "  '0.061*\"airlin\" + 0.001*\"tractor\" + 0.000*\"arnab\" + 0.000*\"kamra\" + '\n",
      "  '0.000*\"viru\" + 0.000*\"attend\" + 0.000*\"delta\" + 0.000*\"kunal\" + '\n",
      "  '0.000*\"goswami\" + 0.000*\"iranian\"'),\n",
      " (13,\n",
      "  '0.153*\"christma\" + 0.030*\"fur\" + 0.024*\"vaccin\" + 0.018*\"beij\" + '\n",
      "  '0.016*\"liverpool\" + 0.006*\"halloween\" + 0.005*\"qaeda\" + 0.005*\"aunt\" + '\n",
      "  '0.005*\"weinstein\" + 0.004*\"onion\"'),\n",
      " (14,\n",
      "  '0.000*\"reef\" + 0.000*\"scurri\" + 0.000*\"piranha\" + 0.000*\"pouch\" + '\n",
      "  '0.000*\"prototyp\" + 0.000*\"putt\" + 0.000*\"rapidez\" + 0.000*\"rappel\" + '\n",
      "  '0.000*\"reconocido\" + 0.000*\"reducir\"'),\n",
      " (15,\n",
      "  '0.152*\"china\" + 0.045*\"travel\" + 0.019*\"africa\" + 0.018*\"peopl\" + '\n",
      "  '0.016*\"child\" + 0.016*\"world\" + 0.016*\"ban\" + 0.015*\"ccp\" + 0.015*\"health\" '\n",
      "  '+ 0.014*\"countri\"'),\n",
      " (16,\n",
      "  '0.108*\"au\" + 0.085*\"auo\" + 0.031*\"england\" + 0.028*\"rugbi\" + 0.021*\"fa\" + '\n",
      "  '0.004*\"dawson\" + 0.002*\"kurdistan\" + 0.002*\"match\" + 0.001*\"naughti\" + '\n",
      "  '0.001*\"bloke\"'),\n",
      " (17,\n",
      "  '0.034*\"rip\" + 0.015*\"condol\" + 0.001*\"merritt\" + 0.000*\"robert\" + '\n",
      "  '0.000*\"ami\" + 0.000*\"overdos\" + 0.000*\"juic\" + 0.000*\"firefight\" + '\n",
      "  '0.000*\"jacki\" + 0.000*\"barri\"'),\n",
      " (18,\n",
      "  '0.042*\"fc\" + 0.037*\"us\" + 0.037*\"flight\" + 0.029*\"peopl\" + 0.021*\"iran\" + '\n",
      "  '0.021*\"countri\" + 0.014*\"world\" + 0.013*\"war\" + 0.013*\"usa\" + 0.012*\"que\"'),\n",
      " (19,\n",
      "  '0.078*\"wall\" + 0.050*\"banana\" + 0.034*\"driver\" + 0.017*\"basebal\" + '\n",
      "  '0.017*\"carson\" + 0.016*\"wire\" + 0.015*\"car\" + 0.011*\"colorado\" + '\n",
      "  '0.010*\"mexico\" + 0.009*\"uber\"')]\n"
     ]
    }
   ],
   "source": [
    "# Build LDA model\n",
    "print('Building LDA model...')\n",
    "lda_model = gensim.models.ldamodel.LdaModel(corpus=corpus,\n",
    "                                           id2word=id2word,  \n",
    "                                           num_topics=20,\n",
    "                                           random_state=100,\n",
    "                                           update_every=1,\n",
    "                                           chunksize=100,\n",
    "                                           passes=10,\n",
    "                                           alpha='auto',\n",
    "                                           per_word_topics=True)\n",
    "\n",
    "# Print the Keyword in the 20 topics\n",
    "print('LDA model created successfully.')\n",
    "pprint(lda_model.print_topics())\n",
    "doc_lda = lda_model[corpus]"
   ]
  },
  {
   "cell_type": "code",
   "execution_count": 42,
   "id": "a7fb3291-361b-4323-811e-1b503fb23b86",
   "metadata": {},
   "outputs": [
    {
     "name": "stdout",
     "output_type": "stream",
     "text": [
      "Generating performance scores for Pass4_CGTNounAdv\n",
      "\n",
      "Perplexity: -11.22\n",
      "\n",
      "Coherence Score: 0.45\n"
     ]
    }
   ],
   "source": [
    "print('Generating performance scores for '+ExpName)\n",
    "# Compute Perplexity\n",
    "perplex_lda = lda_model.log_perplexity(corpus)\n",
    "print('\\nPerplexity: {:.2f}'.format(perplex_lda))  # a measure of how good the model is. lower the better.\n",
    "\n",
    "# Compute Coherence Score\n",
    "coherence_model_lda = CoherenceModel(model=lda_model, texts=texts, dictionary=id2word, coherence='c_v')\n",
    "coherence_lda = coherence_model_lda.get_coherence()\n",
    "print('\\nCoherence Score: {:.2f}'.format(coherence_lda))"
   ]
  },
  {
   "cell_type": "code",
   "execution_count": 45,
   "id": "c5d4d026-1017-40eb-a820-4a32233de460",
   "metadata": {},
   "outputs": [
    {
     "name": "stderr",
     "output_type": "stream",
     "text": [
      "C:\\Users\\kazeem\\anaconda3\\envs\\py38\\lib\\site-packages\\pyLDAvis\\_prepare.py:246: FutureWarning: In a future version of pandas all arguments of DataFrame.drop except for the argument 'labels' will be keyword-only\n",
      "  default_term_info = default_term_info.sort_values(\n",
      "C:\\Users\\kazeem\\anaconda3\\envs\\py38\\lib\\site-packages\\sklearn\\manifold\\_t_sne.py:691: FutureWarning: 'square_distances' has been introduced in 0.24 to help phase out legacy squaring behavior. The 'legacy' setting will be removed in 1.1 (renaming of 0.26), and the default setting will be changed to True. In 1.3, 'square_distances' will be removed altogether, and distances will be squared by default. Set 'square_distances'=True to silence this warning.\n",
      "  warnings.warn(\n"
     ]
    }
   ],
   "source": [
    "vis = pyLDAvis.gensim_models.prepare(lda_model, corpus, id2word, mds='tsne', sort_topics=False)\n",
    "pyLDAvis.save_html(vis, 'lda_tsne_'+ExpName+'.html')"
   ]
  },
  {
   "cell_type": "code",
   "execution_count": 46,
   "id": "2f557811-a84d-4bff-8766-abbb956a6c14",
   "metadata": {},
   "outputs": [],
   "source": [
    "# generate doc-topics lists\n",
    "doc_topic = lda_model.get_document_topics(corpus, minimum_probability=0.1)"
   ]
  },
  {
   "cell_type": "code",
   "execution_count": 48,
   "id": "4425d28e-6f87-4444-8bdf-d57243c8a3b5",
   "metadata": {},
   "outputs": [],
   "source": [
    "i = 0\n",
    "docs=[]\n",
    "topics=[]\n",
    "scores=[]\n",
    "for doc in doc_topic:\n",
    "    doc_id = df_CGT_docs.iloc[i]\n",
    "    i = i+1\n",
    "    #if i>5: break\n",
    "    for topic_id, score in doc:\n",
    "        #print(doc_id, topic_id, score)\n",
    "        scores.append(score)\n",
    "        topics.append(topic_id)\n",
    "        docs.append(doc_id)"
   ]
  },
  {
   "cell_type": "code",
   "execution_count": 49,
   "id": "27ede7c9-dcc7-444d-920a-82186a1f0b76",
   "metadata": {},
   "outputs": [],
   "source": [
    "df_doc_topic = pd.DataFrame({'RecID': docs, 'TopicID': topics, 'TopicScore': scores})"
   ]
  },
  {
   "cell_type": "code",
   "execution_count": 50,
   "id": "a7a9fd1a-6bee-4cfe-b6a5-f8591fdfd9dd",
   "metadata": {},
   "outputs": [
    {
     "data": {
      "text/html": [
       "<div>\n",
       "<style scoped>\n",
       "    .dataframe tbody tr th:only-of-type {\n",
       "        vertical-align: middle;\n",
       "    }\n",
       "\n",
       "    .dataframe tbody tr th {\n",
       "        vertical-align: top;\n",
       "    }\n",
       "\n",
       "    .dataframe thead th {\n",
       "        text-align: right;\n",
       "    }\n",
       "</style>\n",
       "<table border=\"1\" class=\"dataframe\">\n",
       "  <thead>\n",
       "    <tr style=\"text-align: right;\">\n",
       "      <th></th>\n",
       "      <th>RecID</th>\n",
       "      <th>TopicID</th>\n",
       "      <th>TopicScore</th>\n",
       "    </tr>\n",
       "  </thead>\n",
       "  <tbody>\n",
       "    <tr>\n",
       "      <th>0</th>\n",
       "      <td>1057291398880391170</td>\n",
       "      <td>4</td>\n",
       "      <td>0.443390</td>\n",
       "    </tr>\n",
       "    <tr>\n",
       "      <th>1</th>\n",
       "      <td>1057291398880391170</td>\n",
       "      <td>10</td>\n",
       "      <td>0.386109</td>\n",
       "    </tr>\n",
       "    <tr>\n",
       "      <th>2</th>\n",
       "      <td>1124056098925944832</td>\n",
       "      <td>0</td>\n",
       "      <td>0.489180</td>\n",
       "    </tr>\n",
       "    <tr>\n",
       "      <th>3</th>\n",
       "      <td>1124056098925944832</td>\n",
       "      <td>4</td>\n",
       "      <td>0.423269</td>\n",
       "    </tr>\n",
       "    <tr>\n",
       "      <th>4</th>\n",
       "      <td>1135851552495865857</td>\n",
       "      <td>4</td>\n",
       "      <td>0.516032</td>\n",
       "    </tr>\n",
       "    <tr>\n",
       "      <th>...</th>\n",
       "      <td>...</td>\n",
       "      <td>...</td>\n",
       "      <td>...</td>\n",
       "    </tr>\n",
       "    <tr>\n",
       "      <th>2834</th>\n",
       "      <td>1223039083112517632</td>\n",
       "      <td>9</td>\n",
       "      <td>0.376500</td>\n",
       "    </tr>\n",
       "    <tr>\n",
       "      <th>2835</th>\n",
       "      <td>1223063868110524417</td>\n",
       "      <td>9</td>\n",
       "      <td>0.109598</td>\n",
       "    </tr>\n",
       "    <tr>\n",
       "      <th>2836</th>\n",
       "      <td>1223063868110524417</td>\n",
       "      <td>15</td>\n",
       "      <td>0.482510</td>\n",
       "    </tr>\n",
       "    <tr>\n",
       "      <th>2837</th>\n",
       "      <td>1223063868110524417</td>\n",
       "      <td>18</td>\n",
       "      <td>0.342467</td>\n",
       "    </tr>\n",
       "    <tr>\n",
       "      <th>2838</th>\n",
       "      <td>222818213392678912</td>\n",
       "      <td>2</td>\n",
       "      <td>0.880813</td>\n",
       "    </tr>\n",
       "  </tbody>\n",
       "</table>\n",
       "<p>2839 rows × 3 columns</p>\n",
       "</div>"
      ],
      "text/plain": [
       "                    RecID  TopicID  TopicScore\n",
       "0     1057291398880391170        4    0.443390\n",
       "1     1057291398880391170       10    0.386109\n",
       "2     1124056098925944832        0    0.489180\n",
       "3     1124056098925944832        4    0.423269\n",
       "4     1135851552495865857        4    0.516032\n",
       "...                   ...      ...         ...\n",
       "2834  1223039083112517632        9    0.376500\n",
       "2835  1223063868110524417        9    0.109598\n",
       "2836  1223063868110524417       15    0.482510\n",
       "2837  1223063868110524417       18    0.342467\n",
       "2838   222818213392678912        2    0.880813\n",
       "\n",
       "[2839 rows x 3 columns]"
      ]
     },
     "execution_count": 50,
     "metadata": {},
     "output_type": "execute_result"
    }
   ],
   "source": [
    "df_doc_topic"
   ]
  },
  {
   "cell_type": "code",
   "execution_count": 51,
   "id": "55c77b5f-a40a-49f9-b059-d0b778728913",
   "metadata": {},
   "outputs": [
    {
     "data": {
      "text/html": [
       "<div>\n",
       "<style scoped>\n",
       "    .dataframe tbody tr th:only-of-type {\n",
       "        vertical-align: middle;\n",
       "    }\n",
       "\n",
       "    .dataframe tbody tr th {\n",
       "        vertical-align: top;\n",
       "    }\n",
       "\n",
       "    .dataframe thead th {\n",
       "        text-align: right;\n",
       "    }\n",
       "</style>\n",
       "<table border=\"1\" class=\"dataframe\">\n",
       "  <thead>\n",
       "    <tr style=\"text-align: right;\">\n",
       "      <th></th>\n",
       "      <th>RecID</th>\n",
       "      <th>TopicScore</th>\n",
       "    </tr>\n",
       "    <tr>\n",
       "      <th>TopicID</th>\n",
       "      <th></th>\n",
       "      <th></th>\n",
       "    </tr>\n",
       "  </thead>\n",
       "  <tbody>\n",
       "    <tr>\n",
       "      <th>0</th>\n",
       "      <td>112</td>\n",
       "      <td>112</td>\n",
       "    </tr>\n",
       "    <tr>\n",
       "      <th>1</th>\n",
       "      <td>44</td>\n",
       "      <td>44</td>\n",
       "    </tr>\n",
       "    <tr>\n",
       "      <th>2</th>\n",
       "      <td>286</td>\n",
       "      <td>286</td>\n",
       "    </tr>\n",
       "    <tr>\n",
       "      <th>4</th>\n",
       "      <td>1089</td>\n",
       "      <td>1089</td>\n",
       "    </tr>\n",
       "    <tr>\n",
       "      <th>5</th>\n",
       "      <td>5</td>\n",
       "      <td>5</td>\n",
       "    </tr>\n",
       "    <tr>\n",
       "      <th>6</th>\n",
       "      <td>2</td>\n",
       "      <td>2</td>\n",
       "    </tr>\n",
       "    <tr>\n",
       "      <th>7</th>\n",
       "      <td>4</td>\n",
       "      <td>4</td>\n",
       "    </tr>\n",
       "    <tr>\n",
       "      <th>8</th>\n",
       "      <td>3</td>\n",
       "      <td>3</td>\n",
       "    </tr>\n",
       "    <tr>\n",
       "      <th>9</th>\n",
       "      <td>418</td>\n",
       "      <td>418</td>\n",
       "    </tr>\n",
       "    <tr>\n",
       "      <th>10</th>\n",
       "      <td>216</td>\n",
       "      <td>216</td>\n",
       "    </tr>\n",
       "    <tr>\n",
       "      <th>11</th>\n",
       "      <td>291</td>\n",
       "      <td>291</td>\n",
       "    </tr>\n",
       "    <tr>\n",
       "      <th>13</th>\n",
       "      <td>6</td>\n",
       "      <td>6</td>\n",
       "    </tr>\n",
       "    <tr>\n",
       "      <th>15</th>\n",
       "      <td>63</td>\n",
       "      <td>63</td>\n",
       "    </tr>\n",
       "    <tr>\n",
       "      <th>16</th>\n",
       "      <td>4</td>\n",
       "      <td>4</td>\n",
       "    </tr>\n",
       "    <tr>\n",
       "      <th>18</th>\n",
       "      <td>287</td>\n",
       "      <td>287</td>\n",
       "    </tr>\n",
       "    <tr>\n",
       "      <th>19</th>\n",
       "      <td>9</td>\n",
       "      <td>9</td>\n",
       "    </tr>\n",
       "  </tbody>\n",
       "</table>\n",
       "</div>"
      ],
      "text/plain": [
       "         RecID  TopicScore\n",
       "TopicID                   \n",
       "0          112         112\n",
       "1           44          44\n",
       "2          286         286\n",
       "4         1089        1089\n",
       "5            5           5\n",
       "6            2           2\n",
       "7            4           4\n",
       "8            3           3\n",
       "9          418         418\n",
       "10         216         216\n",
       "11         291         291\n",
       "13           6           6\n",
       "15          63          63\n",
       "16           4           4\n",
       "18         287         287\n",
       "19           9           9"
      ]
     },
     "execution_count": 51,
     "metadata": {},
     "output_type": "execute_result"
    }
   ],
   "source": [
    "df_doc_topic.groupby(by='TopicID').count()"
   ]
  },
  {
   "cell_type": "code",
   "execution_count": 52,
   "id": "5ed2abd6-e500-44aa-9063-f4780cfad943",
   "metadata": {},
   "outputs": [],
   "source": [
    "df_doc_topic.to_csv('data/GTxM_Pass4/CGT/lda_doc_topic_all_'+ExpName+'.csv')"
   ]
  },
  {
   "cell_type": "code",
   "execution_count": 53,
   "id": "7eea08d3-7982-4417-a7af-e36f2954b117",
   "metadata": {},
   "outputs": [
    {
     "data": {
      "text/plain": [
       "1105"
      ]
     },
     "execution_count": 53,
     "metadata": {},
     "output_type": "execute_result"
    }
   ],
   "source": [
    "df_doc_topic_nodup = df_doc_topic.sort_values(['TopicScore'], ascending=(False)).drop_duplicates(['RecID'])\n",
    "len(df_doc_topic_nodup)"
   ]
  },
  {
   "cell_type": "code",
   "execution_count": 63,
   "id": "e1b20db9-7622-4068-8dab-c02d53b9de0d",
   "metadata": {},
   "outputs": [],
   "source": [
    "df_doc_topic_nodup.to_csv('data/GTxM_Pass4/CGT/lda_doc_dominant_topic_'+ExpName+'.csv', index=False)"
   ]
  },
  {
   "cell_type": "code",
   "execution_count": 55,
   "id": "e2687de0-7cd2-4d7b-bb82-7133f8b80059",
   "metadata": {},
   "outputs": [
    {
     "data": {
      "text/plain": [
       "[0, 1, 2, 4, 6, 7, 9, 10, 11, 13, 15, 16, 18]"
      ]
     },
     "execution_count": 55,
     "metadata": {},
     "output_type": "execute_result"
    }
   ],
   "source": [
    "topics_ndarray = df_doc_topic_nodup.TopicID.unique()\n",
    "topic_list =sorted(topics_ndarray)\n",
    "listTopicID = list(set(df_doc_topic_nodup['TopicID'].tolist())) # get the unique list of Topic IDs\n",
    "listTopicID"
   ]
  },
  {
   "cell_type": "code",
   "execution_count": 61,
   "id": "f1d60c26-21f1-4b12-bdb3-4cd75da15641",
   "metadata": {},
   "outputs": [
    {
     "name": "stdout",
     "output_type": "stream",
     "text": [
      "0 0 8 2\n",
      "1 1 1 0\n",
      "2 2 68 14\n",
      "3 4 684 20\n",
      "4 6 1 0\n",
      "5 7 1 0\n",
      "6 9 161 20\n",
      "7 10 30 6\n",
      "8 11 80 16\n",
      "9 13 1 0\n",
      "10 15 4 1\n",
      "11 16 1 0\n",
      "12 18 65 13\n"
     ]
    }
   ],
   "source": [
    "# Select top 20%, upto 20 items max of each Topic\n",
    "df_doc_topic_top20pcent = pd.DataFrame(columns=['RecID', 'TopicID', 'TopicScore'])\n",
    "i=0\n",
    "for i in range(len(listTopicID)):\n",
    "    df_temp = df_doc_topic_nodup[(df_doc_topic_nodup.TopicID == listTopicID[i])]\n",
    "    topic_items = len(df_temp)\n",
    "    #if len(df_temp) > 9:\n",
    "    topic20pc_items = round(len(df_temp)/5)\n",
    "    if topic20pc_items > 20: #max 20 items\n",
    "        topic20pc_items = 20\n",
    "    df_temp = df_temp.head(topic20pc_items)\n",
    "    df_doc_topic_top20pcent = pd.concat([df_doc_topic_top20pcent, df_temp])\n",
    "    print(i, listTopicID[i], topic_items, topic20pc_items)"
   ]
  },
  {
   "cell_type": "code",
   "execution_count": 57,
   "id": "33271eb2-7885-413c-b602-6358dde2b081",
   "metadata": {},
   "outputs": [
    {
     "data": {
      "text/html": [
       "<div>\n",
       "<style scoped>\n",
       "    .dataframe tbody tr th:only-of-type {\n",
       "        vertical-align: middle;\n",
       "    }\n",
       "\n",
       "    .dataframe tbody tr th {\n",
       "        vertical-align: top;\n",
       "    }\n",
       "\n",
       "    .dataframe thead th {\n",
       "        text-align: right;\n",
       "    }\n",
       "</style>\n",
       "<table border=\"1\" class=\"dataframe\">\n",
       "  <thead>\n",
       "    <tr style=\"text-align: right;\">\n",
       "      <th></th>\n",
       "      <th>RecID</th>\n",
       "      <th>TopicID</th>\n",
       "      <th>TopicScore</th>\n",
       "    </tr>\n",
       "  </thead>\n",
       "  <tbody>\n",
       "    <tr>\n",
       "      <th>339</th>\n",
       "      <td>1183587236039684096</td>\n",
       "      <td>0</td>\n",
       "      <td>0.517135</td>\n",
       "    </tr>\n",
       "    <tr>\n",
       "      <th>2</th>\n",
       "      <td>1124056098925944832</td>\n",
       "      <td>0</td>\n",
       "      <td>0.489180</td>\n",
       "    </tr>\n",
       "    <tr>\n",
       "      <th>2838</th>\n",
       "      <td>222818213392678912</td>\n",
       "      <td>2</td>\n",
       "      <td>0.880813</td>\n",
       "    </tr>\n",
       "    <tr>\n",
       "      <th>2791</th>\n",
       "      <td>1222183802459418630</td>\n",
       "      <td>2</td>\n",
       "      <td>0.750784</td>\n",
       "    </tr>\n",
       "    <tr>\n",
       "      <th>1757</th>\n",
       "      <td>1206500578962083841</td>\n",
       "      <td>2</td>\n",
       "      <td>0.718966</td>\n",
       "    </tr>\n",
       "    <tr>\n",
       "      <th>...</th>\n",
       "      <td>...</td>\n",
       "      <td>...</td>\n",
       "      <td>...</td>\n",
       "    </tr>\n",
       "    <tr>\n",
       "      <th>1244</th>\n",
       "      <td>1196973332689833985</td>\n",
       "      <td>18</td>\n",
       "      <td>0.628727</td>\n",
       "    </tr>\n",
       "    <tr>\n",
       "      <th>698</th>\n",
       "      <td>1189332650185637888</td>\n",
       "      <td>18</td>\n",
       "      <td>0.622367</td>\n",
       "    </tr>\n",
       "    <tr>\n",
       "      <th>2080</th>\n",
       "      <td>1214139981649862657</td>\n",
       "      <td>18</td>\n",
       "      <td>0.614945</td>\n",
       "    </tr>\n",
       "    <tr>\n",
       "      <th>1859</th>\n",
       "      <td>1207820053414105089</td>\n",
       "      <td>18</td>\n",
       "      <td>0.607127</td>\n",
       "    </tr>\n",
       "    <tr>\n",
       "      <th>693</th>\n",
       "      <td>1189293527076950017</td>\n",
       "      <td>18</td>\n",
       "      <td>0.600679</td>\n",
       "    </tr>\n",
       "  </tbody>\n",
       "</table>\n",
       "<p>92 rows × 3 columns</p>\n",
       "</div>"
      ],
      "text/plain": [
       "                    RecID TopicID  TopicScore\n",
       "339   1183587236039684096       0    0.517135\n",
       "2     1124056098925944832       0    0.489180\n",
       "2838   222818213392678912       2    0.880813\n",
       "2791  1222183802459418630       2    0.750784\n",
       "1757  1206500578962083841       2    0.718966\n",
       "...                   ...     ...         ...\n",
       "1244  1196973332689833985      18    0.628727\n",
       "698   1189332650185637888      18    0.622367\n",
       "2080  1214139981649862657      18    0.614945\n",
       "1859  1207820053414105089      18    0.607127\n",
       "693   1189293527076950017      18    0.600679\n",
       "\n",
       "[92 rows x 3 columns]"
      ]
     },
     "execution_count": 57,
     "metadata": {},
     "output_type": "execute_result"
    }
   ],
   "source": [
    "df_doc_topic_top20pcent"
   ]
  },
  {
   "cell_type": "code",
   "execution_count": 64,
   "id": "da8a7668-80e7-4d59-8ce1-77e9b7ea4a1e",
   "metadata": {},
   "outputs": [],
   "source": [
    "df_doc_topic_top20pcent.to_csv('data/GTxM_Pass4/CGT/lda_doc_topic_top20pct_'+ExpName+'.csv', index=False)"
   ]
  },
  {
   "cell_type": "code",
   "execution_count": 65,
   "id": "e96b7dca-1299-4c94-b669-ce2e6b32846a",
   "metadata": {},
   "outputs": [
    {
     "data": {
      "text/html": [
       "<div>\n",
       "<style scoped>\n",
       "    .dataframe tbody tr th:only-of-type {\n",
       "        vertical-align: middle;\n",
       "    }\n",
       "\n",
       "    .dataframe tbody tr th {\n",
       "        vertical-align: top;\n",
       "    }\n",
       "\n",
       "    .dataframe thead th {\n",
       "        text-align: right;\n",
       "    }\n",
       "</style>\n",
       "<table border=\"1\" class=\"dataframe\">\n",
       "  <thead>\n",
       "    <tr style=\"text-align: right;\">\n",
       "      <th></th>\n",
       "      <th>RecID</th>\n",
       "      <th>TopicScore</th>\n",
       "    </tr>\n",
       "    <tr>\n",
       "      <th>TopicID</th>\n",
       "      <th></th>\n",
       "      <th></th>\n",
       "    </tr>\n",
       "  </thead>\n",
       "  <tbody>\n",
       "    <tr>\n",
       "      <th>0</th>\n",
       "      <td>2</td>\n",
       "      <td>2</td>\n",
       "    </tr>\n",
       "    <tr>\n",
       "      <th>2</th>\n",
       "      <td>14</td>\n",
       "      <td>14</td>\n",
       "    </tr>\n",
       "    <tr>\n",
       "      <th>4</th>\n",
       "      <td>20</td>\n",
       "      <td>20</td>\n",
       "    </tr>\n",
       "    <tr>\n",
       "      <th>9</th>\n",
       "      <td>20</td>\n",
       "      <td>20</td>\n",
       "    </tr>\n",
       "    <tr>\n",
       "      <th>10</th>\n",
       "      <td>6</td>\n",
       "      <td>6</td>\n",
       "    </tr>\n",
       "    <tr>\n",
       "      <th>11</th>\n",
       "      <td>16</td>\n",
       "      <td>16</td>\n",
       "    </tr>\n",
       "    <tr>\n",
       "      <th>15</th>\n",
       "      <td>1</td>\n",
       "      <td>1</td>\n",
       "    </tr>\n",
       "    <tr>\n",
       "      <th>18</th>\n",
       "      <td>13</td>\n",
       "      <td>13</td>\n",
       "    </tr>\n",
       "  </tbody>\n",
       "</table>\n",
       "</div>"
      ],
      "text/plain": [
       "         RecID  TopicScore\n",
       "TopicID                   \n",
       "0            2           2\n",
       "2           14          14\n",
       "4           20          20\n",
       "9           20          20\n",
       "10           6           6\n",
       "11          16          16\n",
       "15           1           1\n",
       "18          13          13"
      ]
     },
     "execution_count": 65,
     "metadata": {},
     "output_type": "execute_result"
    }
   ],
   "source": [
    "df_doc_topic_top20pcent.groupby(by='TopicID').count()"
   ]
  },
  {
   "cell_type": "markdown",
   "id": "893959e0-9a89-43b1-b757-0c5c4dba628c",
   "metadata": {
    "tags": []
   },
   "source": [
    "### CGT Step 2: Pattern Refinement"
   ]
  },
  {
   "cell_type": "code",
   "execution_count": 11,
   "id": "404f94af-c984-4c2a-8c16-fbfab030f9b0",
   "metadata": {},
   "outputs": [
    {
     "data": {
      "text/plain": [
       "(92, 2385)"
      ]
     },
     "execution_count": 11,
     "metadata": {},
     "output_type": "execute_result"
    }
   ],
   "source": [
    "# Load Pass 4 JatoClassified after deep reading\n",
    "df_lda_dread = pd.read_csv('D:/KOPro/PhD/Implementation/SourceCode/jatoDR_Pass4/genTopics/lda_doc_topic_top20pct_Pass4_CGTNounAdv.csv', dtype='str')\n",
    "df_jato_dread = pd.read_csv('D:/KOPro/PhD/Implementation/SourceCode/jatoDR_Pass4/data/JatoClassified_Pass4DR.csv', dtype='str')\n",
    "len(df_lda_dread), len(df_jato_dread)"
   ]
  },
  {
   "cell_type": "code",
   "execution_count": 12,
   "id": "c62beae5-69c7-47d6-906e-66f3cbbe7a59",
   "metadata": {},
   "outputs": [],
   "source": [
    "df_dread = pd.merge(df_lda_dread,df_jato_dread, on='RecID')"
   ]
  },
  {
   "cell_type": "code",
   "execution_count": 13,
   "id": "fff6cb5a-a34b-49f5-9e68-dcfd1ccb4f1c",
   "metadata": {},
   "outputs": [
    {
     "data": {
      "text/html": [
       "<div>\n",
       "<style scoped>\n",
       "    .dataframe tbody tr th:only-of-type {\n",
       "        vertical-align: middle;\n",
       "    }\n",
       "\n",
       "    .dataframe tbody tr th {\n",
       "        vertical-align: top;\n",
       "    }\n",
       "\n",
       "    .dataframe thead th {\n",
       "        text-align: right;\n",
       "    }\n",
       "</style>\n",
       "<table border=\"1\" class=\"dataframe\">\n",
       "  <thead>\n",
       "    <tr style=\"text-align: right;\">\n",
       "      <th></th>\n",
       "      <th>RecID</th>\n",
       "      <th>TopicID</th>\n",
       "      <th>TopicScore</th>\n",
       "      <th>rowid</th>\n",
       "      <th>SavedDataTime</th>\n",
       "      <th>JatoCat</th>\n",
       "      <th>JatoSubCat</th>\n",
       "      <th>JatoCat2</th>\n",
       "      <th>JatoSubCat2</th>\n",
       "      <th>JatoCat3</th>\n",
       "      <th>JatoSubCat3</th>\n",
       "      <th>NewRecClass</th>\n",
       "      <th>GTCodes</th>\n",
       "      <th>NewsPubCat</th>\n",
       "    </tr>\n",
       "  </thead>\n",
       "  <tbody>\n",
       "    <tr>\n",
       "      <th>0</th>\n",
       "      <td>1183587236039684096</td>\n",
       "      <td>0</td>\n",
       "      <td>0.51713496</td>\n",
       "      <td>977</td>\n",
       "      <td>2023:03:29 04:42:45</td>\n",
       "      <td>Business</td>\n",
       "      <td>Economy</td>\n",
       "      <td>NaN</td>\n",
       "      <td>NaN</td>\n",
       "      <td>NaN</td>\n",
       "      <td>NaN</td>\n",
       "      <td>NaN</td>\n",
       "      <td>NaN</td>\n",
       "      <td>Sports</td>\n",
       "    </tr>\n",
       "    <tr>\n",
       "      <th>1</th>\n",
       "      <td>1124056098925944832</td>\n",
       "      <td>0</td>\n",
       "      <td>0.4891796</td>\n",
       "      <td>260</td>\n",
       "      <td>2023:03:29 04:42:45</td>\n",
       "      <td>Lifestyle</td>\n",
       "      <td>TV/Movie/Theater</td>\n",
       "      <td>NaN</td>\n",
       "      <td>NaN</td>\n",
       "      <td>NaN</td>\n",
       "      <td>NaN</td>\n",
       "      <td>NaN</td>\n",
       "      <td>NaN</td>\n",
       "      <td>Entertainment</td>\n",
       "    </tr>\n",
       "  </tbody>\n",
       "</table>\n",
       "</div>"
      ],
      "text/plain": [
       "                 RecID TopicID  TopicScore rowid        SavedDataTime  \\\n",
       "0  1183587236039684096       0  0.51713496   977  2023:03:29 04:42:45   \n",
       "1  1124056098925944832       0   0.4891796   260  2023:03:29 04:42:45   \n",
       "\n",
       "     JatoCat        JatoSubCat JatoCat2 JatoSubCat2 JatoCat3 JatoSubCat3  \\\n",
       "0   Business           Economy      NaN         NaN      NaN         NaN   \n",
       "1  Lifestyle  TV/Movie/Theater      NaN         NaN      NaN         NaN   \n",
       "\n",
       "  NewRecClass GTCodes     NewsPubCat  \n",
       "0         NaN     NaN         Sports  \n",
       "1         NaN     NaN  Entertainment  "
      ]
     },
     "execution_count": 13,
     "metadata": {},
     "output_type": "execute_result"
    }
   ],
   "source": [
    "df_dread.head(2)"
   ]
  },
  {
   "cell_type": "code",
   "execution_count": 14,
   "id": "88d9b0f0-73eb-4b61-8729-6b6a2018a9aa",
   "metadata": {},
   "outputs": [
    {
     "data": {
      "text/plain": [
       "92"
      ]
     },
     "execution_count": 14,
     "metadata": {},
     "output_type": "execute_result"
    }
   ],
   "source": [
    "df_dread.drop(['TopicID','TopicScore','rowid','SavedDataTime','JatoCat','JatoSubCat','JatoCat2','JatoSubCat2','JatoCat3','JatoSubCat3','NewRecClass','GTCodes'], axis=1, inplace=True)\n",
    "len(df_dread)"
   ]
  },
  {
   "cell_type": "code",
   "execution_count": 15,
   "id": "1dcdf3d4-b0c0-4c89-b8a3-75380d35a87f",
   "metadata": {},
   "outputs": [
    {
     "data": {
      "text/plain": [
       "NewsPubCat\n",
       "Entertainment      8\n",
       "Environmental      7\n",
       "Health             4\n",
       "Human Rights       5\n",
       "Law and Order      2\n",
       "Obituary           1\n",
       "Social Stories     7\n",
       "Sports             5\n",
       "Travel             2\n",
       "UK Politics       13\n",
       "USA Politics      15\n",
       "Unknown            7\n",
       "World Politics    16\n",
       "dtype: int64"
      ]
     },
     "execution_count": 15,
     "metadata": {},
     "output_type": "execute_result"
    }
   ],
   "source": [
    "df_dread.groupby(['NewsPubCat']).size()"
   ]
  },
  {
   "cell_type": "code",
   "execution_count": 16,
   "id": "dd862a04-212e-4c82-ad00-86743c528c92",
   "metadata": {},
   "outputs": [],
   "source": [
    "df_dread.rename(columns={'NewsPubCat': 'Label'}, inplace=True)"
   ]
  },
  {
   "cell_type": "code",
   "execution_count": 17,
   "id": "ad67003f-9283-4f63-b279-8e50c2ee35ae",
   "metadata": {},
   "outputs": [
    {
     "data": {
      "text/html": [
       "<div>\n",
       "<style scoped>\n",
       "    .dataframe tbody tr th:only-of-type {\n",
       "        vertical-align: middle;\n",
       "    }\n",
       "\n",
       "    .dataframe tbody tr th {\n",
       "        vertical-align: top;\n",
       "    }\n",
       "\n",
       "    .dataframe thead th {\n",
       "        text-align: right;\n",
       "    }\n",
       "</style>\n",
       "<table border=\"1\" class=\"dataframe\">\n",
       "  <thead>\n",
       "    <tr style=\"text-align: right;\">\n",
       "      <th></th>\n",
       "      <th>RecID</th>\n",
       "      <th>Label</th>\n",
       "    </tr>\n",
       "  </thead>\n",
       "  <tbody>\n",
       "    <tr>\n",
       "      <th>0</th>\n",
       "      <td>1183587236039684096</td>\n",
       "      <td>Sports</td>\n",
       "    </tr>\n",
       "    <tr>\n",
       "      <th>1</th>\n",
       "      <td>1124056098925944832</td>\n",
       "      <td>Entertainment</td>\n",
       "    </tr>\n",
       "  </tbody>\n",
       "</table>\n",
       "</div>"
      ],
      "text/plain": [
       "                 RecID          Label\n",
       "0  1183587236039684096         Sports\n",
       "1  1124056098925944832  Entertainment"
      ]
     },
     "execution_count": 17,
     "metadata": {},
     "output_type": "execute_result"
    }
   ],
   "source": [
    "df_dread.head(2)"
   ]
  },
  {
   "cell_type": "code",
   "execution_count": 28,
   "id": "85b10369-477b-491a-84f2-d1a9456de965",
   "metadata": {},
   "outputs": [],
   "source": [
    "Labels_Targets = pd.read_csv('data/GTxM_Pass4/Labels_Targets_CGTPass4.csv')"
   ]
  },
  {
   "cell_type": "code",
   "execution_count": 29,
   "id": "3fbc4943-5420-4247-8db9-04cb9fb9b8a4",
   "metadata": {},
   "outputs": [
    {
     "data": {
      "text/html": [
       "<div>\n",
       "<style scoped>\n",
       "    .dataframe tbody tr th:only-of-type {\n",
       "        vertical-align: middle;\n",
       "    }\n",
       "\n",
       "    .dataframe tbody tr th {\n",
       "        vertical-align: top;\n",
       "    }\n",
       "\n",
       "    .dataframe thead th {\n",
       "        text-align: right;\n",
       "    }\n",
       "</style>\n",
       "<table border=\"1\" class=\"dataframe\">\n",
       "  <thead>\n",
       "    <tr style=\"text-align: right;\">\n",
       "      <th></th>\n",
       "      <th>Target</th>\n",
       "      <th>Label</th>\n",
       "    </tr>\n",
       "  </thead>\n",
       "  <tbody>\n",
       "    <tr>\n",
       "      <th>0</th>\n",
       "      <td>1</td>\n",
       "      <td>Business</td>\n",
       "    </tr>\n",
       "    <tr>\n",
       "      <th>1</th>\n",
       "      <td>2</td>\n",
       "      <td>Entertainment</td>\n",
       "    </tr>\n",
       "  </tbody>\n",
       "</table>\n",
       "</div>"
      ],
      "text/plain": [
       "   Target          Label\n",
       "0       1       Business\n",
       "1       2  Entertainment"
      ]
     },
     "execution_count": 29,
     "metadata": {},
     "output_type": "execute_result"
    }
   ],
   "source": [
    "Labels_Targets.head(2)"
   ]
  },
  {
   "cell_type": "code",
   "execution_count": 30,
   "id": "8ac4d39a-cbbf-42d0-ab56-bcea5887bbb1",
   "metadata": {},
   "outputs": [],
   "source": [
    "df_dread_Target = pd.merge(df_dread,Labels_Targets, on='Label', how='left')"
   ]
  },
  {
   "cell_type": "code",
   "execution_count": 31,
   "id": "f23a6f92-bcb8-43c3-965f-bed87cb7b994",
   "metadata": {},
   "outputs": [
    {
     "data": {
      "text/html": [
       "<div>\n",
       "<style scoped>\n",
       "    .dataframe tbody tr th:only-of-type {\n",
       "        vertical-align: middle;\n",
       "    }\n",
       "\n",
       "    .dataframe tbody tr th {\n",
       "        vertical-align: top;\n",
       "    }\n",
       "\n",
       "    .dataframe thead th {\n",
       "        text-align: right;\n",
       "    }\n",
       "</style>\n",
       "<table border=\"1\" class=\"dataframe\">\n",
       "  <thead>\n",
       "    <tr style=\"text-align: right;\">\n",
       "      <th></th>\n",
       "      <th>RecID</th>\n",
       "      <th>Label</th>\n",
       "      <th>Target</th>\n",
       "    </tr>\n",
       "  </thead>\n",
       "  <tbody>\n",
       "    <tr>\n",
       "      <th>0</th>\n",
       "      <td>1183587236039684096</td>\n",
       "      <td>Sports</td>\n",
       "      <td>11</td>\n",
       "    </tr>\n",
       "    <tr>\n",
       "      <th>1</th>\n",
       "      <td>1124056098925944832</td>\n",
       "      <td>Entertainment</td>\n",
       "      <td>2</td>\n",
       "    </tr>\n",
       "  </tbody>\n",
       "</table>\n",
       "</div>"
      ],
      "text/plain": [
       "                 RecID          Label  Target\n",
       "0  1183587236039684096         Sports      11\n",
       "1  1124056098925944832  Entertainment       2"
      ]
     },
     "execution_count": 31,
     "metadata": {},
     "output_type": "execute_result"
    }
   ],
   "source": [
    "df_dread_Target.head(2)"
   ]
  },
  {
   "cell_type": "code",
   "execution_count": 32,
   "id": "9fa00af2-4f9a-4be4-8eb6-8c42c9542eab",
   "metadata": {},
   "outputs": [
    {
     "data": {
      "text/plain": [
       "92"
      ]
     },
     "execution_count": 32,
     "metadata": {},
     "output_type": "execute_result"
    }
   ],
   "source": [
    "len(df_dread_Target)"
   ]
  },
  {
   "cell_type": "code",
   "execution_count": 33,
   "id": "a1ae1b83-f81d-4262-a94c-9d3a06697b52",
   "metadata": {},
   "outputs": [
    {
     "data": {
      "text/plain": [
       "85"
      ]
     },
     "execution_count": 33,
     "metadata": {},
     "output_type": "execute_result"
    }
   ],
   "source": [
    "# remove the 7 unknown SMRs, we don't want to generate unknown labels with SBERT.\n",
    "df_dread_Target = df_dread_Target[df_dread_Target.Label!='Unknown']\n",
    "len(df_dread_Target)"
   ]
  },
  {
   "cell_type": "code",
   "execution_count": 34,
   "id": "385ab9ff-6440-43ec-a135-9e589f5dd008",
   "metadata": {},
   "outputs": [],
   "source": [
    "# NOT NECESSARY -- work it out in the SBERT PROGRAM.\n",
    "# df_recTweets = pd.read_csv('data/MasterTokens.csv', usecols=['RecID','RecDoc'], dtype='str')"
   ]
  },
  {
   "cell_type": "code",
   "execution_count": 35,
   "id": "8517bbb8-165a-4c10-bb06-74efa5dca9ab",
   "metadata": {},
   "outputs": [],
   "source": [
    "# save to GTxM Pass 4 folder and upload to Google Colab\n",
    "df_dread_Target.to_csv('data/GTxM_Pass4/DeepRead_Pass4.csv', index=False)"
   ]
  },
  {
   "cell_type": "markdown",
   "id": "687a8dba-efa6-489e-94ed-39d75e76a133",
   "metadata": {
    "tags": []
   },
   "source": [
    "### CGT Step 3: See Kaggle Notebook for Pattern Confirmation with SBERT"
   ]
  },
  {
   "cell_type": "markdown",
   "id": "264a42bd-08c9-4354-8b70-842090685412",
   "metadata": {
    "tags": []
   },
   "source": [
    "### CCL Supervised ML (Prep data)"
   ]
  },
  {
   "cell_type": "markdown",
   "id": "4b2eeef6-8605-4b1c-9906-71bd375e2e06",
   "metadata": {
    "jp-MarkdownHeadingCollapsed": true,
    "tags": []
   },
   "source": [
    "#### Load the CGT confirmed Record Tweets with count of SupTweets"
   ]
  },
  {
   "cell_type": "code",
   "execution_count": 70,
   "id": "753af712-9ac9-42d2-8c8a-25aec6aa2845",
   "metadata": {
    "tags": []
   },
   "outputs": [
    {
     "data": {
      "text/html": [
       "<div>\n",
       "<style scoped>\n",
       "    .dataframe tbody tr th:only-of-type {\n",
       "        vertical-align: middle;\n",
       "    }\n",
       "\n",
       "    .dataframe tbody tr th {\n",
       "        vertical-align: top;\n",
       "    }\n",
       "\n",
       "    .dataframe thead th {\n",
       "        text-align: right;\n",
       "    }\n",
       "</style>\n",
       "<table border=\"1\" class=\"dataframe\">\n",
       "  <thead>\n",
       "    <tr style=\"text-align: right;\">\n",
       "      <th></th>\n",
       "      <th>InReplyTo</th>\n",
       "      <th>Label</th>\n",
       "      <th>Target</th>\n",
       "      <th>QueryCount</th>\n",
       "    </tr>\n",
       "  </thead>\n",
       "  <tbody>\n",
       "    <tr>\n",
       "      <th>0</th>\n",
       "      <td>1057291398880391170</td>\n",
       "      <td>Social Stories</td>\n",
       "      <td>10</td>\n",
       "      <td>3</td>\n",
       "    </tr>\n",
       "    <tr>\n",
       "      <th>1</th>\n",
       "      <td>1057291398880391170</td>\n",
       "      <td>Obituary</td>\n",
       "      <td>9</td>\n",
       "      <td>1</td>\n",
       "    </tr>\n",
       "    <tr>\n",
       "      <th>2</th>\n",
       "      <td>1057291398880391170</td>\n",
       "      <td>Health</td>\n",
       "      <td>4</td>\n",
       "      <td>1</td>\n",
       "    </tr>\n",
       "    <tr>\n",
       "      <th>3</th>\n",
       "      <td>1057291398880391170</td>\n",
       "      <td>Human Rights</td>\n",
       "      <td>5</td>\n",
       "      <td>1</td>\n",
       "    </tr>\n",
       "    <tr>\n",
       "      <th>4</th>\n",
       "      <td>1135851552495865857</td>\n",
       "      <td>Social Stories</td>\n",
       "      <td>10</td>\n",
       "      <td>16</td>\n",
       "    </tr>\n",
       "  </tbody>\n",
       "</table>\n",
       "</div>"
      ],
      "text/plain": [
       "             InReplyTo           Label Target QueryCount\n",
       "0  1057291398880391170  Social Stories     10          3\n",
       "1  1057291398880391170        Obituary      9          1\n",
       "2  1057291398880391170          Health      4          1\n",
       "3  1057291398880391170    Human Rights      5          1\n",
       "4  1135851552495865857  Social Stories     10         16"
      ]
     },
     "execution_count": 70,
     "metadata": {},
     "output_type": "execute_result"
    }
   ],
   "source": [
    "# This CSV file is generated from SQL-Server (see: CGT_Confirm_Pass4_analysis.sql)\n",
    "df = pd.read_csv(\"data/GTxM_Pass4/CGT_Confirm_0.5_Pass4.csv\", dtype='str')\n",
    "df.head()"
   ]
  },
  {
   "cell_type": "code",
   "execution_count": 71,
   "id": "ae436b34-3318-4696-b670-8c2edd8bb1d1",
   "metadata": {
    "tags": []
   },
   "outputs": [
    {
     "data": {
      "text/plain": [
       "2618"
      ]
     },
     "execution_count": 71,
     "metadata": {},
     "output_type": "execute_result"
    }
   ],
   "source": [
    "len(df)"
   ]
  },
  {
   "cell_type": "code",
   "execution_count": 72,
   "id": "9bbd5d1b-c8f2-4bbd-910a-9cbc8a2e1205",
   "metadata": {
    "tags": []
   },
   "outputs": [
    {
     "data": {
      "text/plain": [
       "829"
      ]
     },
     "execution_count": 72,
     "metadata": {},
     "output_type": "execute_result"
    }
   ],
   "source": [
    "#Generate final SMR list with the accepted Label as the one with maximum count.\n",
    "# df_confirm_SMR = df.sort_values(['InReplyTo','QueryCount'], ascending=([False, False])).drop_duplicates(['InReplyTo'])\n",
    "df_confirm_SMR = df.drop_duplicates(['InReplyTo'])\n",
    "len(df_confirm_SMR)"
   ]
  },
  {
   "cell_type": "code",
   "execution_count": 73,
   "id": "f8224064-3333-43e0-b9be-88577bbc9ad6",
   "metadata": {
    "tags": []
   },
   "outputs": [
    {
     "name": "stderr",
     "output_type": "stream",
     "text": [
      "C:\\Users\\kazeem\\AppData\\Local\\Temp\\ipykernel_10860\\4074492688.py:1: SettingWithCopyWarning: \n",
      "A value is trying to be set on a copy of a slice from a DataFrame.\n",
      "Try using .loc[row_indexer,col_indexer] = value instead\n",
      "\n",
      "See the caveats in the documentation: https://pandas.pydata.org/pandas-docs/stable/user_guide/indexing.html#returning-a-view-versus-a-copy\n",
      "  df_confirm_SMR['QueryCount'] = df_confirm_SMR['QueryCount'].astype(int)\n"
     ]
    }
   ],
   "source": [
    "df_confirm_SMR['QueryCount'] = df_confirm_SMR['QueryCount'].astype(int)"
   ]
  },
  {
   "cell_type": "code",
   "execution_count": 74,
   "id": "267af7c1-257c-4d47-bc16-2c7d9c8f3088",
   "metadata": {
    "tags": []
   },
   "outputs": [],
   "source": [
    "df_confirm_SMR = df_confirm_SMR[df_confirm_SMR.QueryCount>9]"
   ]
  },
  {
   "cell_type": "code",
   "execution_count": 75,
   "id": "852251c8-e6b8-41a9-b9ef-a2fa162e9fdf",
   "metadata": {
    "tags": []
   },
   "outputs": [
    {
     "data": {
      "text/plain": [
       "340"
      ]
     },
     "execution_count": 75,
     "metadata": {},
     "output_type": "execute_result"
    }
   ],
   "source": [
    "len(df_confirm_SMR)"
   ]
  },
  {
   "cell_type": "code",
   "execution_count": 8,
   "id": "bfea9fdf-ce81-460b-a15a-b96b2d1d51ac",
   "metadata": {},
   "outputs": [
    {
     "data": {
      "text/plain": [
       "Label\n",
       "Entertainment     21\n",
       "Environmental     41\n",
       "Health             6\n",
       "Human Rights      19\n",
       "Law and Order      6\n",
       "Social Stories    28\n",
       "Sports            11\n",
       "UK Politics       54\n",
       "USA Politics      72\n",
       "World Politics    82\n",
       "dtype: int64"
      ]
     },
     "execution_count": 8,
     "metadata": {},
     "output_type": "execute_result"
    }
   ],
   "source": [
    "df_confirm_SMR.groupby(['Label']).size()"
   ]
  },
  {
   "cell_type": "markdown",
   "id": "78211c53-e5af-41be-ae74-afc55611a270",
   "metadata": {
    "tags": []
   },
   "source": [
    "#### Accept the InReplyTo as the SBERT predicted Record Tweet for use downstream in CCL"
   ]
  },
  {
   "cell_type": "code",
   "execution_count": 9,
   "id": "aa1fce83-8524-4f68-bdff-8220f15a0dba",
   "metadata": {},
   "outputs": [],
   "source": [
    "df_confirm_SMR.drop(['QueryCount'], axis=1, inplace=True)\n"
   ]
  },
  {
   "cell_type": "code",
   "execution_count": 10,
   "id": "b54aef45-efed-483b-8fe0-de133471afdc",
   "metadata": {
    "tags": []
   },
   "outputs": [],
   "source": [
    "df_confirm_SMR.rename(columns={'InReplyTo': 'TID'}, inplace=True)"
   ]
  },
  {
   "cell_type": "markdown",
   "id": "42de1cdd-8c5f-4dc8-ab26-5e6a80a285a4",
   "metadata": {
    "tags": []
   },
   "source": [
    "#### Add the Deep Read labeled SMRs to the matched SMRs to create the new CGT Labeled Dataset"
   ]
  },
  {
   "cell_type": "code",
   "execution_count": 78,
   "id": "cc898450-7d62-4d41-bed6-46cfe1887681",
   "metadata": {
    "tags": []
   },
   "outputs": [],
   "source": [
    "df_deepread = pd.read_csv(\"data/GTxM_Pass4/CGT_DeepRead_Pass4.csv\", dtype='str')"
   ]
  },
  {
   "cell_type": "code",
   "execution_count": 79,
   "id": "4e033317-fb11-41d7-aa40-57fe243d2e35",
   "metadata": {
    "tags": []
   },
   "outputs": [
    {
     "data": {
      "text/html": [
       "<div>\n",
       "<style scoped>\n",
       "    .dataframe tbody tr th:only-of-type {\n",
       "        vertical-align: middle;\n",
       "    }\n",
       "\n",
       "    .dataframe tbody tr th {\n",
       "        vertical-align: top;\n",
       "    }\n",
       "\n",
       "    .dataframe thead th {\n",
       "        text-align: right;\n",
       "    }\n",
       "</style>\n",
       "<table border=\"1\" class=\"dataframe\">\n",
       "  <thead>\n",
       "    <tr style=\"text-align: right;\">\n",
       "      <th></th>\n",
       "      <th>TID</th>\n",
       "      <th>Label</th>\n",
       "      <th>Target</th>\n",
       "      <th>RecDoc</th>\n",
       "    </tr>\n",
       "  </thead>\n",
       "  <tbody>\n",
       "    <tr>\n",
       "      <th>0</th>\n",
       "      <td>1183587236039684096</td>\n",
       "      <td>Sports</td>\n",
       "      <td>11</td>\n",
       "      <td>Loads of people asking about #RWC2019 ticket s...</td>\n",
       "    </tr>\n",
       "    <tr>\n",
       "      <th>1</th>\n",
       "      <td>1124056098925944832</td>\n",
       "      <td>Entertainment</td>\n",
       "      <td>2</td>\n",
       "      <td>Thank you for the support. And the criticism. ...</td>\n",
       "    </tr>\n",
       "    <tr>\n",
       "      <th>2</th>\n",
       "      <td>222818213392678912</td>\n",
       "      <td>UK Politics</td>\n",
       "      <td>14</td>\n",
       "      <td>Seedy lists of party apparatchiks appointed by...</td>\n",
       "    </tr>\n",
       "    <tr>\n",
       "      <th>3</th>\n",
       "      <td>1222183802459418630</td>\n",
       "      <td>UK Politics</td>\n",
       "      <td>14</td>\n",
       "      <td>Don?t vote for me if you think Labour 'won the...</td>\n",
       "    </tr>\n",
       "    <tr>\n",
       "      <th>4</th>\n",
       "      <td>1206500578962083841</td>\n",
       "      <td>UK Politics</td>\n",
       "      <td>14</td>\n",
       "      <td>Rather than making rash pronouncements on #ind...</td>\n",
       "    </tr>\n",
       "  </tbody>\n",
       "</table>\n",
       "</div>"
      ],
      "text/plain": [
       "                   TID          Label Target  \\\n",
       "0  1183587236039684096         Sports     11   \n",
       "1  1124056098925944832  Entertainment      2   \n",
       "2   222818213392678912    UK Politics     14   \n",
       "3  1222183802459418630    UK Politics     14   \n",
       "4  1206500578962083841    UK Politics     14   \n",
       "\n",
       "                                              RecDoc  \n",
       "0  Loads of people asking about #RWC2019 ticket s...  \n",
       "1  Thank you for the support. And the criticism. ...  \n",
       "2  Seedy lists of party apparatchiks appointed by...  \n",
       "3  Don?t vote for me if you think Labour 'won the...  \n",
       "4  Rather than making rash pronouncements on #ind...  "
      ]
     },
     "execution_count": 79,
     "metadata": {},
     "output_type": "execute_result"
    }
   ],
   "source": [
    "df_deepread.head()"
   ]
  },
  {
   "cell_type": "code",
   "execution_count": 80,
   "id": "b798e86b-b9b2-442f-a5a7-a5f249611823",
   "metadata": {
    "tags": []
   },
   "outputs": [
    {
     "data": {
      "text/plain": [
       "85"
      ]
     },
     "execution_count": 80,
     "metadata": {},
     "output_type": "execute_result"
    }
   ],
   "source": [
    "len(df_deepread)"
   ]
  },
  {
   "cell_type": "code",
   "execution_count": 82,
   "id": "c5364e7f-6a6a-4576-89ea-c5683a030b81",
   "metadata": {
    "tags": []
   },
   "outputs": [
    {
     "data": {
      "text/plain": [
       "84"
      ]
     },
     "execution_count": 82,
     "metadata": {},
     "output_type": "execute_result"
    }
   ],
   "source": [
    "# Update: 17-Jul-2023\n",
    "# Unfortunately, a duplicate was discovered in the deepread dataset reducing the dataset from 85 to 84.\n",
    "# Luckily, the duplicate SMR is part of the Pass 4 rejected SMRs, so there is no consequence to the experimental results.\n",
    "# The rest of this section is re-run and the duplicate is also removed from the reject at end of the pass, \n",
    "# but the experiments were retained as is.\n",
    "# df_deepread.to_csv('df_deepread.csv')\n",
    "df_deepread = df_deepread.drop_duplicates(['TID'])\n",
    "len(df_deepread)"
   ]
  },
  {
   "cell_type": "code",
   "execution_count": 83,
   "id": "e197957d-3eef-468d-a3b2-bd5968d98174",
   "metadata": {
    "tags": []
   },
   "outputs": [
    {
     "data": {
      "text/html": [
       "<div>\n",
       "<style scoped>\n",
       "    .dataframe tbody tr th:only-of-type {\n",
       "        vertical-align: middle;\n",
       "    }\n",
       "\n",
       "    .dataframe tbody tr th {\n",
       "        vertical-align: top;\n",
       "    }\n",
       "\n",
       "    .dataframe thead th {\n",
       "        text-align: right;\n",
       "    }\n",
       "</style>\n",
       "<table border=\"1\" class=\"dataframe\">\n",
       "  <thead>\n",
       "    <tr style=\"text-align: right;\">\n",
       "      <th></th>\n",
       "      <th>TID</th>\n",
       "      <th>Label</th>\n",
       "      <th>Target</th>\n",
       "    </tr>\n",
       "  </thead>\n",
       "  <tbody>\n",
       "    <tr>\n",
       "      <th>0</th>\n",
       "      <td>1183587236039684096</td>\n",
       "      <td>Sports</td>\n",
       "      <td>11</td>\n",
       "    </tr>\n",
       "    <tr>\n",
       "      <th>1</th>\n",
       "      <td>1124056098925944832</td>\n",
       "      <td>Entertainment</td>\n",
       "      <td>2</td>\n",
       "    </tr>\n",
       "  </tbody>\n",
       "</table>\n",
       "</div>"
      ],
      "text/plain": [
       "                   TID          Label Target\n",
       "0  1183587236039684096         Sports     11\n",
       "1  1124056098925944832  Entertainment      2"
      ]
     },
     "execution_count": 83,
     "metadata": {},
     "output_type": "execute_result"
    }
   ],
   "source": [
    "df_deepread.drop(['RecDoc'], axis=1, inplace=True)\n",
    "df_deepread.head(2)"
   ]
  },
  {
   "cell_type": "code",
   "execution_count": 84,
   "id": "1185a21c-0d5d-41d7-aa20-716e39c73f31",
   "metadata": {
    "tags": []
   },
   "outputs": [
    {
     "data": {
      "text/plain": [
       "Label\n",
       "Entertainment      7\n",
       "Environmental      7\n",
       "Health             4\n",
       "Human Rights       5\n",
       "Law and Order      2\n",
       "Obituary           1\n",
       "Social Stories     7\n",
       "Sports             5\n",
       "Travel             2\n",
       "UK Politics       13\n",
       "USA Politics      15\n",
       "World Politics    16\n",
       "dtype: int64"
      ]
     },
     "execution_count": 84,
     "metadata": {},
     "output_type": "execute_result"
    }
   ],
   "source": [
    "df_deepread.groupby(['Label']).size()"
   ]
  },
  {
   "cell_type": "code",
   "execution_count": 90,
   "id": "c16c6af1-c258-462e-b5ea-4d9540968d82",
   "metadata": {
    "tags": []
   },
   "outputs": [],
   "source": [
    "# NOTE: the duplicate was in Social Stories"
   ]
  },
  {
   "cell_type": "code",
   "execution_count": 85,
   "id": "4e2038a2-cfc9-4390-b6eb-9f774f397c34",
   "metadata": {
    "tags": []
   },
   "outputs": [],
   "source": [
    "df_confirm_FinalSMR = pd.concat([df_confirm_SMR, df_deepread], axis=0)"
   ]
  },
  {
   "cell_type": "code",
   "execution_count": 86,
   "id": "c1fec95e-11b4-40e1-bc1b-5be81c4c5be8",
   "metadata": {
    "tags": []
   },
   "outputs": [
    {
     "data": {
      "text/plain": [
       "424"
      ]
     },
     "execution_count": 86,
     "metadata": {},
     "output_type": "execute_result"
    }
   ],
   "source": [
    "len(df_confirm_FinalSMR)"
   ]
  },
  {
   "cell_type": "code",
   "execution_count": 87,
   "id": "57db13f0-560c-48c8-a711-13c702ccd8be",
   "metadata": {
    "tags": []
   },
   "outputs": [
    {
     "data": {
      "text/html": [
       "<div>\n",
       "<style scoped>\n",
       "    .dataframe tbody tr th:only-of-type {\n",
       "        vertical-align: middle;\n",
       "    }\n",
       "\n",
       "    .dataframe tbody tr th {\n",
       "        vertical-align: top;\n",
       "    }\n",
       "\n",
       "    .dataframe thead th {\n",
       "        text-align: right;\n",
       "    }\n",
       "</style>\n",
       "<table border=\"1\" class=\"dataframe\">\n",
       "  <thead>\n",
       "    <tr style=\"text-align: right;\">\n",
       "      <th></th>\n",
       "      <th>InReplyTo</th>\n",
       "      <th>Label</th>\n",
       "      <th>Target</th>\n",
       "      <th>QueryCount</th>\n",
       "      <th>TID</th>\n",
       "    </tr>\n",
       "  </thead>\n",
       "  <tbody>\n",
       "    <tr>\n",
       "      <th>4</th>\n",
       "      <td>1135851552495865857</td>\n",
       "      <td>Social Stories</td>\n",
       "      <td>10</td>\n",
       "      <td>16.0</td>\n",
       "      <td>NaN</td>\n",
       "    </tr>\n",
       "    <tr>\n",
       "      <th>11</th>\n",
       "      <td>1151389038781390848</td>\n",
       "      <td>Human Rights</td>\n",
       "      <td>5</td>\n",
       "      <td>19.0</td>\n",
       "      <td>NaN</td>\n",
       "    </tr>\n",
       "    <tr>\n",
       "      <th>20</th>\n",
       "      <td>1177679699369050112</td>\n",
       "      <td>Entertainment</td>\n",
       "      <td>2</td>\n",
       "      <td>11.0</td>\n",
       "      <td>NaN</td>\n",
       "    </tr>\n",
       "    <tr>\n",
       "      <th>28</th>\n",
       "      <td>1178962636278382592</td>\n",
       "      <td>Environmental</td>\n",
       "      <td>3</td>\n",
       "      <td>20.0</td>\n",
       "      <td>NaN</td>\n",
       "    </tr>\n",
       "    <tr>\n",
       "      <th>35</th>\n",
       "      <td>1179050498428682240</td>\n",
       "      <td>UK Politics</td>\n",
       "      <td>14</td>\n",
       "      <td>14.0</td>\n",
       "      <td>NaN</td>\n",
       "    </tr>\n",
       "  </tbody>\n",
       "</table>\n",
       "</div>"
      ],
      "text/plain": [
       "              InReplyTo           Label Target  QueryCount  TID\n",
       "4   1135851552495865857  Social Stories     10        16.0  NaN\n",
       "11  1151389038781390848    Human Rights      5        19.0  NaN\n",
       "20  1177679699369050112   Entertainment      2        11.0  NaN\n",
       "28  1178962636278382592   Environmental      3        20.0  NaN\n",
       "35  1179050498428682240     UK Politics     14        14.0  NaN"
      ]
     },
     "execution_count": 87,
     "metadata": {},
     "output_type": "execute_result"
    }
   ],
   "source": [
    "df_confirm_FinalSMR.head()"
   ]
  },
  {
   "cell_type": "code",
   "execution_count": 88,
   "id": "03e8302a-5244-4167-93eb-4cf16398ec9d",
   "metadata": {
    "tags": []
   },
   "outputs": [],
   "source": [
    "df_confirm_FinalSMR.rename(columns={'TID': 'RecID'}, inplace=True)"
   ]
  },
  {
   "cell_type": "code",
   "execution_count": 89,
   "id": "597b72e8-72a5-4e79-8409-8c1bd9366e7d",
   "metadata": {
    "tags": []
   },
   "outputs": [
    {
     "data": {
      "text/plain": [
       "Label           Target\n",
       "Entertainment   2         28\n",
       "Environmental   3         48\n",
       "Health          4         10\n",
       "Human Rights    5         24\n",
       "Law and Order   7          8\n",
       "Obituary        9          1\n",
       "Social Stories  10        35\n",
       "Sports          11        16\n",
       "Travel          13         2\n",
       "UK Politics     14        67\n",
       "USA Politics    15        87\n",
       "World Politics  12        98\n",
       "dtype: int64"
      ]
     },
     "execution_count": 89,
     "metadata": {},
     "output_type": "execute_result"
    }
   ],
   "source": [
    "df_confirm_FinalSMR.groupby(['Label','Target']).size()"
   ]
  },
  {
   "cell_type": "markdown",
   "id": "3f127ac0-5af3-4bf2-bdff-8378a2c86c0a",
   "metadata": {
    "tags": []
   },
   "source": [
    "#### Update Politics"
   ]
  },
  {
   "cell_type": "code",
   "execution_count": 21,
   "id": "65a240d4-0a94-4b8f-8dc4-e94dc9d7ac45",
   "metadata": {},
   "outputs": [],
   "source": [
    "# Remove World Politics\n",
    "# df_confirm_FinalSMR = df_confirm_FinalSMR[df_confirm_FinalSMR.Label!='World Politics']\n",
    "# len(df_confirm_FinalSMR)"
   ]
  },
  {
   "cell_type": "code",
   "execution_count": 22,
   "id": "0aedc678-f4b7-46a1-874b-700b2076159c",
   "metadata": {},
   "outputs": [],
   "source": [
    "# Change USA and UK Politics to 'Politics'\n",
    "df_confirm_FinalSMR.loc[(df_confirm_FinalSMR.Label == 'USA Politics'), 'Label'] = 'Politics'\n",
    "df_confirm_FinalSMR.loc[(df_confirm_FinalSMR.Label == 'UK Politics'), 'Label'] = 'Politics'"
   ]
  },
  {
   "cell_type": "code",
   "execution_count": 23,
   "id": "c49709b7-6b0a-4093-8952-ef79046b229f",
   "metadata": {},
   "outputs": [],
   "source": [
    "df_confirm_FinalSMR.loc[(df_confirm_FinalSMR.Target == '14'), 'Target'] = '6'\n",
    "df_confirm_FinalSMR.loc[(df_confirm_FinalSMR.Target == '15'), 'Target'] = '6'"
   ]
  },
  {
   "cell_type": "code",
   "execution_count": 24,
   "id": "de13e29b-2fc5-4a30-99b0-7993d24216fe",
   "metadata": {},
   "outputs": [
    {
     "data": {
      "text/plain": [
       "Target  Label         \n",
       "10      Social Stories     36\n",
       "11      Sports             16\n",
       "12      World Politics     98\n",
       "13      Travel              2\n",
       "2       Entertainment      28\n",
       "3       Environmental      48\n",
       "4       Health             10\n",
       "5       Human Rights       24\n",
       "6       Politics          154\n",
       "7       Law and Order       8\n",
       "9       Obituary            1\n",
       "dtype: int64"
      ]
     },
     "execution_count": 24,
     "metadata": {},
     "output_type": "execute_result"
    }
   ],
   "source": [
    "df_confirm_FinalSMR.groupby(['Target', 'Label']).size()"
   ]
  },
  {
   "cell_type": "code",
   "execution_count": 25,
   "id": "36b5f34b-223e-414d-a609-1bf576ded15c",
   "metadata": {},
   "outputs": [
    {
     "data": {
      "text/html": [
       "<div>\n",
       "<style scoped>\n",
       "    .dataframe tbody tr th:only-of-type {\n",
       "        vertical-align: middle;\n",
       "    }\n",
       "\n",
       "    .dataframe tbody tr th {\n",
       "        vertical-align: top;\n",
       "    }\n",
       "\n",
       "    .dataframe thead th {\n",
       "        text-align: right;\n",
       "    }\n",
       "</style>\n",
       "<table border=\"1\" class=\"dataframe\">\n",
       "  <thead>\n",
       "    <tr style=\"text-align: right;\">\n",
       "      <th></th>\n",
       "      <th>RecID</th>\n",
       "      <th>Label</th>\n",
       "      <th>Target</th>\n",
       "    </tr>\n",
       "  </thead>\n",
       "  <tbody>\n",
       "    <tr>\n",
       "      <th>4</th>\n",
       "      <td>1135851552495865857</td>\n",
       "      <td>Social Stories</td>\n",
       "      <td>10</td>\n",
       "    </tr>\n",
       "    <tr>\n",
       "      <th>11</th>\n",
       "      <td>1151389038781390848</td>\n",
       "      <td>Human Rights</td>\n",
       "      <td>5</td>\n",
       "    </tr>\n",
       "  </tbody>\n",
       "</table>\n",
       "</div>"
      ],
      "text/plain": [
       "                  RecID           Label Target\n",
       "4   1135851552495865857  Social Stories     10\n",
       "11  1151389038781390848    Human Rights      5"
      ]
     },
     "execution_count": 25,
     "metadata": {},
     "output_type": "execute_result"
    }
   ],
   "source": [
    "df_confirm_FinalSMR.head(2)"
   ]
  },
  {
   "cell_type": "markdown",
   "id": "25a74d4e-a7a0-4841-a595-54039f217b45",
   "metadata": {
    "jp-MarkdownHeadingCollapsed": true,
    "tags": []
   },
   "source": [
    "#### Save to data and result"
   ]
  },
  {
   "cell_type": "code",
   "execution_count": 108,
   "id": "5808cae2-c1e0-4097-8396-88d95ac3585c",
   "metadata": {},
   "outputs": [],
   "source": [
    "# save data\n",
    "df_confirm_FinalSMR.to_csv('data/GTxM_Pass4/GTxM_CGT_Labeled_Pass4.csv', index=False)"
   ]
  },
  {
   "cell_type": "code",
   "execution_count": 109,
   "id": "097a06ed-9784-4560-bb80-f4970d6ffe1d",
   "metadata": {},
   "outputs": [],
   "source": [
    "# save base Intercoder Prediction\n",
    "df_confirm_FinalSMR.to_csv('results/GTxM_Pass4/GTxM_Intercoder_Pred_Pass4.csv', index=False)"
   ]
  },
  {
   "cell_type": "markdown",
   "id": "9e9f179d-296e-4868-9382-c87911d52c21",
   "metadata": {
    "tags": []
   },
   "source": [
    "### Prepare JatoMaster for HO1"
   ]
  },
  {
   "cell_type": "code",
   "execution_count": 25,
   "id": "b0caa23d-0aa0-4795-8d22-f0ab53da9970",
   "metadata": {},
   "outputs": [
    {
     "data": {
      "text/plain": [
       "4684"
      ]
     },
     "execution_count": 25,
     "metadata": {},
     "output_type": "execute_result"
    }
   ],
   "source": [
    "data = pd.read_csv('data/MasterTokens.csv', encoding='ISO-8859-1', dtype='str')\n",
    "len(data)"
   ]
  },
  {
   "cell_type": "code",
   "execution_count": 26,
   "id": "d54f257d-6639-4d4b-aca4-662949b676c8",
   "metadata": {},
   "outputs": [],
   "source": [
    "df_jatoMaster_Pass4_HO1 = pd.merge(data, df_confirm_FinalSMR, on='RecID', how='inner')"
   ]
  },
  {
   "cell_type": "code",
   "execution_count": 27,
   "id": "9a01591e-b523-4dd8-bfff-45e92f167738",
   "metadata": {},
   "outputs": [],
   "source": [
    "df_jatoMaster_Pass4_HO1['PubTitle'] = df_jatoMaster_Pass4_HO1['PubTitle'].apply(removeSpCharLine)\n",
    "df_jatoMaster_Pass4_HO1['RecDoc'] = df_jatoMaster_Pass4_HO1['RecDoc'].apply(removeSpCharLine)\n",
    "df_jatoMaster_Pass4_HO1['smrTopText'] = df_jatoMaster_Pass4_HO1['smrTopText'].apply(removeSpCharLine)\n",
    "df_jatoMaster_Pass4_HO1['smrSummary'] = df_jatoMaster_Pass4_HO1['smrSummary'].apply(removeSpCharLine)"
   ]
  },
  {
   "cell_type": "code",
   "execution_count": 30,
   "id": "bea2cb5e-522a-4ace-bf89-2f3f3f77931b",
   "metadata": {},
   "outputs": [
    {
     "data": {
      "text/plain": [
       "425"
      ]
     },
     "execution_count": 30,
     "metadata": {},
     "output_type": "execute_result"
    }
   ],
   "source": [
    "len(df_jatoMaster_Pass4_HO1)"
   ]
  },
  {
   "cell_type": "code",
   "execution_count": 29,
   "id": "ff7f661d-c40a-4888-b465-e9c41e15c040",
   "metadata": {},
   "outputs": [],
   "source": [
    "df_jatoMaster_Pass4_HO1.to_csv('D:/KOPro/PhD/Implementation/SourceCode/JatoPass4_HO1/data/JatoMaster.csv')"
   ]
  },
  {
   "cell_type": "markdown",
   "id": "6f4f2ed5-a6fa-4cb0-9281-0d9ee47b063c",
   "metadata": {
    "tags": []
   },
   "source": [
    "#### Generate JatoClassified"
   ]
  },
  {
   "cell_type": "code",
   "execution_count": 50,
   "id": "6d6027af-7d7b-4850-a9dd-5a40fd13f8f8",
   "metadata": {},
   "outputs": [
    {
     "data": {
      "text/plain": [
       "2042"
      ]
     },
     "execution_count": 50,
     "metadata": {},
     "output_type": "execute_result"
    }
   ],
   "source": [
    "df_jato_HO1_pass0 = pd.read_csv('D:/KOPro/PhD/Implementation/SourceCode/Jato/data/JatoOp1Labels.csv', usecols=['RecID','Label'], dtype='str')\n",
    "len(df_jato_HO1_pass0)"
   ]
  },
  {
   "cell_type": "code",
   "execution_count": 51,
   "id": "713f9dd0-7328-4578-ac15-49b6740ea6e6",
   "metadata": {},
   "outputs": [
    {
     "data": {
      "text/html": [
       "<div>\n",
       "<style scoped>\n",
       "    .dataframe tbody tr th:only-of-type {\n",
       "        vertical-align: middle;\n",
       "    }\n",
       "\n",
       "    .dataframe tbody tr th {\n",
       "        vertical-align: top;\n",
       "    }\n",
       "\n",
       "    .dataframe thead th {\n",
       "        text-align: right;\n",
       "    }\n",
       "</style>\n",
       "<table border=\"1\" class=\"dataframe\">\n",
       "  <thead>\n",
       "    <tr style=\"text-align: right;\">\n",
       "      <th></th>\n",
       "      <th>RecID</th>\n",
       "      <th>Label</th>\n",
       "    </tr>\n",
       "  </thead>\n",
       "  <tbody>\n",
       "    <tr>\n",
       "      <th>0</th>\n",
       "      <td>222818213392678912</td>\n",
       "      <td>Politics</td>\n",
       "    </tr>\n",
       "    <tr>\n",
       "      <th>1</th>\n",
       "      <td>826262311560216578</td>\n",
       "      <td>Politics</td>\n",
       "    </tr>\n",
       "  </tbody>\n",
       "</table>\n",
       "</div>"
      ],
      "text/plain": [
       "                RecID     Label\n",
       "0  222818213392678912  Politics\n",
       "1  826262311560216578  Politics"
      ]
     },
     "execution_count": 51,
     "metadata": {},
     "output_type": "execute_result"
    }
   ],
   "source": [
    "df_jato_HO1_pass0.head(2)"
   ]
  },
  {
   "cell_type": "code",
   "execution_count": 52,
   "id": "340d6224-3e50-4615-a9b7-dd571099bb18",
   "metadata": {},
   "outputs": [
    {
     "data": {
      "text/plain": [
       "2385"
      ]
     },
     "execution_count": 52,
     "metadata": {},
     "output_type": "execute_result"
    }
   ],
   "source": [
    "df_jato_Clf_blank = pd.read_csv('D:/KOPro/PhD/Implementation/SourceCode/JatoPass4_HO1/data/JatoClassified_BlankCat.csv', dtype='str')\n",
    "len(df_jato_Clf_blank)"
   ]
  },
  {
   "cell_type": "code",
   "execution_count": 53,
   "id": "76e72e48-4e67-4515-916f-a9a33b951485",
   "metadata": {},
   "outputs": [
    {
     "data": {
      "text/html": [
       "<div>\n",
       "<style scoped>\n",
       "    .dataframe tbody tr th:only-of-type {\n",
       "        vertical-align: middle;\n",
       "    }\n",
       "\n",
       "    .dataframe tbody tr th {\n",
       "        vertical-align: top;\n",
       "    }\n",
       "\n",
       "    .dataframe thead th {\n",
       "        text-align: right;\n",
       "    }\n",
       "</style>\n",
       "<table border=\"1\" class=\"dataframe\">\n",
       "  <thead>\n",
       "    <tr style=\"text-align: right;\">\n",
       "      <th></th>\n",
       "      <th>rowid</th>\n",
       "      <th>RecID</th>\n",
       "      <th>SavedDataTime</th>\n",
       "      <th>JatoCat</th>\n",
       "      <th>JatoSubCat</th>\n",
       "      <th>JatoCat2</th>\n",
       "      <th>JatoSubCat2</th>\n",
       "      <th>JatoCat3</th>\n",
       "      <th>JatoSubCat3</th>\n",
       "      <th>NewRecClass</th>\n",
       "      <th>GTCodes</th>\n",
       "      <th>NewsPubCat</th>\n",
       "    </tr>\n",
       "  </thead>\n",
       "  <tbody>\n",
       "    <tr>\n",
       "      <th>0</th>\n",
       "      <td>6</td>\n",
       "      <td>222818213392678912</td>\n",
       "      <td>2021:01:17 21:15:20</td>\n",
       "      <td>Political</td>\n",
       "      <td>Debate</td>\n",
       "      <td>NaN</td>\n",
       "      <td>NaN</td>\n",
       "      <td>NaN</td>\n",
       "      <td>NaN</td>\n",
       "      <td>NaN</td>\n",
       "      <td>NaN</td>\n",
       "      <td>Unknown</td>\n",
       "    </tr>\n",
       "    <tr>\n",
       "      <th>1</th>\n",
       "      <td>60</td>\n",
       "      <td>826262311560216578</td>\n",
       "      <td>2021:01:13 19:53:48</td>\n",
       "      <td>Political</td>\n",
       "      <td>Debate</td>\n",
       "      <td>NaN</td>\n",
       "      <td>NaN</td>\n",
       "      <td>NaN</td>\n",
       "      <td>NaN</td>\n",
       "      <td>NaN</td>\n",
       "      <td>NaN</td>\n",
       "      <td>Unknown</td>\n",
       "    </tr>\n",
       "  </tbody>\n",
       "</table>\n",
       "</div>"
      ],
      "text/plain": [
       "  rowid               RecID        SavedDataTime    JatoCat JatoSubCat  \\\n",
       "0     6  222818213392678912  2021:01:17 21:15:20  Political     Debate   \n",
       "1    60  826262311560216578  2021:01:13 19:53:48  Political     Debate   \n",
       "\n",
       "  JatoCat2 JatoSubCat2 JatoCat3 JatoSubCat3 NewRecClass GTCodes NewsPubCat  \n",
       "0      NaN         NaN      NaN         NaN         NaN     NaN    Unknown  \n",
       "1      NaN         NaN      NaN         NaN         NaN     NaN    Unknown  "
      ]
     },
     "execution_count": 53,
     "metadata": {},
     "output_type": "execute_result"
    }
   ],
   "source": [
    "df_jato_Clf_blank.head(2)"
   ]
  },
  {
   "cell_type": "code",
   "execution_count": 54,
   "id": "054402e6-f3c7-4916-8214-2f1dc7abb547",
   "metadata": {},
   "outputs": [
    {
     "data": {
      "text/html": [
       "<div>\n",
       "<style scoped>\n",
       "    .dataframe tbody tr th:only-of-type {\n",
       "        vertical-align: middle;\n",
       "    }\n",
       "\n",
       "    .dataframe tbody tr th {\n",
       "        vertical-align: top;\n",
       "    }\n",
       "\n",
       "    .dataframe thead th {\n",
       "        text-align: right;\n",
       "    }\n",
       "</style>\n",
       "<table border=\"1\" class=\"dataframe\">\n",
       "  <thead>\n",
       "    <tr style=\"text-align: right;\">\n",
       "      <th></th>\n",
       "      <th>rowid</th>\n",
       "      <th>RecID</th>\n",
       "      <th>SavedDataTime</th>\n",
       "      <th>JatoCat</th>\n",
       "      <th>JatoSubCat</th>\n",
       "      <th>JatoCat2</th>\n",
       "      <th>JatoSubCat2</th>\n",
       "      <th>JatoCat3</th>\n",
       "      <th>JatoSubCat3</th>\n",
       "      <th>NewRecClass</th>\n",
       "      <th>GTCodes</th>\n",
       "      <th>NewsPubCat</th>\n",
       "    </tr>\n",
       "  </thead>\n",
       "  <tbody>\n",
       "    <tr>\n",
       "      <th>0</th>\n",
       "      <td>6</td>\n",
       "      <td>222818213392678912</td>\n",
       "      <td>2021:01:17 21:15:20</td>\n",
       "      <td>Political</td>\n",
       "      <td>Debate</td>\n",
       "      <td>NaN</td>\n",
       "      <td>NaN</td>\n",
       "      <td>NaN</td>\n",
       "      <td>NaN</td>\n",
       "      <td>NaN</td>\n",
       "      <td>NaN</td>\n",
       "      <td>Politics</td>\n",
       "    </tr>\n",
       "    <tr>\n",
       "      <th>1</th>\n",
       "      <td>60</td>\n",
       "      <td>826262311560216578</td>\n",
       "      <td>2021:01:13 19:53:48</td>\n",
       "      <td>Political</td>\n",
       "      <td>Debate</td>\n",
       "      <td>NaN</td>\n",
       "      <td>NaN</td>\n",
       "      <td>NaN</td>\n",
       "      <td>NaN</td>\n",
       "      <td>NaN</td>\n",
       "      <td>NaN</td>\n",
       "      <td>Politics</td>\n",
       "    </tr>\n",
       "  </tbody>\n",
       "</table>\n",
       "</div>"
      ],
      "text/plain": [
       "  rowid               RecID        SavedDataTime    JatoCat JatoSubCat  \\\n",
       "0     6  222818213392678912  2021:01:17 21:15:20  Political     Debate   \n",
       "1    60  826262311560216578  2021:01:13 19:53:48  Political     Debate   \n",
       "\n",
       "  JatoCat2 JatoSubCat2 JatoCat3 JatoSubCat3 NewRecClass GTCodes NewsPubCat  \n",
       "0      NaN         NaN      NaN         NaN         NaN     NaN   Politics  \n",
       "1      NaN         NaN      NaN         NaN         NaN     NaN   Politics  "
      ]
     },
     "execution_count": 54,
     "metadata": {},
     "output_type": "execute_result"
    }
   ],
   "source": [
    "df_jato_HO1_pass4 = pd.merge(df_jato_Clf_blank, df_jato_HO1_pass0, on='RecID', how='left')\n",
    "df_jato_HO1_pass4.drop(['NewsPubCat'], axis=1, inplace=True)\n",
    "df_jato_HO1_pass4.rename(columns={'Label': 'NewsPubCat'}, inplace=True)\n",
    "df_jato_HO1_pass4.head(2)"
   ]
  },
  {
   "cell_type": "code",
   "execution_count": 55,
   "id": "0cd61df1-b321-4dca-8daa-1ef4a2f4ba0f",
   "metadata": {},
   "outputs": [
    {
     "data": {
      "text/plain": [
       "NewsPubCat\n",
       "Business          87\n",
       "Entertainment    228\n",
       "Environmental     78\n",
       "Human Rights     338\n",
       "Obituary         138\n",
       "Politics         872\n",
       "Sports           143\n",
       "Stories           84\n",
       "Technology        74\n",
       "dtype: int64"
      ]
     },
     "execution_count": 55,
     "metadata": {},
     "output_type": "execute_result"
    }
   ],
   "source": [
    "df_jato_HO1_pass4.groupby(['NewsPubCat']).size()"
   ]
  },
  {
   "cell_type": "code",
   "execution_count": 56,
   "id": "300b402a-c392-449e-bdd7-7d7a35195d6e",
   "metadata": {},
   "outputs": [],
   "source": [
    "# Change Stories, Technology and Blank\n",
    "df_jato_HO1_pass4.loc[(df_jato_HO1_pass4.NewsPubCat == 'Stories'), 'NewsPubCat'] = 'Social Stories'\n",
    "df_jato_HO1_pass4.loc[(df_jato_HO1_pass4.NewsPubCat == 'Technology'), 'NewsPubCat'] = 'Business'\n",
    "df_jato_HO1_pass4.loc[(df_jato_HO1_pass4.NewsPubCat.isna()), 'NewsPubCat'] = 'Unknown'"
   ]
  },
  {
   "cell_type": "code",
   "execution_count": 57,
   "id": "6c2e5c37-a84a-446b-951d-8632337af90c",
   "metadata": {},
   "outputs": [
    {
     "data": {
      "text/plain": [
       "NewsPubCat\n",
       "Business          161\n",
       "Entertainment     228\n",
       "Environmental      78\n",
       "Human Rights      338\n",
       "Obituary          138\n",
       "Politics          872\n",
       "Social Stories     84\n",
       "Sports            143\n",
       "Unknown           343\n",
       "dtype: int64"
      ]
     },
     "execution_count": 57,
     "metadata": {},
     "output_type": "execute_result"
    }
   ],
   "source": [
    "df_jato_HO1_pass4.groupby(['NewsPubCat']).size()"
   ]
  },
  {
   "cell_type": "code",
   "execution_count": 59,
   "id": "d2a4397a-d36b-47b4-9a6f-6171aa8dda02",
   "metadata": {},
   "outputs": [],
   "source": [
    "df_jato_HO1_pass4.to_csv('D:/KOPro/PhD/Implementation/SourceCode/JatoPass4_HO1/data/JatoClassified.csv', index=False)"
   ]
  },
  {
   "cell_type": "markdown",
   "id": "824fa3b2-20f7-48f0-a09c-7c7a2cf5db33",
   "metadata": {
    "tags": []
   },
   "source": [
    "### SVM Clf run"
   ]
  },
  {
   "cell_type": "markdown",
   "id": "214b5960-4f20-4202-b477-5a663d64e142",
   "metadata": {
    "tags": []
   },
   "source": [
    "#### Setup environment"
   ]
  },
  {
   "cell_type": "code",
   "execution_count": 26,
   "id": "b5790918-b09f-4299-94a9-896b5e4b0613",
   "metadata": {},
   "outputs": [],
   "source": [
    "import time\n",
    "from sklearn.feature_extraction.text import TfidfVectorizer\n",
    "from sklearn.model_selection import train_test_split, cross_validate\n",
    "from sklearn.metrics import accuracy_score\n",
    "from sklearn.metrics import precision_recall_fscore_support\n",
    "from sklearn.metrics import confusion_matrix\n",
    "from sklearn.svm import SVC\n",
    "import csv\n",
    "import warnings\n",
    "import sklearn.exceptions\n",
    "warnings.filterwarnings(\"ignore\",category=DeprecationWarning)\n",
    "warnings.filterwarnings(\"ignore\",category=sklearn.exceptions.UndefinedMetricWarning)"
   ]
  },
  {
   "cell_type": "code",
   "execution_count": 27,
   "id": "7e57614a-6f7a-4d40-a504-953c511cfb95",
   "metadata": {},
   "outputs": [
    {
     "data": {
      "text/plain": [
       "4684"
      ]
     },
     "execution_count": 27,
     "metadata": {},
     "output_type": "execute_result"
    }
   ],
   "source": [
    "data = pd.read_csv('data/MasterTokens.csv', encoding='ISO-8859-1', dtype='str')\n",
    "len(data)"
   ]
  },
  {
   "cell_type": "code",
   "execution_count": 28,
   "id": "326c9374-5c68-4ae8-95b4-392ba3dbd67a",
   "metadata": {},
   "outputs": [
    {
     "data": {
      "text/html": [
       "<div>\n",
       "<style scoped>\n",
       "    .dataframe tbody tr th:only-of-type {\n",
       "        vertical-align: middle;\n",
       "    }\n",
       "\n",
       "    .dataframe tbody tr th {\n",
       "        vertical-align: top;\n",
       "    }\n",
       "\n",
       "    .dataframe thead th {\n",
       "        text-align: right;\n",
       "    }\n",
       "</style>\n",
       "<table border=\"1\" class=\"dataframe\">\n",
       "  <thead>\n",
       "    <tr style=\"text-align: right;\">\n",
       "      <th></th>\n",
       "      <th>rowid</th>\n",
       "      <th>RecID</th>\n",
       "      <th>PubTitle</th>\n",
       "      <th>RecDoc</th>\n",
       "      <th>countSupTweets</th>\n",
       "      <th>smrHashtags</th>\n",
       "      <th>smrMentions</th>\n",
       "      <th>smrNER</th>\n",
       "      <th>smrNouns</th>\n",
       "      <th>smrVerbs</th>\n",
       "      <th>smrAdverbs</th>\n",
       "      <th>smrAdjectives</th>\n",
       "      <th>smrTopText</th>\n",
       "      <th>smrSummary</th>\n",
       "    </tr>\n",
       "  </thead>\n",
       "  <tbody>\n",
       "    <tr>\n",
       "      <th>0</th>\n",
       "      <td>0</td>\n",
       "      <td>11947603240</td>\n",
       "      <td>Ed Sheeran, Drake and Justin Bieber: What were...</td>\n",
       "      <td>I think I have part created a pretty amazing s...</td>\n",
       "      <td>0.0</td>\n",
       "      <td></td>\n",
       "      <td></td>\n",
       "      <td></td>\n",
       "      <td>part song lie</td>\n",
       "      <td>creat</td>\n",
       "      <td>pretti</td>\n",
       "      <td>amaz</td>\n",
       "      <td>I think I have part created a pretty amazing s...</td>\n",
       "      <td>Summarization skipped (text is 1000 characters...</td>\n",
       "    </tr>\n",
       "    <tr>\n",
       "      <th>1</th>\n",
       "      <td>1</td>\n",
       "      <td>12643331537</td>\n",
       "      <td>Ed Sheeran, Drake and Justin Bieber: What were...</td>\n",
       "      <td>can i have one more follower please... i would...</td>\n",
       "      <td>1.0</td>\n",
       "      <td></td>\n",
       "      <td>jessglynne</td>\n",
       "      <td></td>\n",
       "      <td>follow igcom club gpsi</td>\n",
       "      <td>love</td>\n",
       "      <td></td>\n",
       "      <td>top</td>\n",
       "      <td>can i have one more follower please... i would...</td>\n",
       "      <td>Summarization skipped (text is 1000 characters...</td>\n",
       "    </tr>\n",
       "  </tbody>\n",
       "</table>\n",
       "</div>"
      ],
      "text/plain": [
       "  rowid        RecID                                           PubTitle  \\\n",
       "0     0  11947603240  Ed Sheeran, Drake and Justin Bieber: What were...   \n",
       "1     1  12643331537  Ed Sheeran, Drake and Justin Bieber: What were...   \n",
       "\n",
       "                                              RecDoc countSupTweets  \\\n",
       "0  I think I have part created a pretty amazing s...            0.0   \n",
       "1  can i have one more follower please... i would...            1.0   \n",
       "\n",
       "  smrHashtags smrMentions smrNER                smrNouns smrVerbs smrAdverbs  \\\n",
       "0                                          part song lie    creat     pretti   \n",
       "1              jessglynne         follow igcom club gpsi     love              \n",
       "\n",
       "  smrAdjectives                                         smrTopText  \\\n",
       "0          amaz  I think I have part created a pretty amazing s...   \n",
       "1           top  can i have one more follower please... i would...   \n",
       "\n",
       "                                          smrSummary  \n",
       "0  Summarization skipped (text is 1000 characters...  \n",
       "1  Summarization skipped (text is 1000 characters...  "
      ]
     },
     "execution_count": 28,
     "metadata": {},
     "output_type": "execute_result"
    }
   ],
   "source": [
    "data.head(2)"
   ]
  },
  {
   "cell_type": "markdown",
   "id": "b43bab2e-811b-4189-bae2-eeaaff1a49b8",
   "metadata": {
    "tags": []
   },
   "source": [
    "#### Prep Training data"
   ]
  },
  {
   "cell_type": "code",
   "execution_count": 29,
   "id": "a64fc850-f24e-41bb-8c0c-aef4e4595c08",
   "metadata": {},
   "outputs": [
    {
     "data": {
      "text/plain": [
       "1057"
      ]
     },
     "execution_count": 29,
     "metadata": {},
     "output_type": "execute_result"
    }
   ],
   "source": [
    "df_GTD_Rec = pd.read_csv('data/GTxM_Pass3/GTxM_Pass3_GTD_UpTodate.csv', dtype='str')\n",
    "len(df_GTD_Rec)"
   ]
  },
  {
   "cell_type": "code",
   "execution_count": 30,
   "id": "7632ec70-2d2e-4f63-a91f-90e8d1dce6af",
   "metadata": {},
   "outputs": [
    {
     "data": {
      "text/html": [
       "<div>\n",
       "<style scoped>\n",
       "    .dataframe tbody tr th:only-of-type {\n",
       "        vertical-align: middle;\n",
       "    }\n",
       "\n",
       "    .dataframe tbody tr th {\n",
       "        vertical-align: top;\n",
       "    }\n",
       "\n",
       "    .dataframe thead th {\n",
       "        text-align: right;\n",
       "    }\n",
       "</style>\n",
       "<table border=\"1\" class=\"dataframe\">\n",
       "  <thead>\n",
       "    <tr style=\"text-align: right;\">\n",
       "      <th></th>\n",
       "      <th>RecID</th>\n",
       "      <th>Label</th>\n",
       "      <th>Target</th>\n",
       "    </tr>\n",
       "  </thead>\n",
       "  <tbody>\n",
       "    <tr>\n",
       "      <th>0</th>\n",
       "      <td>1207761446513319936</td>\n",
       "      <td>Politics</td>\n",
       "      <td>6</td>\n",
       "    </tr>\n",
       "    <tr>\n",
       "      <th>1</th>\n",
       "      <td>1180079141087055872</td>\n",
       "      <td>Politics</td>\n",
       "      <td>6</td>\n",
       "    </tr>\n",
       "  </tbody>\n",
       "</table>\n",
       "</div>"
      ],
      "text/plain": [
       "                 RecID     Label Target\n",
       "0  1207761446513319936  Politics      6\n",
       "1  1180079141087055872  Politics      6"
      ]
     },
     "execution_count": 30,
     "metadata": {},
     "output_type": "execute_result"
    }
   ],
   "source": [
    "df_GTD_Rec.head(2)"
   ]
  },
  {
   "cell_type": "code",
   "execution_count": 31,
   "id": "42b4d33b-3f1e-4b52-9a8d-e52fd29b9ba4",
   "metadata": {},
   "outputs": [
    {
     "data": {
      "text/plain": [
       "1057"
      ]
     },
     "execution_count": 31,
     "metadata": {},
     "output_type": "execute_result"
    }
   ],
   "source": [
    "# train on pass 3 GTD\n",
    "df_train = pd.merge(data, df_GTD_Rec, on=\"RecID\")\n",
    "len(df_train)"
   ]
  },
  {
   "cell_type": "code",
   "execution_count": 32,
   "id": "ed0ec032-46b0-41a5-afb7-12b928d0947b",
   "metadata": {},
   "outputs": [
    {
     "data": {
      "text/plain": [
       "Target  Label         \n",
       "1       Business           75\n",
       "10      Social Stories     32\n",
       "11      Sports             75\n",
       "2       Entertainment     153\n",
       "3       Environmental      17\n",
       "4       Health              4\n",
       "5       Human Rights       86\n",
       "6       Politics          456\n",
       "7       Law and Order      12\n",
       "9       Obituary          147\n",
       "dtype: int64"
      ]
     },
     "execution_count": 32,
     "metadata": {},
     "output_type": "execute_result"
    }
   ],
   "source": [
    "df_train.groupby(['Target','Label']).size()"
   ]
  },
  {
   "cell_type": "code",
   "execution_count": 33,
   "id": "013545e5-06cc-48ce-8ddb-ac39024cf098",
   "metadata": {},
   "outputs": [],
   "source": [
    "# remove lower than 50 count SMRs\n",
    "df_train = df_train[df_train.Label != 'Environmental']\n",
    "df_train = df_train[df_train.Label != 'Health']\n",
    "df_train = df_train[df_train.Label != 'Law and Order']\n",
    "df_train = df_train[df_train.Label != 'Social Stories']"
   ]
  },
  {
   "cell_type": "code",
   "execution_count": 36,
   "id": "eeff9732-2108-4ec5-ae48-94ce383d85b4",
   "metadata": {},
   "outputs": [],
   "source": [
    "# remove Business and Obituary from training since test has 0 and only 1 SMRs\n",
    "# insufficient for testing\n",
    "df_train = df_train[df_train.Label != 'Business']\n",
    "df_train = df_train[df_train.Label != 'Obituary']"
   ]
  },
  {
   "cell_type": "code",
   "execution_count": 37,
   "id": "31ce926e-e879-4d45-b18c-bb4303a1e176",
   "metadata": {},
   "outputs": [
    {
     "data": {
      "text/plain": [
       "770"
      ]
     },
     "execution_count": 37,
     "metadata": {},
     "output_type": "execute_result"
    }
   ],
   "source": [
    "len(df_train)"
   ]
  },
  {
   "cell_type": "code",
   "execution_count": 38,
   "id": "669c246a-7ec3-484c-9c2b-84cfc6864a0c",
   "metadata": {},
   "outputs": [],
   "source": [
    "df_train.Target = df_train['Target'].astype(int)"
   ]
  },
  {
   "cell_type": "code",
   "execution_count": 119,
   "id": "940f7b9d-3b79-4b4f-a5a7-561238f7e064",
   "metadata": {},
   "outputs": [],
   "source": [
    "# # Code the Targets 0-5\n",
    "# df_train.loc[(df_train.Target == 1), 'Target'] = 0 # Business\n",
    "# df_train.loc[(df_train.Target == 2), 'Target'] = 1 # Entertainment\n",
    "# df_train.loc[(df_train.Target == 5), 'Target'] = 2 # Human Rights\n",
    "# df_train.loc[(df_train.Target == 6), 'Target'] = 3 # Politics\n",
    "# df_train.loc[(df_train.Target == 9), 'Target'] = 4 # Obituary\n",
    "# df_train.loc[(df_train.Target == 11), 'Target'] = 5 # Sports"
   ]
  },
  {
   "cell_type": "code",
   "execution_count": 39,
   "id": "823c0b62-aa0e-40d1-9d61-dff2d2c9f420",
   "metadata": {},
   "outputs": [],
   "source": [
    "# Code the Targets 0-3\n",
    "df_train.loc[(df_train.Target == 2), 'Target'] = 0 # Entertainment\n",
    "df_train.loc[(df_train.Target == 5), 'Target'] = 1 # Human Rights\n",
    "df_train.loc[(df_train.Target == 6), 'Target'] = 2 # Politics\n",
    "df_train.loc[(df_train.Target == 11), 'Target'] = 3 # Sports"
   ]
  },
  {
   "cell_type": "code",
   "execution_count": 40,
   "id": "b7695708-6d42-4e79-beec-9c3aec5dea01",
   "metadata": {},
   "outputs": [
    {
     "data": {
      "text/plain": [
       "Target  Label        \n",
       "0       Entertainment    153\n",
       "1       Human Rights      86\n",
       "2       Politics         456\n",
       "3       Sports            75\n",
       "dtype: int64"
      ]
     },
     "execution_count": 40,
     "metadata": {},
     "output_type": "execute_result"
    }
   ],
   "source": [
    "df_train.groupby(['Target','Label']).size()"
   ]
  },
  {
   "cell_type": "markdown",
   "id": "02c22235-b97e-42eb-8351-2d682fa596aa",
   "metadata": {
    "jp-MarkdownHeadingCollapsed": true,
    "tags": []
   },
   "source": [
    "#### Reduce Training Politics by 1/2 (NOT USED)"
   ]
  },
  {
   "cell_type": "code",
   "execution_count": 91,
   "id": "ea8f3213-33ef-451e-97c8-5ec07964d83a",
   "metadata": {},
   "outputs": [],
   "source": [
    "df_train_politics = df_train[df_train.Label == 'Politics']\n",
    "df_train_nopolitics = df_train[df_train.Label != 'Politics']"
   ]
  },
  {
   "cell_type": "code",
   "execution_count": 92,
   "id": "7117e672-63e4-40ee-9ca0-077d8029e9f3",
   "metadata": {},
   "outputs": [
    {
     "data": {
      "text/plain": [
       "456"
      ]
     },
     "execution_count": 92,
     "metadata": {},
     "output_type": "execute_result"
    }
   ],
   "source": [
    "len(df_train_politics)"
   ]
  },
  {
   "cell_type": "code",
   "execution_count": 93,
   "id": "2f935f1c-35bc-4de5-a715-08541fc46931",
   "metadata": {},
   "outputs": [],
   "source": [
    "df_train_politics = df_train_politics.sample(frac=0.5, random_state=1, axis=0)"
   ]
  },
  {
   "cell_type": "code",
   "execution_count": 94,
   "id": "fec8813c-35b9-4fba-be9b-cb457f96e909",
   "metadata": {},
   "outputs": [
    {
     "data": {
      "text/plain": [
       "228"
      ]
     },
     "execution_count": 94,
     "metadata": {},
     "output_type": "execute_result"
    }
   ],
   "source": [
    "len(df_train_politics)"
   ]
  },
  {
   "cell_type": "code",
   "execution_count": 95,
   "id": "22bde311-085c-412e-8dd0-59eda5cb448e",
   "metadata": {},
   "outputs": [],
   "source": [
    "df_train = pd.concat([df_train_politics, df_train_nopolitics], axis=0)\n",
    "df_train = df_train.sample(frac=1) # shuffle the dataframe"
   ]
  },
  {
   "cell_type": "code",
   "execution_count": 96,
   "id": "a6e7f3ba-f5f1-4d4f-9a9b-2a848bf13e9c",
   "metadata": {},
   "outputs": [
    {
     "data": {
      "text/plain": [
       "764"
      ]
     },
     "execution_count": 96,
     "metadata": {},
     "output_type": "execute_result"
    }
   ],
   "source": [
    "len(df_train)"
   ]
  },
  {
   "cell_type": "code",
   "execution_count": 99,
   "id": "1c2fca53-b5a4-49a7-99db-d982d5b16601",
   "metadata": {},
   "outputs": [
    {
     "data": {
      "text/plain": [
       "Target  Label        \n",
       "0       Business          75\n",
       "1       Entertainment    153\n",
       "2       Human Rights      86\n",
       "3       Politics         228\n",
       "4       Obituary         147\n",
       "5       Sports            75\n",
       "dtype: int64"
      ]
     },
     "execution_count": 99,
     "metadata": {},
     "output_type": "execute_result"
    }
   ],
   "source": [
    "df_train.groupby(['Target','Label']).size()"
   ]
  },
  {
   "cell_type": "markdown",
   "id": "412a13f6-e1fc-404c-9d7d-707d9668f800",
   "metadata": {
    "jp-MarkdownHeadingCollapsed": true,
    "tags": []
   },
   "source": [
    "#### Prep Test data"
   ]
  },
  {
   "cell_type": "code",
   "execution_count": 41,
   "id": "b00e104a-9532-44a7-9b01-2fc8c68dc6bc",
   "metadata": {},
   "outputs": [
    {
     "data": {
      "text/html": [
       "<div>\n",
       "<style scoped>\n",
       "    .dataframe tbody tr th:only-of-type {\n",
       "        vertical-align: middle;\n",
       "    }\n",
       "\n",
       "    .dataframe tbody tr th {\n",
       "        vertical-align: top;\n",
       "    }\n",
       "\n",
       "    .dataframe thead th {\n",
       "        text-align: right;\n",
       "    }\n",
       "</style>\n",
       "<table border=\"1\" class=\"dataframe\">\n",
       "  <thead>\n",
       "    <tr style=\"text-align: right;\">\n",
       "      <th></th>\n",
       "      <th>RecID</th>\n",
       "      <th>Label</th>\n",
       "      <th>Target</th>\n",
       "    </tr>\n",
       "  </thead>\n",
       "  <tbody>\n",
       "    <tr>\n",
       "      <th>0</th>\n",
       "      <td>1135851552495865857</td>\n",
       "      <td>Social Stories</td>\n",
       "      <td>10</td>\n",
       "    </tr>\n",
       "    <tr>\n",
       "      <th>1</th>\n",
       "      <td>1151389038781390848</td>\n",
       "      <td>Human Rights</td>\n",
       "      <td>5</td>\n",
       "    </tr>\n",
       "  </tbody>\n",
       "</table>\n",
       "</div>"
      ],
      "text/plain": [
       "                 RecID           Label Target\n",
       "0  1135851552495865857  Social Stories     10\n",
       "1  1151389038781390848    Human Rights      5"
      ]
     },
     "execution_count": 41,
     "metadata": {},
     "output_type": "execute_result"
    }
   ],
   "source": [
    "df_CGT_Rec = pd.read_csv('data/GTxM_Pass4/GTxM_CGT_Labeled_Pass4.csv', dtype='str')\n",
    "df_CGT_Rec.head(2)"
   ]
  },
  {
   "cell_type": "code",
   "execution_count": 42,
   "id": "c3bee50b-895d-4f8b-a88b-f7206d805c9c",
   "metadata": {},
   "outputs": [
    {
     "data": {
      "text/plain": [
       "425"
      ]
     },
     "execution_count": 42,
     "metadata": {},
     "output_type": "execute_result"
    }
   ],
   "source": [
    "len(df_CGT_Rec)"
   ]
  },
  {
   "cell_type": "code",
   "execution_count": 43,
   "id": "b011a6d4-095a-475a-9e4b-8e649376b098",
   "metadata": {},
   "outputs": [
    {
     "data": {
      "text/plain": [
       "327"
      ]
     },
     "execution_count": 43,
     "metadata": {},
     "output_type": "execute_result"
    }
   ],
   "source": [
    "# Remove 'World Politics' as per research decision in pass 3\n",
    "# unify UK and USA politics\n",
    "df_CGT_Rec = df_CGT_Rec[df_CGT_Rec.Label != 'World Politics']\n",
    "df_CGT_Rec.loc[(df_CGT_Rec.Label == 'USA Politics'), 'Label'] = 'Politics'\n",
    "df_CGT_Rec.loc[(df_CGT_Rec.Label == 'UK Politics'), 'Label'] = 'Politics'\n",
    "df_CGT_Rec.loc[(df_CGT_Rec.Target == '14'), 'Target'] = '6'\n",
    "df_CGT_Rec.loc[(df_CGT_Rec.Target == '15'), 'Target'] = '6'\n",
    "len(df_CGT_Rec)"
   ]
  },
  {
   "cell_type": "code",
   "execution_count": 51,
   "id": "13682f13-b1ea-4936-8f9f-00fb292a8869",
   "metadata": {},
   "outputs": [],
   "source": [
    "# remove lower than 50 traing count SMRs\n",
    "df_CGT_Rec = df_CGT_Rec[df_CGT_Rec.Label != 'Environmental']\n",
    "df_CGT_Rec = df_CGT_Rec[df_CGT_Rec.Label != 'Health']\n",
    "df_CGT_Rec = df_CGT_Rec[df_CGT_Rec.Label != 'Law and Order']\n",
    "df_CGT_Rec = df_CGT_Rec[df_CGT_Rec.Label != 'Social Stories']\n",
    "df_CGT_Rec = df_CGT_Rec[df_CGT_Rec.Label != 'Travel']"
   ]
  },
  {
   "cell_type": "code",
   "execution_count": 52,
   "id": "7b850767-312b-4ba2-bf4d-5b9f9ae50c4e",
   "metadata": {},
   "outputs": [],
   "source": [
    "# Remove Obitaury - insufficient samples\n",
    "df_CGT_Rec = df_CGT_Rec[df_CGT_Rec.Label != 'Obituary']"
   ]
  },
  {
   "cell_type": "code",
   "execution_count": 53,
   "id": "2c80d1a9-4748-4ea3-8182-61b230a00661",
   "metadata": {},
   "outputs": [
    {
     "data": {
      "text/plain": [
       "222"
      ]
     },
     "execution_count": 53,
     "metadata": {},
     "output_type": "execute_result"
    }
   ],
   "source": [
    "df_test = pd.merge(data, df_CGT_Rec, on=\"RecID\")\n",
    "len(df_test)"
   ]
  },
  {
   "cell_type": "code",
   "execution_count": 54,
   "id": "17549a2d-69d5-497c-93de-466688fff44b",
   "metadata": {},
   "outputs": [
    {
     "data": {
      "text/plain": [
       "Target  Label        \n",
       "11      Sports            16\n",
       "2       Entertainment     28\n",
       "5       Human Rights      24\n",
       "6       Politics         154\n",
       "dtype: int64"
      ]
     },
     "execution_count": 54,
     "metadata": {},
     "output_type": "execute_result"
    }
   ],
   "source": [
    "df_test.groupby(['Target','Label']).size()"
   ]
  },
  {
   "cell_type": "markdown",
   "id": "b587a0c9-c401-4a1d-9e4e-4d8a0bd972ca",
   "metadata": {
    "jp-MarkdownHeadingCollapsed": true,
    "tags": []
   },
   "source": [
    "#### Reduce Test Politics by 1/2 (NOT USED)"
   ]
  },
  {
   "cell_type": "code",
   "execution_count": 105,
   "id": "1a7070a6-a622-4698-8f2a-2ae5b07b54fe",
   "metadata": {},
   "outputs": [],
   "source": [
    "df_test_politics = df_test[df_test.Label == 'Politics']\n",
    "df_test_nopolitics = df_test[df_test.Label != 'Politics']"
   ]
  },
  {
   "cell_type": "code",
   "execution_count": 106,
   "id": "abfa1f5e-7d5f-4ff4-b46b-91490b821bb1",
   "metadata": {},
   "outputs": [
    {
     "data": {
      "text/plain": [
       "154"
      ]
     },
     "execution_count": 106,
     "metadata": {},
     "output_type": "execute_result"
    }
   ],
   "source": [
    "len(df_test_politics)"
   ]
  },
  {
   "cell_type": "code",
   "execution_count": 107,
   "id": "8f22849d-8d77-4b35-97d9-6509fb34537f",
   "metadata": {},
   "outputs": [],
   "source": [
    "df_test_politics = df_test_politics.sample(frac=0.5, random_state=1, axis=0)"
   ]
  },
  {
   "cell_type": "code",
   "execution_count": 108,
   "id": "4e0210e2-4122-4e07-88b5-aaff1e8789d3",
   "metadata": {},
   "outputs": [
    {
     "data": {
      "text/plain": [
       "77"
      ]
     },
     "execution_count": 108,
     "metadata": {},
     "output_type": "execute_result"
    }
   ],
   "source": [
    "len(df_test_politics)"
   ]
  },
  {
   "cell_type": "code",
   "execution_count": 109,
   "id": "71e06b9f-8ae1-4567-9f06-d595cd210dec",
   "metadata": {},
   "outputs": [],
   "source": [
    "df_test = pd.concat([df_test_politics, df_test_nopolitics], axis=0)\n",
    "df_test = df_test.sample(frac=1) # shuffle the dataframe"
   ]
  },
  {
   "cell_type": "code",
   "execution_count": 110,
   "id": "aeba5902-9207-46d0-b28a-cefe166f96ed",
   "metadata": {},
   "outputs": [
    {
     "data": {
      "text/plain": [
       "250"
      ]
     },
     "execution_count": 110,
     "metadata": {},
     "output_type": "execute_result"
    }
   ],
   "source": [
    "len(df_test)"
   ]
  },
  {
   "cell_type": "markdown",
   "id": "cc05cbf5-cd0e-4049-a8ec-58c5316394e7",
   "metadata": {
    "jp-MarkdownHeadingCollapsed": true,
    "tags": []
   },
   "source": [
    "#### Run Predictions"
   ]
  },
  {
   "cell_type": "code",
   "execution_count": 55,
   "id": "78dcc48d-222e-4312-86c7-8c21d5417937",
   "metadata": {},
   "outputs": [],
   "source": [
    "df_test.Target = df_test['Target'].astype(int)"
   ]
  },
  {
   "cell_type": "code",
   "execution_count": 129,
   "id": "0e3c26eb-ac2f-42ba-8d4e-dafdfe872747",
   "metadata": {},
   "outputs": [],
   "source": [
    "# # Code the Targets 0-5\n",
    "# df_test.loc[(df_test.Target == 1), 'Target'] = 0 # Business\n",
    "# df_test.loc[(df_test.Target == 2), 'Target'] = 1 # Entertainment\n",
    "# df_test.loc[(df_test.Target == 5), 'Target'] = 2 # Human Rights\n",
    "# df_test.loc[(df_test.Target == 6), 'Target'] = 3 # Politics\n",
    "# df_test.loc[(df_test.Target == 9), 'Target'] = 4 # Obituary\n",
    "# df_test.loc[(df_test.Target == 11), 'Target'] = 5 # Sports\n"
   ]
  },
  {
   "cell_type": "code",
   "execution_count": 56,
   "id": "25556a54-89dd-4c26-ba89-7778ee3b0852",
   "metadata": {},
   "outputs": [],
   "source": [
    "# Code the Targets 0-3\n",
    "df_test.loc[(df_test.Target == 2), 'Target'] = 0 # Entertainment\n",
    "df_test.loc[(df_test.Target == 5), 'Target'] = 1 # Human Rights\n",
    "df_test.loc[(df_test.Target == 6), 'Target'] = 2 # Politics\n",
    "df_test.loc[(df_test.Target == 11), 'Target'] = 3 # Sports\n"
   ]
  },
  {
   "cell_type": "code",
   "execution_count": 57,
   "id": "4019cc0c-e825-4fac-8ebd-d99c96b01c53",
   "metadata": {},
   "outputs": [
    {
     "data": {
      "text/plain": [
       "Target  Label        \n",
       "0       Entertainment     28\n",
       "1       Human Rights      24\n",
       "2       Politics         154\n",
       "3       Sports            16\n",
       "dtype: int64"
      ]
     },
     "execution_count": 57,
     "metadata": {},
     "output_type": "execute_result"
    }
   ],
   "source": [
    "df_test.groupby(['Target','Label']).size()"
   ]
  },
  {
   "cell_type": "code",
   "execution_count": 58,
   "id": "5d9b5db2-b0dd-4ba2-92bb-04e0d062cf6b",
   "metadata": {},
   "outputs": [],
   "source": [
    "scoring = {'acc': 'accuracy',\n",
    "           'prec': 'precision_weighted',\n",
    "           'recall': 'recall_weighted',\n",
    "           'f1': 'f1_weighted'}\n",
    "\n",
    "#test_ratio = 0.20\n",
    "corpus = df_train['smrNouns'] + df_train['smrAdverbs']\n",
    "# corpus = df_train['smrNouns'] + df_train['smrNER'] +df_train['smrAdverbs'] + df_test['smrAdjectives']\n",
    "# corpus = df_train['smrNER'] + df_test['smrAdjectives']\n",
    "corpus = corpus.fillna(value='')\n",
    "vec = 'TFIDF'\n",
    "# vectorizer = TfidfVectorizer(min_df=2,ngram_range=(1,2),max_features=10000)\n",
    "vectorizer = TfidfVectorizer(min_df=2,ngram_range=(1,2),max_features=5000)\n",
    "data_vec = vectorizer.fit_transform(corpus)\n",
    "vec_dtm = pd.DataFrame(data_vec.toarray(), columns=vectorizer.get_feature_names())\n",
    "vec_dtm.index = df_train['RecID']\n",
    "y = df_train['Target']\n",
    "y.index = df_train['RecID']\n",
    "y=y.astype('int')\n",
    "X = vec_dtm\n"
   ]
  },
  {
   "cell_type": "code",
   "execution_count": 59,
   "id": "8fe9a77c-661a-4a88-8791-a762a938b835",
   "metadata": {},
   "outputs": [
    {
     "data": {
      "text/plain": [
       "SVC(kernel='linear')"
      ]
     },
     "execution_count": 59,
     "metadata": {},
     "output_type": "execute_result"
    }
   ],
   "source": [
    "clf = SVC(kernel='linear')\n",
    "clf.fit(X, y)"
   ]
  },
  {
   "cell_type": "code",
   "execution_count": 60,
   "id": "bd85d855-83c2-4689-b492-fd4132420894",
   "metadata": {},
   "outputs": [],
   "source": [
    "# setup test data\n",
    "corpus_test = df_test['smrNouns'] + df_test['smrAdverbs']\n",
    "# corpus_test = df_test['smrNouns'] + df_test['smrNER'] + df_test['smrAdverbs'] + df_test['smrAdjectives']\n",
    "# corpus_test = df_test['smrNER'] + df_test['smrAdjectives']\n",
    "corpus_test = corpus_test.fillna(value='')\n",
    "# vectorizer = TfidfVectorizer(min_df=2,ngram_range=(1,2),max_features=10000)\n",
    "vectorizer = TfidfVectorizer(min_df=2,ngram_range=(1,2),max_features=5000)\n",
    "data_vec = vectorizer.fit_transform(corpus_test)\n",
    "vec_dtm = pd.DataFrame(data_vec.toarray(), columns=vectorizer.get_feature_names())\n",
    "vec_dtm.index = df_test['RecID']\n",
    "y_test = df_test['Target']\n",
    "y_test.index = df_test['RecID']\n",
    "y_test=y_test.astype('int')\n",
    "X_test = vec_dtm"
   ]
  },
  {
   "cell_type": "code",
   "execution_count": 61,
   "id": "4ad285e5-72b1-49d8-bf9c-1ec2e860cc7f",
   "metadata": {},
   "outputs": [],
   "source": [
    "test_pred = clf.predict(X_test)"
   ]
  },
  {
   "cell_type": "code",
   "execution_count": 62,
   "id": "7904aa20-8491-4c15-83a9-dc8578e09dae",
   "metadata": {},
   "outputs": [],
   "source": [
    "test_acc = accuracy_score(y_test, test_pred)\n",
    "test_prec_recall_f1 = precision_recall_fscore_support(y_test, test_pred, average = 'weighted')\n",
    "\n",
    "# For Prod:\n",
    "result = ['GTxM Pass 4', 'SVM', 0,\n",
    "        test_acc*100, test_prec_recall_f1[0]*100, test_prec_recall_f1[1]*100, test_prec_recall_f1[2]*100]"
   ]
  },
  {
   "cell_type": "code",
   "execution_count": 63,
   "id": "0c0fff9f-ef71-435b-8740-9beb1c3d70c9",
   "metadata": {},
   "outputs": [
    {
     "data": {
      "text/plain": [
       "['GTxM Pass 4',\n",
       " 'SVM',\n",
       " 0,\n",
       " 63.51351351351351,\n",
       " 62.745098039215684,\n",
       " 63.51351351351351,\n",
       " 57.82505085730892]"
      ]
     },
     "execution_count": 63,
     "metadata": {},
     "output_type": "execute_result"
    }
   ],
   "source": [
    "result"
   ]
  },
  {
   "cell_type": "markdown",
   "id": "b7974048-c5e9-4c73-a49a-63493d176475",
   "metadata": {
    "jp-MarkdownHeadingCollapsed": true,
    "tags": []
   },
   "source": [
    "#### Generate Confusion Matrix"
   ]
  },
  {
   "cell_type": "code",
   "execution_count": 65,
   "id": "5a8a2ca9-807c-449c-8033-f4a3a7ace177",
   "metadata": {},
   "outputs": [],
   "source": [
    "svm_cm = confusion_matrix(y_test, test_pred)\n",
    "# df_svm_cm = pd.DataFrame(svm_cm, \n",
    "#                         columns=['Business','Entertainment','Human Rights','Politics','Obituary','Sports'],\n",
    "#                         index=['Business','Entertainment','Human Rights','Politics','Obituary','Sports'])\n",
    "\n",
    "# Removed Business and Obituary since there is none in test data\n",
    "df_svm_cm = pd.DataFrame(svm_cm, \n",
    "                        columns=['Entertainment','Human Rights','Politics','Sports'],\n",
    "                        index=['Entertainment','Human Rights','Politics','Sports'])\n",
    "df_svm_cm.to_csv('results/GTxM_Pass4/GTxM_Clf_SVM_Confusion.csv')"
   ]
  },
  {
   "cell_type": "code",
   "execution_count": 102,
   "id": "975773d8-cc89-46ed-b5d6-06bb0a2c8607",
   "metadata": {},
   "outputs": [
    {
     "data": {
      "text/plain": [
       "1057"
      ]
     },
     "execution_count": 102,
     "metadata": {},
     "output_type": "execute_result"
    }
   ],
   "source": [
    "# train on pass 3 GTD\n",
    "df_train = pd.merge(data, df_GTD_Rec, on=\"RecID\")\n",
    "len(df_train)"
   ]
  },
  {
   "cell_type": "code",
   "execution_count": 103,
   "id": "aabf4ba5-39ec-4b9b-80cd-37315e886150",
   "metadata": {},
   "outputs": [
    {
     "data": {
      "text/plain": [
       "327"
      ]
     },
     "execution_count": 103,
     "metadata": {},
     "output_type": "execute_result"
    }
   ],
   "source": [
    "# test (predict) on Pass2's CGT labeled data with semantic score >= 0.7\n",
    "df_test = pd.merge(data, df_CGT_Rec, on=\"RecID\")\n",
    "len(df_test)"
   ]
  },
  {
   "cell_type": "code",
   "execution_count": 104,
   "id": "9a751f4d-ccf4-4335-bbda-7da3440f4163",
   "metadata": {},
   "outputs": [
    {
     "data": {
      "text/plain": [
       "Target  Label         \n",
       "1       Business           75\n",
       "10      Social Stories     32\n",
       "11      Sports             75\n",
       "2       Entertainment     153\n",
       "3       Environmental      17\n",
       "4       Health              4\n",
       "5       Human Rights       86\n",
       "6       Politics          456\n",
       "7       Law and Order      12\n",
       "9       Obituary          147\n",
       "dtype: int64"
      ]
     },
     "execution_count": 104,
     "metadata": {},
     "output_type": "execute_result"
    }
   ],
   "source": [
    "df_train.groupby(['Target','Label']).size()"
   ]
  },
  {
   "cell_type": "code",
   "execution_count": 105,
   "id": "81febd9d-7786-4749-9fa6-5984e6d2c66b",
   "metadata": {},
   "outputs": [],
   "source": [
    "# remove lower than 50 count SMRs\n",
    "# + Politics\n",
    "df_train = df_train[df_train.Label != 'Environmental']\n",
    "df_train = df_train[df_train.Label != 'Health']\n",
    "df_train = df_train[df_train.Label != 'Law and Order']\n",
    "df_train = df_train[df_train.Label != 'Social Stories']\n",
    "df_train = df_train[df_train.Label != 'Politics']\n",
    "# df_train = df_train[df_train.Label != 'Business'] # removed because it is not in test data"
   ]
  },
  {
   "cell_type": "code",
   "execution_count": 106,
   "id": "8f8ac90d-7599-4296-a4c6-10d760aafa3f",
   "metadata": {},
   "outputs": [
    {
     "data": {
      "text/plain": [
       "536"
      ]
     },
     "execution_count": 106,
     "metadata": {},
     "output_type": "execute_result"
    }
   ],
   "source": [
    "len(df_train)"
   ]
  },
  {
   "cell_type": "code",
   "execution_count": 107,
   "id": "8a83975b-bd31-4381-9f3a-95633a08e965",
   "metadata": {},
   "outputs": [],
   "source": [
    "df_train.Target = df_train['Target'].astype(int)"
   ]
  },
  {
   "cell_type": "code",
   "execution_count": 108,
   "id": "3f6ac75e-ac3d-496f-a16c-9ab5316a21da",
   "metadata": {},
   "outputs": [],
   "source": [
    "# Code the Targets 0-5\n",
    "df_train.loc[(df_train.Target == 1), 'Target'] = 0 # Business\n",
    "df_train.loc[(df_train.Target == 2), 'Target'] = 1 # Entertainment\n",
    "df_train.loc[(df_train.Target == 5), 'Target'] = 2 # Human Rights\n",
    "df_train.loc[(df_train.Target == 9), 'Target'] = 3 # Obituary\n",
    "df_train.loc[(df_train.Target == 11), 'Target'] = 4 # Sports"
   ]
  },
  {
   "cell_type": "code",
   "execution_count": 109,
   "id": "f88387af-9478-4626-83fb-3dcf072de29e",
   "metadata": {},
   "outputs": [
    {
     "data": {
      "text/plain": [
       "Target  Label        \n",
       "0       Business          75\n",
       "1       Entertainment    153\n",
       "2       Human Rights      86\n",
       "3       Obituary         147\n",
       "4       Sports            75\n",
       "dtype: int64"
      ]
     },
     "execution_count": 109,
     "metadata": {},
     "output_type": "execute_result"
    }
   ],
   "source": [
    "df_train.groupby(['Target','Label']).size()"
   ]
  },
  {
   "cell_type": "code",
   "execution_count": 110,
   "id": "64ab088a-2543-453a-ab67-23077ccd0af8",
   "metadata": {},
   "outputs": [
    {
     "data": {
      "text/plain": [
       "Target  Label         \n",
       "10      Social Stories     36\n",
       "11      Sports             16\n",
       "13      Travel              2\n",
       "2       Entertainment      28\n",
       "3       Environmental      48\n",
       "4       Health             10\n",
       "5       Human Rights       24\n",
       "6       Politics          154\n",
       "7       Law and Order       8\n",
       "9       Obituary            1\n",
       "dtype: int64"
      ]
     },
     "execution_count": 110,
     "metadata": {},
     "output_type": "execute_result"
    }
   ],
   "source": [
    "df_test.groupby(['Target','Label']).size()"
   ]
  },
  {
   "cell_type": "code",
   "execution_count": 111,
   "id": "110a3fb2-94b1-4cc9-86e1-53d3c4fedd5a",
   "metadata": {},
   "outputs": [],
   "source": [
    "# remove lower than 50 traing count SMRs\n",
    "df_test = df_test[df_test.Label != 'Environmental']\n",
    "df_test = df_test[df_test.Label != 'Health']\n",
    "df_test = df_test[df_test.Label != 'Law and Order']\n",
    "df_test = df_test[df_test.Label != 'Social Stories']\n",
    "df_test = df_test[df_test.Label != 'Travel']\n",
    "df_test = df_test[df_test.Label != 'Politics']"
   ]
  },
  {
   "cell_type": "code",
   "execution_count": 112,
   "id": "3e85c446-ca16-49f6-a0d1-0278a0987f94",
   "metadata": {},
   "outputs": [
    {
     "data": {
      "text/plain": [
       "69"
      ]
     },
     "execution_count": 112,
     "metadata": {},
     "output_type": "execute_result"
    }
   ],
   "source": [
    "len(df_test)"
   ]
  },
  {
   "cell_type": "code",
   "execution_count": 113,
   "id": "fa56508a-f9fa-4f19-abdd-03b47a8cb65e",
   "metadata": {},
   "outputs": [],
   "source": [
    "df_test.Target = df_test['Target'].astype(int)"
   ]
  },
  {
   "cell_type": "code",
   "execution_count": 114,
   "id": "8c083793-6380-4dce-ad73-3af4dd82924d",
   "metadata": {},
   "outputs": [],
   "source": [
    "# Code the Targets 0-5\n",
    "df_test.loc[(df_test.Target == 1), 'Target'] = 0 # Business\n",
    "df_test.loc[(df_test.Target == 2), 'Target'] = 1 # Entertainment\n",
    "df_test.loc[(df_test.Target == 5), 'Target'] = 2 # Human Rights\n",
    "df_test.loc[(df_test.Target == 9), 'Target'] = 3 # Obituary\n",
    "df_test.loc[(df_test.Target == 11), 'Target'] = 4 # Sports\n"
   ]
  },
  {
   "cell_type": "code",
   "execution_count": 115,
   "id": "67f404dd-e14f-4eac-b9c1-128b0eaeea1c",
   "metadata": {},
   "outputs": [
    {
     "data": {
      "text/plain": [
       "Target  Label        \n",
       "1       Entertainment    28\n",
       "2       Human Rights     24\n",
       "3       Obituary          1\n",
       "4       Sports           16\n",
       "dtype: int64"
      ]
     },
     "execution_count": 115,
     "metadata": {},
     "output_type": "execute_result"
    }
   ],
   "source": [
    "df_test.groupby(['Target','Label']).size()"
   ]
  },
  {
   "cell_type": "code",
   "execution_count": 116,
   "id": "713fcab0-7615-49b2-a738-d3d8dd129cc8",
   "metadata": {},
   "outputs": [],
   "source": [
    "scoring = {'acc': 'accuracy',\n",
    "           'prec': 'precision_weighted',\n",
    "           'recall': 'recall_weighted',\n",
    "           'f1': 'f1_weighted'}\n",
    "\n",
    "#test_ratio = 0.20\n",
    "corpus = df_train['smrNouns'] + df_train['smrAdverbs']\n",
    "# corpus = df_train['smrNouns'] + df_train['smrNER'] +df_train['smrAdverbs'] + df_test['smrAdjectives']\n",
    "# corpus = df_train['smrNER'] + df_test['smrAdjectives']\n",
    "corpus = corpus.fillna(value='')\n",
    "vec = 'TFIDF'\n",
    "# vectorizer = TfidfVectorizer(min_df=2,ngram_range=(1,2),max_features=10000)\n",
    "vectorizer = TfidfVectorizer(min_df=2,ngram_range=(1,2),max_features=3000)\n",
    "data_vec = vectorizer.fit_transform(corpus)\n",
    "vec_dtm = pd.DataFrame(data_vec.toarray(), columns=vectorizer.get_feature_names())\n",
    "vec_dtm.index = df_train['RecID']\n",
    "y = df_train['Target']\n",
    "y.index = df_train['RecID']\n",
    "y=y.astype('int')\n",
    "X = vec_dtm\n"
   ]
  },
  {
   "cell_type": "code",
   "execution_count": 117,
   "id": "afd501e2-9850-4428-ba11-3f0d0610d953",
   "metadata": {},
   "outputs": [
    {
     "data": {
      "text/plain": [
       "SVC(kernel='linear')"
      ]
     },
     "execution_count": 117,
     "metadata": {},
     "output_type": "execute_result"
    }
   ],
   "source": [
    "clf = SVC(kernel='linear')\n",
    "clf.fit(X, y)"
   ]
  },
  {
   "cell_type": "code",
   "execution_count": 118,
   "id": "317085f9-7a24-4701-84b1-c6b5c9ab8daf",
   "metadata": {},
   "outputs": [],
   "source": [
    "# setup test data\n",
    "corpus_test = df_test['smrNouns'] + df_test['smrAdverbs']\n",
    "# corpus_test = df_test['smrNouns'] + df_test['smrNER'] + df_test['smrAdverbs'] + df_test['smrAdjectives']\n",
    "# corpus_test = df_test['smrNER'] + df_test['smrAdjectives']\n",
    "corpus_test = corpus_test.fillna(value='')\n",
    "# vectorizer = TfidfVectorizer(min_df=2,ngram_range=(1,2),max_features=10000)\n",
    "vectorizer = TfidfVectorizer(min_df=2,ngram_range=(1,2),max_features=3000)\n",
    "data_vec = vectorizer.fit_transform(corpus_test)\n",
    "vec_dtm = pd.DataFrame(data_vec.toarray(), columns=vectorizer.get_feature_names())\n",
    "vec_dtm.index = df_test['RecID']\n",
    "y_test = df_test['Target']\n",
    "y_test.index = df_test['RecID']\n",
    "y_test=y_test.astype('int')\n",
    "X_test = vec_dtm"
   ]
  },
  {
   "cell_type": "code",
   "execution_count": 119,
   "id": "9e0e3579-19d6-4dd8-8842-a74d03fbcaad",
   "metadata": {},
   "outputs": [],
   "source": [
    "test_pred = clf.predict(X_test)"
   ]
  },
  {
   "cell_type": "code",
   "execution_count": 120,
   "id": "a14ddd15-1388-401b-99a9-60e55de6526d",
   "metadata": {},
   "outputs": [],
   "source": [
    "test_acc = accuracy_score(y_test, test_pred)\n",
    "test_prec_recall_f1 = precision_recall_fscore_support(y_test, test_pred, average = 'weighted')\n",
    "\n",
    "# For Prod:\n",
    "result = ['GTxM Pass 4', 'SVM', 0,\n",
    "        test_acc*100, test_prec_recall_f1[0]*100, test_prec_recall_f1[1]*100, test_prec_recall_f1[2]*100]"
   ]
  },
  {
   "cell_type": "code",
   "execution_count": 121,
   "id": "508f98c0-6c96-4cbd-8fbc-6b462b8ea7df",
   "metadata": {},
   "outputs": [
    {
     "data": {
      "text/plain": [
       "['GTxM Pass 4',\n",
       " 'SVM',\n",
       " 0,\n",
       " 33.33333333333333,\n",
       " 15.053763440860216,\n",
       " 33.33333333333333,\n",
       " 20.740740740740744]"
      ]
     },
     "execution_count": 121,
     "metadata": {},
     "output_type": "execute_result"
    }
   ],
   "source": [
    "result"
   ]
  },
  {
   "cell_type": "markdown",
   "id": "256e497a-2e88-4fd0-9a67-1bb8751f9912",
   "metadata": {
    "jp-MarkdownHeadingCollapsed": true,
    "tags": []
   },
   "source": [
    "#### Generate Confusion Matrix"
   ]
  },
  {
   "cell_type": "code",
   "execution_count": 122,
   "id": "0721bf68-a391-45c0-a7fe-6737114eda0c",
   "metadata": {},
   "outputs": [],
   "source": [
    "svm_cm = confusion_matrix(y_test, test_pred)\n",
    "# df_svm_cm = pd.DataFrame(svm_cm, \n",
    "#                         columns=['Business','Entertainment','Human Rights','Politics','Obituary','Sports'],\n",
    "#                         index=['Business','Entertainment','Human Rights','Politics','Obituary','Sports'])\n",
    "\n",
    "# No Politics\n",
    "df_svm_cm = pd.DataFrame(svm_cm, \n",
    "                        columns=['Business','Entertainment','Human Rights','Obituary','Sports'],\n",
    "                        index=['Business','Entertainment','Human Rights','Obituary','Sports'])\n",
    "df_svm_cm.to_csv('results/GTxM_Pass4/GTxM_Clf_SVM_Confusion_NoPolitics.csv')"
   ]
  },
  {
   "cell_type": "code",
   "execution_count": 34,
   "id": "126ec0de-3687-4f70-a8ff-edcbe4459b75",
   "metadata": {},
   "outputs": [],
   "source": [
    "#NOTE: The predictions for BERT and XLNet need to collected from GDrive, \n",
    "#placed in results\\GTxM_Pass1 for continuing the code below."
   ]
  },
  {
   "cell_type": "markdown",
   "id": "ab1a65b6-3e4c-4648-970c-42542f6088d1",
   "metadata": {
    "jp-MarkdownHeadingCollapsed": true,
    "tags": []
   },
   "source": [
    "#### Write the predictions"
   ]
  },
  {
   "cell_type": "code",
   "execution_count": 138,
   "id": "7f373552-73c9-4339-9b89-3734f49ddfb6",
   "metadata": {},
   "outputs": [],
   "source": [
    "df_test_pred = pd.DataFrame(test_pred, columns=['SVMPred']).set_index(y_test.index)"
   ]
  },
  {
   "cell_type": "code",
   "execution_count": 139,
   "id": "f81333d4-0653-48fb-bf9b-79c9eb688aa9",
   "metadata": {},
   "outputs": [
    {
     "data": {
      "text/html": [
       "<div>\n",
       "<style scoped>\n",
       "    .dataframe tbody tr th:only-of-type {\n",
       "        vertical-align: middle;\n",
       "    }\n",
       "\n",
       "    .dataframe tbody tr th {\n",
       "        vertical-align: top;\n",
       "    }\n",
       "\n",
       "    .dataframe thead th {\n",
       "        text-align: right;\n",
       "    }\n",
       "</style>\n",
       "<table border=\"1\" class=\"dataframe\">\n",
       "  <thead>\n",
       "    <tr style=\"text-align: right;\">\n",
       "      <th></th>\n",
       "      <th>SVMPred</th>\n",
       "    </tr>\n",
       "    <tr>\n",
       "      <th>RecID</th>\n",
       "      <th></th>\n",
       "    </tr>\n",
       "  </thead>\n",
       "  <tbody>\n",
       "    <tr>\n",
       "      <th>222818213392678912</th>\n",
       "      <td>3</td>\n",
       "    </tr>\n",
       "    <tr>\n",
       "      <th>1124056098925944832</th>\n",
       "      <td>3</td>\n",
       "    </tr>\n",
       "    <tr>\n",
       "      <th>1151389038781390848</th>\n",
       "      <td>3</td>\n",
       "    </tr>\n",
       "    <tr>\n",
       "      <th>1177679699369050112</th>\n",
       "      <td>1</td>\n",
       "    </tr>\n",
       "    <tr>\n",
       "      <th>1179050498428682240</th>\n",
       "      <td>3</td>\n",
       "    </tr>\n",
       "    <tr>\n",
       "      <th>...</th>\n",
       "      <td>...</td>\n",
       "    </tr>\n",
       "    <tr>\n",
       "      <th>1221819670442979328</th>\n",
       "      <td>3</td>\n",
       "    </tr>\n",
       "    <tr>\n",
       "      <th>1221833488321646593</th>\n",
       "      <td>3</td>\n",
       "    </tr>\n",
       "    <tr>\n",
       "      <th>1221866319420760069</th>\n",
       "      <td>1</td>\n",
       "    </tr>\n",
       "    <tr>\n",
       "      <th>1222183802459418630</th>\n",
       "      <td>3</td>\n",
       "    </tr>\n",
       "    <tr>\n",
       "      <th>1222453771181207552</th>\n",
       "      <td>3</td>\n",
       "    </tr>\n",
       "  </tbody>\n",
       "</table>\n",
       "<p>223 rows × 1 columns</p>\n",
       "</div>"
      ],
      "text/plain": [
       "                     SVMPred\n",
       "RecID                       \n",
       "222818213392678912         3\n",
       "1124056098925944832        3\n",
       "1151389038781390848        3\n",
       "1177679699369050112        1\n",
       "1179050498428682240        3\n",
       "...                      ...\n",
       "1221819670442979328        3\n",
       "1221833488321646593        3\n",
       "1221866319420760069        1\n",
       "1222183802459418630        3\n",
       "1222453771181207552        3\n",
       "\n",
       "[223 rows x 1 columns]"
      ]
     },
     "execution_count": 139,
     "metadata": {},
     "output_type": "execute_result"
    }
   ],
   "source": [
    "df_test_pred"
   ]
  },
  {
   "cell_type": "code",
   "execution_count": 140,
   "id": "26a1b095-0e29-45a3-ad8b-0a2be6161936",
   "metadata": {},
   "outputs": [],
   "source": [
    "df_pred = pd.concat([y_test.to_frame(),df_test_pred['SVMPred']], axis=1)"
   ]
  },
  {
   "cell_type": "code",
   "execution_count": 141,
   "id": "f052981d-7ee7-49cb-9537-e817a030c653",
   "metadata": {},
   "outputs": [
    {
     "data": {
      "text/html": [
       "<div>\n",
       "<style scoped>\n",
       "    .dataframe tbody tr th:only-of-type {\n",
       "        vertical-align: middle;\n",
       "    }\n",
       "\n",
       "    .dataframe tbody tr th {\n",
       "        vertical-align: top;\n",
       "    }\n",
       "\n",
       "    .dataframe thead th {\n",
       "        text-align: right;\n",
       "    }\n",
       "</style>\n",
       "<table border=\"1\" class=\"dataframe\">\n",
       "  <thead>\n",
       "    <tr style=\"text-align: right;\">\n",
       "      <th></th>\n",
       "      <th>Target</th>\n",
       "      <th>SVMPred</th>\n",
       "    </tr>\n",
       "    <tr>\n",
       "      <th>RecID</th>\n",
       "      <th></th>\n",
       "      <th></th>\n",
       "    </tr>\n",
       "  </thead>\n",
       "  <tbody>\n",
       "    <tr>\n",
       "      <th>222818213392678912</th>\n",
       "      <td>3</td>\n",
       "      <td>3</td>\n",
       "    </tr>\n",
       "    <tr>\n",
       "      <th>1124056098925944832</th>\n",
       "      <td>1</td>\n",
       "      <td>3</td>\n",
       "    </tr>\n",
       "    <tr>\n",
       "      <th>1151389038781390848</th>\n",
       "      <td>2</td>\n",
       "      <td>3</td>\n",
       "    </tr>\n",
       "    <tr>\n",
       "      <th>1177679699369050112</th>\n",
       "      <td>1</td>\n",
       "      <td>1</td>\n",
       "    </tr>\n",
       "    <tr>\n",
       "      <th>1179050498428682240</th>\n",
       "      <td>3</td>\n",
       "      <td>3</td>\n",
       "    </tr>\n",
       "    <tr>\n",
       "      <th>...</th>\n",
       "      <td>...</td>\n",
       "      <td>...</td>\n",
       "    </tr>\n",
       "    <tr>\n",
       "      <th>1221819670442979328</th>\n",
       "      <td>3</td>\n",
       "      <td>3</td>\n",
       "    </tr>\n",
       "    <tr>\n",
       "      <th>1221833488321646593</th>\n",
       "      <td>3</td>\n",
       "      <td>3</td>\n",
       "    </tr>\n",
       "    <tr>\n",
       "      <th>1221866319420760069</th>\n",
       "      <td>3</td>\n",
       "      <td>1</td>\n",
       "    </tr>\n",
       "    <tr>\n",
       "      <th>1222183802459418630</th>\n",
       "      <td>3</td>\n",
       "      <td>3</td>\n",
       "    </tr>\n",
       "    <tr>\n",
       "      <th>1222453771181207552</th>\n",
       "      <td>3</td>\n",
       "      <td>3</td>\n",
       "    </tr>\n",
       "  </tbody>\n",
       "</table>\n",
       "<p>223 rows × 2 columns</p>\n",
       "</div>"
      ],
      "text/plain": [
       "                     Target  SVMPred\n",
       "RecID                               \n",
       "222818213392678912        3        3\n",
       "1124056098925944832       1        3\n",
       "1151389038781390848       2        3\n",
       "1177679699369050112       1        1\n",
       "1179050498428682240       3        3\n",
       "...                     ...      ...\n",
       "1221819670442979328       3        3\n",
       "1221833488321646593       3        3\n",
       "1221866319420760069       3        1\n",
       "1222183802459418630       3        3\n",
       "1222453771181207552       3        3\n",
       "\n",
       "[223 rows x 2 columns]"
      ]
     },
     "execution_count": 141,
     "metadata": {},
     "output_type": "execute_result"
    }
   ],
   "source": [
    "df_pred"
   ]
  },
  {
   "cell_type": "code",
   "execution_count": 142,
   "id": "73bfb704-877d-4604-b84a-94437cd3bb40",
   "metadata": {},
   "outputs": [],
   "source": [
    "# Reverse the target codes\n",
    "df_pred.loc[(df_pred.SVMPred == 5), 'SVMPred'] = 11 # Sports\n",
    "df_pred.loc[(df_pred.SVMPred == 4), 'SVMPred'] = 9 # Obituary\n",
    "df_pred.loc[(df_pred.SVMPred == 3), 'SVMPred'] = 6 # Politics\n",
    "df_pred.loc[(df_pred.SVMPred == 2), 'SVMPred'] = 5 # Human Rights\n",
    "df_pred.loc[(df_pred.SVMPred == 1), 'SVMPred'] = 2 # Entertainment\n",
    "df_pred.loc[(df_pred.SVMPred == 0), 'SVMPred'] = 1 # Busines\n",
    "\n",
    "df_pred.loc[(df_pred.Target == 5), 'Target'] = 11 # Sports\n",
    "df_pred.loc[(df_pred.Target == 4), 'Target'] = 9 # Obituary\n",
    "df_pred.loc[(df_pred.Target == 3), 'Target'] = 6 # Politics\n",
    "df_pred.loc[(df_pred.Target == 2), 'Target'] = 5 # Human Rights\n",
    "df_pred.loc[(df_pred.Target == 1), 'Target'] = 2 # Entertainment\n",
    "df_pred.loc[(df_pred.Target == 0), 'Target'] = 1 # Busines"
   ]
  },
  {
   "cell_type": "code",
   "execution_count": 143,
   "id": "434181a4-1e2b-4fe2-b1bf-f4359aa56053",
   "metadata": {},
   "outputs": [],
   "source": [
    "# convert the index named RecID to proper column\n",
    "df_pred.reset_index(inplace=True)"
   ]
  },
  {
   "cell_type": "code",
   "execution_count": 144,
   "id": "21c1c3f7-cc34-4334-a83d-51e8e67d8b46",
   "metadata": {},
   "outputs": [
    {
     "data": {
      "text/html": [
       "<div>\n",
       "<style scoped>\n",
       "    .dataframe tbody tr th:only-of-type {\n",
       "        vertical-align: middle;\n",
       "    }\n",
       "\n",
       "    .dataframe tbody tr th {\n",
       "        vertical-align: top;\n",
       "    }\n",
       "\n",
       "    .dataframe thead th {\n",
       "        text-align: right;\n",
       "    }\n",
       "</style>\n",
       "<table border=\"1\" class=\"dataframe\">\n",
       "  <thead>\n",
       "    <tr style=\"text-align: right;\">\n",
       "      <th></th>\n",
       "      <th>RecID</th>\n",
       "      <th>Target</th>\n",
       "      <th>SVMPred</th>\n",
       "    </tr>\n",
       "  </thead>\n",
       "  <tbody>\n",
       "    <tr>\n",
       "      <th>0</th>\n",
       "      <td>222818213392678912</td>\n",
       "      <td>6</td>\n",
       "      <td>6</td>\n",
       "    </tr>\n",
       "    <tr>\n",
       "      <th>1</th>\n",
       "      <td>1124056098925944832</td>\n",
       "      <td>2</td>\n",
       "      <td>6</td>\n",
       "    </tr>\n",
       "    <tr>\n",
       "      <th>2</th>\n",
       "      <td>1151389038781390848</td>\n",
       "      <td>5</td>\n",
       "      <td>6</td>\n",
       "    </tr>\n",
       "    <tr>\n",
       "      <th>3</th>\n",
       "      <td>1177679699369050112</td>\n",
       "      <td>2</td>\n",
       "      <td>2</td>\n",
       "    </tr>\n",
       "    <tr>\n",
       "      <th>4</th>\n",
       "      <td>1179050498428682240</td>\n",
       "      <td>6</td>\n",
       "      <td>6</td>\n",
       "    </tr>\n",
       "    <tr>\n",
       "      <th>...</th>\n",
       "      <td>...</td>\n",
       "      <td>...</td>\n",
       "      <td>...</td>\n",
       "    </tr>\n",
       "    <tr>\n",
       "      <th>218</th>\n",
       "      <td>1221819670442979328</td>\n",
       "      <td>6</td>\n",
       "      <td>6</td>\n",
       "    </tr>\n",
       "    <tr>\n",
       "      <th>219</th>\n",
       "      <td>1221833488321646593</td>\n",
       "      <td>6</td>\n",
       "      <td>6</td>\n",
       "    </tr>\n",
       "    <tr>\n",
       "      <th>220</th>\n",
       "      <td>1221866319420760069</td>\n",
       "      <td>6</td>\n",
       "      <td>2</td>\n",
       "    </tr>\n",
       "    <tr>\n",
       "      <th>221</th>\n",
       "      <td>1222183802459418630</td>\n",
       "      <td>6</td>\n",
       "      <td>6</td>\n",
       "    </tr>\n",
       "    <tr>\n",
       "      <th>222</th>\n",
       "      <td>1222453771181207552</td>\n",
       "      <td>6</td>\n",
       "      <td>6</td>\n",
       "    </tr>\n",
       "  </tbody>\n",
       "</table>\n",
       "<p>223 rows × 3 columns</p>\n",
       "</div>"
      ],
      "text/plain": [
       "                   RecID  Target  SVMPred\n",
       "0     222818213392678912       6        6\n",
       "1    1124056098925944832       2        6\n",
       "2    1151389038781390848       5        6\n",
       "3    1177679699369050112       2        2\n",
       "4    1179050498428682240       6        6\n",
       "..                   ...     ...      ...\n",
       "218  1221819670442979328       6        6\n",
       "219  1221833488321646593       6        6\n",
       "220  1221866319420760069       6        2\n",
       "221  1222183802459418630       6        6\n",
       "222  1222453771181207552       6        6\n",
       "\n",
       "[223 rows x 3 columns]"
      ]
     },
     "execution_count": 144,
     "metadata": {},
     "output_type": "execute_result"
    }
   ],
   "source": [
    "df_pred"
   ]
  },
  {
   "cell_type": "code",
   "execution_count": 145,
   "id": "89008c3a-bb9e-461a-afae-2e7a2485c8d0",
   "metadata": {},
   "outputs": [],
   "source": [
    "df_pred.drop(['Target'], axis=1, inplace=True)"
   ]
  },
  {
   "cell_type": "code",
   "execution_count": 146,
   "id": "e246fc6c-c142-4e77-9262-96d8ce76b605",
   "metadata": {},
   "outputs": [],
   "source": [
    "df_intercoder = pd.read_csv('results/GTxM_Pass4/GTxM_Intercoder_Pred_Pass4.csv', dtype='str')"
   ]
  },
  {
   "cell_type": "code",
   "execution_count": 147,
   "id": "8108c5b0-34f9-4b69-a9fc-d4206636ec80",
   "metadata": {},
   "outputs": [
    {
     "data": {
      "text/html": [
       "<div>\n",
       "<style scoped>\n",
       "    .dataframe tbody tr th:only-of-type {\n",
       "        vertical-align: middle;\n",
       "    }\n",
       "\n",
       "    .dataframe tbody tr th {\n",
       "        vertical-align: top;\n",
       "    }\n",
       "\n",
       "    .dataframe thead th {\n",
       "        text-align: right;\n",
       "    }\n",
       "</style>\n",
       "<table border=\"1\" class=\"dataframe\">\n",
       "  <thead>\n",
       "    <tr style=\"text-align: right;\">\n",
       "      <th></th>\n",
       "      <th>RecID</th>\n",
       "      <th>Label</th>\n",
       "      <th>Target</th>\n",
       "    </tr>\n",
       "  </thead>\n",
       "  <tbody>\n",
       "    <tr>\n",
       "      <th>0</th>\n",
       "      <td>1135851552495865857</td>\n",
       "      <td>Social Stories</td>\n",
       "      <td>10</td>\n",
       "    </tr>\n",
       "    <tr>\n",
       "      <th>1</th>\n",
       "      <td>1151389038781390848</td>\n",
       "      <td>Human Rights</td>\n",
       "      <td>5</td>\n",
       "    </tr>\n",
       "    <tr>\n",
       "      <th>2</th>\n",
       "      <td>1177679699369050112</td>\n",
       "      <td>Entertainment</td>\n",
       "      <td>2</td>\n",
       "    </tr>\n",
       "    <tr>\n",
       "      <th>3</th>\n",
       "      <td>1178962636278382592</td>\n",
       "      <td>Environmental</td>\n",
       "      <td>3</td>\n",
       "    </tr>\n",
       "    <tr>\n",
       "      <th>4</th>\n",
       "      <td>1179050498428682240</td>\n",
       "      <td>Politics</td>\n",
       "      <td>6</td>\n",
       "    </tr>\n",
       "    <tr>\n",
       "      <th>...</th>\n",
       "      <td>...</td>\n",
       "      <td>...</td>\n",
       "      <td>...</td>\n",
       "    </tr>\n",
       "    <tr>\n",
       "      <th>420</th>\n",
       "      <td>1196973332689833985</td>\n",
       "      <td>World Politics</td>\n",
       "      <td>12</td>\n",
       "    </tr>\n",
       "    <tr>\n",
       "      <th>421</th>\n",
       "      <td>1189332650185637888</td>\n",
       "      <td>World Politics</td>\n",
       "      <td>12</td>\n",
       "    </tr>\n",
       "    <tr>\n",
       "      <th>422</th>\n",
       "      <td>1214139981649862657</td>\n",
       "      <td>World Politics</td>\n",
       "      <td>12</td>\n",
       "    </tr>\n",
       "    <tr>\n",
       "      <th>423</th>\n",
       "      <td>1207820053414105089</td>\n",
       "      <td>World Politics</td>\n",
       "      <td>12</td>\n",
       "    </tr>\n",
       "    <tr>\n",
       "      <th>424</th>\n",
       "      <td>1189293527076950017</td>\n",
       "      <td>World Politics</td>\n",
       "      <td>12</td>\n",
       "    </tr>\n",
       "  </tbody>\n",
       "</table>\n",
       "<p>425 rows × 3 columns</p>\n",
       "</div>"
      ],
      "text/plain": [
       "                   RecID           Label Target\n",
       "0    1135851552495865857  Social Stories     10\n",
       "1    1151389038781390848    Human Rights      5\n",
       "2    1177679699369050112   Entertainment      2\n",
       "3    1178962636278382592   Environmental      3\n",
       "4    1179050498428682240        Politics      6\n",
       "..                   ...             ...    ...\n",
       "420  1196973332689833985  World Politics     12\n",
       "421  1189332650185637888  World Politics     12\n",
       "422  1214139981649862657  World Politics     12\n",
       "423  1207820053414105089  World Politics     12\n",
       "424  1189293527076950017  World Politics     12\n",
       "\n",
       "[425 rows x 3 columns]"
      ]
     },
     "execution_count": 147,
     "metadata": {},
     "output_type": "execute_result"
    }
   ],
   "source": [
    "df_intercoder"
   ]
  },
  {
   "cell_type": "code",
   "execution_count": 148,
   "id": "0a22dabf-9305-4216-ade2-fd839920077f",
   "metadata": {},
   "outputs": [],
   "source": [
    "df_intercoder_updated = pd.merge(df_intercoder, df_pred, on=['RecID'], how='left')"
   ]
  },
  {
   "cell_type": "code",
   "execution_count": 149,
   "id": "77627ab9-dd73-42be-a6b4-02db570de25a",
   "metadata": {},
   "outputs": [
    {
     "data": {
      "text/html": [
       "<div>\n",
       "<style scoped>\n",
       "    .dataframe tbody tr th:only-of-type {\n",
       "        vertical-align: middle;\n",
       "    }\n",
       "\n",
       "    .dataframe tbody tr th {\n",
       "        vertical-align: top;\n",
       "    }\n",
       "\n",
       "    .dataframe thead th {\n",
       "        text-align: right;\n",
       "    }\n",
       "</style>\n",
       "<table border=\"1\" class=\"dataframe\">\n",
       "  <thead>\n",
       "    <tr style=\"text-align: right;\">\n",
       "      <th></th>\n",
       "      <th>RecID</th>\n",
       "      <th>Label</th>\n",
       "      <th>Target</th>\n",
       "      <th>SVMPred</th>\n",
       "    </tr>\n",
       "  </thead>\n",
       "  <tbody>\n",
       "    <tr>\n",
       "      <th>0</th>\n",
       "      <td>1135851552495865857</td>\n",
       "      <td>Social Stories</td>\n",
       "      <td>10</td>\n",
       "      <td>NaN</td>\n",
       "    </tr>\n",
       "    <tr>\n",
       "      <th>1</th>\n",
       "      <td>1151389038781390848</td>\n",
       "      <td>Human Rights</td>\n",
       "      <td>5</td>\n",
       "      <td>6.0</td>\n",
       "    </tr>\n",
       "    <tr>\n",
       "      <th>2</th>\n",
       "      <td>1177679699369050112</td>\n",
       "      <td>Entertainment</td>\n",
       "      <td>2</td>\n",
       "      <td>2.0</td>\n",
       "    </tr>\n",
       "    <tr>\n",
       "      <th>3</th>\n",
       "      <td>1178962636278382592</td>\n",
       "      <td>Environmental</td>\n",
       "      <td>3</td>\n",
       "      <td>NaN</td>\n",
       "    </tr>\n",
       "    <tr>\n",
       "      <th>4</th>\n",
       "      <td>1179050498428682240</td>\n",
       "      <td>Politics</td>\n",
       "      <td>6</td>\n",
       "      <td>6.0</td>\n",
       "    </tr>\n",
       "    <tr>\n",
       "      <th>...</th>\n",
       "      <td>...</td>\n",
       "      <td>...</td>\n",
       "      <td>...</td>\n",
       "      <td>...</td>\n",
       "    </tr>\n",
       "    <tr>\n",
       "      <th>420</th>\n",
       "      <td>1196973332689833985</td>\n",
       "      <td>World Politics</td>\n",
       "      <td>12</td>\n",
       "      <td>NaN</td>\n",
       "    </tr>\n",
       "    <tr>\n",
       "      <th>421</th>\n",
       "      <td>1189332650185637888</td>\n",
       "      <td>World Politics</td>\n",
       "      <td>12</td>\n",
       "      <td>NaN</td>\n",
       "    </tr>\n",
       "    <tr>\n",
       "      <th>422</th>\n",
       "      <td>1214139981649862657</td>\n",
       "      <td>World Politics</td>\n",
       "      <td>12</td>\n",
       "      <td>NaN</td>\n",
       "    </tr>\n",
       "    <tr>\n",
       "      <th>423</th>\n",
       "      <td>1207820053414105089</td>\n",
       "      <td>World Politics</td>\n",
       "      <td>12</td>\n",
       "      <td>NaN</td>\n",
       "    </tr>\n",
       "    <tr>\n",
       "      <th>424</th>\n",
       "      <td>1189293527076950017</td>\n",
       "      <td>World Politics</td>\n",
       "      <td>12</td>\n",
       "      <td>NaN</td>\n",
       "    </tr>\n",
       "  </tbody>\n",
       "</table>\n",
       "<p>425 rows × 4 columns</p>\n",
       "</div>"
      ],
      "text/plain": [
       "                   RecID           Label Target  SVMPred\n",
       "0    1135851552495865857  Social Stories     10      NaN\n",
       "1    1151389038781390848    Human Rights      5      6.0\n",
       "2    1177679699369050112   Entertainment      2      2.0\n",
       "3    1178962636278382592   Environmental      3      NaN\n",
       "4    1179050498428682240        Politics      6      6.0\n",
       "..                   ...             ...    ...      ...\n",
       "420  1196973332689833985  World Politics     12      NaN\n",
       "421  1189332650185637888  World Politics     12      NaN\n",
       "422  1214139981649862657  World Politics     12      NaN\n",
       "423  1207820053414105089  World Politics     12      NaN\n",
       "424  1189293527076950017  World Politics     12      NaN\n",
       "\n",
       "[425 rows x 4 columns]"
      ]
     },
     "execution_count": 149,
     "metadata": {},
     "output_type": "execute_result"
    }
   ],
   "source": [
    "df_intercoder_updated"
   ]
  },
  {
   "cell_type": "code",
   "execution_count": 150,
   "id": "a595eea6-8697-4722-9592-6fd2b360c299",
   "metadata": {},
   "outputs": [],
   "source": [
    "# NOTE: -1 is used in the intercoder code for missing values\n",
    "df_intercoder_updated.SVMPred = df_intercoder_updated.SVMPred.fillna(-1).astype(int)"
   ]
  },
  {
   "cell_type": "code",
   "execution_count": 151,
   "id": "f46cb1f7-a2e9-4f34-8686-ed67de839a2e",
   "metadata": {},
   "outputs": [
    {
     "data": {
      "text/html": [
       "<div>\n",
       "<style scoped>\n",
       "    .dataframe tbody tr th:only-of-type {\n",
       "        vertical-align: middle;\n",
       "    }\n",
       "\n",
       "    .dataframe tbody tr th {\n",
       "        vertical-align: top;\n",
       "    }\n",
       "\n",
       "    .dataframe thead th {\n",
       "        text-align: right;\n",
       "    }\n",
       "</style>\n",
       "<table border=\"1\" class=\"dataframe\">\n",
       "  <thead>\n",
       "    <tr style=\"text-align: right;\">\n",
       "      <th></th>\n",
       "      <th>RecID</th>\n",
       "      <th>Label</th>\n",
       "      <th>Target</th>\n",
       "      <th>SVMPred</th>\n",
       "    </tr>\n",
       "  </thead>\n",
       "  <tbody>\n",
       "    <tr>\n",
       "      <th>0</th>\n",
       "      <td>1135851552495865857</td>\n",
       "      <td>Social Stories</td>\n",
       "      <td>10</td>\n",
       "      <td>-1</td>\n",
       "    </tr>\n",
       "    <tr>\n",
       "      <th>1</th>\n",
       "      <td>1151389038781390848</td>\n",
       "      <td>Human Rights</td>\n",
       "      <td>5</td>\n",
       "      <td>6</td>\n",
       "    </tr>\n",
       "    <tr>\n",
       "      <th>2</th>\n",
       "      <td>1177679699369050112</td>\n",
       "      <td>Entertainment</td>\n",
       "      <td>2</td>\n",
       "      <td>2</td>\n",
       "    </tr>\n",
       "    <tr>\n",
       "      <th>3</th>\n",
       "      <td>1178962636278382592</td>\n",
       "      <td>Environmental</td>\n",
       "      <td>3</td>\n",
       "      <td>-1</td>\n",
       "    </tr>\n",
       "    <tr>\n",
       "      <th>4</th>\n",
       "      <td>1179050498428682240</td>\n",
       "      <td>Politics</td>\n",
       "      <td>6</td>\n",
       "      <td>6</td>\n",
       "    </tr>\n",
       "    <tr>\n",
       "      <th>...</th>\n",
       "      <td>...</td>\n",
       "      <td>...</td>\n",
       "      <td>...</td>\n",
       "      <td>...</td>\n",
       "    </tr>\n",
       "    <tr>\n",
       "      <th>420</th>\n",
       "      <td>1196973332689833985</td>\n",
       "      <td>World Politics</td>\n",
       "      <td>12</td>\n",
       "      <td>-1</td>\n",
       "    </tr>\n",
       "    <tr>\n",
       "      <th>421</th>\n",
       "      <td>1189332650185637888</td>\n",
       "      <td>World Politics</td>\n",
       "      <td>12</td>\n",
       "      <td>-1</td>\n",
       "    </tr>\n",
       "    <tr>\n",
       "      <th>422</th>\n",
       "      <td>1214139981649862657</td>\n",
       "      <td>World Politics</td>\n",
       "      <td>12</td>\n",
       "      <td>-1</td>\n",
       "    </tr>\n",
       "    <tr>\n",
       "      <th>423</th>\n",
       "      <td>1207820053414105089</td>\n",
       "      <td>World Politics</td>\n",
       "      <td>12</td>\n",
       "      <td>-1</td>\n",
       "    </tr>\n",
       "    <tr>\n",
       "      <th>424</th>\n",
       "      <td>1189293527076950017</td>\n",
       "      <td>World Politics</td>\n",
       "      <td>12</td>\n",
       "      <td>-1</td>\n",
       "    </tr>\n",
       "  </tbody>\n",
       "</table>\n",
       "<p>425 rows × 4 columns</p>\n",
       "</div>"
      ],
      "text/plain": [
       "                   RecID           Label Target  SVMPred\n",
       "0    1135851552495865857  Social Stories     10       -1\n",
       "1    1151389038781390848    Human Rights      5        6\n",
       "2    1177679699369050112   Entertainment      2        2\n",
       "3    1178962636278382592   Environmental      3       -1\n",
       "4    1179050498428682240        Politics      6        6\n",
       "..                   ...             ...    ...      ...\n",
       "420  1196973332689833985  World Politics     12       -1\n",
       "421  1189332650185637888  World Politics     12       -1\n",
       "422  1214139981649862657  World Politics     12       -1\n",
       "423  1207820053414105089  World Politics     12       -1\n",
       "424  1189293527076950017  World Politics     12       -1\n",
       "\n",
       "[425 rows x 4 columns]"
      ]
     },
     "execution_count": 151,
     "metadata": {},
     "output_type": "execute_result"
    }
   ],
   "source": [
    "df_intercoder_updated"
   ]
  },
  {
   "cell_type": "code",
   "execution_count": 152,
   "id": "fd83b867-7bad-441c-a674-d353ec23ea78",
   "metadata": {},
   "outputs": [],
   "source": [
    "df_intercoder_updated.to_csv('results/GTxM_Pass4/GTxM_Intercoder_Pred_Pass4.csv', index=False)"
   ]
  },
  {
   "cell_type": "markdown",
   "id": "df6c5b55-0dd8-4d52-a06b-c47fe339620c",
   "metadata": {
    "tags": []
   },
   "source": [
    "### Intercoder Reliability"
   ]
  },
  {
   "cell_type": "markdown",
   "id": "80ddddd6-5f26-426a-9b4b-f4a8c440e604",
   "metadata": {
    "tags": []
   },
   "source": [
    "#### Load Predictions"
   ]
  },
  {
   "cell_type": "code",
   "execution_count": 2,
   "id": "e95b2060-41bb-4491-bb44-ed0317a86420",
   "metadata": {
    "tags": []
   },
   "outputs": [
    {
     "data": {
      "text/plain": [
       "425"
      ]
     },
     "execution_count": 2,
     "metadata": {},
     "output_type": "execute_result"
    }
   ],
   "source": [
    "dfPass4 = pd.read_csv(\"results/GTxM_Pass4/GTxM_Intercoder_Pred_Pass4.csv\", dtype='str')\n",
    "len(dfPass4)"
   ]
  },
  {
   "cell_type": "code",
   "execution_count": 3,
   "id": "c7c2ad99-028e-4bbb-b88e-3946a0094204",
   "metadata": {
    "tags": []
   },
   "outputs": [
    {
     "data": {
      "text/html": [
       "<div>\n",
       "<style scoped>\n",
       "    .dataframe tbody tr th:only-of-type {\n",
       "        vertical-align: middle;\n",
       "    }\n",
       "\n",
       "    .dataframe tbody tr th {\n",
       "        vertical-align: top;\n",
       "    }\n",
       "\n",
       "    .dataframe thead th {\n",
       "        text-align: right;\n",
       "    }\n",
       "</style>\n",
       "<table border=\"1\" class=\"dataframe\">\n",
       "  <thead>\n",
       "    <tr style=\"text-align: right;\">\n",
       "      <th></th>\n",
       "      <th>RecID</th>\n",
       "      <th>Label</th>\n",
       "      <th>Target</th>\n",
       "      <th>BERTPred</th>\n",
       "      <th>XLNetPred</th>\n",
       "      <th>T5Pred</th>\n",
       "      <th>BERT_PostCodingPred</th>\n",
       "      <th>BERT_PostCoding_NoPoliticsPred</th>\n",
       "      <th>XLNet_PostCodingPred</th>\n",
       "      <th>T5_PostCodingPred</th>\n",
       "      <th>T5_CGTlabeledPred</th>\n",
       "    </tr>\n",
       "  </thead>\n",
       "  <tbody>\n",
       "    <tr>\n",
       "      <th>0</th>\n",
       "      <td>1135851552495865857</td>\n",
       "      <td>Social Stories</td>\n",
       "      <td>10</td>\n",
       "      <td>-1</td>\n",
       "      <td>-1</td>\n",
       "      <td>-1</td>\n",
       "      <td>-1</td>\n",
       "      <td>-1</td>\n",
       "      <td>-1</td>\n",
       "      <td>-1</td>\n",
       "      <td>-1</td>\n",
       "    </tr>\n",
       "    <tr>\n",
       "      <th>1</th>\n",
       "      <td>1151389038781390848</td>\n",
       "      <td>Human Rights</td>\n",
       "      <td>5</td>\n",
       "      <td>6</td>\n",
       "      <td>6</td>\n",
       "      <td>5</td>\n",
       "      <td>6</td>\n",
       "      <td>6</td>\n",
       "      <td>6</td>\n",
       "      <td>5</td>\n",
       "      <td>5</td>\n",
       "    </tr>\n",
       "    <tr>\n",
       "      <th>2</th>\n",
       "      <td>1177679699369050112</td>\n",
       "      <td>Entertainment</td>\n",
       "      <td>2</td>\n",
       "      <td>2</td>\n",
       "      <td>2</td>\n",
       "      <td>2</td>\n",
       "      <td>2</td>\n",
       "      <td>2</td>\n",
       "      <td>2</td>\n",
       "      <td>5</td>\n",
       "      <td>5</td>\n",
       "    </tr>\n",
       "    <tr>\n",
       "      <th>3</th>\n",
       "      <td>1178962636278382592</td>\n",
       "      <td>Environmental</td>\n",
       "      <td>3</td>\n",
       "      <td>-1</td>\n",
       "      <td>-1</td>\n",
       "      <td>-1</td>\n",
       "      <td>-1</td>\n",
       "      <td>-1</td>\n",
       "      <td>-1</td>\n",
       "      <td>-1</td>\n",
       "      <td>-1</td>\n",
       "    </tr>\n",
       "    <tr>\n",
       "      <th>4</th>\n",
       "      <td>1179050498428682240</td>\n",
       "      <td>Politics</td>\n",
       "      <td>6</td>\n",
       "      <td>6</td>\n",
       "      <td>6</td>\n",
       "      <td>6</td>\n",
       "      <td>6</td>\n",
       "      <td>-1</td>\n",
       "      <td>6</td>\n",
       "      <td>11</td>\n",
       "      <td>11</td>\n",
       "    </tr>\n",
       "  </tbody>\n",
       "</table>\n",
       "</div>"
      ],
      "text/plain": [
       "                 RecID           Label Target BERTPred XLNetPred T5Pred  \\\n",
       "0  1135851552495865857  Social Stories     10       -1        -1     -1   \n",
       "1  1151389038781390848    Human Rights      5        6         6      5   \n",
       "2  1177679699369050112   Entertainment      2        2         2      2   \n",
       "3  1178962636278382592   Environmental      3       -1        -1     -1   \n",
       "4  1179050498428682240        Politics      6        6         6      6   \n",
       "\n",
       "  BERT_PostCodingPred BERT_PostCoding_NoPoliticsPred XLNet_PostCodingPred  \\\n",
       "0                  -1                             -1                   -1   \n",
       "1                   6                              6                    6   \n",
       "2                   2                              2                    2   \n",
       "3                  -1                             -1                   -1   \n",
       "4                   6                             -1                    6   \n",
       "\n",
       "  T5_PostCodingPred T5_CGTlabeledPred  \n",
       "0                -1                -1  \n",
       "1                 5                 5  \n",
       "2                 5                 5  \n",
       "3                -1                -1  \n",
       "4                11                11  "
      ]
     },
     "execution_count": 3,
     "metadata": {},
     "output_type": "execute_result"
    }
   ],
   "source": [
    "dfPass4.head()"
   ]
  },
  {
   "cell_type": "markdown",
   "id": "be36c405-1694-438f-b1d5-1e7507590e1f",
   "metadata": {
    "tags": []
   },
   "source": [
    "#### Get the agreement between XLNet, BERT and T5"
   ]
  },
  {
   "cell_type": "code",
   "execution_count": 4,
   "id": "25321e78-4f7c-4dec-81ca-db04fed9896c",
   "metadata": {
    "tags": []
   },
   "outputs": [],
   "source": [
    "def AgreeTargetWithA3(A1Target, A2Target, A3Target):\n",
    "    AgreedTarget = '-1'\n",
    "    if (AgreedTarget == '-1') and (A1Target == A3Target):\n",
    "        AgreedTarget = A3Target\n",
    "    if (AgreedTarget == '-1') and (A2Target == A3Target):\n",
    "        AgreedTarget = A3Target\n",
    "    if (AgreedTarget == '-1') and (A1Target == A2Target):\n",
    "        AgreedTarget = A2Target\n",
    "    return AgreedTarget"
   ]
  },
  {
   "cell_type": "markdown",
   "id": "96a5ade2-d4cc-4eb9-9baa-0bb7cf26aeae",
   "metadata": {
    "tags": []
   },
   "source": [
    "##### Calculate krippendorff's alpha for the agreement between XLNet, BERT and T5"
   ]
  },
  {
   "cell_type": "code",
   "execution_count": 5,
   "id": "43e13acf-0355-4016-b46e-8527db7628f3",
   "metadata": {
    "tags": []
   },
   "outputs": [],
   "source": [
    "dfPass4['AgreedTarget'] = dfPass4.apply(lambda x: AgreeTargetWithA3(x['T5Pred'], x['BERTPred'], x['XLNetPred']), axis=1)"
   ]
  },
  {
   "cell_type": "code",
   "execution_count": 6,
   "id": "8ecbcf52-39e0-41e0-9013-e156c70c4adc",
   "metadata": {
    "tags": []
   },
   "outputs": [
    {
     "data": {
      "text/plain": [
       "203"
      ]
     },
     "execution_count": 6,
     "metadata": {},
     "output_type": "execute_result"
    }
   ],
   "source": [
    "dfPass4_GClf = dfPass4[dfPass4.AgreedTarget != '-1']\n",
    "len(dfPass4_GClf)"
   ]
  },
  {
   "cell_type": "code",
   "execution_count": 7,
   "id": "9f52dc44-6fcd-4e20-aa50-41ad60e3311a",
   "metadata": {
    "tags": []
   },
   "outputs": [],
   "source": [
    "# convert to horizontal array as expected by Krippendorff Alpha\n",
    "XLNetPred = np.stack(dfPass4_GClf['XLNetPred'].astype(\"string\"))\n",
    "BERTPred = np.stack(dfPass4_GClf['BERTPred'].astype(\"string\"))\n",
    "T5Pred = np.stack(dfPass4_GClf['T5Pred'].astype(\"string\"))\n",
    "AgreedTarget = np.stack(dfPass4_GClf['AgreedTarget'].astype(\"string\"))"
   ]
  },
  {
   "cell_type": "code",
   "execution_count": 8,
   "id": "b762638d-8ce7-433a-b112-2ad44e0a4aab",
   "metadata": {
    "tags": []
   },
   "outputs": [
    {
     "data": {
      "text/plain": [
       "(0.7896599766539896, 0.9351201176662853, 0.9687878906402785)"
      ]
     },
     "execution_count": 8,
     "metadata": {},
     "output_type": "execute_result"
    }
   ],
   "source": [
    "missing = '-1'\n",
    "#arr = np.array((TargetPred,AgreedTarget))\n",
    "alpha1 = krippendorff_alpha(np.array((T5Pred,AgreedTarget)), nominal_metric, missing_items=missing)\n",
    "alpha2 = krippendorff_alpha(np.array((BERTPred,AgreedTarget)), nominal_metric, missing_items=missing)\n",
    "alpha3 = krippendorff_alpha(np.array((XLNetPred,AgreedTarget)), nominal_metric, missing_items=missing)\n",
    "alpha1, alpha2, alpha3"
   ]
  },
  {
   "cell_type": "code",
   "execution_count": 9,
   "id": "7d593e7d-35f5-4ffd-808b-0219128093dc",
   "metadata": {
    "tags": []
   },
   "outputs": [
    {
     "data": {
      "text/plain": [
       "0.797006008350589"
      ]
     },
     "execution_count": 9,
     "metadata": {},
     "output_type": "execute_result"
    }
   ],
   "source": [
    "alpha = krippendorff_alpha(np.array((T5Pred,BERTPred,XLNetPred)), nominal_metric, missing_items=missing)\n",
    "alpha"
   ]
  },
  {
   "cell_type": "markdown",
   "id": "3d318b0b-8323-4bab-8166-60ad4a68d986",
   "metadata": {
    "tags": []
   },
   "source": [
    "#### Get Krippendorff's Alpha between HO1 and GTxM Classifier and SBERT"
   ]
  },
  {
   "cell_type": "code",
   "execution_count": 10,
   "id": "003660f8-484f-465e-bdd5-4182bc02a84d",
   "metadata": {
    "tags": []
   },
   "outputs": [],
   "source": [
    "def AgreeTargetWithHO1(A1Target, A2Target, HO1Target):\n",
    "    AgreedTarget = '-1'\n",
    "    if (AgreedTarget == '-1') and (A1Target == HO1Target):\n",
    "        AgreedTarget = HO1Target\n",
    "    if (AgreedTarget == '-1') and (A2Target == HO1Target):\n",
    "        AgreedTarget = HO1Target\n",
    "    return AgreedTarget"
   ]
  },
  {
   "cell_type": "code",
   "execution_count": 11,
   "id": "d86294ce-a4d0-463a-a0fb-97902fb91a16",
   "metadata": {
    "tags": []
   },
   "outputs": [
    {
     "data": {
      "text/html": [
       "<div>\n",
       "<style scoped>\n",
       "    .dataframe tbody tr th:only-of-type {\n",
       "        vertical-align: middle;\n",
       "    }\n",
       "\n",
       "    .dataframe tbody tr th {\n",
       "        vertical-align: top;\n",
       "    }\n",
       "\n",
       "    .dataframe thead th {\n",
       "        text-align: right;\n",
       "    }\n",
       "</style>\n",
       "<table border=\"1\" class=\"dataframe\">\n",
       "  <thead>\n",
       "    <tr style=\"text-align: right;\">\n",
       "      <th></th>\n",
       "      <th>RecID</th>\n",
       "      <th>Label</th>\n",
       "      <th>Target</th>\n",
       "      <th>BERTPred</th>\n",
       "      <th>XLNetPred</th>\n",
       "      <th>T5Pred</th>\n",
       "      <th>BERT_PostCodingPred</th>\n",
       "      <th>BERT_PostCoding_NoPoliticsPred</th>\n",
       "      <th>XLNet_PostCodingPred</th>\n",
       "      <th>T5_PostCodingPred</th>\n",
       "      <th>T5_CGTlabeledPred</th>\n",
       "      <th>AgreedTarget</th>\n",
       "    </tr>\n",
       "  </thead>\n",
       "  <tbody>\n",
       "    <tr>\n",
       "      <th>0</th>\n",
       "      <td>1135851552495865857</td>\n",
       "      <td>Social Stories</td>\n",
       "      <td>10</td>\n",
       "      <td>-1</td>\n",
       "      <td>-1</td>\n",
       "      <td>-1</td>\n",
       "      <td>-1</td>\n",
       "      <td>-1</td>\n",
       "      <td>-1</td>\n",
       "      <td>-1</td>\n",
       "      <td>-1</td>\n",
       "      <td>-1</td>\n",
       "    </tr>\n",
       "    <tr>\n",
       "      <th>1</th>\n",
       "      <td>1151389038781390848</td>\n",
       "      <td>Human Rights</td>\n",
       "      <td>5</td>\n",
       "      <td>6</td>\n",
       "      <td>6</td>\n",
       "      <td>5</td>\n",
       "      <td>6</td>\n",
       "      <td>6</td>\n",
       "      <td>6</td>\n",
       "      <td>5</td>\n",
       "      <td>5</td>\n",
       "      <td>6</td>\n",
       "    </tr>\n",
       "    <tr>\n",
       "      <th>2</th>\n",
       "      <td>1177679699369050112</td>\n",
       "      <td>Entertainment</td>\n",
       "      <td>2</td>\n",
       "      <td>2</td>\n",
       "      <td>2</td>\n",
       "      <td>2</td>\n",
       "      <td>2</td>\n",
       "      <td>2</td>\n",
       "      <td>2</td>\n",
       "      <td>5</td>\n",
       "      <td>5</td>\n",
       "      <td>2</td>\n",
       "    </tr>\n",
       "    <tr>\n",
       "      <th>3</th>\n",
       "      <td>1178962636278382592</td>\n",
       "      <td>Environmental</td>\n",
       "      <td>3</td>\n",
       "      <td>-1</td>\n",
       "      <td>-1</td>\n",
       "      <td>-1</td>\n",
       "      <td>-1</td>\n",
       "      <td>-1</td>\n",
       "      <td>-1</td>\n",
       "      <td>-1</td>\n",
       "      <td>-1</td>\n",
       "      <td>-1</td>\n",
       "    </tr>\n",
       "    <tr>\n",
       "      <th>4</th>\n",
       "      <td>1179050498428682240</td>\n",
       "      <td>Politics</td>\n",
       "      <td>6</td>\n",
       "      <td>6</td>\n",
       "      <td>6</td>\n",
       "      <td>6</td>\n",
       "      <td>6</td>\n",
       "      <td>-1</td>\n",
       "      <td>6</td>\n",
       "      <td>11</td>\n",
       "      <td>11</td>\n",
       "      <td>6</td>\n",
       "    </tr>\n",
       "  </tbody>\n",
       "</table>\n",
       "</div>"
      ],
      "text/plain": [
       "                 RecID           Label Target BERTPred XLNetPred T5Pred  \\\n",
       "0  1135851552495865857  Social Stories     10       -1        -1     -1   \n",
       "1  1151389038781390848    Human Rights      5        6         6      5   \n",
       "2  1177679699369050112   Entertainment      2        2         2      2   \n",
       "3  1178962636278382592   Environmental      3       -1        -1     -1   \n",
       "4  1179050498428682240        Politics      6        6         6      6   \n",
       "\n",
       "  BERT_PostCodingPred BERT_PostCoding_NoPoliticsPred XLNet_PostCodingPred  \\\n",
       "0                  -1                             -1                   -1   \n",
       "1                   6                              6                    6   \n",
       "2                   2                              2                    2   \n",
       "3                  -1                             -1                   -1   \n",
       "4                   6                             -1                    6   \n",
       "\n",
       "  T5_PostCodingPred T5_CGTlabeledPred AgreedTarget  \n",
       "0                -1                -1           -1  \n",
       "1                 5                 5            6  \n",
       "2                 5                 5            2  \n",
       "3                -1                -1           -1  \n",
       "4                11                11            6  "
      ]
     },
     "execution_count": 11,
     "metadata": {},
     "output_type": "execute_result"
    }
   ],
   "source": [
    "dfPass4.head()"
   ]
  },
  {
   "cell_type": "code",
   "execution_count": 12,
   "id": "e913c4cf-878e-49cd-a4d9-c328af20c0d3",
   "metadata": {
    "tags": []
   },
   "outputs": [],
   "source": [
    "dfPass4.drop(['XLNetPred','BERTPred','T5Pred'], axis=1, inplace=True)"
   ]
  },
  {
   "cell_type": "code",
   "execution_count": 13,
   "id": "7aecb0e7-063b-4d8e-aa84-7f4c55b4e22b",
   "metadata": {
    "tags": []
   },
   "outputs": [],
   "source": [
    "dfPass4.rename(columns={'AgreedTarget': 'GClfTarget'}, inplace=True)"
   ]
  },
  {
   "cell_type": "code",
   "execution_count": 14,
   "id": "7578e40c-c626-447d-931a-a0055b8af373",
   "metadata": {
    "tags": []
   },
   "outputs": [
    {
     "data": {
      "text/html": [
       "<div>\n",
       "<style scoped>\n",
       "    .dataframe tbody tr th:only-of-type {\n",
       "        vertical-align: middle;\n",
       "    }\n",
       "\n",
       "    .dataframe tbody tr th {\n",
       "        vertical-align: top;\n",
       "    }\n",
       "\n",
       "    .dataframe thead th {\n",
       "        text-align: right;\n",
       "    }\n",
       "</style>\n",
       "<table border=\"1\" class=\"dataframe\">\n",
       "  <thead>\n",
       "    <tr style=\"text-align: right;\">\n",
       "      <th></th>\n",
       "      <th>RecID</th>\n",
       "      <th>Label</th>\n",
       "      <th>Target</th>\n",
       "      <th>BERT_PostCodingPred</th>\n",
       "      <th>BERT_PostCoding_NoPoliticsPred</th>\n",
       "      <th>XLNet_PostCodingPred</th>\n",
       "      <th>T5_PostCodingPred</th>\n",
       "      <th>T5_CGTlabeledPred</th>\n",
       "      <th>GClfTarget</th>\n",
       "    </tr>\n",
       "  </thead>\n",
       "  <tbody>\n",
       "    <tr>\n",
       "      <th>0</th>\n",
       "      <td>1135851552495865857</td>\n",
       "      <td>Social Stories</td>\n",
       "      <td>10</td>\n",
       "      <td>-1</td>\n",
       "      <td>-1</td>\n",
       "      <td>-1</td>\n",
       "      <td>-1</td>\n",
       "      <td>-1</td>\n",
       "      <td>-1</td>\n",
       "    </tr>\n",
       "    <tr>\n",
       "      <th>1</th>\n",
       "      <td>1151389038781390848</td>\n",
       "      <td>Human Rights</td>\n",
       "      <td>5</td>\n",
       "      <td>6</td>\n",
       "      <td>6</td>\n",
       "      <td>6</td>\n",
       "      <td>5</td>\n",
       "      <td>5</td>\n",
       "      <td>6</td>\n",
       "    </tr>\n",
       "  </tbody>\n",
       "</table>\n",
       "</div>"
      ],
      "text/plain": [
       "                 RecID           Label Target BERT_PostCodingPred  \\\n",
       "0  1135851552495865857  Social Stories     10                  -1   \n",
       "1  1151389038781390848    Human Rights      5                   6   \n",
       "\n",
       "  BERT_PostCoding_NoPoliticsPred XLNet_PostCodingPred T5_PostCodingPred  \\\n",
       "0                             -1                   -1                -1   \n",
       "1                              6                    6                 5   \n",
       "\n",
       "  T5_CGTlabeledPred GClfTarget  \n",
       "0                -1         -1  \n",
       "1                 5          6  "
      ]
     },
     "execution_count": 14,
     "metadata": {},
     "output_type": "execute_result"
    }
   ],
   "source": [
    "dfPass4.head(2)"
   ]
  },
  {
   "cell_type": "code",
   "execution_count": 15,
   "id": "9a9a3c9e-10b4-4ad1-8991-d3e6f02a94b0",
   "metadata": {
    "tags": []
   },
   "outputs": [],
   "source": [
    "df_jato_HO1_Labels = pd.read_csv('D:/KOPro/PhD/Implementation/SourceCode/JatoPass4_HO1/data/JatoClassified_HO1_Pass4.csv', usecols=['RecID','NewsPubCat'], dtype='str')"
   ]
  },
  {
   "cell_type": "code",
   "execution_count": 16,
   "id": "93127924-db5a-4173-b9db-79df896d2979",
   "metadata": {
    "tags": []
   },
   "outputs": [
    {
     "data": {
      "text/html": [
       "<div>\n",
       "<style scoped>\n",
       "    .dataframe tbody tr th:only-of-type {\n",
       "        vertical-align: middle;\n",
       "    }\n",
       "\n",
       "    .dataframe tbody tr th {\n",
       "        vertical-align: top;\n",
       "    }\n",
       "\n",
       "    .dataframe thead th {\n",
       "        text-align: right;\n",
       "    }\n",
       "</style>\n",
       "<table border=\"1\" class=\"dataframe\">\n",
       "  <thead>\n",
       "    <tr style=\"text-align: right;\">\n",
       "      <th></th>\n",
       "      <th>RecID</th>\n",
       "      <th>NewsPubCat</th>\n",
       "    </tr>\n",
       "  </thead>\n",
       "  <tbody>\n",
       "    <tr>\n",
       "      <th>0</th>\n",
       "      <td>222818213392678912</td>\n",
       "      <td>Politics</td>\n",
       "    </tr>\n",
       "    <tr>\n",
       "      <th>1</th>\n",
       "      <td>826262311560216578</td>\n",
       "      <td>Politics</td>\n",
       "    </tr>\n",
       "  </tbody>\n",
       "</table>\n",
       "</div>"
      ],
      "text/plain": [
       "                RecID NewsPubCat\n",
       "0  222818213392678912   Politics\n",
       "1  826262311560216578   Politics"
      ]
     },
     "execution_count": 16,
     "metadata": {},
     "output_type": "execute_result"
    }
   ],
   "source": [
    "df_jato_HO1_Labels.head(2)"
   ]
  },
  {
   "cell_type": "code",
   "execution_count": 17,
   "id": "55d02188-6c43-487b-aed6-2dfc36a10685",
   "metadata": {
    "tags": []
   },
   "outputs": [],
   "source": [
    "Labels_Targets = pd.read_csv('data/Labels_TargetsV3.csv', dtype='str')"
   ]
  },
  {
   "cell_type": "code",
   "execution_count": 18,
   "id": "70e85b54-4ff6-4fbf-bb52-b42e040e5476",
   "metadata": {
    "tags": []
   },
   "outputs": [
    {
     "data": {
      "text/html": [
       "<div>\n",
       "<style scoped>\n",
       "    .dataframe tbody tr th:only-of-type {\n",
       "        vertical-align: middle;\n",
       "    }\n",
       "\n",
       "    .dataframe tbody tr th {\n",
       "        vertical-align: top;\n",
       "    }\n",
       "\n",
       "    .dataframe thead th {\n",
       "        text-align: right;\n",
       "    }\n",
       "</style>\n",
       "<table border=\"1\" class=\"dataframe\">\n",
       "  <thead>\n",
       "    <tr style=\"text-align: right;\">\n",
       "      <th></th>\n",
       "      <th>Target</th>\n",
       "      <th>Label</th>\n",
       "    </tr>\n",
       "  </thead>\n",
       "  <tbody>\n",
       "    <tr>\n",
       "      <th>0</th>\n",
       "      <td>1</td>\n",
       "      <td>Business</td>\n",
       "    </tr>\n",
       "    <tr>\n",
       "      <th>1</th>\n",
       "      <td>2</td>\n",
       "      <td>Entertainment</td>\n",
       "    </tr>\n",
       "  </tbody>\n",
       "</table>\n",
       "</div>"
      ],
      "text/plain": [
       "  Target          Label\n",
       "0      1       Business\n",
       "1      2  Entertainment"
      ]
     },
     "execution_count": 18,
     "metadata": {},
     "output_type": "execute_result"
    }
   ],
   "source": [
    "Labels_Targets.head(2)"
   ]
  },
  {
   "cell_type": "code",
   "execution_count": 19,
   "id": "2f3fc37f-943a-41ae-8a88-af6596dc94d6",
   "metadata": {
    "tags": []
   },
   "outputs": [],
   "source": [
    "df_jato_HO1_Labels.rename(columns={'NewsPubCat': 'Label'}, inplace=True)"
   ]
  },
  {
   "cell_type": "code",
   "execution_count": 20,
   "id": "4e4ad999-4365-47ce-a022-2383e644bdcd",
   "metadata": {
    "tags": []
   },
   "outputs": [],
   "source": [
    "df_HO1_Labels_Targets = pd.merge(df_jato_HO1_Labels,Labels_Targets, on='Label', how='left')"
   ]
  },
  {
   "cell_type": "code",
   "execution_count": 21,
   "id": "880700be-e9cf-4532-a2e3-c8babde7ff06",
   "metadata": {
    "tags": []
   },
   "outputs": [
    {
     "data": {
      "text/html": [
       "<div>\n",
       "<style scoped>\n",
       "    .dataframe tbody tr th:only-of-type {\n",
       "        vertical-align: middle;\n",
       "    }\n",
       "\n",
       "    .dataframe tbody tr th {\n",
       "        vertical-align: top;\n",
       "    }\n",
       "\n",
       "    .dataframe thead th {\n",
       "        text-align: right;\n",
       "    }\n",
       "</style>\n",
       "<table border=\"1\" class=\"dataframe\">\n",
       "  <thead>\n",
       "    <tr style=\"text-align: right;\">\n",
       "      <th></th>\n",
       "      <th>RecID</th>\n",
       "      <th>Label</th>\n",
       "      <th>Target</th>\n",
       "    </tr>\n",
       "  </thead>\n",
       "  <tbody>\n",
       "    <tr>\n",
       "      <th>0</th>\n",
       "      <td>222818213392678912</td>\n",
       "      <td>Politics</td>\n",
       "      <td>6</td>\n",
       "    </tr>\n",
       "    <tr>\n",
       "      <th>1</th>\n",
       "      <td>826262311560216578</td>\n",
       "      <td>Politics</td>\n",
       "      <td>6</td>\n",
       "    </tr>\n",
       "    <tr>\n",
       "      <th>2</th>\n",
       "      <td>833502973204459520</td>\n",
       "      <td>Entertainment</td>\n",
       "      <td>2</td>\n",
       "    </tr>\n",
       "    <tr>\n",
       "      <th>3</th>\n",
       "      <td>835347243020451840</td>\n",
       "      <td>Human Rights</td>\n",
       "      <td>5</td>\n",
       "    </tr>\n",
       "    <tr>\n",
       "      <th>4</th>\n",
       "      <td>867832469181128704</td>\n",
       "      <td>Entertainment</td>\n",
       "      <td>2</td>\n",
       "    </tr>\n",
       "    <tr>\n",
       "      <th>...</th>\n",
       "      <td>...</td>\n",
       "      <td>...</td>\n",
       "      <td>...</td>\n",
       "    </tr>\n",
       "    <tr>\n",
       "      <th>2380</th>\n",
       "      <td>1223262356496699394</td>\n",
       "      <td>Entertainment</td>\n",
       "      <td>2</td>\n",
       "    </tr>\n",
       "    <tr>\n",
       "      <th>2381</th>\n",
       "      <td>1223301592549556224</td>\n",
       "      <td>Politics</td>\n",
       "      <td>6</td>\n",
       "    </tr>\n",
       "    <tr>\n",
       "      <th>2382</th>\n",
       "      <td>1223302445889150976</td>\n",
       "      <td>Politics</td>\n",
       "      <td>6</td>\n",
       "    </tr>\n",
       "    <tr>\n",
       "      <th>2383</th>\n",
       "      <td>1223365339494453248</td>\n",
       "      <td>Politics</td>\n",
       "      <td>6</td>\n",
       "    </tr>\n",
       "    <tr>\n",
       "      <th>2384</th>\n",
       "      <td>1223389175468249088</td>\n",
       "      <td>Politics</td>\n",
       "      <td>6</td>\n",
       "    </tr>\n",
       "  </tbody>\n",
       "</table>\n",
       "<p>2385 rows × 3 columns</p>\n",
       "</div>"
      ],
      "text/plain": [
       "                    RecID          Label Target\n",
       "0      222818213392678912       Politics      6\n",
       "1      826262311560216578       Politics      6\n",
       "2      833502973204459520  Entertainment      2\n",
       "3      835347243020451840   Human Rights      5\n",
       "4      867832469181128704  Entertainment      2\n",
       "...                   ...            ...    ...\n",
       "2380  1223262356496699394  Entertainment      2\n",
       "2381  1223301592549556224       Politics      6\n",
       "2382  1223302445889150976       Politics      6\n",
       "2383  1223365339494453248       Politics      6\n",
       "2384  1223389175468249088       Politics      6\n",
       "\n",
       "[2385 rows x 3 columns]"
      ]
     },
     "execution_count": 21,
     "metadata": {},
     "output_type": "execute_result"
    }
   ],
   "source": [
    "df_HO1_Labels_Targets"
   ]
  },
  {
   "cell_type": "code",
   "execution_count": 22,
   "id": "99dfc6de-5e45-421c-98ea-d5d27ff6ff60",
   "metadata": {
    "tags": []
   },
   "outputs": [],
   "source": [
    "df_HO1_Labels_Targets.rename(columns={'Label': 'HO1Label', 'Target': 'HO1Target'}, inplace=True)"
   ]
  },
  {
   "cell_type": "code",
   "execution_count": 23,
   "id": "f230541f-a5e3-445b-b284-c587afbfbb2f",
   "metadata": {
    "tags": []
   },
   "outputs": [],
   "source": [
    "df_HO1_GClf = pd.merge(dfPass4, df_HO1_Labels_Targets, on='RecID', how='left')"
   ]
  },
  {
   "cell_type": "code",
   "execution_count": 24,
   "id": "e83ed1b4-9cf9-4085-91cc-35543d2192d1",
   "metadata": {
    "tags": []
   },
   "outputs": [
    {
     "data": {
      "text/html": [
       "<div>\n",
       "<style scoped>\n",
       "    .dataframe tbody tr th:only-of-type {\n",
       "        vertical-align: middle;\n",
       "    }\n",
       "\n",
       "    .dataframe tbody tr th {\n",
       "        vertical-align: top;\n",
       "    }\n",
       "\n",
       "    .dataframe thead th {\n",
       "        text-align: right;\n",
       "    }\n",
       "</style>\n",
       "<table border=\"1\" class=\"dataframe\">\n",
       "  <thead>\n",
       "    <tr style=\"text-align: right;\">\n",
       "      <th></th>\n",
       "      <th>RecID</th>\n",
       "      <th>Label</th>\n",
       "      <th>Target</th>\n",
       "      <th>BERT_PostCodingPred</th>\n",
       "      <th>BERT_PostCoding_NoPoliticsPred</th>\n",
       "      <th>XLNet_PostCodingPred</th>\n",
       "      <th>T5_PostCodingPred</th>\n",
       "      <th>T5_CGTlabeledPred</th>\n",
       "      <th>GClfTarget</th>\n",
       "      <th>HO1Label</th>\n",
       "      <th>HO1Target</th>\n",
       "    </tr>\n",
       "  </thead>\n",
       "  <tbody>\n",
       "    <tr>\n",
       "      <th>0</th>\n",
       "      <td>1135851552495865857</td>\n",
       "      <td>Social Stories</td>\n",
       "      <td>10</td>\n",
       "      <td>-1</td>\n",
       "      <td>-1</td>\n",
       "      <td>-1</td>\n",
       "      <td>-1</td>\n",
       "      <td>-1</td>\n",
       "      <td>-1</td>\n",
       "      <td>Politics</td>\n",
       "      <td>6</td>\n",
       "    </tr>\n",
       "    <tr>\n",
       "      <th>1</th>\n",
       "      <td>1151389038781390848</td>\n",
       "      <td>Human Rights</td>\n",
       "      <td>5</td>\n",
       "      <td>6</td>\n",
       "      <td>6</td>\n",
       "      <td>6</td>\n",
       "      <td>5</td>\n",
       "      <td>5</td>\n",
       "      <td>6</td>\n",
       "      <td>Human Rights</td>\n",
       "      <td>5</td>\n",
       "    </tr>\n",
       "    <tr>\n",
       "      <th>2</th>\n",
       "      <td>1177679699369050112</td>\n",
       "      <td>Entertainment</td>\n",
       "      <td>2</td>\n",
       "      <td>2</td>\n",
       "      <td>2</td>\n",
       "      <td>2</td>\n",
       "      <td>5</td>\n",
       "      <td>5</td>\n",
       "      <td>2</td>\n",
       "      <td>Entertainment</td>\n",
       "      <td>2</td>\n",
       "    </tr>\n",
       "    <tr>\n",
       "      <th>3</th>\n",
       "      <td>1178962636278382592</td>\n",
       "      <td>Environmental</td>\n",
       "      <td>3</td>\n",
       "      <td>-1</td>\n",
       "      <td>-1</td>\n",
       "      <td>-1</td>\n",
       "      <td>-1</td>\n",
       "      <td>-1</td>\n",
       "      <td>-1</td>\n",
       "      <td>Unknown</td>\n",
       "      <td>0</td>\n",
       "    </tr>\n",
       "    <tr>\n",
       "      <th>4</th>\n",
       "      <td>1179050498428682240</td>\n",
       "      <td>Politics</td>\n",
       "      <td>6</td>\n",
       "      <td>6</td>\n",
       "      <td>-1</td>\n",
       "      <td>6</td>\n",
       "      <td>11</td>\n",
       "      <td>11</td>\n",
       "      <td>6</td>\n",
       "      <td>Politics</td>\n",
       "      <td>6</td>\n",
       "    </tr>\n",
       "    <tr>\n",
       "      <th>...</th>\n",
       "      <td>...</td>\n",
       "      <td>...</td>\n",
       "      <td>...</td>\n",
       "      <td>...</td>\n",
       "      <td>...</td>\n",
       "      <td>...</td>\n",
       "      <td>...</td>\n",
       "      <td>...</td>\n",
       "      <td>...</td>\n",
       "      <td>...</td>\n",
       "      <td>...</td>\n",
       "    </tr>\n",
       "    <tr>\n",
       "      <th>420</th>\n",
       "      <td>1196973332689833985</td>\n",
       "      <td>World Politics</td>\n",
       "      <td>12</td>\n",
       "      <td>-1</td>\n",
       "      <td>-1</td>\n",
       "      <td>-1</td>\n",
       "      <td>-1</td>\n",
       "      <td>-1</td>\n",
       "      <td>-1</td>\n",
       "      <td>World Politics</td>\n",
       "      <td>12</td>\n",
       "    </tr>\n",
       "    <tr>\n",
       "      <th>421</th>\n",
       "      <td>1189332650185637888</td>\n",
       "      <td>World Politics</td>\n",
       "      <td>12</td>\n",
       "      <td>-1</td>\n",
       "      <td>-1</td>\n",
       "      <td>-1</td>\n",
       "      <td>-1</td>\n",
       "      <td>-1</td>\n",
       "      <td>-1</td>\n",
       "      <td>Human Rights</td>\n",
       "      <td>5</td>\n",
       "    </tr>\n",
       "    <tr>\n",
       "      <th>422</th>\n",
       "      <td>1214139981649862657</td>\n",
       "      <td>World Politics</td>\n",
       "      <td>12</td>\n",
       "      <td>-1</td>\n",
       "      <td>-1</td>\n",
       "      <td>-1</td>\n",
       "      <td>-1</td>\n",
       "      <td>-1</td>\n",
       "      <td>-1</td>\n",
       "      <td>World Politics</td>\n",
       "      <td>12</td>\n",
       "    </tr>\n",
       "    <tr>\n",
       "      <th>423</th>\n",
       "      <td>1207820053414105089</td>\n",
       "      <td>World Politics</td>\n",
       "      <td>12</td>\n",
       "      <td>-1</td>\n",
       "      <td>-1</td>\n",
       "      <td>-1</td>\n",
       "      <td>-1</td>\n",
       "      <td>-1</td>\n",
       "      <td>-1</td>\n",
       "      <td>Human Rights</td>\n",
       "      <td>5</td>\n",
       "    </tr>\n",
       "    <tr>\n",
       "      <th>424</th>\n",
       "      <td>1189293527076950017</td>\n",
       "      <td>World Politics</td>\n",
       "      <td>12</td>\n",
       "      <td>-1</td>\n",
       "      <td>-1</td>\n",
       "      <td>-1</td>\n",
       "      <td>-1</td>\n",
       "      <td>-1</td>\n",
       "      <td>-1</td>\n",
       "      <td>Politics</td>\n",
       "      <td>6</td>\n",
       "    </tr>\n",
       "  </tbody>\n",
       "</table>\n",
       "<p>425 rows × 11 columns</p>\n",
       "</div>"
      ],
      "text/plain": [
       "                   RecID           Label Target BERT_PostCodingPred  \\\n",
       "0    1135851552495865857  Social Stories     10                  -1   \n",
       "1    1151389038781390848    Human Rights      5                   6   \n",
       "2    1177679699369050112   Entertainment      2                   2   \n",
       "3    1178962636278382592   Environmental      3                  -1   \n",
       "4    1179050498428682240        Politics      6                   6   \n",
       "..                   ...             ...    ...                 ...   \n",
       "420  1196973332689833985  World Politics     12                  -1   \n",
       "421  1189332650185637888  World Politics     12                  -1   \n",
       "422  1214139981649862657  World Politics     12                  -1   \n",
       "423  1207820053414105089  World Politics     12                  -1   \n",
       "424  1189293527076950017  World Politics     12                  -1   \n",
       "\n",
       "    BERT_PostCoding_NoPoliticsPred XLNet_PostCodingPred T5_PostCodingPred  \\\n",
       "0                               -1                   -1                -1   \n",
       "1                                6                    6                 5   \n",
       "2                                2                    2                 5   \n",
       "3                               -1                   -1                -1   \n",
       "4                               -1                    6                11   \n",
       "..                             ...                  ...               ...   \n",
       "420                             -1                   -1                -1   \n",
       "421                             -1                   -1                -1   \n",
       "422                             -1                   -1                -1   \n",
       "423                             -1                   -1                -1   \n",
       "424                             -1                   -1                -1   \n",
       "\n",
       "    T5_CGTlabeledPred GClfTarget        HO1Label HO1Target  \n",
       "0                  -1         -1        Politics         6  \n",
       "1                   5          6    Human Rights         5  \n",
       "2                   5          2   Entertainment         2  \n",
       "3                  -1         -1         Unknown         0  \n",
       "4                  11          6        Politics         6  \n",
       "..                ...        ...             ...       ...  \n",
       "420                -1         -1  World Politics        12  \n",
       "421                -1         -1    Human Rights         5  \n",
       "422                -1         -1  World Politics        12  \n",
       "423                -1         -1    Human Rights         5  \n",
       "424                -1         -1        Politics         6  \n",
       "\n",
       "[425 rows x 11 columns]"
      ]
     },
     "execution_count": 24,
     "metadata": {},
     "output_type": "execute_result"
    }
   ],
   "source": [
    "df_HO1_GClf"
   ]
  },
  {
   "cell_type": "code",
   "execution_count": 25,
   "id": "54a8dd4a-9b0c-4666-85ac-c5148e18cb9f",
   "metadata": {
    "tags": []
   },
   "outputs": [],
   "source": [
    "df_HO1_GClf.rename(columns={'Target': 'SBERTTarget', 'Label': 'SBERTLabel'}, inplace=True)"
   ]
  },
  {
   "cell_type": "code",
   "execution_count": 26,
   "id": "30cff81a-ed57-49b7-a6c6-6f7ac0c7dbf8",
   "metadata": {
    "tags": []
   },
   "outputs": [
    {
     "data": {
      "text/html": [
       "<div>\n",
       "<style scoped>\n",
       "    .dataframe tbody tr th:only-of-type {\n",
       "        vertical-align: middle;\n",
       "    }\n",
       "\n",
       "    .dataframe tbody tr th {\n",
       "        vertical-align: top;\n",
       "    }\n",
       "\n",
       "    .dataframe thead th {\n",
       "        text-align: right;\n",
       "    }\n",
       "</style>\n",
       "<table border=\"1\" class=\"dataframe\">\n",
       "  <thead>\n",
       "    <tr style=\"text-align: right;\">\n",
       "      <th></th>\n",
       "      <th>RecID</th>\n",
       "      <th>SBERTLabel</th>\n",
       "      <th>SBERTTarget</th>\n",
       "      <th>BERT_PostCodingPred</th>\n",
       "      <th>BERT_PostCoding_NoPoliticsPred</th>\n",
       "      <th>XLNet_PostCodingPred</th>\n",
       "      <th>T5_PostCodingPred</th>\n",
       "      <th>T5_CGTlabeledPred</th>\n",
       "      <th>GClfTarget</th>\n",
       "      <th>HO1Label</th>\n",
       "      <th>HO1Target</th>\n",
       "    </tr>\n",
       "  </thead>\n",
       "  <tbody>\n",
       "    <tr>\n",
       "      <th>0</th>\n",
       "      <td>1135851552495865857</td>\n",
       "      <td>Social Stories</td>\n",
       "      <td>10</td>\n",
       "      <td>-1</td>\n",
       "      <td>-1</td>\n",
       "      <td>-1</td>\n",
       "      <td>-1</td>\n",
       "      <td>-1</td>\n",
       "      <td>-1</td>\n",
       "      <td>Politics</td>\n",
       "      <td>6</td>\n",
       "    </tr>\n",
       "    <tr>\n",
       "      <th>1</th>\n",
       "      <td>1151389038781390848</td>\n",
       "      <td>Human Rights</td>\n",
       "      <td>5</td>\n",
       "      <td>6</td>\n",
       "      <td>6</td>\n",
       "      <td>6</td>\n",
       "      <td>5</td>\n",
       "      <td>5</td>\n",
       "      <td>6</td>\n",
       "      <td>Human Rights</td>\n",
       "      <td>5</td>\n",
       "    </tr>\n",
       "  </tbody>\n",
       "</table>\n",
       "</div>"
      ],
      "text/plain": [
       "                 RecID      SBERTLabel SBERTTarget BERT_PostCodingPred  \\\n",
       "0  1135851552495865857  Social Stories          10                  -1   \n",
       "1  1151389038781390848    Human Rights           5                   6   \n",
       "\n",
       "  BERT_PostCoding_NoPoliticsPred XLNet_PostCodingPred T5_PostCodingPred  \\\n",
       "0                             -1                   -1                -1   \n",
       "1                              6                    6                 5   \n",
       "\n",
       "  T5_CGTlabeledPred GClfTarget      HO1Label HO1Target  \n",
       "0                -1         -1      Politics         6  \n",
       "1                 5          6  Human Rights         5  "
      ]
     },
     "execution_count": 26,
     "metadata": {},
     "output_type": "execute_result"
    }
   ],
   "source": [
    "df_HO1_GClf.head(2)"
   ]
  },
  {
   "cell_type": "code",
   "execution_count": 27,
   "id": "3b905225-72b6-4b35-8439-7fd18fc60bbb",
   "metadata": {
    "tags": []
   },
   "outputs": [],
   "source": [
    "# set HO1Target's Unknown to -1 for Krippendroff's Alpha calculation\n",
    "df_HO1_GClf.loc[(df_HO1_GClf.HO1Target == '0'), 'HO1Target'] = '-1'"
   ]
  },
  {
   "cell_type": "code",
   "execution_count": 28,
   "id": "2458ca49-5bc1-4098-932b-78bd2a0c9d43",
   "metadata": {
    "tags": []
   },
   "outputs": [],
   "source": [
    "df_HO1_GClf['HO1AgreedTarget'] = df_HO1_GClf.apply(lambda x: AgreeTargetWithHO1(x['SBERTTarget'], x['GClfTarget'], x['HO1Target']), axis=1)"
   ]
  },
  {
   "cell_type": "code",
   "execution_count": 29,
   "id": "62b1edb1-d5ab-4b27-9058-89e6f63eccb6",
   "metadata": {
    "tags": []
   },
   "outputs": [],
   "source": [
    "HO1Pred = np.stack(df_HO1_GClf['HO1Target'].astype(\"string\"))\n",
    "GClfPred = np.stack(df_HO1_GClf['GClfTarget'].astype(\"string\"))\n",
    "SBERTPred = np.stack(df_HO1_GClf['SBERTTarget'].astype(\"string\"))\n",
    "HO1AgreedTarget = np.stack(df_HO1_GClf['HO1AgreedTarget'].astype(\"string\"))"
   ]
  },
  {
   "cell_type": "code",
   "execution_count": 30,
   "id": "34466616-cec3-4e56-944e-04430243d7d6",
   "metadata": {
    "tags": []
   },
   "outputs": [
    {
     "data": {
      "text/plain": [
       "(0.6748113230760577, 0.44030872650317443, 0.5494494583601528)"
      ]
     },
     "execution_count": 30,
     "metadata": {},
     "output_type": "execute_result"
    }
   ],
   "source": [
    "missing = '-1'\n",
    "alpha1 = krippendorff_alpha(np.array((HO1Pred,HO1AgreedTarget)), nominal_metric, missing_items=missing)\n",
    "alpha2 = krippendorff_alpha(np.array((GClfPred,HO1AgreedTarget)), nominal_metric, missing_items=missing)\n",
    "alpha3 = krippendorff_alpha(np.array((SBERTPred,HO1AgreedTarget)), nominal_metric, missing_items=missing)\n",
    "alpha1, alpha2, alpha3"
   ]
  },
  {
   "cell_type": "markdown",
   "id": "6a50619c-e033-4d58-9667-9354bbc59d8b",
   "metadata": {},
   "source": [
    "#### Get HO1 K-Alpha with SBERT subset only"
   ]
  },
  {
   "cell_type": "code",
   "execution_count": 32,
   "id": "64408096-6874-4ef0-b6d8-f3cfab799411",
   "metadata": {
    "tags": []
   },
   "outputs": [
    {
     "data": {
      "text/plain": [
       "0.5529509091229121"
      ]
     },
     "execution_count": 32,
     "metadata": {},
     "output_type": "execute_result"
    }
   ],
   "source": [
    "alpha = krippendorff_alpha(np.array((HO1Pred,SBERTPred)), nominal_metric, missing_items=missing)\n",
    "alpha"
   ]
  },
  {
   "cell_type": "markdown",
   "id": "9b14cf0b-6088-486f-a0fc-bb92b383af81",
   "metadata": {},
   "source": [
    "#### Get HO1 K-Alpha with GClf subset only"
   ]
  },
  {
   "cell_type": "code",
   "execution_count": 34,
   "id": "81fcfcb4-c1d3-424d-ab3b-b0d51178bfb3",
   "metadata": {
    "tags": []
   },
   "outputs": [
    {
     "data": {
      "text/plain": [
       "203"
      ]
     },
     "execution_count": 34,
     "metadata": {},
     "output_type": "execute_result"
    }
   ],
   "source": [
    "df_HO1_GClf_subset = df_HO1_GClf[df_HO1_GClf.GClfTarget != '-1']\n",
    "len(df_HO1_GClf_subset)"
   ]
  },
  {
   "cell_type": "code",
   "execution_count": 38,
   "id": "0dbc78ed-c71a-47e4-8e5b-6d700f1a5410",
   "metadata": {
    "tags": []
   },
   "outputs": [],
   "source": [
    "HO1Pred = np.stack(df_HO1_GClf_subset['HO1Target'].astype(\"string\"))\n",
    "GClfPred = np.stack(df_HO1_GClf_subset['GClfTarget'].astype(\"string\"))\n",
    "SBERTPred = np.stack(df_HO1_GClf_subset['SBERTTarget'].astype(\"string\"))"
   ]
  },
  {
   "cell_type": "code",
   "execution_count": 41,
   "id": "8cdb21af-6928-49e6-ac14-0fb9b5d71b84",
   "metadata": {
    "tags": []
   },
   "outputs": [
    {
     "data": {
      "text/plain": [
       "0.5531189734010941"
      ]
     },
     "execution_count": 41,
     "metadata": {},
     "output_type": "execute_result"
    }
   ],
   "source": [
    "alpha = krippendorff_alpha(np.array((HO1Pred,GClfPred,SBERTPred)), nominal_metric, missing_items=missing)\n",
    "alpha"
   ]
  },
  {
   "cell_type": "markdown",
   "id": "e425979c-9ce1-4a0d-b240-92f8dd828a2c",
   "metadata": {},
   "source": [
    "#### Get Ground Truth Data"
   ]
  },
  {
   "cell_type": "code",
   "execution_count": 28,
   "id": "b9675c96-e1d3-47d4-94d3-7753bab1ee34",
   "metadata": {
    "tags": []
   },
   "outputs": [
    {
     "data": {
      "text/plain": [
       "276"
      ]
     },
     "execution_count": 28,
     "metadata": {},
     "output_type": "execute_result"
    }
   ],
   "source": [
    "df_HO1_GClf_GTD = df_HO1_GClf[df_HO1_GClf.HO1AgreedTarget != '-1']\n",
    "len(df_HO1_GClf_GTD)"
   ]
  },
  {
   "cell_type": "code",
   "execution_count": 29,
   "id": "5d189116-3d64-45ba-9b0f-4c713ff769b4",
   "metadata": {
    "tags": []
   },
   "outputs": [],
   "source": [
    "df_Pass4_HO1_GTD = df_HO1_GClf_GTD[['RecID','HO1Label','HO1Target']]"
   ]
  },
  {
   "cell_type": "code",
   "execution_count": 30,
   "id": "978329f4-589c-4399-9734-77bae0d6f214",
   "metadata": {
    "tags": []
   },
   "outputs": [
    {
     "name": "stderr",
     "output_type": "stream",
     "text": [
      "C:\\Users\\kazeem\\AppData\\Local\\Temp\\ipykernel_10860\\269407656.py:1: SettingWithCopyWarning: \n",
      "A value is trying to be set on a copy of a slice from a DataFrame\n",
      "\n",
      "See the caveats in the documentation: https://pandas.pydata.org/pandas-docs/stable/user_guide/indexing.html#returning-a-view-versus-a-copy\n",
      "  df_Pass4_HO1_GTD.rename(columns={'HO1Target': 'Target', 'HO1Label': 'Label'}, inplace=True)\n"
     ]
    }
   ],
   "source": [
    "df_Pass4_HO1_GTD.rename(columns={'HO1Target': 'Target', 'HO1Label': 'Label'}, inplace=True)"
   ]
  },
  {
   "cell_type": "code",
   "execution_count": 31,
   "id": "288396ba-ac93-4fc9-9891-ab95a0cc89f6",
   "metadata": {
    "tags": []
   },
   "outputs": [
    {
     "data": {
      "text/html": [
       "<div>\n",
       "<style scoped>\n",
       "    .dataframe tbody tr th:only-of-type {\n",
       "        vertical-align: middle;\n",
       "    }\n",
       "\n",
       "    .dataframe tbody tr th {\n",
       "        vertical-align: top;\n",
       "    }\n",
       "\n",
       "    .dataframe thead th {\n",
       "        text-align: right;\n",
       "    }\n",
       "</style>\n",
       "<table border=\"1\" class=\"dataframe\">\n",
       "  <thead>\n",
       "    <tr style=\"text-align: right;\">\n",
       "      <th></th>\n",
       "      <th>RecID</th>\n",
       "      <th>Label</th>\n",
       "      <th>Target</th>\n",
       "    </tr>\n",
       "  </thead>\n",
       "  <tbody>\n",
       "    <tr>\n",
       "      <th>1</th>\n",
       "      <td>1151389038781390848</td>\n",
       "      <td>Human Rights</td>\n",
       "      <td>5</td>\n",
       "    </tr>\n",
       "    <tr>\n",
       "      <th>2</th>\n",
       "      <td>1177679699369050112</td>\n",
       "      <td>Entertainment</td>\n",
       "      <td>2</td>\n",
       "    </tr>\n",
       "    <tr>\n",
       "      <th>4</th>\n",
       "      <td>1179050498428682240</td>\n",
       "      <td>Politics</td>\n",
       "      <td>6</td>\n",
       "    </tr>\n",
       "    <tr>\n",
       "      <th>5</th>\n",
       "      <td>1179429715867787264</td>\n",
       "      <td>Human Rights</td>\n",
       "      <td>5</td>\n",
       "    </tr>\n",
       "    <tr>\n",
       "      <th>6</th>\n",
       "      <td>1179660469759438849</td>\n",
       "      <td>World Politics</td>\n",
       "      <td>12</td>\n",
       "    </tr>\n",
       "  </tbody>\n",
       "</table>\n",
       "</div>"
      ],
      "text/plain": [
       "                 RecID           Label Target\n",
       "1  1151389038781390848    Human Rights      5\n",
       "2  1177679699369050112   Entertainment      2\n",
       "4  1179050498428682240        Politics      6\n",
       "5  1179429715867787264    Human Rights      5\n",
       "6  1179660469759438849  World Politics     12"
      ]
     },
     "execution_count": 31,
     "metadata": {},
     "output_type": "execute_result"
    }
   ],
   "source": [
    "df_Pass4_HO1_GTD.head()"
   ]
  },
  {
   "cell_type": "code",
   "execution_count": null,
   "id": "bd7ede6f-0567-4ccd-9abd-51f4a911bf8e",
   "metadata": {
    "tags": []
   },
   "outputs": [],
   "source": [
    "# df_HO2HO1_GTD = df_HO2HO1_Labels[df_HO2HO1_Labels.HO2AgreedTarget != '-1']\n",
    "# len(df_HO2HO1_GTD)"
   ]
  },
  {
   "cell_type": "code",
   "execution_count": 33,
   "id": "759f70a7-4a3e-4390-8342-3ca3fbab9f33",
   "metadata": {
    "tags": []
   },
   "outputs": [
    {
     "data": {
      "text/plain": [
       "149"
      ]
     },
     "execution_count": 33,
     "metadata": {},
     "output_type": "execute_result"
    }
   ],
   "source": [
    "df_HO1_To_HO2 = df_HO1_GClf[df_HO1_GClf.HO1AgreedTarget == '-1']\n",
    "len(df_HO1_To_HO2)"
   ]
  },
  {
   "cell_type": "code",
   "execution_count": 34,
   "id": "504f0d35-32a5-48bc-8b24-8d10c9f1b129",
   "metadata": {
    "tags": []
   },
   "outputs": [
    {
     "data": {
      "text/html": [
       "<div>\n",
       "<style scoped>\n",
       "    .dataframe tbody tr th:only-of-type {\n",
       "        vertical-align: middle;\n",
       "    }\n",
       "\n",
       "    .dataframe tbody tr th {\n",
       "        vertical-align: top;\n",
       "    }\n",
       "\n",
       "    .dataframe thead th {\n",
       "        text-align: right;\n",
       "    }\n",
       "</style>\n",
       "<table border=\"1\" class=\"dataframe\">\n",
       "  <thead>\n",
       "    <tr style=\"text-align: right;\">\n",
       "      <th></th>\n",
       "      <th>RecID</th>\n",
       "      <th>SBERTLabel</th>\n",
       "      <th>SBERTTarget</th>\n",
       "      <th>GClfTarget</th>\n",
       "      <th>HO1Label</th>\n",
       "      <th>HO1Target</th>\n",
       "      <th>HO1AgreedTarget</th>\n",
       "    </tr>\n",
       "  </thead>\n",
       "  <tbody>\n",
       "    <tr>\n",
       "      <th>0</th>\n",
       "      <td>1135851552495865857</td>\n",
       "      <td>Social Stories</td>\n",
       "      <td>10</td>\n",
       "      <td>-1</td>\n",
       "      <td>Politics</td>\n",
       "      <td>6</td>\n",
       "      <td>-1</td>\n",
       "    </tr>\n",
       "    <tr>\n",
       "      <th>3</th>\n",
       "      <td>1178962636278382592</td>\n",
       "      <td>Environmental</td>\n",
       "      <td>3</td>\n",
       "      <td>-1</td>\n",
       "      <td>Unknown</td>\n",
       "      <td>-1</td>\n",
       "      <td>-1</td>\n",
       "    </tr>\n",
       "  </tbody>\n",
       "</table>\n",
       "</div>"
      ],
      "text/plain": [
       "                 RecID      SBERTLabel SBERTTarget GClfTarget  HO1Label  \\\n",
       "0  1135851552495865857  Social Stories          10         -1  Politics   \n",
       "3  1178962636278382592   Environmental           3         -1   Unknown   \n",
       "\n",
       "  HO1Target HO1AgreedTarget  \n",
       "0         6              -1  \n",
       "3        -1              -1  "
      ]
     },
     "execution_count": 34,
     "metadata": {},
     "output_type": "execute_result"
    }
   ],
   "source": [
    "df_HO1_To_HO2.head(2)"
   ]
  },
  {
   "cell_type": "code",
   "execution_count": 68,
   "id": "8348e7e3-e785-42e8-b2b0-ef69a4176dbb",
   "metadata": {
    "tags": []
   },
   "outputs": [],
   "source": [
    "# Use the RecIDs in this file to extract JatoMaster from MasterTokens in SQL-SERVER and save into data/GTxM_Pass2/\n",
    "df_HO1_To_HO2.to_csv('data/GTxM_Pass4/df_HO1_To_HO2.csv', index=False)"
   ]
  },
  {
   "cell_type": "markdown",
   "id": "fe253885-f0bc-4550-a21e-fb7e1ed01bef",
   "metadata": {
    "tags": []
   },
   "source": [
    "#### Acquire new GTD from HO1 and GClf agreement"
   ]
  },
  {
   "cell_type": "code",
   "execution_count": 35,
   "id": "89f2a64d-8793-427f-a1b9-728e15adbf73",
   "metadata": {
    "tags": []
   },
   "outputs": [
    {
     "data": {
      "text/html": [
       "<div>\n",
       "<style scoped>\n",
       "    .dataframe tbody tr th:only-of-type {\n",
       "        vertical-align: middle;\n",
       "    }\n",
       "\n",
       "    .dataframe tbody tr th {\n",
       "        vertical-align: top;\n",
       "    }\n",
       "\n",
       "    .dataframe thead th {\n",
       "        text-align: right;\n",
       "    }\n",
       "</style>\n",
       "<table border=\"1\" class=\"dataframe\">\n",
       "  <thead>\n",
       "    <tr style=\"text-align: right;\">\n",
       "      <th></th>\n",
       "      <th>RecID</th>\n",
       "      <th>SBERTLabel</th>\n",
       "      <th>SBERTTarget</th>\n",
       "      <th>GClfTarget</th>\n",
       "      <th>HO1Label</th>\n",
       "      <th>HO1Target</th>\n",
       "      <th>HO1AgreedTarget</th>\n",
       "    </tr>\n",
       "  </thead>\n",
       "  <tbody>\n",
       "    <tr>\n",
       "      <th>1</th>\n",
       "      <td>1151389038781390848</td>\n",
       "      <td>Human Rights</td>\n",
       "      <td>5</td>\n",
       "      <td>6</td>\n",
       "      <td>Human Rights</td>\n",
       "      <td>5</td>\n",
       "      <td>5</td>\n",
       "    </tr>\n",
       "    <tr>\n",
       "      <th>2</th>\n",
       "      <td>1177679699369050112</td>\n",
       "      <td>Entertainment</td>\n",
       "      <td>2</td>\n",
       "      <td>2</td>\n",
       "      <td>Entertainment</td>\n",
       "      <td>2</td>\n",
       "      <td>2</td>\n",
       "    </tr>\n",
       "  </tbody>\n",
       "</table>\n",
       "</div>"
      ],
      "text/plain": [
       "                 RecID     SBERTLabel SBERTTarget GClfTarget       HO1Label  \\\n",
       "1  1151389038781390848   Human Rights           5          6   Human Rights   \n",
       "2  1177679699369050112  Entertainment           2          2  Entertainment   \n",
       "\n",
       "  HO1Target HO1AgreedTarget  \n",
       "1         5               5  \n",
       "2         2               2  "
      ]
     },
     "execution_count": 35,
     "metadata": {},
     "output_type": "execute_result"
    }
   ],
   "source": [
    "df_HO1_GClf_GTD.head(2)"
   ]
  },
  {
   "cell_type": "code",
   "execution_count": 36,
   "id": "6b923e33-a266-4528-add8-5727e0b24764",
   "metadata": {
    "tags": []
   },
   "outputs": [
    {
     "name": "stderr",
     "output_type": "stream",
     "text": [
      "C:\\Users\\kazeem\\AppData\\Local\\Temp\\ipykernel_10860\\4236110398.py:1: SettingWithCopyWarning: \n",
      "A value is trying to be set on a copy of a slice from a DataFrame\n",
      "\n",
      "See the caveats in the documentation: https://pandas.pydata.org/pandas-docs/stable/user_guide/indexing.html#returning-a-view-versus-a-copy\n",
      "  df_HO1_GClf_GTD.drop(['SBERTLabel','SBERTTarget','GClfTarget','HO1AgreedTarget'], axis=1, inplace=True)\n",
      "C:\\Users\\kazeem\\AppData\\Local\\Temp\\ipykernel_10860\\4236110398.py:2: SettingWithCopyWarning: \n",
      "A value is trying to be set on a copy of a slice from a DataFrame\n",
      "\n",
      "See the caveats in the documentation: https://pandas.pydata.org/pandas-docs/stable/user_guide/indexing.html#returning-a-view-versus-a-copy\n",
      "  df_HO1_GClf_GTD.rename(columns={'HO1Label': 'Label', 'HO1Target': 'Target'}, inplace=True)\n"
     ]
    }
   ],
   "source": [
    "df_HO1_GClf_GTD.drop(['SBERTLabel','SBERTTarget','GClfTarget','HO1AgreedTarget'], axis=1, inplace=True)\n",
    "df_HO1_GClf_GTD.rename(columns={'HO1Label': 'Label', 'HO1Target': 'Target'}, inplace=True)"
   ]
  },
  {
   "cell_type": "code",
   "execution_count": 37,
   "id": "17c5972d-1dbd-4e3a-9037-82e7ebc8b1ff",
   "metadata": {
    "tags": []
   },
   "outputs": [
    {
     "data": {
      "text/html": [
       "<div>\n",
       "<style scoped>\n",
       "    .dataframe tbody tr th:only-of-type {\n",
       "        vertical-align: middle;\n",
       "    }\n",
       "\n",
       "    .dataframe tbody tr th {\n",
       "        vertical-align: top;\n",
       "    }\n",
       "\n",
       "    .dataframe thead th {\n",
       "        text-align: right;\n",
       "    }\n",
       "</style>\n",
       "<table border=\"1\" class=\"dataframe\">\n",
       "  <thead>\n",
       "    <tr style=\"text-align: right;\">\n",
       "      <th></th>\n",
       "      <th>RecID</th>\n",
       "      <th>Label</th>\n",
       "      <th>Target</th>\n",
       "    </tr>\n",
       "  </thead>\n",
       "  <tbody>\n",
       "    <tr>\n",
       "      <th>1</th>\n",
       "      <td>1151389038781390848</td>\n",
       "      <td>Human Rights</td>\n",
       "      <td>5</td>\n",
       "    </tr>\n",
       "    <tr>\n",
       "      <th>2</th>\n",
       "      <td>1177679699369050112</td>\n",
       "      <td>Entertainment</td>\n",
       "      <td>2</td>\n",
       "    </tr>\n",
       "  </tbody>\n",
       "</table>\n",
       "</div>"
      ],
      "text/plain": [
       "                 RecID          Label Target\n",
       "1  1151389038781390848   Human Rights      5\n",
       "2  1177679699369050112  Entertainment      2"
      ]
     },
     "execution_count": 37,
     "metadata": {},
     "output_type": "execute_result"
    }
   ],
   "source": [
    "df_HO1_GClf_GTD.head(2)"
   ]
  },
  {
   "cell_type": "code",
   "execution_count": 75,
   "id": "fabea2c5-5866-446f-aa4c-b298d4610c11",
   "metadata": {
    "tags": []
   },
   "outputs": [],
   "source": [
    "df_HO1_GClf_GTD.to_csv('data/GTxM_Pass4/GTxM_Pass4_GTD_HO1.csv', index=False)"
   ]
  },
  {
   "cell_type": "markdown",
   "id": "6bb459f1-fcdf-44f5-99b0-f8682571c3a3",
   "metadata": {
    "jp-MarkdownHeadingCollapsed": true,
    "tags": []
   },
   "source": [
    "#### Generate JatoMaster for HO2 Labeling"
   ]
  },
  {
   "cell_type": "code",
   "execution_count": 60,
   "id": "77fe0782-ffa6-47fb-baec-43ee60bbc287",
   "metadata": {},
   "outputs": [],
   "source": [
    "df_master_tokens = pd.read_csv('data/MasterTokens.csv', dtype='str')"
   ]
  },
  {
   "cell_type": "code",
   "execution_count": 62,
   "id": "b395596b-efbf-48ec-a361-b9cb1329e7bf",
   "metadata": {},
   "outputs": [
    {
     "data": {
      "text/plain": [
       "284"
      ]
     },
     "execution_count": 62,
     "metadata": {},
     "output_type": "execute_result"
    }
   ],
   "source": [
    "df_jato_HO2_tokens = pd.merge(df_master_tokens,df_HO1_To_HO2['RecID'], on='RecID')\n",
    "len(df_jato_HO2_tokens)"
   ]
  },
  {
   "cell_type": "code",
   "execution_count": 63,
   "id": "55a70605-4f58-43ff-99fe-0712f495c1da",
   "metadata": {},
   "outputs": [
    {
     "data": {
      "text/html": [
       "<div>\n",
       "<style scoped>\n",
       "    .dataframe tbody tr th:only-of-type {\n",
       "        vertical-align: middle;\n",
       "    }\n",
       "\n",
       "    .dataframe tbody tr th {\n",
       "        vertical-align: top;\n",
       "    }\n",
       "\n",
       "    .dataframe thead th {\n",
       "        text-align: right;\n",
       "    }\n",
       "</style>\n",
       "<table border=\"1\" class=\"dataframe\">\n",
       "  <thead>\n",
       "    <tr style=\"text-align: right;\">\n",
       "      <th></th>\n",
       "      <th>rowid</th>\n",
       "      <th>RecID</th>\n",
       "      <th>PubTitle</th>\n",
       "      <th>RecDoc</th>\n",
       "      <th>countSupTweets</th>\n",
       "      <th>smrHashtags</th>\n",
       "      <th>smrMentions</th>\n",
       "      <th>smrNER</th>\n",
       "      <th>smrNouns</th>\n",
       "      <th>smrVerbs</th>\n",
       "      <th>smrAdverbs</th>\n",
       "      <th>smrAdjectives</th>\n",
       "      <th>smrTopText</th>\n",
       "      <th>smrSummary</th>\n",
       "    </tr>\n",
       "  </thead>\n",
       "  <tbody>\n",
       "    <tr>\n",
       "      <th>0</th>\n",
       "      <td>285</td>\n",
       "      <td>1135851552495865857</td>\n",
       "      <td>'I Don't Know Prince Andrew,' Trump Says. Phot...</td>\n",
       "      <td>????????On Day 2 of the #USStateVisit, The Duk...</td>\n",
       "      <td>115.0</td>\n",
       "      <td>trump2020 usstatevisit realtalk liarinchief pe...</td>\n",
       "      <td>10downingstreet teram323tere fox5atlanta thedu...</td>\n",
       "      <td>duke york donald trump st jame palac uk us tru...</td>\n",
       "      <td>duke york prime minist presid donald trump st ...</td>\n",
       "      <td>clarifi surpris jump hear rememb mean swear fi...</td>\n",
       "      <td>usual besid cours anymor though enough clearli...</td>\n",
       "      <td>person dumber truth proud profession polit hug...</td>\n",
       "      <td>????????On Day 2 of the #USStateVisit, The Duk...</td>\n",
       "      <td>????????On Day 2 of the The Duke of York Prime...</td>\n",
       "    </tr>\n",
       "    <tr>\n",
       "      <th>1</th>\n",
       "      <td>334</td>\n",
       "      <td>1151389038781390848</td>\n",
       "      <td>Naga Munchetty, BBC News Anchor, Has Reprimand...</td>\n",
       "      <td>\"I've been told as a woman of colour to 'go ho...</td>\n",
       "      <td>260.0</td>\n",
       "      <td>racist britains istandwithnaga trump2020 faken...</td>\n",
       "      <td>bbcworld foxnew washingtonpost jam99percent sp...</td>\n",
       "      <td>trump truth welldon speak faeifa fiffaeifa fif...</td>\n",
       "      <td>woman colour experi reaction comment presid tr...</td>\n",
       "      <td>share discu suppress speak experi listen trump...</td>\n",
       "      <td>home probabl freeli everytim regularli total s...</td>\n",
       "      <td>faeifaei anti trump fals sad bad vile pervert ...</td>\n",
       "      <td>\"I've been told as a woman of colour to 'go ho...</td>\n",
       "      <td>\"I've been told as a woman of colour to 'go ho...</td>\n",
       "    </tr>\n",
       "  </tbody>\n",
       "</table>\n",
       "</div>"
      ],
      "text/plain": [
       "  rowid                RecID  \\\n",
       "0   285  1135851552495865857   \n",
       "1   334  1151389038781390848   \n",
       "\n",
       "                                            PubTitle  \\\n",
       "0  'I Don't Know Prince Andrew,' Trump Says. Phot...   \n",
       "1  Naga Munchetty, BBC News Anchor, Has Reprimand...   \n",
       "\n",
       "                                              RecDoc countSupTweets  \\\n",
       "0  ????????On Day 2 of the #USStateVisit, The Duk...          115.0   \n",
       "1  \"I've been told as a woman of colour to 'go ho...          260.0   \n",
       "\n",
       "                                         smrHashtags  \\\n",
       "0  trump2020 usstatevisit realtalk liarinchief pe...   \n",
       "1  racist britains istandwithnaga trump2020 faken...   \n",
       "\n",
       "                                         smrMentions  \\\n",
       "0  10downingstreet teram323tere fox5atlanta thedu...   \n",
       "1  bbcworld foxnew washingtonpost jam99percent sp...   \n",
       "\n",
       "                                              smrNER  \\\n",
       "0  duke york donald trump st jame palac uk us tru...   \n",
       "1  trump truth welldon speak faeifa fiffaeifa fif...   \n",
       "\n",
       "                                            smrNouns  \\\n",
       "0  duke york prime minist presid donald trump st ...   \n",
       "1  woman colour experi reaction comment presid tr...   \n",
       "\n",
       "                                            smrVerbs  \\\n",
       "0  clarifi surpris jump hear rememb mean swear fi...   \n",
       "1  share discu suppress speak experi listen trump...   \n",
       "\n",
       "                                          smrAdverbs  \\\n",
       "0  usual besid cours anymor though enough clearli...   \n",
       "1  home probabl freeli everytim regularli total s...   \n",
       "\n",
       "                                       smrAdjectives  \\\n",
       "0  person dumber truth proud profession polit hug...   \n",
       "1  faeifaei anti trump fals sad bad vile pervert ...   \n",
       "\n",
       "                                          smrTopText  \\\n",
       "0  ????????On Day 2 of the #USStateVisit, The Duk...   \n",
       "1  \"I've been told as a woman of colour to 'go ho...   \n",
       "\n",
       "                                          smrSummary  \n",
       "0  ????????On Day 2 of the The Duke of York Prime...  \n",
       "1  \"I've been told as a woman of colour to 'go ho...  "
      ]
     },
     "execution_count": 63,
     "metadata": {},
     "output_type": "execute_result"
    }
   ],
   "source": [
    "df_jato_HO2_tokens.head(2)"
   ]
  },
  {
   "cell_type": "code",
   "execution_count": 64,
   "id": "7ecbf8cc-1f29-4b76-9bfc-b54625f9f246",
   "metadata": {},
   "outputs": [],
   "source": [
    "df_jato_HO2_tokens.drop(['smrAdverbs','smrAdjectives'], axis=1, inplace=True)"
   ]
  },
  {
   "cell_type": "code",
   "execution_count": 67,
   "id": "1c92f218-c19e-4dc9-9c24-0086b2376252",
   "metadata": {},
   "outputs": [],
   "source": [
    "df_jato_HO2_tokens['PubTitle'] = df_jato_HO2_tokens['PubTitle'].apply(removeSpChar4Jato)\n",
    "df_jato_HO2_tokens['RecDoc'] = df_jato_HO2_tokens['RecDoc'].apply(removeSpChar4Jato)\n",
    "df_jato_HO2_tokens['smrTopText'] = df_jato_HO2_tokens['smrTopText'].apply(removeSpChar4Jato)\n",
    "df_jato_HO2_tokens['smrSummary'] = df_jato_HO2_tokens['smrSummary'].apply(removeSpChar4Jato)"
   ]
  },
  {
   "cell_type": "code",
   "execution_count": 68,
   "id": "734c2fad-562f-486f-8a00-3f09d1e72d75",
   "metadata": {},
   "outputs": [],
   "source": [
    "df_jato_HO2_tokens['PubTitle'] = df_jato_HO2_tokens['PubTitle'].apply(cleanupText4Jato)\n",
    "df_jato_HO2_tokens['RecDoc'] = df_jato_HO2_tokens['RecDoc'].apply(cleanupText4Jato)\n",
    "df_jato_HO2_tokens['smrTopText'] = df_jato_HO2_tokens['smrTopText'].apply(cleanupText4Jato)\n",
    "df_jato_HO2_tokens['smrSummary'] = df_jato_HO2_tokens['smrSummary'].apply(cleanupText4Jato)"
   ]
  },
  {
   "cell_type": "code",
   "execution_count": 69,
   "id": "001d1089-157b-494a-95de-574fb2fbb721",
   "metadata": {},
   "outputs": [],
   "source": [
    "# save the file to D:\\KOPro\\PhD\\Implementation\\SourceCode\\JatoPass2\\data -- \n",
    "df_jato_HO2_tokens.to_csv('D:/KOPro/PhD/Implementation/SourceCode/JatoPass4_HO2/data/JatoMaster.csv', index=False)"
   ]
  },
  {
   "cell_type": "markdown",
   "id": "8e3b7b39-c594-488b-83e4-6b974d8f947d",
   "metadata": {
    "jp-MarkdownHeadingCollapsed": true,
    "tags": []
   },
   "source": [
    "#### Generate JatoClassified for HO2"
   ]
  },
  {
   "cell_type": "code",
   "execution_count": 70,
   "id": "68902c09-f273-44ec-b546-11cbc386a35d",
   "metadata": {},
   "outputs": [],
   "source": [
    "df_JatoClf_Blank = pd.read_csv('D:/KOPro/PhD/Implementation/SourceCode/jatoPass2_HO2/data/JatoClassified_BlankCat.csv')"
   ]
  },
  {
   "cell_type": "code",
   "execution_count": 71,
   "id": "0929dce9-859d-4589-987f-b19605cb1f69",
   "metadata": {},
   "outputs": [
    {
     "data": {
      "text/html": [
       "<div>\n",
       "<style scoped>\n",
       "    .dataframe tbody tr th:only-of-type {\n",
       "        vertical-align: middle;\n",
       "    }\n",
       "\n",
       "    .dataframe tbody tr th {\n",
       "        vertical-align: top;\n",
       "    }\n",
       "\n",
       "    .dataframe thead th {\n",
       "        text-align: right;\n",
       "    }\n",
       "</style>\n",
       "<table border=\"1\" class=\"dataframe\">\n",
       "  <thead>\n",
       "    <tr style=\"text-align: right;\">\n",
       "      <th></th>\n",
       "      <th>rowid</th>\n",
       "      <th>RecID</th>\n",
       "      <th>SavedDataTime</th>\n",
       "      <th>JatoCat</th>\n",
       "      <th>JatoSubCat</th>\n",
       "      <th>JatoCat2</th>\n",
       "      <th>JatoSubCat2</th>\n",
       "      <th>JatoCat3</th>\n",
       "      <th>JatoSubCat3</th>\n",
       "      <th>NewRecClass</th>\n",
       "      <th>GTCodes</th>\n",
       "      <th>NewsPubCat</th>\n",
       "    </tr>\n",
       "  </thead>\n",
       "  <tbody>\n",
       "    <tr>\n",
       "      <th>0</th>\n",
       "      <td>6</td>\n",
       "      <td>222818213392678912</td>\n",
       "      <td>2021:01:17 21:15:20</td>\n",
       "      <td>Political</td>\n",
       "      <td>Debate</td>\n",
       "      <td>NaN</td>\n",
       "      <td>NaN</td>\n",
       "      <td>NaN</td>\n",
       "      <td>NaN</td>\n",
       "      <td>NaN</td>\n",
       "      <td>NaN</td>\n",
       "      <td>Unknown</td>\n",
       "    </tr>\n",
       "    <tr>\n",
       "      <th>1</th>\n",
       "      <td>60</td>\n",
       "      <td>826262311560216578</td>\n",
       "      <td>2021:01:13 19:53:48</td>\n",
       "      <td>Political</td>\n",
       "      <td>Debate</td>\n",
       "      <td>NaN</td>\n",
       "      <td>NaN</td>\n",
       "      <td>NaN</td>\n",
       "      <td>NaN</td>\n",
       "      <td>NaN</td>\n",
       "      <td>NaN</td>\n",
       "      <td>Unknown</td>\n",
       "    </tr>\n",
       "  </tbody>\n",
       "</table>\n",
       "</div>"
      ],
      "text/plain": [
       "   rowid               RecID        SavedDataTime    JatoCat JatoSubCat  \\\n",
       "0      6  222818213392678912  2021:01:17 21:15:20  Political     Debate   \n",
       "1     60  826262311560216578  2021:01:13 19:53:48  Political     Debate   \n",
       "\n",
       "  JatoCat2 JatoSubCat2 JatoCat3 JatoSubCat3  NewRecClass  GTCodes NewsPubCat  \n",
       "0      NaN         NaN      NaN         NaN          NaN      NaN    Unknown  \n",
       "1      NaN         NaN      NaN         NaN          NaN      NaN    Unknown  "
      ]
     },
     "execution_count": 71,
     "metadata": {},
     "output_type": "execute_result"
    }
   ],
   "source": [
    "df_JatoClf_Blank.head(2)"
   ]
  },
  {
   "cell_type": "code",
   "execution_count": 72,
   "id": "dfd32041-dd3e-48cd-916c-fccf9f342bd4",
   "metadata": {},
   "outputs": [
    {
     "data": {
      "text/plain": [
       "2385"
      ]
     },
     "execution_count": 72,
     "metadata": {},
     "output_type": "execute_result"
    }
   ],
   "source": [
    "len(df_JatoClf_Blank)"
   ]
  },
  {
   "cell_type": "code",
   "execution_count": 82,
   "id": "4ed244cc-64a5-4299-b8b3-f971d27c8d33",
   "metadata": {},
   "outputs": [],
   "source": [
    "df_JatoCl_Pass0_in_4 = pd.read_csv('data/GTxM_Pass0/JatoClassified_HO2_Pass0_in_Pass4_task.csv')"
   ]
  },
  {
   "cell_type": "code",
   "execution_count": 83,
   "id": "ac5c6dc6-83ca-4196-8ec8-85235b4dcb87",
   "metadata": {},
   "outputs": [
    {
     "data": {
      "text/html": [
       "<div>\n",
       "<style scoped>\n",
       "    .dataframe tbody tr th:only-of-type {\n",
       "        vertical-align: middle;\n",
       "    }\n",
       "\n",
       "    .dataframe tbody tr th {\n",
       "        vertical-align: top;\n",
       "    }\n",
       "\n",
       "    .dataframe thead th {\n",
       "        text-align: right;\n",
       "    }\n",
       "</style>\n",
       "<table border=\"1\" class=\"dataframe\">\n",
       "  <thead>\n",
       "    <tr style=\"text-align: right;\">\n",
       "      <th></th>\n",
       "      <th>rowid</th>\n",
       "      <th>RecID</th>\n",
       "      <th>SavedDataTime</th>\n",
       "      <th>JatoCat</th>\n",
       "      <th>JatoSubCat</th>\n",
       "      <th>JatoCat2</th>\n",
       "      <th>JatoSubCat2</th>\n",
       "      <th>JatoCat3</th>\n",
       "      <th>JatoSubCat3</th>\n",
       "      <th>NewRecClass</th>\n",
       "      <th>GTCodes</th>\n",
       "      <th>NewsPubCat</th>\n",
       "    </tr>\n",
       "  </thead>\n",
       "  <tbody>\n",
       "    <tr>\n",
       "      <th>0</th>\n",
       "      <td>557</td>\n",
       "      <td>1179660469759438849</td>\n",
       "      <td>2021:02:05 11:57:33</td>\n",
       "      <td>Political</td>\n",
       "      <td>Debate</td>\n",
       "      <td>NaN</td>\n",
       "      <td>NaN</td>\n",
       "      <td>NaN</td>\n",
       "      <td>NaN</td>\n",
       "      <td>NaN</td>\n",
       "      <td>NaN</td>\n",
       "      <td>Politics</td>\n",
       "    </tr>\n",
       "    <tr>\n",
       "      <th>1</th>\n",
       "      <td>669</td>\n",
       "      <td>1181047749678161920</td>\n",
       "      <td>2021:02:05 11:57:33</td>\n",
       "      <td>Violent Material</td>\n",
       "      <td>War Crimes</td>\n",
       "      <td>Political</td>\n",
       "      <td>Debate</td>\n",
       "      <td>NaN</td>\n",
       "      <td>NaN</td>\n",
       "      <td>NaN</td>\n",
       "      <td>NaN</td>\n",
       "      <td>Law and Order</td>\n",
       "    </tr>\n",
       "  </tbody>\n",
       "</table>\n",
       "</div>"
      ],
      "text/plain": [
       "   rowid                RecID        SavedDataTime           JatoCat  \\\n",
       "0    557  1179660469759438849  2021:02:05 11:57:33         Political   \n",
       "1    669  1181047749678161920  2021:02:05 11:57:33  Violent Material   \n",
       "\n",
       "   JatoSubCat   JatoCat2 JatoSubCat2  JatoCat3  JatoSubCat3 NewRecClass  \\\n",
       "0      Debate        NaN         NaN       NaN          NaN         NaN   \n",
       "1  War Crimes  Political      Debate       NaN          NaN         NaN   \n",
       "\n",
       "   GTCodes     NewsPubCat  \n",
       "0      NaN       Politics  \n",
       "1      NaN  Law and Order  "
      ]
     },
     "execution_count": 83,
     "metadata": {},
     "output_type": "execute_result"
    }
   ],
   "source": [
    "df_JatoCl_Pass0_in_4.head(2)"
   ]
  },
  {
   "cell_type": "code",
   "execution_count": 84,
   "id": "465dcf35-ba28-4508-8b45-355f23a9082d",
   "metadata": {},
   "outputs": [
    {
     "data": {
      "text/plain": [
       "60"
      ]
     },
     "execution_count": 84,
     "metadata": {},
     "output_type": "execute_result"
    }
   ],
   "source": [
    "len(df_JatoCl_Pass0_in_4)"
   ]
  },
  {
   "cell_type": "code",
   "execution_count": 85,
   "id": "592e43f8-67a8-438a-8fed-81940ffa4dff",
   "metadata": {},
   "outputs": [],
   "source": [
    "df_JatoCl_Pass4_dedup = pd.concat([df_JatoClf_Blank,df_JatoCl_Pass0_in_4], axis=0)"
   ]
  },
  {
   "cell_type": "code",
   "execution_count": 89,
   "id": "064766ce-3e63-452c-acd2-aa5dac094867",
   "metadata": {},
   "outputs": [
    {
     "data": {
      "text/plain": [
       "2445"
      ]
     },
     "execution_count": 89,
     "metadata": {},
     "output_type": "execute_result"
    }
   ],
   "source": [
    "len(df_JatoCl_Pass4_dedup)"
   ]
  },
  {
   "cell_type": "code",
   "execution_count": 90,
   "id": "1acf70c6-159b-44de-b83c-2dae0dfa3451",
   "metadata": {},
   "outputs": [],
   "source": [
    "df_JatoCl_Pass4_dedup.drop_duplicates(subset='RecID', keep=False, inplace=True)"
   ]
  },
  {
   "cell_type": "code",
   "execution_count": 91,
   "id": "b09b58dc-897b-452f-9b1d-a0d6bcab70ec",
   "metadata": {},
   "outputs": [
    {
     "data": {
      "text/plain": [
       "2325"
      ]
     },
     "execution_count": 91,
     "metadata": {},
     "output_type": "execute_result"
    }
   ],
   "source": [
    "len(df_JatoCl_Pass4_dedup)"
   ]
  },
  {
   "cell_type": "code",
   "execution_count": 92,
   "id": "c44bc36f-2cca-484a-b625-e408df9c0cbf",
   "metadata": {},
   "outputs": [],
   "source": [
    "# re-concatenate the datasets to add the new subset only\n",
    "df_JatoCl_Pass4 = pd.concat([df_JatoCl_Pass4_dedup,df_JatoCl_Pass0_in_4], axis=0)"
   ]
  },
  {
   "cell_type": "code",
   "execution_count": 93,
   "id": "54e2f815-501e-4b02-ac27-2716f3dbbd15",
   "metadata": {},
   "outputs": [
    {
     "data": {
      "text/html": [
       "<div>\n",
       "<style scoped>\n",
       "    .dataframe tbody tr th:only-of-type {\n",
       "        vertical-align: middle;\n",
       "    }\n",
       "\n",
       "    .dataframe tbody tr th {\n",
       "        vertical-align: top;\n",
       "    }\n",
       "\n",
       "    .dataframe thead th {\n",
       "        text-align: right;\n",
       "    }\n",
       "</style>\n",
       "<table border=\"1\" class=\"dataframe\">\n",
       "  <thead>\n",
       "    <tr style=\"text-align: right;\">\n",
       "      <th></th>\n",
       "      <th>rowid</th>\n",
       "      <th>RecID</th>\n",
       "      <th>SavedDataTime</th>\n",
       "      <th>JatoCat</th>\n",
       "      <th>JatoSubCat</th>\n",
       "      <th>JatoCat2</th>\n",
       "      <th>JatoSubCat2</th>\n",
       "      <th>JatoCat3</th>\n",
       "      <th>JatoSubCat3</th>\n",
       "      <th>NewRecClass</th>\n",
       "      <th>GTCodes</th>\n",
       "      <th>NewsPubCat</th>\n",
       "    </tr>\n",
       "  </thead>\n",
       "  <tbody>\n",
       "    <tr>\n",
       "      <th>0</th>\n",
       "      <td>6</td>\n",
       "      <td>222818213392678912</td>\n",
       "      <td>2021:01:17 21:15:20</td>\n",
       "      <td>Political</td>\n",
       "      <td>Debate</td>\n",
       "      <td>NaN</td>\n",
       "      <td>NaN</td>\n",
       "      <td>NaN</td>\n",
       "      <td>NaN</td>\n",
       "      <td>NaN</td>\n",
       "      <td>NaN</td>\n",
       "      <td>Unknown</td>\n",
       "    </tr>\n",
       "    <tr>\n",
       "      <th>1</th>\n",
       "      <td>60</td>\n",
       "      <td>826262311560216578</td>\n",
       "      <td>2021:01:13 19:53:48</td>\n",
       "      <td>Political</td>\n",
       "      <td>Debate</td>\n",
       "      <td>NaN</td>\n",
       "      <td>NaN</td>\n",
       "      <td>NaN</td>\n",
       "      <td>NaN</td>\n",
       "      <td>NaN</td>\n",
       "      <td>NaN</td>\n",
       "      <td>Unknown</td>\n",
       "    </tr>\n",
       "    <tr>\n",
       "      <th>2</th>\n",
       "      <td>63</td>\n",
       "      <td>833502973204459520</td>\n",
       "      <td>2023:03:16 20:23:22</td>\n",
       "      <td>Lifestyle</td>\n",
       "      <td>Music</td>\n",
       "      <td>NaN</td>\n",
       "      <td>NaN</td>\n",
       "      <td>NaN</td>\n",
       "      <td>NaN</td>\n",
       "      <td>NaN</td>\n",
       "      <td>NaN</td>\n",
       "      <td>Unknown</td>\n",
       "    </tr>\n",
       "    <tr>\n",
       "      <th>3</th>\n",
       "      <td>64</td>\n",
       "      <td>835347243020451840</td>\n",
       "      <td>2021:01:18 15:17:18</td>\n",
       "      <td>Abusive Material</td>\n",
       "      <td>Hate Speech</td>\n",
       "      <td>NaN</td>\n",
       "      <td>NaN</td>\n",
       "      <td>NaN</td>\n",
       "      <td>NaN</td>\n",
       "      <td>NaN</td>\n",
       "      <td>NaN</td>\n",
       "      <td>Unknown</td>\n",
       "    </tr>\n",
       "    <tr>\n",
       "      <th>4</th>\n",
       "      <td>69</td>\n",
       "      <td>867832469181128704</td>\n",
       "      <td>2021:02:03 13:42:38</td>\n",
       "      <td>Lifestyle</td>\n",
       "      <td>Music</td>\n",
       "      <td>NaN</td>\n",
       "      <td>NaN</td>\n",
       "      <td>NaN</td>\n",
       "      <td>NaN</td>\n",
       "      <td>NaN</td>\n",
       "      <td>NaN</td>\n",
       "      <td>Unknown</td>\n",
       "    </tr>\n",
       "    <tr>\n",
       "      <th>...</th>\n",
       "      <td>...</td>\n",
       "      <td>...</td>\n",
       "      <td>...</td>\n",
       "      <td>...</td>\n",
       "      <td>...</td>\n",
       "      <td>...</td>\n",
       "      <td>...</td>\n",
       "      <td>...</td>\n",
       "      <td>...</td>\n",
       "      <td>...</td>\n",
       "      <td>...</td>\n",
       "      <td>...</td>\n",
       "    </tr>\n",
       "    <tr>\n",
       "      <th>55</th>\n",
       "      <td>4143</td>\n",
       "      <td>1218564148172394496</td>\n",
       "      <td>2021:02:12 13:06:39</td>\n",
       "      <td>News</td>\n",
       "      <td>Weather</td>\n",
       "      <td>NaN</td>\n",
       "      <td>NaN</td>\n",
       "      <td>NaN</td>\n",
       "      <td>NaN</td>\n",
       "      <td>weather</td>\n",
       "      <td>NaN</td>\n",
       "      <td>Social Stories</td>\n",
       "    </tr>\n",
       "    <tr>\n",
       "      <th>56</th>\n",
       "      <td>4165</td>\n",
       "      <td>1218849631016230913</td>\n",
       "      <td>2021:02:12 22:14:28</td>\n",
       "      <td>Violent Material</td>\n",
       "      <td>Violence</td>\n",
       "      <td>Conversational</td>\n",
       "      <td>NaN</td>\n",
       "      <td>NaN</td>\n",
       "      <td>NaN</td>\n",
       "      <td>NaN</td>\n",
       "      <td>NaN</td>\n",
       "      <td>Social Stories</td>\n",
       "    </tr>\n",
       "    <tr>\n",
       "      <th>57</th>\n",
       "      <td>4214</td>\n",
       "      <td>1219299748248682496</td>\n",
       "      <td>2021:02:13 10:45:33</td>\n",
       "      <td>Political</td>\n",
       "      <td>Debate</td>\n",
       "      <td>NaN</td>\n",
       "      <td>NaN</td>\n",
       "      <td>NaN</td>\n",
       "      <td>NaN</td>\n",
       "      <td>NaN</td>\n",
       "      <td>NaN</td>\n",
       "      <td>Unknown</td>\n",
       "    </tr>\n",
       "    <tr>\n",
       "      <th>58</th>\n",
       "      <td>4373</td>\n",
       "      <td>1220439910378889216</td>\n",
       "      <td>2021:02:13 10:45:33</td>\n",
       "      <td>Conversational</td>\n",
       "      <td>Negative</td>\n",
       "      <td>NaN</td>\n",
       "      <td>NaN</td>\n",
       "      <td>NaN</td>\n",
       "      <td>NaN</td>\n",
       "      <td>NaN</td>\n",
       "      <td>NaN</td>\n",
       "      <td>Social Stories</td>\n",
       "    </tr>\n",
       "    <tr>\n",
       "      <th>59</th>\n",
       "      <td>4428</td>\n",
       "      <td>1220785862507749379</td>\n",
       "      <td>2021:02:14 20:46:29</td>\n",
       "      <td>Conversational</td>\n",
       "      <td>NaN</td>\n",
       "      <td>NaN</td>\n",
       "      <td>NaN</td>\n",
       "      <td>NaN</td>\n",
       "      <td>NaN</td>\n",
       "      <td>complain</td>\n",
       "      <td>NaN</td>\n",
       "      <td>Social Stories</td>\n",
       "    </tr>\n",
       "  </tbody>\n",
       "</table>\n",
       "<p>2385 rows × 12 columns</p>\n",
       "</div>"
      ],
      "text/plain": [
       "    rowid                RecID        SavedDataTime           JatoCat  \\\n",
       "0       6   222818213392678912  2021:01:17 21:15:20         Political   \n",
       "1      60   826262311560216578  2021:01:13 19:53:48         Political   \n",
       "2      63   833502973204459520  2023:03:16 20:23:22         Lifestyle   \n",
       "3      64   835347243020451840  2021:01:18 15:17:18  Abusive Material   \n",
       "4      69   867832469181128704  2021:02:03 13:42:38         Lifestyle   \n",
       "..    ...                  ...                  ...               ...   \n",
       "55   4143  1218564148172394496  2021:02:12 13:06:39              News   \n",
       "56   4165  1218849631016230913  2021:02:12 22:14:28  Violent Material   \n",
       "57   4214  1219299748248682496  2021:02:13 10:45:33         Political   \n",
       "58   4373  1220439910378889216  2021:02:13 10:45:33    Conversational   \n",
       "59   4428  1220785862507749379  2021:02:14 20:46:29    Conversational   \n",
       "\n",
       "     JatoSubCat        JatoCat2 JatoSubCat2 JatoCat3 JatoSubCat3 NewRecClass  \\\n",
       "0        Debate             NaN         NaN      NaN         NaN         NaN   \n",
       "1        Debate             NaN         NaN      NaN         NaN         NaN   \n",
       "2         Music             NaN         NaN      NaN         NaN         NaN   \n",
       "3   Hate Speech             NaN         NaN      NaN         NaN         NaN   \n",
       "4         Music             NaN         NaN      NaN         NaN         NaN   \n",
       "..          ...             ...         ...      ...         ...         ...   \n",
       "55      Weather             NaN         NaN      NaN         NaN     weather   \n",
       "56     Violence  Conversational         NaN      NaN         NaN         NaN   \n",
       "57       Debate             NaN         NaN      NaN         NaN         NaN   \n",
       "58     Negative             NaN         NaN      NaN         NaN         NaN   \n",
       "59          NaN             NaN         NaN      NaN         NaN    complain   \n",
       "\n",
       "    GTCodes      NewsPubCat  \n",
       "0       NaN         Unknown  \n",
       "1       NaN         Unknown  \n",
       "2       NaN         Unknown  \n",
       "3       NaN         Unknown  \n",
       "4       NaN         Unknown  \n",
       "..      ...             ...  \n",
       "55      NaN  Social Stories  \n",
       "56      NaN  Social Stories  \n",
       "57      NaN         Unknown  \n",
       "58      NaN  Social Stories  \n",
       "59      NaN  Social Stories  \n",
       "\n",
       "[2385 rows x 12 columns]"
      ]
     },
     "execution_count": 93,
     "metadata": {},
     "output_type": "execute_result"
    }
   ],
   "source": [
    "df_JatoCl_Pass4"
   ]
  },
  {
   "cell_type": "code",
   "execution_count": 94,
   "id": "54a44291-822d-4c6d-ad4a-b2c6e6e88c1b",
   "metadata": {},
   "outputs": [],
   "source": [
    "df_JatoCl_Pass4.to_csv('D:/KOPro/PhD/Implementation/SourceCode/jatoPass4_HO2/data/JatoClassified.csv', index=False)"
   ]
  },
  {
   "cell_type": "markdown",
   "id": "7feb1bbc-67c9-402a-945b-8a8190b664c6",
   "metadata": {
    "tags": []
   },
   "source": [
    "### Intercoder Reliability btw HO2, HO1 and GTxM Classifier"
   ]
  },
  {
   "cell_type": "markdown",
   "id": "5d367764-439c-4269-9b42-d413df4a04bd",
   "metadata": {
    "tags": []
   },
   "source": [
    "#### Get HO2 labels After running Jato"
   ]
  },
  {
   "cell_type": "code",
   "execution_count": 77,
   "id": "9b0c0345-4d31-4e90-a02f-07d067fa4680",
   "metadata": {
    "tags": []
   },
   "outputs": [],
   "source": [
    "# use the RecIDs \n",
    "df_HO1_To_HO2 = pd.read_csv('data/GTxM_Pass4/df_HO1_To_HO2.csv', dtype='str')"
   ]
  },
  {
   "cell_type": "code",
   "execution_count": 38,
   "id": "e2e55984-33b7-4b3b-be54-ce93ce4da978",
   "metadata": {
    "tags": []
   },
   "outputs": [
    {
     "data": {
      "text/html": [
       "<div>\n",
       "<style scoped>\n",
       "    .dataframe tbody tr th:only-of-type {\n",
       "        vertical-align: middle;\n",
       "    }\n",
       "\n",
       "    .dataframe tbody tr th {\n",
       "        vertical-align: top;\n",
       "    }\n",
       "\n",
       "    .dataframe thead th {\n",
       "        text-align: right;\n",
       "    }\n",
       "</style>\n",
       "<table border=\"1\" class=\"dataframe\">\n",
       "  <thead>\n",
       "    <tr style=\"text-align: right;\">\n",
       "      <th></th>\n",
       "      <th>RecID</th>\n",
       "      <th>SBERTLabel</th>\n",
       "      <th>SBERTTarget</th>\n",
       "      <th>GClfTarget</th>\n",
       "      <th>HO1Label</th>\n",
       "      <th>HO1Target</th>\n",
       "      <th>HO1AgreedTarget</th>\n",
       "    </tr>\n",
       "  </thead>\n",
       "  <tbody>\n",
       "    <tr>\n",
       "      <th>0</th>\n",
       "      <td>1135851552495865857</td>\n",
       "      <td>Social Stories</td>\n",
       "      <td>10</td>\n",
       "      <td>-1</td>\n",
       "      <td>Politics</td>\n",
       "      <td>6</td>\n",
       "      <td>-1</td>\n",
       "    </tr>\n",
       "    <tr>\n",
       "      <th>3</th>\n",
       "      <td>1178962636278382592</td>\n",
       "      <td>Environmental</td>\n",
       "      <td>3</td>\n",
       "      <td>-1</td>\n",
       "      <td>Unknown</td>\n",
       "      <td>-1</td>\n",
       "      <td>-1</td>\n",
       "    </tr>\n",
       "  </tbody>\n",
       "</table>\n",
       "</div>"
      ],
      "text/plain": [
       "                 RecID      SBERTLabel SBERTTarget GClfTarget  HO1Label  \\\n",
       "0  1135851552495865857  Social Stories          10         -1  Politics   \n",
       "3  1178962636278382592   Environmental           3         -1   Unknown   \n",
       "\n",
       "  HO1Target HO1AgreedTarget  \n",
       "0         6              -1  \n",
       "3        -1              -1  "
      ]
     },
     "execution_count": 38,
     "metadata": {},
     "output_type": "execute_result"
    }
   ],
   "source": [
    "df_HO1_To_HO2.head(2)"
   ]
  },
  {
   "cell_type": "code",
   "execution_count": 39,
   "id": "05bc76f2-8b40-4f22-9718-9e66600a92f5",
   "metadata": {
    "tags": []
   },
   "outputs": [
    {
     "data": {
      "text/plain": [
       "149"
      ]
     },
     "execution_count": 39,
     "metadata": {},
     "output_type": "execute_result"
    }
   ],
   "source": [
    "len(df_HO1_To_HO2)"
   ]
  },
  {
   "cell_type": "code",
   "execution_count": 40,
   "id": "a06682a7-963a-47e6-8084-775365bc4027",
   "metadata": {
    "tags": []
   },
   "outputs": [
    {
     "data": {
      "text/html": [
       "<div>\n",
       "<style scoped>\n",
       "    .dataframe tbody tr th:only-of-type {\n",
       "        vertical-align: middle;\n",
       "    }\n",
       "\n",
       "    .dataframe tbody tr th {\n",
       "        vertical-align: top;\n",
       "    }\n",
       "\n",
       "    .dataframe thead th {\n",
       "        text-align: right;\n",
       "    }\n",
       "</style>\n",
       "<table border=\"1\" class=\"dataframe\">\n",
       "  <thead>\n",
       "    <tr style=\"text-align: right;\">\n",
       "      <th></th>\n",
       "      <th>RecID</th>\n",
       "      <th>NewsPubCat</th>\n",
       "    </tr>\n",
       "  </thead>\n",
       "  <tbody>\n",
       "    <tr>\n",
       "      <th>0</th>\n",
       "      <td>222818213392678912</td>\n",
       "      <td>Unknown</td>\n",
       "    </tr>\n",
       "    <tr>\n",
       "      <th>1</th>\n",
       "      <td>826262311560216578</td>\n",
       "      <td>Unknown</td>\n",
       "    </tr>\n",
       "  </tbody>\n",
       "</table>\n",
       "</div>"
      ],
      "text/plain": [
       "                RecID NewsPubCat\n",
       "0  222818213392678912    Unknown\n",
       "1  826262311560216578    Unknown"
      ]
     },
     "execution_count": 40,
     "metadata": {},
     "output_type": "execute_result"
    }
   ],
   "source": [
    "df_jato_HO2_Labels = pd.read_csv('D:/KOPro/PhD/Implementation/SourceCode/JatoPass4_HO2/data/JatoClassified_HO2_Pass4.csv', usecols=['RecID','NewsPubCat'], dtype='str')\n",
    "df_jato_HO2_Labels.head(2)"
   ]
  },
  {
   "cell_type": "code",
   "execution_count": 41,
   "id": "a272f3b3-df36-4855-a80d-fd92dc609416",
   "metadata": {
    "tags": []
   },
   "outputs": [],
   "source": [
    "Labels_Targets = pd.read_csv('data/Labels_TargetsV3.csv', dtype='str')"
   ]
  },
  {
   "cell_type": "code",
   "execution_count": 42,
   "id": "0bbb682e-2579-4793-a357-afc2acb133eb",
   "metadata": {
    "tags": []
   },
   "outputs": [
    {
     "data": {
      "text/html": [
       "<div>\n",
       "<style scoped>\n",
       "    .dataframe tbody tr th:only-of-type {\n",
       "        vertical-align: middle;\n",
       "    }\n",
       "\n",
       "    .dataframe tbody tr th {\n",
       "        vertical-align: top;\n",
       "    }\n",
       "\n",
       "    .dataframe thead th {\n",
       "        text-align: right;\n",
       "    }\n",
       "</style>\n",
       "<table border=\"1\" class=\"dataframe\">\n",
       "  <thead>\n",
       "    <tr style=\"text-align: right;\">\n",
       "      <th></th>\n",
       "      <th>Target</th>\n",
       "      <th>Label</th>\n",
       "    </tr>\n",
       "  </thead>\n",
       "  <tbody>\n",
       "    <tr>\n",
       "      <th>0</th>\n",
       "      <td>1</td>\n",
       "      <td>Business</td>\n",
       "    </tr>\n",
       "    <tr>\n",
       "      <th>1</th>\n",
       "      <td>2</td>\n",
       "      <td>Entertainment</td>\n",
       "    </tr>\n",
       "  </tbody>\n",
       "</table>\n",
       "</div>"
      ],
      "text/plain": [
       "  Target          Label\n",
       "0      1       Business\n",
       "1      2  Entertainment"
      ]
     },
     "execution_count": 42,
     "metadata": {},
     "output_type": "execute_result"
    }
   ],
   "source": [
    "Labels_Targets.head(2)"
   ]
  },
  {
   "cell_type": "code",
   "execution_count": 43,
   "id": "174730a9-669c-4701-8841-b154f5b01fee",
   "metadata": {
    "tags": []
   },
   "outputs": [],
   "source": [
    "df_jato_HO2_Labels.rename(columns={'NewsPubCat': 'Label'}, inplace=True)"
   ]
  },
  {
   "cell_type": "code",
   "execution_count": 44,
   "id": "14d3911b-02b2-4292-8cd9-c4ae81a78d04",
   "metadata": {
    "tags": []
   },
   "outputs": [],
   "source": [
    "df_HO2_Labels_Targets = pd.merge(df_jato_HO2_Labels,Labels_Targets, on='Label', how='left')"
   ]
  },
  {
   "cell_type": "code",
   "execution_count": 45,
   "id": "ee7b8b85-d73d-448d-86fb-8774026d4323",
   "metadata": {
    "tags": []
   },
   "outputs": [
    {
     "data": {
      "text/html": [
       "<div>\n",
       "<style scoped>\n",
       "    .dataframe tbody tr th:only-of-type {\n",
       "        vertical-align: middle;\n",
       "    }\n",
       "\n",
       "    .dataframe tbody tr th {\n",
       "        vertical-align: top;\n",
       "    }\n",
       "\n",
       "    .dataframe thead th {\n",
       "        text-align: right;\n",
       "    }\n",
       "</style>\n",
       "<table border=\"1\" class=\"dataframe\">\n",
       "  <thead>\n",
       "    <tr style=\"text-align: right;\">\n",
       "      <th></th>\n",
       "      <th>RecID</th>\n",
       "      <th>Label</th>\n",
       "      <th>Target</th>\n",
       "    </tr>\n",
       "  </thead>\n",
       "  <tbody>\n",
       "    <tr>\n",
       "      <th>0</th>\n",
       "      <td>222818213392678912</td>\n",
       "      <td>Unknown</td>\n",
       "      <td>0</td>\n",
       "    </tr>\n",
       "    <tr>\n",
       "      <th>1</th>\n",
       "      <td>826262311560216578</td>\n",
       "      <td>Unknown</td>\n",
       "      <td>0</td>\n",
       "    </tr>\n",
       "    <tr>\n",
       "      <th>2</th>\n",
       "      <td>833502973204459520</td>\n",
       "      <td>Unknown</td>\n",
       "      <td>0</td>\n",
       "    </tr>\n",
       "    <tr>\n",
       "      <th>3</th>\n",
       "      <td>835347243020451840</td>\n",
       "      <td>Unknown</td>\n",
       "      <td>0</td>\n",
       "    </tr>\n",
       "    <tr>\n",
       "      <th>4</th>\n",
       "      <td>867832469181128704</td>\n",
       "      <td>Unknown</td>\n",
       "      <td>0</td>\n",
       "    </tr>\n",
       "    <tr>\n",
       "      <th>...</th>\n",
       "      <td>...</td>\n",
       "      <td>...</td>\n",
       "      <td>...</td>\n",
       "    </tr>\n",
       "    <tr>\n",
       "      <th>2380</th>\n",
       "      <td>1218564148172394496</td>\n",
       "      <td>Social Stories</td>\n",
       "      <td>10</td>\n",
       "    </tr>\n",
       "    <tr>\n",
       "      <th>2381</th>\n",
       "      <td>1218849631016230913</td>\n",
       "      <td>Social Stories</td>\n",
       "      <td>10</td>\n",
       "    </tr>\n",
       "    <tr>\n",
       "      <th>2382</th>\n",
       "      <td>1219299748248682496</td>\n",
       "      <td>Unknown</td>\n",
       "      <td>0</td>\n",
       "    </tr>\n",
       "    <tr>\n",
       "      <th>2383</th>\n",
       "      <td>1220439910378889216</td>\n",
       "      <td>Social Stories</td>\n",
       "      <td>10</td>\n",
       "    </tr>\n",
       "    <tr>\n",
       "      <th>2384</th>\n",
       "      <td>1220785862507749379</td>\n",
       "      <td>Social Stories</td>\n",
       "      <td>10</td>\n",
       "    </tr>\n",
       "  </tbody>\n",
       "</table>\n",
       "<p>2385 rows × 3 columns</p>\n",
       "</div>"
      ],
      "text/plain": [
       "                    RecID           Label Target\n",
       "0      222818213392678912         Unknown      0\n",
       "1      826262311560216578         Unknown      0\n",
       "2      833502973204459520         Unknown      0\n",
       "3      835347243020451840         Unknown      0\n",
       "4      867832469181128704         Unknown      0\n",
       "...                   ...             ...    ...\n",
       "2380  1218564148172394496  Social Stories     10\n",
       "2381  1218849631016230913  Social Stories     10\n",
       "2382  1219299748248682496         Unknown      0\n",
       "2383  1220439910378889216  Social Stories     10\n",
       "2384  1220785862507749379  Social Stories     10\n",
       "\n",
       "[2385 rows x 3 columns]"
      ]
     },
     "execution_count": 45,
     "metadata": {},
     "output_type": "execute_result"
    }
   ],
   "source": [
    "df_HO2_Labels_Targets"
   ]
  },
  {
   "cell_type": "code",
   "execution_count": 46,
   "id": "a9988a45-4ce0-48a1-add5-cbef009c4130",
   "metadata": {
    "tags": []
   },
   "outputs": [],
   "source": [
    "df_HO2_Labels_Targets.rename(columns={'Label': 'HO2Label', 'Target': 'HO2Target'}, inplace=True)"
   ]
  },
  {
   "cell_type": "code",
   "execution_count": 47,
   "id": "ae33c2bf-ffc9-4db1-bd30-87731ef41d29",
   "metadata": {
    "tags": []
   },
   "outputs": [
    {
     "data": {
      "text/plain": [
       "149"
      ]
     },
     "execution_count": 47,
     "metadata": {},
     "output_type": "execute_result"
    }
   ],
   "source": [
    "df_HO2HO1_Labels = pd.merge(df_HO2_Labels_Targets,df_HO1_To_HO2, on='RecID')\n",
    "len(df_HO2HO1_Labels)"
   ]
  },
  {
   "cell_type": "code",
   "execution_count": 48,
   "id": "ed3fd79e-4eda-43c9-930a-0e12af27ebdd",
   "metadata": {
    "tags": []
   },
   "outputs": [
    {
     "data": {
      "text/html": [
       "<div>\n",
       "<style scoped>\n",
       "    .dataframe tbody tr th:only-of-type {\n",
       "        vertical-align: middle;\n",
       "    }\n",
       "\n",
       "    .dataframe tbody tr th {\n",
       "        vertical-align: top;\n",
       "    }\n",
       "\n",
       "    .dataframe thead th {\n",
       "        text-align: right;\n",
       "    }\n",
       "</style>\n",
       "<table border=\"1\" class=\"dataframe\">\n",
       "  <thead>\n",
       "    <tr style=\"text-align: right;\">\n",
       "      <th></th>\n",
       "      <th>RecID</th>\n",
       "      <th>HO2Label</th>\n",
       "      <th>HO2Target</th>\n",
       "      <th>SBERTLabel</th>\n",
       "      <th>SBERTTarget</th>\n",
       "      <th>GClfTarget</th>\n",
       "      <th>HO1Label</th>\n",
       "      <th>HO1Target</th>\n",
       "      <th>HO1AgreedTarget</th>\n",
       "    </tr>\n",
       "  </thead>\n",
       "  <tbody>\n",
       "    <tr>\n",
       "      <th>0</th>\n",
       "      <td>1135851552495865857</td>\n",
       "      <td>World Politics</td>\n",
       "      <td>12</td>\n",
       "      <td>Social Stories</td>\n",
       "      <td>10</td>\n",
       "      <td>-1</td>\n",
       "      <td>Politics</td>\n",
       "      <td>6</td>\n",
       "      <td>-1</td>\n",
       "    </tr>\n",
       "    <tr>\n",
       "      <th>1</th>\n",
       "      <td>1178962636278382592</td>\n",
       "      <td>Social Stories</td>\n",
       "      <td>10</td>\n",
       "      <td>Environmental</td>\n",
       "      <td>3</td>\n",
       "      <td>-1</td>\n",
       "      <td>Unknown</td>\n",
       "      <td>-1</td>\n",
       "      <td>-1</td>\n",
       "    </tr>\n",
       "    <tr>\n",
       "      <th>2</th>\n",
       "      <td>1180604548596916224</td>\n",
       "      <td>Law and Order</td>\n",
       "      <td>7</td>\n",
       "      <td>Law and Order</td>\n",
       "      <td>7</td>\n",
       "      <td>-1</td>\n",
       "      <td>Human Rights</td>\n",
       "      <td>5</td>\n",
       "      <td>-1</td>\n",
       "    </tr>\n",
       "    <tr>\n",
       "      <th>3</th>\n",
       "      <td>1181140315635376128</td>\n",
       "      <td>Social Stories</td>\n",
       "      <td>10</td>\n",
       "      <td>Sports</td>\n",
       "      <td>11</td>\n",
       "      <td>-1</td>\n",
       "      <td>Unknown</td>\n",
       "      <td>-1</td>\n",
       "      <td>-1</td>\n",
       "    </tr>\n",
       "    <tr>\n",
       "      <th>4</th>\n",
       "      <td>1181281583078223872</td>\n",
       "      <td>World Politics</td>\n",
       "      <td>12</td>\n",
       "      <td>World Politics</td>\n",
       "      <td>12</td>\n",
       "      <td>-1</td>\n",
       "      <td>Politics</td>\n",
       "      <td>6</td>\n",
       "      <td>-1</td>\n",
       "    </tr>\n",
       "  </tbody>\n",
       "</table>\n",
       "</div>"
      ],
      "text/plain": [
       "                 RecID        HO2Label HO2Target      SBERTLabel SBERTTarget  \\\n",
       "0  1135851552495865857  World Politics        12  Social Stories          10   \n",
       "1  1178962636278382592  Social Stories        10   Environmental           3   \n",
       "2  1180604548596916224   Law and Order         7   Law and Order           7   \n",
       "3  1181140315635376128  Social Stories        10          Sports          11   \n",
       "4  1181281583078223872  World Politics        12  World Politics          12   \n",
       "\n",
       "  GClfTarget      HO1Label HO1Target HO1AgreedTarget  \n",
       "0         -1      Politics         6              -1  \n",
       "1         -1       Unknown        -1              -1  \n",
       "2         -1  Human Rights         5              -1  \n",
       "3         -1       Unknown        -1              -1  \n",
       "4         -1      Politics         6              -1  "
      ]
     },
     "execution_count": 48,
     "metadata": {},
     "output_type": "execute_result"
    }
   ],
   "source": [
    "df_HO2HO1_Labels.head()"
   ]
  },
  {
   "cell_type": "code",
   "execution_count": 49,
   "id": "e7a99910-3f01-4f7f-bf14-ef3e927aa685",
   "metadata": {
    "tags": []
   },
   "outputs": [],
   "source": [
    "df_HO2HO1_Labels.drop(['HO1AgreedTarget'], axis=1, inplace=True)"
   ]
  },
  {
   "cell_type": "markdown",
   "id": "58c11142-4317-4d29-8ed3-c993f32f4c26",
   "metadata": {},
   "source": [
    "#### Compute Krippendorff's Alpha for HO2, HO3, GClf"
   ]
  },
  {
   "cell_type": "code",
   "execution_count": 50,
   "id": "ef365d27-5636-4142-afc2-fa83ab05f2b8",
   "metadata": {
    "tags": []
   },
   "outputs": [],
   "source": [
    "def AgreeTargetWithHO2(A1Target, A2Target, HO1Target, HO2Target):\n",
    "    AgreedTarget = '-1'\n",
    "    if (AgreedTarget == '-1') and (HO1Target == HO2Target):\n",
    "        AgreedTarget = HO2Target\n",
    "    if (AgreedTarget == '-1') and (A2Target == HO2Target):\n",
    "        AgreedTarget = HO2Target\n",
    "    if (AgreedTarget == '-1') and (A2Target == HO2Target):\n",
    "        AgreedTarget = HO2Target\n",
    "    return AgreedTarget"
   ]
  },
  {
   "cell_type": "code",
   "execution_count": 51,
   "id": "d83b1cac-f94a-4282-9106-b44ddc37a692",
   "metadata": {
    "tags": []
   },
   "outputs": [],
   "source": [
    "# set HO1Target's Unknown to -1 for Krippendroff's Alpha calculation\n",
    "df_HO2HO1_Labels.loc[(df_HO2HO1_Labels.HO2Target == '0'), 'HO2Target'] = '-1'"
   ]
  },
  {
   "cell_type": "code",
   "execution_count": 52,
   "id": "ac41e972-d3a0-4ac4-8f09-115280f7d593",
   "metadata": {
    "tags": []
   },
   "outputs": [],
   "source": [
    "df_HO2HO1_Labels['HO2AgreedTarget'] = df_HO2HO1_Labels.apply(lambda x: AgreeTargetWithHO2(x['GClfTarget'], x['SBERTTarget'], x['HO1Target'], x['HO2Target']), axis=1)"
   ]
  },
  {
   "cell_type": "code",
   "execution_count": 53,
   "id": "4ae5f5da-c182-4d59-a442-3054a07343f7",
   "metadata": {
    "tags": []
   },
   "outputs": [],
   "source": [
    "# convert to horizontal array as expected by Krippendorff Alpha\n",
    "HO2Pred = np.stack(df_HO2HO1_Labels['HO2Target'].astype(\"string\"))\n",
    "HO1Pred = np.stack(df_HO2HO1_Labels['HO1Target'].astype(\"string\"))\n",
    "GClfPred = np.stack(df_HO2HO1_Labels['GClfTarget'].astype(\"string\"))\n",
    "SBERTPred = np.stack(df_HO2HO1_Labels['SBERTTarget'].astype(\"string\"))\n",
    "HO2AgreedTarget = np.stack(df_HO2HO1_Labels['HO2AgreedTarget'].astype(\"string\"))"
   ]
  },
  {
   "cell_type": "code",
   "execution_count": 86,
   "id": "7a3f3535-c0eb-46a5-9b32-3f26409154b6",
   "metadata": {
    "tags": []
   },
   "outputs": [
    {
     "data": {
      "text/plain": [
       "(0.647316299173825,\n",
       " 0.33362155930249315,\n",
       " -0.01646657720068201,\n",
       " 0.18474002611731466)"
      ]
     },
     "execution_count": 86,
     "metadata": {},
     "output_type": "execute_result"
    }
   ],
   "source": [
    "missing = '-1'\n",
    "alpha1 = krippendorff_alpha(np.array((HO2Pred,HO2AgreedTarget)), nominal_metric, missing_items=missing)\n",
    "alpha2 = krippendorff_alpha(np.array((HO1Pred,HO2AgreedTarget)), nominal_metric, missing_items=missing)\n",
    "alpha3 = krippendorff_alpha(np.array((GClfPred,HO2AgreedTarget)), nominal_metric, missing_items=missing)\n",
    "alpha4 = krippendorff_alpha(np.array((SBERTPred,HO2AgreedTarget)), nominal_metric, missing_items=missing)\n",
    "alpha1, alpha2, alpha3, alpha4"
   ]
  },
  {
   "cell_type": "markdown",
   "id": "0d2c2eeb-3e8a-40fd-9986-1c600485c083",
   "metadata": {
    "tags": []
   },
   "source": [
    "#### Acquire new GTD from HO2 agreement"
   ]
  },
  {
   "cell_type": "code",
   "execution_count": 54,
   "id": "37050ebf-83e3-4189-8c1d-b44b45104b3a",
   "metadata": {
    "tags": []
   },
   "outputs": [
    {
     "data": {
      "text/plain": [
       "91"
      ]
     },
     "execution_count": 54,
     "metadata": {},
     "output_type": "execute_result"
    }
   ],
   "source": [
    "df_HO2HO1_GTD = df_HO2HO1_Labels[df_HO2HO1_Labels.HO2AgreedTarget != '-1']\n",
    "len(df_HO2HO1_GTD)"
   ]
  },
  {
   "cell_type": "code",
   "execution_count": 55,
   "id": "fdfab16c-4797-4610-a928-cf20b2f049f3",
   "metadata": {
    "tags": []
   },
   "outputs": [
    {
     "name": "stderr",
     "output_type": "stream",
     "text": [
      "C:\\Users\\kazeem\\AppData\\Local\\Temp\\ipykernel_10860\\2715222095.py:2: SettingWithCopyWarning: \n",
      "A value is trying to be set on a copy of a slice from a DataFrame\n",
      "\n",
      "See the caveats in the documentation: https://pandas.pydata.org/pandas-docs/stable/user_guide/indexing.html#returning-a-view-versus-a-copy\n",
      "  df_Pass4_HO2_GTD.rename(columns={'HO2Target': 'Target', 'HO2Label': 'Label'}, inplace=True)\n"
     ]
    },
    {
     "data": {
      "text/html": [
       "<div>\n",
       "<style scoped>\n",
       "    .dataframe tbody tr th:only-of-type {\n",
       "        vertical-align: middle;\n",
       "    }\n",
       "\n",
       "    .dataframe tbody tr th {\n",
       "        vertical-align: top;\n",
       "    }\n",
       "\n",
       "    .dataframe thead th {\n",
       "        text-align: right;\n",
       "    }\n",
       "</style>\n",
       "<table border=\"1\" class=\"dataframe\">\n",
       "  <thead>\n",
       "    <tr style=\"text-align: right;\">\n",
       "      <th></th>\n",
       "      <th>RecID</th>\n",
       "      <th>Label</th>\n",
       "      <th>Target</th>\n",
       "    </tr>\n",
       "  </thead>\n",
       "  <tbody>\n",
       "    <tr>\n",
       "      <th>2</th>\n",
       "      <td>1180604548596916224</td>\n",
       "      <td>Law and Order</td>\n",
       "      <td>7</td>\n",
       "    </tr>\n",
       "    <tr>\n",
       "      <th>4</th>\n",
       "      <td>1181281583078223872</td>\n",
       "      <td>World Politics</td>\n",
       "      <td>12</td>\n",
       "    </tr>\n",
       "  </tbody>\n",
       "</table>\n",
       "</div>"
      ],
      "text/plain": [
       "                 RecID           Label Target\n",
       "2  1180604548596916224   Law and Order      7\n",
       "4  1181281583078223872  World Politics     12"
      ]
     },
     "execution_count": 55,
     "metadata": {},
     "output_type": "execute_result"
    }
   ],
   "source": [
    "df_Pass4_HO2_GTD = df_HO2HO1_GTD[['RecID','HO2Label','HO2Target']]\n",
    "df_Pass4_HO2_GTD.rename(columns={'HO2Target': 'Target', 'HO2Label': 'Label'}, inplace=True)\n",
    "df_Pass4_HO2_GTD.head(2)"
   ]
  },
  {
   "cell_type": "code",
   "execution_count": 56,
   "id": "81ede32a-09d4-47bf-89f7-6f34c0da856f",
   "metadata": {
    "tags": []
   },
   "outputs": [
    {
     "data": {
      "text/plain": [
       "367"
      ]
     },
     "execution_count": 56,
     "metadata": {},
     "output_type": "execute_result"
    }
   ],
   "source": [
    "df_Pass4_GTD = pd.concat([df_Pass4_HO1_GTD, df_Pass4_HO2_GTD], axis=0)\n",
    "len(df_Pass4_GTD)"
   ]
  },
  {
   "cell_type": "code",
   "execution_count": 57,
   "id": "f49113cf-5de5-4cad-b3f4-be96c8b3bea3",
   "metadata": {
    "tags": []
   },
   "outputs": [
    {
     "data": {
      "text/plain": [
       "Target  Label         \n",
       "10      Social Stories     27\n",
       "11      Sports              9\n",
       "12      World Politics     70\n",
       "2       Entertainment      23\n",
       "3       Environmental      38\n",
       "4       Health             13\n",
       "5       Human Rights       29\n",
       "6       Politics          152\n",
       "7       Law and Order       5\n",
       "9       Obituary            1\n",
       "dtype: int64"
      ]
     },
     "execution_count": 57,
     "metadata": {},
     "output_type": "execute_result"
    }
   ],
   "source": [
    "df_Pass4_GTD.groupby(['Target','Label']).size()"
   ]
  },
  {
   "cell_type": "code",
   "execution_count": 58,
   "id": "3ccd3061-8e30-4e15-b43f-33f8a2ec45d2",
   "metadata": {
    "tags": []
   },
   "outputs": [
    {
     "data": {
      "text/plain": [
       "70"
      ]
     },
     "execution_count": 58,
     "metadata": {},
     "output_type": "execute_result"
    }
   ],
   "source": [
    "df_Pass4_GTD_WPolitics = df_Pass4_GTD[df_Pass4_GTD.Label == 'World Politics']\n",
    "len(df_Pass4_GTD_WPolitics)"
   ]
  },
  {
   "cell_type": "code",
   "execution_count": 99,
   "id": "13f2d99d-5497-4219-bbb8-85caaff11945",
   "metadata": {
    "tags": []
   },
   "outputs": [],
   "source": [
    "df_Pass4_GTD_WPolitics.to_csv('data/GTxM_Pass4/GTxM_Pass4_GTD_WPolitics.csv', index=False)"
   ]
  },
  {
   "cell_type": "code",
   "execution_count": 59,
   "id": "fed86591-9155-4b5b-966b-67cd0f1ce2cd",
   "metadata": {
    "tags": []
   },
   "outputs": [
    {
     "data": {
      "text/plain": [
       "297"
      ]
     },
     "execution_count": 59,
     "metadata": {},
     "output_type": "execute_result"
    }
   ],
   "source": [
    "df_Pass4_GTD_New = df_Pass4_GTD[df_Pass4_GTD.Label != 'World Politics']\n",
    "len(df_Pass4_GTD_New)"
   ]
  },
  {
   "cell_type": "code",
   "execution_count": 102,
   "id": "8308b057-0083-4426-9a6d-e78d16a2efaf",
   "metadata": {
    "tags": []
   },
   "outputs": [],
   "source": [
    "df_Pass4_GTD_New.to_csv('data/GTxM_Pass4/GTxM_Pass4_GTD_New.csv', index=False)"
   ]
  },
  {
   "cell_type": "code",
   "execution_count": 60,
   "id": "16a1a11c-8f86-49c6-abf9-235e1dce7a83",
   "metadata": {
    "tags": []
   },
   "outputs": [
    {
     "data": {
      "text/plain": [
       "1057"
      ]
     },
     "execution_count": 60,
     "metadata": {},
     "output_type": "execute_result"
    }
   ],
   "source": [
    "df_Pass3_GTD_UpTodate = pd.read_csv('data/GTxM_Pass3/GTxM_Pass3_GTD_UpTodate.csv', dtype='str')\n",
    "len(df_Pass3_GTD_UpTodate)"
   ]
  },
  {
   "cell_type": "code",
   "execution_count": 61,
   "id": "70396983-4c99-493e-b05e-ec67fa981b66",
   "metadata": {
    "tags": []
   },
   "outputs": [
    {
     "data": {
      "text/plain": [
       "1354"
      ]
     },
     "execution_count": 61,
     "metadata": {},
     "output_type": "execute_result"
    }
   ],
   "source": [
    "df_Pass4_GTD_UpTodate = pd.concat([df_Pass3_GTD_UpTodate, df_Pass4_GTD_New], axis=0)\n",
    "len(df_Pass4_GTD_UpTodate)"
   ]
  },
  {
   "cell_type": "code",
   "execution_count": 62,
   "id": "a0c3a383-e606-44bb-be27-bbabdf0435a6",
   "metadata": {
    "tags": []
   },
   "outputs": [
    {
     "data": {
      "text/plain": [
       "Target  Label         \n",
       "1       Business           75\n",
       "10      Social Stories     59\n",
       "11      Sports             84\n",
       "2       Entertainment     176\n",
       "3       Environmental      55\n",
       "4       Health             17\n",
       "5       Human Rights      115\n",
       "6       Politics          608\n",
       "7       Law and Order      17\n",
       "9       Obituary          148\n",
       "dtype: int64"
      ]
     },
     "execution_count": 62,
     "metadata": {},
     "output_type": "execute_result"
    }
   ],
   "source": [
    "df_Pass4_GTD_UpTodate.groupby(['Target','Label']).size()"
   ]
  },
  {
   "cell_type": "code",
   "execution_count": 106,
   "id": "33f9b50d-db49-4045-85e9-814dcd4d2604",
   "metadata": {
    "tags": []
   },
   "outputs": [],
   "source": [
    "df_Pass4_GTD_UpTodate.to_csv('data/GTxM_Pass4/GTxM_Pass4_GTD_UpTodate.csv', index=False)"
   ]
  },
  {
   "cell_type": "code",
   "execution_count": 63,
   "id": "5f2fb705-55c2-455f-889b-b1557dcd53f4",
   "metadata": {
    "tags": []
   },
   "outputs": [
    {
     "data": {
      "text/plain": [
       "58"
      ]
     },
     "execution_count": 63,
     "metadata": {},
     "output_type": "execute_result"
    }
   ],
   "source": [
    "df_Pass4_Reject = df_HO2HO1_Labels[df_HO2HO1_Labels.HO2AgreedTarget == '-1']\n",
    "len(df_Pass4_Reject)"
   ]
  },
  {
   "cell_type": "code",
   "execution_count": 68,
   "id": "a34d5b9c-4e32-4d90-9c65-cd9ce9e6d0b6",
   "metadata": {
    "tags": []
   },
   "outputs": [],
   "source": [
    "df_Pass4_Reject.to_csv('df_Pass4_Reject.csv')"
   ]
  },
  {
   "cell_type": "code",
   "execution_count": 64,
   "id": "3f6baae4-dac9-48c7-a772-18b10b7d2e18",
   "metadata": {
    "tags": []
   },
   "outputs": [],
   "source": [
    "df_Pass4_Reject = df_Pass4_Reject['RecID']"
   ]
  },
  {
   "cell_type": "code",
   "execution_count": 65,
   "id": "2cf649d0-2b5a-4e09-9935-1e51b80b20ea",
   "metadata": {
    "tags": []
   },
   "outputs": [
    {
     "data": {
      "text/plain": [
       "128"
      ]
     },
     "execution_count": 65,
     "metadata": {},
     "output_type": "execute_result"
    }
   ],
   "source": [
    "# Add World Politics to Pass 4's Reject\n",
    "df_Pass4_Reject_New = pd.concat([df_Pass4_Reject, (df_Pass4_GTD_WPolitics['RecID'])], axis=0)\n",
    "len(df_Pass4_Reject_New)"
   ]
  },
  {
   "cell_type": "code",
   "execution_count": 115,
   "id": "3cfb0b3f-bf9a-421c-8958-28d0485d8d31",
   "metadata": {
    "tags": []
   },
   "outputs": [],
   "source": [
    "df_Pass4_Reject_New.to_csv('data/GTxM_Pass4/GTxM_Pass4_Reject_New.csv', index=False)"
   ]
  },
  {
   "cell_type": "code",
   "execution_count": 66,
   "id": "f1182372-7742-489e-acb8-e2d2b29d1349",
   "metadata": {
    "tags": []
   },
   "outputs": [
    {
     "data": {
      "text/plain": [
       "223"
      ]
     },
     "execution_count": 66,
     "metadata": {},
     "output_type": "execute_result"
    }
   ],
   "source": [
    "df_Pass3_Reject_UpTodate = pd.read_csv('data/GTxM_Pass3/GTxM_Pass3_Reject_UpTodate.csv', dtype='str')\n",
    "len(df_Pass3_Reject_UpTodate)"
   ]
  },
  {
   "cell_type": "code",
   "execution_count": 67,
   "id": "1b716196-3dd3-45a6-a8b3-970193677683",
   "metadata": {
    "tags": []
   },
   "outputs": [
    {
     "data": {
      "text/plain": [
       "351"
      ]
     },
     "execution_count": 67,
     "metadata": {},
     "output_type": "execute_result"
    }
   ],
   "source": [
    "df_Pass4_Reject_UpTodate = pd.concat([df_Pass3_Reject_UpTodate, df_Pass4_Reject_New], axis=0)\n",
    "len(df_Pass4_Reject_UpTodate)"
   ]
  },
  {
   "cell_type": "code",
   "execution_count": 118,
   "id": "3e6bc4de-acd8-41a5-98b5-19fd4ee20550",
   "metadata": {
    "tags": []
   },
   "outputs": [],
   "source": [
    "df_Pass4_Reject_UpTodate.to_csv('data/GTxM_Pass4/GTxM_Pass4_Reject_UpTodate.csv', index=False)"
   ]
  },
  {
   "cell_type": "code",
   "execution_count": 92,
   "id": "58e114dd-fbda-4cf8-a95f-f2ee5472cb0b",
   "metadata": {
    "tags": []
   },
   "outputs": [
    {
     "data": {
      "text/plain": [
       "128"
      ]
     },
     "execution_count": 92,
     "metadata": {},
     "output_type": "execute_result"
    }
   ],
   "source": [
    "# Update 17-Jul-2023\n",
    "# Duplicate discovered in df_Pass4_Reject, reduced from 128 to 127 (a Social Stories SMR)\n",
    "# Fix: update the reject files\n",
    "df_Pass4_Reject_New = pd.read_csv('data/GTxM_Pass4/GTxM_Pass4_Reject_New.csv', dtype='str')\n",
    "len(df_Pass4_Reject_New)"
   ]
  },
  {
   "cell_type": "code",
   "execution_count": 94,
   "id": "f072a4a2-1d9e-4be1-a1ea-a4f30a0b1b20",
   "metadata": {
    "tags": []
   },
   "outputs": [
    {
     "data": {
      "text/plain": [
       "127"
      ]
     },
     "execution_count": 94,
     "metadata": {},
     "output_type": "execute_result"
    }
   ],
   "source": [
    "df_Pass4_Reject_New = df_Pass4_Reject_New.drop_duplicates(['RecID'])\n",
    "len(df_Pass4_Reject_New)"
   ]
  },
  {
   "cell_type": "code",
   "execution_count": 95,
   "id": "2203b924-d9ec-4260-895f-61921e866724",
   "metadata": {
    "tags": []
   },
   "outputs": [],
   "source": [
    "df_Pass4_Reject_New.to_csv('data/GTxM_Pass4/GTxM_Pass4_Reject_New.csv', index=False)"
   ]
  },
  {
   "cell_type": "code",
   "execution_count": 96,
   "id": "4ea275e7-9f57-4b9a-85a2-bcae33cabb3c",
   "metadata": {
    "tags": []
   },
   "outputs": [
    {
     "data": {
      "text/plain": [
       "223"
      ]
     },
     "execution_count": 96,
     "metadata": {},
     "output_type": "execute_result"
    }
   ],
   "source": [
    "df_Pass3_Reject_UpTodate = pd.read_csv('data/GTxM_Pass3/GTxM_Pass3_Reject_UpTodate.csv', dtype='str')\n",
    "len(df_Pass3_Reject_UpTodate)"
   ]
  },
  {
   "cell_type": "code",
   "execution_count": 97,
   "id": "1b9a9fc8-88e4-4028-aea8-301015e058a3",
   "metadata": {
    "tags": []
   },
   "outputs": [
    {
     "data": {
      "text/plain": [
       "350"
      ]
     },
     "execution_count": 97,
     "metadata": {},
     "output_type": "execute_result"
    }
   ],
   "source": [
    "df_Pass4_Reject_UpTodate = pd.concat([df_Pass3_Reject_UpTodate, df_Pass4_Reject_New], axis=0)\n",
    "len(df_Pass4_Reject_UpTodate)"
   ]
  },
  {
   "cell_type": "code",
   "execution_count": 98,
   "id": "0ddfa977-c009-4221-8909-f66d8db2dc70",
   "metadata": {
    "tags": []
   },
   "outputs": [],
   "source": [
    "df_Pass4_Reject_UpTodate.to_csv('data/GTxM_Pass4/GTxM_Pass4_Reject_UpTodate.csv', index=False)"
   ]
  },
  {
   "cell_type": "code",
   "execution_count": null,
   "id": "62361e70-73fe-4c54-bbf4-94590ad7052d",
   "metadata": {},
   "outputs": [],
   "source": []
  }
 ],
 "metadata": {
  "kernelspec": {
   "display_name": "Python 3 (ipykernel)",
   "language": "python",
   "name": "python3"
  },
  "language_info": {
   "codemirror_mode": {
    "name": "ipython",
    "version": 3
   },
   "file_extension": ".py",
   "mimetype": "text/x-python",
   "name": "python",
   "nbconvert_exporter": "python",
   "pygments_lexer": "ipython3",
   "version": "3.8.16"
  }
 },
 "nbformat": 4,
 "nbformat_minor": 5
}
