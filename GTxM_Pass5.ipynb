{
 "cells": [
  {
   "cell_type": "markdown",
   "id": "5fd2ee66-8412-4b24-a793-c76fc19da9d6",
   "metadata": {
    "tags": []
   },
   "source": [
    "##### Pass 5 objective: Perform CGT on the remaining unclassified SMRs, use the GTxM Classifier, HO1 and HO2 to code new GTD"
   ]
  },
  {
   "cell_type": "code",
   "execution_count": 1,
   "id": "ddf8a06b-aa79-497c-9ff0-cbcda5db5e8a",
   "metadata": {
    "tags": []
   },
   "outputs": [],
   "source": [
    "import re\n",
    "import numpy as np\n",
    "import pandas as pd\n",
    "from krippendorff_alpha import *"
   ]
  },
  {
   "cell_type": "markdown",
   "id": "ea9a403f-cc29-4366-94c0-e896119af3e3",
   "metadata": {
    "tags": []
   },
   "source": [
    "### CGT Step 1: Pattern Detection"
   ]
  },
  {
   "cell_type": "code",
   "execution_count": 2,
   "id": "93f04d34-3a13-4ec7-bae6-623fb66ef5e0",
   "metadata": {
    "tags": []
   },
   "outputs": [
    {
     "name": "stderr",
     "output_type": "stream",
     "text": [
      "[nltk_data] Downloading package wordnet to\n",
      "[nltk_data]     C:\\Users\\kazeem\\AppData\\Roaming\\nltk_data...\n",
      "[nltk_data]   Package wordnet is already up-to-date!\n",
      "[nltk_data] Downloading package words to\n",
      "[nltk_data]     C:\\Users\\kazeem\\AppData\\Roaming\\nltk_data...\n",
      "[nltk_data]   Package words is already up-to-date!\n",
      "[nltk_data] Downloading package punkt to\n",
      "[nltk_data]     C:\\Users\\kazeem\\AppData\\Roaming\\nltk_data...\n",
      "[nltk_data]   Package punkt is already up-to-date!\n",
      "[nltk_data] Downloading package omw-1.4 to\n",
      "[nltk_data]     C:\\Users\\kazeem\\AppData\\Roaming\\nltk_data...\n",
      "[nltk_data]   Package omw-1.4 is already up-to-date!\n"
     ]
    }
   ],
   "source": [
    "# Import libraries\n",
    "from pprint import pprint\n",
    "# Gensim for topic modeling functions\n",
    "import gensim\n",
    "import gensim.corpora as corpora\n",
    "from gensim.utils import simple_preprocess\n",
    "from gensim.models import CoherenceModel\n",
    "# spacy for lemmatization\n",
    "import spacy\n",
    "# Plotting tools\n",
    "import pyLDAvis\n",
    "import pyLDAvis.gensim_models\n",
    "import matplotlib.pyplot as plt\n",
    "import warnings\n",
    "warnings.filterwarnings(\"ignore\",category=DeprecationWarning)\n",
    "# libraries to tokenize, clean up and calculate word counts\n",
    "import nltk\n",
    "from nltk.corpus import words\n",
    "from nltk.stem import PorterStemmer\n",
    "from nltk.stem import WordNetLemmatizer\n",
    "nltk.download('wordnet')\n",
    "nltk.download('words')\n",
    "nltk.download('punkt')\n",
    "nltk.download('omw-1.4')\n",
    "wordlist = nltk.corpus.words.words()\n",
    "stemmer = PorterStemmer()\n",
    "lemmatizer = WordNetLemmatizer()\n",
    "wordlist = [stemmer.stem(lemmatizer.lemmatize(word)) for word in wordlist]"
   ]
  },
  {
   "cell_type": "code",
   "execution_count": 31,
   "id": "aa5d69ad-03ec-4ad2-a833-e493c12b6a87",
   "metadata": {
    "tags": []
   },
   "outputs": [
    {
     "data": {
      "text/plain": [
       "(1512, 1354, 350)"
      ]
     },
     "execution_count": 31,
     "metadata": {},
     "output_type": "execute_result"
    }
   ],
   "source": [
    "# Import Dataset\n",
    "df = pd.read_csv('data/MasterTokens_10to260SupTw_Not_GTr.csv', dtype='str')\n",
    "df_GTD_Rec = pd.read_csv('data/GTxM_Pass4/GTxM_Pass4_GTD_UpTodate.csv', dtype='str')\n",
    "df_Reject_Rec = pd.read_csv('data/GTxM_Pass4/GTxM_Pass4_Reject_UpTodate.csv', dtype='str')\n",
    "len(df), len(df_GTD_Rec), len(df_Reject_Rec)"
   ]
  },
  {
   "cell_type": "code",
   "execution_count": 32,
   "id": "02262b25-a134-4eb4-bb2d-ad869226a740",
   "metadata": {
    "tags": []
   },
   "outputs": [
    {
     "data": {
      "text/plain": [
       "1512"
      ]
     },
     "execution_count": 32,
     "metadata": {},
     "output_type": "execute_result"
    }
   ],
   "source": [
    "# get the CGT RecIDs by ensuring GTD and Rejected are not included\n",
    "df_CGT_Rec = pd.merge(df['RecID'], df_GTD_Rec, on='RecID', how='left')\n",
    "len(df_CGT_Rec)"
   ]
  },
  {
   "cell_type": "code",
   "execution_count": 33,
   "id": "62f22b08-9899-4317-9f18-7d30220c133b",
   "metadata": {
    "tags": []
   },
   "outputs": [
    {
     "data": {
      "text/html": [
       "<div>\n",
       "<style scoped>\n",
       "    .dataframe tbody tr th:only-of-type {\n",
       "        vertical-align: middle;\n",
       "    }\n",
       "\n",
       "    .dataframe tbody tr th {\n",
       "        vertical-align: top;\n",
       "    }\n",
       "\n",
       "    .dataframe thead th {\n",
       "        text-align: right;\n",
       "    }\n",
       "</style>\n",
       "<table border=\"1\" class=\"dataframe\">\n",
       "  <thead>\n",
       "    <tr style=\"text-align: right;\">\n",
       "      <th></th>\n",
       "      <th>RecID</th>\n",
       "      <th>Label</th>\n",
       "      <th>Target</th>\n",
       "    </tr>\n",
       "  </thead>\n",
       "  <tbody>\n",
       "    <tr>\n",
       "      <th>0</th>\n",
       "      <td>1057291398880391170</td>\n",
       "      <td>NaN</td>\n",
       "      <td>NaN</td>\n",
       "    </tr>\n",
       "    <tr>\n",
       "      <th>1</th>\n",
       "      <td>1124056098925944832</td>\n",
       "      <td>Entertainment</td>\n",
       "      <td>2</td>\n",
       "    </tr>\n",
       "  </tbody>\n",
       "</table>\n",
       "</div>"
      ],
      "text/plain": [
       "                 RecID          Label Target\n",
       "0  1057291398880391170            NaN    NaN\n",
       "1  1124056098925944832  Entertainment      2"
      ]
     },
     "execution_count": 33,
     "metadata": {},
     "output_type": "execute_result"
    }
   ],
   "source": [
    "df_CGT_Rec.head(2)"
   ]
  },
  {
   "cell_type": "code",
   "execution_count": 34,
   "id": "330b4121-0ddf-43ee-8587-b8a7722962a2",
   "metadata": {
    "tags": []
   },
   "outputs": [
    {
     "data": {
      "text/plain": [
       "972"
      ]
     },
     "execution_count": 34,
     "metadata": {},
     "output_type": "execute_result"
    }
   ],
   "source": [
    "df_CGT_Rec = df_CGT_Rec[df_CGT_Rec.Target.isna()]\n",
    "len(df_CGT_Rec)"
   ]
  },
  {
   "cell_type": "code",
   "execution_count": 35,
   "id": "d51b75d3-d7dd-4fba-ab2a-ce5faef919f5",
   "metadata": {
    "tags": []
   },
   "outputs": [],
   "source": [
    "# remove Rejected\n",
    "df_CGT_Rec_NoReject = pd.merge(df_CGT_Rec, df_Reject_Rec, on='RecID', how=\"outer\", indicator=True\n",
    "              ).query('_merge==\"left_only\"')"
   ]
  },
  {
   "cell_type": "code",
   "execution_count": 36,
   "id": "6d678d7b-c9ca-4c10-8f20-c0808a5d359c",
   "metadata": {
    "tags": []
   },
   "outputs": [
    {
     "data": {
      "text/plain": [
       "681"
      ]
     },
     "execution_count": 36,
     "metadata": {},
     "output_type": "execute_result"
    }
   ],
   "source": [
    "len(df_CGT_Rec_NoReject)"
   ]
  },
  {
   "cell_type": "code",
   "execution_count": 9,
   "id": "e70f9f24-8b7d-4f34-975c-2e9dbba4a30f",
   "metadata": {
    "tags": []
   },
   "outputs": [
    {
     "data": {
      "text/html": [
       "<div>\n",
       "<style scoped>\n",
       "    .dataframe tbody tr th:only-of-type {\n",
       "        vertical-align: middle;\n",
       "    }\n",
       "\n",
       "    .dataframe tbody tr th {\n",
       "        vertical-align: top;\n",
       "    }\n",
       "\n",
       "    .dataframe thead th {\n",
       "        text-align: right;\n",
       "    }\n",
       "</style>\n",
       "<table border=\"1\" class=\"dataframe\">\n",
       "  <thead>\n",
       "    <tr style=\"text-align: right;\">\n",
       "      <th></th>\n",
       "      <th>RecID</th>\n",
       "      <th>Label</th>\n",
       "      <th>Target</th>\n",
       "      <th>_merge</th>\n",
       "    </tr>\n",
       "  </thead>\n",
       "  <tbody>\n",
       "    <tr>\n",
       "      <th>0</th>\n",
       "      <td>1057291398880391170</td>\n",
       "      <td>NaN</td>\n",
       "      <td>NaN</td>\n",
       "      <td>left_only</td>\n",
       "    </tr>\n",
       "    <tr>\n",
       "      <th>2</th>\n",
       "      <td>1165822705037217792</td>\n",
       "      <td>NaN</td>\n",
       "      <td>NaN</td>\n",
       "      <td>left_only</td>\n",
       "    </tr>\n",
       "  </tbody>\n",
       "</table>\n",
       "</div>"
      ],
      "text/plain": [
       "                 RecID Label Target     _merge\n",
       "0  1057291398880391170   NaN    NaN  left_only\n",
       "2  1165822705037217792   NaN    NaN  left_only"
      ]
     },
     "execution_count": 9,
     "metadata": {},
     "output_type": "execute_result"
    }
   ],
   "source": [
    "df_CGT_Rec_NoReject.head(2)"
   ]
  },
  {
   "cell_type": "code",
   "execution_count": 10,
   "id": "56b3f370-f71d-4af4-ba52-bed59f6d4bf6",
   "metadata": {
    "tags": []
   },
   "outputs": [],
   "source": [
    "df_CGT = pd.merge(df, df_CGT_Rec_NoReject['RecID'], on='RecID', how='inner')"
   ]
  },
  {
   "cell_type": "code",
   "execution_count": 11,
   "id": "959d8c9d-0e9f-412f-abb8-87156476e2c2",
   "metadata": {
    "tags": []
   },
   "outputs": [
    {
     "data": {
      "text/plain": [
       "681"
      ]
     },
     "execution_count": 11,
     "metadata": {},
     "output_type": "execute_result"
    }
   ],
   "source": [
    "len(df_CGT)"
   ]
  },
  {
   "cell_type": "code",
   "execution_count": 12,
   "id": "3b956ebc-295c-4abb-ae7e-7f4b3e14d2bc",
   "metadata": {
    "tags": []
   },
   "outputs": [
    {
     "data": {
      "text/html": [
       "<div>\n",
       "<style scoped>\n",
       "    .dataframe tbody tr th:only-of-type {\n",
       "        vertical-align: middle;\n",
       "    }\n",
       "\n",
       "    .dataframe tbody tr th {\n",
       "        vertical-align: top;\n",
       "    }\n",
       "\n",
       "    .dataframe thead th {\n",
       "        text-align: right;\n",
       "    }\n",
       "</style>\n",
       "<table border=\"1\" class=\"dataframe\">\n",
       "  <thead>\n",
       "    <tr style=\"text-align: right;\">\n",
       "      <th></th>\n",
       "      <th>rowid</th>\n",
       "      <th>RecID</th>\n",
       "      <th>PubTitle</th>\n",
       "      <th>RecDoc</th>\n",
       "      <th>countSupTweets</th>\n",
       "      <th>smrHashtags</th>\n",
       "      <th>smrMentions</th>\n",
       "      <th>smrNER</th>\n",
       "      <th>smrNouns</th>\n",
       "      <th>smrVerbs</th>\n",
       "      <th>smrAdverbs</th>\n",
       "      <th>smrAdjectives</th>\n",
       "      <th>smrTopText</th>\n",
       "      <th>smrSummary</th>\n",
       "    </tr>\n",
       "  </thead>\n",
       "  <tbody>\n",
       "    <tr>\n",
       "      <th>0</th>\n",
       "      <td>155</td>\n",
       "      <td>1057291398880391170</td>\n",
       "      <td>Could fireworks be restricted at Scottish homes?</td>\n",
       "      <td>This is the effect fireworks can have on a dog...</td>\n",
       "      <td>45.0</td>\n",
       "      <td>banfireworks fireworks</td>\n",
       "      <td>neilmackay gamesshed didriksoderlind bbcradios...</td>\n",
       "      <td>juli timmi uk last night daili bob marley ub j...</td>\n",
       "      <td>effect firework dog juli hors goat lot firewor...</td>\n",
       "      <td>stand comfort reli built hear held purchas des...</td>\n",
       "      <td>outsid long care fairli ahead exactli seemingl...</td>\n",
       "      <td>gener licens wide gener last daili big loud so...</td>\n",
       "      <td>This is the effect fireworks can have on a dog...</td>\n",
       "      <td>This is the effect fireworks can have on a dog...</td>\n",
       "    </tr>\n",
       "    <tr>\n",
       "      <th>1</th>\n",
       "      <td>374</td>\n",
       "      <td>1165822705037217792</td>\n",
       "      <td>Cars Are Death Machines. Self-Driving Tech Won...</td>\n",
       "      <td>Please RT if you, or someone you know, has bee...</td>\n",
       "      <td>17.0</td>\n",
       "      <td>NaN</td>\n",
       "      <td>aarieff realdonaldtrump ttmitch</td>\n",
       "      <td>yard hoboken nj washington yanke stadium long ...</td>\n",
       "      <td>car experi mobil panel daughter car yard aspha...</td>\n",
       "      <td>hit hit thrown end broken land save pass place...</td>\n",
       "      <td>badli recent straight right nearli nearli slow...</td>\n",
       "      <td>littl upcom catastroph oncom danger high small...</td>\n",
       "      <td>Please RT if you, or someone you know, has bee...</td>\n",
       "      <td>Please RT if you, or someone you know, has bee...</td>\n",
       "    </tr>\n",
       "  </tbody>\n",
       "</table>\n",
       "</div>"
      ],
      "text/plain": [
       "  rowid                RecID  \\\n",
       "0   155  1057291398880391170   \n",
       "1   374  1165822705037217792   \n",
       "\n",
       "                                            PubTitle  \\\n",
       "0   Could fireworks be restricted at Scottish homes?   \n",
       "1  Cars Are Death Machines. Self-Driving Tech Won...   \n",
       "\n",
       "                                              RecDoc countSupTweets  \\\n",
       "0  This is the effect fireworks can have on a dog...           45.0   \n",
       "1  Please RT if you, or someone you know, has bee...           17.0   \n",
       "\n",
       "              smrHashtags                                        smrMentions  \\\n",
       "0  banfireworks fireworks  neilmackay gamesshed didriksoderlind bbcradios...   \n",
       "1                     NaN                    aarieff realdonaldtrump ttmitch   \n",
       "\n",
       "                                              smrNER  \\\n",
       "0  juli timmi uk last night daili bob marley ub j...   \n",
       "1  yard hoboken nj washington yanke stadium long ...   \n",
       "\n",
       "                                            smrNouns  \\\n",
       "0  effect firework dog juli hors goat lot firewor...   \n",
       "1  car experi mobil panel daughter car yard aspha...   \n",
       "\n",
       "                                            smrVerbs  \\\n",
       "0  stand comfort reli built hear held purchas des...   \n",
       "1  hit hit thrown end broken land save pass place...   \n",
       "\n",
       "                                          smrAdverbs  \\\n",
       "0  outsid long care fairli ahead exactli seemingl...   \n",
       "1  badli recent straight right nearli nearli slow...   \n",
       "\n",
       "                                       smrAdjectives  \\\n",
       "0  gener licens wide gener last daili big loud so...   \n",
       "1  littl upcom catastroph oncom danger high small...   \n",
       "\n",
       "                                          smrTopText  \\\n",
       "0  This is the effect fireworks can have on a dog...   \n",
       "1  Please RT if you, or someone you know, has bee...   \n",
       "\n",
       "                                          smrSummary  \n",
       "0  This is the effect fireworks can have on a dog...  \n",
       "1  Please RT if you, or someone you know, has bee...  "
      ]
     },
     "execution_count": 12,
     "metadata": {},
     "output_type": "execute_result"
    }
   ],
   "source": [
    "df_CGT.head(2)"
   ]
  },
  {
   "cell_type": "code",
   "execution_count": 13,
   "id": "ecafbf3b-8501-4738-ac06-a43f31a59758",
   "metadata": {
    "tags": []
   },
   "outputs": [
    {
     "name": "stdout",
     "output_type": "stream",
     "text": [
      "Token list created successfully.\n"
     ]
    }
   ],
   "source": [
    "ExpName = \"Pass5_CGTNounAdv\"\n",
    "df_CGT_corpus = df_CGT['smrNouns'].fillna(value='') + df_CGT['smrAdverbs'].fillna(value='')\n",
    "data = df_CGT_corpus.str.split()\n",
    "data_words = data.values.tolist()\n",
    "print('Token list created successfully.')"
   ]
  },
  {
   "cell_type": "code",
   "execution_count": 14,
   "id": "844fae50-0001-4fb3-861c-4bcbb166db7e",
   "metadata": {
    "tags": []
   },
   "outputs": [
    {
     "name": "stdout",
     "output_type": "stream",
     "text": [
      "Word dictionary created successfully.\n"
     ]
    }
   ],
   "source": [
    "df_CGT_docs = df_CGT['RecID']\n",
    "id2word = corpora.Dictionary(data_words)\n",
    "print('Word dictionary created successfully.')"
   ]
  },
  {
   "cell_type": "code",
   "execution_count": 15,
   "id": "eef9698a-9ac8-406c-aa05-677788d9b9bc",
   "metadata": {
    "tags": []
   },
   "outputs": [
    {
     "name": "stdout",
     "output_type": "stream",
     "text": [
      "Term-Doc-Frequency created successfully.\n"
     ]
    }
   ],
   "source": [
    "# Term Document Frequency\n",
    "texts = data_words\n",
    "corpus = [id2word.doc2bow(text) for text in texts]\n",
    "print('Term-Doc-Frequency created successfully.')"
   ]
  },
  {
   "cell_type": "code",
   "execution_count": 16,
   "id": "ab6a3dbb-0d54-4552-892b-1aec3b9a65a2",
   "metadata": {
    "tags": []
   },
   "outputs": [
    {
     "data": {
      "text/plain": [
       "681"
      ]
     },
     "execution_count": 16,
     "metadata": {},
     "output_type": "execute_result"
    }
   ],
   "source": [
    "len(corpus)"
   ]
  },
  {
   "cell_type": "code",
   "execution_count": 17,
   "id": "084d68d1-8138-427a-b9d0-e2bd8d69e9bd",
   "metadata": {
    "tags": []
   },
   "outputs": [
    {
     "name": "stdout",
     "output_type": "stream",
     "text": [
      "Building LDA model...\n",
      "LDA model created successfully.\n",
      "[(0,\n",
      "  '0.033*\"peopl\" + 0.013*\"trump\" + 0.013*\"tax\" + 0.011*\"coffe\" + 0.011*\"berni\" '\n",
      "  '+ 0.010*\"space\" + 0.008*\"money\" + 0.007*\"campaign\" + 0.006*\"job\" + '\n",
      "  '0.006*\"dongcot\"'),\n",
      " (1,\n",
      "  '0.011*\"fy\" + 0.010*\"book\" + 0.007*\"peopl\" + 0.006*\"guy\" + 0.006*\"work\" + '\n",
      "  '0.006*\"dog\" + 0.005*\"christma\" + 0.005*\"igcom\" + 0.005*\"anim\" + '\n",
      "  '0.005*\"itgco\"'),\n",
      " (2,\n",
      "  '0.045*\"china\" + 0.021*\"sport\" + 0.020*\"shoot\" + 0.014*\"deadspin\" + '\n",
      "  '0.014*\"chines\" + 0.010*\"hong\" + 0.009*\"wuhan\" + 0.009*\"kong\" + 0.008*\"nba\" '\n",
      "  '+ 0.008*\"freedom\"'),\n",
      " (3,\n",
      "  '0.012*\"liverpool\" + 0.011*\"bridg\" + 0.010*\"youth\" + 0.010*\"pun\" + '\n",
      "  '0.009*\"latinx\" + 0.008*\"toast\" + 0.007*\"vendor\" + 0.006*\"champion\" + '\n",
      "  '0.006*\"batman\" + 0.005*\"yahoo\"'),\n",
      " (4,\n",
      "  '0.004*\"bellami\" + 0.001*\"faeogi\" + 0.000*\"humpback\" + 0.000*\"fkin\" + '\n",
      "  '0.000*\"sadcertainli\" + 0.000*\"motionless\" + 0.000*\"whale\" + '\n",
      "  '0.000*\"greenhith\" + 0.000*\"hike\" + 0.000*\"hitch\"'),\n",
      " (5,\n",
      "  '0.021*\"peopl\" + 0.010*\"countri\" + 0.009*\"trump\" + 0.008*\"right\" + '\n",
      "  '0.008*\"law\" + 0.006*\"man\" + 0.005*\"state\" + 0.005*\"offic\" + 0.005*\"parti\" + '\n",
      "  '0.005*\"presid\"'),\n",
      " (6,\n",
      "  '0.021*\"turkey\" + 0.019*\"thanksgiv\" + 0.007*\"golf\" + 0.004*\"missil\" + '\n",
      "  '0.003*\"gigi\" + 0.003*\"fyefyefyefy\" + 0.002*\"provid\" + 0.002*\"beagl\" + '\n",
      "  '0.002*\"savior\" + 0.002*\"bow\"'),\n",
      " (7,\n",
      "  '0.032*\"son\" + 0.028*\"congratul\" + 0.028*\"david\" + 0.027*\"mom\" + '\n",
      "  '0.020*\"famili\" + 0.019*\"gy\" + 0.014*\"fc\" + 0.013*\"dad\" + 0.012*\"afc\" + '\n",
      "  '0.012*\"fcafc\"'),\n",
      " (8,\n",
      "  '0.038*\"peopl\" + 0.018*\"food\" + 0.017*\"famili\" + 0.016*\"love\" + '\n",
      "  '0.015*\"school\" + 0.014*\"life\" + 0.012*\"igcom\" + 0.011*\"child\" + '\n",
      "  '0.011*\"friend\" + 0.009*\"dongcot\"'),\n",
      " (9,\n",
      "  '0.028*\"fc\" + 0.017*\"nasa\" + 0.014*\"india\" + 0.012*\"anc\" + 0.011*\"earthquak\" '\n",
      "  '+ 0.010*\"anoan\" + 0.010*\"cheetah\" + 0.008*\"anian\" + 0.007*\"indian\" + '\n",
      "  '0.007*\"space\"')]\n"
     ]
    }
   ],
   "source": [
    "#Build LDA model\n",
    "print('Building LDA model...')\n",
    "lda_model = gensim.models.ldamodel.LdaModel(corpus=corpus,\n",
    "                                           id2word=id2word,  \n",
    "                                           num_topics=10,\n",
    "                                           random_state=100,\n",
    "                                           update_every=1,\n",
    "                                           chunksize=100,\n",
    "                                           passes=10,\n",
    "                                           alpha='auto',\n",
    "                                           per_word_topics=True)\n",
    "\n",
    "# Print the Keyword in the 12 topics\n",
    "print('LDA model created successfully.')\n",
    "pprint(lda_model.print_topics())\n",
    "doc_lda = lda_model[corpus]"
   ]
  },
  {
   "cell_type": "code",
   "execution_count": 27,
   "id": "a7fb3291-361b-4323-811e-1b503fb23b86",
   "metadata": {
    "tags": []
   },
   "outputs": [
    {
     "name": "stdout",
     "output_type": "stream",
     "text": [
      "Generating performance scores for Pass5_CGTNounAdv\n",
      "\n",
      "Perplexity: -8.98\n",
      "\n",
      "Coherence Score: 0.39\n"
     ]
    }
   ],
   "source": [
    "print('Generating performance scores for '+ExpName)\n",
    "# Compute Perplexity\n",
    "perplex_lda = lda_model.log_perplexity(corpus)\n",
    "print('\\nPerplexity: {:.2f}'.format(perplex_lda))  # a measure of how good the model is. lower the better.\n",
    "\n",
    "# Compute Coherence Score\n",
    "coherence_model_lda = CoherenceModel(model=lda_model, texts=texts, dictionary=id2word, coherence='c_v')\n",
    "coherence_lda = coherence_model_lda.get_coherence()\n",
    "print('\\nCoherence Score: {:.2f}'.format(coherence_lda))"
   ]
  },
  {
   "cell_type": "code",
   "execution_count": 18,
   "id": "c5d4d026-1017-40eb-a820-4a32233de460",
   "metadata": {
    "tags": []
   },
   "outputs": [
    {
     "name": "stderr",
     "output_type": "stream",
     "text": [
      "C:\\Users\\kazeem\\anaconda3\\envs\\py38\\lib\\site-packages\\pyLDAvis\\_prepare.py:246: FutureWarning: In a future version of pandas all arguments of DataFrame.drop except for the argument 'labels' will be keyword-only.\n",
      "  default_term_info = default_term_info.sort_values(\n"
     ]
    }
   ],
   "source": [
    "# Got error, had to downgrade pandas to version 1.5.3 see: https://github.com/bmabey/pyLDAvis/issues/247\n",
    "# Decided to set versions for all modules, use: Py38_Modules_w_versions.ipynb\n",
    "vis = pyLDAvis.gensim_models.prepare(lda_model, corpus, id2word, mds='mmds', sort_topics=False) #)#, mds='tsne'\n",
    "pyLDAvis.save_html(vis, 'lda_tsne_'+ExpName+'.html')"
   ]
  },
  {
   "cell_type": "code",
   "execution_count": 19,
   "id": "2f557811-a84d-4bff-8766-abbb956a6c14",
   "metadata": {
    "tags": []
   },
   "outputs": [],
   "source": [
    "# generate doc-topics lists\n",
    "doc_topic = lda_model.get_document_topics(corpus, minimum_probability=0.1)"
   ]
  },
  {
   "cell_type": "code",
   "execution_count": 20,
   "id": "4425d28e-6f87-4444-8bdf-d57243c8a3b5",
   "metadata": {
    "tags": []
   },
   "outputs": [],
   "source": [
    "i = 0\n",
    "docs=[]\n",
    "topics=[]\n",
    "scores=[]\n",
    "for doc in doc_topic:\n",
    "    doc_id = df_CGT_docs.iloc[i]\n",
    "    i = i+1\n",
    "    #if i>5: break\n",
    "    for topic_id, score in doc:\n",
    "        #print(doc_id, topic_id, score)\n",
    "        scores.append(score)\n",
    "        topics.append(topic_id+1)\n",
    "        docs.append(doc_id)"
   ]
  },
  {
   "cell_type": "code",
   "execution_count": 21,
   "id": "27ede7c9-dcc7-444d-920a-82186a1f0b76",
   "metadata": {
    "tags": []
   },
   "outputs": [],
   "source": [
    "df_doc_topic = pd.DataFrame({'RecID': docs, 'TopicID': topics, 'TopicScore': scores})"
   ]
  },
  {
   "cell_type": "code",
   "execution_count": 22,
   "id": "a7a9fd1a-6bee-4cfe-b6a5-f8591fdfd9dd",
   "metadata": {
    "tags": []
   },
   "outputs": [
    {
     "data": {
      "text/html": [
       "<div>\n",
       "<style scoped>\n",
       "    .dataframe tbody tr th:only-of-type {\n",
       "        vertical-align: middle;\n",
       "    }\n",
       "\n",
       "    .dataframe tbody tr th {\n",
       "        vertical-align: top;\n",
       "    }\n",
       "\n",
       "    .dataframe thead th {\n",
       "        text-align: right;\n",
       "    }\n",
       "</style>\n",
       "<table border=\"1\" class=\"dataframe\">\n",
       "  <thead>\n",
       "    <tr style=\"text-align: right;\">\n",
       "      <th></th>\n",
       "      <th>RecID</th>\n",
       "      <th>TopicID</th>\n",
       "      <th>TopicScore</th>\n",
       "    </tr>\n",
       "  </thead>\n",
       "  <tbody>\n",
       "    <tr>\n",
       "      <th>0</th>\n",
       "      <td>1057291398880391170</td>\n",
       "      <td>2</td>\n",
       "      <td>0.948927</td>\n",
       "    </tr>\n",
       "    <tr>\n",
       "      <th>1</th>\n",
       "      <td>1165822705037217792</td>\n",
       "      <td>2</td>\n",
       "      <td>0.866018</td>\n",
       "    </tr>\n",
       "    <tr>\n",
       "      <th>2</th>\n",
       "      <td>1174449406172491776</td>\n",
       "      <td>2</td>\n",
       "      <td>0.936766</td>\n",
       "    </tr>\n",
       "    <tr>\n",
       "      <th>3</th>\n",
       "      <td>1177796393349603328</td>\n",
       "      <td>2</td>\n",
       "      <td>0.282757</td>\n",
       "    </tr>\n",
       "    <tr>\n",
       "      <th>4</th>\n",
       "      <td>1177796393349603328</td>\n",
       "      <td>6</td>\n",
       "      <td>0.324031</td>\n",
       "    </tr>\n",
       "    <tr>\n",
       "      <th>...</th>\n",
       "      <td>...</td>\n",
       "      <td>...</td>\n",
       "      <td>...</td>\n",
       "    </tr>\n",
       "    <tr>\n",
       "      <th>1753</th>\n",
       "      <td>1222691732912869376</td>\n",
       "      <td>2</td>\n",
       "      <td>0.270219</td>\n",
       "    </tr>\n",
       "    <tr>\n",
       "      <th>1754</th>\n",
       "      <td>1222691732912869376</td>\n",
       "      <td>6</td>\n",
       "      <td>0.117748</td>\n",
       "    </tr>\n",
       "    <tr>\n",
       "      <th>1755</th>\n",
       "      <td>1223039083112517632</td>\n",
       "      <td>1</td>\n",
       "      <td>0.386498</td>\n",
       "    </tr>\n",
       "    <tr>\n",
       "      <th>1756</th>\n",
       "      <td>1223039083112517632</td>\n",
       "      <td>2</td>\n",
       "      <td>0.106632</td>\n",
       "    </tr>\n",
       "    <tr>\n",
       "      <th>1757</th>\n",
       "      <td>1223039083112517632</td>\n",
       "      <td>6</td>\n",
       "      <td>0.411593</td>\n",
       "    </tr>\n",
       "  </tbody>\n",
       "</table>\n",
       "<p>1758 rows × 3 columns</p>\n",
       "</div>"
      ],
      "text/plain": [
       "                    RecID  TopicID  TopicScore\n",
       "0     1057291398880391170        2    0.948927\n",
       "1     1165822705037217792        2    0.866018\n",
       "2     1174449406172491776        2    0.936766\n",
       "3     1177796393349603328        2    0.282757\n",
       "4     1177796393349603328        6    0.324031\n",
       "...                   ...      ...         ...\n",
       "1753  1222691732912869376        2    0.270219\n",
       "1754  1222691732912869376        6    0.117748\n",
       "1755  1223039083112517632        1    0.386498\n",
       "1756  1223039083112517632        2    0.106632\n",
       "1757  1223039083112517632        6    0.411593\n",
       "\n",
       "[1758 rows x 3 columns]"
      ]
     },
     "execution_count": 22,
     "metadata": {},
     "output_type": "execute_result"
    }
   ],
   "source": [
    "df_doc_topic"
   ]
  },
  {
   "cell_type": "code",
   "execution_count": 23,
   "id": "55c77b5f-a40a-49f9-b059-d0b778728913",
   "metadata": {
    "tags": []
   },
   "outputs": [
    {
     "data": {
      "text/html": [
       "<div>\n",
       "<style scoped>\n",
       "    .dataframe tbody tr th:only-of-type {\n",
       "        vertical-align: middle;\n",
       "    }\n",
       "\n",
       "    .dataframe tbody tr th {\n",
       "        vertical-align: top;\n",
       "    }\n",
       "\n",
       "    .dataframe thead th {\n",
       "        text-align: right;\n",
       "    }\n",
       "</style>\n",
       "<table border=\"1\" class=\"dataframe\">\n",
       "  <thead>\n",
       "    <tr style=\"text-align: right;\">\n",
       "      <th></th>\n",
       "      <th>RecID</th>\n",
       "      <th>TopicScore</th>\n",
       "    </tr>\n",
       "    <tr>\n",
       "      <th>TopicID</th>\n",
       "      <th></th>\n",
       "      <th></th>\n",
       "    </tr>\n",
       "  </thead>\n",
       "  <tbody>\n",
       "    <tr>\n",
       "      <th>1</th>\n",
       "      <td>260</td>\n",
       "      <td>260</td>\n",
       "    </tr>\n",
       "    <tr>\n",
       "      <th>2</th>\n",
       "      <td>552</td>\n",
       "      <td>552</td>\n",
       "    </tr>\n",
       "    <tr>\n",
       "      <th>3</th>\n",
       "      <td>30</td>\n",
       "      <td>30</td>\n",
       "    </tr>\n",
       "    <tr>\n",
       "      <th>4</th>\n",
       "      <td>7</td>\n",
       "      <td>7</td>\n",
       "    </tr>\n",
       "    <tr>\n",
       "      <th>5</th>\n",
       "      <td>1</td>\n",
       "      <td>1</td>\n",
       "    </tr>\n",
       "    <tr>\n",
       "      <th>6</th>\n",
       "      <td>557</td>\n",
       "      <td>557</td>\n",
       "    </tr>\n",
       "    <tr>\n",
       "      <th>7</th>\n",
       "      <td>4</td>\n",
       "      <td>4</td>\n",
       "    </tr>\n",
       "    <tr>\n",
       "      <th>8</th>\n",
       "      <td>33</td>\n",
       "      <td>33</td>\n",
       "    </tr>\n",
       "    <tr>\n",
       "      <th>9</th>\n",
       "      <td>272</td>\n",
       "      <td>272</td>\n",
       "    </tr>\n",
       "    <tr>\n",
       "      <th>10</th>\n",
       "      <td>42</td>\n",
       "      <td>42</td>\n",
       "    </tr>\n",
       "  </tbody>\n",
       "</table>\n",
       "</div>"
      ],
      "text/plain": [
       "         RecID  TopicScore\n",
       "TopicID                   \n",
       "1          260         260\n",
       "2          552         552\n",
       "3           30          30\n",
       "4            7           7\n",
       "5            1           1\n",
       "6          557         557\n",
       "7            4           4\n",
       "8           33          33\n",
       "9          272         272\n",
       "10          42          42"
      ]
     },
     "execution_count": 23,
     "metadata": {},
     "output_type": "execute_result"
    }
   ],
   "source": [
    "df_doc_topic.groupby(by='TopicID').count()"
   ]
  },
  {
   "cell_type": "code",
   "execution_count": 24,
   "id": "5ed2abd6-e500-44aa-9063-f4780cfad943",
   "metadata": {
    "tags": []
   },
   "outputs": [],
   "source": [
    "df_doc_topic.to_csv('data/GTxM_Pass5/CGT/lda_doc_topic_all_'+ExpName+'.csv')"
   ]
  },
  {
   "cell_type": "code",
   "execution_count": 25,
   "id": "7eea08d3-7982-4417-a7af-e36f2954b117",
   "metadata": {
    "tags": []
   },
   "outputs": [
    {
     "data": {
      "text/plain": [
       "681"
      ]
     },
     "execution_count": 25,
     "metadata": {},
     "output_type": "execute_result"
    }
   ],
   "source": [
    "df_doc_topic_nodup = df_doc_topic.sort_values(['TopicScore'], ascending=(False)).drop_duplicates(['RecID'])\n",
    "len(df_doc_topic_nodup)"
   ]
  },
  {
   "cell_type": "code",
   "execution_count": 26,
   "id": "e1b20db9-7622-4068-8dab-c02d53b9de0d",
   "metadata": {
    "tags": []
   },
   "outputs": [],
   "source": [
    "df_doc_topic_nodup.to_csv('data/GTxM_Pass5/CGT/lda_doc_dominant_topic_'+ExpName+'.csv', index=False)"
   ]
  },
  {
   "cell_type": "code",
   "execution_count": 27,
   "id": "e2687de0-7cd2-4d7b-bb82-7133f8b80059",
   "metadata": {
    "tags": []
   },
   "outputs": [
    {
     "data": {
      "text/plain": [
       "[1, 2, 3, 4, 6, 8, 9, 10]"
      ]
     },
     "execution_count": 27,
     "metadata": {},
     "output_type": "execute_result"
    }
   ],
   "source": [
    "topics_ndarray = df_doc_topic_nodup.TopicID.unique()\n",
    "topic_list =sorted(topics_ndarray)\n",
    "listTopicID = list(set(df_doc_topic_nodup['TopicID'].tolist())) # get the unique list of Topic IDs\n",
    "listTopicID"
   ]
  },
  {
   "cell_type": "code",
   "execution_count": 28,
   "id": "f1d60c26-21f1-4b12-bdb3-4cd75da15641",
   "metadata": {
    "tags": []
   },
   "outputs": [
    {
     "name": "stdout",
     "output_type": "stream",
     "text": [
      "0 1 75 15\n",
      "1 2 265 20\n",
      "2 3 4 1\n",
      "3 4 2 0\n",
      "4 6 257 20\n",
      "5 8 7 1\n",
      "6 9 51 10\n",
      "7 10 20 4\n"
     ]
    }
   ],
   "source": [
    "# Select top 20%, upto 20 items max of each Topic\n",
    "df_doc_topic_top20pcent = pd.DataFrame(columns=['RecID', 'TopicID', 'TopicScore'])\n",
    "i=0\n",
    "for i in range(len(listTopicID)):\n",
    "    df_temp = df_doc_topic_nodup[(df_doc_topic_nodup.TopicID == listTopicID[i])]\n",
    "    topic_items = len(df_temp)\n",
    "    #if len(df_temp) > 9:\n",
    "    topic20pc_items = round(len(df_temp)/5)\n",
    "    if topic20pc_items > 20: #max 20 items\n",
    "        topic20pc_items = 20\n",
    "    df_temp = df_temp.head(topic20pc_items)\n",
    "    df_doc_topic_top20pcent = pd.concat([df_doc_topic_top20pcent, df_temp])\n",
    "    print(i, listTopicID[i], topic_items, topic20pc_items)"
   ]
  },
  {
   "cell_type": "code",
   "execution_count": 29,
   "id": "33271eb2-7885-413c-b602-6358dde2b081",
   "metadata": {
    "tags": []
   },
   "outputs": [
    {
     "data": {
      "text/html": [
       "<div>\n",
       "<style scoped>\n",
       "    .dataframe tbody tr th:only-of-type {\n",
       "        vertical-align: middle;\n",
       "    }\n",
       "\n",
       "    .dataframe tbody tr th {\n",
       "        vertical-align: top;\n",
       "    }\n",
       "\n",
       "    .dataframe thead th {\n",
       "        text-align: right;\n",
       "    }\n",
       "</style>\n",
       "<table border=\"1\" class=\"dataframe\">\n",
       "  <thead>\n",
       "    <tr style=\"text-align: right;\">\n",
       "      <th></th>\n",
       "      <th>RecID</th>\n",
       "      <th>TopicID</th>\n",
       "      <th>TopicScore</th>\n",
       "    </tr>\n",
       "  </thead>\n",
       "  <tbody>\n",
       "    <tr>\n",
       "      <th>481</th>\n",
       "      <td>1189651968979025920</td>\n",
       "      <td>1</td>\n",
       "      <td>0.894049</td>\n",
       "    </tr>\n",
       "    <tr>\n",
       "      <th>153</th>\n",
       "      <td>1182030910671204353</td>\n",
       "      <td>1</td>\n",
       "      <td>0.828340</td>\n",
       "    </tr>\n",
       "    <tr>\n",
       "      <th>31</th>\n",
       "      <td>1179740913771405313</td>\n",
       "      <td>1</td>\n",
       "      <td>0.779122</td>\n",
       "    </tr>\n",
       "    <tr>\n",
       "      <th>740</th>\n",
       "      <td>1196553520201248768</td>\n",
       "      <td>1</td>\n",
       "      <td>0.734689</td>\n",
       "    </tr>\n",
       "    <tr>\n",
       "      <th>287</th>\n",
       "      <td>1184269805219733504</td>\n",
       "      <td>1</td>\n",
       "      <td>0.724936</td>\n",
       "    </tr>\n",
       "    <tr>\n",
       "      <th>...</th>\n",
       "      <td>...</td>\n",
       "      <td>...</td>\n",
       "      <td>...</td>\n",
       "    </tr>\n",
       "    <tr>\n",
       "      <th>785</th>\n",
       "      <td>1197994951771951105</td>\n",
       "      <td>9</td>\n",
       "      <td>0.703444</td>\n",
       "    </tr>\n",
       "    <tr>\n",
       "      <th>1275</th>\n",
       "      <td>1213840375380447233</td>\n",
       "      <td>10</td>\n",
       "      <td>0.764998</td>\n",
       "    </tr>\n",
       "    <tr>\n",
       "      <th>245</th>\n",
       "      <td>1183637409608552448</td>\n",
       "      <td>10</td>\n",
       "      <td>0.661296</td>\n",
       "    </tr>\n",
       "    <tr>\n",
       "      <th>818</th>\n",
       "      <td>1198921926371995648</td>\n",
       "      <td>10</td>\n",
       "      <td>0.655669</td>\n",
       "    </tr>\n",
       "    <tr>\n",
       "      <th>971</th>\n",
       "      <td>1202455037718384640</td>\n",
       "      <td>10</td>\n",
       "      <td>0.652860</td>\n",
       "    </tr>\n",
       "  </tbody>\n",
       "</table>\n",
       "<p>71 rows × 3 columns</p>\n",
       "</div>"
      ],
      "text/plain": [
       "                    RecID TopicID  TopicScore\n",
       "481   1189651968979025920       1    0.894049\n",
       "153   1182030910671204353       1    0.828340\n",
       "31    1179740913771405313       1    0.779122\n",
       "740   1196553520201248768       1    0.734689\n",
       "287   1184269805219733504       1    0.724936\n",
       "...                   ...     ...         ...\n",
       "785   1197994951771951105       9    0.703444\n",
       "1275  1213840375380447233      10    0.764998\n",
       "245   1183637409608552448      10    0.661296\n",
       "818   1198921926371995648      10    0.655669\n",
       "971   1202455037718384640      10    0.652860\n",
       "\n",
       "[71 rows x 3 columns]"
      ]
     },
     "execution_count": 29,
     "metadata": {},
     "output_type": "execute_result"
    }
   ],
   "source": [
    "df_doc_topic_top20pcent"
   ]
  },
  {
   "cell_type": "code",
   "execution_count": 30,
   "id": "da8a7668-80e7-4d59-8ce1-77e9b7ea4a1e",
   "metadata": {
    "tags": []
   },
   "outputs": [],
   "source": [
    "df_doc_topic_top20pcent.to_csv('data/GTxM_Pass5/CGT/lda_doc_topic_top20pct_'+ExpName+'.csv', index=False)"
   ]
  },
  {
   "cell_type": "code",
   "execution_count": 31,
   "id": "e96b7dca-1299-4c94-b669-ce2e6b32846a",
   "metadata": {
    "tags": []
   },
   "outputs": [
    {
     "data": {
      "text/html": [
       "<div>\n",
       "<style scoped>\n",
       "    .dataframe tbody tr th:only-of-type {\n",
       "        vertical-align: middle;\n",
       "    }\n",
       "\n",
       "    .dataframe tbody tr th {\n",
       "        vertical-align: top;\n",
       "    }\n",
       "\n",
       "    .dataframe thead th {\n",
       "        text-align: right;\n",
       "    }\n",
       "</style>\n",
       "<table border=\"1\" class=\"dataframe\">\n",
       "  <thead>\n",
       "    <tr style=\"text-align: right;\">\n",
       "      <th></th>\n",
       "      <th>RecID</th>\n",
       "      <th>TopicScore</th>\n",
       "    </tr>\n",
       "    <tr>\n",
       "      <th>TopicID</th>\n",
       "      <th></th>\n",
       "      <th></th>\n",
       "    </tr>\n",
       "  </thead>\n",
       "  <tbody>\n",
       "    <tr>\n",
       "      <th>1</th>\n",
       "      <td>15</td>\n",
       "      <td>15</td>\n",
       "    </tr>\n",
       "    <tr>\n",
       "      <th>2</th>\n",
       "      <td>20</td>\n",
       "      <td>20</td>\n",
       "    </tr>\n",
       "    <tr>\n",
       "      <th>3</th>\n",
       "      <td>1</td>\n",
       "      <td>1</td>\n",
       "    </tr>\n",
       "    <tr>\n",
       "      <th>6</th>\n",
       "      <td>20</td>\n",
       "      <td>20</td>\n",
       "    </tr>\n",
       "    <tr>\n",
       "      <th>8</th>\n",
       "      <td>1</td>\n",
       "      <td>1</td>\n",
       "    </tr>\n",
       "    <tr>\n",
       "      <th>9</th>\n",
       "      <td>10</td>\n",
       "      <td>10</td>\n",
       "    </tr>\n",
       "    <tr>\n",
       "      <th>10</th>\n",
       "      <td>4</td>\n",
       "      <td>4</td>\n",
       "    </tr>\n",
       "  </tbody>\n",
       "</table>\n",
       "</div>"
      ],
      "text/plain": [
       "         RecID  TopicScore\n",
       "TopicID                   \n",
       "1           15          15\n",
       "2           20          20\n",
       "3            1           1\n",
       "6           20          20\n",
       "8            1           1\n",
       "9           10          10\n",
       "10           4           4"
      ]
     },
     "execution_count": 31,
     "metadata": {},
     "output_type": "execute_result"
    }
   ],
   "source": [
    "df_doc_topic_top20pcent.groupby(by='TopicID').count()"
   ]
  },
  {
   "cell_type": "markdown",
   "id": "893959e0-9a89-43b1-b757-0c5c4dba628c",
   "metadata": {
    "tags": []
   },
   "source": [
    "### CGT Step 2: Pattern Refinement"
   ]
  },
  {
   "cell_type": "code",
   "execution_count": 4,
   "id": "404f94af-c984-4c2a-8c16-fbfab030f9b0",
   "metadata": {
    "tags": []
   },
   "outputs": [
    {
     "data": {
      "text/plain": [
       "(71, 2385)"
      ]
     },
     "execution_count": 4,
     "metadata": {},
     "output_type": "execute_result"
    }
   ],
   "source": [
    "# Load Pass 5 JatoClassified after deep reading\n",
    "df_lda_dread = pd.read_csv('D:/KOPro/PhD/Implementation/SourceCode/jatoDR_Pass5/genTopics/lda_doc_topic_top20pct_Pass5_CGTNounAdv.csv', dtype='str')\n",
    "df_jato_dread = pd.read_csv('D:/KOPro/PhD/Implementation/SourceCode/jatoDR_Pass5/data/JatoClassified_Pass5DR.csv', dtype='str')\n",
    "len(df_lda_dread), len(df_jato_dread)"
   ]
  },
  {
   "cell_type": "code",
   "execution_count": 5,
   "id": "c62beae5-69c7-47d6-906e-66f3cbbe7a59",
   "metadata": {
    "tags": []
   },
   "outputs": [],
   "source": [
    "df_dread = pd.merge(df_lda_dread,df_jato_dread, on='RecID')"
   ]
  },
  {
   "cell_type": "code",
   "execution_count": 6,
   "id": "fff6cb5a-a34b-49f5-9e68-dcfd1ccb4f1c",
   "metadata": {
    "tags": []
   },
   "outputs": [
    {
     "data": {
      "text/html": [
       "<div>\n",
       "<style scoped>\n",
       "    .dataframe tbody tr th:only-of-type {\n",
       "        vertical-align: middle;\n",
       "    }\n",
       "\n",
       "    .dataframe tbody tr th {\n",
       "        vertical-align: top;\n",
       "    }\n",
       "\n",
       "    .dataframe thead th {\n",
       "        text-align: right;\n",
       "    }\n",
       "</style>\n",
       "<table border=\"1\" class=\"dataframe\">\n",
       "  <thead>\n",
       "    <tr style=\"text-align: right;\">\n",
       "      <th></th>\n",
       "      <th>RecID</th>\n",
       "      <th>TopicID</th>\n",
       "      <th>TopicScore</th>\n",
       "      <th>rowid</th>\n",
       "      <th>SavedDataTime</th>\n",
       "      <th>JatoCat</th>\n",
       "      <th>JatoSubCat</th>\n",
       "      <th>JatoCat2</th>\n",
       "      <th>JatoSubCat2</th>\n",
       "      <th>JatoCat3</th>\n",
       "      <th>JatoSubCat3</th>\n",
       "      <th>NewRecClass</th>\n",
       "      <th>GTCodes</th>\n",
       "      <th>NewsPubCat</th>\n",
       "    </tr>\n",
       "  </thead>\n",
       "  <tbody>\n",
       "    <tr>\n",
       "      <th>0</th>\n",
       "      <td>1189651968979025920</td>\n",
       "      <td>1</td>\n",
       "      <td>0.89404905</td>\n",
       "      <td>1546</td>\n",
       "      <td>2023:07:20 12:21:31</td>\n",
       "      <td>Political</td>\n",
       "      <td>Debate</td>\n",
       "      <td>NaN</td>\n",
       "      <td>NaN</td>\n",
       "      <td>NaN</td>\n",
       "      <td>NaN</td>\n",
       "      <td>Mix of Business and Politics</td>\n",
       "      <td>NaN</td>\n",
       "      <td>Unknown</td>\n",
       "    </tr>\n",
       "    <tr>\n",
       "      <th>1</th>\n",
       "      <td>1182030910671204353</td>\n",
       "      <td>1</td>\n",
       "      <td>0.8283404</td>\n",
       "      <td>835</td>\n",
       "      <td>2023:07:20 11:58:37</td>\n",
       "      <td>Business</td>\n",
       "      <td>Complaint</td>\n",
       "      <td>NaN</td>\n",
       "      <td>NaN</td>\n",
       "      <td>NaN</td>\n",
       "      <td>NaN</td>\n",
       "      <td>Mix of Politics and Business</td>\n",
       "      <td>NaN</td>\n",
       "      <td>Unknown</td>\n",
       "    </tr>\n",
       "  </tbody>\n",
       "</table>\n",
       "</div>"
      ],
      "text/plain": [
       "                 RecID TopicID  TopicScore rowid        SavedDataTime  \\\n",
       "0  1189651968979025920       1  0.89404905  1546  2023:07:20 12:21:31   \n",
       "1  1182030910671204353       1   0.8283404   835  2023:07:20 11:58:37   \n",
       "\n",
       "     JatoCat JatoSubCat JatoCat2 JatoSubCat2 JatoCat3 JatoSubCat3  \\\n",
       "0  Political     Debate      NaN         NaN      NaN         NaN   \n",
       "1   Business  Complaint      NaN         NaN      NaN         NaN   \n",
       "\n",
       "                    NewRecClass GTCodes NewsPubCat  \n",
       "0  Mix of Business and Politics     NaN    Unknown  \n",
       "1  Mix of Politics and Business     NaN    Unknown  "
      ]
     },
     "execution_count": 6,
     "metadata": {},
     "output_type": "execute_result"
    }
   ],
   "source": [
    "df_dread.head(2)"
   ]
  },
  {
   "cell_type": "code",
   "execution_count": 7,
   "id": "88d9b0f0-73eb-4b61-8729-6b6a2018a9aa",
   "metadata": {
    "tags": []
   },
   "outputs": [
    {
     "data": {
      "text/plain": [
       "71"
      ]
     },
     "execution_count": 7,
     "metadata": {},
     "output_type": "execute_result"
    }
   ],
   "source": [
    "df_dread.drop(['TopicID','TopicScore','rowid','SavedDataTime','JatoCat','JatoSubCat','JatoCat2','JatoSubCat2','JatoCat3','JatoSubCat3','NewRecClass','GTCodes'], axis=1, inplace=True)\n",
    "len(df_dread)"
   ]
  },
  {
   "cell_type": "code",
   "execution_count": 8,
   "id": "1dcdf3d4-b0c0-4c89-b8a3-75380d35a87f",
   "metadata": {
    "tags": []
   },
   "outputs": [
    {
     "data": {
      "text/plain": [
       "NewsPubCat\n",
       "Entertainment      3\n",
       "Environmental      4\n",
       "Health             2\n",
       "Human Rights       4\n",
       "Law and Order      3\n",
       "Obituary           3\n",
       "Social Stories     7\n",
       "Sports             2\n",
       "Travel             2\n",
       "UK Politics        8\n",
       "USA Politics       6\n",
       "Unknown           21\n",
       "World Politics     6\n",
       "dtype: int64"
      ]
     },
     "execution_count": 8,
     "metadata": {},
     "output_type": "execute_result"
    }
   ],
   "source": [
    "df_dread.groupby(['NewsPubCat']).size()"
   ]
  },
  {
   "cell_type": "code",
   "execution_count": 9,
   "id": "dd862a04-212e-4c82-ad00-86743c528c92",
   "metadata": {
    "tags": []
   },
   "outputs": [],
   "source": [
    "df_dread.rename(columns={'NewsPubCat': 'Label'}, inplace=True)"
   ]
  },
  {
   "cell_type": "code",
   "execution_count": 10,
   "id": "ad67003f-9283-4f63-b279-8e50c2ee35ae",
   "metadata": {
    "tags": []
   },
   "outputs": [
    {
     "data": {
      "text/html": [
       "<div>\n",
       "<style scoped>\n",
       "    .dataframe tbody tr th:only-of-type {\n",
       "        vertical-align: middle;\n",
       "    }\n",
       "\n",
       "    .dataframe tbody tr th {\n",
       "        vertical-align: top;\n",
       "    }\n",
       "\n",
       "    .dataframe thead th {\n",
       "        text-align: right;\n",
       "    }\n",
       "</style>\n",
       "<table border=\"1\" class=\"dataframe\">\n",
       "  <thead>\n",
       "    <tr style=\"text-align: right;\">\n",
       "      <th></th>\n",
       "      <th>RecID</th>\n",
       "      <th>Label</th>\n",
       "    </tr>\n",
       "  </thead>\n",
       "  <tbody>\n",
       "    <tr>\n",
       "      <th>0</th>\n",
       "      <td>1189651968979025920</td>\n",
       "      <td>Unknown</td>\n",
       "    </tr>\n",
       "    <tr>\n",
       "      <th>1</th>\n",
       "      <td>1182030910671204353</td>\n",
       "      <td>Unknown</td>\n",
       "    </tr>\n",
       "  </tbody>\n",
       "</table>\n",
       "</div>"
      ],
      "text/plain": [
       "                 RecID    Label\n",
       "0  1189651968979025920  Unknown\n",
       "1  1182030910671204353  Unknown"
      ]
     },
     "execution_count": 10,
     "metadata": {},
     "output_type": "execute_result"
    }
   ],
   "source": [
    "df_dread.head(2)"
   ]
  },
  {
   "cell_type": "code",
   "execution_count": 11,
   "id": "85b10369-477b-491a-84f2-d1a9456de965",
   "metadata": {
    "tags": []
   },
   "outputs": [],
   "source": [
    "# Use the labels list from Pass 4 since there is no change in Pass 5\n",
    "Labels_Targets = pd.read_csv('data/GTxM_Pass4/Labels_Targets_CGTPass4.csv')"
   ]
  },
  {
   "cell_type": "code",
   "execution_count": 12,
   "id": "3fbc4943-5420-4247-8db9-04cb9fb9b8a4",
   "metadata": {
    "tags": []
   },
   "outputs": [
    {
     "data": {
      "text/html": [
       "<div>\n",
       "<style scoped>\n",
       "    .dataframe tbody tr th:only-of-type {\n",
       "        vertical-align: middle;\n",
       "    }\n",
       "\n",
       "    .dataframe tbody tr th {\n",
       "        vertical-align: top;\n",
       "    }\n",
       "\n",
       "    .dataframe thead th {\n",
       "        text-align: right;\n",
       "    }\n",
       "</style>\n",
       "<table border=\"1\" class=\"dataframe\">\n",
       "  <thead>\n",
       "    <tr style=\"text-align: right;\">\n",
       "      <th></th>\n",
       "      <th>Target</th>\n",
       "      <th>Label</th>\n",
       "    </tr>\n",
       "  </thead>\n",
       "  <tbody>\n",
       "    <tr>\n",
       "      <th>0</th>\n",
       "      <td>1</td>\n",
       "      <td>Business</td>\n",
       "    </tr>\n",
       "    <tr>\n",
       "      <th>1</th>\n",
       "      <td>2</td>\n",
       "      <td>Entertainment</td>\n",
       "    </tr>\n",
       "  </tbody>\n",
       "</table>\n",
       "</div>"
      ],
      "text/plain": [
       "   Target          Label\n",
       "0       1       Business\n",
       "1       2  Entertainment"
      ]
     },
     "execution_count": 12,
     "metadata": {},
     "output_type": "execute_result"
    }
   ],
   "source": [
    "Labels_Targets.head(2)"
   ]
  },
  {
   "cell_type": "code",
   "execution_count": 13,
   "id": "8ac4d39a-cbbf-42d0-ab56-bcea5887bbb1",
   "metadata": {
    "tags": []
   },
   "outputs": [],
   "source": [
    "df_dread_Target = pd.merge(df_dread,Labels_Targets, on='Label', how='left')"
   ]
  },
  {
   "cell_type": "code",
   "execution_count": 14,
   "id": "f23a6f92-bcb8-43c3-965f-bed87cb7b994",
   "metadata": {
    "tags": []
   },
   "outputs": [
    {
     "data": {
      "text/html": [
       "<div>\n",
       "<style scoped>\n",
       "    .dataframe tbody tr th:only-of-type {\n",
       "        vertical-align: middle;\n",
       "    }\n",
       "\n",
       "    .dataframe tbody tr th {\n",
       "        vertical-align: top;\n",
       "    }\n",
       "\n",
       "    .dataframe thead th {\n",
       "        text-align: right;\n",
       "    }\n",
       "</style>\n",
       "<table border=\"1\" class=\"dataframe\">\n",
       "  <thead>\n",
       "    <tr style=\"text-align: right;\">\n",
       "      <th></th>\n",
       "      <th>RecID</th>\n",
       "      <th>Label</th>\n",
       "      <th>Target</th>\n",
       "    </tr>\n",
       "  </thead>\n",
       "  <tbody>\n",
       "    <tr>\n",
       "      <th>0</th>\n",
       "      <td>1189651968979025920</td>\n",
       "      <td>Unknown</td>\n",
       "      <td>0</td>\n",
       "    </tr>\n",
       "    <tr>\n",
       "      <th>1</th>\n",
       "      <td>1182030910671204353</td>\n",
       "      <td>Unknown</td>\n",
       "      <td>0</td>\n",
       "    </tr>\n",
       "  </tbody>\n",
       "</table>\n",
       "</div>"
      ],
      "text/plain": [
       "                 RecID    Label  Target\n",
       "0  1189651968979025920  Unknown       0\n",
       "1  1182030910671204353  Unknown       0"
      ]
     },
     "execution_count": 14,
     "metadata": {},
     "output_type": "execute_result"
    }
   ],
   "source": [
    "df_dread_Target.head(2)"
   ]
  },
  {
   "cell_type": "code",
   "execution_count": 15,
   "id": "9fa00af2-4f9a-4be4-8eb6-8c42c9542eab",
   "metadata": {
    "tags": []
   },
   "outputs": [
    {
     "data": {
      "text/plain": [
       "71"
      ]
     },
     "execution_count": 15,
     "metadata": {},
     "output_type": "execute_result"
    }
   ],
   "source": [
    "len(df_dread_Target)"
   ]
  },
  {
   "cell_type": "code",
   "execution_count": 33,
   "id": "a1ae1b83-f81d-4262-a94c-9d3a06697b52",
   "metadata": {},
   "outputs": [
    {
     "data": {
      "text/plain": [
       "85"
      ]
     },
     "execution_count": 33,
     "metadata": {},
     "output_type": "execute_result"
    }
   ],
   "source": [
    "# In pass 4, we removed the 7 \"Unknown\" labels at this stage, since we didn't want to generate unknown labels with SBERT.\n",
    "# HOWEVER, in Pass 5, there are 21 \"Unknown\" labels i.e ~ 30% of the deep reading.\n",
    "# It is best to send them to SBERT and decide what to do with the results later.\n",
    "\n",
    "# df_dread_Target = df_dread_Target[df_dread_Target.Label!='Unknown']\n",
    "# len(df_dread_Target)"
   ]
  },
  {
   "cell_type": "code",
   "execution_count": 34,
   "id": "385ab9ff-6440-43ec-a135-9e589f5dd008",
   "metadata": {},
   "outputs": [],
   "source": [
    "# NOT NECESSARY -- work it out in the SBERT PROGRAM.\n",
    "# df_recTweets = pd.read_csv('data/MasterTokens.csv', usecols=['RecID','RecDoc'], dtype='str')"
   ]
  },
  {
   "cell_type": "code",
   "execution_count": 16,
   "id": "8517bbb8-165a-4c10-bb06-74efa5dca9ab",
   "metadata": {
    "tags": []
   },
   "outputs": [],
   "source": [
    "# save to GTxM Pass 4 folder and upload to Google Colab or Kaggle\n",
    "df_dread_Target.to_csv('data/GTxM_Pass5/DeepRead_Pass5.csv', index=False)"
   ]
  },
  {
   "cell_type": "markdown",
   "id": "687a8dba-efa6-489e-94ed-39d75e76a133",
   "metadata": {
    "tags": []
   },
   "source": [
    "### CGT Step 3: Pattern Confirmation (See Kaggle Notebook for code with SBERT)"
   ]
  },
  {
   "cell_type": "markdown",
   "id": "85b00398-bf0d-4748-83cc-c9bb76747dad",
   "metadata": {
    "tags": []
   },
   "source": [
    "#### Build Confirm_InReplyTo_Labeled"
   ]
  },
  {
   "cell_type": "code",
   "execution_count": 2,
   "id": "c8604f22-d7a0-4f7c-9814-9636c449ef16",
   "metadata": {
    "tags": []
   },
   "outputs": [],
   "source": [
    "df_CoreCGT = pd.read_csv('data/CGTexpandedSMR_Data.csv', usecols=['TID','InReplyTo'], dtype=str)"
   ]
  },
  {
   "cell_type": "code",
   "execution_count": 3,
   "id": "c96faf9b-9ed7-40cf-b1ef-689ebc2d473a",
   "metadata": {
    "tags": []
   },
   "outputs": [],
   "source": [
    "df_CoreGTr = pd.read_csv('data/GroundTruthBERT.csv', usecols=['TID','InReplyTo'], dtype=str)"
   ]
  },
  {
   "cell_type": "code",
   "execution_count": 4,
   "id": "4dad293e-424e-418d-b3cf-01ec2e6f5329",
   "metadata": {
    "tags": []
   },
   "outputs": [
    {
     "data": {
      "text/plain": [
       "322199"
      ]
     },
     "execution_count": 4,
     "metadata": {},
     "output_type": "execute_result"
    }
   ],
   "source": [
    "df_Corpus = pd.concat([df_CoreCGT,df_CoreGTr])\n",
    "len(df_Corpus)"
   ]
  },
  {
   "cell_type": "code",
   "execution_count": 5,
   "id": "57e4abff-7bb2-4b2c-89a1-9028d552363e",
   "metadata": {
    "tags": []
   },
   "outputs": [
    {
     "data": {
      "text/html": [
       "<div>\n",
       "<style scoped>\n",
       "    .dataframe tbody tr th:only-of-type {\n",
       "        vertical-align: middle;\n",
       "    }\n",
       "\n",
       "    .dataframe tbody tr th {\n",
       "        vertical-align: top;\n",
       "    }\n",
       "\n",
       "    .dataframe thead th {\n",
       "        text-align: right;\n",
       "    }\n",
       "</style>\n",
       "<table border=\"1\" class=\"dataframe\">\n",
       "  <thead>\n",
       "    <tr style=\"text-align: right;\">\n",
       "      <th></th>\n",
       "      <th>TID</th>\n",
       "      <th>InReplyTo</th>\n",
       "    </tr>\n",
       "  </thead>\n",
       "  <tbody>\n",
       "    <tr>\n",
       "      <th>0</th>\n",
       "      <td>222818213392678912</td>\n",
       "      <td>NaN</td>\n",
       "    </tr>\n",
       "    <tr>\n",
       "      <th>1</th>\n",
       "      <td>1207942378688040961</td>\n",
       "      <td>222818213392678912</td>\n",
       "    </tr>\n",
       "    <tr>\n",
       "      <th>2</th>\n",
       "      <td>1207982506152222720</td>\n",
       "      <td>222818213392678912</td>\n",
       "    </tr>\n",
       "    <tr>\n",
       "      <th>3</th>\n",
       "      <td>1207883227601494016</td>\n",
       "      <td>222818213392678912</td>\n",
       "    </tr>\n",
       "    <tr>\n",
       "      <th>4</th>\n",
       "      <td>1207766213255991299</td>\n",
       "      <td>222818213392678912</td>\n",
       "    </tr>\n",
       "  </tbody>\n",
       "</table>\n",
       "</div>"
      ],
      "text/plain": [
       "                   TID           InReplyTo\n",
       "0   222818213392678912                 NaN\n",
       "1  1207942378688040961  222818213392678912\n",
       "2  1207982506152222720  222818213392678912\n",
       "3  1207883227601494016  222818213392678912\n",
       "4  1207766213255991299  222818213392678912"
      ]
     },
     "execution_count": 5,
     "metadata": {},
     "output_type": "execute_result"
    }
   ],
   "source": [
    "df_Corpus.head()"
   ]
  },
  {
   "cell_type": "code",
   "execution_count": 6,
   "id": "a503e44e-4745-43b8-aa49-174c750e9d1b",
   "metadata": {
    "tags": []
   },
   "outputs": [
    {
     "data": {
      "text/plain": [
       "175046"
      ]
     },
     "execution_count": 6,
     "metadata": {},
     "output_type": "execute_result"
    }
   ],
   "source": [
    "df_sbert_pass5 = pd.read_csv('data/GTxM_Pass5/CGTsbert_kaggle_pass5.csv', dtype=str)\n",
    "len(df_sbert_pass5)"
   ]
  },
  {
   "cell_type": "code",
   "execution_count": 7,
   "id": "a36f235f-2b74-43a1-8e79-705190f905b3",
   "metadata": {
    "tags": []
   },
   "outputs": [
    {
     "data": {
      "text/html": [
       "<div>\n",
       "<style scoped>\n",
       "    .dataframe tbody tr th:only-of-type {\n",
       "        vertical-align: middle;\n",
       "    }\n",
       "\n",
       "    .dataframe tbody tr th {\n",
       "        vertical-align: top;\n",
       "    }\n",
       "\n",
       "    .dataframe thead th {\n",
       "        text-align: right;\n",
       "    }\n",
       "</style>\n",
       "<table border=\"1\" class=\"dataframe\">\n",
       "  <thead>\n",
       "    <tr style=\"text-align: right;\">\n",
       "      <th></th>\n",
       "      <th>Unnamed: 0</th>\n",
       "      <th>RID</th>\n",
       "      <th>QID</th>\n",
       "      <th>cQID</th>\n",
       "      <th>TID</th>\n",
       "      <th>Tweet</th>\n",
       "      <th>Score</th>\n",
       "    </tr>\n",
       "  </thead>\n",
       "  <tbody>\n",
       "    <tr>\n",
       "      <th>0</th>\n",
       "      <td>0</td>\n",
       "      <td>317</td>\n",
       "      <td>1189651968979025920</td>\n",
       "      <td>NaN</td>\n",
       "      <td>1189651968979025920</td>\n",
       "      <td>It might be a nice troll of FB, but @jack's de...</td>\n",
       "      <td>1.0</td>\n",
       "    </tr>\n",
       "    <tr>\n",
       "      <th>1</th>\n",
       "      <td>1</td>\n",
       "      <td>14736</td>\n",
       "      <td>1189651968979025920</td>\n",
       "      <td>NaN</td>\n",
       "      <td>1183254726294560768</td>\n",
       "      <td>Are you dumb? FB revenues would not even take ...</td>\n",
       "      <td>0.7048031687736511</td>\n",
       "    </tr>\n",
       "    <tr>\n",
       "      <th>2</th>\n",
       "      <td>2</td>\n",
       "      <td>11907</td>\n",
       "      <td>1189651968979025920</td>\n",
       "      <td>NaN</td>\n",
       "      <td>1182042909396201472</td>\n",
       "      <td>@DeschutesDems So we can not believe any of @f...</td>\n",
       "      <td>0.7016364336013794</td>\n",
       "    </tr>\n",
       "    <tr>\n",
       "      <th>3</th>\n",
       "      <td>3</td>\n",
       "      <td>24321</td>\n",
       "      <td>1189651968979025920</td>\n",
       "      <td>NaN</td>\n",
       "      <td>1186391700404494336</td>\n",
       "      <td>Ppl need to get over their illusions about FB....</td>\n",
       "      <td>0.6893789172172546</td>\n",
       "    </tr>\n",
       "    <tr>\n",
       "      <th>4</th>\n",
       "      <td>4</td>\n",
       "      <td>129096</td>\n",
       "      <td>1189651968979025920</td>\n",
       "      <td>NaN</td>\n",
       "      <td>1189646292491784192</td>\n",
       "      <td>Wow! Integrity for a change. Thank you! Now, h...</td>\n",
       "      <td>0.6864067912101746</td>\n",
       "    </tr>\n",
       "  </tbody>\n",
       "</table>\n",
       "</div>"
      ],
      "text/plain": [
       "  Unnamed: 0     RID                  QID cQID                  TID  \\\n",
       "0          0     317  1189651968979025920  NaN  1189651968979025920   \n",
       "1          1   14736  1189651968979025920  NaN  1183254726294560768   \n",
       "2          2   11907  1189651968979025920  NaN  1182042909396201472   \n",
       "3          3   24321  1189651968979025920  NaN  1186391700404494336   \n",
       "4          4  129096  1189651968979025920  NaN  1189646292491784192   \n",
       "\n",
       "                                               Tweet               Score  \n",
       "0  It might be a nice troll of FB, but @jack's de...                 1.0  \n",
       "1  Are you dumb? FB revenues would not even take ...  0.7048031687736511  \n",
       "2  @DeschutesDems So we can not believe any of @f...  0.7016364336013794  \n",
       "3  Ppl need to get over their illusions about FB....  0.6893789172172546  \n",
       "4  Wow! Integrity for a change. Thank you! Now, h...  0.6864067912101746  "
      ]
     },
     "execution_count": 7,
     "metadata": {},
     "output_type": "execute_result"
    }
   ],
   "source": [
    "df_sbert_pass5.head()"
   ]
  },
  {
   "cell_type": "code",
   "execution_count": 8,
   "id": "4a79eb66-6afb-499c-9667-0a4f8a417135",
   "metadata": {
    "tags": []
   },
   "outputs": [
    {
     "data": {
      "text/plain": [
       "71"
      ]
     },
     "execution_count": 8,
     "metadata": {},
     "output_type": "execute_result"
    }
   ],
   "source": [
    "df_dread_label = pd.read_csv('data/GTxM_Pass5/CGT_DeepRead_Pass5.csv', usecols=['RecID','Label','Target'], dtype=str)\n",
    "len(df_dread_label)"
   ]
  },
  {
   "cell_type": "code",
   "execution_count": 9,
   "id": "1e1ac1e3-f700-43a4-a651-fd0677dd9092",
   "metadata": {
    "tags": []
   },
   "outputs": [
    {
     "data": {
      "text/html": [
       "<div>\n",
       "<style scoped>\n",
       "    .dataframe tbody tr th:only-of-type {\n",
       "        vertical-align: middle;\n",
       "    }\n",
       "\n",
       "    .dataframe tbody tr th {\n",
       "        vertical-align: top;\n",
       "    }\n",
       "\n",
       "    .dataframe thead th {\n",
       "        text-align: right;\n",
       "    }\n",
       "</style>\n",
       "<table border=\"1\" class=\"dataframe\">\n",
       "  <thead>\n",
       "    <tr style=\"text-align: right;\">\n",
       "      <th></th>\n",
       "      <th>RecID</th>\n",
       "      <th>Label</th>\n",
       "      <th>Target</th>\n",
       "    </tr>\n",
       "  </thead>\n",
       "  <tbody>\n",
       "    <tr>\n",
       "      <th>0</th>\n",
       "      <td>1189651968979025920</td>\n",
       "      <td>Unknown</td>\n",
       "      <td>0</td>\n",
       "    </tr>\n",
       "    <tr>\n",
       "      <th>1</th>\n",
       "      <td>1182030910671204353</td>\n",
       "      <td>Unknown</td>\n",
       "      <td>0</td>\n",
       "    </tr>\n",
       "    <tr>\n",
       "      <th>2</th>\n",
       "      <td>1179740913771405313</td>\n",
       "      <td>Unknown</td>\n",
       "      <td>0</td>\n",
       "    </tr>\n",
       "    <tr>\n",
       "      <th>3</th>\n",
       "      <td>1196553520201248768</td>\n",
       "      <td>Health</td>\n",
       "      <td>4</td>\n",
       "    </tr>\n",
       "    <tr>\n",
       "      <th>4</th>\n",
       "      <td>1184269805219733504</td>\n",
       "      <td>USA Politics</td>\n",
       "      <td>15</td>\n",
       "    </tr>\n",
       "  </tbody>\n",
       "</table>\n",
       "</div>"
      ],
      "text/plain": [
       "                 RecID         Label Target\n",
       "0  1189651968979025920       Unknown      0\n",
       "1  1182030910671204353       Unknown      0\n",
       "2  1179740913771405313       Unknown      0\n",
       "3  1196553520201248768        Health      4\n",
       "4  1184269805219733504  USA Politics     15"
      ]
     },
     "execution_count": 9,
     "metadata": {},
     "output_type": "execute_result"
    }
   ],
   "source": [
    "df_dread_label.head()"
   ]
  },
  {
   "cell_type": "code",
   "execution_count": 10,
   "id": "f99c1425-4994-47a0-bc0d-c169246b2f13",
   "metadata": {
    "tags": []
   },
   "outputs": [],
   "source": [
    "# rename RecID to QID for merging\n",
    "df_dread_label.rename(columns={'RecID': 'QID'}, inplace=True)"
   ]
  },
  {
   "cell_type": "code",
   "execution_count": 11,
   "id": "923906b3-602d-412a-915f-dd323c63307b",
   "metadata": {
    "tags": []
   },
   "outputs": [],
   "source": [
    "df_sbert_labels = pd.merge(df_sbert_pass5, df_dread_label, on='QID', how='left')"
   ]
  },
  {
   "cell_type": "code",
   "execution_count": 12,
   "id": "e9ec5c2b-ba62-4050-b5e9-418d79725ff8",
   "metadata": {
    "tags": []
   },
   "outputs": [
    {
     "data": {
      "text/html": [
       "<div>\n",
       "<style scoped>\n",
       "    .dataframe tbody tr th:only-of-type {\n",
       "        vertical-align: middle;\n",
       "    }\n",
       "\n",
       "    .dataframe tbody tr th {\n",
       "        vertical-align: top;\n",
       "    }\n",
       "\n",
       "    .dataframe thead th {\n",
       "        text-align: right;\n",
       "    }\n",
       "</style>\n",
       "<table border=\"1\" class=\"dataframe\">\n",
       "  <thead>\n",
       "    <tr style=\"text-align: right;\">\n",
       "      <th></th>\n",
       "      <th>Unnamed: 0</th>\n",
       "      <th>RID</th>\n",
       "      <th>QID</th>\n",
       "      <th>cQID</th>\n",
       "      <th>TID</th>\n",
       "      <th>Tweet</th>\n",
       "      <th>Score</th>\n",
       "      <th>Label</th>\n",
       "      <th>Target</th>\n",
       "    </tr>\n",
       "  </thead>\n",
       "  <tbody>\n",
       "    <tr>\n",
       "      <th>0</th>\n",
       "      <td>0</td>\n",
       "      <td>317</td>\n",
       "      <td>1189651968979025920</td>\n",
       "      <td>NaN</td>\n",
       "      <td>1189651968979025920</td>\n",
       "      <td>It might be a nice troll of FB, but @jack's de...</td>\n",
       "      <td>1.0</td>\n",
       "      <td>Unknown</td>\n",
       "      <td>0</td>\n",
       "    </tr>\n",
       "    <tr>\n",
       "      <th>1</th>\n",
       "      <td>1</td>\n",
       "      <td>14736</td>\n",
       "      <td>1189651968979025920</td>\n",
       "      <td>NaN</td>\n",
       "      <td>1183254726294560768</td>\n",
       "      <td>Are you dumb? FB revenues would not even take ...</td>\n",
       "      <td>0.7048031687736511</td>\n",
       "      <td>Unknown</td>\n",
       "      <td>0</td>\n",
       "    </tr>\n",
       "    <tr>\n",
       "      <th>2</th>\n",
       "      <td>2</td>\n",
       "      <td>11907</td>\n",
       "      <td>1189651968979025920</td>\n",
       "      <td>NaN</td>\n",
       "      <td>1182042909396201472</td>\n",
       "      <td>@DeschutesDems So we can not believe any of @f...</td>\n",
       "      <td>0.7016364336013794</td>\n",
       "      <td>Unknown</td>\n",
       "      <td>0</td>\n",
       "    </tr>\n",
       "    <tr>\n",
       "      <th>3</th>\n",
       "      <td>3</td>\n",
       "      <td>24321</td>\n",
       "      <td>1189651968979025920</td>\n",
       "      <td>NaN</td>\n",
       "      <td>1186391700404494336</td>\n",
       "      <td>Ppl need to get over their illusions about FB....</td>\n",
       "      <td>0.6893789172172546</td>\n",
       "      <td>Unknown</td>\n",
       "      <td>0</td>\n",
       "    </tr>\n",
       "    <tr>\n",
       "      <th>4</th>\n",
       "      <td>4</td>\n",
       "      <td>129096</td>\n",
       "      <td>1189651968979025920</td>\n",
       "      <td>NaN</td>\n",
       "      <td>1189646292491784192</td>\n",
       "      <td>Wow! Integrity for a change. Thank you! Now, h...</td>\n",
       "      <td>0.6864067912101746</td>\n",
       "      <td>Unknown</td>\n",
       "      <td>0</td>\n",
       "    </tr>\n",
       "  </tbody>\n",
       "</table>\n",
       "</div>"
      ],
      "text/plain": [
       "  Unnamed: 0     RID                  QID cQID                  TID  \\\n",
       "0          0     317  1189651968979025920  NaN  1189651968979025920   \n",
       "1          1   14736  1189651968979025920  NaN  1183254726294560768   \n",
       "2          2   11907  1189651968979025920  NaN  1182042909396201472   \n",
       "3          3   24321  1189651968979025920  NaN  1186391700404494336   \n",
       "4          4  129096  1189651968979025920  NaN  1189646292491784192   \n",
       "\n",
       "                                               Tweet               Score  \\\n",
       "0  It might be a nice troll of FB, but @jack's de...                 1.0   \n",
       "1  Are you dumb? FB revenues would not even take ...  0.7048031687736511   \n",
       "2  @DeschutesDems So we can not believe any of @f...  0.7016364336013794   \n",
       "3  Ppl need to get over their illusions about FB....  0.6893789172172546   \n",
       "4  Wow! Integrity for a change. Thank you! Now, h...  0.6864067912101746   \n",
       "\n",
       "     Label Target  \n",
       "0  Unknown      0  \n",
       "1  Unknown      0  \n",
       "2  Unknown      0  \n",
       "3  Unknown      0  \n",
       "4  Unknown      0  "
      ]
     },
     "execution_count": 12,
     "metadata": {},
     "output_type": "execute_result"
    }
   ],
   "source": [
    "df_sbert_labels.head()"
   ]
  },
  {
   "cell_type": "code",
   "execution_count": 13,
   "id": "dd1a8831-cc82-46e9-95f1-c12dca3a4836",
   "metadata": {
    "tags": []
   },
   "outputs": [
    {
     "data": {
      "text/plain": [
       "175105"
      ]
     },
     "execution_count": 13,
     "metadata": {},
     "output_type": "execute_result"
    }
   ],
   "source": [
    "df_sbert_labels_inreplyto = pd.merge(df_sbert_labels, df_Corpus, on='TID', how='left')\n",
    "len(df_sbert_labels_inreplyto)"
   ]
  },
  {
   "cell_type": "code",
   "execution_count": 14,
   "id": "1759d920-672b-42b4-86a9-63e26619e489",
   "metadata": {
    "tags": []
   },
   "outputs": [
    {
     "data": {
      "text/html": [
       "<div>\n",
       "<style scoped>\n",
       "    .dataframe tbody tr th:only-of-type {\n",
       "        vertical-align: middle;\n",
       "    }\n",
       "\n",
       "    .dataframe tbody tr th {\n",
       "        vertical-align: top;\n",
       "    }\n",
       "\n",
       "    .dataframe thead th {\n",
       "        text-align: right;\n",
       "    }\n",
       "</style>\n",
       "<table border=\"1\" class=\"dataframe\">\n",
       "  <thead>\n",
       "    <tr style=\"text-align: right;\">\n",
       "      <th></th>\n",
       "      <th>Unnamed: 0</th>\n",
       "      <th>RID</th>\n",
       "      <th>QID</th>\n",
       "      <th>cQID</th>\n",
       "      <th>TID</th>\n",
       "      <th>Tweet</th>\n",
       "      <th>Score</th>\n",
       "      <th>Label</th>\n",
       "      <th>Target</th>\n",
       "      <th>InReplyTo</th>\n",
       "    </tr>\n",
       "  </thead>\n",
       "  <tbody>\n",
       "    <tr>\n",
       "      <th>0</th>\n",
       "      <td>0</td>\n",
       "      <td>317</td>\n",
       "      <td>1189651968979025920</td>\n",
       "      <td>NaN</td>\n",
       "      <td>1189651968979025920</td>\n",
       "      <td>It might be a nice troll of FB, but @jack's de...</td>\n",
       "      <td>1.0</td>\n",
       "      <td>Unknown</td>\n",
       "      <td>0</td>\n",
       "      <td>NaN</td>\n",
       "    </tr>\n",
       "    <tr>\n",
       "      <th>1</th>\n",
       "      <td>1</td>\n",
       "      <td>14736</td>\n",
       "      <td>1189651968979025920</td>\n",
       "      <td>NaN</td>\n",
       "      <td>1183254726294560768</td>\n",
       "      <td>Are you dumb? FB revenues would not even take ...</td>\n",
       "      <td>0.7048031687736511</td>\n",
       "      <td>Unknown</td>\n",
       "      <td>0</td>\n",
       "      <td>1183019880867680256</td>\n",
       "    </tr>\n",
       "  </tbody>\n",
       "</table>\n",
       "</div>"
      ],
      "text/plain": [
       "  Unnamed: 0    RID                  QID cQID                  TID  \\\n",
       "0          0    317  1189651968979025920  NaN  1189651968979025920   \n",
       "1          1  14736  1189651968979025920  NaN  1183254726294560768   \n",
       "\n",
       "                                               Tweet               Score  \\\n",
       "0  It might be a nice troll of FB, but @jack's de...                 1.0   \n",
       "1  Are you dumb? FB revenues would not even take ...  0.7048031687736511   \n",
       "\n",
       "     Label Target            InReplyTo  \n",
       "0  Unknown      0                  NaN  \n",
       "1  Unknown      0  1183019880867680256  "
      ]
     },
     "execution_count": 14,
     "metadata": {},
     "output_type": "execute_result"
    }
   ],
   "source": [
    "df_sbert_labels_inreplyto.head(2)"
   ]
  },
  {
   "cell_type": "code",
   "execution_count": 15,
   "id": "25dfeb8d-76bf-43cd-bd41-9c040675c650",
   "metadata": {
    "tags": []
   },
   "outputs": [],
   "source": [
    "# Remove the headings imported with the SBERT csv\n",
    "df_sbert_labels_inreplyto = df_sbert_labels_inreplyto[df_sbert_labels_inreplyto.RID !='RID']"
   ]
  },
  {
   "cell_type": "code",
   "execution_count": 16,
   "id": "e7be3f68-19c0-4127-b47c-4c988339bdfd",
   "metadata": {
    "tags": []
   },
   "outputs": [
    {
     "data": {
      "text/plain": [
       "350"
      ]
     },
     "execution_count": 16,
     "metadata": {},
     "output_type": "execute_result"
    }
   ],
   "source": [
    "# Remove InReplyTo IDs that are in GTxM_Pass4_Reject_UpTodate, GTxM_Pass4_GTD_UpTodate and CGT_DeepRead_Pass5\n",
    "# Start with GTxM_Pass4_Reject_UpTodate\n",
    "df_pass4_reject = pd.read_csv('data/GTxM_Pass4/GTxM_Pass4_Reject_UpTodate.csv', dtype=str)\n",
    "df_pass4_reject.rename(columns={'RecID': 'InReplyTo'}, inplace=True)\n",
    "len(df_pass4_reject)"
   ]
  },
  {
   "cell_type": "code",
   "execution_count": 17,
   "id": "c63aa107-8a77-4ae8-a99c-a21deff3131b",
   "metadata": {
    "tags": []
   },
   "outputs": [
    {
     "data": {
      "text/plain": [
       "175040"
      ]
     },
     "execution_count": 17,
     "metadata": {},
     "output_type": "execute_result"
    }
   ],
   "source": [
    "df_sbert_labels_inreplyto1 = pd.merge(df_sbert_labels_inreplyto,df_pass4_reject, on='InReplyTo', how='outer', indicator=True)\n",
    "df_sbert_labels_inreplyto1 = df_sbert_labels_inreplyto1[df_sbert_labels_inreplyto1['_merge']=='left_only']\n",
    "len(df_sbert_labels_inreplyto1)"
   ]
  },
  {
   "cell_type": "code",
   "execution_count": 18,
   "id": "ba5517b0-08d9-4981-bcb4-1e2d2b6ef14b",
   "metadata": {
    "tags": []
   },
   "outputs": [
    {
     "data": {
      "text/plain": [
       "1354"
      ]
     },
     "execution_count": 18,
     "metadata": {},
     "output_type": "execute_result"
    }
   ],
   "source": [
    "# Remove InReplyTo IDs that are GTxM_Pass4_GTD_UpTodate\n",
    "df_pass4_gtd = pd.read_csv('data/GTxM_Pass4/GTxM_Pass4_GTD_UpTodate.csv', usecols=['RecID'], dtype=str)\n",
    "df_pass4_gtd.rename(columns={'RecID': 'InReplyTo'}, inplace=True)\n",
    "len(df_pass4_gtd)"
   ]
  },
  {
   "cell_type": "code",
   "execution_count": 19,
   "id": "153a9e68-f56f-4655-bcff-eaba14628c06",
   "metadata": {
    "tags": []
   },
   "outputs": [
    {
     "data": {
      "text/plain": [
       "36742"
      ]
     },
     "execution_count": 19,
     "metadata": {},
     "output_type": "execute_result"
    }
   ],
   "source": [
    "# cleanup the _merge column before new filter\n",
    "df_sbert_labels_inreplyto1.drop(['_merge'], axis=1, inplace=True)\n",
    "df_sbert_labels_inreplyto2 = pd.merge(df_sbert_labels_inreplyto1,df_pass4_gtd, on='InReplyTo', how='outer', indicator=True)\n",
    "df_sbert_labels_inreplyto2 = df_sbert_labels_inreplyto2[df_sbert_labels_inreplyto2['_merge']=='left_only']\n",
    "len(df_sbert_labels_inreplyto2)"
   ]
  },
  {
   "cell_type": "code",
   "execution_count": 20,
   "id": "0e7702c8-a5bc-4308-ac13-7fe0f50201e7",
   "metadata": {
    "tags": []
   },
   "outputs": [],
   "source": [
    "# rename Deep Read QID in InReplyTo before merging\n",
    "df_dread_label.rename(columns={'QID': 'InReplyTo'}, inplace=True)"
   ]
  },
  {
   "cell_type": "code",
   "execution_count": 21,
   "id": "24419bb3-bec9-4253-8ce9-7ca7aef0fe78",
   "metadata": {
    "tags": []
   },
   "outputs": [
    {
     "data": {
      "text/plain": [
       "30146"
      ]
     },
     "execution_count": 21,
     "metadata": {},
     "output_type": "execute_result"
    }
   ],
   "source": [
    "# cleanup the _merge column\n",
    "df_sbert_labels_inreplyto2.drop(['_merge'], axis=1, inplace=True)\n",
    "df_sbert_labels_inreplyto_final = pd.merge(df_sbert_labels_inreplyto2,df_dread_label['InReplyTo'], on='InReplyTo', how='outer', indicator=True)\n",
    "df_sbert_labels_inreplyto_final = df_sbert_labels_inreplyto_final[df_sbert_labels_inreplyto_final['_merge']=='left_only']\n",
    "len(df_sbert_labels_inreplyto_final)"
   ]
  },
  {
   "cell_type": "code",
   "execution_count": 22,
   "id": "26e84eed-9dc2-414c-bd60-14e9f4df630f",
   "metadata": {
    "tags": []
   },
   "outputs": [],
   "source": [
    "df_sbert_labels_inreplyto_final.to_csv('df_sbert_labels_inreplyto_final.csv')"
   ]
  },
  {
   "cell_type": "markdown",
   "id": "1f8a13d4-33e1-4600-8313-87f0dd80a1ce",
   "metadata": {
    "tags": []
   },
   "source": [
    "#### Filter based on Scores"
   ]
  },
  {
   "cell_type": "code",
   "execution_count": 23,
   "id": "2a3c0127-0239-4de1-b3cd-0be6317c9ed0",
   "metadata": {
    "tags": []
   },
   "outputs": [],
   "source": [
    "df_sbert_labels_inreplyto_final['Score'] = df_sbert_labels_inreplyto_final['Score'].astype(float)"
   ]
  },
  {
   "cell_type": "code",
   "execution_count": 24,
   "id": "d49bd7b3-332b-44f9-bf42-6582a52457b2",
   "metadata": {
    "tags": []
   },
   "outputs": [],
   "source": [
    "# df_sbert_labels_inreplyto_less = df_sbert_labels_inreplyto_final.query('Score < 0')\n",
    "# len(df_sbert_labels_inreplyto_less)"
   ]
  },
  {
   "cell_type": "code",
   "execution_count": 25,
   "id": "992f797e-c955-4834-817e-1b85409e6db6",
   "metadata": {
    "tags": []
   },
   "outputs": [
    {
     "data": {
      "text/plain": [
       "29631"
      ]
     },
     "execution_count": 25,
     "metadata": {},
     "output_type": "execute_result"
    }
   ],
   "source": [
    "df_sbert_labels_inreplyto_more = df_sbert_labels_inreplyto_final.query('Score >= 0.3')\n",
    "len(df_sbert_labels_inreplyto_more)"
   ]
  },
  {
   "cell_type": "code",
   "execution_count": 26,
   "id": "78b12e7a-107d-4bef-a237-a7bbecdac9ce",
   "metadata": {
    "tags": []
   },
   "outputs": [],
   "source": [
    "df_sbert_confirm = pd.DataFrame(df_sbert_labels_inreplyto_more.groupby(['InReplyTo','Label','Target']).size())"
   ]
  },
  {
   "cell_type": "code",
   "execution_count": 27,
   "id": "53861fef-9fbd-4eec-aef7-f9a67add89b9",
   "metadata": {
    "tags": []
   },
   "outputs": [
    {
     "data": {
      "text/html": [
       "<div>\n",
       "<style scoped>\n",
       "    .dataframe tbody tr th:only-of-type {\n",
       "        vertical-align: middle;\n",
       "    }\n",
       "\n",
       "    .dataframe tbody tr th {\n",
       "        vertical-align: top;\n",
       "    }\n",
       "\n",
       "    .dataframe thead th {\n",
       "        text-align: right;\n",
       "    }\n",
       "</style>\n",
       "<table border=\"1\" class=\"dataframe\">\n",
       "  <thead>\n",
       "    <tr style=\"text-align: right;\">\n",
       "      <th></th>\n",
       "      <th></th>\n",
       "      <th></th>\n",
       "      <th>0</th>\n",
       "    </tr>\n",
       "    <tr>\n",
       "      <th>InReplyTo</th>\n",
       "      <th>Label</th>\n",
       "      <th>Target</th>\n",
       "      <th></th>\n",
       "    </tr>\n",
       "  </thead>\n",
       "  <tbody>\n",
       "    <tr>\n",
       "      <th rowspan=\"2\" valign=\"top\">1177796393349603328</th>\n",
       "      <th>Law and Order</th>\n",
       "      <th>7</th>\n",
       "      <td>1</td>\n",
       "    </tr>\n",
       "    <tr>\n",
       "      <th>World Politics</th>\n",
       "      <th>12</th>\n",
       "      <td>7</td>\n",
       "    </tr>\n",
       "    <tr>\n",
       "      <th rowspan=\"3\" valign=\"top\">1178766691272216578</th>\n",
       "      <th>Health</th>\n",
       "      <th>4</th>\n",
       "      <td>1</td>\n",
       "    </tr>\n",
       "    <tr>\n",
       "      <th>Law and Order</th>\n",
       "      <th>7</th>\n",
       "      <td>1</td>\n",
       "    </tr>\n",
       "    <tr>\n",
       "      <th>UK Politics</th>\n",
       "      <th>14</th>\n",
       "      <td>13</td>\n",
       "    </tr>\n",
       "  </tbody>\n",
       "</table>\n",
       "</div>"
      ],
      "text/plain": [
       "                                            0\n",
       "InReplyTo           Label          Target    \n",
       "1177796393349603328 Law and Order  7        1\n",
       "                    World Politics 12       7\n",
       "1178766691272216578 Health         4        1\n",
       "                    Law and Order  7        1\n",
       "                    UK Politics    14      13"
      ]
     },
     "execution_count": 27,
     "metadata": {},
     "output_type": "execute_result"
    }
   ],
   "source": [
    "df_sbert_confirm.head()"
   ]
  },
  {
   "cell_type": "code",
   "execution_count": 28,
   "id": "8aaf8509-9672-423d-8e4c-378644483936",
   "metadata": {
    "tags": []
   },
   "outputs": [],
   "source": [
    "# temporarily dump the dataframe to csv, to flatten the structure (I couldn't find a better way, for now)\n",
    "df_sbert_confirm.to_csv('temp.csv')"
   ]
  },
  {
   "cell_type": "code",
   "execution_count": 29,
   "id": "47475382-4a79-459c-a4ae-2e555141a293",
   "metadata": {
    "tags": []
   },
   "outputs": [
    {
     "data": {
      "text/html": [
       "<div>\n",
       "<style scoped>\n",
       "    .dataframe tbody tr th:only-of-type {\n",
       "        vertical-align: middle;\n",
       "    }\n",
       "\n",
       "    .dataframe tbody tr th {\n",
       "        vertical-align: top;\n",
       "    }\n",
       "\n",
       "    .dataframe thead th {\n",
       "        text-align: right;\n",
       "    }\n",
       "</style>\n",
       "<table border=\"1\" class=\"dataframe\">\n",
       "  <thead>\n",
       "    <tr style=\"text-align: right;\">\n",
       "      <th></th>\n",
       "      <th>InReplyTo</th>\n",
       "      <th>Label</th>\n",
       "      <th>Target</th>\n",
       "      <th>0</th>\n",
       "    </tr>\n",
       "  </thead>\n",
       "  <tbody>\n",
       "    <tr>\n",
       "      <th>0</th>\n",
       "      <td>1177796393349603328</td>\n",
       "      <td>Law and Order</td>\n",
       "      <td>7</td>\n",
       "      <td>1</td>\n",
       "    </tr>\n",
       "    <tr>\n",
       "      <th>1</th>\n",
       "      <td>1177796393349603328</td>\n",
       "      <td>World Politics</td>\n",
       "      <td>12</td>\n",
       "      <td>7</td>\n",
       "    </tr>\n",
       "    <tr>\n",
       "      <th>2</th>\n",
       "      <td>1178766691272216578</td>\n",
       "      <td>Health</td>\n",
       "      <td>4</td>\n",
       "      <td>1</td>\n",
       "    </tr>\n",
       "    <tr>\n",
       "      <th>3</th>\n",
       "      <td>1178766691272216578</td>\n",
       "      <td>Law and Order</td>\n",
       "      <td>7</td>\n",
       "      <td>1</td>\n",
       "    </tr>\n",
       "    <tr>\n",
       "      <th>4</th>\n",
       "      <td>1178766691272216578</td>\n",
       "      <td>UK Politics</td>\n",
       "      <td>14</td>\n",
       "      <td>13</td>\n",
       "    </tr>\n",
       "  </tbody>\n",
       "</table>\n",
       "</div>"
      ],
      "text/plain": [
       "             InReplyTo           Label Target   0\n",
       "0  1177796393349603328   Law and Order      7   1\n",
       "1  1177796393349603328  World Politics     12   7\n",
       "2  1178766691272216578          Health      4   1\n",
       "3  1178766691272216578   Law and Order      7   1\n",
       "4  1178766691272216578     UK Politics     14  13"
      ]
     },
     "execution_count": 29,
     "metadata": {},
     "output_type": "execute_result"
    }
   ],
   "source": [
    "df_sbert_confirm = pd.read_csv('temp.csv', dtype='str')\n",
    "df_sbert_confirm.head()"
   ]
  },
  {
   "cell_type": "code",
   "execution_count": 30,
   "id": "11d86e4e-d6c4-4fbf-9c85-3b9a2de0ad4f",
   "metadata": {
    "tags": []
   },
   "outputs": [
    {
     "data": {
      "text/plain": [
       "3204"
      ]
     },
     "execution_count": 30,
     "metadata": {},
     "output_type": "execute_result"
    }
   ],
   "source": [
    "df_sbert_confirm.rename(columns={'0': 'QueryCount'}, inplace=True)\n",
    "len(df_sbert_confirm)"
   ]
  },
  {
   "cell_type": "code",
   "execution_count": 31,
   "id": "6f2f6201-0749-4a68-9366-63745e602db0",
   "metadata": {
    "tags": []
   },
   "outputs": [],
   "source": [
    "df_sbert_confirm['QueryCount'] = df_sbert_confirm['QueryCount'].astype(int)"
   ]
  },
  {
   "cell_type": "code",
   "execution_count": 32,
   "id": "16f7e2f4-e803-4080-8ecf-4f80995dfb27",
   "metadata": {
    "tags": []
   },
   "outputs": [
    {
     "data": {
      "text/plain": [
       "503"
      ]
     },
     "execution_count": 32,
     "metadata": {},
     "output_type": "execute_result"
    }
   ],
   "source": [
    "df_sbert_confirm = df_sbert_confirm[df_sbert_confirm.QueryCount>9]\n",
    "len(df_sbert_confirm)"
   ]
  },
  {
   "cell_type": "code",
   "execution_count": 33,
   "id": "a4fd481e-c939-4d16-98bf-e60fbdee3b97",
   "metadata": {
    "tags": []
   },
   "outputs": [],
   "source": [
    "df_sbert_confirm = df_sbert_confirm.sort_values(['InReplyTo','QueryCount'], ascending=[False, True])"
   ]
  },
  {
   "cell_type": "code",
   "execution_count": 34,
   "id": "87bb2560-5d4b-44eb-bb5d-bb5ecc393593",
   "metadata": {
    "tags": []
   },
   "outputs": [],
   "source": [
    "# df_sbert_unknown = df_sbert_confirm[df_sbert_confirm['Label']=='Unknown']\n",
    "# len(df_sbert_unknown)"
   ]
  },
  {
   "cell_type": "code",
   "execution_count": 35,
   "id": "06eeb29e-6f62-43c4-af53-0fecfbc01129",
   "metadata": {
    "tags": []
   },
   "outputs": [],
   "source": [
    "# df_sbert_confirm_final = df_sbert_confirm[df_sbert_confirm['Label']!='Unknown']\n",
    "# len(df_sbert_confirm_final)"
   ]
  },
  {
   "cell_type": "code",
   "execution_count": 36,
   "id": "ee3a521f-0105-4637-a85d-81bafea31ed2",
   "metadata": {
    "tags": []
   },
   "outputs": [
    {
     "data": {
      "text/plain": [
       "247"
      ]
     },
     "execution_count": 36,
     "metadata": {},
     "output_type": "execute_result"
    }
   ],
   "source": [
    "df_sbert_confirm = df_sbert_confirm.drop_duplicates(['InReplyTo'])\n",
    "len(df_sbert_confirm)"
   ]
  },
  {
   "cell_type": "code",
   "execution_count": 37,
   "id": "6b08fa41-24d7-49b4-b955-be77bd317f54",
   "metadata": {
    "tags": []
   },
   "outputs": [
    {
     "data": {
      "text/html": [
       "<div>\n",
       "<style scoped>\n",
       "    .dataframe tbody tr th:only-of-type {\n",
       "        vertical-align: middle;\n",
       "    }\n",
       "\n",
       "    .dataframe tbody tr th {\n",
       "        vertical-align: top;\n",
       "    }\n",
       "\n",
       "    .dataframe thead th {\n",
       "        text-align: right;\n",
       "    }\n",
       "</style>\n",
       "<table border=\"1\" class=\"dataframe\">\n",
       "  <thead>\n",
       "    <tr style=\"text-align: right;\">\n",
       "      <th></th>\n",
       "      <th>InReplyTo</th>\n",
       "      <th>Label</th>\n",
       "      <th>Target</th>\n",
       "      <th>QueryCount</th>\n",
       "    </tr>\n",
       "  </thead>\n",
       "  <tbody>\n",
       "    <tr>\n",
       "      <th>3202</th>\n",
       "      <td>1223039083112517632</td>\n",
       "      <td>Unknown</td>\n",
       "      <td>0</td>\n",
       "      <td>14</td>\n",
       "    </tr>\n",
       "    <tr>\n",
       "      <th>3190</th>\n",
       "      <td>1222603409284567042</td>\n",
       "      <td>Unknown</td>\n",
       "      <td>0</td>\n",
       "      <td>10</td>\n",
       "    </tr>\n",
       "    <tr>\n",
       "      <th>3183</th>\n",
       "      <td>1222603086558126080</td>\n",
       "      <td>UK Politics</td>\n",
       "      <td>14</td>\n",
       "      <td>22</td>\n",
       "    </tr>\n",
       "    <tr>\n",
       "      <th>3169</th>\n",
       "      <td>1222474209374408705</td>\n",
       "      <td>UK Politics</td>\n",
       "      <td>14</td>\n",
       "      <td>13</td>\n",
       "    </tr>\n",
       "    <tr>\n",
       "      <th>3146</th>\n",
       "      <td>1222243393847169024</td>\n",
       "      <td>Unknown</td>\n",
       "      <td>0</td>\n",
       "      <td>18</td>\n",
       "    </tr>\n",
       "  </tbody>\n",
       "</table>\n",
       "</div>"
      ],
      "text/plain": [
       "                InReplyTo        Label Target  QueryCount\n",
       "3202  1223039083112517632      Unknown      0          14\n",
       "3190  1222603409284567042      Unknown      0          10\n",
       "3183  1222603086558126080  UK Politics     14          22\n",
       "3169  1222474209374408705  UK Politics     14          13\n",
       "3146  1222243393847169024      Unknown      0          18"
      ]
     },
     "execution_count": 37,
     "metadata": {},
     "output_type": "execute_result"
    }
   ],
   "source": [
    "df_sbert_confirm.head()"
   ]
  },
  {
   "cell_type": "code",
   "execution_count": 38,
   "id": "690121c6-46f7-46fc-b318-f76252640f9d",
   "metadata": {
    "tags": []
   },
   "outputs": [
    {
     "data": {
      "text/plain": [
       "Label\n",
       "Entertainment      6\n",
       "Environmental     21\n",
       "Health             2\n",
       "Human Rights       9\n",
       "Law and Order     17\n",
       "Obituary           9\n",
       "Social Stories    31\n",
       "Sports             6\n",
       "Travel            12\n",
       "UK Politics       21\n",
       "USA Politics      18\n",
       "Unknown           77\n",
       "World Politics    18\n",
       "dtype: int64"
      ]
     },
     "execution_count": 38,
     "metadata": {},
     "output_type": "execute_result"
    }
   ],
   "source": [
    "df_sbert_confirm.groupby(['Label']).size()"
   ]
  },
  {
   "cell_type": "markdown",
   "id": "88650b2a-2bd4-4988-ab32-1a5415a8a787",
   "metadata": {
    "tags": []
   },
   "source": [
    "#### Remove Unclassified Medley, save CGT Labeled Data"
   ]
  },
  {
   "cell_type": "code",
   "execution_count": 39,
   "id": "c35ea270-0239-47d8-9a52-37258c4a68d7",
   "metadata": {
    "tags": []
   },
   "outputs": [],
   "source": [
    "# df_sbert_unknown.loc[(df_sbert_unknown.Label == 'Unknown'), 'Label'] = 'Unclassified Medley'\n",
    "# df_sbert_unknown.loc[(df_sbert_unknown.Target == 0), 'Target'] = 16"
   ]
  },
  {
   "cell_type": "code",
   "execution_count": 40,
   "id": "eae28db6-68c2-450d-b180-0b985d1cbb07",
   "metadata": {
    "tags": []
   },
   "outputs": [],
   "source": [
    "df_sbert_confirm.drop(['QueryCount'], axis=1, inplace=True)"
   ]
  },
  {
   "cell_type": "code",
   "execution_count": 41,
   "id": "10fcd958-863c-4c70-8043-8f2b644770b8",
   "metadata": {
    "tags": []
   },
   "outputs": [
    {
     "data": {
      "text/plain": [
       "71"
      ]
     },
     "execution_count": 41,
     "metadata": {},
     "output_type": "execute_result"
    }
   ],
   "source": [
    "len(df_dread_label)"
   ]
  },
  {
   "cell_type": "code",
   "execution_count": 42,
   "id": "1259710e-591c-490c-b1b0-bc892dcb8925",
   "metadata": {
    "tags": []
   },
   "outputs": [
    {
     "data": {
      "text/html": [
       "<div>\n",
       "<style scoped>\n",
       "    .dataframe tbody tr th:only-of-type {\n",
       "        vertical-align: middle;\n",
       "    }\n",
       "\n",
       "    .dataframe tbody tr th {\n",
       "        vertical-align: top;\n",
       "    }\n",
       "\n",
       "    .dataframe thead th {\n",
       "        text-align: right;\n",
       "    }\n",
       "</style>\n",
       "<table border=\"1\" class=\"dataframe\">\n",
       "  <thead>\n",
       "    <tr style=\"text-align: right;\">\n",
       "      <th></th>\n",
       "      <th>InReplyTo</th>\n",
       "      <th>Label</th>\n",
       "      <th>Target</th>\n",
       "    </tr>\n",
       "  </thead>\n",
       "  <tbody>\n",
       "    <tr>\n",
       "      <th>0</th>\n",
       "      <td>1189651968979025920</td>\n",
       "      <td>Unknown</td>\n",
       "      <td>0</td>\n",
       "    </tr>\n",
       "    <tr>\n",
       "      <th>1</th>\n",
       "      <td>1182030910671204353</td>\n",
       "      <td>Unknown</td>\n",
       "      <td>0</td>\n",
       "    </tr>\n",
       "  </tbody>\n",
       "</table>\n",
       "</div>"
      ],
      "text/plain": [
       "             InReplyTo    Label Target\n",
       "0  1189651968979025920  Unknown      0\n",
       "1  1182030910671204353  Unknown      0"
      ]
     },
     "execution_count": 42,
     "metadata": {},
     "output_type": "execute_result"
    }
   ],
   "source": [
    "df_dread_label.head(2)"
   ]
  },
  {
   "cell_type": "code",
   "execution_count": 43,
   "id": "47cd0582-a273-4140-b93b-c95bf573c10b",
   "metadata": {
    "tags": []
   },
   "outputs": [
    {
     "data": {
      "text/plain": [
       "318"
      ]
     },
     "execution_count": 43,
     "metadata": {},
     "output_type": "execute_result"
    }
   ],
   "source": [
    "df_cgt_labeled = pd.concat([df_sbert_confirm,df_dread_label], axis=0)\n",
    "len(df_cgt_labeled)"
   ]
  },
  {
   "cell_type": "code",
   "execution_count": 44,
   "id": "f87bfbd6-db45-4ecc-8ee9-e048a227fe24",
   "metadata": {
    "tags": []
   },
   "outputs": [],
   "source": [
    "df_cgt_labeled.rename(columns={'InReplyTo': 'RecID'}, inplace=True)"
   ]
  },
  {
   "cell_type": "code",
   "execution_count": 45,
   "id": "cd5ec781-6f7d-45d9-bd72-c35fffe09f97",
   "metadata": {
    "tags": []
   },
   "outputs": [],
   "source": [
    "# rename \"Unknown\" to \"Unclassified Medley\"\n",
    "df_cgt_labeled.loc[(df_cgt_labeled.Label == 'Unknown'), 'Label'] = 'Unclassified Medley'\n",
    "df_cgt_labeled.loc[(df_cgt_labeled.Target == 0), 'Target'] = 16"
   ]
  },
  {
   "cell_type": "code",
   "execution_count": 46,
   "id": "a13cc9e3-2a87-40a5-97be-8f7281d9172a",
   "metadata": {
    "tags": []
   },
   "outputs": [
    {
     "data": {
      "text/plain": [
       "98"
      ]
     },
     "execution_count": 46,
     "metadata": {},
     "output_type": "execute_result"
    }
   ],
   "source": [
    "df_unclass_medley = df_cgt_labeled[df_cgt_labeled['Label']=='Unclassified Medley']\n",
    "len(df_unclass_medley)"
   ]
  },
  {
   "cell_type": "code",
   "execution_count": 47,
   "id": "cafc8f05-351d-4ccc-ac07-fc2f9eb7ee80",
   "metadata": {
    "tags": []
   },
   "outputs": [
    {
     "data": {
      "text/plain": [
       "220"
      ]
     },
     "execution_count": 47,
     "metadata": {},
     "output_type": "execute_result"
    }
   ],
   "source": [
    "df_cgt_labeled_final = df_cgt_labeled[df_cgt_labeled['Label']!='Unclassified Medley']\n",
    "len(df_cgt_labeled_final)"
   ]
  },
  {
   "cell_type": "code",
   "execution_count": 48,
   "id": "3b6e809d-c552-4af2-8732-7c77e1a4a68d",
   "metadata": {
    "tags": []
   },
   "outputs": [
    {
     "name": "stderr",
     "output_type": "stream",
     "text": [
      "C:\\Users\\kazeem\\AppData\\Local\\Temp\\ipykernel_304\\2750351076.py:2: SettingWithCopyWarning: \n",
      "A value is trying to be set on a copy of a slice from a DataFrame\n",
      "\n",
      "See the caveats in the documentation: https://pandas.pydata.org/pandas-docs/stable/user_guide/indexing.html#returning-a-view-versus-a-copy\n",
      "  df_cgt_labeled_final.loc[(df_cgt_labeled_final.Label == 'USA Politics'), 'Label'] = 'Politics'\n",
      "C:\\Users\\kazeem\\AppData\\Local\\Temp\\ipykernel_304\\2750351076.py:3: SettingWithCopyWarning: \n",
      "A value is trying to be set on a copy of a slice from a DataFrame\n",
      "\n",
      "See the caveats in the documentation: https://pandas.pydata.org/pandas-docs/stable/user_guide/indexing.html#returning-a-view-versus-a-copy\n",
      "  df_cgt_labeled_final.loc[(df_cgt_labeled_final.Label == 'UK Politics'), 'Label'] = 'Politics'\n",
      "C:\\Users\\kazeem\\AppData\\Local\\Temp\\ipykernel_304\\2750351076.py:4: SettingWithCopyWarning: \n",
      "A value is trying to be set on a copy of a slice from a DataFrame\n",
      "\n",
      "See the caveats in the documentation: https://pandas.pydata.org/pandas-docs/stable/user_guide/indexing.html#returning-a-view-versus-a-copy\n",
      "  df_cgt_labeled_final.loc[(df_cgt_labeled_final.Target == '14'), 'Target'] = '6'\n",
      "C:\\Users\\kazeem\\AppData\\Local\\Temp\\ipykernel_304\\2750351076.py:5: SettingWithCopyWarning: \n",
      "A value is trying to be set on a copy of a slice from a DataFrame\n",
      "\n",
      "See the caveats in the documentation: https://pandas.pydata.org/pandas-docs/stable/user_guide/indexing.html#returning-a-view-versus-a-copy\n",
      "  df_cgt_labeled_final.loc[(df_cgt_labeled_final.Target == '15'), 'Target'] = '6'\n"
     ]
    }
   ],
   "source": [
    "#Change USA and UK politics to Politics\n",
    "df_cgt_labeled_final.loc[(df_cgt_labeled_final.Label == 'USA Politics'), 'Label'] = 'Politics'\n",
    "df_cgt_labeled_final.loc[(df_cgt_labeled_final.Label == 'UK Politics'), 'Label'] = 'Politics'\n",
    "df_cgt_labeled_final.loc[(df_cgt_labeled_final.Target == '14'), 'Target'] = '6'\n",
    "df_cgt_labeled_final.loc[(df_cgt_labeled_final.Target == '15'), 'Target'] = '6'"
   ]
  },
  {
   "cell_type": "code",
   "execution_count": 49,
   "id": "564ec185-aed5-4e23-b26a-ad097bc77ea5",
   "metadata": {
    "tags": []
   },
   "outputs": [
    {
     "data": {
      "text/plain": [
       "Label\n",
       "Entertainment      9\n",
       "Environmental     25\n",
       "Health             4\n",
       "Human Rights      13\n",
       "Law and Order     20\n",
       "Obituary          12\n",
       "Politics          53\n",
       "Social Stories    38\n",
       "Sports             8\n",
       "Travel            14\n",
       "World Politics    24\n",
       "dtype: int64"
      ]
     },
     "execution_count": 49,
     "metadata": {},
     "output_type": "execute_result"
    }
   ],
   "source": [
    "df_cgt_labeled_final.groupby(['Label']).size()"
   ]
  },
  {
   "cell_type": "code",
   "execution_count": 50,
   "id": "11dc7e02-cc17-4c54-9435-e338f7be3d5e",
   "metadata": {
    "tags": []
   },
   "outputs": [],
   "source": [
    "df_unclass_medley.to_csv('data/GTxM_Pass5/CGT_Pass5_Unclassified_Medley.csv', index=False)"
   ]
  },
  {
   "cell_type": "code",
   "execution_count": 51,
   "id": "5808cae2-c1e0-4097-8396-88d95ac3585c",
   "metadata": {
    "tags": []
   },
   "outputs": [],
   "source": [
    "# save data\n",
    "df_cgt_labeled_final.to_csv('data/GTxM_Pass5/GTxM_CGT_Labeled_Pass5.csv', index=False)"
   ]
  },
  {
   "cell_type": "code",
   "execution_count": 52,
   "id": "097a06ed-9784-4560-bb80-f4970d6ffe1d",
   "metadata": {
    "tags": []
   },
   "outputs": [],
   "source": [
    "# save base Intercoder Prediction\n",
    "df_cgt_labeled_final.to_csv('results/GTxM_Pass5/GTxM_Intercoder_Pred_Pass5.csv', index=False)"
   ]
  },
  {
   "cell_type": "markdown",
   "id": "264a42bd-08c9-4354-8b70-842090685412",
   "metadata": {
    "tags": []
   },
   "source": [
    "### CCL Sub-Framework"
   ]
  },
  {
   "cell_type": "markdown",
   "id": "a90fa01e-df39-4d6f-b64d-1c7ba703e715",
   "metadata": {
    "jp-MarkdownHeadingCollapsed": true,
    "tags": []
   },
   "source": [
    "### Cleanup for Jato"
   ]
  },
  {
   "cell_type": "code",
   "execution_count": 169,
   "id": "7fa77343-d3fe-4805-8c99-6fbc9a7d56fa",
   "metadata": {
    "tags": []
   },
   "outputs": [],
   "source": [
    "# For use with Jato\n",
    "\n",
    "def removeSpChar4Jato(text):\n",
    "  #old text = re.sub(r'\\W', ' ', text) #replace ALL non-word characters, including emojis with space\n",
    "  # remove all non ASCII characters \n",
    "  text.replace('\\n', ' ')\n",
    "  text.replace('\\r', ' ')\n",
    "  # credit: https://stackoverflow.com/questions/2758921/regular-expression-that-finds-and-replaces-non-ascii-characters-with-python\n",
    "  text = re.sub(r\"[\\u0080-\\uFFFF]\", \" \", text) #see ASCII list: https://www.asciitable.com/\n",
    "  text = \" \".join(text.split()) # replace multiple spaces with a single space\n",
    "  return(text)\n",
    "\n",
    "def cleanupText4Jato(text):\n",
    "  #replace this strange chars in the text with space\n",
    "  text = text.replace(\"GCO\",\" \")\n",
    "  text = text.replace(\"GY=n+\",\" \")\n",
    "  text = text.replace(\"GCY\",\" \")\n",
    "  text = text.replace(\"fcafc+\",\" \")\n",
    "  text = text.replace(\"fAE+\",\" \")\n",
    "  text = text.replace(\"#fAE\",\" \")\n",
    "  text = text.replace(\"fnae\",\" \")\n",
    "  text = text.replace(\"fye\",\" \")\n",
    "\n",
    "  #Replace common abbreviations and slangs\n",
    "  text = text.replace(\" i m \",\" i am \")\n",
    "  text = text.replace(\" i ve \",\" i have \")\n",
    "  text = text.replace(\" i ll \",\" i will \")\n",
    "  text = text.replace(\" i d \",\" i had \")\n",
    "  text = text.replace(\" that s \",\" that is \")\n",
    "  text = text.replace(\" isn t \",\" is not \")\n",
    "  text = text.replace(\" it s \",\" it is \")\n",
    "  text = text.replace(\" she s \",\" she is \")\n",
    "  text = text.replace(\" he s \",\" he is \")\n",
    "  text = text.replace(\" u \",\" you \")\n",
    "  text = text.replace(\" ur \",\" your \")\n",
    "  text = text.replace(\" b4 \",\" before \")\n",
    "  text = text.replace(\" wasnt \",\" was not \")\n",
    "  text = text.replace(\" wasn t \",\" was not \")\n",
    "  text = text.replace(\" cant \",\" can not \")\n",
    "  text = text.replace(\" can t \",\" can not \")\n",
    "  text = text.replace(\" couldnt \",\" could not \")\n",
    "  text = text.replace(\" couldn t \",\" could not \")\n",
    "  text = text.replace(\" wouldnt \",\" would not \")\n",
    "  text = text.replace(\" wouldn t \",\" would not \")\n",
    "  text = text.replace(\" dont \",\" do not \")\n",
    "  text = text.replace(\" don t \",\" do not \")\n",
    "  text = text.replace(\" didnt \",\" did not \")\n",
    "  text = text.replace(\" didn t \",\" did not \")\n",
    "  text = text.replace(\" let s \",\" let us \")\n",
    "  text = text.replace(\" i'm \",\" i am \")\n",
    "  text = text.replace(\" i've \",\" i have \")\n",
    "  text = text.replace(\" i'll \",\" i will \")\n",
    "  text = text.replace(\" i'd \",\" i had \")\n",
    "  text = text.replace(\" that's \",\" that is \")\n",
    "  text = text.replace(\" isn't \",\" is not \")\n",
    "  text = text.replace(\" it's \",\" it is \")\n",
    "  text = text.replace(\" she's \",\" she is \")\n",
    "  text = text.replace(\" he's \",\" he is \")\n",
    "  text = text.replace(\" u \",\" you \")\n",
    "  text = text.replace(\" ur \",\" your \")\n",
    "  text = text.replace(\" b4 \",\" before \")\n",
    "  text = text.replace(\" wasn't \",\" was not \")\n",
    "  text = text.replace(\" can't \",\" can not \")\n",
    "  text = text.replace(\" couldn't \",\" could not \")\n",
    "  text = text.replace(\" wouldn't \",\" would not \")\n",
    "  text = text.replace(\" don't \",\" do not \")\n",
    "  text = text.replace(\" didn't \",\" did not \")\n",
    "  text = text.replace(\" let's \",\" let us \")\n",
    "  text = text.replace(\" luv \",\" love \")\n",
    "  text = text.replace(\" true \",\" truth \")\n",
    "  text = text.replace(\" ppl \",\" people \")\n",
    "  text = text.replace(\" fb \",\" facebook \")\n",
    "  text = text.replace(\" b day \",\" birthday \")\n",
    "  text = text.replace(\" bday \",\" birthday \")\n",
    "  if (len(text.strip())  == 0):\n",
    "      text = ' ' #replace None with a single space\n",
    "  return(text)\n"
   ]
  },
  {
   "cell_type": "markdown",
   "id": "9e9f179d-296e-4868-9382-c87911d52c21",
   "metadata": {
    "jp-MarkdownHeadingCollapsed": true,
    "tags": []
   },
   "source": [
    "### Prepare JatoMaster for HO1"
   ]
  },
  {
   "cell_type": "code",
   "execution_count": 10,
   "id": "b0caa23d-0aa0-4795-8d22-f0ab53da9970",
   "metadata": {
    "tags": []
   },
   "outputs": [
    {
     "data": {
      "text/plain": [
       "4684"
      ]
     },
     "execution_count": 10,
     "metadata": {},
     "output_type": "execute_result"
    }
   ],
   "source": [
    "data = pd.read_csv('data/MasterTokens.csv', encoding='ISO-8859-1', dtype='str')\n",
    "len(data)"
   ]
  },
  {
   "cell_type": "code",
   "execution_count": 15,
   "id": "6a75ebe9-72e7-4492-b2c9-2df94de0b540",
   "metadata": {
    "tags": []
   },
   "outputs": [
    {
     "data": {
      "text/plain": [
       "220"
      ]
     },
     "execution_count": 15,
     "metadata": {},
     "output_type": "execute_result"
    }
   ],
   "source": [
    "# Load data\n",
    "df_cgt_labeled_final = pd.read_csv('data/GTxM_Pass5/GTxM_CGT_Labeled_Pass5.csv', dtype='str')\n",
    "len(df_cgt_labeled_final)"
   ]
  },
  {
   "cell_type": "code",
   "execution_count": 16,
   "id": "d54f257d-6639-4d4b-aca4-662949b676c8",
   "metadata": {
    "tags": []
   },
   "outputs": [],
   "source": [
    "df_jatoMaster_Pass5_HO1 = pd.merge(data, df_cgt_labeled_final, on='RecID', how='inner')"
   ]
  },
  {
   "cell_type": "code",
   "execution_count": 18,
   "id": "9a01591e-b523-4dd8-bfff-45e92f167738",
   "metadata": {
    "tags": []
   },
   "outputs": [],
   "source": [
    "df_jatoMaster_Pass5_HO1['PubTitle'] = df_jatoMaster_Pass5_HO1['PubTitle'].apply(removeSpChar4Jato)\n",
    "df_jatoMaster_Pass5_HO1['RecDoc'] = df_jatoMaster_Pass5_HO1['RecDoc'].apply(removeSpChar4Jato)\n",
    "df_jatoMaster_Pass5_HO1['smrTopText'] = df_jatoMaster_Pass5_HO1['smrTopText'].apply(removeSpChar4Jato)\n",
    "df_jatoMaster_Pass5_HO1['smrSummary'] = df_jatoMaster_Pass5_HO1['smrSummary'].apply(removeSpChar4Jato)"
   ]
  },
  {
   "cell_type": "code",
   "execution_count": 19,
   "id": "bea2cb5e-522a-4ace-bf89-2f3f3f77931b",
   "metadata": {
    "tags": []
   },
   "outputs": [
    {
     "data": {
      "text/plain": [
       "220"
      ]
     },
     "execution_count": 19,
     "metadata": {},
     "output_type": "execute_result"
    }
   ],
   "source": [
    "len(df_jatoMaster_Pass5_HO1)"
   ]
  },
  {
   "cell_type": "code",
   "execution_count": 20,
   "id": "ff7f661d-c40a-4888-b465-e9c41e15c040",
   "metadata": {
    "tags": []
   },
   "outputs": [],
   "source": [
    "df_jatoMaster_Pass5_HO1.to_csv('D:/KOPro/PhD/Implementation/SourceCode/JatoPass5_HO1/data/JatoMaster.csv')"
   ]
  },
  {
   "cell_type": "markdown",
   "id": "6f4f2ed5-a6fa-4cb0-9281-0d9ee47b063c",
   "metadata": {
    "tags": []
   },
   "source": [
    "#### Generate JatoClassified"
   ]
  },
  {
   "cell_type": "code",
   "execution_count": 21,
   "id": "6d6027af-7d7b-4850-a9dd-5a40fd13f8f8",
   "metadata": {
    "tags": []
   },
   "outputs": [
    {
     "data": {
      "text/plain": [
       "2042"
      ]
     },
     "execution_count": 21,
     "metadata": {},
     "output_type": "execute_result"
    }
   ],
   "source": [
    "df_jato_HO1_pass0 = pd.read_csv('D:/KOPro/PhD/Implementation/SourceCode/Jato/data/JatoOp1Labels.csv', usecols=['RecID','Label'], dtype='str')\n",
    "len(df_jato_HO1_pass0)"
   ]
  },
  {
   "cell_type": "code",
   "execution_count": 22,
   "id": "713f9dd0-7328-4578-ac15-49b6740ea6e6",
   "metadata": {
    "tags": []
   },
   "outputs": [
    {
     "data": {
      "text/html": [
       "<div>\n",
       "<style scoped>\n",
       "    .dataframe tbody tr th:only-of-type {\n",
       "        vertical-align: middle;\n",
       "    }\n",
       "\n",
       "    .dataframe tbody tr th {\n",
       "        vertical-align: top;\n",
       "    }\n",
       "\n",
       "    .dataframe thead th {\n",
       "        text-align: right;\n",
       "    }\n",
       "</style>\n",
       "<table border=\"1\" class=\"dataframe\">\n",
       "  <thead>\n",
       "    <tr style=\"text-align: right;\">\n",
       "      <th></th>\n",
       "      <th>RecID</th>\n",
       "      <th>Label</th>\n",
       "    </tr>\n",
       "  </thead>\n",
       "  <tbody>\n",
       "    <tr>\n",
       "      <th>0</th>\n",
       "      <td>222818213392678912</td>\n",
       "      <td>Politics</td>\n",
       "    </tr>\n",
       "    <tr>\n",
       "      <th>1</th>\n",
       "      <td>826262311560216578</td>\n",
       "      <td>Politics</td>\n",
       "    </tr>\n",
       "  </tbody>\n",
       "</table>\n",
       "</div>"
      ],
      "text/plain": [
       "                RecID     Label\n",
       "0  222818213392678912  Politics\n",
       "1  826262311560216578  Politics"
      ]
     },
     "execution_count": 22,
     "metadata": {},
     "output_type": "execute_result"
    }
   ],
   "source": [
    "df_jato_HO1_pass0.head(2)"
   ]
  },
  {
   "cell_type": "code",
   "execution_count": 23,
   "id": "340d6224-3e50-4615-a9b7-dd571099bb18",
   "metadata": {
    "tags": []
   },
   "outputs": [
    {
     "data": {
      "text/plain": [
       "2385"
      ]
     },
     "execution_count": 23,
     "metadata": {},
     "output_type": "execute_result"
    }
   ],
   "source": [
    "df_jato_Clf_blank = pd.read_csv('D:/KOPro/PhD/Implementation/SourceCode/JatoPass5_HO1/data/JatoClassified_BlankCat.csv', dtype='str')\n",
    "len(df_jato_Clf_blank)"
   ]
  },
  {
   "cell_type": "code",
   "execution_count": 24,
   "id": "76e72e48-4e67-4515-916f-a9a33b951485",
   "metadata": {
    "tags": []
   },
   "outputs": [
    {
     "data": {
      "text/html": [
       "<div>\n",
       "<style scoped>\n",
       "    .dataframe tbody tr th:only-of-type {\n",
       "        vertical-align: middle;\n",
       "    }\n",
       "\n",
       "    .dataframe tbody tr th {\n",
       "        vertical-align: top;\n",
       "    }\n",
       "\n",
       "    .dataframe thead th {\n",
       "        text-align: right;\n",
       "    }\n",
       "</style>\n",
       "<table border=\"1\" class=\"dataframe\">\n",
       "  <thead>\n",
       "    <tr style=\"text-align: right;\">\n",
       "      <th></th>\n",
       "      <th>rowid</th>\n",
       "      <th>RecID</th>\n",
       "      <th>SavedDataTime</th>\n",
       "      <th>JatoCat</th>\n",
       "      <th>JatoSubCat</th>\n",
       "      <th>JatoCat2</th>\n",
       "      <th>JatoSubCat2</th>\n",
       "      <th>JatoCat3</th>\n",
       "      <th>JatoSubCat3</th>\n",
       "      <th>NewRecClass</th>\n",
       "      <th>GTCodes</th>\n",
       "      <th>NewsPubCat</th>\n",
       "    </tr>\n",
       "  </thead>\n",
       "  <tbody>\n",
       "    <tr>\n",
       "      <th>0</th>\n",
       "      <td>6</td>\n",
       "      <td>222818213392678912</td>\n",
       "      <td>2021:01:17 21:15:20</td>\n",
       "      <td>Political</td>\n",
       "      <td>Debate</td>\n",
       "      <td>NaN</td>\n",
       "      <td>NaN</td>\n",
       "      <td>NaN</td>\n",
       "      <td>NaN</td>\n",
       "      <td>NaN</td>\n",
       "      <td>NaN</td>\n",
       "      <td>Unknown</td>\n",
       "    </tr>\n",
       "    <tr>\n",
       "      <th>1</th>\n",
       "      <td>60</td>\n",
       "      <td>826262311560216578</td>\n",
       "      <td>2021:01:13 19:53:48</td>\n",
       "      <td>Political</td>\n",
       "      <td>Debate</td>\n",
       "      <td>NaN</td>\n",
       "      <td>NaN</td>\n",
       "      <td>NaN</td>\n",
       "      <td>NaN</td>\n",
       "      <td>NaN</td>\n",
       "      <td>NaN</td>\n",
       "      <td>Unknown</td>\n",
       "    </tr>\n",
       "  </tbody>\n",
       "</table>\n",
       "</div>"
      ],
      "text/plain": [
       "  rowid               RecID        SavedDataTime    JatoCat JatoSubCat  \\\n",
       "0     6  222818213392678912  2021:01:17 21:15:20  Political     Debate   \n",
       "1    60  826262311560216578  2021:01:13 19:53:48  Political     Debate   \n",
       "\n",
       "  JatoCat2 JatoSubCat2 JatoCat3 JatoSubCat3 NewRecClass GTCodes NewsPubCat  \n",
       "0      NaN         NaN      NaN         NaN         NaN     NaN    Unknown  \n",
       "1      NaN         NaN      NaN         NaN         NaN     NaN    Unknown  "
      ]
     },
     "execution_count": 24,
     "metadata": {},
     "output_type": "execute_result"
    }
   ],
   "source": [
    "df_jato_Clf_blank.head(2)"
   ]
  },
  {
   "cell_type": "code",
   "execution_count": 54,
   "id": "054402e6-f3c7-4916-8214-2f1dc7abb547",
   "metadata": {},
   "outputs": [
    {
     "data": {
      "text/html": [
       "<div>\n",
       "<style scoped>\n",
       "    .dataframe tbody tr th:only-of-type {\n",
       "        vertical-align: middle;\n",
       "    }\n",
       "\n",
       "    .dataframe tbody tr th {\n",
       "        vertical-align: top;\n",
       "    }\n",
       "\n",
       "    .dataframe thead th {\n",
       "        text-align: right;\n",
       "    }\n",
       "</style>\n",
       "<table border=\"1\" class=\"dataframe\">\n",
       "  <thead>\n",
       "    <tr style=\"text-align: right;\">\n",
       "      <th></th>\n",
       "      <th>rowid</th>\n",
       "      <th>RecID</th>\n",
       "      <th>SavedDataTime</th>\n",
       "      <th>JatoCat</th>\n",
       "      <th>JatoSubCat</th>\n",
       "      <th>JatoCat2</th>\n",
       "      <th>JatoSubCat2</th>\n",
       "      <th>JatoCat3</th>\n",
       "      <th>JatoSubCat3</th>\n",
       "      <th>NewRecClass</th>\n",
       "      <th>GTCodes</th>\n",
       "      <th>NewsPubCat</th>\n",
       "    </tr>\n",
       "  </thead>\n",
       "  <tbody>\n",
       "    <tr>\n",
       "      <th>0</th>\n",
       "      <td>6</td>\n",
       "      <td>222818213392678912</td>\n",
       "      <td>2021:01:17 21:15:20</td>\n",
       "      <td>Political</td>\n",
       "      <td>Debate</td>\n",
       "      <td>NaN</td>\n",
       "      <td>NaN</td>\n",
       "      <td>NaN</td>\n",
       "      <td>NaN</td>\n",
       "      <td>NaN</td>\n",
       "      <td>NaN</td>\n",
       "      <td>Politics</td>\n",
       "    </tr>\n",
       "    <tr>\n",
       "      <th>1</th>\n",
       "      <td>60</td>\n",
       "      <td>826262311560216578</td>\n",
       "      <td>2021:01:13 19:53:48</td>\n",
       "      <td>Political</td>\n",
       "      <td>Debate</td>\n",
       "      <td>NaN</td>\n",
       "      <td>NaN</td>\n",
       "      <td>NaN</td>\n",
       "      <td>NaN</td>\n",
       "      <td>NaN</td>\n",
       "      <td>NaN</td>\n",
       "      <td>Politics</td>\n",
       "    </tr>\n",
       "  </tbody>\n",
       "</table>\n",
       "</div>"
      ],
      "text/plain": [
       "  rowid               RecID        SavedDataTime    JatoCat JatoSubCat  \\\n",
       "0     6  222818213392678912  2021:01:17 21:15:20  Political     Debate   \n",
       "1    60  826262311560216578  2021:01:13 19:53:48  Political     Debate   \n",
       "\n",
       "  JatoCat2 JatoSubCat2 JatoCat3 JatoSubCat3 NewRecClass GTCodes NewsPubCat  \n",
       "0      NaN         NaN      NaN         NaN         NaN     NaN   Politics  \n",
       "1      NaN         NaN      NaN         NaN         NaN     NaN   Politics  "
      ]
     },
     "execution_count": 54,
     "metadata": {},
     "output_type": "execute_result"
    }
   ],
   "source": [
    "df_jato_HO1_pass5 = pd.merge(df_jato_Clf_blank, df_jato_HO1_pass0, on='RecID', how='left')\n",
    "df_jato_HO1_pass5.drop(['NewsPubCat'], axis=1, inplace=True)\n",
    "df_jato_HO1_pass5.rename(columns={'Label': 'NewsPubCat'}, inplace=True)\n",
    "df_jato_HO1_pass5.head(2)"
   ]
  },
  {
   "cell_type": "code",
   "execution_count": null,
   "id": "0cd61df1-b321-4dca-8daa-1ef4a2f4ba0f",
   "metadata": {},
   "outputs": [
    {
     "data": {
      "text/plain": [
       "NewsPubCat\n",
       "Business          87\n",
       "Entertainment    228\n",
       "Environmental     78\n",
       "Human Rights     338\n",
       "Obituary         138\n",
       "Politics         872\n",
       "Sports           143\n",
       "Stories           84\n",
       "Technology        74\n",
       "dtype: int64"
      ]
     },
     "execution_count": 55,
     "metadata": {},
     "output_type": "execute_result"
    }
   ],
   "source": [
    "df_jato_HO1_pass5.groupby(['NewsPubCat']).size()"
   ]
  },
  {
   "cell_type": "code",
   "execution_count": null,
   "id": "300b402a-c392-449e-bdd7-7d7a35195d6e",
   "metadata": {},
   "outputs": [],
   "source": [
    "# Change Stories, Technology and Blank\n",
    "df_jato_HO1_pass5.loc[(df_jato_HO1_pass5.NewsPubCat == 'Stories'), 'NewsPubCat'] = 'Social Stories'\n",
    "df_jato_HO1_pass5.loc[(df_jato_HO1_pass5.NewsPubCat == 'Technology'), 'NewsPubCat'] = 'Business'\n",
    "df_jato_HO1_pass5.loc[(df_jato_HO1_pass5.NewsPubCat.isna()), 'NewsPubCat'] = 'Unknown'"
   ]
  },
  {
   "cell_type": "code",
   "execution_count": null,
   "id": "6c2e5c37-a84a-446b-951d-8632337af90c",
   "metadata": {},
   "outputs": [
    {
     "data": {
      "text/plain": [
       "NewsPubCat\n",
       "Business          161\n",
       "Entertainment     228\n",
       "Environmental      78\n",
       "Human Rights      338\n",
       "Obituary          138\n",
       "Politics          872\n",
       "Social Stories     84\n",
       "Sports            143\n",
       "Unknown           343\n",
       "dtype: int64"
      ]
     },
     "execution_count": 57,
     "metadata": {},
     "output_type": "execute_result"
    }
   ],
   "source": [
    "df_jato_HO1_pass5.groupby(['NewsPubCat']).size()"
   ]
  },
  {
   "cell_type": "code",
   "execution_count": null,
   "id": "d2a4397a-d36b-47b4-9a6f-6171aa8dda02",
   "metadata": {},
   "outputs": [],
   "source": [
    "df_jato_HO1_pass5.to_csv('D:/KOPro/PhD/Implementation/SourceCode/JatoPass5_HO1/data/JatoClassified.csv', index=False)"
   ]
  },
  {
   "cell_type": "markdown",
   "id": "711ef01b-8f41-4a19-82fc-aba8004a1c3c",
   "metadata": {},
   "source": [
    "#### Fix problem with JatoClassified for Pass 5"
   ]
  },
  {
   "cell_type": "code",
   "execution_count": 72,
   "id": "7fc3f70a-b634-4473-9853-2b3ad6c64b05",
   "metadata": {
    "tags": []
   },
   "outputs": [
    {
     "data": {
      "text/plain": [
       "2385"
      ]
     },
     "execution_count": 72,
     "metadata": {},
     "output_type": "execute_result"
    }
   ],
   "source": [
    "df_jato_fix_pass5 = pd.read_csv('D:/KOPro/PhD/Implementation/SourceCode/JatoPass5_HO1/data/JatoClassified_HO1_Pass5.csv', dtype='str')\n",
    "len(df_jato_fix_pass5)"
   ]
  },
  {
   "cell_type": "code",
   "execution_count": 73,
   "id": "d2dd4b5f-67e5-43b6-b394-99fcf466a07b",
   "metadata": {
    "tags": []
   },
   "outputs": [],
   "source": [
    "# Change Stories, Technology, Arts, Climate, Books, Animal Rights and Blank\n",
    "df_jato_fix_pass5.loc[(df_jato_fix_pass5.NewsPubCat == 'Stories'), 'NewRecClass'] = 'Fix this'\n",
    "df_jato_fix_pass5.loc[(df_jato_fix_pass5.NewsPubCat == 'Technology'), 'NewRecClass'] = 'Fix this'\n",
    "df_jato_fix_pass5.loc[(df_jato_fix_pass5.NewsPubCat == 'Arts'), 'NewRecClass'] = 'Fix this'\n",
    "df_jato_fix_pass5.loc[(df_jato_fix_pass5.NewsPubCat == 'Books'), 'NewRecClass'] = 'Fix this'\n",
    "df_jato_fix_pass5.loc[(df_jato_fix_pass5.NewsPubCat == 'Climate'), 'NewRecClass'] = 'Fix this'\n",
    "df_jato_fix_pass5.loc[(df_jato_fix_pass5.NewsPubCat == 'Animal Rights'), 'NewRecClass'] = 'Fix this'\n",
    "df_jato_fix_pass5.loc[(df_jato_fix_pass5.NewsPubCat.isna()), 'NewRecClass'] = 'Fix this'"
   ]
  },
  {
   "cell_type": "code",
   "execution_count": 74,
   "id": "7e767a22-445f-4039-8ad3-dadc35b6724c",
   "metadata": {
    "tags": []
   },
   "outputs": [
    {
     "data": {
      "text/html": [
       "<div>\n",
       "<style scoped>\n",
       "    .dataframe tbody tr th:only-of-type {\n",
       "        vertical-align: middle;\n",
       "    }\n",
       "\n",
       "    .dataframe tbody tr th {\n",
       "        vertical-align: top;\n",
       "    }\n",
       "\n",
       "    .dataframe thead th {\n",
       "        text-align: right;\n",
       "    }\n",
       "</style>\n",
       "<table border=\"1\" class=\"dataframe\">\n",
       "  <thead>\n",
       "    <tr style=\"text-align: right;\">\n",
       "      <th></th>\n",
       "      <th>rowid</th>\n",
       "      <th>RecID</th>\n",
       "      <th>SavedDataTime</th>\n",
       "      <th>JatoCat</th>\n",
       "      <th>JatoSubCat</th>\n",
       "      <th>JatoCat2</th>\n",
       "      <th>JatoSubCat2</th>\n",
       "      <th>JatoCat3</th>\n",
       "      <th>JatoSubCat3</th>\n",
       "      <th>NewRecClass</th>\n",
       "      <th>GTCodes</th>\n",
       "      <th>NewsPubCat</th>\n",
       "    </tr>\n",
       "  </thead>\n",
       "  <tbody>\n",
       "    <tr>\n",
       "      <th>0</th>\n",
       "      <td>6.0</td>\n",
       "      <td>222818213392678912</td>\n",
       "      <td>2021:01:17 21:15:20</td>\n",
       "      <td>Political</td>\n",
       "      <td>Debate</td>\n",
       "      <td>NaN</td>\n",
       "      <td>NaN</td>\n",
       "      <td>NaN</td>\n",
       "      <td>NaN</td>\n",
       "      <td>NaN</td>\n",
       "      <td>NaN</td>\n",
       "      <td>Politics</td>\n",
       "    </tr>\n",
       "    <tr>\n",
       "      <th>1</th>\n",
       "      <td>60.0</td>\n",
       "      <td>826262311560216578</td>\n",
       "      <td>2021:01:13 19:53:48</td>\n",
       "      <td>Political</td>\n",
       "      <td>Debate</td>\n",
       "      <td>NaN</td>\n",
       "      <td>NaN</td>\n",
       "      <td>NaN</td>\n",
       "      <td>NaN</td>\n",
       "      <td>NaN</td>\n",
       "      <td>NaN</td>\n",
       "      <td>Politics</td>\n",
       "    </tr>\n",
       "  </tbody>\n",
       "</table>\n",
       "</div>"
      ],
      "text/plain": [
       "  rowid               RecID        SavedDataTime    JatoCat JatoSubCat  \\\n",
       "0   6.0  222818213392678912  2021:01:17 21:15:20  Political     Debate   \n",
       "1  60.0  826262311560216578  2021:01:13 19:53:48  Political     Debate   \n",
       "\n",
       "  JatoCat2 JatoSubCat2 JatoCat3 JatoSubCat3 NewRecClass GTCodes NewsPubCat  \n",
       "0      NaN         NaN      NaN         NaN         NaN     NaN   Politics  \n",
       "1      NaN         NaN      NaN         NaN         NaN     NaN   Politics  "
      ]
     },
     "execution_count": 74,
     "metadata": {},
     "output_type": "execute_result"
    }
   ],
   "source": [
    "df_jato_fix_pass5.head(2)"
   ]
  },
  {
   "cell_type": "code",
   "execution_count": 75,
   "id": "c59b1896-d555-442f-9e3d-04522acc97b1",
   "metadata": {
    "tags": []
   },
   "outputs": [
    {
     "data": {
      "text/plain": [
       "NewsPubCat\n",
       "Animal Rights                11\n",
       "Arts                          5\n",
       "Books                        16\n",
       "Business                     90\n",
       "Celebrity                    35\n",
       "Climate                      33\n",
       "Economy                       3\n",
       "Entertainment               235\n",
       "Environmental                75\n",
       "Fashion                       6\n",
       "Food                         19\n",
       "Health                       43\n",
       "Human Rights                318\n",
       "Immigration                   1\n",
       "Law and Order                24\n",
       "Obituary                    136\n",
       "Politics                    855\n",
       "Sexual Harrassment            1\n",
       "Sexual Harrassment/Crime      7\n",
       "Social Stories                8\n",
       "Sports                      140\n",
       "Stories                      71\n",
       "Technology                   70\n",
       "Terrorism                    37\n",
       "Travel                       25\n",
       "Unclassified Medley          62\n",
       "Unknown                      11\n",
       "Violence                     40\n",
       "World Politics                8\n",
       "dtype: int64"
      ]
     },
     "execution_count": 75,
     "metadata": {},
     "output_type": "execute_result"
    }
   ],
   "source": [
    "df_jato_fix_pass5.groupby(['NewsPubCat']).size()"
   ]
  },
  {
   "cell_type": "code",
   "execution_count": 76,
   "id": "f15d3ff8-cb41-4b0f-8deb-bceb11bd4b2e",
   "metadata": {
    "tags": []
   },
   "outputs": [],
   "source": [
    "df_jato_fix_pass5.to_csv('D:/KOPro/PhD/Implementation/SourceCode/JatoPass5_HO1/data/JatoClassified.csv', index=False)"
   ]
  },
  {
   "cell_type": "markdown",
   "id": "df6c5b55-0dd8-4d52-a06b-c47fe339620c",
   "metadata": {
    "tags": []
   },
   "source": [
    "### Intercoder Reliability"
   ]
  },
  {
   "cell_type": "markdown",
   "id": "80ddddd6-5f26-426a-9b4b-f4a8c440e604",
   "metadata": {
    "tags": []
   },
   "source": [
    "#### Load Predictions"
   ]
  },
  {
   "cell_type": "code",
   "execution_count": 2,
   "id": "e95b2060-41bb-4491-bb44-ed0317a86420",
   "metadata": {
    "tags": []
   },
   "outputs": [
    {
     "data": {
      "text/plain": [
       "220"
      ]
     },
     "execution_count": 2,
     "metadata": {},
     "output_type": "execute_result"
    }
   ],
   "source": [
    "dfPass5 = pd.read_csv(\"results/GTxM_Pass5/GTxM_Intercoder_Pred_Pass5.csv\", dtype='str')\n",
    "len(dfPass5)"
   ]
  },
  {
   "cell_type": "code",
   "execution_count": 3,
   "id": "c7c2ad99-028e-4bbb-b88e-3946a0094204",
   "metadata": {
    "tags": []
   },
   "outputs": [
    {
     "data": {
      "text/html": [
       "<div>\n",
       "<style scoped>\n",
       "    .dataframe tbody tr th:only-of-type {\n",
       "        vertical-align: middle;\n",
       "    }\n",
       "\n",
       "    .dataframe tbody tr th {\n",
       "        vertical-align: top;\n",
       "    }\n",
       "\n",
       "    .dataframe thead th {\n",
       "        text-align: right;\n",
       "    }\n",
       "</style>\n",
       "<table border=\"1\" class=\"dataframe\">\n",
       "  <thead>\n",
       "    <tr style=\"text-align: right;\">\n",
       "      <th></th>\n",
       "      <th>RecID</th>\n",
       "      <th>Label</th>\n",
       "      <th>Target</th>\n",
       "      <th>XLNet_CGTPred</th>\n",
       "      <th>XLNet_CGT_NoSSPred</th>\n",
       "      <th>BERT_CGTPred</th>\n",
       "      <th>BERT_CGT_NoSSPred</th>\n",
       "      <th>T5_CGTPred</th>\n",
       "      <th>T5_CGT_NoSSPred</th>\n",
       "    </tr>\n",
       "  </thead>\n",
       "  <tbody>\n",
       "    <tr>\n",
       "      <th>0</th>\n",
       "      <td>1222603086558126080</td>\n",
       "      <td>Politics</td>\n",
       "      <td>6</td>\n",
       "      <td>6</td>\n",
       "      <td>6</td>\n",
       "      <td>6</td>\n",
       "      <td>6</td>\n",
       "      <td>6</td>\n",
       "      <td>6</td>\n",
       "    </tr>\n",
       "    <tr>\n",
       "      <th>1</th>\n",
       "      <td>1222474209374408705</td>\n",
       "      <td>Politics</td>\n",
       "      <td>6</td>\n",
       "      <td>6</td>\n",
       "      <td>6</td>\n",
       "      <td>6</td>\n",
       "      <td>6</td>\n",
       "      <td>6</td>\n",
       "      <td>6</td>\n",
       "    </tr>\n",
       "    <tr>\n",
       "      <th>2</th>\n",
       "      <td>1221936812786167810</td>\n",
       "      <td>Environmental</td>\n",
       "      <td>3</td>\n",
       "      <td>10</td>\n",
       "      <td>3</td>\n",
       "      <td>3</td>\n",
       "      <td>3</td>\n",
       "      <td>3</td>\n",
       "      <td>5</td>\n",
       "    </tr>\n",
       "    <tr>\n",
       "      <th>3</th>\n",
       "      <td>1221377542587928576</td>\n",
       "      <td>Politics</td>\n",
       "      <td>6</td>\n",
       "      <td>6</td>\n",
       "      <td>6</td>\n",
       "      <td>6</td>\n",
       "      <td>6</td>\n",
       "      <td>6</td>\n",
       "      <td>6</td>\n",
       "    </tr>\n",
       "    <tr>\n",
       "      <th>4</th>\n",
       "      <td>1220823578825887745</td>\n",
       "      <td>Politics</td>\n",
       "      <td>6</td>\n",
       "      <td>-1</td>\n",
       "      <td>-1</td>\n",
       "      <td>-1</td>\n",
       "      <td>-1</td>\n",
       "      <td>-1</td>\n",
       "      <td>-1</td>\n",
       "    </tr>\n",
       "  </tbody>\n",
       "</table>\n",
       "</div>"
      ],
      "text/plain": [
       "                 RecID          Label Target XLNet_CGTPred XLNet_CGT_NoSSPred  \\\n",
       "0  1222603086558126080       Politics      6             6                  6   \n",
       "1  1222474209374408705       Politics      6             6                  6   \n",
       "2  1221936812786167810  Environmental      3            10                  3   \n",
       "3  1221377542587928576       Politics      6             6                  6   \n",
       "4  1220823578825887745       Politics      6            -1                 -1   \n",
       "\n",
       "  BERT_CGTPred BERT_CGT_NoSSPred T5_CGTPred T5_CGT_NoSSPred  \n",
       "0            6                 6          6               6  \n",
       "1            6                 6          6               6  \n",
       "2            3                 3          3               5  \n",
       "3            6                 6          6               6  \n",
       "4           -1                -1         -1              -1  "
      ]
     },
     "execution_count": 3,
     "metadata": {},
     "output_type": "execute_result"
    }
   ],
   "source": [
    "dfPass5.head()"
   ]
  },
  {
   "cell_type": "markdown",
   "id": "be36c405-1694-438f-b1d5-1e7507590e1f",
   "metadata": {
    "tags": []
   },
   "source": [
    "#### Get the agreement between XLNet, BERT and T5"
   ]
  },
  {
   "cell_type": "code",
   "execution_count": 4,
   "id": "25321e78-4f7c-4dec-81ca-db04fed9896c",
   "metadata": {
    "tags": []
   },
   "outputs": [],
   "source": [
    "def AgreeTargetWithA3(A1Target, A2Target, A3Target):\n",
    "    AgreedTarget = '-1'\n",
    "    if (AgreedTarget == '-1') and (A1Target == A3Target):\n",
    "        AgreedTarget = A3Target\n",
    "    if (AgreedTarget == '-1') and (A2Target == A3Target):\n",
    "        AgreedTarget = A3Target\n",
    "    if (AgreedTarget == '-1') and (A1Target == A2Target):\n",
    "        AgreedTarget = A2Target\n",
    "    return AgreedTarget"
   ]
  },
  {
   "cell_type": "markdown",
   "id": "96a5ade2-d4cc-4eb9-9baa-0bb7cf26aeae",
   "metadata": {
    "tags": []
   },
   "source": [
    "##### Calculate krippendorff's alpha for the agreement between XLNet, BERT and T5"
   ]
  },
  {
   "cell_type": "code",
   "execution_count": 5,
   "id": "43e13acf-0355-4016-b46e-8527db7628f3",
   "metadata": {
    "tags": []
   },
   "outputs": [],
   "source": [
    "# dfPass5['AgreedTarget'] = dfPass5.apply(lambda x: AgreeTargetWithA3(x['T5_CGT_NoSSPred'], x['BERT_CGT_NoSSPred'], x['XLNet_CGT_NoSSPred']), axis=1)\n",
    "dfPass5['AgreedTarget'] = dfPass5.apply(lambda x: AgreeTargetWithA3(x['T5_CGTPred'], x['BERT_CGTPred'], x['XLNet_CGTPred']), axis=1)"
   ]
  },
  {
   "cell_type": "code",
   "execution_count": 6,
   "id": "8ecbcf52-39e0-41e0-9013-e156c70c4adc",
   "metadata": {
    "tags": []
   },
   "outputs": [
    {
     "data": {
      "text/plain": [
       "135"
      ]
     },
     "execution_count": 6,
     "metadata": {},
     "output_type": "execute_result"
    }
   ],
   "source": [
    "dfPass5_GClf = dfPass5[dfPass5.AgreedTarget != '-1']\n",
    "len(dfPass5_GClf)"
   ]
  },
  {
   "cell_type": "code",
   "execution_count": 7,
   "id": "9f52dc44-6fcd-4e20-aa50-41ad60e3311a",
   "metadata": {
    "tags": []
   },
   "outputs": [],
   "source": [
    "# convert to horizontal array as expected by Krippendorff Alpha\n",
    "XLNetPred = np.stack(dfPass5_GClf['XLNet_CGTPred'].astype(\"string\"))\n",
    "BERTPred = np.stack(dfPass5_GClf['BERT_CGTPred'].astype(\"string\"))\n",
    "T5Pred = np.stack(dfPass5_GClf['T5_CGTPred'].astype(\"string\"))\n",
    "AgreedTarget = np.stack(dfPass5_GClf['AgreedTarget'].astype(\"string\"))"
   ]
  },
  {
   "cell_type": "code",
   "execution_count": 49,
   "id": "b762638d-8ce7-433a-b112-2ad44e0a4aab",
   "metadata": {
    "tags": []
   },
   "outputs": [
    {
     "data": {
      "text/plain": [
       "(0.8904347826086957, 0.8495278708498325, 0.9078503030022668)"
      ]
     },
     "execution_count": 49,
     "metadata": {},
     "output_type": "execute_result"
    }
   ],
   "source": [
    "missing = '-1'\n",
    "#arr = np.array((TargetPred,AgreedTarget))\n",
    "alpha1 = krippendorff_alpha(np.array((T5Pred,AgreedTarget)), nominal_metric, missing_items=missing)\n",
    "alpha2 = krippendorff_alpha(np.array((BERTPred,AgreedTarget)), nominal_metric, missing_items=missing)\n",
    "alpha3 = krippendorff_alpha(np.array((XLNetPred,AgreedTarget)), nominal_metric, missing_items=missing)\n",
    "alpha1, alpha2, alpha3"
   ]
  },
  {
   "cell_type": "code",
   "execution_count": 8,
   "id": "48f14908-f5e0-4a79-be63-e09eed441c87",
   "metadata": {
    "tags": []
   },
   "outputs": [
    {
     "data": {
      "text/plain": [
       "0.7653946794592237"
      ]
     },
     "execution_count": 8,
     "metadata": {},
     "output_type": "execute_result"
    }
   ],
   "source": [
    "missing = '-1'\n",
    "alpha = krippendorff_alpha(np.array((T5Pred,BERTPred,XLNetPred)), nominal_metric, missing_items=missing)\n",
    "alpha"
   ]
  },
  {
   "cell_type": "markdown",
   "id": "3d318b0b-8323-4bab-8166-60ad4a68d986",
   "metadata": {
    "tags": []
   },
   "source": [
    "#### Get Krippendorff's Alpha between HO1 and GTxM Classifier and SBERT"
   ]
  },
  {
   "cell_type": "code",
   "execution_count": 9,
   "id": "003660f8-484f-465e-bdd5-4182bc02a84d",
   "metadata": {
    "tags": []
   },
   "outputs": [],
   "source": [
    "def AgreeTargetWithHO1(A1Target, A2Target, HO1Target):\n",
    "    AgreedTarget = '-1'\n",
    "    if (AgreedTarget == '-1') and (A1Target == HO1Target):\n",
    "        AgreedTarget = HO1Target\n",
    "    if (AgreedTarget == '-1') and (A2Target == HO1Target):\n",
    "        AgreedTarget = HO1Target\n",
    "    return AgreedTarget"
   ]
  },
  {
   "cell_type": "code",
   "execution_count": 10,
   "id": "d86294ce-a4d0-463a-a0fb-97902fb91a16",
   "metadata": {
    "tags": []
   },
   "outputs": [
    {
     "data": {
      "text/html": [
       "<div>\n",
       "<style scoped>\n",
       "    .dataframe tbody tr th:only-of-type {\n",
       "        vertical-align: middle;\n",
       "    }\n",
       "\n",
       "    .dataframe tbody tr th {\n",
       "        vertical-align: top;\n",
       "    }\n",
       "\n",
       "    .dataframe thead th {\n",
       "        text-align: right;\n",
       "    }\n",
       "</style>\n",
       "<table border=\"1\" class=\"dataframe\">\n",
       "  <thead>\n",
       "    <tr style=\"text-align: right;\">\n",
       "      <th></th>\n",
       "      <th>RecID</th>\n",
       "      <th>Label</th>\n",
       "      <th>Target</th>\n",
       "      <th>XLNet_CGTPred</th>\n",
       "      <th>XLNet_CGT_NoSSPred</th>\n",
       "      <th>BERT_CGTPred</th>\n",
       "      <th>BERT_CGT_NoSSPred</th>\n",
       "      <th>T5_CGTPred</th>\n",
       "      <th>T5_CGT_NoSSPred</th>\n",
       "      <th>AgreedTarget</th>\n",
       "    </tr>\n",
       "  </thead>\n",
       "  <tbody>\n",
       "    <tr>\n",
       "      <th>0</th>\n",
       "      <td>1222603086558126080</td>\n",
       "      <td>Politics</td>\n",
       "      <td>6</td>\n",
       "      <td>6</td>\n",
       "      <td>6</td>\n",
       "      <td>6</td>\n",
       "      <td>6</td>\n",
       "      <td>6</td>\n",
       "      <td>6</td>\n",
       "      <td>6</td>\n",
       "    </tr>\n",
       "    <tr>\n",
       "      <th>1</th>\n",
       "      <td>1222474209374408705</td>\n",
       "      <td>Politics</td>\n",
       "      <td>6</td>\n",
       "      <td>6</td>\n",
       "      <td>6</td>\n",
       "      <td>6</td>\n",
       "      <td>6</td>\n",
       "      <td>6</td>\n",
       "      <td>6</td>\n",
       "      <td>6</td>\n",
       "    </tr>\n",
       "    <tr>\n",
       "      <th>2</th>\n",
       "      <td>1221936812786167810</td>\n",
       "      <td>Environmental</td>\n",
       "      <td>3</td>\n",
       "      <td>10</td>\n",
       "      <td>3</td>\n",
       "      <td>3</td>\n",
       "      <td>3</td>\n",
       "      <td>3</td>\n",
       "      <td>5</td>\n",
       "      <td>3</td>\n",
       "    </tr>\n",
       "    <tr>\n",
       "      <th>3</th>\n",
       "      <td>1221377542587928576</td>\n",
       "      <td>Politics</td>\n",
       "      <td>6</td>\n",
       "      <td>6</td>\n",
       "      <td>6</td>\n",
       "      <td>6</td>\n",
       "      <td>6</td>\n",
       "      <td>6</td>\n",
       "      <td>6</td>\n",
       "      <td>6</td>\n",
       "    </tr>\n",
       "    <tr>\n",
       "      <th>4</th>\n",
       "      <td>1220823578825887745</td>\n",
       "      <td>Politics</td>\n",
       "      <td>6</td>\n",
       "      <td>-1</td>\n",
       "      <td>-1</td>\n",
       "      <td>-1</td>\n",
       "      <td>-1</td>\n",
       "      <td>-1</td>\n",
       "      <td>-1</td>\n",
       "      <td>-1</td>\n",
       "    </tr>\n",
       "  </tbody>\n",
       "</table>\n",
       "</div>"
      ],
      "text/plain": [
       "                 RecID          Label Target XLNet_CGTPred XLNet_CGT_NoSSPred  \\\n",
       "0  1222603086558126080       Politics      6             6                  6   \n",
       "1  1222474209374408705       Politics      6             6                  6   \n",
       "2  1221936812786167810  Environmental      3            10                  3   \n",
       "3  1221377542587928576       Politics      6             6                  6   \n",
       "4  1220823578825887745       Politics      6            -1                 -1   \n",
       "\n",
       "  BERT_CGTPred BERT_CGT_NoSSPred T5_CGTPred T5_CGT_NoSSPred AgreedTarget  \n",
       "0            6                 6          6               6            6  \n",
       "1            6                 6          6               6            6  \n",
       "2            3                 3          3               5            3  \n",
       "3            6                 6          6               6            6  \n",
       "4           -1                -1         -1              -1           -1  "
      ]
     },
     "execution_count": 10,
     "metadata": {},
     "output_type": "execute_result"
    }
   ],
   "source": [
    "dfPass5.head()"
   ]
  },
  {
   "cell_type": "code",
   "execution_count": 11,
   "id": "e913c4cf-878e-49cd-a4d9-c328af20c0d3",
   "metadata": {
    "tags": []
   },
   "outputs": [],
   "source": [
    "dfPass5.drop(['XLNet_CGTPred','BERT_CGTPred','T5_CGTPred','XLNet_CGT_NoSSPred','BERT_CGT_NoSSPred','T5_CGT_NoSSPred'], axis=1, inplace=True)"
   ]
  },
  {
   "cell_type": "code",
   "execution_count": 12,
   "id": "7aecb0e7-063b-4d8e-aa84-7f4c55b4e22b",
   "metadata": {
    "tags": []
   },
   "outputs": [],
   "source": [
    "dfPass5.rename(columns={'AgreedTarget': 'GClfTarget'}, inplace=True)"
   ]
  },
  {
   "cell_type": "code",
   "execution_count": 13,
   "id": "7578e40c-c626-447d-931a-a0055b8af373",
   "metadata": {
    "tags": []
   },
   "outputs": [
    {
     "data": {
      "text/html": [
       "<div>\n",
       "<style scoped>\n",
       "    .dataframe tbody tr th:only-of-type {\n",
       "        vertical-align: middle;\n",
       "    }\n",
       "\n",
       "    .dataframe tbody tr th {\n",
       "        vertical-align: top;\n",
       "    }\n",
       "\n",
       "    .dataframe thead th {\n",
       "        text-align: right;\n",
       "    }\n",
       "</style>\n",
       "<table border=\"1\" class=\"dataframe\">\n",
       "  <thead>\n",
       "    <tr style=\"text-align: right;\">\n",
       "      <th></th>\n",
       "      <th>RecID</th>\n",
       "      <th>Label</th>\n",
       "      <th>Target</th>\n",
       "      <th>GClfTarget</th>\n",
       "    </tr>\n",
       "  </thead>\n",
       "  <tbody>\n",
       "    <tr>\n",
       "      <th>0</th>\n",
       "      <td>1222603086558126080</td>\n",
       "      <td>Politics</td>\n",
       "      <td>6</td>\n",
       "      <td>6</td>\n",
       "    </tr>\n",
       "    <tr>\n",
       "      <th>1</th>\n",
       "      <td>1222474209374408705</td>\n",
       "      <td>Politics</td>\n",
       "      <td>6</td>\n",
       "      <td>6</td>\n",
       "    </tr>\n",
       "  </tbody>\n",
       "</table>\n",
       "</div>"
      ],
      "text/plain": [
       "                 RecID     Label Target GClfTarget\n",
       "0  1222603086558126080  Politics      6          6\n",
       "1  1222474209374408705  Politics      6          6"
      ]
     },
     "execution_count": 13,
     "metadata": {},
     "output_type": "execute_result"
    }
   ],
   "source": [
    "dfPass5.head(2)"
   ]
  },
  {
   "cell_type": "code",
   "execution_count": 14,
   "id": "9a9a3c9e-10b4-4ad1-8991-d3e6f02a94b0",
   "metadata": {
    "tags": []
   },
   "outputs": [],
   "source": [
    "df_jato_HO1_Labels = pd.read_csv('D:/KOPro/PhD/Implementation/SourceCode/JatoPass5_HO1/data/JatoClassified_HO1_Pass5.csv', usecols=['RecID','NewsPubCat'], dtype='str')"
   ]
  },
  {
   "cell_type": "code",
   "execution_count": 15,
   "id": "93127924-db5a-4173-b9db-79df896d2979",
   "metadata": {
    "tags": []
   },
   "outputs": [
    {
     "data": {
      "text/html": [
       "<div>\n",
       "<style scoped>\n",
       "    .dataframe tbody tr th:only-of-type {\n",
       "        vertical-align: middle;\n",
       "    }\n",
       "\n",
       "    .dataframe tbody tr th {\n",
       "        vertical-align: top;\n",
       "    }\n",
       "\n",
       "    .dataframe thead th {\n",
       "        text-align: right;\n",
       "    }\n",
       "</style>\n",
       "<table border=\"1\" class=\"dataframe\">\n",
       "  <thead>\n",
       "    <tr style=\"text-align: right;\">\n",
       "      <th></th>\n",
       "      <th>RecID</th>\n",
       "      <th>NewsPubCat</th>\n",
       "    </tr>\n",
       "  </thead>\n",
       "  <tbody>\n",
       "    <tr>\n",
       "      <th>0</th>\n",
       "      <td>222818213392678912</td>\n",
       "      <td>Politics</td>\n",
       "    </tr>\n",
       "    <tr>\n",
       "      <th>1</th>\n",
       "      <td>826262311560216578</td>\n",
       "      <td>Politics</td>\n",
       "    </tr>\n",
       "  </tbody>\n",
       "</table>\n",
       "</div>"
      ],
      "text/plain": [
       "                RecID NewsPubCat\n",
       "0  222818213392678912   Politics\n",
       "1  826262311560216578   Politics"
      ]
     },
     "execution_count": 15,
     "metadata": {},
     "output_type": "execute_result"
    }
   ],
   "source": [
    "df_jato_HO1_Labels.head(2)"
   ]
  },
  {
   "cell_type": "code",
   "execution_count": 16,
   "id": "55d02188-6c43-487b-aed6-2dfc36a10685",
   "metadata": {
    "tags": []
   },
   "outputs": [],
   "source": [
    "Labels_Targets = pd.read_csv('data/GTxM_Pass5/Labels_Targets_CGTPass5.csv', dtype='str')"
   ]
  },
  {
   "cell_type": "code",
   "execution_count": 17,
   "id": "70e85b54-4ff6-4fbf-bb52-b42e040e5476",
   "metadata": {
    "tags": []
   },
   "outputs": [
    {
     "data": {
      "text/html": [
       "<div>\n",
       "<style scoped>\n",
       "    .dataframe tbody tr th:only-of-type {\n",
       "        vertical-align: middle;\n",
       "    }\n",
       "\n",
       "    .dataframe tbody tr th {\n",
       "        vertical-align: top;\n",
       "    }\n",
       "\n",
       "    .dataframe thead th {\n",
       "        text-align: right;\n",
       "    }\n",
       "</style>\n",
       "<table border=\"1\" class=\"dataframe\">\n",
       "  <thead>\n",
       "    <tr style=\"text-align: right;\">\n",
       "      <th></th>\n",
       "      <th>Target</th>\n",
       "      <th>Label</th>\n",
       "    </tr>\n",
       "  </thead>\n",
       "  <tbody>\n",
       "    <tr>\n",
       "      <th>0</th>\n",
       "      <td>1</td>\n",
       "      <td>Business</td>\n",
       "    </tr>\n",
       "    <tr>\n",
       "      <th>1</th>\n",
       "      <td>2</td>\n",
       "      <td>Entertainment</td>\n",
       "    </tr>\n",
       "  </tbody>\n",
       "</table>\n",
       "</div>"
      ],
      "text/plain": [
       "  Target          Label\n",
       "0      1       Business\n",
       "1      2  Entertainment"
      ]
     },
     "execution_count": 17,
     "metadata": {},
     "output_type": "execute_result"
    }
   ],
   "source": [
    "Labels_Targets.head(2)"
   ]
  },
  {
   "cell_type": "code",
   "execution_count": 18,
   "id": "2f3fc37f-943a-41ae-8a88-af6596dc94d6",
   "metadata": {
    "tags": []
   },
   "outputs": [],
   "source": [
    "df_jato_HO1_Labels.rename(columns={'NewsPubCat': 'Label'}, inplace=True)"
   ]
  },
  {
   "cell_type": "code",
   "execution_count": 19,
   "id": "4e4ad999-4365-47ce-a022-2383e644bdcd",
   "metadata": {
    "tags": []
   },
   "outputs": [],
   "source": [
    "df_HO1_Labels_Targets = pd.merge(df_jato_HO1_Labels,Labels_Targets, on='Label', how='left')"
   ]
  },
  {
   "cell_type": "code",
   "execution_count": 20,
   "id": "880700be-e9cf-4532-a2e3-c8babde7ff06",
   "metadata": {
    "tags": []
   },
   "outputs": [
    {
     "data": {
      "text/html": [
       "<div>\n",
       "<style scoped>\n",
       "    .dataframe tbody tr th:only-of-type {\n",
       "        vertical-align: middle;\n",
       "    }\n",
       "\n",
       "    .dataframe tbody tr th {\n",
       "        vertical-align: top;\n",
       "    }\n",
       "\n",
       "    .dataframe thead th {\n",
       "        text-align: right;\n",
       "    }\n",
       "</style>\n",
       "<table border=\"1\" class=\"dataframe\">\n",
       "  <thead>\n",
       "    <tr style=\"text-align: right;\">\n",
       "      <th></th>\n",
       "      <th>RecID</th>\n",
       "      <th>Label</th>\n",
       "      <th>Target</th>\n",
       "    </tr>\n",
       "  </thead>\n",
       "  <tbody>\n",
       "    <tr>\n",
       "      <th>0</th>\n",
       "      <td>222818213392678912</td>\n",
       "      <td>Politics</td>\n",
       "      <td>6</td>\n",
       "    </tr>\n",
       "    <tr>\n",
       "      <th>1</th>\n",
       "      <td>826262311560216578</td>\n",
       "      <td>Politics</td>\n",
       "      <td>6</td>\n",
       "    </tr>\n",
       "    <tr>\n",
       "      <th>2</th>\n",
       "      <td>833502973204459520</td>\n",
       "      <td>Entertainment</td>\n",
       "      <td>2</td>\n",
       "    </tr>\n",
       "    <tr>\n",
       "      <th>3</th>\n",
       "      <td>835347243020451840</td>\n",
       "      <td>Human Rights</td>\n",
       "      <td>5</td>\n",
       "    </tr>\n",
       "    <tr>\n",
       "      <th>4</th>\n",
       "      <td>867832469181128704</td>\n",
       "      <td>Entertainment</td>\n",
       "      <td>2</td>\n",
       "    </tr>\n",
       "    <tr>\n",
       "      <th>...</th>\n",
       "      <td>...</td>\n",
       "      <td>...</td>\n",
       "      <td>...</td>\n",
       "    </tr>\n",
       "    <tr>\n",
       "      <th>2380</th>\n",
       "      <td>1223262356496699394</td>\n",
       "      <td>Entertainment</td>\n",
       "      <td>2</td>\n",
       "    </tr>\n",
       "    <tr>\n",
       "      <th>2381</th>\n",
       "      <td>1223301592549556224</td>\n",
       "      <td>Politics</td>\n",
       "      <td>6</td>\n",
       "    </tr>\n",
       "    <tr>\n",
       "      <th>2382</th>\n",
       "      <td>1223302445889150976</td>\n",
       "      <td>Politics</td>\n",
       "      <td>6</td>\n",
       "    </tr>\n",
       "    <tr>\n",
       "      <th>2383</th>\n",
       "      <td>1223365339494453248</td>\n",
       "      <td>Politics</td>\n",
       "      <td>6</td>\n",
       "    </tr>\n",
       "    <tr>\n",
       "      <th>2384</th>\n",
       "      <td>1223389175468249088</td>\n",
       "      <td>Politics</td>\n",
       "      <td>6</td>\n",
       "    </tr>\n",
       "  </tbody>\n",
       "</table>\n",
       "<p>2385 rows × 3 columns</p>\n",
       "</div>"
      ],
      "text/plain": [
       "                    RecID          Label Target\n",
       "0      222818213392678912       Politics      6\n",
       "1      826262311560216578       Politics      6\n",
       "2      833502973204459520  Entertainment      2\n",
       "3      835347243020451840   Human Rights      5\n",
       "4      867832469181128704  Entertainment      2\n",
       "...                   ...            ...    ...\n",
       "2380  1223262356496699394  Entertainment      2\n",
       "2381  1223301592549556224       Politics      6\n",
       "2382  1223302445889150976       Politics      6\n",
       "2383  1223365339494453248       Politics      6\n",
       "2384  1223389175468249088       Politics      6\n",
       "\n",
       "[2385 rows x 3 columns]"
      ]
     },
     "execution_count": 20,
     "metadata": {},
     "output_type": "execute_result"
    }
   ],
   "source": [
    "df_HO1_Labels_Targets"
   ]
  },
  {
   "cell_type": "code",
   "execution_count": 21,
   "id": "99dfc6de-5e45-421c-98ea-d5d27ff6ff60",
   "metadata": {
    "tags": []
   },
   "outputs": [],
   "source": [
    "df_HO1_Labels_Targets.rename(columns={'Label': 'HO1Label', 'Target': 'HO1Target'}, inplace=True)"
   ]
  },
  {
   "cell_type": "code",
   "execution_count": 22,
   "id": "f230541f-a5e3-445b-b284-c587afbfbb2f",
   "metadata": {
    "tags": []
   },
   "outputs": [],
   "source": [
    "df_HO1_GClf = pd.merge(dfPass5, df_HO1_Labels_Targets, on='RecID', how='left')"
   ]
  },
  {
   "cell_type": "code",
   "execution_count": 23,
   "id": "e83ed1b4-9cf9-4085-91cc-35543d2192d1",
   "metadata": {
    "tags": []
   },
   "outputs": [
    {
     "data": {
      "text/html": [
       "<div>\n",
       "<style scoped>\n",
       "    .dataframe tbody tr th:only-of-type {\n",
       "        vertical-align: middle;\n",
       "    }\n",
       "\n",
       "    .dataframe tbody tr th {\n",
       "        vertical-align: top;\n",
       "    }\n",
       "\n",
       "    .dataframe thead th {\n",
       "        text-align: right;\n",
       "    }\n",
       "</style>\n",
       "<table border=\"1\" class=\"dataframe\">\n",
       "  <thead>\n",
       "    <tr style=\"text-align: right;\">\n",
       "      <th></th>\n",
       "      <th>RecID</th>\n",
       "      <th>Label</th>\n",
       "      <th>Target</th>\n",
       "      <th>GClfTarget</th>\n",
       "      <th>HO1Label</th>\n",
       "      <th>HO1Target</th>\n",
       "    </tr>\n",
       "  </thead>\n",
       "  <tbody>\n",
       "    <tr>\n",
       "      <th>0</th>\n",
       "      <td>1222603086558126080</td>\n",
       "      <td>Politics</td>\n",
       "      <td>6</td>\n",
       "      <td>6</td>\n",
       "      <td>Health</td>\n",
       "      <td>4</td>\n",
       "    </tr>\n",
       "    <tr>\n",
       "      <th>1</th>\n",
       "      <td>1222474209374408705</td>\n",
       "      <td>Politics</td>\n",
       "      <td>6</td>\n",
       "      <td>6</td>\n",
       "      <td>Politics</td>\n",
       "      <td>6</td>\n",
       "    </tr>\n",
       "    <tr>\n",
       "      <th>2</th>\n",
       "      <td>1221936812786167810</td>\n",
       "      <td>Environmental</td>\n",
       "      <td>3</td>\n",
       "      <td>3</td>\n",
       "      <td>Unknown</td>\n",
       "      <td>0</td>\n",
       "    </tr>\n",
       "    <tr>\n",
       "      <th>3</th>\n",
       "      <td>1221377542587928576</td>\n",
       "      <td>Politics</td>\n",
       "      <td>6</td>\n",
       "      <td>6</td>\n",
       "      <td>Politics</td>\n",
       "      <td>6</td>\n",
       "    </tr>\n",
       "    <tr>\n",
       "      <th>4</th>\n",
       "      <td>1220823578825887745</td>\n",
       "      <td>Politics</td>\n",
       "      <td>6</td>\n",
       "      <td>-1</td>\n",
       "      <td>Politics</td>\n",
       "      <td>6</td>\n",
       "    </tr>\n",
       "    <tr>\n",
       "      <th>...</th>\n",
       "      <td>...</td>\n",
       "      <td>...</td>\n",
       "      <td>...</td>\n",
       "      <td>...</td>\n",
       "      <td>...</td>\n",
       "      <td>...</td>\n",
       "    </tr>\n",
       "    <tr>\n",
       "      <th>215</th>\n",
       "      <td>1192717207895072769</td>\n",
       "      <td>Environmental</td>\n",
       "      <td>3</td>\n",
       "      <td>3</td>\n",
       "      <td>Environmental</td>\n",
       "      <td>3</td>\n",
       "    </tr>\n",
       "    <tr>\n",
       "      <th>216</th>\n",
       "      <td>1189678712490360833</td>\n",
       "      <td>Sports</td>\n",
       "      <td>11</td>\n",
       "      <td>10</td>\n",
       "      <td>Sports</td>\n",
       "      <td>11</td>\n",
       "    </tr>\n",
       "    <tr>\n",
       "      <th>217</th>\n",
       "      <td>1185507039008698368</td>\n",
       "      <td>Human Rights</td>\n",
       "      <td>5</td>\n",
       "      <td>-1</td>\n",
       "      <td>Human Rights</td>\n",
       "      <td>5</td>\n",
       "    </tr>\n",
       "    <tr>\n",
       "      <th>218</th>\n",
       "      <td>1197994951771951105</td>\n",
       "      <td>Human Rights</td>\n",
       "      <td>5</td>\n",
       "      <td>5</td>\n",
       "      <td>Human Rights</td>\n",
       "      <td>5</td>\n",
       "    </tr>\n",
       "    <tr>\n",
       "      <th>219</th>\n",
       "      <td>1213840375380447233</td>\n",
       "      <td>World Politics</td>\n",
       "      <td>12</td>\n",
       "      <td>-1</td>\n",
       "      <td>World Politics</td>\n",
       "      <td>12</td>\n",
       "    </tr>\n",
       "  </tbody>\n",
       "</table>\n",
       "<p>220 rows × 6 columns</p>\n",
       "</div>"
      ],
      "text/plain": [
       "                   RecID           Label Target GClfTarget        HO1Label  \\\n",
       "0    1222603086558126080        Politics      6          6          Health   \n",
       "1    1222474209374408705        Politics      6          6        Politics   \n",
       "2    1221936812786167810   Environmental      3          3         Unknown   \n",
       "3    1221377542587928576        Politics      6          6        Politics   \n",
       "4    1220823578825887745        Politics      6         -1        Politics   \n",
       "..                   ...             ...    ...        ...             ...   \n",
       "215  1192717207895072769   Environmental      3          3   Environmental   \n",
       "216  1189678712490360833          Sports     11         10          Sports   \n",
       "217  1185507039008698368    Human Rights      5         -1    Human Rights   \n",
       "218  1197994951771951105    Human Rights      5          5    Human Rights   \n",
       "219  1213840375380447233  World Politics     12         -1  World Politics   \n",
       "\n",
       "    HO1Target  \n",
       "0           4  \n",
       "1           6  \n",
       "2           0  \n",
       "3           6  \n",
       "4           6  \n",
       "..        ...  \n",
       "215         3  \n",
       "216        11  \n",
       "217         5  \n",
       "218         5  \n",
       "219        12  \n",
       "\n",
       "[220 rows x 6 columns]"
      ]
     },
     "execution_count": 23,
     "metadata": {},
     "output_type": "execute_result"
    }
   ],
   "source": [
    "df_HO1_GClf"
   ]
  },
  {
   "cell_type": "code",
   "execution_count": 24,
   "id": "54a8dd4a-9b0c-4666-85ac-c5148e18cb9f",
   "metadata": {
    "tags": []
   },
   "outputs": [],
   "source": [
    "df_HO1_GClf.rename(columns={'Target': 'SBERTTarget', 'Label': 'SBERTLabel'}, inplace=True)"
   ]
  },
  {
   "cell_type": "code",
   "execution_count": 25,
   "id": "30cff81a-ed57-49b7-a6c6-6f7ac0c7dbf8",
   "metadata": {
    "tags": []
   },
   "outputs": [
    {
     "data": {
      "text/html": [
       "<div>\n",
       "<style scoped>\n",
       "    .dataframe tbody tr th:only-of-type {\n",
       "        vertical-align: middle;\n",
       "    }\n",
       "\n",
       "    .dataframe tbody tr th {\n",
       "        vertical-align: top;\n",
       "    }\n",
       "\n",
       "    .dataframe thead th {\n",
       "        text-align: right;\n",
       "    }\n",
       "</style>\n",
       "<table border=\"1\" class=\"dataframe\">\n",
       "  <thead>\n",
       "    <tr style=\"text-align: right;\">\n",
       "      <th></th>\n",
       "      <th>RecID</th>\n",
       "      <th>SBERTLabel</th>\n",
       "      <th>SBERTTarget</th>\n",
       "      <th>GClfTarget</th>\n",
       "      <th>HO1Label</th>\n",
       "      <th>HO1Target</th>\n",
       "    </tr>\n",
       "  </thead>\n",
       "  <tbody>\n",
       "    <tr>\n",
       "      <th>0</th>\n",
       "      <td>1222603086558126080</td>\n",
       "      <td>Politics</td>\n",
       "      <td>6</td>\n",
       "      <td>6</td>\n",
       "      <td>Health</td>\n",
       "      <td>4</td>\n",
       "    </tr>\n",
       "    <tr>\n",
       "      <th>1</th>\n",
       "      <td>1222474209374408705</td>\n",
       "      <td>Politics</td>\n",
       "      <td>6</td>\n",
       "      <td>6</td>\n",
       "      <td>Politics</td>\n",
       "      <td>6</td>\n",
       "    </tr>\n",
       "  </tbody>\n",
       "</table>\n",
       "</div>"
      ],
      "text/plain": [
       "                 RecID SBERTLabel SBERTTarget GClfTarget  HO1Label HO1Target\n",
       "0  1222603086558126080   Politics           6          6    Health         4\n",
       "1  1222474209374408705   Politics           6          6  Politics         6"
      ]
     },
     "execution_count": 25,
     "metadata": {},
     "output_type": "execute_result"
    }
   ],
   "source": [
    "df_HO1_GClf.head(2)"
   ]
  },
  {
   "cell_type": "code",
   "execution_count": 67,
   "id": "e28f83d5-9643-41a1-ba2b-fd81a1e3f9fe",
   "metadata": {
    "tags": []
   },
   "outputs": [],
   "source": [
    "df_HO1_GClf.to_csv('df_HO1_GClf.csv')"
   ]
  },
  {
   "cell_type": "code",
   "execution_count": 26,
   "id": "3b905225-72b6-4b35-8439-7fd18fc60bbb",
   "metadata": {
    "tags": []
   },
   "outputs": [],
   "source": [
    "# set HO1Target's Unknown to -1 for Krippendroff's Alpha calculation\n",
    "df_HO1_GClf.loc[(df_HO1_GClf.HO1Target == '0'), 'HO1Target'] = '-1'"
   ]
  },
  {
   "cell_type": "code",
   "execution_count": 27,
   "id": "b28decaa-e77c-44c3-8c83-c2a8ecde53cf",
   "metadata": {
    "tags": []
   },
   "outputs": [],
   "source": [
    "df_HO1_GClf['HO1Target'].fillna(value='-1', inplace=True)"
   ]
  },
  {
   "cell_type": "code",
   "execution_count": 28,
   "id": "2458ca49-5bc1-4098-932b-78bd2a0c9d43",
   "metadata": {
    "tags": []
   },
   "outputs": [],
   "source": [
    "df_HO1_GClf['HO1AgreedTarget'] = df_HO1_GClf.apply(lambda x: AgreeTargetWithHO1(x['SBERTTarget'], x['GClfTarget'], x['HO1Target']), axis=1)"
   ]
  },
  {
   "cell_type": "code",
   "execution_count": 29,
   "id": "62b1edb1-d5ab-4b27-9058-89e6f63eccb6",
   "metadata": {
    "tags": []
   },
   "outputs": [],
   "source": [
    "HO1Pred = np.stack(df_HO1_GClf['HO1Target'].astype(\"string\"))\n",
    "GClfPred = np.stack(df_HO1_GClf['GClfTarget'].astype(\"string\"))\n",
    "SBERTPred = np.stack(df_HO1_GClf['SBERTTarget'].astype(\"string\"))\n",
    "HO1AgreedTarget = np.stack(df_HO1_GClf['HO1AgreedTarget'].astype(\"string\"))"
   ]
  },
  {
   "cell_type": "code",
   "execution_count": 30,
   "id": "34466616-cec3-4e56-944e-04430243d7d6",
   "metadata": {
    "tags": []
   },
   "outputs": [
    {
     "data": {
      "text/plain": [
       "(0.4246432857714362, 0.38641532400140943, 0.2660869133719559)"
      ]
     },
     "execution_count": 30,
     "metadata": {},
     "output_type": "execute_result"
    }
   ],
   "source": [
    "missing = '-1'\n",
    "alpha1 = krippendorff_alpha(np.array((HO1Pred,HO1AgreedTarget)), nominal_metric, missing_items=missing)\n",
    "alpha2 = krippendorff_alpha(np.array((GClfPred,HO1AgreedTarget)), nominal_metric, missing_items=missing)\n",
    "alpha3 = krippendorff_alpha(np.array((SBERTPred,HO1AgreedTarget)), nominal_metric, missing_items=missing)\n",
    "alpha1, alpha2, alpha3"
   ]
  },
  {
   "cell_type": "code",
   "execution_count": 33,
   "id": "91c14573-26d1-4236-98d8-1839f8e8e7f2",
   "metadata": {
    "tags": []
   },
   "outputs": [
    {
     "data": {
      "text/plain": [
       "0.2640310821824514"
      ]
     },
     "execution_count": 33,
     "metadata": {},
     "output_type": "execute_result"
    }
   ],
   "source": [
    "missing = '-1'\n",
    "alpha = krippendorff_alpha(np.array((HO1Pred,GClfPred,SBERTPred)), nominal_metric, missing_items=missing)\n",
    "alpha"
   ]
  },
  {
   "cell_type": "code",
   "execution_count": 34,
   "id": "b9675c96-e1d3-47d4-94d3-7753bab1ee34",
   "metadata": {
    "tags": []
   },
   "outputs": [
    {
     "data": {
      "text/plain": [
       "99"
      ]
     },
     "execution_count": 34,
     "metadata": {},
     "output_type": "execute_result"
    }
   ],
   "source": [
    "df_HO1_GClf_GTD = df_HO1_GClf[df_HO1_GClf.HO1AgreedTarget != '-1']\n",
    "len(df_HO1_GClf_GTD)"
   ]
  },
  {
   "cell_type": "code",
   "execution_count": 74,
   "id": "5d189116-3d64-45ba-9b0f-4c713ff769b4",
   "metadata": {
    "tags": []
   },
   "outputs": [],
   "source": [
    "df_Pass5_HO1_GTD = df_HO1_GClf_GTD[['RecID','HO1Label','HO1Target']]"
   ]
  },
  {
   "cell_type": "code",
   "execution_count": 75,
   "id": "978329f4-589c-4399-9734-77bae0d6f214",
   "metadata": {
    "tags": []
   },
   "outputs": [
    {
     "name": "stderr",
     "output_type": "stream",
     "text": [
      "C:\\Users\\kazeem\\AppData\\Local\\Temp\\ipykernel_3176\\836581894.py:1: SettingWithCopyWarning: \n",
      "A value is trying to be set on a copy of a slice from a DataFrame\n",
      "\n",
      "See the caveats in the documentation: https://pandas.pydata.org/pandas-docs/stable/user_guide/indexing.html#returning-a-view-versus-a-copy\n",
      "  df_Pass5_HO1_GTD.rename(columns={'HO1Target': 'Target', 'HO1Label': 'Label'}, inplace=True)\n"
     ]
    }
   ],
   "source": [
    "df_Pass5_HO1_GTD.rename(columns={'HO1Target': 'Target', 'HO1Label': 'Label'}, inplace=True)"
   ]
  },
  {
   "cell_type": "code",
   "execution_count": 76,
   "id": "288396ba-ac93-4fc9-9891-ab95a0cc89f6",
   "metadata": {
    "tags": []
   },
   "outputs": [
    {
     "data": {
      "text/html": [
       "<div>\n",
       "<style scoped>\n",
       "    .dataframe tbody tr th:only-of-type {\n",
       "        vertical-align: middle;\n",
       "    }\n",
       "\n",
       "    .dataframe tbody tr th {\n",
       "        vertical-align: top;\n",
       "    }\n",
       "\n",
       "    .dataframe thead th {\n",
       "        text-align: right;\n",
       "    }\n",
       "</style>\n",
       "<table border=\"1\" class=\"dataframe\">\n",
       "  <thead>\n",
       "    <tr style=\"text-align: right;\">\n",
       "      <th></th>\n",
       "      <th>RecID</th>\n",
       "      <th>Label</th>\n",
       "      <th>Target</th>\n",
       "    </tr>\n",
       "  </thead>\n",
       "  <tbody>\n",
       "    <tr>\n",
       "      <th>1</th>\n",
       "      <td>1222474209374408705</td>\n",
       "      <td>Politics</td>\n",
       "      <td>6</td>\n",
       "    </tr>\n",
       "    <tr>\n",
       "      <th>3</th>\n",
       "      <td>1221377542587928576</td>\n",
       "      <td>Politics</td>\n",
       "      <td>6</td>\n",
       "    </tr>\n",
       "    <tr>\n",
       "      <th>4</th>\n",
       "      <td>1220823578825887745</td>\n",
       "      <td>Politics</td>\n",
       "      <td>6</td>\n",
       "    </tr>\n",
       "    <tr>\n",
       "      <th>6</th>\n",
       "      <td>1220562224185405445</td>\n",
       "      <td>Politics</td>\n",
       "      <td>6</td>\n",
       "    </tr>\n",
       "    <tr>\n",
       "      <th>9</th>\n",
       "      <td>1220088156625588225</td>\n",
       "      <td>Obituary</td>\n",
       "      <td>9</td>\n",
       "    </tr>\n",
       "  </tbody>\n",
       "</table>\n",
       "</div>"
      ],
      "text/plain": [
       "                 RecID     Label Target\n",
       "1  1222474209374408705  Politics      6\n",
       "3  1221377542587928576  Politics      6\n",
       "4  1220823578825887745  Politics      6\n",
       "6  1220562224185405445  Politics      6\n",
       "9  1220088156625588225  Obituary      9"
      ]
     },
     "execution_count": 76,
     "metadata": {},
     "output_type": "execute_result"
    }
   ],
   "source": [
    "df_Pass5_HO1_GTD.head()"
   ]
  },
  {
   "cell_type": "code",
   "execution_count": 77,
   "id": "13077e7c-b5c5-424d-aaa7-1431614d09b9",
   "metadata": {
    "tags": []
   },
   "outputs": [
    {
     "data": {
      "text/plain": [
       "99"
      ]
     },
     "execution_count": 77,
     "metadata": {},
     "output_type": "execute_result"
    }
   ],
   "source": [
    "len(df_Pass5_HO1_GTD)"
   ]
  },
  {
   "cell_type": "code",
   "execution_count": 78,
   "id": "bd7ede6f-0567-4ccd-9abd-51f4a911bf8e",
   "metadata": {
    "tags": []
   },
   "outputs": [],
   "source": [
    "#df_HO2HO1_GTD = df_HO2HO1_Labels[df_HO2HO1_Labels.HO2AgreedTarget != '-1']\n",
    "#len(df_HO2HO1_GTD)"
   ]
  },
  {
   "cell_type": "code",
   "execution_count": 79,
   "id": "759f70a7-4a3e-4390-8342-3ca3fbab9f33",
   "metadata": {
    "tags": []
   },
   "outputs": [
    {
     "data": {
      "text/plain": [
       "121"
      ]
     },
     "execution_count": 79,
     "metadata": {},
     "output_type": "execute_result"
    }
   ],
   "source": [
    "df_HO1_To_HO2 = df_HO1_GClf[df_HO1_GClf.HO1AgreedTarget == '-1']\n",
    "len(df_HO1_To_HO2)"
   ]
  },
  {
   "cell_type": "code",
   "execution_count": 82,
   "id": "504f0d35-32a5-48bc-8b24-8d10c9f1b129",
   "metadata": {
    "tags": []
   },
   "outputs": [
    {
     "data": {
      "text/html": [
       "<div>\n",
       "<style scoped>\n",
       "    .dataframe tbody tr th:only-of-type {\n",
       "        vertical-align: middle;\n",
       "    }\n",
       "\n",
       "    .dataframe tbody tr th {\n",
       "        vertical-align: top;\n",
       "    }\n",
       "\n",
       "    .dataframe thead th {\n",
       "        text-align: right;\n",
       "    }\n",
       "</style>\n",
       "<table border=\"1\" class=\"dataframe\">\n",
       "  <thead>\n",
       "    <tr style=\"text-align: right;\">\n",
       "      <th></th>\n",
       "      <th>RecID</th>\n",
       "      <th>SBERTLabel</th>\n",
       "      <th>SBERTTarget</th>\n",
       "      <th>GClfTarget</th>\n",
       "      <th>HO1Label</th>\n",
       "      <th>HO1Target</th>\n",
       "      <th>HO1AgreedTarget</th>\n",
       "    </tr>\n",
       "  </thead>\n",
       "  <tbody>\n",
       "    <tr>\n",
       "      <th>0</th>\n",
       "      <td>1222603086558126080</td>\n",
       "      <td>Politics</td>\n",
       "      <td>6</td>\n",
       "      <td>6</td>\n",
       "      <td>Health</td>\n",
       "      <td>4</td>\n",
       "      <td>-1</td>\n",
       "    </tr>\n",
       "    <tr>\n",
       "      <th>1</th>\n",
       "      <td>1221936812786167810</td>\n",
       "      <td>Environmental</td>\n",
       "      <td>3</td>\n",
       "      <td>3</td>\n",
       "      <td>Unknown</td>\n",
       "      <td>-1</td>\n",
       "      <td>-1</td>\n",
       "    </tr>\n",
       "  </tbody>\n",
       "</table>\n",
       "</div>"
      ],
      "text/plain": [
       "                 RecID     SBERTLabel SBERTTarget GClfTarget HO1Label  \\\n",
       "0  1222603086558126080       Politics           6          6   Health   \n",
       "1  1221936812786167810  Environmental           3          3  Unknown   \n",
       "\n",
       "  HO1Target HO1AgreedTarget  \n",
       "0         4              -1  \n",
       "1        -1              -1  "
      ]
     },
     "execution_count": 82,
     "metadata": {},
     "output_type": "execute_result"
    }
   ],
   "source": [
    "df_HO1_To_HO2.head(2)"
   ]
  },
  {
   "cell_type": "code",
   "execution_count": 83,
   "id": "8348e7e3-e785-42e8-b2b0-ef69a4176dbb",
   "metadata": {
    "tags": []
   },
   "outputs": [],
   "source": [
    "# Use the RecIDs in this file to extract JatoMaster from MasterTokens in SQL-SERVER and save into data/GTxM_Pass2/\n",
    "df_HO1_To_HO2.to_csv('data/GTxM_Pass5/df_HO1_To_HO2.csv', index=False)"
   ]
  },
  {
   "cell_type": "markdown",
   "id": "fe253885-f0bc-4550-a21e-fb7e1ed01bef",
   "metadata": {
    "jp-MarkdownHeadingCollapsed": true,
    "tags": []
   },
   "source": [
    "#### Acquire new GTD from HO1 and GClf agreement"
   ]
  },
  {
   "cell_type": "code",
   "execution_count": 81,
   "id": "fabea2c5-5866-446f-aa4c-b298d4610c11",
   "metadata": {
    "tags": []
   },
   "outputs": [],
   "source": [
    "df_Pass5_HO1_GTD.to_csv('data/GTxM_Pass5/GTxM_Pass5_GTD_HO1.csv', index=False)"
   ]
  },
  {
   "cell_type": "markdown",
   "id": "6bb459f1-fcdf-44f5-99b0-f8682571c3a3",
   "metadata": {
    "tags": []
   },
   "source": [
    "#### Generate JatoMaster for HO2 Labeling"
   ]
  },
  {
   "cell_type": "code",
   "execution_count": 82,
   "id": "77fe0782-ffa6-47fb-baec-43ee60bbc287",
   "metadata": {
    "tags": []
   },
   "outputs": [],
   "source": [
    "df_master_tokens = pd.read_csv('data/MasterTokens.csv', dtype='str')"
   ]
  },
  {
   "cell_type": "code",
   "execution_count": 83,
   "id": "b395596b-efbf-48ec-a361-b9cb1329e7bf",
   "metadata": {
    "tags": []
   },
   "outputs": [
    {
     "data": {
      "text/plain": [
       "121"
      ]
     },
     "execution_count": 83,
     "metadata": {},
     "output_type": "execute_result"
    }
   ],
   "source": [
    "df_jato_HO2_tokens = pd.merge(df_master_tokens,df_HO1_To_HO2['RecID'], on='RecID')\n",
    "len(df_jato_HO2_tokens)"
   ]
  },
  {
   "cell_type": "code",
   "execution_count": 84,
   "id": "55a70605-4f58-43ff-99fe-0712f495c1da",
   "metadata": {
    "tags": []
   },
   "outputs": [
    {
     "data": {
      "text/html": [
       "<div>\n",
       "<style scoped>\n",
       "    .dataframe tbody tr th:only-of-type {\n",
       "        vertical-align: middle;\n",
       "    }\n",
       "\n",
       "    .dataframe tbody tr th {\n",
       "        vertical-align: top;\n",
       "    }\n",
       "\n",
       "    .dataframe thead th {\n",
       "        text-align: right;\n",
       "    }\n",
       "</style>\n",
       "<table border=\"1\" class=\"dataframe\">\n",
       "  <thead>\n",
       "    <tr style=\"text-align: right;\">\n",
       "      <th></th>\n",
       "      <th>rowid</th>\n",
       "      <th>RecID</th>\n",
       "      <th>PubTitle</th>\n",
       "      <th>RecDoc</th>\n",
       "      <th>countSupTweets</th>\n",
       "      <th>smrHashtags</th>\n",
       "      <th>smrMentions</th>\n",
       "      <th>smrNER</th>\n",
       "      <th>smrNouns</th>\n",
       "      <th>smrVerbs</th>\n",
       "      <th>smrAdverbs</th>\n",
       "      <th>smrAdjectives</th>\n",
       "      <th>smrTopText</th>\n",
       "      <th>smrSummary</th>\n",
       "    </tr>\n",
       "  </thead>\n",
       "  <tbody>\n",
       "    <tr>\n",
       "      <th>0</th>\n",
       "      <td>155</td>\n",
       "      <td>1057291398880391170</td>\n",
       "      <td>Could fireworks be restricted at Scottish homes?</td>\n",
       "      <td>This is the effect fireworks can have on a dog...</td>\n",
       "      <td>45.0</td>\n",
       "      <td>banfireworks fireworks</td>\n",
       "      <td>neilmackay gamesshed didriksoderlind bbcradios...</td>\n",
       "      <td>juli timmi uk last night daili bob marley ub j...</td>\n",
       "      <td>effect firework dog juli hors goat lot firewor...</td>\n",
       "      <td>stand comfort reli built hear held purchas des...</td>\n",
       "      <td>outsid long care fairli ahead exactli seemingl...</td>\n",
       "      <td>gener licens wide gener last daili big loud so...</td>\n",
       "      <td>This is the effect fireworks can have on a dog...</td>\n",
       "      <td>This is the effect fireworks can have on a dog...</td>\n",
       "    </tr>\n",
       "    <tr>\n",
       "      <th>1</th>\n",
       "      <td>374</td>\n",
       "      <td>1165822705037217792</td>\n",
       "      <td>Cars Are Death Machines. Self-Driving Tech Won...</td>\n",
       "      <td>Please RT if you, or someone you know, has bee...</td>\n",
       "      <td>17.0</td>\n",
       "      <td></td>\n",
       "      <td>aarieff realdonaldtrump ttmitch</td>\n",
       "      <td>yard hoboken nj washington yanke stadium long ...</td>\n",
       "      <td>car experi mobil panel daughter car yard aspha...</td>\n",
       "      <td>hit hit thrown end broken land save pass place...</td>\n",
       "      <td>badli recent straight right nearli nearli slow...</td>\n",
       "      <td>littl upcom catastroph oncom danger high small...</td>\n",
       "      <td>Please RT if you, or someone you know, has bee...</td>\n",
       "      <td>Please RT if you, or someone you know, has bee...</td>\n",
       "    </tr>\n",
       "  </tbody>\n",
       "</table>\n",
       "</div>"
      ],
      "text/plain": [
       "  rowid                RecID  \\\n",
       "0   155  1057291398880391170   \n",
       "1   374  1165822705037217792   \n",
       "\n",
       "                                            PubTitle  \\\n",
       "0   Could fireworks be restricted at Scottish homes?   \n",
       "1  Cars Are Death Machines. Self-Driving Tech Won...   \n",
       "\n",
       "                                              RecDoc countSupTweets  \\\n",
       "0  This is the effect fireworks can have on a dog...           45.0   \n",
       "1  Please RT if you, or someone you know, has bee...           17.0   \n",
       "\n",
       "              smrHashtags                                        smrMentions  \\\n",
       "0  banfireworks fireworks  neilmackay gamesshed didriksoderlind bbcradios...   \n",
       "1                                            aarieff realdonaldtrump ttmitch   \n",
       "\n",
       "                                              smrNER  \\\n",
       "0  juli timmi uk last night daili bob marley ub j...   \n",
       "1  yard hoboken nj washington yanke stadium long ...   \n",
       "\n",
       "                                            smrNouns  \\\n",
       "0  effect firework dog juli hors goat lot firewor...   \n",
       "1  car experi mobil panel daughter car yard aspha...   \n",
       "\n",
       "                                            smrVerbs  \\\n",
       "0  stand comfort reli built hear held purchas des...   \n",
       "1  hit hit thrown end broken land save pass place...   \n",
       "\n",
       "                                          smrAdverbs  \\\n",
       "0  outsid long care fairli ahead exactli seemingl...   \n",
       "1  badli recent straight right nearli nearli slow...   \n",
       "\n",
       "                                       smrAdjectives  \\\n",
       "0  gener licens wide gener last daili big loud so...   \n",
       "1  littl upcom catastroph oncom danger high small...   \n",
       "\n",
       "                                          smrTopText  \\\n",
       "0  This is the effect fireworks can have on a dog...   \n",
       "1  Please RT if you, or someone you know, has bee...   \n",
       "\n",
       "                                          smrSummary  \n",
       "0  This is the effect fireworks can have on a dog...  \n",
       "1  Please RT if you, or someone you know, has bee...  "
      ]
     },
     "execution_count": 84,
     "metadata": {},
     "output_type": "execute_result"
    }
   ],
   "source": [
    "df_jato_HO2_tokens.head(2)"
   ]
  },
  {
   "cell_type": "code",
   "execution_count": 85,
   "id": "7ecbf8cc-1f29-4b76-9bfc-b54625f9f246",
   "metadata": {
    "tags": []
   },
   "outputs": [],
   "source": [
    "df_jato_HO2_tokens.drop(['smrAdverbs','smrAdjectives'], axis=1, inplace=True)"
   ]
  },
  {
   "cell_type": "code",
   "execution_count": 88,
   "id": "1c92f218-c19e-4dc9-9c24-0086b2376252",
   "metadata": {
    "tags": []
   },
   "outputs": [],
   "source": [
    "df_jato_HO2_tokens['PubTitle'] = df_jato_HO2_tokens['PubTitle'].apply(removeSpChar4Jato)\n",
    "df_jato_HO2_tokens['RecDoc'] = df_jato_HO2_tokens['RecDoc'].apply(removeSpChar4Jato)\n",
    "df_jato_HO2_tokens['smrTopText'] = df_jato_HO2_tokens['smrTopText'].apply(removeSpChar4Jato)\n",
    "df_jato_HO2_tokens['smrSummary'] = df_jato_HO2_tokens['smrSummary'].apply(removeSpChar4Jato)"
   ]
  },
  {
   "cell_type": "code",
   "execution_count": 89,
   "id": "734c2fad-562f-486f-8a00-3f09d1e72d75",
   "metadata": {
    "tags": []
   },
   "outputs": [],
   "source": [
    "df_jato_HO2_tokens['PubTitle'] = df_jato_HO2_tokens['PubTitle'].apply(cleanupText4Jato)\n",
    "df_jato_HO2_tokens['RecDoc'] = df_jato_HO2_tokens['RecDoc'].apply(cleanupText4Jato)\n",
    "df_jato_HO2_tokens['smrTopText'] = df_jato_HO2_tokens['smrTopText'].apply(cleanupText4Jato)\n",
    "df_jato_HO2_tokens['smrSummary'] = df_jato_HO2_tokens['smrSummary'].apply(cleanupText4Jato)"
   ]
  },
  {
   "cell_type": "code",
   "execution_count": 103,
   "id": "001d1089-157b-494a-95de-574fb2fbb721",
   "metadata": {
    "tags": []
   },
   "outputs": [],
   "source": [
    "# save the file to D:\\KOPro\\PhD\\Implementation\\SourceCode\\JatoPass2\\data -- \n",
    "df_jato_HO2_tokens.to_csv('D:/KOPro/PhD/Implementation/SourceCode/JatoPass5_HO2/data/JatoMaster.csv', index=False)"
   ]
  },
  {
   "cell_type": "markdown",
   "id": "8e3b7b39-c594-488b-83e4-6b974d8f947d",
   "metadata": {
    "tags": []
   },
   "source": [
    "#### Generate JatoClassified for HO2"
   ]
  },
  {
   "cell_type": "code",
   "execution_count": 91,
   "id": "68902c09-f273-44ec-b546-11cbc386a35d",
   "metadata": {
    "tags": []
   },
   "outputs": [],
   "source": [
    "df_JatoClf_Blank = pd.read_csv('D:/KOPro/PhD/Implementation/SourceCode/jatoPass2_HO2/data/JatoClassified_BlankCat.csv')"
   ]
  },
  {
   "cell_type": "code",
   "execution_count": 92,
   "id": "0929dce9-859d-4589-987f-b19605cb1f69",
   "metadata": {
    "tags": []
   },
   "outputs": [
    {
     "data": {
      "text/html": [
       "<div>\n",
       "<style scoped>\n",
       "    .dataframe tbody tr th:only-of-type {\n",
       "        vertical-align: middle;\n",
       "    }\n",
       "\n",
       "    .dataframe tbody tr th {\n",
       "        vertical-align: top;\n",
       "    }\n",
       "\n",
       "    .dataframe thead th {\n",
       "        text-align: right;\n",
       "    }\n",
       "</style>\n",
       "<table border=\"1\" class=\"dataframe\">\n",
       "  <thead>\n",
       "    <tr style=\"text-align: right;\">\n",
       "      <th></th>\n",
       "      <th>rowid</th>\n",
       "      <th>RecID</th>\n",
       "      <th>SavedDataTime</th>\n",
       "      <th>JatoCat</th>\n",
       "      <th>JatoSubCat</th>\n",
       "      <th>JatoCat2</th>\n",
       "      <th>JatoSubCat2</th>\n",
       "      <th>JatoCat3</th>\n",
       "      <th>JatoSubCat3</th>\n",
       "      <th>NewRecClass</th>\n",
       "      <th>GTCodes</th>\n",
       "      <th>NewsPubCat</th>\n",
       "    </tr>\n",
       "  </thead>\n",
       "  <tbody>\n",
       "    <tr>\n",
       "      <th>0</th>\n",
       "      <td>6</td>\n",
       "      <td>222818213392678912</td>\n",
       "      <td>2021:01:17 21:15:20</td>\n",
       "      <td>Political</td>\n",
       "      <td>Debate</td>\n",
       "      <td>NaN</td>\n",
       "      <td>NaN</td>\n",
       "      <td>NaN</td>\n",
       "      <td>NaN</td>\n",
       "      <td>NaN</td>\n",
       "      <td>NaN</td>\n",
       "      <td>Unknown</td>\n",
       "    </tr>\n",
       "    <tr>\n",
       "      <th>1</th>\n",
       "      <td>60</td>\n",
       "      <td>826262311560216578</td>\n",
       "      <td>2021:01:13 19:53:48</td>\n",
       "      <td>Political</td>\n",
       "      <td>Debate</td>\n",
       "      <td>NaN</td>\n",
       "      <td>NaN</td>\n",
       "      <td>NaN</td>\n",
       "      <td>NaN</td>\n",
       "      <td>NaN</td>\n",
       "      <td>NaN</td>\n",
       "      <td>Unknown</td>\n",
       "    </tr>\n",
       "  </tbody>\n",
       "</table>\n",
       "</div>"
      ],
      "text/plain": [
       "   rowid               RecID        SavedDataTime    JatoCat JatoSubCat  \\\n",
       "0      6  222818213392678912  2021:01:17 21:15:20  Political     Debate   \n",
       "1     60  826262311560216578  2021:01:13 19:53:48  Political     Debate   \n",
       "\n",
       "  JatoCat2 JatoSubCat2 JatoCat3 JatoSubCat3  NewRecClass  GTCodes NewsPubCat  \n",
       "0      NaN         NaN      NaN         NaN          NaN      NaN    Unknown  \n",
       "1      NaN         NaN      NaN         NaN          NaN      NaN    Unknown  "
      ]
     },
     "execution_count": 92,
     "metadata": {},
     "output_type": "execute_result"
    }
   ],
   "source": [
    "df_JatoClf_Blank.head(2)"
   ]
  },
  {
   "cell_type": "code",
   "execution_count": 93,
   "id": "dfd32041-dd3e-48cd-916c-fccf9f342bd4",
   "metadata": {
    "tags": []
   },
   "outputs": [
    {
     "data": {
      "text/plain": [
       "2385"
      ]
     },
     "execution_count": 93,
     "metadata": {},
     "output_type": "execute_result"
    }
   ],
   "source": [
    "len(df_JatoClf_Blank)"
   ]
  },
  {
   "cell_type": "code",
   "execution_count": 94,
   "id": "4ed244cc-64a5-4299-b8b3-f971d27c8d33",
   "metadata": {
    "tags": []
   },
   "outputs": [],
   "source": [
    "df_JatoCl_Pass0_in_4 = pd.read_csv('data/GTxM_Pass0/JatoClassified_HO2_Pass0_in_Pass4_task.csv')"
   ]
  },
  {
   "cell_type": "code",
   "execution_count": 95,
   "id": "ac5c6dc6-83ca-4196-8ec8-85235b4dcb87",
   "metadata": {
    "tags": []
   },
   "outputs": [
    {
     "data": {
      "text/html": [
       "<div>\n",
       "<style scoped>\n",
       "    .dataframe tbody tr th:only-of-type {\n",
       "        vertical-align: middle;\n",
       "    }\n",
       "\n",
       "    .dataframe tbody tr th {\n",
       "        vertical-align: top;\n",
       "    }\n",
       "\n",
       "    .dataframe thead th {\n",
       "        text-align: right;\n",
       "    }\n",
       "</style>\n",
       "<table border=\"1\" class=\"dataframe\">\n",
       "  <thead>\n",
       "    <tr style=\"text-align: right;\">\n",
       "      <th></th>\n",
       "      <th>rowid</th>\n",
       "      <th>RecID</th>\n",
       "      <th>SavedDataTime</th>\n",
       "      <th>JatoCat</th>\n",
       "      <th>JatoSubCat</th>\n",
       "      <th>JatoCat2</th>\n",
       "      <th>JatoSubCat2</th>\n",
       "      <th>JatoCat3</th>\n",
       "      <th>JatoSubCat3</th>\n",
       "      <th>NewRecClass</th>\n",
       "      <th>GTCodes</th>\n",
       "      <th>NewsPubCat</th>\n",
       "    </tr>\n",
       "  </thead>\n",
       "  <tbody>\n",
       "    <tr>\n",
       "      <th>0</th>\n",
       "      <td>557</td>\n",
       "      <td>1179660469759438849</td>\n",
       "      <td>2021:02:05 11:57:33</td>\n",
       "      <td>Political</td>\n",
       "      <td>Debate</td>\n",
       "      <td>NaN</td>\n",
       "      <td>NaN</td>\n",
       "      <td>NaN</td>\n",
       "      <td>NaN</td>\n",
       "      <td>NaN</td>\n",
       "      <td>NaN</td>\n",
       "      <td>Politics</td>\n",
       "    </tr>\n",
       "    <tr>\n",
       "      <th>1</th>\n",
       "      <td>669</td>\n",
       "      <td>1181047749678161920</td>\n",
       "      <td>2021:02:05 11:57:33</td>\n",
       "      <td>Violent Material</td>\n",
       "      <td>War Crimes</td>\n",
       "      <td>Political</td>\n",
       "      <td>Debate</td>\n",
       "      <td>NaN</td>\n",
       "      <td>NaN</td>\n",
       "      <td>NaN</td>\n",
       "      <td>NaN</td>\n",
       "      <td>Law and Order</td>\n",
       "    </tr>\n",
       "  </tbody>\n",
       "</table>\n",
       "</div>"
      ],
      "text/plain": [
       "   rowid                RecID        SavedDataTime           JatoCat  \\\n",
       "0    557  1179660469759438849  2021:02:05 11:57:33         Political   \n",
       "1    669  1181047749678161920  2021:02:05 11:57:33  Violent Material   \n",
       "\n",
       "   JatoSubCat   JatoCat2 JatoSubCat2  JatoCat3  JatoSubCat3 NewRecClass  \\\n",
       "0      Debate        NaN         NaN       NaN          NaN         NaN   \n",
       "1  War Crimes  Political      Debate       NaN          NaN         NaN   \n",
       "\n",
       "   GTCodes     NewsPubCat  \n",
       "0      NaN       Politics  \n",
       "1      NaN  Law and Order  "
      ]
     },
     "execution_count": 95,
     "metadata": {},
     "output_type": "execute_result"
    }
   ],
   "source": [
    "df_JatoCl_Pass0_in_4.head(2)"
   ]
  },
  {
   "cell_type": "code",
   "execution_count": 96,
   "id": "465dcf35-ba28-4508-8b45-355f23a9082d",
   "metadata": {
    "tags": []
   },
   "outputs": [
    {
     "data": {
      "text/plain": [
       "60"
      ]
     },
     "execution_count": 96,
     "metadata": {},
     "output_type": "execute_result"
    }
   ],
   "source": [
    "len(df_JatoCl_Pass0_in_4)"
   ]
  },
  {
   "cell_type": "code",
   "execution_count": 97,
   "id": "592e43f8-67a8-438a-8fed-81940ffa4dff",
   "metadata": {
    "tags": []
   },
   "outputs": [],
   "source": [
    "df_JatoCl_Pass4_dedup = pd.concat([df_JatoClf_Blank,df_JatoCl_Pass0_in_4], axis=0)"
   ]
  },
  {
   "cell_type": "code",
   "execution_count": 98,
   "id": "064766ce-3e63-452c-acd2-aa5dac094867",
   "metadata": {
    "tags": []
   },
   "outputs": [
    {
     "data": {
      "text/plain": [
       "2445"
      ]
     },
     "execution_count": 98,
     "metadata": {},
     "output_type": "execute_result"
    }
   ],
   "source": [
    "len(df_JatoCl_Pass4_dedup)"
   ]
  },
  {
   "cell_type": "code",
   "execution_count": 99,
   "id": "1acf70c6-159b-44de-b83c-2dae0dfa3451",
   "metadata": {
    "tags": []
   },
   "outputs": [],
   "source": [
    "df_JatoCl_Pass4_dedup.drop_duplicates(subset='RecID', keep=False, inplace=True)"
   ]
  },
  {
   "cell_type": "code",
   "execution_count": 100,
   "id": "b09b58dc-897b-452f-9b1d-a0d6bcab70ec",
   "metadata": {
    "tags": []
   },
   "outputs": [
    {
     "data": {
      "text/plain": [
       "2325"
      ]
     },
     "execution_count": 100,
     "metadata": {},
     "output_type": "execute_result"
    }
   ],
   "source": [
    "len(df_JatoCl_Pass4_dedup)"
   ]
  },
  {
   "cell_type": "code",
   "execution_count": 101,
   "id": "c44bc36f-2cca-484a-b625-e408df9c0cbf",
   "metadata": {
    "tags": []
   },
   "outputs": [],
   "source": [
    "# re-concatenate the datasets to add the new subset only\n",
    "df_JatoCl_Pass4 = pd.concat([df_JatoCl_Pass4_dedup,df_JatoCl_Pass0_in_4], axis=0)"
   ]
  },
  {
   "cell_type": "code",
   "execution_count": 102,
   "id": "54e2f815-501e-4b02-ac27-2716f3dbbd15",
   "metadata": {
    "tags": []
   },
   "outputs": [
    {
     "data": {
      "text/html": [
       "<div>\n",
       "<style scoped>\n",
       "    .dataframe tbody tr th:only-of-type {\n",
       "        vertical-align: middle;\n",
       "    }\n",
       "\n",
       "    .dataframe tbody tr th {\n",
       "        vertical-align: top;\n",
       "    }\n",
       "\n",
       "    .dataframe thead th {\n",
       "        text-align: right;\n",
       "    }\n",
       "</style>\n",
       "<table border=\"1\" class=\"dataframe\">\n",
       "  <thead>\n",
       "    <tr style=\"text-align: right;\">\n",
       "      <th></th>\n",
       "      <th>rowid</th>\n",
       "      <th>RecID</th>\n",
       "      <th>SavedDataTime</th>\n",
       "      <th>JatoCat</th>\n",
       "      <th>JatoSubCat</th>\n",
       "      <th>JatoCat2</th>\n",
       "      <th>JatoSubCat2</th>\n",
       "      <th>JatoCat3</th>\n",
       "      <th>JatoSubCat3</th>\n",
       "      <th>NewRecClass</th>\n",
       "      <th>GTCodes</th>\n",
       "      <th>NewsPubCat</th>\n",
       "    </tr>\n",
       "  </thead>\n",
       "  <tbody>\n",
       "    <tr>\n",
       "      <th>0</th>\n",
       "      <td>6</td>\n",
       "      <td>222818213392678912</td>\n",
       "      <td>2021:01:17 21:15:20</td>\n",
       "      <td>Political</td>\n",
       "      <td>Debate</td>\n",
       "      <td>NaN</td>\n",
       "      <td>NaN</td>\n",
       "      <td>NaN</td>\n",
       "      <td>NaN</td>\n",
       "      <td>NaN</td>\n",
       "      <td>NaN</td>\n",
       "      <td>Unknown</td>\n",
       "    </tr>\n",
       "    <tr>\n",
       "      <th>1</th>\n",
       "      <td>60</td>\n",
       "      <td>826262311560216578</td>\n",
       "      <td>2021:01:13 19:53:48</td>\n",
       "      <td>Political</td>\n",
       "      <td>Debate</td>\n",
       "      <td>NaN</td>\n",
       "      <td>NaN</td>\n",
       "      <td>NaN</td>\n",
       "      <td>NaN</td>\n",
       "      <td>NaN</td>\n",
       "      <td>NaN</td>\n",
       "      <td>Unknown</td>\n",
       "    </tr>\n",
       "    <tr>\n",
       "      <th>2</th>\n",
       "      <td>63</td>\n",
       "      <td>833502973204459520</td>\n",
       "      <td>2023:03:16 20:23:22</td>\n",
       "      <td>Lifestyle</td>\n",
       "      <td>Music</td>\n",
       "      <td>NaN</td>\n",
       "      <td>NaN</td>\n",
       "      <td>NaN</td>\n",
       "      <td>NaN</td>\n",
       "      <td>NaN</td>\n",
       "      <td>NaN</td>\n",
       "      <td>Unknown</td>\n",
       "    </tr>\n",
       "    <tr>\n",
       "      <th>3</th>\n",
       "      <td>64</td>\n",
       "      <td>835347243020451840</td>\n",
       "      <td>2021:01:18 15:17:18</td>\n",
       "      <td>Abusive Material</td>\n",
       "      <td>Hate Speech</td>\n",
       "      <td>NaN</td>\n",
       "      <td>NaN</td>\n",
       "      <td>NaN</td>\n",
       "      <td>NaN</td>\n",
       "      <td>NaN</td>\n",
       "      <td>NaN</td>\n",
       "      <td>Unknown</td>\n",
       "    </tr>\n",
       "    <tr>\n",
       "      <th>4</th>\n",
       "      <td>69</td>\n",
       "      <td>867832469181128704</td>\n",
       "      <td>2021:02:03 13:42:38</td>\n",
       "      <td>Lifestyle</td>\n",
       "      <td>Music</td>\n",
       "      <td>NaN</td>\n",
       "      <td>NaN</td>\n",
       "      <td>NaN</td>\n",
       "      <td>NaN</td>\n",
       "      <td>NaN</td>\n",
       "      <td>NaN</td>\n",
       "      <td>Unknown</td>\n",
       "    </tr>\n",
       "    <tr>\n",
       "      <th>...</th>\n",
       "      <td>...</td>\n",
       "      <td>...</td>\n",
       "      <td>...</td>\n",
       "      <td>...</td>\n",
       "      <td>...</td>\n",
       "      <td>...</td>\n",
       "      <td>...</td>\n",
       "      <td>...</td>\n",
       "      <td>...</td>\n",
       "      <td>...</td>\n",
       "      <td>...</td>\n",
       "      <td>...</td>\n",
       "    </tr>\n",
       "    <tr>\n",
       "      <th>55</th>\n",
       "      <td>4143</td>\n",
       "      <td>1218564148172394496</td>\n",
       "      <td>2021:02:12 13:06:39</td>\n",
       "      <td>News</td>\n",
       "      <td>Weather</td>\n",
       "      <td>NaN</td>\n",
       "      <td>NaN</td>\n",
       "      <td>NaN</td>\n",
       "      <td>NaN</td>\n",
       "      <td>weather</td>\n",
       "      <td>NaN</td>\n",
       "      <td>Social Stories</td>\n",
       "    </tr>\n",
       "    <tr>\n",
       "      <th>56</th>\n",
       "      <td>4165</td>\n",
       "      <td>1218849631016230913</td>\n",
       "      <td>2021:02:12 22:14:28</td>\n",
       "      <td>Violent Material</td>\n",
       "      <td>Violence</td>\n",
       "      <td>Conversational</td>\n",
       "      <td>NaN</td>\n",
       "      <td>NaN</td>\n",
       "      <td>NaN</td>\n",
       "      <td>NaN</td>\n",
       "      <td>NaN</td>\n",
       "      <td>Social Stories</td>\n",
       "    </tr>\n",
       "    <tr>\n",
       "      <th>57</th>\n",
       "      <td>4214</td>\n",
       "      <td>1219299748248682496</td>\n",
       "      <td>2021:02:13 10:45:33</td>\n",
       "      <td>Political</td>\n",
       "      <td>Debate</td>\n",
       "      <td>NaN</td>\n",
       "      <td>NaN</td>\n",
       "      <td>NaN</td>\n",
       "      <td>NaN</td>\n",
       "      <td>NaN</td>\n",
       "      <td>NaN</td>\n",
       "      <td>Unknown</td>\n",
       "    </tr>\n",
       "    <tr>\n",
       "      <th>58</th>\n",
       "      <td>4373</td>\n",
       "      <td>1220439910378889216</td>\n",
       "      <td>2021:02:13 10:45:33</td>\n",
       "      <td>Conversational</td>\n",
       "      <td>Negative</td>\n",
       "      <td>NaN</td>\n",
       "      <td>NaN</td>\n",
       "      <td>NaN</td>\n",
       "      <td>NaN</td>\n",
       "      <td>NaN</td>\n",
       "      <td>NaN</td>\n",
       "      <td>Social Stories</td>\n",
       "    </tr>\n",
       "    <tr>\n",
       "      <th>59</th>\n",
       "      <td>4428</td>\n",
       "      <td>1220785862507749379</td>\n",
       "      <td>2021:02:14 20:46:29</td>\n",
       "      <td>Conversational</td>\n",
       "      <td>NaN</td>\n",
       "      <td>NaN</td>\n",
       "      <td>NaN</td>\n",
       "      <td>NaN</td>\n",
       "      <td>NaN</td>\n",
       "      <td>complain</td>\n",
       "      <td>NaN</td>\n",
       "      <td>Social Stories</td>\n",
       "    </tr>\n",
       "  </tbody>\n",
       "</table>\n",
       "<p>2385 rows × 12 columns</p>\n",
       "</div>"
      ],
      "text/plain": [
       "    rowid                RecID        SavedDataTime           JatoCat  \\\n",
       "0       6   222818213392678912  2021:01:17 21:15:20         Political   \n",
       "1      60   826262311560216578  2021:01:13 19:53:48         Political   \n",
       "2      63   833502973204459520  2023:03:16 20:23:22         Lifestyle   \n",
       "3      64   835347243020451840  2021:01:18 15:17:18  Abusive Material   \n",
       "4      69   867832469181128704  2021:02:03 13:42:38         Lifestyle   \n",
       "..    ...                  ...                  ...               ...   \n",
       "55   4143  1218564148172394496  2021:02:12 13:06:39              News   \n",
       "56   4165  1218849631016230913  2021:02:12 22:14:28  Violent Material   \n",
       "57   4214  1219299748248682496  2021:02:13 10:45:33         Political   \n",
       "58   4373  1220439910378889216  2021:02:13 10:45:33    Conversational   \n",
       "59   4428  1220785862507749379  2021:02:14 20:46:29    Conversational   \n",
       "\n",
       "     JatoSubCat        JatoCat2 JatoSubCat2 JatoCat3 JatoSubCat3 NewRecClass  \\\n",
       "0        Debate             NaN         NaN      NaN         NaN         NaN   \n",
       "1        Debate             NaN         NaN      NaN         NaN         NaN   \n",
       "2         Music             NaN         NaN      NaN         NaN         NaN   \n",
       "3   Hate Speech             NaN         NaN      NaN         NaN         NaN   \n",
       "4         Music             NaN         NaN      NaN         NaN         NaN   \n",
       "..          ...             ...         ...      ...         ...         ...   \n",
       "55      Weather             NaN         NaN      NaN         NaN     weather   \n",
       "56     Violence  Conversational         NaN      NaN         NaN         NaN   \n",
       "57       Debate             NaN         NaN      NaN         NaN         NaN   \n",
       "58     Negative             NaN         NaN      NaN         NaN         NaN   \n",
       "59          NaN             NaN         NaN      NaN         NaN    complain   \n",
       "\n",
       "    GTCodes      NewsPubCat  \n",
       "0       NaN         Unknown  \n",
       "1       NaN         Unknown  \n",
       "2       NaN         Unknown  \n",
       "3       NaN         Unknown  \n",
       "4       NaN         Unknown  \n",
       "..      ...             ...  \n",
       "55      NaN  Social Stories  \n",
       "56      NaN  Social Stories  \n",
       "57      NaN         Unknown  \n",
       "58      NaN  Social Stories  \n",
       "59      NaN  Social Stories  \n",
       "\n",
       "[2385 rows x 12 columns]"
      ]
     },
     "execution_count": 102,
     "metadata": {},
     "output_type": "execute_result"
    }
   ],
   "source": [
    "df_JatoCl_Pass4"
   ]
  },
  {
   "cell_type": "code",
   "execution_count": 104,
   "id": "54a44291-822d-4c6d-ad4a-b2c6e6e88c1b",
   "metadata": {
    "tags": []
   },
   "outputs": [],
   "source": [
    "# save to pass 5\n",
    "df_JatoCl_Pass4.to_csv('D:/KOPro/PhD/Implementation/SourceCode/jatoPass5_HO2/data/JatoClassified.csv', index=False)"
   ]
  },
  {
   "cell_type": "markdown",
   "id": "7feb1bbc-67c9-402a-945b-8a8190b664c6",
   "metadata": {
    "tags": []
   },
   "source": [
    "### Intercoder Reliability btw HO2, HO1 and GTxM Classifier"
   ]
  },
  {
   "cell_type": "markdown",
   "id": "5d367764-439c-4269-9b42-d413df4a04bd",
   "metadata": {
    "tags": []
   },
   "source": [
    "#### Get HO2 labels After running Jato"
   ]
  },
  {
   "cell_type": "code",
   "execution_count": 3,
   "id": "9b0c0345-4d31-4e90-a02f-07d067fa4680",
   "metadata": {
    "tags": []
   },
   "outputs": [],
   "source": [
    "# use the RecIDs \n",
    "df_HO1_To_HO2 = pd.read_csv('data/GTxM_Pass5/df_HO1_To_HO2.csv', dtype='str')"
   ]
  },
  {
   "cell_type": "code",
   "execution_count": 4,
   "id": "e2e55984-33b7-4b3b-be54-ce93ce4da978",
   "metadata": {
    "tags": []
   },
   "outputs": [
    {
     "data": {
      "text/html": [
       "<div>\n",
       "<style scoped>\n",
       "    .dataframe tbody tr th:only-of-type {\n",
       "        vertical-align: middle;\n",
       "    }\n",
       "\n",
       "    .dataframe tbody tr th {\n",
       "        vertical-align: top;\n",
       "    }\n",
       "\n",
       "    .dataframe thead th {\n",
       "        text-align: right;\n",
       "    }\n",
       "</style>\n",
       "<table border=\"1\" class=\"dataframe\">\n",
       "  <thead>\n",
       "    <tr style=\"text-align: right;\">\n",
       "      <th></th>\n",
       "      <th>RecID</th>\n",
       "      <th>SBERTLabel</th>\n",
       "      <th>SBERTTarget</th>\n",
       "      <th>GClfTarget</th>\n",
       "      <th>HO1Label</th>\n",
       "      <th>HO1Target</th>\n",
       "      <th>HO1AgreedTarget</th>\n",
       "    </tr>\n",
       "  </thead>\n",
       "  <tbody>\n",
       "    <tr>\n",
       "      <th>0</th>\n",
       "      <td>1222603086558126080</td>\n",
       "      <td>Politics</td>\n",
       "      <td>6</td>\n",
       "      <td>6</td>\n",
       "      <td>Health</td>\n",
       "      <td>4</td>\n",
       "      <td>-1</td>\n",
       "    </tr>\n",
       "    <tr>\n",
       "      <th>1</th>\n",
       "      <td>1221936812786167810</td>\n",
       "      <td>Environmental</td>\n",
       "      <td>3</td>\n",
       "      <td>3</td>\n",
       "      <td>Unknown</td>\n",
       "      <td>-1</td>\n",
       "      <td>-1</td>\n",
       "    </tr>\n",
       "  </tbody>\n",
       "</table>\n",
       "</div>"
      ],
      "text/plain": [
       "                 RecID     SBERTLabel SBERTTarget GClfTarget HO1Label  \\\n",
       "0  1222603086558126080       Politics           6          6   Health   \n",
       "1  1221936812786167810  Environmental           3          3  Unknown   \n",
       "\n",
       "  HO1Target HO1AgreedTarget  \n",
       "0         4              -1  \n",
       "1        -1              -1  "
      ]
     },
     "execution_count": 4,
     "metadata": {},
     "output_type": "execute_result"
    }
   ],
   "source": [
    "df_HO1_To_HO2.head(2)"
   ]
  },
  {
   "cell_type": "code",
   "execution_count": 5,
   "id": "05bc76f2-8b40-4f22-9718-9e66600a92f5",
   "metadata": {
    "tags": []
   },
   "outputs": [
    {
     "data": {
      "text/plain": [
       "121"
      ]
     },
     "execution_count": 5,
     "metadata": {},
     "output_type": "execute_result"
    }
   ],
   "source": [
    "len(df_HO1_To_HO2)"
   ]
  },
  {
   "cell_type": "code",
   "execution_count": 6,
   "id": "a06682a7-963a-47e6-8084-775365bc4027",
   "metadata": {
    "tags": []
   },
   "outputs": [
    {
     "data": {
      "text/html": [
       "<div>\n",
       "<style scoped>\n",
       "    .dataframe tbody tr th:only-of-type {\n",
       "        vertical-align: middle;\n",
       "    }\n",
       "\n",
       "    .dataframe tbody tr th {\n",
       "        vertical-align: top;\n",
       "    }\n",
       "\n",
       "    .dataframe thead th {\n",
       "        text-align: right;\n",
       "    }\n",
       "</style>\n",
       "<table border=\"1\" class=\"dataframe\">\n",
       "  <thead>\n",
       "    <tr style=\"text-align: right;\">\n",
       "      <th></th>\n",
       "      <th>RecID</th>\n",
       "      <th>NewsPubCat</th>\n",
       "    </tr>\n",
       "  </thead>\n",
       "  <tbody>\n",
       "    <tr>\n",
       "      <th>0</th>\n",
       "      <td>222818213392678912</td>\n",
       "      <td>Unknown</td>\n",
       "    </tr>\n",
       "    <tr>\n",
       "      <th>1</th>\n",
       "      <td>826262311560216578</td>\n",
       "      <td>Unknown</td>\n",
       "    </tr>\n",
       "  </tbody>\n",
       "</table>\n",
       "</div>"
      ],
      "text/plain": [
       "                RecID NewsPubCat\n",
       "0  222818213392678912    Unknown\n",
       "1  826262311560216578    Unknown"
      ]
     },
     "execution_count": 6,
     "metadata": {},
     "output_type": "execute_result"
    }
   ],
   "source": [
    "df_jato_HO2_Labels = pd.read_csv('D:/KOPro/PhD/Implementation/SourceCode/JatoPass5_HO2/data/JatoClassified_HO2_Pass5.csv', usecols=['RecID','NewsPubCat'], dtype='str')\n",
    "df_jato_HO2_Labels.head(2)"
   ]
  },
  {
   "cell_type": "code",
   "execution_count": 7,
   "id": "a272f3b3-df36-4855-a80d-fd92dc609416",
   "metadata": {
    "tags": []
   },
   "outputs": [],
   "source": [
    "Labels_Targets = pd.read_csv('data/GTxM_Pass5/Labels_Targets_CGTPass5.csv', dtype='str')"
   ]
  },
  {
   "cell_type": "code",
   "execution_count": 8,
   "id": "0bbb682e-2579-4793-a357-afc2acb133eb",
   "metadata": {
    "tags": []
   },
   "outputs": [
    {
     "data": {
      "text/html": [
       "<div>\n",
       "<style scoped>\n",
       "    .dataframe tbody tr th:only-of-type {\n",
       "        vertical-align: middle;\n",
       "    }\n",
       "\n",
       "    .dataframe tbody tr th {\n",
       "        vertical-align: top;\n",
       "    }\n",
       "\n",
       "    .dataframe thead th {\n",
       "        text-align: right;\n",
       "    }\n",
       "</style>\n",
       "<table border=\"1\" class=\"dataframe\">\n",
       "  <thead>\n",
       "    <tr style=\"text-align: right;\">\n",
       "      <th></th>\n",
       "      <th>Target</th>\n",
       "      <th>Label</th>\n",
       "    </tr>\n",
       "  </thead>\n",
       "  <tbody>\n",
       "    <tr>\n",
       "      <th>0</th>\n",
       "      <td>1</td>\n",
       "      <td>Business</td>\n",
       "    </tr>\n",
       "    <tr>\n",
       "      <th>1</th>\n",
       "      <td>2</td>\n",
       "      <td>Entertainment</td>\n",
       "    </tr>\n",
       "    <tr>\n",
       "      <th>2</th>\n",
       "      <td>3</td>\n",
       "      <td>Environmental</td>\n",
       "    </tr>\n",
       "    <tr>\n",
       "      <th>3</th>\n",
       "      <td>4</td>\n",
       "      <td>Health</td>\n",
       "    </tr>\n",
       "    <tr>\n",
       "      <th>4</th>\n",
       "      <td>5</td>\n",
       "      <td>Human Rights</td>\n",
       "    </tr>\n",
       "    <tr>\n",
       "      <th>5</th>\n",
       "      <td>6</td>\n",
       "      <td>Politics</td>\n",
       "    </tr>\n",
       "    <tr>\n",
       "      <th>6</th>\n",
       "      <td>7</td>\n",
       "      <td>Law and Order</td>\n",
       "    </tr>\n",
       "    <tr>\n",
       "      <th>7</th>\n",
       "      <td>0</td>\n",
       "      <td>Unknown</td>\n",
       "    </tr>\n",
       "    <tr>\n",
       "      <th>8</th>\n",
       "      <td>9</td>\n",
       "      <td>Obituary</td>\n",
       "    </tr>\n",
       "    <tr>\n",
       "      <th>9</th>\n",
       "      <td>10</td>\n",
       "      <td>Social Stories</td>\n",
       "    </tr>\n",
       "    <tr>\n",
       "      <th>10</th>\n",
       "      <td>11</td>\n",
       "      <td>Sports</td>\n",
       "    </tr>\n",
       "    <tr>\n",
       "      <th>11</th>\n",
       "      <td>12</td>\n",
       "      <td>World Politics</td>\n",
       "    </tr>\n",
       "    <tr>\n",
       "      <th>12</th>\n",
       "      <td>13</td>\n",
       "      <td>Travel</td>\n",
       "    </tr>\n",
       "    <tr>\n",
       "      <th>13</th>\n",
       "      <td>14</td>\n",
       "      <td>UK Politics</td>\n",
       "    </tr>\n",
       "    <tr>\n",
       "      <th>14</th>\n",
       "      <td>15</td>\n",
       "      <td>USA Politics</td>\n",
       "    </tr>\n",
       "    <tr>\n",
       "      <th>15</th>\n",
       "      <td>16</td>\n",
       "      <td>Unclassified Medley</td>\n",
       "    </tr>\n",
       "  </tbody>\n",
       "</table>\n",
       "</div>"
      ],
      "text/plain": [
       "   Target                Label\n",
       "0       1             Business\n",
       "1       2        Entertainment\n",
       "2       3        Environmental\n",
       "3       4               Health\n",
       "4       5         Human Rights\n",
       "5       6             Politics\n",
       "6       7        Law and Order\n",
       "7       0              Unknown\n",
       "8       9             Obituary\n",
       "9      10       Social Stories\n",
       "10     11               Sports\n",
       "11     12       World Politics\n",
       "12     13               Travel\n",
       "13     14          UK Politics\n",
       "14     15         USA Politics\n",
       "15     16  Unclassified Medley"
      ]
     },
     "execution_count": 8,
     "metadata": {},
     "output_type": "execute_result"
    }
   ],
   "source": [
    "Labels_Targets"
   ]
  },
  {
   "cell_type": "code",
   "execution_count": 9,
   "id": "174730a9-669c-4701-8841-b154f5b01fee",
   "metadata": {
    "tags": []
   },
   "outputs": [],
   "source": [
    "df_jato_HO2_Labels.rename(columns={'NewsPubCat': 'Label'}, inplace=True)"
   ]
  },
  {
   "cell_type": "code",
   "execution_count": 10,
   "id": "14d3911b-02b2-4292-8cd9-c4ae81a78d04",
   "metadata": {
    "tags": []
   },
   "outputs": [],
   "source": [
    "df_HO2_Labels_Targets = pd.merge(df_jato_HO2_Labels,Labels_Targets, on='Label', how='left')"
   ]
  },
  {
   "cell_type": "code",
   "execution_count": 11,
   "id": "ee7b8b85-d73d-448d-86fb-8774026d4323",
   "metadata": {
    "tags": []
   },
   "outputs": [
    {
     "data": {
      "text/html": [
       "<div>\n",
       "<style scoped>\n",
       "    .dataframe tbody tr th:only-of-type {\n",
       "        vertical-align: middle;\n",
       "    }\n",
       "\n",
       "    .dataframe tbody tr th {\n",
       "        vertical-align: top;\n",
       "    }\n",
       "\n",
       "    .dataframe thead th {\n",
       "        text-align: right;\n",
       "    }\n",
       "</style>\n",
       "<table border=\"1\" class=\"dataframe\">\n",
       "  <thead>\n",
       "    <tr style=\"text-align: right;\">\n",
       "      <th></th>\n",
       "      <th>RecID</th>\n",
       "      <th>Label</th>\n",
       "      <th>Target</th>\n",
       "    </tr>\n",
       "  </thead>\n",
       "  <tbody>\n",
       "    <tr>\n",
       "      <th>0</th>\n",
       "      <td>222818213392678912</td>\n",
       "      <td>Unknown</td>\n",
       "      <td>0</td>\n",
       "    </tr>\n",
       "    <tr>\n",
       "      <th>1</th>\n",
       "      <td>826262311560216578</td>\n",
       "      <td>Unknown</td>\n",
       "      <td>0</td>\n",
       "    </tr>\n",
       "    <tr>\n",
       "      <th>2</th>\n",
       "      <td>833502973204459520</td>\n",
       "      <td>Unknown</td>\n",
       "      <td>0</td>\n",
       "    </tr>\n",
       "    <tr>\n",
       "      <th>3</th>\n",
       "      <td>835347243020451840</td>\n",
       "      <td>Unknown</td>\n",
       "      <td>0</td>\n",
       "    </tr>\n",
       "    <tr>\n",
       "      <th>4</th>\n",
       "      <td>867832469181128704</td>\n",
       "      <td>Unknown</td>\n",
       "      <td>0</td>\n",
       "    </tr>\n",
       "    <tr>\n",
       "      <th>...</th>\n",
       "      <td>...</td>\n",
       "      <td>...</td>\n",
       "      <td>...</td>\n",
       "    </tr>\n",
       "    <tr>\n",
       "      <th>2380</th>\n",
       "      <td>1218564148172394496</td>\n",
       "      <td>Social Stories</td>\n",
       "      <td>10</td>\n",
       "    </tr>\n",
       "    <tr>\n",
       "      <th>2381</th>\n",
       "      <td>1218849631016230913</td>\n",
       "      <td>Social Stories</td>\n",
       "      <td>10</td>\n",
       "    </tr>\n",
       "    <tr>\n",
       "      <th>2382</th>\n",
       "      <td>1219299748248682496</td>\n",
       "      <td>Unknown</td>\n",
       "      <td>0</td>\n",
       "    </tr>\n",
       "    <tr>\n",
       "      <th>2383</th>\n",
       "      <td>1220439910378889216</td>\n",
       "      <td>Social Stories</td>\n",
       "      <td>10</td>\n",
       "    </tr>\n",
       "    <tr>\n",
       "      <th>2384</th>\n",
       "      <td>1220785862507749379</td>\n",
       "      <td>Social Stories</td>\n",
       "      <td>10</td>\n",
       "    </tr>\n",
       "  </tbody>\n",
       "</table>\n",
       "<p>2385 rows × 3 columns</p>\n",
       "</div>"
      ],
      "text/plain": [
       "                    RecID           Label Target\n",
       "0      222818213392678912         Unknown      0\n",
       "1      826262311560216578         Unknown      0\n",
       "2      833502973204459520         Unknown      0\n",
       "3      835347243020451840         Unknown      0\n",
       "4      867832469181128704         Unknown      0\n",
       "...                   ...             ...    ...\n",
       "2380  1218564148172394496  Social Stories     10\n",
       "2381  1218849631016230913  Social Stories     10\n",
       "2382  1219299748248682496         Unknown      0\n",
       "2383  1220439910378889216  Social Stories     10\n",
       "2384  1220785862507749379  Social Stories     10\n",
       "\n",
       "[2385 rows x 3 columns]"
      ]
     },
     "execution_count": 11,
     "metadata": {},
     "output_type": "execute_result"
    }
   ],
   "source": [
    "df_HO2_Labels_Targets"
   ]
  },
  {
   "cell_type": "code",
   "execution_count": 12,
   "id": "a9988a45-4ce0-48a1-add5-cbef009c4130",
   "metadata": {
    "tags": []
   },
   "outputs": [],
   "source": [
    "df_HO2_Labels_Targets.rename(columns={'Label': 'HO2Label', 'Target': 'HO2Target'}, inplace=True)"
   ]
  },
  {
   "cell_type": "code",
   "execution_count": 13,
   "id": "ae33c2bf-ffc9-4db1-bd30-87731ef41d29",
   "metadata": {
    "tags": []
   },
   "outputs": [
    {
     "data": {
      "text/plain": [
       "121"
      ]
     },
     "execution_count": 13,
     "metadata": {},
     "output_type": "execute_result"
    }
   ],
   "source": [
    "df_HO2HO1_Labels = pd.merge(df_HO2_Labels_Targets,df_HO1_To_HO2, on='RecID')\n",
    "len(df_HO2HO1_Labels)"
   ]
  },
  {
   "cell_type": "code",
   "execution_count": 14,
   "id": "ed3fd79e-4eda-43c9-930a-0e12af27ebdd",
   "metadata": {
    "tags": []
   },
   "outputs": [
    {
     "data": {
      "text/html": [
       "<div>\n",
       "<style scoped>\n",
       "    .dataframe tbody tr th:only-of-type {\n",
       "        vertical-align: middle;\n",
       "    }\n",
       "\n",
       "    .dataframe tbody tr th {\n",
       "        vertical-align: top;\n",
       "    }\n",
       "\n",
       "    .dataframe thead th {\n",
       "        text-align: right;\n",
       "    }\n",
       "</style>\n",
       "<table border=\"1\" class=\"dataframe\">\n",
       "  <thead>\n",
       "    <tr style=\"text-align: right;\">\n",
       "      <th></th>\n",
       "      <th>RecID</th>\n",
       "      <th>HO2Label</th>\n",
       "      <th>HO2Target</th>\n",
       "      <th>SBERTLabel</th>\n",
       "      <th>SBERTTarget</th>\n",
       "      <th>GClfTarget</th>\n",
       "      <th>HO1Label</th>\n",
       "      <th>HO1Target</th>\n",
       "      <th>HO1AgreedTarget</th>\n",
       "    </tr>\n",
       "  </thead>\n",
       "  <tbody>\n",
       "    <tr>\n",
       "      <th>0</th>\n",
       "      <td>1057291398880391170</td>\n",
       "      <td>Environmental</td>\n",
       "      <td>3</td>\n",
       "      <td>Social Stories</td>\n",
       "      <td>10</td>\n",
       "      <td>3</td>\n",
       "      <td>Unclassified Medley</td>\n",
       "      <td>-1</td>\n",
       "      <td>-1</td>\n",
       "    </tr>\n",
       "    <tr>\n",
       "      <th>1</th>\n",
       "      <td>1165822705037217792</td>\n",
       "      <td>Health</td>\n",
       "      <td>4</td>\n",
       "      <td>Social Stories</td>\n",
       "      <td>10</td>\n",
       "      <td>10</td>\n",
       "      <td>Unclassified Medley</td>\n",
       "      <td>-1</td>\n",
       "      <td>-1</td>\n",
       "    </tr>\n",
       "    <tr>\n",
       "      <th>2</th>\n",
       "      <td>1174449406172491776</td>\n",
       "      <td>Entertainment</td>\n",
       "      <td>2</td>\n",
       "      <td>Social Stories</td>\n",
       "      <td>10</td>\n",
       "      <td>6</td>\n",
       "      <td>Entertainment</td>\n",
       "      <td>2</td>\n",
       "      <td>-1</td>\n",
       "    </tr>\n",
       "    <tr>\n",
       "      <th>3</th>\n",
       "      <td>1179556773750927360</td>\n",
       "      <td>Unclassified Medley</td>\n",
       "      <td>16</td>\n",
       "      <td>World Politics</td>\n",
       "      <td>12</td>\n",
       "      <td>-1</td>\n",
       "      <td>Human Rights</td>\n",
       "      <td>5</td>\n",
       "      <td>-1</td>\n",
       "    </tr>\n",
       "    <tr>\n",
       "      <th>4</th>\n",
       "      <td>1180064036509175808</td>\n",
       "      <td>Politics</td>\n",
       "      <td>6</td>\n",
       "      <td>Social Stories</td>\n",
       "      <td>10</td>\n",
       "      <td>6</td>\n",
       "      <td>Human Rights</td>\n",
       "      <td>5</td>\n",
       "      <td>-1</td>\n",
       "    </tr>\n",
       "  </tbody>\n",
       "</table>\n",
       "</div>"
      ],
      "text/plain": [
       "                 RecID             HO2Label HO2Target      SBERTLabel  \\\n",
       "0  1057291398880391170        Environmental         3  Social Stories   \n",
       "1  1165822705037217792               Health         4  Social Stories   \n",
       "2  1174449406172491776        Entertainment         2  Social Stories   \n",
       "3  1179556773750927360  Unclassified Medley        16  World Politics   \n",
       "4  1180064036509175808             Politics         6  Social Stories   \n",
       "\n",
       "  SBERTTarget GClfTarget             HO1Label HO1Target HO1AgreedTarget  \n",
       "0          10          3  Unclassified Medley        -1              -1  \n",
       "1          10         10  Unclassified Medley        -1              -1  \n",
       "2          10          6        Entertainment         2              -1  \n",
       "3          12         -1         Human Rights         5              -1  \n",
       "4          10          6         Human Rights         5              -1  "
      ]
     },
     "execution_count": 14,
     "metadata": {},
     "output_type": "execute_result"
    }
   ],
   "source": [
    "df_HO2HO1_Labels.head()"
   ]
  },
  {
   "cell_type": "code",
   "execution_count": 15,
   "id": "e7a99910-3f01-4f7f-bf14-ef3e927aa685",
   "metadata": {
    "tags": []
   },
   "outputs": [],
   "source": [
    "df_HO2HO1_Labels.drop(['HO1AgreedTarget'], axis=1, inplace=True)"
   ]
  },
  {
   "cell_type": "markdown",
   "id": "58c11142-4317-4d29-8ed3-c993f32f4c26",
   "metadata": {
    "tags": []
   },
   "source": [
    "#### Compute Krippendorff's Alpha for HO2, HO3, GClf"
   ]
  },
  {
   "cell_type": "code",
   "execution_count": 16,
   "id": "ef365d27-5636-4142-afc2-fa83ab05f2b8",
   "metadata": {
    "tags": []
   },
   "outputs": [],
   "source": [
    "def AgreeTargetWithHO2(A1Target, A2Target, HO1Target, HO2Target):\n",
    "    AgreedTarget = '-1'\n",
    "    if (AgreedTarget == '-1') and (HO1Target == HO2Target):\n",
    "        AgreedTarget = HO2Target\n",
    "    if (AgreedTarget == '-1') and (A2Target == HO2Target):\n",
    "        AgreedTarget = HO2Target\n",
    "    if (AgreedTarget == '-1') and (A2Target == HO2Target):\n",
    "        AgreedTarget = HO2Target\n",
    "    return AgreedTarget"
   ]
  },
  {
   "cell_type": "code",
   "execution_count": 17,
   "id": "d83b1cac-f94a-4282-9106-b44ddc37a692",
   "metadata": {
    "tags": []
   },
   "outputs": [],
   "source": [
    "# set HO1Target's Unknown to -1 for Krippendroff's Alpha calculation\n",
    "df_HO2HO1_Labels.loc[(df_HO2HO1_Labels.HO2Target == '0'), 'HO2Target'] = '-1'"
   ]
  },
  {
   "cell_type": "code",
   "execution_count": 18,
   "id": "ac41e972-d3a0-4ac4-8f09-115280f7d593",
   "metadata": {
    "tags": []
   },
   "outputs": [],
   "source": [
    "df_HO2HO1_Labels['HO2AgreedTarget'] = df_HO2HO1_Labels.apply(lambda x: AgreeTargetWithHO2(x['GClfTarget'], x['SBERTTarget'], x['HO1Target'], x['HO2Target']), axis=1)"
   ]
  },
  {
   "cell_type": "code",
   "execution_count": 19,
   "id": "4ae5f5da-c182-4d59-a442-3054a07343f7",
   "metadata": {
    "tags": []
   },
   "outputs": [],
   "source": [
    "# convert to horizontal array as expected by Krippendorff Alpha\n",
    "HO2Pred = np.stack(df_HO2HO1_Labels['HO2Target'].astype(\"string\"))\n",
    "HO1Pred = np.stack(df_HO2HO1_Labels['HO1Target'].astype(\"string\"))\n",
    "GClfPred = np.stack(df_HO2HO1_Labels['GClfTarget'].astype(\"string\"))\n",
    "SBERTPred = np.stack(df_HO2HO1_Labels['SBERTTarget'].astype(\"string\"))\n",
    "HO2AgreedTarget = np.stack(df_HO2HO1_Labels['HO2AgreedTarget'].astype(\"string\"))"
   ]
  },
  {
   "cell_type": "code",
   "execution_count": 20,
   "id": "7a3f3535-c0eb-46a5-9b32-3f26409154b6",
   "metadata": {
    "tags": []
   },
   "outputs": [
    {
     "data": {
      "text/plain": [
       "(0.09199632014719417,\n",
       " 0.3342030714179216,\n",
       " 0.029473550194156206,\n",
       " -0.008579200669596165)"
      ]
     },
     "execution_count": 20,
     "metadata": {},
     "output_type": "execute_result"
    }
   ],
   "source": [
    "missing = '-1'\n",
    "alpha1 = krippendorff_alpha(np.array((HO2Pred,HO2AgreedTarget)), nominal_metric, missing_items=missing)\n",
    "alpha2 = krippendorff_alpha(np.array((HO1Pred,HO2AgreedTarget)), nominal_metric, missing_items=missing)\n",
    "alpha3 = krippendorff_alpha(np.array((GClfPred,HO2AgreedTarget)), nominal_metric, missing_items=missing)\n",
    "alpha4 = krippendorff_alpha(np.array((SBERTPred,HO2AgreedTarget)), nominal_metric, missing_items=missing)\n",
    "alpha1, alpha2, alpha3, alpha4"
   ]
  },
  {
   "cell_type": "code",
   "execution_count": 21,
   "id": "014bdcba-20d4-46f5-94b5-34c867067cc8",
   "metadata": {
    "tags": []
   },
   "outputs": [
    {
     "data": {
      "text/plain": [
       "121"
      ]
     },
     "execution_count": 21,
     "metadata": {},
     "output_type": "execute_result"
    }
   ],
   "source": [
    "len(df_HO2HO1_Labels)"
   ]
  },
  {
   "cell_type": "code",
   "execution_count": 22,
   "id": "65ee4b7b-86d9-4cf7-89be-0c7337c8768b",
   "metadata": {
    "tags": []
   },
   "outputs": [],
   "source": [
    "df_HO2HO1_Labels.to_csv('df_HO2HO1_Labels.csv')"
   ]
  },
  {
   "cell_type": "code",
   "execution_count": 24,
   "id": "68cb2c64-0604-4e9e-ba77-8e9c2b8ae7b7",
   "metadata": {
    "tags": []
   },
   "outputs": [
    {
     "data": {
      "text/plain": [
       "-0.08141072740631872"
      ]
     },
     "execution_count": 24,
     "metadata": {},
     "output_type": "execute_result"
    }
   ],
   "source": [
    "alpha_HO1HO2 = krippendorff_alpha(np.array((HO2Pred,HO1Pred)), nominal_metric, missing_items=missing)\n",
    "alpha_HO1HO2"
   ]
  },
  {
   "cell_type": "code",
   "execution_count": 23,
   "id": "091f21fb-6937-4a0a-a24b-c15460eaf7f5",
   "metadata": {
    "tags": []
   },
   "outputs": [
    {
     "data": {
      "text/plain": [
       "-0.02920155010419334"
      ]
     },
     "execution_count": 23,
     "metadata": {},
     "output_type": "execute_result"
    }
   ],
   "source": [
    "alpha = krippendorff_alpha(np.array((HO2Pred,HO1Pred,SBERTPred)), nominal_metric, missing_items=missing)\n",
    "alpha"
   ]
  },
  {
   "cell_type": "markdown",
   "id": "0d2c2eeb-3e8a-40fd-9986-1c600485c083",
   "metadata": {
    "tags": []
   },
   "source": [
    "#### Acquire new GTD from HO2 agreement"
   ]
  },
  {
   "cell_type": "code",
   "execution_count": 38,
   "id": "36a6dbe3-93c0-4cb2-93de-66b56c1122b2",
   "metadata": {
    "tags": []
   },
   "outputs": [],
   "source": [
    "df_HO2HO1_Labels.to_csv('df_HO2HO1_Labels.csv')"
   ]
  },
  {
   "cell_type": "code",
   "execution_count": 37,
   "id": "37050ebf-83e3-4189-8c1d-b44b45104b3a",
   "metadata": {
    "tags": []
   },
   "outputs": [
    {
     "data": {
      "text/plain": [
       "34"
      ]
     },
     "execution_count": 37,
     "metadata": {},
     "output_type": "execute_result"
    }
   ],
   "source": [
    "df_HO2HO1_GTD = df_HO2HO1_Labels[df_HO2HO1_Labels.HO2AgreedTarget != '-1']\n",
    "len(df_HO2HO1_GTD)"
   ]
  },
  {
   "cell_type": "code",
   "execution_count": 95,
   "id": "fdfab16c-4797-4610-a928-cf20b2f049f3",
   "metadata": {
    "tags": []
   },
   "outputs": [
    {
     "name": "stderr",
     "output_type": "stream",
     "text": [
      "C:\\Users\\kazeem\\AppData\\Local\\Temp\\ipykernel_12700\\2715222095.py:2: SettingWithCopyWarning: \n",
      "A value is trying to be set on a copy of a slice from a DataFrame\n",
      "\n",
      "See the caveats in the documentation: https://pandas.pydata.org/pandas-docs/stable/user_guide/indexing.html#returning-a-view-versus-a-copy\n",
      "  df_Pass4_HO2_GTD.rename(columns={'HO2Target': 'Target', 'HO2Label': 'Label'}, inplace=True)\n"
     ]
    },
    {
     "data": {
      "text/html": [
       "<div>\n",
       "<style scoped>\n",
       "    .dataframe tbody tr th:only-of-type {\n",
       "        vertical-align: middle;\n",
       "    }\n",
       "\n",
       "    .dataframe tbody tr th {\n",
       "        vertical-align: top;\n",
       "    }\n",
       "\n",
       "    .dataframe thead th {\n",
       "        text-align: right;\n",
       "    }\n",
       "</style>\n",
       "<table border=\"1\" class=\"dataframe\">\n",
       "  <thead>\n",
       "    <tr style=\"text-align: right;\">\n",
       "      <th></th>\n",
       "      <th>RecID</th>\n",
       "      <th>Label</th>\n",
       "      <th>Target</th>\n",
       "    </tr>\n",
       "  </thead>\n",
       "  <tbody>\n",
       "    <tr>\n",
       "      <th>2</th>\n",
       "      <td>1180604548596916224</td>\n",
       "      <td>Law and Order</td>\n",
       "      <td>7</td>\n",
       "    </tr>\n",
       "    <tr>\n",
       "      <th>4</th>\n",
       "      <td>1181281583078223872</td>\n",
       "      <td>World Politics</td>\n",
       "      <td>12</td>\n",
       "    </tr>\n",
       "  </tbody>\n",
       "</table>\n",
       "</div>"
      ],
      "text/plain": [
       "                 RecID           Label Target\n",
       "2  1180604548596916224   Law and Order      7\n",
       "4  1181281583078223872  World Politics     12"
      ]
     },
     "execution_count": 95,
     "metadata": {},
     "output_type": "execute_result"
    }
   ],
   "source": [
    "df_Pass4_HO2_GTD = df_HO2HO1_GTD[['RecID','HO2Label','HO2Target']]\n",
    "df_Pass4_HO2_GTD.rename(columns={'HO2Target': 'Target', 'HO2Label': 'Label'}, inplace=True)\n",
    "df_Pass4_HO2_GTD.head(2)"
   ]
  },
  {
   "cell_type": "code",
   "execution_count": 96,
   "id": "81ede32a-09d4-47bf-89f7-6f34c0da856f",
   "metadata": {
    "tags": []
   },
   "outputs": [
    {
     "data": {
      "text/plain": [
       "367"
      ]
     },
     "execution_count": 96,
     "metadata": {},
     "output_type": "execute_result"
    }
   ],
   "source": [
    "df_Pass4_GTD = pd.concat([df_Pass4_HO1_GTD, df_Pass4_HO2_GTD], axis=0)\n",
    "len(df_Pass4_GTD)"
   ]
  },
  {
   "cell_type": "code",
   "execution_count": 97,
   "id": "f49113cf-5de5-4cad-b3f4-be96c8b3bea3",
   "metadata": {
    "tags": []
   },
   "outputs": [
    {
     "data": {
      "text/plain": [
       "Target  Label         \n",
       "10      Social Stories     27\n",
       "11      Sports              9\n",
       "12      World Politics     70\n",
       "2       Entertainment      23\n",
       "3       Environmental      38\n",
       "4       Health             13\n",
       "5       Human Rights       29\n",
       "6       Politics          152\n",
       "7       Law and Order       5\n",
       "9       Obituary            1\n",
       "dtype: int64"
      ]
     },
     "execution_count": 97,
     "metadata": {},
     "output_type": "execute_result"
    }
   ],
   "source": [
    "df_Pass4_GTD.groupby(['Target','Label']).size()"
   ]
  },
  {
   "cell_type": "code",
   "execution_count": 98,
   "id": "3ccd3061-8e30-4e15-b43f-33f8a2ec45d2",
   "metadata": {
    "tags": []
   },
   "outputs": [
    {
     "data": {
      "text/plain": [
       "70"
      ]
     },
     "execution_count": 98,
     "metadata": {},
     "output_type": "execute_result"
    }
   ],
   "source": [
    "df_Pass4_GTD_WPolitics = df_Pass4_GTD[df_Pass4_GTD.Label == 'World Politics']\n",
    "len(df_Pass4_GTD_WPolitics)"
   ]
  },
  {
   "cell_type": "code",
   "execution_count": 99,
   "id": "13f2d99d-5497-4219-bbb8-85caaff11945",
   "metadata": {
    "tags": []
   },
   "outputs": [],
   "source": [
    "df_Pass4_GTD_WPolitics.to_csv('data/GTxM_Pass4/GTxM_Pass4_GTD_WPolitics.csv', index=False)"
   ]
  },
  {
   "cell_type": "code",
   "execution_count": 101,
   "id": "fed86591-9155-4b5b-966b-67cd0f1ce2cd",
   "metadata": {
    "tags": []
   },
   "outputs": [
    {
     "data": {
      "text/plain": [
       "297"
      ]
     },
     "execution_count": 101,
     "metadata": {},
     "output_type": "execute_result"
    }
   ],
   "source": [
    "df_Pass4_GTD_New = df_Pass4_GTD[df_Pass4_GTD.Label != 'World Politics']\n",
    "len(df_Pass4_GTD_New)"
   ]
  },
  {
   "cell_type": "code",
   "execution_count": 102,
   "id": "8308b057-0083-4426-9a6d-e78d16a2efaf",
   "metadata": {
    "tags": []
   },
   "outputs": [],
   "source": [
    "df_Pass4_GTD_New.to_csv('data/GTxM_Pass4/GTxM_Pass4_GTD_New.csv', index=False)"
   ]
  },
  {
   "cell_type": "code",
   "execution_count": 103,
   "id": "16a1a11c-8f86-49c6-abf9-235e1dce7a83",
   "metadata": {
    "tags": []
   },
   "outputs": [
    {
     "data": {
      "text/plain": [
       "1057"
      ]
     },
     "execution_count": 103,
     "metadata": {},
     "output_type": "execute_result"
    }
   ],
   "source": [
    "df_Pass3_GTD_UpTodate = pd.read_csv('data/GTxM_Pass3/GTxM_Pass3_GTD_UpTodate.csv', dtype='str')\n",
    "len(df_Pass3_GTD_UpTodate)"
   ]
  },
  {
   "cell_type": "code",
   "execution_count": 104,
   "id": "70396983-4c99-493e-b05e-ec67fa981b66",
   "metadata": {
    "tags": []
   },
   "outputs": [
    {
     "data": {
      "text/plain": [
       "1354"
      ]
     },
     "execution_count": 104,
     "metadata": {},
     "output_type": "execute_result"
    }
   ],
   "source": [
    "df_Pass4_GTD_UpTodate = pd.concat([df_Pass3_GTD_UpTodate, df_Pass4_GTD_New], axis=0)\n",
    "len(df_Pass4_GTD_UpTodate)"
   ]
  },
  {
   "cell_type": "code",
   "execution_count": 105,
   "id": "a0c3a383-e606-44bb-be27-bbabdf0435a6",
   "metadata": {
    "tags": []
   },
   "outputs": [
    {
     "data": {
      "text/plain": [
       "Target  Label         \n",
       "1       Business           75\n",
       "10      Social Stories     59\n",
       "11      Sports             84\n",
       "2       Entertainment     176\n",
       "3       Environmental      55\n",
       "4       Health             17\n",
       "5       Human Rights      115\n",
       "6       Politics          608\n",
       "7       Law and Order      17\n",
       "9       Obituary          148\n",
       "dtype: int64"
      ]
     },
     "execution_count": 105,
     "metadata": {},
     "output_type": "execute_result"
    }
   ],
   "source": [
    "df_Pass4_GTD_UpTodate.groupby(['Target','Label']).size()"
   ]
  },
  {
   "cell_type": "code",
   "execution_count": 106,
   "id": "33f9b50d-db49-4045-85e9-814dcd4d2604",
   "metadata": {
    "tags": []
   },
   "outputs": [],
   "source": [
    "df_Pass4_GTD_UpTodate.to_csv('data/GTxM_Pass4/GTxM_Pass4_GTD_UpTodate.csv', index=False)"
   ]
  },
  {
   "cell_type": "code",
   "execution_count": 107,
   "id": "5f2fb705-55c2-455f-889b-b1557dcd53f4",
   "metadata": {
    "tags": []
   },
   "outputs": [
    {
     "data": {
      "text/plain": [
       "58"
      ]
     },
     "execution_count": 107,
     "metadata": {},
     "output_type": "execute_result"
    }
   ],
   "source": [
    "df_Pass4_Reject = df_HO2HO1_Labels[df_HO2HO1_Labels.HO2AgreedTarget == '-1']\n",
    "len(df_Pass4_Reject)"
   ]
  },
  {
   "cell_type": "code",
   "execution_count": 108,
   "id": "3f6baae4-dac9-48c7-a772-18b10b7d2e18",
   "metadata": {
    "tags": []
   },
   "outputs": [],
   "source": [
    "df_Pass4_Reject = df_Pass4_Reject[['RecID']]"
   ]
  },
  {
   "cell_type": "code",
   "execution_count": 119,
   "id": "2cf649d0-2b5a-4e09-9935-1e51b80b20ea",
   "metadata": {
    "tags": []
   },
   "outputs": [
    {
     "data": {
      "text/plain": [
       "128"
      ]
     },
     "execution_count": 119,
     "metadata": {},
     "output_type": "execute_result"
    }
   ],
   "source": [
    "# Add World Politics to Pass 4's Reject\n",
    "df_Pass4_Reject_New = pd.concat([df_Pass4_Reject, (df_Pass4_GTD_WPolitics['RecID'])], axis=0)\n",
    "len(df_Pass4_Reject_New)"
   ]
  },
  {
   "cell_type": "code",
   "execution_count": 115,
   "id": "3cfb0b3f-bf9a-421c-8958-28d0485d8d31",
   "metadata": {
    "tags": []
   },
   "outputs": [],
   "source": [
    "df_Pass4_Reject_New.to_csv('data/GTxM_Pass4/GTxM_Pass4_Reject_New.csv', index=False)"
   ]
  },
  {
   "cell_type": "code",
   "execution_count": 116,
   "id": "f1182372-7742-489e-acb8-e2d2b29d1349",
   "metadata": {
    "tags": []
   },
   "outputs": [
    {
     "data": {
      "text/plain": [
       "223"
      ]
     },
     "execution_count": 116,
     "metadata": {},
     "output_type": "execute_result"
    }
   ],
   "source": [
    "df_Pass3_Reject_UpTodate = pd.read_csv('data/GTxM_Pass3/GTxM_Pass3_Reject_UpTodate.csv', dtype='str')\n",
    "len(df_Pass3_Reject_UpTodate)"
   ]
  },
  {
   "cell_type": "code",
   "execution_count": 117,
   "id": "1b716196-3dd3-45a6-a8b3-970193677683",
   "metadata": {
    "tags": []
   },
   "outputs": [
    {
     "data": {
      "text/plain": [
       "351"
      ]
     },
     "execution_count": 117,
     "metadata": {},
     "output_type": "execute_result"
    }
   ],
   "source": [
    "df_Pass4_Reject_UpTodate = pd.concat([df_Pass3_Reject_UpTodate, df_Pass4_Reject_New], axis=0)\n",
    "len(df_Pass4_Reject_UpTodate)"
   ]
  },
  {
   "cell_type": "code",
   "execution_count": 118,
   "id": "3e6bc4de-acd8-41a5-98b5-19fd4ee20550",
   "metadata": {
    "tags": []
   },
   "outputs": [],
   "source": [
    "df_Pass4_Reject_UpTodate.to_csv('data/GTxM_Pass4/GTxM_Pass4_Reject_UpTodate.csv', index=False)"
   ]
  },
  {
   "cell_type": "markdown",
   "id": "43f51cdd-3d96-4d9e-8559-7099b1f9c71f",
   "metadata": {},
   "source": [
    "## Intercoder without \"Social Stories\""
   ]
  },
  {
   "cell_type": "markdown",
   "id": "81673a8f-9054-4670-a4cc-b4388327333c",
   "metadata": {
    "tags": []
   },
   "source": [
    "#### Load Predictions"
   ]
  },
  {
   "cell_type": "code",
   "execution_count": 104,
   "id": "8a011dc1-e92b-4cf4-a4b7-5ba6033a6bed",
   "metadata": {
    "tags": []
   },
   "outputs": [
    {
     "data": {
      "text/plain": [
       "220"
      ]
     },
     "execution_count": 104,
     "metadata": {},
     "output_type": "execute_result"
    }
   ],
   "source": [
    "dfPass5 = pd.read_csv(\"results/GTxM_Pass5/GTxM_Intercoder_Pred_Pass5.csv\", dtype='str')\n",
    "len(dfPass5)"
   ]
  },
  {
   "cell_type": "code",
   "execution_count": 105,
   "id": "b45a46f7-4afd-4362-b844-68a65fc7fdb4",
   "metadata": {
    "tags": []
   },
   "outputs": [
    {
     "data": {
      "text/html": [
       "<div>\n",
       "<style scoped>\n",
       "    .dataframe tbody tr th:only-of-type {\n",
       "        vertical-align: middle;\n",
       "    }\n",
       "\n",
       "    .dataframe tbody tr th {\n",
       "        vertical-align: top;\n",
       "    }\n",
       "\n",
       "    .dataframe thead th {\n",
       "        text-align: right;\n",
       "    }\n",
       "</style>\n",
       "<table border=\"1\" class=\"dataframe\">\n",
       "  <thead>\n",
       "    <tr style=\"text-align: right;\">\n",
       "      <th></th>\n",
       "      <th>RecID</th>\n",
       "      <th>Label</th>\n",
       "      <th>Target</th>\n",
       "      <th>XLNet_CGTPred</th>\n",
       "      <th>XLNet_CGT_NoSSPred</th>\n",
       "      <th>BERT_CGTPred</th>\n",
       "      <th>BERT_CGT_NoSSPred</th>\n",
       "      <th>T5_CGTPred</th>\n",
       "      <th>T5_CGT_NoSSPred</th>\n",
       "    </tr>\n",
       "  </thead>\n",
       "  <tbody>\n",
       "    <tr>\n",
       "      <th>0</th>\n",
       "      <td>1222603086558126080</td>\n",
       "      <td>Politics</td>\n",
       "      <td>6</td>\n",
       "      <td>6</td>\n",
       "      <td>6</td>\n",
       "      <td>6</td>\n",
       "      <td>6</td>\n",
       "      <td>6</td>\n",
       "      <td>6</td>\n",
       "    </tr>\n",
       "    <tr>\n",
       "      <th>1</th>\n",
       "      <td>1222474209374408705</td>\n",
       "      <td>Politics</td>\n",
       "      <td>6</td>\n",
       "      <td>6</td>\n",
       "      <td>6</td>\n",
       "      <td>6</td>\n",
       "      <td>6</td>\n",
       "      <td>6</td>\n",
       "      <td>6</td>\n",
       "    </tr>\n",
       "    <tr>\n",
       "      <th>2</th>\n",
       "      <td>1221936812786167810</td>\n",
       "      <td>Environmental</td>\n",
       "      <td>3</td>\n",
       "      <td>10</td>\n",
       "      <td>3</td>\n",
       "      <td>3</td>\n",
       "      <td>3</td>\n",
       "      <td>3</td>\n",
       "      <td>5</td>\n",
       "    </tr>\n",
       "    <tr>\n",
       "      <th>3</th>\n",
       "      <td>1221377542587928576</td>\n",
       "      <td>Politics</td>\n",
       "      <td>6</td>\n",
       "      <td>6</td>\n",
       "      <td>6</td>\n",
       "      <td>6</td>\n",
       "      <td>6</td>\n",
       "      <td>6</td>\n",
       "      <td>6</td>\n",
       "    </tr>\n",
       "    <tr>\n",
       "      <th>4</th>\n",
       "      <td>1220823578825887745</td>\n",
       "      <td>Politics</td>\n",
       "      <td>6</td>\n",
       "      <td>-1</td>\n",
       "      <td>-1</td>\n",
       "      <td>-1</td>\n",
       "      <td>-1</td>\n",
       "      <td>-1</td>\n",
       "      <td>-1</td>\n",
       "    </tr>\n",
       "  </tbody>\n",
       "</table>\n",
       "</div>"
      ],
      "text/plain": [
       "                 RecID          Label Target XLNet_CGTPred XLNet_CGT_NoSSPred  \\\n",
       "0  1222603086558126080       Politics      6             6                  6   \n",
       "1  1222474209374408705       Politics      6             6                  6   \n",
       "2  1221936812786167810  Environmental      3            10                  3   \n",
       "3  1221377542587928576       Politics      6             6                  6   \n",
       "4  1220823578825887745       Politics      6            -1                 -1   \n",
       "\n",
       "  BERT_CGTPred BERT_CGT_NoSSPred T5_CGTPred T5_CGT_NoSSPred  \n",
       "0            6                 6          6               6  \n",
       "1            6                 6          6               6  \n",
       "2            3                 3          3               5  \n",
       "3            6                 6          6               6  \n",
       "4           -1                -1         -1              -1  "
      ]
     },
     "execution_count": 105,
     "metadata": {},
     "output_type": "execute_result"
    }
   ],
   "source": [
    "dfPass5.head()"
   ]
  },
  {
   "cell_type": "markdown",
   "id": "477216c2-40a0-44cc-83a2-cf0a5a17d5dd",
   "metadata": {
    "tags": []
   },
   "source": [
    "#### Get the agreement between XLNet, BERT and T5"
   ]
  },
  {
   "cell_type": "code",
   "execution_count": 106,
   "id": "c44c8f84-0cd8-40c1-9ab6-c18c8289ed54",
   "metadata": {
    "tags": []
   },
   "outputs": [],
   "source": [
    "def AgreeTargetWithA3(A1Target, A2Target, A3Target):\n",
    "    AgreedTarget = '-1'\n",
    "    if (AgreedTarget == '-1') and (A1Target == A3Target):\n",
    "        AgreedTarget = A3Target\n",
    "    if (AgreedTarget == '-1') and (A2Target == A3Target):\n",
    "        AgreedTarget = A3Target\n",
    "    if (AgreedTarget == '-1') and (A1Target == A2Target):\n",
    "        AgreedTarget = A2Target\n",
    "    return AgreedTarget"
   ]
  },
  {
   "cell_type": "markdown",
   "id": "ce23ac5b-ae35-4065-8786-805d529b3a91",
   "metadata": {
    "tags": []
   },
   "source": [
    "##### Calculate krippendorff's alpha for the agreement between XLNet, BERT and T5"
   ]
  },
  {
   "cell_type": "code",
   "execution_count": 107,
   "id": "d148afc8-5ec0-403d-a7d6-6fefda1c26ff",
   "metadata": {
    "tags": []
   },
   "outputs": [],
   "source": [
    "dfPass5['AgreedTarget'] = dfPass5.apply(lambda x: AgreeTargetWithA3(x['T5_CGT_NoSSPred'], x['BERT_CGT_NoSSPred'], x['XLNet_CGT_NoSSPred']), axis=1)"
   ]
  },
  {
   "cell_type": "code",
   "execution_count": 108,
   "id": "d155fcb9-cd08-4767-ada4-a2871911af37",
   "metadata": {
    "tags": []
   },
   "outputs": [
    {
     "data": {
      "text/plain": [
       "107"
      ]
     },
     "execution_count": 108,
     "metadata": {},
     "output_type": "execute_result"
    }
   ],
   "source": [
    "dfPass5_GClf = dfPass5[dfPass5.AgreedTarget != '-1']\n",
    "len(dfPass5_GClf)"
   ]
  },
  {
   "cell_type": "code",
   "execution_count": 109,
   "id": "b92d8e66-9462-4e1c-ad50-30af3839a4b7",
   "metadata": {
    "tags": []
   },
   "outputs": [],
   "source": [
    "# convert to horizontal array as expected by Krippendorff Alpha\n",
    "XLNetPred = np.stack(dfPass5_GClf['XLNet_CGTPred'].astype(\"string\"))\n",
    "BERTPred = np.stack(dfPass5_GClf['BERT_CGTPred'].astype(\"string\"))\n",
    "T5Pred = np.stack(dfPass5_GClf['T5_CGTPred'].astype(\"string\"))\n",
    "AgreedTarget = np.stack(dfPass5_GClf['AgreedTarget'].astype(\"string\"))"
   ]
  },
  {
   "cell_type": "code",
   "execution_count": 110,
   "id": "9ef47684-bbb5-41d3-8743-0cb233fee598",
   "metadata": {
    "tags": []
   },
   "outputs": [
    {
     "data": {
      "text/plain": [
       "(0.8705756754537242, 0.7847611202635913, 0.7390153520381154)"
      ]
     },
     "execution_count": 110,
     "metadata": {},
     "output_type": "execute_result"
    }
   ],
   "source": [
    "missing = '-1'\n",
    "#arr = np.array((TargetPred,AgreedTarget))\n",
    "alpha1 = krippendorff_alpha(np.array((T5Pred,AgreedTarget)), nominal_metric, missing_items=missing)\n",
    "alpha2 = krippendorff_alpha(np.array((BERTPred,AgreedTarget)), nominal_metric, missing_items=missing)\n",
    "alpha3 = krippendorff_alpha(np.array((XLNetPred,AgreedTarget)), nominal_metric, missing_items=missing)\n",
    "alpha1, alpha2, alpha3"
   ]
  },
  {
   "cell_type": "markdown",
   "id": "14fa239a-1fed-4e6d-89f0-3d4bf0c54c1e",
   "metadata": {
    "tags": []
   },
   "source": [
    "#### Get Krippendorff's Alpha between HO1 and GTxM Classifier and SBERT"
   ]
  },
  {
   "cell_type": "code",
   "execution_count": 111,
   "id": "df879146-3604-4f45-998e-7b8d017e495e",
   "metadata": {
    "tags": []
   },
   "outputs": [],
   "source": [
    "def AgreeTargetWithHO1(A1Target, A2Target, HO1Target):\n",
    "    AgreedTarget = '-1'\n",
    "    if (AgreedTarget == '-1') and (A1Target == HO1Target):\n",
    "        AgreedTarget = HO1Target\n",
    "    if (AgreedTarget == '-1') and (A2Target == HO1Target):\n",
    "        AgreedTarget = HO1Target\n",
    "    return AgreedTarget"
   ]
  },
  {
   "cell_type": "code",
   "execution_count": 112,
   "id": "2a8f0bfe-3ebc-41c2-8503-db5a26a638e2",
   "metadata": {
    "tags": []
   },
   "outputs": [
    {
     "data": {
      "text/html": [
       "<div>\n",
       "<style scoped>\n",
       "    .dataframe tbody tr th:only-of-type {\n",
       "        vertical-align: middle;\n",
       "    }\n",
       "\n",
       "    .dataframe tbody tr th {\n",
       "        vertical-align: top;\n",
       "    }\n",
       "\n",
       "    .dataframe thead th {\n",
       "        text-align: right;\n",
       "    }\n",
       "</style>\n",
       "<table border=\"1\" class=\"dataframe\">\n",
       "  <thead>\n",
       "    <tr style=\"text-align: right;\">\n",
       "      <th></th>\n",
       "      <th>RecID</th>\n",
       "      <th>Label</th>\n",
       "      <th>Target</th>\n",
       "      <th>XLNet_CGTPred</th>\n",
       "      <th>XLNet_CGT_NoSSPred</th>\n",
       "      <th>BERT_CGTPred</th>\n",
       "      <th>BERT_CGT_NoSSPred</th>\n",
       "      <th>T5_CGTPred</th>\n",
       "      <th>T5_CGT_NoSSPred</th>\n",
       "      <th>AgreedTarget</th>\n",
       "    </tr>\n",
       "  </thead>\n",
       "  <tbody>\n",
       "    <tr>\n",
       "      <th>0</th>\n",
       "      <td>1222603086558126080</td>\n",
       "      <td>Politics</td>\n",
       "      <td>6</td>\n",
       "      <td>6</td>\n",
       "      <td>6</td>\n",
       "      <td>6</td>\n",
       "      <td>6</td>\n",
       "      <td>6</td>\n",
       "      <td>6</td>\n",
       "      <td>6</td>\n",
       "    </tr>\n",
       "    <tr>\n",
       "      <th>1</th>\n",
       "      <td>1222474209374408705</td>\n",
       "      <td>Politics</td>\n",
       "      <td>6</td>\n",
       "      <td>6</td>\n",
       "      <td>6</td>\n",
       "      <td>6</td>\n",
       "      <td>6</td>\n",
       "      <td>6</td>\n",
       "      <td>6</td>\n",
       "      <td>6</td>\n",
       "    </tr>\n",
       "    <tr>\n",
       "      <th>2</th>\n",
       "      <td>1221936812786167810</td>\n",
       "      <td>Environmental</td>\n",
       "      <td>3</td>\n",
       "      <td>10</td>\n",
       "      <td>3</td>\n",
       "      <td>3</td>\n",
       "      <td>3</td>\n",
       "      <td>3</td>\n",
       "      <td>5</td>\n",
       "      <td>3</td>\n",
       "    </tr>\n",
       "    <tr>\n",
       "      <th>3</th>\n",
       "      <td>1221377542587928576</td>\n",
       "      <td>Politics</td>\n",
       "      <td>6</td>\n",
       "      <td>6</td>\n",
       "      <td>6</td>\n",
       "      <td>6</td>\n",
       "      <td>6</td>\n",
       "      <td>6</td>\n",
       "      <td>6</td>\n",
       "      <td>6</td>\n",
       "    </tr>\n",
       "    <tr>\n",
       "      <th>4</th>\n",
       "      <td>1220823578825887745</td>\n",
       "      <td>Politics</td>\n",
       "      <td>6</td>\n",
       "      <td>-1</td>\n",
       "      <td>-1</td>\n",
       "      <td>-1</td>\n",
       "      <td>-1</td>\n",
       "      <td>-1</td>\n",
       "      <td>-1</td>\n",
       "      <td>-1</td>\n",
       "    </tr>\n",
       "  </tbody>\n",
       "</table>\n",
       "</div>"
      ],
      "text/plain": [
       "                 RecID          Label Target XLNet_CGTPred XLNet_CGT_NoSSPred  \\\n",
       "0  1222603086558126080       Politics      6             6                  6   \n",
       "1  1222474209374408705       Politics      6             6                  6   \n",
       "2  1221936812786167810  Environmental      3            10                  3   \n",
       "3  1221377542587928576       Politics      6             6                  6   \n",
       "4  1220823578825887745       Politics      6            -1                 -1   \n",
       "\n",
       "  BERT_CGTPred BERT_CGT_NoSSPred T5_CGTPred T5_CGT_NoSSPred AgreedTarget  \n",
       "0            6                 6          6               6            6  \n",
       "1            6                 6          6               6            6  \n",
       "2            3                 3          3               5            3  \n",
       "3            6                 6          6               6            6  \n",
       "4           -1                -1         -1              -1           -1  "
      ]
     },
     "execution_count": 112,
     "metadata": {},
     "output_type": "execute_result"
    }
   ],
   "source": [
    "dfPass5.head()"
   ]
  },
  {
   "cell_type": "code",
   "execution_count": 113,
   "id": "77d69725-1bfc-48b1-afd6-44b80dd36689",
   "metadata": {
    "tags": []
   },
   "outputs": [],
   "source": [
    "dfPass5.drop(['XLNet_CGTPred','BERT_CGTPred','T5_CGTPred','XLNet_CGT_NoSSPred','BERT_CGT_NoSSPred','T5_CGT_NoSSPred'], axis=1, inplace=True)"
   ]
  },
  {
   "cell_type": "code",
   "execution_count": 114,
   "id": "dddf13ad-8fb3-4947-acde-43d5e5c5d6bd",
   "metadata": {
    "tags": []
   },
   "outputs": [],
   "source": [
    "dfPass5.rename(columns={'AgreedTarget': 'GClfTarget'}, inplace=True)"
   ]
  },
  {
   "cell_type": "code",
   "execution_count": 115,
   "id": "3b059fbc-3c47-43f7-8a71-32eb0e5c2762",
   "metadata": {
    "tags": []
   },
   "outputs": [
    {
     "data": {
      "text/html": [
       "<div>\n",
       "<style scoped>\n",
       "    .dataframe tbody tr th:only-of-type {\n",
       "        vertical-align: middle;\n",
       "    }\n",
       "\n",
       "    .dataframe tbody tr th {\n",
       "        vertical-align: top;\n",
       "    }\n",
       "\n",
       "    .dataframe thead th {\n",
       "        text-align: right;\n",
       "    }\n",
       "</style>\n",
       "<table border=\"1\" class=\"dataframe\">\n",
       "  <thead>\n",
       "    <tr style=\"text-align: right;\">\n",
       "      <th></th>\n",
       "      <th>RecID</th>\n",
       "      <th>Label</th>\n",
       "      <th>Target</th>\n",
       "      <th>GClfTarget</th>\n",
       "    </tr>\n",
       "  </thead>\n",
       "  <tbody>\n",
       "    <tr>\n",
       "      <th>0</th>\n",
       "      <td>1222603086558126080</td>\n",
       "      <td>Politics</td>\n",
       "      <td>6</td>\n",
       "      <td>6</td>\n",
       "    </tr>\n",
       "    <tr>\n",
       "      <th>1</th>\n",
       "      <td>1222474209374408705</td>\n",
       "      <td>Politics</td>\n",
       "      <td>6</td>\n",
       "      <td>6</td>\n",
       "    </tr>\n",
       "  </tbody>\n",
       "</table>\n",
       "</div>"
      ],
      "text/plain": [
       "                 RecID     Label Target GClfTarget\n",
       "0  1222603086558126080  Politics      6          6\n",
       "1  1222474209374408705  Politics      6          6"
      ]
     },
     "execution_count": 115,
     "metadata": {},
     "output_type": "execute_result"
    }
   ],
   "source": [
    "dfPass5.head(2)"
   ]
  },
  {
   "cell_type": "code",
   "execution_count": 116,
   "id": "3673f2ea-bf7a-4b1c-92ce-483d332886f5",
   "metadata": {
    "tags": []
   },
   "outputs": [],
   "source": [
    "df_jato_HO1_Labels = pd.read_csv('D:/KOPro/PhD/Implementation/SourceCode/JatoPass5_HO1/data/JatoClassified_HO1_Pass5.csv', usecols=['RecID','NewsPubCat'], dtype='str')"
   ]
  },
  {
   "cell_type": "code",
   "execution_count": 117,
   "id": "653649aa-d5ca-4419-a735-e42b4ab3ae40",
   "metadata": {
    "tags": []
   },
   "outputs": [
    {
     "data": {
      "text/html": [
       "<div>\n",
       "<style scoped>\n",
       "    .dataframe tbody tr th:only-of-type {\n",
       "        vertical-align: middle;\n",
       "    }\n",
       "\n",
       "    .dataframe tbody tr th {\n",
       "        vertical-align: top;\n",
       "    }\n",
       "\n",
       "    .dataframe thead th {\n",
       "        text-align: right;\n",
       "    }\n",
       "</style>\n",
       "<table border=\"1\" class=\"dataframe\">\n",
       "  <thead>\n",
       "    <tr style=\"text-align: right;\">\n",
       "      <th></th>\n",
       "      <th>RecID</th>\n",
       "      <th>NewsPubCat</th>\n",
       "    </tr>\n",
       "  </thead>\n",
       "  <tbody>\n",
       "    <tr>\n",
       "      <th>0</th>\n",
       "      <td>222818213392678912</td>\n",
       "      <td>Politics</td>\n",
       "    </tr>\n",
       "    <tr>\n",
       "      <th>1</th>\n",
       "      <td>826262311560216578</td>\n",
       "      <td>Politics</td>\n",
       "    </tr>\n",
       "  </tbody>\n",
       "</table>\n",
       "</div>"
      ],
      "text/plain": [
       "                RecID NewsPubCat\n",
       "0  222818213392678912   Politics\n",
       "1  826262311560216578   Politics"
      ]
     },
     "execution_count": 117,
     "metadata": {},
     "output_type": "execute_result"
    }
   ],
   "source": [
    "df_jato_HO1_Labels.head(2)"
   ]
  },
  {
   "cell_type": "code",
   "execution_count": 118,
   "id": "29267621-ab62-4bb5-82c1-54097b5557f2",
   "metadata": {
    "tags": []
   },
   "outputs": [],
   "source": [
    "Labels_Targets = pd.read_csv('data/GTxM_Pass5/Labels_Targets_CGTPass5.csv', dtype='str')"
   ]
  },
  {
   "cell_type": "code",
   "execution_count": 119,
   "id": "efb0d95f-aa69-414d-8d8a-cdefce6d0686",
   "metadata": {
    "tags": []
   },
   "outputs": [
    {
     "data": {
      "text/html": [
       "<div>\n",
       "<style scoped>\n",
       "    .dataframe tbody tr th:only-of-type {\n",
       "        vertical-align: middle;\n",
       "    }\n",
       "\n",
       "    .dataframe tbody tr th {\n",
       "        vertical-align: top;\n",
       "    }\n",
       "\n",
       "    .dataframe thead th {\n",
       "        text-align: right;\n",
       "    }\n",
       "</style>\n",
       "<table border=\"1\" class=\"dataframe\">\n",
       "  <thead>\n",
       "    <tr style=\"text-align: right;\">\n",
       "      <th></th>\n",
       "      <th>Target</th>\n",
       "      <th>Label</th>\n",
       "    </tr>\n",
       "  </thead>\n",
       "  <tbody>\n",
       "    <tr>\n",
       "      <th>0</th>\n",
       "      <td>1</td>\n",
       "      <td>Business</td>\n",
       "    </tr>\n",
       "    <tr>\n",
       "      <th>1</th>\n",
       "      <td>2</td>\n",
       "      <td>Entertainment</td>\n",
       "    </tr>\n",
       "  </tbody>\n",
       "</table>\n",
       "</div>"
      ],
      "text/plain": [
       "  Target          Label\n",
       "0      1       Business\n",
       "1      2  Entertainment"
      ]
     },
     "execution_count": 119,
     "metadata": {},
     "output_type": "execute_result"
    }
   ],
   "source": [
    "Labels_Targets.head(2)"
   ]
  },
  {
   "cell_type": "code",
   "execution_count": 120,
   "id": "6ec20ae5-877c-4ec9-8e6f-7b8bbe5ab296",
   "metadata": {
    "tags": []
   },
   "outputs": [],
   "source": [
    "df_jato_HO1_Labels.rename(columns={'NewsPubCat': 'Label'}, inplace=True)"
   ]
  },
  {
   "cell_type": "code",
   "execution_count": 121,
   "id": "099b4822-391e-43d2-8a71-2380de5a882e",
   "metadata": {
    "tags": []
   },
   "outputs": [],
   "source": [
    "df_HO1_Labels_Targets = pd.merge(df_jato_HO1_Labels,Labels_Targets, on='Label', how='left')"
   ]
  },
  {
   "cell_type": "code",
   "execution_count": 122,
   "id": "34a4ff88-f12a-4230-b42e-82b39f733123",
   "metadata": {
    "tags": []
   },
   "outputs": [
    {
     "data": {
      "text/html": [
       "<div>\n",
       "<style scoped>\n",
       "    .dataframe tbody tr th:only-of-type {\n",
       "        vertical-align: middle;\n",
       "    }\n",
       "\n",
       "    .dataframe tbody tr th {\n",
       "        vertical-align: top;\n",
       "    }\n",
       "\n",
       "    .dataframe thead th {\n",
       "        text-align: right;\n",
       "    }\n",
       "</style>\n",
       "<table border=\"1\" class=\"dataframe\">\n",
       "  <thead>\n",
       "    <tr style=\"text-align: right;\">\n",
       "      <th></th>\n",
       "      <th>RecID</th>\n",
       "      <th>Label</th>\n",
       "      <th>Target</th>\n",
       "    </tr>\n",
       "  </thead>\n",
       "  <tbody>\n",
       "    <tr>\n",
       "      <th>0</th>\n",
       "      <td>222818213392678912</td>\n",
       "      <td>Politics</td>\n",
       "      <td>6</td>\n",
       "    </tr>\n",
       "    <tr>\n",
       "      <th>1</th>\n",
       "      <td>826262311560216578</td>\n",
       "      <td>Politics</td>\n",
       "      <td>6</td>\n",
       "    </tr>\n",
       "    <tr>\n",
       "      <th>2</th>\n",
       "      <td>833502973204459520</td>\n",
       "      <td>Entertainment</td>\n",
       "      <td>2</td>\n",
       "    </tr>\n",
       "    <tr>\n",
       "      <th>3</th>\n",
       "      <td>835347243020451840</td>\n",
       "      <td>Human Rights</td>\n",
       "      <td>5</td>\n",
       "    </tr>\n",
       "    <tr>\n",
       "      <th>4</th>\n",
       "      <td>867832469181128704</td>\n",
       "      <td>Entertainment</td>\n",
       "      <td>2</td>\n",
       "    </tr>\n",
       "    <tr>\n",
       "      <th>...</th>\n",
       "      <td>...</td>\n",
       "      <td>...</td>\n",
       "      <td>...</td>\n",
       "    </tr>\n",
       "    <tr>\n",
       "      <th>2380</th>\n",
       "      <td>1223262356496699394</td>\n",
       "      <td>Entertainment</td>\n",
       "      <td>2</td>\n",
       "    </tr>\n",
       "    <tr>\n",
       "      <th>2381</th>\n",
       "      <td>1223301592549556224</td>\n",
       "      <td>Politics</td>\n",
       "      <td>6</td>\n",
       "    </tr>\n",
       "    <tr>\n",
       "      <th>2382</th>\n",
       "      <td>1223302445889150976</td>\n",
       "      <td>Politics</td>\n",
       "      <td>6</td>\n",
       "    </tr>\n",
       "    <tr>\n",
       "      <th>2383</th>\n",
       "      <td>1223365339494453248</td>\n",
       "      <td>Politics</td>\n",
       "      <td>6</td>\n",
       "    </tr>\n",
       "    <tr>\n",
       "      <th>2384</th>\n",
       "      <td>1223389175468249088</td>\n",
       "      <td>Politics</td>\n",
       "      <td>6</td>\n",
       "    </tr>\n",
       "  </tbody>\n",
       "</table>\n",
       "<p>2385 rows × 3 columns</p>\n",
       "</div>"
      ],
      "text/plain": [
       "                    RecID          Label Target\n",
       "0      222818213392678912       Politics      6\n",
       "1      826262311560216578       Politics      6\n",
       "2      833502973204459520  Entertainment      2\n",
       "3      835347243020451840   Human Rights      5\n",
       "4      867832469181128704  Entertainment      2\n",
       "...                   ...            ...    ...\n",
       "2380  1223262356496699394  Entertainment      2\n",
       "2381  1223301592549556224       Politics      6\n",
       "2382  1223302445889150976       Politics      6\n",
       "2383  1223365339494453248       Politics      6\n",
       "2384  1223389175468249088       Politics      6\n",
       "\n",
       "[2385 rows x 3 columns]"
      ]
     },
     "execution_count": 122,
     "metadata": {},
     "output_type": "execute_result"
    }
   ],
   "source": [
    "df_HO1_Labels_Targets"
   ]
  },
  {
   "cell_type": "code",
   "execution_count": 123,
   "id": "f2d501c5-98fb-4a30-8a43-539f9f363703",
   "metadata": {
    "tags": []
   },
   "outputs": [],
   "source": [
    "df_HO1_Labels_Targets.rename(columns={'Label': 'HO1Label', 'Target': 'HO1Target'}, inplace=True)"
   ]
  },
  {
   "cell_type": "code",
   "execution_count": 124,
   "id": "5b223aea-567f-48e2-9e69-194ff29d3646",
   "metadata": {
    "tags": []
   },
   "outputs": [],
   "source": [
    "df_HO1_GClf = pd.merge(dfPass5, df_HO1_Labels_Targets, on='RecID', how='left')"
   ]
  },
  {
   "cell_type": "code",
   "execution_count": 125,
   "id": "df2b388b-3482-4be7-b316-886671463e3e",
   "metadata": {
    "tags": []
   },
   "outputs": [
    {
     "data": {
      "text/html": [
       "<div>\n",
       "<style scoped>\n",
       "    .dataframe tbody tr th:only-of-type {\n",
       "        vertical-align: middle;\n",
       "    }\n",
       "\n",
       "    .dataframe tbody tr th {\n",
       "        vertical-align: top;\n",
       "    }\n",
       "\n",
       "    .dataframe thead th {\n",
       "        text-align: right;\n",
       "    }\n",
       "</style>\n",
       "<table border=\"1\" class=\"dataframe\">\n",
       "  <thead>\n",
       "    <tr style=\"text-align: right;\">\n",
       "      <th></th>\n",
       "      <th>RecID</th>\n",
       "      <th>Label</th>\n",
       "      <th>Target</th>\n",
       "      <th>GClfTarget</th>\n",
       "      <th>HO1Label</th>\n",
       "      <th>HO1Target</th>\n",
       "    </tr>\n",
       "  </thead>\n",
       "  <tbody>\n",
       "    <tr>\n",
       "      <th>0</th>\n",
       "      <td>1222603086558126080</td>\n",
       "      <td>Politics</td>\n",
       "      <td>6</td>\n",
       "      <td>6</td>\n",
       "      <td>Health</td>\n",
       "      <td>4</td>\n",
       "    </tr>\n",
       "    <tr>\n",
       "      <th>1</th>\n",
       "      <td>1222474209374408705</td>\n",
       "      <td>Politics</td>\n",
       "      <td>6</td>\n",
       "      <td>6</td>\n",
       "      <td>Politics</td>\n",
       "      <td>6</td>\n",
       "    </tr>\n",
       "    <tr>\n",
       "      <th>2</th>\n",
       "      <td>1221936812786167810</td>\n",
       "      <td>Environmental</td>\n",
       "      <td>3</td>\n",
       "      <td>3</td>\n",
       "      <td>Unknown</td>\n",
       "      <td>0</td>\n",
       "    </tr>\n",
       "    <tr>\n",
       "      <th>3</th>\n",
       "      <td>1221377542587928576</td>\n",
       "      <td>Politics</td>\n",
       "      <td>6</td>\n",
       "      <td>6</td>\n",
       "      <td>Politics</td>\n",
       "      <td>6</td>\n",
       "    </tr>\n",
       "    <tr>\n",
       "      <th>4</th>\n",
       "      <td>1220823578825887745</td>\n",
       "      <td>Politics</td>\n",
       "      <td>6</td>\n",
       "      <td>-1</td>\n",
       "      <td>Politics</td>\n",
       "      <td>6</td>\n",
       "    </tr>\n",
       "    <tr>\n",
       "      <th>...</th>\n",
       "      <td>...</td>\n",
       "      <td>...</td>\n",
       "      <td>...</td>\n",
       "      <td>...</td>\n",
       "      <td>...</td>\n",
       "      <td>...</td>\n",
       "    </tr>\n",
       "    <tr>\n",
       "      <th>215</th>\n",
       "      <td>1192717207895072769</td>\n",
       "      <td>Environmental</td>\n",
       "      <td>3</td>\n",
       "      <td>3</td>\n",
       "      <td>Environmental</td>\n",
       "      <td>3</td>\n",
       "    </tr>\n",
       "    <tr>\n",
       "      <th>216</th>\n",
       "      <td>1189678712490360833</td>\n",
       "      <td>Sports</td>\n",
       "      <td>11</td>\n",
       "      <td>-1</td>\n",
       "      <td>Sports</td>\n",
       "      <td>11</td>\n",
       "    </tr>\n",
       "    <tr>\n",
       "      <th>217</th>\n",
       "      <td>1185507039008698368</td>\n",
       "      <td>Human Rights</td>\n",
       "      <td>5</td>\n",
       "      <td>-1</td>\n",
       "      <td>Human Rights</td>\n",
       "      <td>5</td>\n",
       "    </tr>\n",
       "    <tr>\n",
       "      <th>218</th>\n",
       "      <td>1197994951771951105</td>\n",
       "      <td>Human Rights</td>\n",
       "      <td>5</td>\n",
       "      <td>5</td>\n",
       "      <td>Human Rights</td>\n",
       "      <td>5</td>\n",
       "    </tr>\n",
       "    <tr>\n",
       "      <th>219</th>\n",
       "      <td>1213840375380447233</td>\n",
       "      <td>World Politics</td>\n",
       "      <td>12</td>\n",
       "      <td>-1</td>\n",
       "      <td>World Politics</td>\n",
       "      <td>12</td>\n",
       "    </tr>\n",
       "  </tbody>\n",
       "</table>\n",
       "<p>220 rows × 6 columns</p>\n",
       "</div>"
      ],
      "text/plain": [
       "                   RecID           Label Target GClfTarget        HO1Label  \\\n",
       "0    1222603086558126080        Politics      6          6          Health   \n",
       "1    1222474209374408705        Politics      6          6        Politics   \n",
       "2    1221936812786167810   Environmental      3          3         Unknown   \n",
       "3    1221377542587928576        Politics      6          6        Politics   \n",
       "4    1220823578825887745        Politics      6         -1        Politics   \n",
       "..                   ...             ...    ...        ...             ...   \n",
       "215  1192717207895072769   Environmental      3          3   Environmental   \n",
       "216  1189678712490360833          Sports     11         -1          Sports   \n",
       "217  1185507039008698368    Human Rights      5         -1    Human Rights   \n",
       "218  1197994951771951105    Human Rights      5          5    Human Rights   \n",
       "219  1213840375380447233  World Politics     12         -1  World Politics   \n",
       "\n",
       "    HO1Target  \n",
       "0           4  \n",
       "1           6  \n",
       "2           0  \n",
       "3           6  \n",
       "4           6  \n",
       "..        ...  \n",
       "215         3  \n",
       "216        11  \n",
       "217         5  \n",
       "218         5  \n",
       "219        12  \n",
       "\n",
       "[220 rows x 6 columns]"
      ]
     },
     "execution_count": 125,
     "metadata": {},
     "output_type": "execute_result"
    }
   ],
   "source": [
    "df_HO1_GClf"
   ]
  },
  {
   "cell_type": "code",
   "execution_count": 126,
   "id": "bc51a070-9ff0-47fe-bc2a-8982c3357333",
   "metadata": {
    "tags": []
   },
   "outputs": [],
   "source": [
    "df_HO1_GClf.rename(columns={'Target': 'SBERTTarget', 'Label': 'SBERTLabel'}, inplace=True)"
   ]
  },
  {
   "cell_type": "code",
   "execution_count": 127,
   "id": "64d5cbc9-ca28-4ac9-915b-4229f7eb6f81",
   "metadata": {
    "tags": []
   },
   "outputs": [
    {
     "data": {
      "text/html": [
       "<div>\n",
       "<style scoped>\n",
       "    .dataframe tbody tr th:only-of-type {\n",
       "        vertical-align: middle;\n",
       "    }\n",
       "\n",
       "    .dataframe tbody tr th {\n",
       "        vertical-align: top;\n",
       "    }\n",
       "\n",
       "    .dataframe thead th {\n",
       "        text-align: right;\n",
       "    }\n",
       "</style>\n",
       "<table border=\"1\" class=\"dataframe\">\n",
       "  <thead>\n",
       "    <tr style=\"text-align: right;\">\n",
       "      <th></th>\n",
       "      <th>RecID</th>\n",
       "      <th>SBERTLabel</th>\n",
       "      <th>SBERTTarget</th>\n",
       "      <th>GClfTarget</th>\n",
       "      <th>HO1Label</th>\n",
       "      <th>HO1Target</th>\n",
       "    </tr>\n",
       "  </thead>\n",
       "  <tbody>\n",
       "    <tr>\n",
       "      <th>0</th>\n",
       "      <td>1222603086558126080</td>\n",
       "      <td>Politics</td>\n",
       "      <td>6</td>\n",
       "      <td>6</td>\n",
       "      <td>Health</td>\n",
       "      <td>4</td>\n",
       "    </tr>\n",
       "    <tr>\n",
       "      <th>1</th>\n",
       "      <td>1222474209374408705</td>\n",
       "      <td>Politics</td>\n",
       "      <td>6</td>\n",
       "      <td>6</td>\n",
       "      <td>Politics</td>\n",
       "      <td>6</td>\n",
       "    </tr>\n",
       "  </tbody>\n",
       "</table>\n",
       "</div>"
      ],
      "text/plain": [
       "                 RecID SBERTLabel SBERTTarget GClfTarget  HO1Label HO1Target\n",
       "0  1222603086558126080   Politics           6          6    Health         4\n",
       "1  1222474209374408705   Politics           6          6  Politics         6"
      ]
     },
     "execution_count": 127,
     "metadata": {},
     "output_type": "execute_result"
    }
   ],
   "source": [
    "df_HO1_GClf.head(2)"
   ]
  },
  {
   "cell_type": "code",
   "execution_count": 128,
   "id": "4d5badc9-4866-4784-a5a5-690563cb0977",
   "metadata": {
    "tags": []
   },
   "outputs": [],
   "source": [
    "df_HO1_GClf.to_csv('df_HO1_GClf.csv')"
   ]
  },
  {
   "cell_type": "code",
   "execution_count": 129,
   "id": "91904f63-032c-4e13-b317-1c76512e3b12",
   "metadata": {
    "tags": []
   },
   "outputs": [],
   "source": [
    "# set HO1Target's Unknown to -1 for Krippendroff's Alpha calculation\n",
    "df_HO1_GClf.loc[(df_HO1_GClf.HO1Target == '0'), 'HO1Target'] = '-1'"
   ]
  },
  {
   "cell_type": "code",
   "execution_count": 130,
   "id": "be838dcf-cfdc-444d-90a0-ea92a285f336",
   "metadata": {
    "tags": []
   },
   "outputs": [],
   "source": [
    "df_HO1_GClf['HO1Target'].fillna(value='-1', inplace=True)"
   ]
  },
  {
   "cell_type": "code",
   "execution_count": 131,
   "id": "697d0c6c-d5ee-4eae-865e-07c5aa29a4cf",
   "metadata": {
    "tags": []
   },
   "outputs": [],
   "source": [
    "df_HO1_GClf['HO1AgreedTarget'] = df_HO1_GClf.apply(lambda x: AgreeTargetWithHO1(x['SBERTTarget'], x['GClfTarget'], x['HO1Target']), axis=1)"
   ]
  },
  {
   "cell_type": "code",
   "execution_count": 132,
   "id": "59b0e53a-d980-43d5-b314-dade1ad3cbdb",
   "metadata": {
    "tags": []
   },
   "outputs": [],
   "source": [
    "HO1Pred = np.stack(df_HO1_GClf['HO1Target'].astype(\"string\"))\n",
    "GClfPred = np.stack(df_HO1_GClf['GClfTarget'].astype(\"string\"))\n",
    "SBERTPred = np.stack(df_HO1_GClf['SBERTTarget'].astype(\"string\"))\n",
    "HO1AgreedTarget = np.stack(df_HO1_GClf['HO1AgreedTarget'].astype(\"string\"))"
   ]
  },
  {
   "cell_type": "code",
   "execution_count": 133,
   "id": "8ae6491e-2f9e-4967-9bd7-f5592fb6a417",
   "metadata": {
    "tags": []
   },
   "outputs": [
    {
     "data": {
      "text/plain": [
       "(0.3726912395178904, 0.42948237059264804, 0.2570517354777062)"
      ]
     },
     "execution_count": 133,
     "metadata": {},
     "output_type": "execute_result"
    }
   ],
   "source": [
    "missing = '-1'\n",
    "alpha1 = krippendorff_alpha(np.array((HO1Pred,HO1AgreedTarget)), nominal_metric, missing_items=missing)\n",
    "alpha2 = krippendorff_alpha(np.array((GClfPred,HO1AgreedTarget)), nominal_metric, missing_items=missing)\n",
    "alpha3 = krippendorff_alpha(np.array((SBERTPred,HO1AgreedTarget)), nominal_metric, missing_items=missing)\n",
    "alpha1, alpha2, alpha3"
   ]
  },
  {
   "cell_type": "code",
   "execution_count": 134,
   "id": "43eec46d-ad65-4e40-9981-27009f900a23",
   "metadata": {
    "tags": []
   },
   "outputs": [
    {
     "data": {
      "text/plain": [
       "90"
      ]
     },
     "execution_count": 134,
     "metadata": {},
     "output_type": "execute_result"
    }
   ],
   "source": [
    "df_HO1_GClf_GTD = df_HO1_GClf[df_HO1_GClf.HO1AgreedTarget != '-1']\n",
    "len(df_HO1_GClf_GTD)"
   ]
  },
  {
   "cell_type": "code",
   "execution_count": 135,
   "id": "13ae01fa-8f55-440e-a66e-674cdcffdcc2",
   "metadata": {
    "tags": []
   },
   "outputs": [],
   "source": [
    "df_Pass5_HO1_GTD = df_HO1_GClf_GTD[['RecID','HO1Label','HO1Target']]"
   ]
  },
  {
   "cell_type": "code",
   "execution_count": 136,
   "id": "645e0d40-fa2d-4040-b877-bd193d9eff02",
   "metadata": {
    "tags": []
   },
   "outputs": [
    {
     "name": "stderr",
     "output_type": "stream",
     "text": [
      "C:\\Users\\kazeem\\AppData\\Local\\Temp\\ipykernel_3176\\836581894.py:1: SettingWithCopyWarning: \n",
      "A value is trying to be set on a copy of a slice from a DataFrame\n",
      "\n",
      "See the caveats in the documentation: https://pandas.pydata.org/pandas-docs/stable/user_guide/indexing.html#returning-a-view-versus-a-copy\n",
      "  df_Pass5_HO1_GTD.rename(columns={'HO1Target': 'Target', 'HO1Label': 'Label'}, inplace=True)\n"
     ]
    }
   ],
   "source": [
    "df_Pass5_HO1_GTD.rename(columns={'HO1Target': 'Target', 'HO1Label': 'Label'}, inplace=True)"
   ]
  },
  {
   "cell_type": "code",
   "execution_count": 137,
   "id": "ba8f4c9d-27f1-4bcc-a993-d0e473d6d3e9",
   "metadata": {
    "tags": []
   },
   "outputs": [
    {
     "data": {
      "text/html": [
       "<div>\n",
       "<style scoped>\n",
       "    .dataframe tbody tr th:only-of-type {\n",
       "        vertical-align: middle;\n",
       "    }\n",
       "\n",
       "    .dataframe tbody tr th {\n",
       "        vertical-align: top;\n",
       "    }\n",
       "\n",
       "    .dataframe thead th {\n",
       "        text-align: right;\n",
       "    }\n",
       "</style>\n",
       "<table border=\"1\" class=\"dataframe\">\n",
       "  <thead>\n",
       "    <tr style=\"text-align: right;\">\n",
       "      <th></th>\n",
       "      <th>RecID</th>\n",
       "      <th>Label</th>\n",
       "      <th>Target</th>\n",
       "    </tr>\n",
       "  </thead>\n",
       "  <tbody>\n",
       "    <tr>\n",
       "      <th>1</th>\n",
       "      <td>1222474209374408705</td>\n",
       "      <td>Politics</td>\n",
       "      <td>6</td>\n",
       "    </tr>\n",
       "    <tr>\n",
       "      <th>3</th>\n",
       "      <td>1221377542587928576</td>\n",
       "      <td>Politics</td>\n",
       "      <td>6</td>\n",
       "    </tr>\n",
       "    <tr>\n",
       "      <th>4</th>\n",
       "      <td>1220823578825887745</td>\n",
       "      <td>Politics</td>\n",
       "      <td>6</td>\n",
       "    </tr>\n",
       "    <tr>\n",
       "      <th>6</th>\n",
       "      <td>1220562224185405445</td>\n",
       "      <td>Politics</td>\n",
       "      <td>6</td>\n",
       "    </tr>\n",
       "    <tr>\n",
       "      <th>12</th>\n",
       "      <td>1219624063506829312</td>\n",
       "      <td>Social Stories</td>\n",
       "      <td>10</td>\n",
       "    </tr>\n",
       "  </tbody>\n",
       "</table>\n",
       "</div>"
      ],
      "text/plain": [
       "                  RecID           Label Target\n",
       "1   1222474209374408705        Politics      6\n",
       "3   1221377542587928576        Politics      6\n",
       "4   1220823578825887745        Politics      6\n",
       "6   1220562224185405445        Politics      6\n",
       "12  1219624063506829312  Social Stories     10"
      ]
     },
     "execution_count": 137,
     "metadata": {},
     "output_type": "execute_result"
    }
   ],
   "source": [
    "df_Pass5_HO1_GTD.head()"
   ]
  },
  {
   "cell_type": "code",
   "execution_count": 138,
   "id": "e25c17dd-895b-4bf1-bc1e-cd4fd9f4c6e6",
   "metadata": {
    "tags": []
   },
   "outputs": [
    {
     "data": {
      "text/plain": [
       "90"
      ]
     },
     "execution_count": 138,
     "metadata": {},
     "output_type": "execute_result"
    }
   ],
   "source": [
    "len(df_Pass5_HO1_GTD)"
   ]
  },
  {
   "cell_type": "code",
   "execution_count": 78,
   "id": "4ffd901f-6102-491a-82f5-8ff7bd1c8664",
   "metadata": {
    "tags": []
   },
   "outputs": [],
   "source": [
    "#df_HO2HO1_GTD = df_HO2HO1_Labels[df_HO2HO1_Labels.HO2AgreedTarget != '-1']\n",
    "#len(df_HO2HO1_GTD)"
   ]
  },
  {
   "cell_type": "code",
   "execution_count": 139,
   "id": "ba325e55-213b-40af-bfb7-548c03620be7",
   "metadata": {
    "tags": []
   },
   "outputs": [
    {
     "data": {
      "text/plain": [
       "130"
      ]
     },
     "execution_count": 139,
     "metadata": {},
     "output_type": "execute_result"
    }
   ],
   "source": [
    "df_HO1_To_HO2 = df_HO1_GClf[df_HO1_GClf.HO1AgreedTarget == '-1']\n",
    "len(df_HO1_To_HO2)"
   ]
  },
  {
   "cell_type": "code",
   "execution_count": 140,
   "id": "688aafd3-89e4-4016-a591-e76b5ce364b0",
   "metadata": {
    "tags": []
   },
   "outputs": [
    {
     "data": {
      "text/html": [
       "<div>\n",
       "<style scoped>\n",
       "    .dataframe tbody tr th:only-of-type {\n",
       "        vertical-align: middle;\n",
       "    }\n",
       "\n",
       "    .dataframe tbody tr th {\n",
       "        vertical-align: top;\n",
       "    }\n",
       "\n",
       "    .dataframe thead th {\n",
       "        text-align: right;\n",
       "    }\n",
       "</style>\n",
       "<table border=\"1\" class=\"dataframe\">\n",
       "  <thead>\n",
       "    <tr style=\"text-align: right;\">\n",
       "      <th></th>\n",
       "      <th>RecID</th>\n",
       "      <th>SBERTLabel</th>\n",
       "      <th>SBERTTarget</th>\n",
       "      <th>GClfTarget</th>\n",
       "      <th>HO1Label</th>\n",
       "      <th>HO1Target</th>\n",
       "      <th>HO1AgreedTarget</th>\n",
       "    </tr>\n",
       "  </thead>\n",
       "  <tbody>\n",
       "    <tr>\n",
       "      <th>0</th>\n",
       "      <td>1222603086558126080</td>\n",
       "      <td>Politics</td>\n",
       "      <td>6</td>\n",
       "      <td>6</td>\n",
       "      <td>Health</td>\n",
       "      <td>4</td>\n",
       "      <td>-1</td>\n",
       "    </tr>\n",
       "    <tr>\n",
       "      <th>2</th>\n",
       "      <td>1221936812786167810</td>\n",
       "      <td>Environmental</td>\n",
       "      <td>3</td>\n",
       "      <td>3</td>\n",
       "      <td>Unknown</td>\n",
       "      <td>-1</td>\n",
       "      <td>-1</td>\n",
       "    </tr>\n",
       "  </tbody>\n",
       "</table>\n",
       "</div>"
      ],
      "text/plain": [
       "                 RecID     SBERTLabel SBERTTarget GClfTarget HO1Label  \\\n",
       "0  1222603086558126080       Politics           6          6   Health   \n",
       "2  1221936812786167810  Environmental           3          3  Unknown   \n",
       "\n",
       "  HO1Target HO1AgreedTarget  \n",
       "0         4              -1  \n",
       "2        -1              -1  "
      ]
     },
     "execution_count": 140,
     "metadata": {},
     "output_type": "execute_result"
    }
   ],
   "source": [
    "df_HO1_To_HO2.head(2)"
   ]
  },
  {
   "cell_type": "code",
   "execution_count": 141,
   "id": "035aa04a-60cb-4147-9615-aecc32669149",
   "metadata": {
    "tags": []
   },
   "outputs": [],
   "source": [
    "# Use the RecIDs in this file to extract JatoMaster from MasterTokens in SQL-SERVER and save into data/GTxM_Pass2/\n",
    "df_HO1_To_HO2.to_csv('data/GTxM_Pass5/df_HO1_To_HO2_130.csv', index=False)"
   ]
  },
  {
   "cell_type": "markdown",
   "id": "7fdbd054-6841-436f-b6f6-17a9892adf02",
   "metadata": {
    "tags": []
   },
   "source": [
    "### Intercoder Reliability btw HO2, HO1 and GTxM Classifier"
   ]
  },
  {
   "cell_type": "markdown",
   "id": "e5ade1f6-7aa0-4ddd-912f-3ef81492ed9b",
   "metadata": {
    "tags": []
   },
   "source": [
    "#### Generate JatoMaster for HO2 Labeling"
   ]
  },
  {
   "cell_type": "code",
   "execution_count": 164,
   "id": "65aecea0-c770-464a-85c0-0ef8e4fcb5d5",
   "metadata": {
    "tags": []
   },
   "outputs": [],
   "source": [
    "df_master_tokens = pd.read_csv('data/MasterTokens.csv', dtype='str')"
   ]
  },
  {
   "cell_type": "code",
   "execution_count": 165,
   "id": "a74ebe08-a861-49e1-8ff5-769571b8e24d",
   "metadata": {
    "tags": []
   },
   "outputs": [
    {
     "data": {
      "text/plain": [
       "130"
      ]
     },
     "execution_count": 165,
     "metadata": {},
     "output_type": "execute_result"
    }
   ],
   "source": [
    "df_jato_HO2_tokens = pd.merge(df_master_tokens,df_HO1_To_HO2['RecID'], on='RecID')\n",
    "len(df_jato_HO2_tokens)"
   ]
  },
  {
   "cell_type": "code",
   "execution_count": 166,
   "id": "c6c2cf68-8ebf-480d-8a8e-f300642d5b93",
   "metadata": {
    "tags": []
   },
   "outputs": [
    {
     "data": {
      "text/html": [
       "<div>\n",
       "<style scoped>\n",
       "    .dataframe tbody tr th:only-of-type {\n",
       "        vertical-align: middle;\n",
       "    }\n",
       "\n",
       "    .dataframe tbody tr th {\n",
       "        vertical-align: top;\n",
       "    }\n",
       "\n",
       "    .dataframe thead th {\n",
       "        text-align: right;\n",
       "    }\n",
       "</style>\n",
       "<table border=\"1\" class=\"dataframe\">\n",
       "  <thead>\n",
       "    <tr style=\"text-align: right;\">\n",
       "      <th></th>\n",
       "      <th>rowid</th>\n",
       "      <th>RecID</th>\n",
       "      <th>PubTitle</th>\n",
       "      <th>RecDoc</th>\n",
       "      <th>countSupTweets</th>\n",
       "      <th>smrHashtags</th>\n",
       "      <th>smrMentions</th>\n",
       "      <th>smrNER</th>\n",
       "      <th>smrNouns</th>\n",
       "      <th>smrVerbs</th>\n",
       "      <th>smrAdverbs</th>\n",
       "      <th>smrAdjectives</th>\n",
       "      <th>smrTopText</th>\n",
       "      <th>smrSummary</th>\n",
       "    </tr>\n",
       "  </thead>\n",
       "  <tbody>\n",
       "    <tr>\n",
       "      <th>0</th>\n",
       "      <td>155</td>\n",
       "      <td>1057291398880391170</td>\n",
       "      <td>Could fireworks be restricted at Scottish homes?</td>\n",
       "      <td>This is the effect fireworks can have on a dog...</td>\n",
       "      <td>45.0</td>\n",
       "      <td>banfireworks fireworks</td>\n",
       "      <td>neilmackay gamesshed didriksoderlind bbcradios...</td>\n",
       "      <td>juli timmi uk last night daili bob marley ub j...</td>\n",
       "      <td>effect firework dog juli hors goat lot firewor...</td>\n",
       "      <td>stand comfort reli built hear held purchas des...</td>\n",
       "      <td>outsid long care fairli ahead exactli seemingl...</td>\n",
       "      <td>gener licens wide gener last daili big loud so...</td>\n",
       "      <td>This is the effect fireworks can have on a dog...</td>\n",
       "      <td>This is the effect fireworks can have on a dog...</td>\n",
       "    </tr>\n",
       "    <tr>\n",
       "      <th>1</th>\n",
       "      <td>374</td>\n",
       "      <td>1165822705037217792</td>\n",
       "      <td>Cars Are Death Machines. Self-Driving Tech Won...</td>\n",
       "      <td>Please RT if you, or someone you know, has bee...</td>\n",
       "      <td>17.0</td>\n",
       "      <td></td>\n",
       "      <td>aarieff realdonaldtrump ttmitch</td>\n",
       "      <td>yard hoboken nj washington yanke stadium long ...</td>\n",
       "      <td>car experi mobil panel daughter car yard aspha...</td>\n",
       "      <td>hit hit thrown end broken land save pass place...</td>\n",
       "      <td>badli recent straight right nearli nearli slow...</td>\n",
       "      <td>littl upcom catastroph oncom danger high small...</td>\n",
       "      <td>Please RT if you, or someone you know, has bee...</td>\n",
       "      <td>Please RT if you, or someone you know, has bee...</td>\n",
       "    </tr>\n",
       "  </tbody>\n",
       "</table>\n",
       "</div>"
      ],
      "text/plain": [
       "  rowid                RecID  \\\n",
       "0   155  1057291398880391170   \n",
       "1   374  1165822705037217792   \n",
       "\n",
       "                                            PubTitle  \\\n",
       "0   Could fireworks be restricted at Scottish homes?   \n",
       "1  Cars Are Death Machines. Self-Driving Tech Won...   \n",
       "\n",
       "                                              RecDoc countSupTweets  \\\n",
       "0  This is the effect fireworks can have on a dog...           45.0   \n",
       "1  Please RT if you, or someone you know, has bee...           17.0   \n",
       "\n",
       "              smrHashtags                                        smrMentions  \\\n",
       "0  banfireworks fireworks  neilmackay gamesshed didriksoderlind bbcradios...   \n",
       "1                                            aarieff realdonaldtrump ttmitch   \n",
       "\n",
       "                                              smrNER  \\\n",
       "0  juli timmi uk last night daili bob marley ub j...   \n",
       "1  yard hoboken nj washington yanke stadium long ...   \n",
       "\n",
       "                                            smrNouns  \\\n",
       "0  effect firework dog juli hors goat lot firewor...   \n",
       "1  car experi mobil panel daughter car yard aspha...   \n",
       "\n",
       "                                            smrVerbs  \\\n",
       "0  stand comfort reli built hear held purchas des...   \n",
       "1  hit hit thrown end broken land save pass place...   \n",
       "\n",
       "                                          smrAdverbs  \\\n",
       "0  outsid long care fairli ahead exactli seemingl...   \n",
       "1  badli recent straight right nearli nearli slow...   \n",
       "\n",
       "                                       smrAdjectives  \\\n",
       "0  gener licens wide gener last daili big loud so...   \n",
       "1  littl upcom catastroph oncom danger high small...   \n",
       "\n",
       "                                          smrTopText  \\\n",
       "0  This is the effect fireworks can have on a dog...   \n",
       "1  Please RT if you, or someone you know, has bee...   \n",
       "\n",
       "                                          smrSummary  \n",
       "0  This is the effect fireworks can have on a dog...  \n",
       "1  Please RT if you, or someone you know, has bee...  "
      ]
     },
     "execution_count": 166,
     "metadata": {},
     "output_type": "execute_result"
    }
   ],
   "source": [
    "df_jato_HO2_tokens.head(2)"
   ]
  },
  {
   "cell_type": "code",
   "execution_count": 167,
   "id": "b5ba24b1-e11f-441c-9a6f-822641a97be3",
   "metadata": {
    "tags": []
   },
   "outputs": [],
   "source": [
    "df_jato_HO2_tokens.drop(['smrAdverbs','smrAdjectives'], axis=1, inplace=True)"
   ]
  },
  {
   "cell_type": "code",
   "execution_count": 170,
   "id": "cd9faf15-0962-4801-9f7d-82e78f8576f8",
   "metadata": {
    "tags": []
   },
   "outputs": [],
   "source": [
    "df_jato_HO2_tokens['PubTitle'] = df_jato_HO2_tokens['PubTitle'].apply(removeSpChar4Jato)\n",
    "df_jato_HO2_tokens['RecDoc'] = df_jato_HO2_tokens['RecDoc'].apply(removeSpChar4Jato)\n",
    "df_jato_HO2_tokens['smrTopText'] = df_jato_HO2_tokens['smrTopText'].apply(removeSpChar4Jato)\n",
    "df_jato_HO2_tokens['smrSummary'] = df_jato_HO2_tokens['smrSummary'].apply(removeSpChar4Jato)"
   ]
  },
  {
   "cell_type": "code",
   "execution_count": 171,
   "id": "3365e734-3853-4772-9a1e-0ed9cacf2979",
   "metadata": {
    "tags": []
   },
   "outputs": [],
   "source": [
    "df_jato_HO2_tokens['PubTitle'] = df_jato_HO2_tokens['PubTitle'].apply(cleanupText4Jato)\n",
    "df_jato_HO2_tokens['RecDoc'] = df_jato_HO2_tokens['RecDoc'].apply(cleanupText4Jato)\n",
    "df_jato_HO2_tokens['smrTopText'] = df_jato_HO2_tokens['smrTopText'].apply(cleanupText4Jato)\n",
    "df_jato_HO2_tokens['smrSummary'] = df_jato_HO2_tokens['smrSummary'].apply(cleanupText4Jato)"
   ]
  },
  {
   "cell_type": "code",
   "execution_count": 172,
   "id": "e3196e42-e239-4ea1-a009-accb7d0b8ee2",
   "metadata": {
    "tags": []
   },
   "outputs": [],
   "source": [
    "# save the file to D:\\KOPro\\PhD\\Implementation\\SourceCode\\JatoPass2\\data -- \n",
    "df_jato_HO2_tokens.to_csv('D:/KOPro/PhD/Implementation/SourceCode/JatoPass5_HO2/data/JatoMaster.csv', index=False)"
   ]
  },
  {
   "cell_type": "markdown",
   "id": "b4200980-e93c-4956-ad29-aad1adce050e",
   "metadata": {
    "tags": []
   },
   "source": [
    "#### Get HO2 labels After running Jato"
   ]
  },
  {
   "cell_type": "code",
   "execution_count": 146,
   "id": "ee8ede9e-4816-4b11-b66c-33b8ccade773",
   "metadata": {
    "tags": []
   },
   "outputs": [],
   "source": [
    "# use the RecIDs \n",
    "df_HO1_To_HO2 = pd.read_csv('data/GTxM_Pass5/df_HO1_To_HO2_130.csv', dtype='str')"
   ]
  },
  {
   "cell_type": "code",
   "execution_count": 147,
   "id": "f4d9f6e8-e8a8-4cda-96e9-c0b394a06088",
   "metadata": {
    "tags": []
   },
   "outputs": [
    {
     "data": {
      "text/html": [
       "<div>\n",
       "<style scoped>\n",
       "    .dataframe tbody tr th:only-of-type {\n",
       "        vertical-align: middle;\n",
       "    }\n",
       "\n",
       "    .dataframe tbody tr th {\n",
       "        vertical-align: top;\n",
       "    }\n",
       "\n",
       "    .dataframe thead th {\n",
       "        text-align: right;\n",
       "    }\n",
       "</style>\n",
       "<table border=\"1\" class=\"dataframe\">\n",
       "  <thead>\n",
       "    <tr style=\"text-align: right;\">\n",
       "      <th></th>\n",
       "      <th>RecID</th>\n",
       "      <th>SBERTLabel</th>\n",
       "      <th>SBERTTarget</th>\n",
       "      <th>GClfTarget</th>\n",
       "      <th>HO1Label</th>\n",
       "      <th>HO1Target</th>\n",
       "      <th>HO1AgreedTarget</th>\n",
       "    </tr>\n",
       "  </thead>\n",
       "  <tbody>\n",
       "    <tr>\n",
       "      <th>0</th>\n",
       "      <td>1222603086558126080</td>\n",
       "      <td>Politics</td>\n",
       "      <td>6</td>\n",
       "      <td>6</td>\n",
       "      <td>Health</td>\n",
       "      <td>4</td>\n",
       "      <td>-1</td>\n",
       "    </tr>\n",
       "    <tr>\n",
       "      <th>1</th>\n",
       "      <td>1221936812786167810</td>\n",
       "      <td>Environmental</td>\n",
       "      <td>3</td>\n",
       "      <td>3</td>\n",
       "      <td>Unknown</td>\n",
       "      <td>-1</td>\n",
       "      <td>-1</td>\n",
       "    </tr>\n",
       "  </tbody>\n",
       "</table>\n",
       "</div>"
      ],
      "text/plain": [
       "                 RecID     SBERTLabel SBERTTarget GClfTarget HO1Label  \\\n",
       "0  1222603086558126080       Politics           6          6   Health   \n",
       "1  1221936812786167810  Environmental           3          3  Unknown   \n",
       "\n",
       "  HO1Target HO1AgreedTarget  \n",
       "0         4              -1  \n",
       "1        -1              -1  "
      ]
     },
     "execution_count": 147,
     "metadata": {},
     "output_type": "execute_result"
    }
   ],
   "source": [
    "df_HO1_To_HO2.head(2)"
   ]
  },
  {
   "cell_type": "code",
   "execution_count": 148,
   "id": "d4e6f92a-74f4-4a11-a760-3789f4379f7b",
   "metadata": {
    "tags": []
   },
   "outputs": [
    {
     "data": {
      "text/plain": [
       "130"
      ]
     },
     "execution_count": 148,
     "metadata": {},
     "output_type": "execute_result"
    }
   ],
   "source": [
    "len(df_HO1_To_HO2)"
   ]
  },
  {
   "cell_type": "code",
   "execution_count": 149,
   "id": "b0031d37-d938-44f5-b846-eee9bc422785",
   "metadata": {
    "tags": []
   },
   "outputs": [
    {
     "data": {
      "text/html": [
       "<div>\n",
       "<style scoped>\n",
       "    .dataframe tbody tr th:only-of-type {\n",
       "        vertical-align: middle;\n",
       "    }\n",
       "\n",
       "    .dataframe tbody tr th {\n",
       "        vertical-align: top;\n",
       "    }\n",
       "\n",
       "    .dataframe thead th {\n",
       "        text-align: right;\n",
       "    }\n",
       "</style>\n",
       "<table border=\"1\" class=\"dataframe\">\n",
       "  <thead>\n",
       "    <tr style=\"text-align: right;\">\n",
       "      <th></th>\n",
       "      <th>RecID</th>\n",
       "      <th>NewsPubCat</th>\n",
       "    </tr>\n",
       "  </thead>\n",
       "  <tbody>\n",
       "    <tr>\n",
       "      <th>0</th>\n",
       "      <td>222818213392678912</td>\n",
       "      <td>Unknown</td>\n",
       "    </tr>\n",
       "    <tr>\n",
       "      <th>1</th>\n",
       "      <td>826262311560216578</td>\n",
       "      <td>Unknown</td>\n",
       "    </tr>\n",
       "  </tbody>\n",
       "</table>\n",
       "</div>"
      ],
      "text/plain": [
       "                RecID NewsPubCat\n",
       "0  222818213392678912    Unknown\n",
       "1  826262311560216578    Unknown"
      ]
     },
     "execution_count": 149,
     "metadata": {},
     "output_type": "execute_result"
    }
   ],
   "source": [
    "df_jato_HO2_Labels = pd.read_csv('D:/KOPro/PhD/Implementation/SourceCode/JatoPass5_HO2/data/JatoClassified_HO2_Pass5.csv', usecols=['RecID','NewsPubCat'], dtype='str')\n",
    "df_jato_HO2_Labels.head(2)"
   ]
  },
  {
   "cell_type": "code",
   "execution_count": 150,
   "id": "4f15e8f6-e95f-4e82-8b3f-d71da43cfb74",
   "metadata": {
    "tags": []
   },
   "outputs": [],
   "source": [
    "Labels_Targets = pd.read_csv('data/GTxM_Pass5/Labels_Targets_CGTPass5.csv', dtype='str')"
   ]
  },
  {
   "cell_type": "code",
   "execution_count": 151,
   "id": "5c420be3-65bb-4d1a-b5aa-d049c5cbc867",
   "metadata": {
    "tags": []
   },
   "outputs": [
    {
     "data": {
      "text/html": [
       "<div>\n",
       "<style scoped>\n",
       "    .dataframe tbody tr th:only-of-type {\n",
       "        vertical-align: middle;\n",
       "    }\n",
       "\n",
       "    .dataframe tbody tr th {\n",
       "        vertical-align: top;\n",
       "    }\n",
       "\n",
       "    .dataframe thead th {\n",
       "        text-align: right;\n",
       "    }\n",
       "</style>\n",
       "<table border=\"1\" class=\"dataframe\">\n",
       "  <thead>\n",
       "    <tr style=\"text-align: right;\">\n",
       "      <th></th>\n",
       "      <th>Target</th>\n",
       "      <th>Label</th>\n",
       "    </tr>\n",
       "  </thead>\n",
       "  <tbody>\n",
       "    <tr>\n",
       "      <th>0</th>\n",
       "      <td>1</td>\n",
       "      <td>Business</td>\n",
       "    </tr>\n",
       "    <tr>\n",
       "      <th>1</th>\n",
       "      <td>2</td>\n",
       "      <td>Entertainment</td>\n",
       "    </tr>\n",
       "    <tr>\n",
       "      <th>2</th>\n",
       "      <td>3</td>\n",
       "      <td>Environmental</td>\n",
       "    </tr>\n",
       "    <tr>\n",
       "      <th>3</th>\n",
       "      <td>4</td>\n",
       "      <td>Health</td>\n",
       "    </tr>\n",
       "    <tr>\n",
       "      <th>4</th>\n",
       "      <td>5</td>\n",
       "      <td>Human Rights</td>\n",
       "    </tr>\n",
       "    <tr>\n",
       "      <th>5</th>\n",
       "      <td>6</td>\n",
       "      <td>Politics</td>\n",
       "    </tr>\n",
       "    <tr>\n",
       "      <th>6</th>\n",
       "      <td>7</td>\n",
       "      <td>Law and Order</td>\n",
       "    </tr>\n",
       "    <tr>\n",
       "      <th>7</th>\n",
       "      <td>0</td>\n",
       "      <td>Unknown</td>\n",
       "    </tr>\n",
       "    <tr>\n",
       "      <th>8</th>\n",
       "      <td>9</td>\n",
       "      <td>Obituary</td>\n",
       "    </tr>\n",
       "    <tr>\n",
       "      <th>9</th>\n",
       "      <td>10</td>\n",
       "      <td>Social Stories</td>\n",
       "    </tr>\n",
       "    <tr>\n",
       "      <th>10</th>\n",
       "      <td>11</td>\n",
       "      <td>Sports</td>\n",
       "    </tr>\n",
       "    <tr>\n",
       "      <th>11</th>\n",
       "      <td>12</td>\n",
       "      <td>World Politics</td>\n",
       "    </tr>\n",
       "    <tr>\n",
       "      <th>12</th>\n",
       "      <td>13</td>\n",
       "      <td>Travel</td>\n",
       "    </tr>\n",
       "    <tr>\n",
       "      <th>13</th>\n",
       "      <td>14</td>\n",
       "      <td>UK Politics</td>\n",
       "    </tr>\n",
       "    <tr>\n",
       "      <th>14</th>\n",
       "      <td>15</td>\n",
       "      <td>USA Politics</td>\n",
       "    </tr>\n",
       "    <tr>\n",
       "      <th>15</th>\n",
       "      <td>16</td>\n",
       "      <td>Unclassified Medley</td>\n",
       "    </tr>\n",
       "  </tbody>\n",
       "</table>\n",
       "</div>"
      ],
      "text/plain": [
       "   Target                Label\n",
       "0       1             Business\n",
       "1       2        Entertainment\n",
       "2       3        Environmental\n",
       "3       4               Health\n",
       "4       5         Human Rights\n",
       "5       6             Politics\n",
       "6       7        Law and Order\n",
       "7       0              Unknown\n",
       "8       9             Obituary\n",
       "9      10       Social Stories\n",
       "10     11               Sports\n",
       "11     12       World Politics\n",
       "12     13               Travel\n",
       "13     14          UK Politics\n",
       "14     15         USA Politics\n",
       "15     16  Unclassified Medley"
      ]
     },
     "execution_count": 151,
     "metadata": {},
     "output_type": "execute_result"
    }
   ],
   "source": [
    "Labels_Targets"
   ]
  },
  {
   "cell_type": "code",
   "execution_count": 152,
   "id": "dcbddb77-1b4c-457b-a92d-06eaba508230",
   "metadata": {
    "tags": []
   },
   "outputs": [],
   "source": [
    "df_jato_HO2_Labels.rename(columns={'NewsPubCat': 'Label'}, inplace=True)"
   ]
  },
  {
   "cell_type": "code",
   "execution_count": 153,
   "id": "32bec872-5fd9-4465-9ad2-a0c0ef3a2e7d",
   "metadata": {
    "tags": []
   },
   "outputs": [],
   "source": [
    "df_HO2_Labels_Targets = pd.merge(df_jato_HO2_Labels,Labels_Targets, on='Label', how='left')"
   ]
  },
  {
   "cell_type": "code",
   "execution_count": 154,
   "id": "5a726bb7-6e75-47cd-89ea-d8760dd9212e",
   "metadata": {
    "tags": []
   },
   "outputs": [
    {
     "data": {
      "text/html": [
       "<div>\n",
       "<style scoped>\n",
       "    .dataframe tbody tr th:only-of-type {\n",
       "        vertical-align: middle;\n",
       "    }\n",
       "\n",
       "    .dataframe tbody tr th {\n",
       "        vertical-align: top;\n",
       "    }\n",
       "\n",
       "    .dataframe thead th {\n",
       "        text-align: right;\n",
       "    }\n",
       "</style>\n",
       "<table border=\"1\" class=\"dataframe\">\n",
       "  <thead>\n",
       "    <tr style=\"text-align: right;\">\n",
       "      <th></th>\n",
       "      <th>RecID</th>\n",
       "      <th>Label</th>\n",
       "      <th>Target</th>\n",
       "    </tr>\n",
       "  </thead>\n",
       "  <tbody>\n",
       "    <tr>\n",
       "      <th>0</th>\n",
       "      <td>222818213392678912</td>\n",
       "      <td>Unknown</td>\n",
       "      <td>0</td>\n",
       "    </tr>\n",
       "    <tr>\n",
       "      <th>1</th>\n",
       "      <td>826262311560216578</td>\n",
       "      <td>Unknown</td>\n",
       "      <td>0</td>\n",
       "    </tr>\n",
       "    <tr>\n",
       "      <th>2</th>\n",
       "      <td>833502973204459520</td>\n",
       "      <td>Unknown</td>\n",
       "      <td>0</td>\n",
       "    </tr>\n",
       "    <tr>\n",
       "      <th>3</th>\n",
       "      <td>835347243020451840</td>\n",
       "      <td>Unknown</td>\n",
       "      <td>0</td>\n",
       "    </tr>\n",
       "    <tr>\n",
       "      <th>4</th>\n",
       "      <td>867832469181128704</td>\n",
       "      <td>Unknown</td>\n",
       "      <td>0</td>\n",
       "    </tr>\n",
       "    <tr>\n",
       "      <th>...</th>\n",
       "      <td>...</td>\n",
       "      <td>...</td>\n",
       "      <td>...</td>\n",
       "    </tr>\n",
       "    <tr>\n",
       "      <th>2380</th>\n",
       "      <td>1218564148172394496</td>\n",
       "      <td>Social Stories</td>\n",
       "      <td>10</td>\n",
       "    </tr>\n",
       "    <tr>\n",
       "      <th>2381</th>\n",
       "      <td>1218849631016230913</td>\n",
       "      <td>Social Stories</td>\n",
       "      <td>10</td>\n",
       "    </tr>\n",
       "    <tr>\n",
       "      <th>2382</th>\n",
       "      <td>1219299748248682496</td>\n",
       "      <td>Unknown</td>\n",
       "      <td>0</td>\n",
       "    </tr>\n",
       "    <tr>\n",
       "      <th>2383</th>\n",
       "      <td>1220439910378889216</td>\n",
       "      <td>Social Stories</td>\n",
       "      <td>10</td>\n",
       "    </tr>\n",
       "    <tr>\n",
       "      <th>2384</th>\n",
       "      <td>1220785862507749379</td>\n",
       "      <td>Social Stories</td>\n",
       "      <td>10</td>\n",
       "    </tr>\n",
       "  </tbody>\n",
       "</table>\n",
       "<p>2385 rows × 3 columns</p>\n",
       "</div>"
      ],
      "text/plain": [
       "                    RecID           Label Target\n",
       "0      222818213392678912         Unknown      0\n",
       "1      826262311560216578         Unknown      0\n",
       "2      833502973204459520         Unknown      0\n",
       "3      835347243020451840         Unknown      0\n",
       "4      867832469181128704         Unknown      0\n",
       "...                   ...             ...    ...\n",
       "2380  1218564148172394496  Social Stories     10\n",
       "2381  1218849631016230913  Social Stories     10\n",
       "2382  1219299748248682496         Unknown      0\n",
       "2383  1220439910378889216  Social Stories     10\n",
       "2384  1220785862507749379  Social Stories     10\n",
       "\n",
       "[2385 rows x 3 columns]"
      ]
     },
     "execution_count": 154,
     "metadata": {},
     "output_type": "execute_result"
    }
   ],
   "source": [
    "df_HO2_Labels_Targets"
   ]
  },
  {
   "cell_type": "code",
   "execution_count": 155,
   "id": "c605a0e8-4b1c-4f8b-b330-57f41a21208c",
   "metadata": {
    "tags": []
   },
   "outputs": [],
   "source": [
    "df_HO2_Labels_Targets.rename(columns={'Label': 'HO2Label', 'Target': 'HO2Target'}, inplace=True)"
   ]
  },
  {
   "cell_type": "code",
   "execution_count": 156,
   "id": "2073e585-daf8-4af2-b017-dc7e51043ffa",
   "metadata": {
    "tags": []
   },
   "outputs": [
    {
     "data": {
      "text/plain": [
       "130"
      ]
     },
     "execution_count": 156,
     "metadata": {},
     "output_type": "execute_result"
    }
   ],
   "source": [
    "df_HO2HO1_Labels = pd.merge(df_HO2_Labels_Targets,df_HO1_To_HO2, on='RecID')\n",
    "len(df_HO2HO1_Labels)"
   ]
  },
  {
   "cell_type": "code",
   "execution_count": 157,
   "id": "3ed60e48-8f85-4ed6-9797-69c19636ab69",
   "metadata": {
    "tags": []
   },
   "outputs": [
    {
     "data": {
      "text/html": [
       "<div>\n",
       "<style scoped>\n",
       "    .dataframe tbody tr th:only-of-type {\n",
       "        vertical-align: middle;\n",
       "    }\n",
       "\n",
       "    .dataframe tbody tr th {\n",
       "        vertical-align: top;\n",
       "    }\n",
       "\n",
       "    .dataframe thead th {\n",
       "        text-align: right;\n",
       "    }\n",
       "</style>\n",
       "<table border=\"1\" class=\"dataframe\">\n",
       "  <thead>\n",
       "    <tr style=\"text-align: right;\">\n",
       "      <th></th>\n",
       "      <th>RecID</th>\n",
       "      <th>HO2Label</th>\n",
       "      <th>HO2Target</th>\n",
       "      <th>SBERTLabel</th>\n",
       "      <th>SBERTTarget</th>\n",
       "      <th>GClfTarget</th>\n",
       "      <th>HO1Label</th>\n",
       "      <th>HO1Target</th>\n",
       "      <th>HO1AgreedTarget</th>\n",
       "    </tr>\n",
       "  </thead>\n",
       "  <tbody>\n",
       "    <tr>\n",
       "      <th>0</th>\n",
       "      <td>1057291398880391170</td>\n",
       "      <td>Environmental</td>\n",
       "      <td>3</td>\n",
       "      <td>Social Stories</td>\n",
       "      <td>10</td>\n",
       "      <td>-1</td>\n",
       "      <td>Unclassified Medley</td>\n",
       "      <td>16</td>\n",
       "      <td>-1</td>\n",
       "    </tr>\n",
       "    <tr>\n",
       "      <th>1</th>\n",
       "      <td>1165822705037217792</td>\n",
       "      <td>Health</td>\n",
       "      <td>4</td>\n",
       "      <td>Social Stories</td>\n",
       "      <td>10</td>\n",
       "      <td>-1</td>\n",
       "      <td>Unclassified Medley</td>\n",
       "      <td>16</td>\n",
       "      <td>-1</td>\n",
       "    </tr>\n",
       "    <tr>\n",
       "      <th>2</th>\n",
       "      <td>1174449406172491776</td>\n",
       "      <td>Entertainment</td>\n",
       "      <td>2</td>\n",
       "      <td>Social Stories</td>\n",
       "      <td>10</td>\n",
       "      <td>-1</td>\n",
       "      <td>Entertainment</td>\n",
       "      <td>2</td>\n",
       "      <td>-1</td>\n",
       "    </tr>\n",
       "    <tr>\n",
       "      <th>3</th>\n",
       "      <td>1179556773750927360</td>\n",
       "      <td>Unclassified Medley</td>\n",
       "      <td>16</td>\n",
       "      <td>World Politics</td>\n",
       "      <td>12</td>\n",
       "      <td>-1</td>\n",
       "      <td>Human Rights</td>\n",
       "      <td>5</td>\n",
       "      <td>-1</td>\n",
       "    </tr>\n",
       "    <tr>\n",
       "      <th>4</th>\n",
       "      <td>1180064036509175808</td>\n",
       "      <td>Politics</td>\n",
       "      <td>6</td>\n",
       "      <td>Social Stories</td>\n",
       "      <td>10</td>\n",
       "      <td>-1</td>\n",
       "      <td>Human Rights</td>\n",
       "      <td>5</td>\n",
       "      <td>-1</td>\n",
       "    </tr>\n",
       "  </tbody>\n",
       "</table>\n",
       "</div>"
      ],
      "text/plain": [
       "                 RecID             HO2Label HO2Target      SBERTLabel  \\\n",
       "0  1057291398880391170        Environmental         3  Social Stories   \n",
       "1  1165822705037217792               Health         4  Social Stories   \n",
       "2  1174449406172491776        Entertainment         2  Social Stories   \n",
       "3  1179556773750927360  Unclassified Medley        16  World Politics   \n",
       "4  1180064036509175808             Politics         6  Social Stories   \n",
       "\n",
       "  SBERTTarget GClfTarget             HO1Label HO1Target HO1AgreedTarget  \n",
       "0          10         -1  Unclassified Medley        16              -1  \n",
       "1          10         -1  Unclassified Medley        16              -1  \n",
       "2          10         -1        Entertainment         2              -1  \n",
       "3          12         -1         Human Rights         5              -1  \n",
       "4          10         -1         Human Rights         5              -1  "
      ]
     },
     "execution_count": 157,
     "metadata": {},
     "output_type": "execute_result"
    }
   ],
   "source": [
    "df_HO2HO1_Labels.head()"
   ]
  },
  {
   "cell_type": "code",
   "execution_count": 158,
   "id": "f8140814-ae43-4684-a873-301580eb499c",
   "metadata": {
    "tags": []
   },
   "outputs": [],
   "source": [
    "df_HO2HO1_Labels.drop(['HO1AgreedTarget'], axis=1, inplace=True)"
   ]
  },
  {
   "cell_type": "markdown",
   "id": "71073702-436b-4569-b580-ae1ec3a17820",
   "metadata": {
    "tags": []
   },
   "source": [
    "#### Compute Krippendorff's Alpha for HO2, HO3, GClf"
   ]
  },
  {
   "cell_type": "code",
   "execution_count": 159,
   "id": "b1b83f47-e811-4a07-9d88-fcfde34c69a2",
   "metadata": {
    "tags": []
   },
   "outputs": [],
   "source": [
    "def AgreeTargetWithHO2(A1Target, A2Target, HO1Target, HO2Target):\n",
    "    AgreedTarget = '-1'\n",
    "    if (AgreedTarget == '-1') and (HO1Target == HO2Target):\n",
    "        AgreedTarget = HO2Target\n",
    "    if (AgreedTarget == '-1') and (A2Target == HO2Target):\n",
    "        AgreedTarget = HO2Target\n",
    "    if (AgreedTarget == '-1') and (A2Target == HO2Target):\n",
    "        AgreedTarget = HO2Target\n",
    "    return AgreedTarget"
   ]
  },
  {
   "cell_type": "code",
   "execution_count": 160,
   "id": "45bbe3e3-51ef-4d61-b74a-282ea7e3d426",
   "metadata": {
    "tags": []
   },
   "outputs": [],
   "source": [
    "# set HO1Target's Unknown to -1 for Krippendroff's Alpha calculation\n",
    "df_HO2HO1_Labels.loc[(df_HO2HO1_Labels.HO2Target == '0'), 'HO2Target'] = '-1'"
   ]
  },
  {
   "cell_type": "code",
   "execution_count": 161,
   "id": "bd4ffff5-0f09-40ed-8c6b-1ccf2ad52a66",
   "metadata": {
    "tags": []
   },
   "outputs": [],
   "source": [
    "df_HO2HO1_Labels['HO2AgreedTarget'] = df_HO2HO1_Labels.apply(lambda x: AgreeTargetWithHO2(x['GClfTarget'], x['SBERTTarget'], x['HO1Target'], x['HO2Target']), axis=1)"
   ]
  },
  {
   "cell_type": "code",
   "execution_count": 162,
   "id": "75ad0be9-04da-49ee-9de9-144684913a65",
   "metadata": {
    "tags": []
   },
   "outputs": [],
   "source": [
    "# convert to horizontal array as expected by Krippendorff Alpha\n",
    "HO2Pred = np.stack(df_HO2HO1_Labels['HO2Target'].astype(\"string\"))\n",
    "HO1Pred = np.stack(df_HO2HO1_Labels['HO1Target'].astype(\"string\"))\n",
    "GClfPred = np.stack(df_HO2HO1_Labels['GClfTarget'].astype(\"string\"))\n",
    "SBERTPred = np.stack(df_HO2HO1_Labels['SBERTTarget'].astype(\"string\"))\n",
    "HO2AgreedTarget = np.stack(df_HO2HO1_Labels['HO2AgreedTarget'].astype(\"string\"))"
   ]
  },
  {
   "cell_type": "code",
   "execution_count": 163,
   "id": "ee815a8a-ea22-452c-92bf-c9e2f5b21705",
   "metadata": {
    "tags": []
   },
   "outputs": [
    {
     "data": {
      "text/plain": [
       "(0.2784027887814927,\n",
       " 0.05334796926454444,\n",
       " -0.04009407548437682,\n",
       " -0.0002480158730158166)"
      ]
     },
     "execution_count": 163,
     "metadata": {},
     "output_type": "execute_result"
    }
   ],
   "source": [
    "missing = '-1'\n",
    "alpha1 = krippendorff_alpha(np.array((HO2Pred,HO2AgreedTarget)), nominal_metric, missing_items=missing)\n",
    "alpha2 = krippendorff_alpha(np.array((HO1Pred,HO2AgreedTarget)), nominal_metric, missing_items=missing)\n",
    "alpha3 = krippendorff_alpha(np.array((GClfPred,HO2AgreedTarget)), nominal_metric, missing_items=missing)\n",
    "alpha4 = krippendorff_alpha(np.array((SBERTPred,HO2AgreedTarget)), nominal_metric, missing_items=missing)\n",
    "alpha1, alpha2, alpha3, alpha4"
   ]
  },
  {
   "cell_type": "markdown",
   "id": "51bfb36c-98c1-44e1-a88a-f386feab095f",
   "metadata": {},
   "source": [
    "#### Remove \"Social Stories\" from GTD (keep aside)"
   ]
  },
  {
   "cell_type": "code",
   "execution_count": 26,
   "id": "59c8afe4-fe81-4393-8342-65f6baf181d3",
   "metadata": {
    "tags": []
   },
   "outputs": [],
   "source": [
    "df_Pass4_GTD_UpTodate = pd.read_csv('data/GTxM_Pass4/GTxM_Pass4_GTD_UpTodate.csv', dtype='str')"
   ]
  },
  {
   "cell_type": "code",
   "execution_count": 27,
   "id": "1e4d4a03-852d-493b-a841-e1c7459fc9d3",
   "metadata": {
    "tags": []
   },
   "outputs": [
    {
     "data": {
      "text/plain": [
       "1295"
      ]
     },
     "execution_count": 27,
     "metadata": {},
     "output_type": "execute_result"
    }
   ],
   "source": [
    "df_Pass5_GTD_UpTodate = df_Pass4_GTD_UpTodate[df_Pass4_GTD_UpTodate.Label != 'Social Stories']\n",
    "len(df_Pass5_GTD_UpTodate)"
   ]
  },
  {
   "cell_type": "code",
   "execution_count": 29,
   "id": "b9ee2fe7-9ac8-4e3a-b01f-87a3b76360d4",
   "metadata": {
    "tags": []
   },
   "outputs": [],
   "source": [
    "df_Pass5_GTD_UpTodate.to_csv('data/GTxM_Pass5/GTxM_Pass5_GTD_UpTodate.csv', index=False)"
   ]
  },
  {
   "cell_type": "code",
   "execution_count": 28,
   "id": "be2be3d5-45e5-43cf-835d-3985517872f4",
   "metadata": {
    "tags": []
   },
   "outputs": [
    {
     "data": {
      "text/plain": [
       "59"
      ]
     },
     "execution_count": 28,
     "metadata": {},
     "output_type": "execute_result"
    }
   ],
   "source": [
    "df_GTD_SocialStories = df_Pass4_GTD_UpTodate[df_Pass4_GTD_UpTodate.Label == 'Social Stories']\n",
    "len(df_GTD_SocialStories)"
   ]
  },
  {
   "cell_type": "code",
   "execution_count": 30,
   "id": "be71e139-1c99-4685-8f00-497eb7d1a609",
   "metadata": {
    "tags": []
   },
   "outputs": [],
   "source": [
    "df_GTD_SocialStories.to_csv('data/GTxM_Pass5/GTxM_Pass5_GTD_SocialStories.csv', index=False)"
   ]
  },
  {
   "cell_type": "markdown",
   "id": "3e908c8f-5f21-4287-9ea1-04c42f1a421c",
   "metadata": {
    "tags": []
   },
   "source": [
    "#### Reject all Pass 5 CGT data"
   ]
  },
  {
   "cell_type": "code",
   "execution_count": 38,
   "id": "add908c4-7f3f-4b36-8e34-3822e9142fc0",
   "metadata": {
    "tags": []
   },
   "outputs": [
    {
     "data": {
      "text/plain": [
       "681"
      ]
     },
     "execution_count": 38,
     "metadata": {},
     "output_type": "execute_result"
    }
   ],
   "source": [
    "# From CGT step 1: Pattern Detection\n",
    "len(df_CGT_Rec_NoReject)"
   ]
  },
  {
   "cell_type": "code",
   "execution_count": 40,
   "id": "71d4f8d8-007b-4a38-91df-0863c6ec9f75",
   "metadata": {
    "tags": []
   },
   "outputs": [],
   "source": [
    "df_Pass5_Reject_New = df_CGT_Rec_NoReject['RecID']"
   ]
  },
  {
   "cell_type": "code",
   "execution_count": 41,
   "id": "d1c5be6d-7ccb-4ac3-8723-79907d01ea04",
   "metadata": {
    "tags": []
   },
   "outputs": [],
   "source": [
    "df_Pass5_Reject_New.to_csv('data/GTxM_Pass5/GTxM_Pass5_Reject_New.csv', index=False)"
   ]
  },
  {
   "cell_type": "code",
   "execution_count": 42,
   "id": "a1de478a-b4c2-453b-aa2c-87dabf452114",
   "metadata": {
    "tags": []
   },
   "outputs": [
    {
     "data": {
      "text/plain": [
       "350"
      ]
     },
     "execution_count": 42,
     "metadata": {},
     "output_type": "execute_result"
    }
   ],
   "source": [
    "df_Pass4_Reject_UpTodate = pd.read_csv('data/GTxM_Pass4/GTxM_Pass4_Reject_UpTodate.csv', dtype='str')\n",
    "len(df_Pass4_Reject_UpTodate)"
   ]
  },
  {
   "cell_type": "code",
   "execution_count": 43,
   "id": "b3500379-ca9c-4450-89d7-773d4e527d9b",
   "metadata": {
    "tags": []
   },
   "outputs": [
    {
     "data": {
      "text/plain": [
       "1031"
      ]
     },
     "execution_count": 43,
     "metadata": {},
     "output_type": "execute_result"
    }
   ],
   "source": [
    "df_Pass5_Reject_UpTodate = pd.concat([df_Pass4_Reject_UpTodate, df_Pass5_Reject_New], axis=0)\n",
    "len(df_Pass5_Reject_UpTodate)"
   ]
  },
  {
   "cell_type": "code",
   "execution_count": 44,
   "id": "64d2f775-914d-411d-b88c-7d59cd849d5b",
   "metadata": {
    "tags": []
   },
   "outputs": [],
   "source": [
    "df_Pass5_Reject_UpTodate.to_csv('data/GTxM_Pass5/GTxM_Pass5_Reject_UpTodate.csv', index=False)"
   ]
  },
  {
   "cell_type": "code",
   "execution_count": null,
   "id": "91ccac28-c3d3-4e78-a592-b23b7036715e",
   "metadata": {},
   "outputs": [],
   "source": []
  }
 ],
 "metadata": {
  "kernelspec": {
   "display_name": "Python 3 (ipykernel)",
   "language": "python",
   "name": "python3"
  },
  "language_info": {
   "codemirror_mode": {
    "name": "ipython",
    "version": 3
   },
   "file_extension": ".py",
   "mimetype": "text/x-python",
   "name": "python",
   "nbconvert_exporter": "python",
   "pygments_lexer": "ipython3",
   "version": "3.8.16"
  }
 },
 "nbformat": 4,
 "nbformat_minor": 5
}
