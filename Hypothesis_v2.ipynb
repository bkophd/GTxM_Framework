{
 "cells": [
  {
   "cell_type": "code",
   "execution_count": 1,
   "id": "cd603ab2-9c19-4ef7-834f-f1823c7cba36",
   "metadata": {
    "tags": []
   },
   "outputs": [],
   "source": [
    "import scipy.stats as stats\n",
    "import numpy as np\n",
    "import pandas as pd"
   ]
  },
  {
   "cell_type": "markdown",
   "id": "ffaa466f-7b8f-4700-960b-5bdac3d6ed4d",
   "metadata": {
    "jp-MarkdownHeadingCollapsed": true,
    "tags": []
   },
   "source": [
    "### Hypothesis RH1\n",
    "Social Media Records (SMRs) are Social Media Contents (SMCs) to which other users have interacted (replied, forwarded, liked or responded) as allowed on the social media platform."
   ]
  },
  {
   "cell_type": "markdown",
   "id": "59b29c8d-41d7-40be-a99f-d21901895b60",
   "metadata": {
    "tags": []
   },
   "source": [
    "##### Prepare data"
   ]
  },
  {
   "cell_type": "code",
   "execution_count": 2,
   "id": "c77f8ca2-f215-4e30-8d9d-3d6ddaf92e4f",
   "metadata": {
    "tags": []
   },
   "outputs": [
    {
     "data": {
      "text/plain": [
       "5600"
      ]
     },
     "execution_count": 2,
     "metadata": {},
     "output_type": "execute_result"
    }
   ],
   "source": [
    "dfRAW = pd.read_csv(\"D:/KOPro/PhD/DataCollection/Datasets/NewsCited/Consolidated/RecTweets.csv\", usecols=['id','favorite_count','retweet_count','possibly_sensitive','user_verified'], dtype='str')\n",
    "len(dfRAW)"
   ]
  },
  {
   "cell_type": "code",
   "execution_count": 3,
   "id": "6c950401-9533-4688-8323-a7afa6acc3bd",
   "metadata": {
    "tags": []
   },
   "outputs": [
    {
     "data": {
      "text/plain": [
       "5597"
      ]
     },
     "execution_count": 3,
     "metadata": {},
     "output_type": "execute_result"
    }
   ],
   "source": [
    "dfRAW = dfRAW[dfRAW.id != 'id']\n",
    "len(dfRAW)"
   ]
  },
  {
   "cell_type": "code",
   "execution_count": 4,
   "id": "681379f9-16dd-4ec4-9fd9-75167db9c5fb",
   "metadata": {
    "tags": []
   },
   "outputs": [],
   "source": [
    "# rename fields in dfRecTweets\n",
    "dfRAW.rename(columns={'id': 'RecID', 'favorite_count': 'likes_count'}, inplace=True)"
   ]
  },
  {
   "cell_type": "code",
   "execution_count": 5,
   "id": "8270789d-7a9b-41e9-90fd-dc9f159a77bd",
   "metadata": {
    "tags": []
   },
   "outputs": [
    {
     "data": {
      "text/plain": [
       "5016"
      ]
     },
     "execution_count": 5,
     "metadata": {},
     "output_type": "execute_result"
    }
   ],
   "source": [
    "dfRAW.drop_duplicates(subset='RecID', keep='last', inplace=True)\n",
    "len(dfRAW)"
   ]
  },
  {
   "cell_type": "code",
   "execution_count": 6,
   "id": "19444fa1-c6ba-4699-ac54-afb8fe616403",
   "metadata": {
    "tags": []
   },
   "outputs": [],
   "source": [
    "dfRAW.to_csv('dfRAW.csv')"
   ]
  },
  {
   "cell_type": "markdown",
   "id": "7e016bc5-32d0-427f-9771-8c0317a36729",
   "metadata": {},
   "source": [
    "<b>SMC (Master)"
   ]
  },
  {
   "cell_type": "code",
   "execution_count": 7,
   "id": "67380594-f11b-45af-ba5f-d4480c5ed467",
   "metadata": {
    "tags": []
   },
   "outputs": [
    {
     "data": {
      "text/plain": [
       "4684"
      ]
     },
     "execution_count": 7,
     "metadata": {},
     "output_type": "execute_result"
    }
   ],
   "source": [
    "dfSMC = pd.read_csv('D:/KOPro/PhD/Implementation/SourceCode/py38/GTxM/data/MasterTokens.csv', usecols=['RecID','countSupTweets'], dtype='str', encoding='ISO-8859-1')\n",
    "dfSMC.rename(columns={'countSupTweets': 'reply_count'}, inplace=True)\n",
    "len(dfSMC)"
   ]
  },
  {
   "cell_type": "code",
   "execution_count": 8,
   "id": "dcc13645-440d-421b-bab0-b059403e21d0",
   "metadata": {
    "tags": []
   },
   "outputs": [
    {
     "data": {
      "text/plain": [
       "4684"
      ]
     },
     "execution_count": 8,
     "metadata": {},
     "output_type": "execute_result"
    }
   ],
   "source": [
    "# merge\n",
    "dfRH_SMC = pd.merge(dfSMC, dfRAW, on='RecID', how='left')\n",
    "len(dfRH_SMC)"
   ]
  },
  {
   "cell_type": "code",
   "execution_count": 9,
   "id": "6aa8d8ef-d678-4895-86b2-da339a4471cd",
   "metadata": {
    "tags": []
   },
   "outputs": [
    {
     "data": {
      "text/html": [
       "<div>\n",
       "<style scoped>\n",
       "    .dataframe tbody tr th:only-of-type {\n",
       "        vertical-align: middle;\n",
       "    }\n",
       "\n",
       "    .dataframe tbody tr th {\n",
       "        vertical-align: top;\n",
       "    }\n",
       "\n",
       "    .dataframe thead th {\n",
       "        text-align: right;\n",
       "    }\n",
       "</style>\n",
       "<table border=\"1\" class=\"dataframe\">\n",
       "  <thead>\n",
       "    <tr style=\"text-align: right;\">\n",
       "      <th></th>\n",
       "      <th>RecID</th>\n",
       "      <th>reply_count</th>\n",
       "      <th>likes_count</th>\n",
       "      <th>possibly_sensitive</th>\n",
       "      <th>retweet_count</th>\n",
       "      <th>user_verified</th>\n",
       "    </tr>\n",
       "  </thead>\n",
       "  <tbody>\n",
       "    <tr>\n",
       "      <th>0</th>\n",
       "      <td>11947603240</td>\n",
       "      <td>0.0</td>\n",
       "      <td>2</td>\n",
       "      <td>NaN</td>\n",
       "      <td>0</td>\n",
       "      <td>True</td>\n",
       "    </tr>\n",
       "    <tr>\n",
       "      <th>1</th>\n",
       "      <td>12643331537</td>\n",
       "      <td>1.0</td>\n",
       "      <td>23</td>\n",
       "      <td>NaN</td>\n",
       "      <td>5</td>\n",
       "      <td>True</td>\n",
       "    </tr>\n",
       "    <tr>\n",
       "      <th>2</th>\n",
       "      <td>23257004857</td>\n",
       "      <td>0.0</td>\n",
       "      <td>25</td>\n",
       "      <td>NaN</td>\n",
       "      <td>32</td>\n",
       "      <td>False</td>\n",
       "    </tr>\n",
       "    <tr>\n",
       "      <th>3</th>\n",
       "      <td>210423753388208128</td>\n",
       "      <td>0.0</td>\n",
       "      <td>1004</td>\n",
       "      <td>NaN</td>\n",
       "      <td>1629</td>\n",
       "      <td>True</td>\n",
       "    </tr>\n",
       "    <tr>\n",
       "      <th>4</th>\n",
       "      <td>211098255919038464</td>\n",
       "      <td>0.0</td>\n",
       "      <td>4</td>\n",
       "      <td>False</td>\n",
       "      <td>4</td>\n",
       "      <td>False</td>\n",
       "    </tr>\n",
       "  </tbody>\n",
       "</table>\n",
       "</div>"
      ],
      "text/plain": [
       "                RecID reply_count likes_count possibly_sensitive  \\\n",
       "0         11947603240         0.0           2                NaN   \n",
       "1         12643331537         1.0          23                NaN   \n",
       "2         23257004857         0.0          25                NaN   \n",
       "3  210423753388208128         0.0        1004                NaN   \n",
       "4  211098255919038464         0.0           4              False   \n",
       "\n",
       "  retweet_count user_verified  \n",
       "0             0          True  \n",
       "1             5          True  \n",
       "2            32         False  \n",
       "3          1629          True  \n",
       "4             4         False  "
      ]
     },
     "execution_count": 9,
     "metadata": {},
     "output_type": "execute_result"
    }
   ],
   "source": [
    "dfRH_SMC.head()"
   ]
  },
  {
   "cell_type": "code",
   "execution_count": 10,
   "id": "10961784-8a75-485a-8d53-0e29fc9021ad",
   "metadata": {
    "tags": []
   },
   "outputs": [],
   "source": [
    "dfRH_SMC.to_csv('dfRH_SMC.csv')"
   ]
  },
  {
   "cell_type": "markdown",
   "id": "6bc59b0a-3299-4cf0-9d8c-bed63872a3d9",
   "metadata": {},
   "source": [
    "<b>SMR"
   ]
  },
  {
   "cell_type": "code",
   "execution_count": 11,
   "id": "6ae21d8c-13ab-4c30-a8f9-0ee83654f026",
   "metadata": {
    "tags": []
   },
   "outputs": [
    {
     "data": {
      "text/plain": [
       "2385"
      ]
     },
     "execution_count": 11,
     "metadata": {},
     "output_type": "execute_result"
    }
   ],
   "source": [
    "dfSMR = pd.read_csv('D:/KOPro/PhD/Implementation/SourceCode/py38/GTxM/data/MasterTokens_10to260SupTweets.csv', usecols=['RecID'], dtype='str', encoding='ISO-8859-1')\n",
    "len(dfSMR)"
   ]
  },
  {
   "cell_type": "code",
   "execution_count": 12,
   "id": "9e1678e6-913b-4fda-929e-a255eaf08847",
   "metadata": {
    "tags": []
   },
   "outputs": [
    {
     "data": {
      "text/plain": [
       "2385"
      ]
     },
     "execution_count": 12,
     "metadata": {},
     "output_type": "execute_result"
    }
   ],
   "source": [
    "dfSMR.drop_duplicates(subset='RecID', keep='last', inplace=True)\n",
    "len(dfSMR)"
   ]
  },
  {
   "cell_type": "code",
   "execution_count": 13,
   "id": "04436775-4996-430b-a3f4-d51d3113e160",
   "metadata": {
    "tags": []
   },
   "outputs": [],
   "source": [
    "# rename fields in dfSMR\n",
    "dfSMR.rename(columns={'countSupTweets': 'reply_count'}, inplace=True)"
   ]
  },
  {
   "cell_type": "code",
   "execution_count": 14,
   "id": "08f124cd-3733-4f7f-8153-52daf5722d58",
   "metadata": {
    "tags": []
   },
   "outputs": [],
   "source": [
    "dfSMR.to_csv('dfSMR.csv')"
   ]
  },
  {
   "cell_type": "code",
   "execution_count": 15,
   "id": "4ecd80b3-35c0-4ed9-a9d3-067d480858d1",
   "metadata": {
    "tags": []
   },
   "outputs": [],
   "source": [
    "# dfSMC['RecID'] = dfSMC['RecID'].astype('string')\n",
    "# dfSMR['RecID'] = dfSMR['RecID'].astype('string')"
   ]
  },
  {
   "cell_type": "code",
   "execution_count": 16,
   "id": "d0b6d0bf-e119-48c0-aa07-0a45876a33d6",
   "metadata": {
    "tags": []
   },
   "outputs": [
    {
     "data": {
      "text/plain": [
       "2385"
      ]
     },
     "execution_count": 16,
     "metadata": {},
     "output_type": "execute_result"
    }
   ],
   "source": [
    "# merge\n",
    "dfRH_SMR = pd.merge(dfSMR, dfRH_SMC, on='RecID', how='left')\n",
    "len(dfRH_SMR)"
   ]
  },
  {
   "cell_type": "code",
   "execution_count": 17,
   "id": "ae71f42b-1d11-4d16-8b1a-0f7646fb99c4",
   "metadata": {
    "tags": []
   },
   "outputs": [
    {
     "data": {
      "text/html": [
       "<div>\n",
       "<style scoped>\n",
       "    .dataframe tbody tr th:only-of-type {\n",
       "        vertical-align: middle;\n",
       "    }\n",
       "\n",
       "    .dataframe tbody tr th {\n",
       "        vertical-align: top;\n",
       "    }\n",
       "\n",
       "    .dataframe thead th {\n",
       "        text-align: right;\n",
       "    }\n",
       "</style>\n",
       "<table border=\"1\" class=\"dataframe\">\n",
       "  <thead>\n",
       "    <tr style=\"text-align: right;\">\n",
       "      <th></th>\n",
       "      <th>RecID</th>\n",
       "      <th>reply_count</th>\n",
       "      <th>likes_count</th>\n",
       "      <th>possibly_sensitive</th>\n",
       "      <th>retweet_count</th>\n",
       "      <th>user_verified</th>\n",
       "    </tr>\n",
       "  </thead>\n",
       "  <tbody>\n",
       "    <tr>\n",
       "      <th>0</th>\n",
       "      <td>222818213392678912</td>\n",
       "      <td>260.0</td>\n",
       "      <td>1443</td>\n",
       "      <td>NaN</td>\n",
       "      <td>1888</td>\n",
       "      <td>True</td>\n",
       "    </tr>\n",
       "    <tr>\n",
       "      <th>1</th>\n",
       "      <td>826262311560216578</td>\n",
       "      <td>76.0</td>\n",
       "      <td>1689</td>\n",
       "      <td>False</td>\n",
       "      <td>2657</td>\n",
       "      <td>True</td>\n",
       "    </tr>\n",
       "    <tr>\n",
       "      <th>2</th>\n",
       "      <td>833502973204459520</td>\n",
       "      <td>13.0</td>\n",
       "      <td>40190</td>\n",
       "      <td>False</td>\n",
       "      <td>14400</td>\n",
       "      <td>True</td>\n",
       "    </tr>\n",
       "    <tr>\n",
       "      <th>3</th>\n",
       "      <td>835347243020451840</td>\n",
       "      <td>39.0</td>\n",
       "      <td>51275</td>\n",
       "      <td>NaN</td>\n",
       "      <td>29026</td>\n",
       "      <td>False</td>\n",
       "    </tr>\n",
       "    <tr>\n",
       "      <th>4</th>\n",
       "      <td>867832469181128704</td>\n",
       "      <td>24.0</td>\n",
       "      <td>23297</td>\n",
       "      <td>False</td>\n",
       "      <td>8400</td>\n",
       "      <td>True</td>\n",
       "    </tr>\n",
       "  </tbody>\n",
       "</table>\n",
       "</div>"
      ],
      "text/plain": [
       "                RecID reply_count likes_count possibly_sensitive  \\\n",
       "0  222818213392678912       260.0        1443                NaN   \n",
       "1  826262311560216578        76.0        1689              False   \n",
       "2  833502973204459520        13.0       40190              False   \n",
       "3  835347243020451840        39.0       51275                NaN   \n",
       "4  867832469181128704        24.0       23297              False   \n",
       "\n",
       "  retweet_count user_verified  \n",
       "0          1888          True  \n",
       "1          2657          True  \n",
       "2         14400          True  \n",
       "3         29026         False  \n",
       "4          8400          True  "
      ]
     },
     "execution_count": 17,
     "metadata": {},
     "output_type": "execute_result"
    }
   ],
   "source": [
    "dfRH_SMR.head()"
   ]
  },
  {
   "cell_type": "markdown",
   "id": "94dbded2-1ce1-4116-a4dc-77e0ea956cca",
   "metadata": {},
   "source": [
    "<b>GTD"
   ]
  },
  {
   "cell_type": "code",
   "execution_count": 18,
   "id": "03dd29c4-694c-4232-8787-bb8aca7b2c66",
   "metadata": {
    "tags": []
   },
   "outputs": [
    {
     "data": {
      "text/plain": [
       "1295"
      ]
     },
     "execution_count": 18,
     "metadata": {},
     "output_type": "execute_result"
    }
   ],
   "source": [
    "dfGTD = pd.read_csv('D:/KOPro/PhD/Implementation/SourceCode/py38/GTxM/data/GTxM_Pass5/GTxM_Pass5_GTD_UpTodate.csv', dtype='str')\n",
    "len(dfGTD)"
   ]
  },
  {
   "cell_type": "code",
   "execution_count": 19,
   "id": "09643520-983a-4a59-abba-6be33bf26559",
   "metadata": {
    "tags": []
   },
   "outputs": [
    {
     "data": {
      "text/html": [
       "<div>\n",
       "<style scoped>\n",
       "    .dataframe tbody tr th:only-of-type {\n",
       "        vertical-align: middle;\n",
       "    }\n",
       "\n",
       "    .dataframe tbody tr th {\n",
       "        vertical-align: top;\n",
       "    }\n",
       "\n",
       "    .dataframe thead th {\n",
       "        text-align: right;\n",
       "    }\n",
       "</style>\n",
       "<table border=\"1\" class=\"dataframe\">\n",
       "  <thead>\n",
       "    <tr style=\"text-align: right;\">\n",
       "      <th></th>\n",
       "      <th>RecID</th>\n",
       "      <th>Label</th>\n",
       "      <th>Target</th>\n",
       "    </tr>\n",
       "  </thead>\n",
       "  <tbody>\n",
       "    <tr>\n",
       "      <th>0</th>\n",
       "      <td>1207761446513319936</td>\n",
       "      <td>Politics</td>\n",
       "      <td>6</td>\n",
       "    </tr>\n",
       "    <tr>\n",
       "      <th>1</th>\n",
       "      <td>1180079141087055872</td>\n",
       "      <td>Politics</td>\n",
       "      <td>6</td>\n",
       "    </tr>\n",
       "    <tr>\n",
       "      <th>2</th>\n",
       "      <td>1179396754665549829</td>\n",
       "      <td>Obituary</td>\n",
       "      <td>9</td>\n",
       "    </tr>\n",
       "    <tr>\n",
       "      <th>3</th>\n",
       "      <td>1180775281067462658</td>\n",
       "      <td>Entertainment</td>\n",
       "      <td>2</td>\n",
       "    </tr>\n",
       "    <tr>\n",
       "      <th>4</th>\n",
       "      <td>1208021541323202562</td>\n",
       "      <td>Politics</td>\n",
       "      <td>6</td>\n",
       "    </tr>\n",
       "  </tbody>\n",
       "</table>\n",
       "</div>"
      ],
      "text/plain": [
       "                 RecID          Label Target\n",
       "0  1207761446513319936       Politics      6\n",
       "1  1180079141087055872       Politics      6\n",
       "2  1179396754665549829       Obituary      9\n",
       "3  1180775281067462658  Entertainment      2\n",
       "4  1208021541323202562       Politics      6"
      ]
     },
     "execution_count": 19,
     "metadata": {},
     "output_type": "execute_result"
    }
   ],
   "source": [
    "dfGTD.head()"
   ]
  },
  {
   "cell_type": "code",
   "execution_count": 20,
   "id": "af4d3c2d-3c77-41ce-8142-e32566b4a415",
   "metadata": {
    "tags": []
   },
   "outputs": [
    {
     "data": {
      "text/plain": [
       "1261"
      ]
     },
     "execution_count": 20,
     "metadata": {},
     "output_type": "execute_result"
    }
   ],
   "source": [
    "dfGTD = dfGTD[dfGTD.Label != 'Health']\n",
    "dfGTD = dfGTD[dfGTD.Label != 'Law and Order']\n",
    "len(dfGTD)"
   ]
  },
  {
   "cell_type": "code",
   "execution_count": 21,
   "id": "39f98688-c9bd-4898-b6ef-a06df95ac922",
   "metadata": {
    "tags": []
   },
   "outputs": [],
   "source": [
    "dfGTD = dfGTD['RecID']"
   ]
  },
  {
   "cell_type": "code",
   "execution_count": 22,
   "id": "b177bca8-5ceb-47e3-a4c9-644e45d57597",
   "metadata": {
    "tags": []
   },
   "outputs": [
    {
     "data": {
      "text/plain": [
       "1261"
      ]
     },
     "execution_count": 22,
     "metadata": {},
     "output_type": "execute_result"
    }
   ],
   "source": [
    "# merge GTD\n",
    "dfRH_GTD = pd.merge(dfGTD, dfRH_SMR, on='RecID', how='inner')\n",
    "len(dfRH_GTD)"
   ]
  },
  {
   "cell_type": "code",
   "execution_count": 23,
   "id": "ed3c8c58-c1e6-44d5-80cc-ae7b39025782",
   "metadata": {},
   "outputs": [],
   "source": [
    "dfRH_GTD.to_csv('dfRH_GTD.csv')"
   ]
  },
  {
   "cell_type": "code",
   "execution_count": 24,
   "id": "77a96e72-8a17-4233-b032-41dc51bd83bc",
   "metadata": {
    "tags": []
   },
   "outputs": [
    {
     "data": {
      "text/plain": [
       "1261"
      ]
     },
     "execution_count": 24,
     "metadata": {},
     "output_type": "execute_result"
    }
   ],
   "source": [
    "dfRH_GTD.drop_duplicates(subset='RecID', keep=False, inplace=True)\n",
    "len(dfRH_GTD)"
   ]
  },
  {
   "cell_type": "markdown",
   "id": "bcb22b02-a32b-4914-aad0-6888cc111d25",
   "metadata": {},
   "source": [
    "##### Try a proportions test"
   ]
  },
  {
   "cell_type": "code",
   "execution_count": 29,
   "id": "c48e926f-d863-4b6e-9c91-4e7fb97dcfa0",
   "metadata": {
    "tags": []
   },
   "outputs": [
    {
     "data": {
      "text/plain": [
       "BarnardExactResult(statistic=4.256053123746618, pvalue=1.0)"
      ]
     },
     "execution_count": 29,
     "metadata": {},
     "output_type": "execute_result"
    }
   ],
   "source": [
    "stats.barnard_exact([[30, 0], [4684, 2835]], alternative='less')"
   ]
  },
  {
   "cell_type": "markdown",
   "id": "0de8c17e-c56d-46c9-90f8-6bbaeb6b8a20",
   "metadata": {},
   "source": [
    "##### Try adding up the interaction columns and do a one-sample test"
   ]
  },
  {
   "cell_type": "code",
   "execution_count": 30,
   "id": "3762bdf3-3de8-45dc-91ae-f33304cbd201",
   "metadata": {
    "tags": []
   },
   "outputs": [],
   "source": [
    "dfRH_SMR['reply_count']= dfRH_SMR['reply_count'].apply(lambda x: int(float(x)))"
   ]
  },
  {
   "cell_type": "code",
   "execution_count": 31,
   "id": "447ac44d-11d3-40d2-8a39-a0d8588dbc87",
   "metadata": {
    "tags": []
   },
   "outputs": [
    {
     "data": {
      "text/html": [
       "<div>\n",
       "<style scoped>\n",
       "    .dataframe tbody tr th:only-of-type {\n",
       "        vertical-align: middle;\n",
       "    }\n",
       "\n",
       "    .dataframe tbody tr th {\n",
       "        vertical-align: top;\n",
       "    }\n",
       "\n",
       "    .dataframe thead th {\n",
       "        text-align: right;\n",
       "    }\n",
       "</style>\n",
       "<table border=\"1\" class=\"dataframe\">\n",
       "  <thead>\n",
       "    <tr style=\"text-align: right;\">\n",
       "      <th></th>\n",
       "      <th>RecID</th>\n",
       "      <th>reply_count</th>\n",
       "      <th>likes_count</th>\n",
       "      <th>possibly_sensitive</th>\n",
       "      <th>retweet_count</th>\n",
       "      <th>user_verified</th>\n",
       "      <th>Interaction</th>\n",
       "    </tr>\n",
       "  </thead>\n",
       "  <tbody>\n",
       "    <tr>\n",
       "      <th>0</th>\n",
       "      <td>222818213392678912</td>\n",
       "      <td>260</td>\n",
       "      <td>1443</td>\n",
       "      <td>NaN</td>\n",
       "      <td>1888</td>\n",
       "      <td>True</td>\n",
       "      <td>3591</td>\n",
       "    </tr>\n",
       "    <tr>\n",
       "      <th>1</th>\n",
       "      <td>826262311560216578</td>\n",
       "      <td>76</td>\n",
       "      <td>1689</td>\n",
       "      <td>False</td>\n",
       "      <td>2657</td>\n",
       "      <td>True</td>\n",
       "      <td>4422</td>\n",
       "    </tr>\n",
       "    <tr>\n",
       "      <th>2</th>\n",
       "      <td>833502973204459520</td>\n",
       "      <td>13</td>\n",
       "      <td>40190</td>\n",
       "      <td>False</td>\n",
       "      <td>14400</td>\n",
       "      <td>True</td>\n",
       "      <td>54603</td>\n",
       "    </tr>\n",
       "    <tr>\n",
       "      <th>3</th>\n",
       "      <td>835347243020451840</td>\n",
       "      <td>39</td>\n",
       "      <td>51275</td>\n",
       "      <td>NaN</td>\n",
       "      <td>29026</td>\n",
       "      <td>False</td>\n",
       "      <td>80340</td>\n",
       "    </tr>\n",
       "    <tr>\n",
       "      <th>4</th>\n",
       "      <td>867832469181128704</td>\n",
       "      <td>24</td>\n",
       "      <td>23297</td>\n",
       "      <td>False</td>\n",
       "      <td>8400</td>\n",
       "      <td>True</td>\n",
       "      <td>31721</td>\n",
       "    </tr>\n",
       "  </tbody>\n",
       "</table>\n",
       "</div>"
      ],
      "text/plain": [
       "                RecID  reply_count likes_count possibly_sensitive  \\\n",
       "0  222818213392678912          260        1443                NaN   \n",
       "1  826262311560216578           76        1689              False   \n",
       "2  833502973204459520           13       40190              False   \n",
       "3  835347243020451840           39       51275                NaN   \n",
       "4  867832469181128704           24       23297              False   \n",
       "\n",
       "  retweet_count user_verified  Interaction  \n",
       "0          1888          True         3591  \n",
       "1          2657          True         4422  \n",
       "2         14400          True        54603  \n",
       "3         29026         False        80340  \n",
       "4          8400          True        31721  "
      ]
     },
     "execution_count": 31,
     "metadata": {},
     "output_type": "execute_result"
    }
   ],
   "source": [
    "dfRH_SMR['Interaction'] = dfRH_SMR['reply_count'] + dfRH_SMR['likes_count'].astype(int)+ dfRH_SMR['retweet_count'].astype(int)\n",
    "dfRH_SMR.head()"
   ]
  },
  {
   "cell_type": "code",
   "execution_count": 32,
   "id": "71cc11af-e284-4f05-8130-d910113491ba",
   "metadata": {
    "tags": []
   },
   "outputs": [
    {
     "data": {
      "text/plain": [
       "(11.480460112744092, 1.653979777743639e-30)"
      ]
     },
     "execution_count": 32,
     "metadata": {},
     "output_type": "execute_result"
    }
   ],
   "source": [
    "from statsmodels.stats.weightstats import ztest as ztest\n",
    "ztest(dfRH_SMR['Interaction'], value=0)"
   ]
  },
  {
   "cell_type": "markdown",
   "id": "2126b223-2a10-430b-9a9f-899fa9f9389c",
   "metadata": {
    "jp-MarkdownHeadingCollapsed": true,
    "tags": []
   },
   "source": [
    "### Hypothesis RH2\n",
    "RH: Tweets created by verified user accounts have more conversational replies than those created by unverified user accounts.<br>\n",
    "RH0: Tweets created by verified user accounts have the same number of replies as unverified user accounts<br>\n",
    "RH1: Tweets created by verified user accounts have more replies as unverified user accounts<br>\n",
    "Test plan: 2 sample t-test."
   ]
  },
  {
   "cell_type": "markdown",
   "id": "0a56951e-8787-4b80-bbc5-4d50adfabf03",
   "metadata": {},
   "source": [
    "<b>SMC"
   ]
  },
  {
   "cell_type": "code",
   "execution_count": 33,
   "id": "869a817e-955a-4179-a170-9c423dc77b73",
   "metadata": {
    "tags": []
   },
   "outputs": [
    {
     "data": {
      "text/plain": [
       "user_verified  reply_count_yes_no\n",
       "False          No                     403\n",
       "               Yes                   1028\n",
       "True           No                     619\n",
       "               Yes                   2634\n",
       "dtype: int64"
      ]
     },
     "execution_count": 33,
     "metadata": {},
     "output_type": "execute_result"
    }
   ],
   "source": [
    "dfRH2_SMC = pd.DataFrame()\n",
    "dfRH2_SMC['user_verified'] = dfRH_SMC['user_verified']\n",
    "dfRH2_SMC['reply_count_yes_no'] = dfRH_SMC['reply_count'].apply (lambda x: 'Yes' if float(x) > 0 else 'No')\n",
    "dfRH2_SMC.groupby(by=['user_verified','reply_count_yes_no']).size()"
   ]
  },
  {
   "cell_type": "markdown",
   "id": "c00c0f90-fb2e-4ef7-9505-1d0cdf3657ef",
   "metadata": {},
   "source": [
    "<b>SMR"
   ]
  },
  {
   "cell_type": "code",
   "execution_count": 34,
   "id": "ff54cde4-1fd1-4ba0-8554-a4fc2ee6ee96",
   "metadata": {
    "tags": []
   },
   "outputs": [
    {
     "data": {
      "text/plain": [
       "user_verified  reply_count_yes_no\n",
       "False          Yes                    489\n",
       "True           Yes                   1896\n",
       "dtype: int64"
      ]
     },
     "execution_count": 34,
     "metadata": {},
     "output_type": "execute_result"
    }
   ],
   "source": [
    "dfRH2_SMR = pd.DataFrame()\n",
    "dfRH2_SMR['user_verified'] = dfRH_SMR['user_verified']\n",
    "dfRH2_SMR['reply_count_yes_no'] = dfRH_SMR['reply_count'].apply (lambda x: 'Yes' if float(x) > 0 else 'No')\n",
    "dfRH2_SMR.groupby(by=['user_verified','reply_count_yes_no']).size()"
   ]
  },
  {
   "cell_type": "markdown",
   "id": "0c91de3b-d227-46ce-b386-aa377ff180a5",
   "metadata": {},
   "source": [
    "<b>GTD"
   ]
  },
  {
   "cell_type": "code",
   "execution_count": 35,
   "id": "71e8e8ef-9f92-4521-96be-4358b2b997d0",
   "metadata": {
    "tags": []
   },
   "outputs": [
    {
     "data": {
      "text/plain": [
       "user_verified  reply_count_yes_no\n",
       "False          Yes                    177\n",
       "True           Yes                   1084\n",
       "dtype: int64"
      ]
     },
     "execution_count": 35,
     "metadata": {},
     "output_type": "execute_result"
    }
   ],
   "source": [
    "dfRH2_GTD = pd.DataFrame()\n",
    "dfRH2_GTD['user_verified'] = dfRH_GTD['user_verified']\n",
    "dfRH2_GTD['reply_count_yes_no'] = dfRH_GTD['reply_count'].apply (lambda x: 'Yes' if float(x) > 0 else 'No')\n",
    "dfRH2_GTD.groupby(by=['user_verified','reply_count_yes_no']).size()"
   ]
  },
  {
   "cell_type": "code",
   "execution_count": 36,
   "id": "9ff1bf87-8f80-48c6-843c-6850c0e22fc6",
   "metadata": {
    "tags": []
   },
   "outputs": [
    {
     "data": {
      "text/plain": [
       "Ttest_indResult(statistic=2.594760412943199, pvalue=0.03019014818601733)"
      ]
     },
     "execution_count": 36,
     "metadata": {},
     "output_type": "execute_result"
    }
   ],
   "source": [
    "Verified_Reply = [2634, 1896, 1106]\n",
    "Unverified_Reply = [1028, 489, 189]\n",
    "# Conduct normal t-Test since the data groups have equal sizes\n",
    "stats.ttest_ind(a=Verified_Reply, b=Unverified_Reply, alternative='greater')"
   ]
  },
  {
   "cell_type": "markdown",
   "id": "2e94bb86-e9cd-4d61-839b-ebf136186202",
   "metadata": {
    "jp-MarkdownHeadingCollapsed": true,
    "tags": []
   },
   "source": [
    "### Hypothesis RH3\n",
    "Majority of the social media records cited in news articles are non-records."
   ]
  },
  {
   "cell_type": "code",
   "execution_count": 37,
   "id": "ce7764e4-abef-4160-af90-6095b9e72dc8",
   "metadata": {
    "tags": []
   },
   "outputs": [
    {
     "name": "stdout",
     "output_type": "stream",
     "text": [
      "Count of SMC is 4684\n",
      "Count of GTD is 1261\n",
      "Count of SMC - GTD is 3423\n"
     ]
    }
   ],
   "source": [
    "print('Count of SMC is ' + str(len(dfSMC)))\n",
    "print('Count of GTD is ' + str(len(dfGTD)))\n",
    "print('Count of SMC - GTD is ' + str(len(dfSMC)- len(dfGTD)))"
   ]
  },
  {
   "cell_type": "markdown",
   "id": "64208b6c-5082-4dd1-afaa-3b9e4bbecd49",
   "metadata": {
    "jp-MarkdownHeadingCollapsed": true,
    "tags": []
   },
   "source": [
    "### Hypothesis RH4\n",
    "All tweets flagged as ‘possibly_sensitive’ are social media records"
   ]
  },
  {
   "cell_type": "code",
   "execution_count": 38,
   "id": "a190e146-f1d8-4501-a6b7-040fe403cbcd",
   "metadata": {
    "tags": []
   },
   "outputs": [],
   "source": [
    "dfRH4_SMC = dfRH_SMC.convert_dtypes()\n",
    "dfRH4_SMR = dfRH_SMR.convert_dtypes()\n",
    "dfRH4_GTD = dfRH_GTD.convert_dtypes()"
   ]
  },
  {
   "cell_type": "markdown",
   "id": "a5298d19-2f9f-4fb6-90c3-dc1590c31dd0",
   "metadata": {},
   "source": [
    "<b>SMC"
   ]
  },
  {
   "cell_type": "code",
   "execution_count": 39,
   "id": "496aaec3-aa44-4726-974f-26a554dceae4",
   "metadata": {
    "tags": []
   },
   "outputs": [
    {
     "data": {
      "text/plain": [
       "19"
      ]
     },
     "execution_count": 39,
     "metadata": {},
     "output_type": "execute_result"
    }
   ],
   "source": [
    "dfRH4_SMC = dfRH4_SMC[dfRH4_SMC.possibly_sensitive == 'True']\n",
    "len(dfRH4_SMC)"
   ]
  },
  {
   "cell_type": "markdown",
   "id": "cc2f375d-5b60-4631-9067-a3eb78f73584",
   "metadata": {},
   "source": [
    "<b>SMR"
   ]
  },
  {
   "cell_type": "code",
   "execution_count": 40,
   "id": "a96572e0-aeb6-4131-9f1a-d7d90bb49598",
   "metadata": {
    "tags": []
   },
   "outputs": [
    {
     "data": {
      "text/plain": [
       "7"
      ]
     },
     "execution_count": 40,
     "metadata": {},
     "output_type": "execute_result"
    }
   ],
   "source": [
    "dfRH4_SMR = dfRH4_SMR[dfRH4_SMR.possibly_sensitive == 'True']\n",
    "len(dfRH4_SMR)"
   ]
  },
  {
   "cell_type": "markdown",
   "id": "558fe4ee-de58-4f16-90db-e1a50145bcb1",
   "metadata": {
    "tags": []
   },
   "source": [
    "<b>GTD"
   ]
  },
  {
   "cell_type": "code",
   "execution_count": 41,
   "id": "f911aafa-ee6b-419c-b12a-1f636eac61f4",
   "metadata": {
    "tags": []
   },
   "outputs": [
    {
     "data": {
      "text/plain": [
       "6"
      ]
     },
     "execution_count": 41,
     "metadata": {},
     "output_type": "execute_result"
    }
   ],
   "source": [
    "dfRH4_GTD = dfRH4_GTD[dfRH4_GTD.possibly_sensitive == 'True']\n",
    "len(dfRH4_GTD)"
   ]
  },
  {
   "cell_type": "markdown",
   "id": "9b391031-d029-487c-8be9-5cf28597f0a7",
   "metadata": {
    "tags": []
   },
   "source": [
    "### Hypothesis RH5\n",
    "H0: There is no deference in performance between Traditional ML and DL algorithms for the classification of social media records\n",
    "<br>H1: Deep Learning (DL) algorithms will perform differently than Traditional ML algorithms in the classification of social media records<br>\n",
    "Test plan: Welch's 2-sample t-test of independence"
   ]
  },
  {
   "cell_type": "code",
   "execution_count": 2,
   "id": "ca37ae1e-9d80-49f1-9b61-6849904fa155",
   "metadata": {
    "tags": []
   },
   "outputs": [
    {
     "data": {
      "text/plain": [
       "Ttest_indResult(statistic=-0.07070532894054996, pvalue=0.9470261610939597)"
      ]
     },
     "execution_count": 2,
     "metadata": {},
     "output_type": "execute_result"
    }
   ],
   "source": [
    "# Define data groups\n",
    "# TradML_F1Score = [87.13, 82.5, 72.79, 75.45]\n",
    "# DL_F1Score = [92.29, 91.41, 63.51] # with LSTM\n",
    "# Conduct Welch's t-Test with equal_var = False, because the data groups have unequal sizes\n",
    "# stats.ttest_ind(a=TradML_F1Score, b=DL_F1Score, equal_var = False, alternative='two-sided')\n",
    "\n",
    "# use top 3 trad ML and regular t-test\n",
    "TradML_F1Score = [87.13, 82.5, 75.45]  \n",
    "DL_F1Score = [92.29, 91.41, 63.51] # with LSTM\n",
    "stats.ttest_ind(a=TradML_F1Score, b=DL_F1Score, alternative='two-sided')"
   ]
  },
  {
   "cell_type": "markdown",
   "id": "574368f7-68e0-429a-97df-34aae01ad3f8",
   "metadata": {
    "jp-MarkdownHeadingCollapsed": true,
    "tags": []
   },
   "source": [
    "### Hypothesis RH6\n",
    "H0: There is no deference in performance between Traditional ML and DL algorithms for the classification of social media records\n",
    "<br>H1: Deep Learning (DL) algorithms perform better than Traditional ML algorithms in the classification of social media records<br>\n",
    "Test plan: Welch's 2-sample t-test of independence"
   ]
  },
  {
   "cell_type": "code",
   "execution_count": 3,
   "id": "ab314138-713f-488b-a20e-9d73beadc2c5",
   "metadata": {
    "tags": []
   },
   "outputs": [
    {
     "data": {
      "text/plain": [
       "Ttest_indResult(statistic=-2.960425409528834, pvalue=0.020768445179274647)"
      ]
     },
     "execution_count": 3,
     "metadata": {},
     "output_type": "execute_result"
    }
   ],
   "source": [
    "# Define data groups\n",
    "TradML_F1Score = [87.13, 82.5, 75.45]\n",
    "DL_F1Score = [92.29, 91.41, 91.63] # with T5\n",
    "#regular t-test\n",
    "stats.ttest_ind(a=TradML_F1Score, b=DL_F1Score, alternative='less')\n",
    "\n",
    "# Conduct Welch's t-Test with equal_var = False, because the data groups have unequal sizes\n",
    "# stats.ttest_ind(a=TradML_F1Score, b=DL_F1Score, equal_var = False, alternative='less')"
   ]
  },
  {
   "cell_type": "markdown",
   "id": "55fe36a1-7545-42c4-8b41-3054d4d5bdac",
   "metadata": {
    "jp-MarkdownHeadingCollapsed": true,
    "tags": []
   },
   "source": [
    "### Hypothesis RH7\n",
    "H0: Accuracy of predicting decomposed SMR will be the same as accuracy of recomposed SMR<br>\n",
    "H1: Accuracy of predicting decomposed SMR will be less than as accuracy of recomposed SMR. <br>\n",
    "Test plan: 2-sample t-test of independence"
   ]
  },
  {
   "cell_type": "code",
   "execution_count": 48,
   "id": "e7f7a12c-3c25-4df6-9826-246e63cae858",
   "metadata": {
    "tags": []
   },
   "outputs": [
    {
     "data": {
      "text/plain": [
       "Ttest_indResult(statistic=-3.9610795820964153, pvalue=0.008331288596383426)"
      ]
     },
     "execution_count": 48,
     "metadata": {},
     "output_type": "execute_result"
    }
   ],
   "source": [
    "# Define data groups\n",
    "Decomposed_Acc = [87.06,86.07,84.61]\n",
    "Recomposed_Acc = [91.75,91.40,88.73]\n",
    "# Conduct normal t-Test since the data groups have equal sizes\n",
    "stats.ttest_ind(a=Decomposed_Acc, b=Recomposed_Acc, alternative='less')"
   ]
  },
  {
   "cell_type": "markdown",
   "id": "17f5479d-be8e-4cc2-8309-396aadb66a73",
   "metadata": {
    "jp-MarkdownHeadingCollapsed": true,
    "tags": []
   },
   "source": [
    "### Hypothesis RH8\n",
    "RH: Class imbalance will cause the GTxM Classifier algorithms to underperform through the GTxM continuum passes <br>\n",
    "H0: Class imbalance will not affect the GTxM Classifier algorithms' performance through the GTxM continuum passes <br>\n",
    "H1: Class imbalance will lead to lower GTxM Classifier algorithm performance through the GTxM continuum passes <br>\n",
    "Test plan: Perform a one-sample t-test to see if the mean of an unknown population (Avg_Passes1to5_F1score) is lower than known value (Avg_Pass0_F1score). "
   ]
  },
  {
   "cell_type": "code",
   "execution_count": 49,
   "id": "ba940c72-5f90-4b27-8dee-5110f680953e",
   "metadata": {},
   "outputs": [
    {
     "data": {
      "text/plain": [
       "Ttest_1sampResult(statistic=3.4771504789325967, pvalue=0.9872911317060336)"
      ]
     },
     "execution_count": 49,
     "metadata": {},
     "output_type": "execute_result"
    }
   ],
   "source": [
    "Avg_Pass0_F1score = 90.12\n",
    "Avg_Passes1to5_F1score = [90.50, 91.60, 91.73, 92.52, 93.82]\n",
    "# Conduct one-sample t-Test against known value\n",
    "stats.ttest_1samp(a=Avg_Passes1to5_F1score, popmean=Avg_Pass0_F1score, alternative='less')"
   ]
  },
  {
   "cell_type": "markdown",
   "id": "fc3718b6-58d4-458a-9367-b3e8a3e17c05",
   "metadata": {
    "jp-MarkdownHeadingCollapsed": true,
    "tags": []
   },
   "source": [
    "### Hypothesis RH9\n",
    "RH: SBERT algorithm generated labels will produce lower GTxM classifier performance results than labels generated by human operators after Intercoder Reliability<br>\n",
    "H0: SBERT labels will produce the same GTxM classifier performance results as human operators labels<br>\n",
    "H1: SBERT labels will produce lower GTxM classifier performance results than human operators labels<br>\n",
    "Test plan: 2-sample t-test of independence"
   ]
  },
  {
   "cell_type": "code",
   "execution_count": 50,
   "id": "ca576702-f657-4130-9d3f-fe9ce39bd5bf",
   "metadata": {
    "tags": []
   },
   "outputs": [
    {
     "data": {
      "text/plain": [
       "Ttest_indResult(statistic=-0.3655119556375282, pvalue=0.3611711079645545)"
      ]
     },
     "execution_count": 50,
     "metadata": {},
     "output_type": "execute_result"
    }
   ],
   "source": [
    "SBERT_F1scores = [70.9,72.38,45.96,76.63,76.47,82.26]\n",
    "HO_ICR_F1scores = [79.42,76.12,44.37,76.84,81.75,83.49]\n",
    "# Conduct normal t-Test since the data groups have equal sizes\n",
    "stats.ttest_ind(a=SBERT_F1scores, b=HO_ICR_F1scores, alternative='less')"
   ]
  },
  {
   "cell_type": "markdown",
   "id": "e37732c4-637a-4980-a5a2-a24bb27fb548",
   "metadata": {
    "jp-MarkdownHeadingCollapsed": true,
    "tags": []
   },
   "source": [
    "### Hypothesis RH10\n",
    "RH: the CCL Intercoder Reliability human operator effort will be less than 2 human operator effort<br>\n",
    "H0: Human Operator 1 + Human Operator 2 effort will be the same as twice Human Operator 1 effort<br>\n",
    "H1: Human Operator 1 + Human Operator 2 effort will be less than twice Human Operator 1 effort<br>\n",
    "Test plan: 2-sample t-test"
   ]
  },
  {
   "cell_type": "code",
   "execution_count": 51,
   "id": "b886fe3d-8a99-47d0-948c-efa1bc5ace3a",
   "metadata": {
    "tags": []
   },
   "outputs": [
    {
     "data": {
      "text/plain": [
       "Ttest_indResult(statistic=-1.3594754342588802, pvalue=0.10193012928010309)"
      ]
     },
     "execution_count": 51,
     "metadata": {},
     "output_type": "execute_result"
    }
   ],
   "source": [
    "HO1_effort = [407,425,220,251,122,121]\n",
    "HO2_effort = [407,425,220,407,425,220]\n",
    "# Conduct normal t-Test since the data groups have equal sizes\n",
    "stats.ttest_ind(a=HO1_effort, b=HO2_effort, alternative='less')"
   ]
  },
  {
   "cell_type": "markdown",
   "id": "26238791-91fd-4cd8-8ca0-a6638b2e9d9a",
   "metadata": {
    "tags": []
   },
   "source": [
    "### Hypothesis RH11\n",
    "H0: There is no statistical difference in the cosine similarity score of “Social Stories” compared with \"other Ground-truth\" records <br>\n",
    "H1: The cosine similarity scores of “Social Stories” differs significantly compared with \"other Ground-truth\" records<br>\n",
    "Test plan: using the SBERT results for Pass 4, osine similarity scores for “Social Stories” (A) and \"other Ground-truth\" (B) SMRs, then perform a Kruskal-Wallis H to confirm the hypothesis."
   ]
  },
  {
   "cell_type": "code",
   "execution_count": 52,
   "id": "afbed4ca-76b7-410e-8d7f-a4cfc3f4383e",
   "metadata": {
    "tags": []
   },
   "outputs": [
    {
     "data": {
      "text/plain": [
       "297"
      ]
     },
     "execution_count": 52,
     "metadata": {},
     "output_type": "execute_result"
    }
   ],
   "source": [
    "df_pass4_GTD = pd.read_csv('D:/KOPro/PhD/Implementation/SourceCode/py38/GTxM/data/GTxM_Pass4/GTxM_Pass4_GTD_New.csv', dtype=str)\n",
    "len(df_pass4_GTD)"
   ]
  },
  {
   "cell_type": "code",
   "execution_count": 53,
   "id": "62ab2922-9f9e-4a62-9674-609acc079171",
   "metadata": {
    "tags": []
   },
   "outputs": [],
   "source": [
    "df_pass4_GTD.rename(columns={'RecID': 'TID'}, inplace=True)"
   ]
  },
  {
   "cell_type": "code",
   "execution_count": 54,
   "id": "41289fe8-730a-4f5b-8b63-fb6df35fe8aa",
   "metadata": {
    "tags": []
   },
   "outputs": [
    {
     "data": {
      "text/html": [
       "<div>\n",
       "<style scoped>\n",
       "    .dataframe tbody tr th:only-of-type {\n",
       "        vertical-align: middle;\n",
       "    }\n",
       "\n",
       "    .dataframe tbody tr th {\n",
       "        vertical-align: top;\n",
       "    }\n",
       "\n",
       "    .dataframe thead th {\n",
       "        text-align: right;\n",
       "    }\n",
       "</style>\n",
       "<table border=\"1\" class=\"dataframe\">\n",
       "  <thead>\n",
       "    <tr style=\"text-align: right;\">\n",
       "      <th></th>\n",
       "      <th>TID</th>\n",
       "      <th>Label</th>\n",
       "      <th>Target</th>\n",
       "    </tr>\n",
       "  </thead>\n",
       "  <tbody>\n",
       "    <tr>\n",
       "      <th>0</th>\n",
       "      <td>1151389038781390848</td>\n",
       "      <td>Human Rights</td>\n",
       "      <td>5</td>\n",
       "    </tr>\n",
       "    <tr>\n",
       "      <th>1</th>\n",
       "      <td>1177679699369050112</td>\n",
       "      <td>Entertainment</td>\n",
       "      <td>2</td>\n",
       "    </tr>\n",
       "    <tr>\n",
       "      <th>2</th>\n",
       "      <td>1179050498428682240</td>\n",
       "      <td>Politics</td>\n",
       "      <td>6</td>\n",
       "    </tr>\n",
       "    <tr>\n",
       "      <th>3</th>\n",
       "      <td>1179429715867787264</td>\n",
       "      <td>Human Rights</td>\n",
       "      <td>5</td>\n",
       "    </tr>\n",
       "    <tr>\n",
       "      <th>4</th>\n",
       "      <td>1180271642263658497</td>\n",
       "      <td>Politics</td>\n",
       "      <td>6</td>\n",
       "    </tr>\n",
       "  </tbody>\n",
       "</table>\n",
       "</div>"
      ],
      "text/plain": [
       "                   TID          Label Target\n",
       "0  1151389038781390848   Human Rights      5\n",
       "1  1177679699369050112  Entertainment      2\n",
       "2  1179050498428682240       Politics      6\n",
       "3  1179429715867787264   Human Rights      5\n",
       "4  1180271642263658497       Politics      6"
      ]
     },
     "execution_count": 54,
     "metadata": {},
     "output_type": "execute_result"
    }
   ],
   "source": [
    "df_pass4_GTD.head()"
   ]
  },
  {
   "cell_type": "code",
   "execution_count": 55,
   "id": "52dd71aa-6a77-47a0-9f9c-4c6948c059bd",
   "metadata": {
    "tags": []
   },
   "outputs": [
    {
     "data": {
      "text/plain": [
       "27"
      ]
     },
     "execution_count": 55,
     "metadata": {},
     "output_type": "execute_result"
    }
   ],
   "source": [
    "df_pass4_GTD_SS = df_pass4_GTD[df_pass4_GTD.Label == 'Social Stories']\n",
    "len(df_pass4_GTD_SS)"
   ]
  },
  {
   "cell_type": "code",
   "execution_count": 56,
   "id": "505bc57d-2eb9-48ff-9140-c62fa71135c3",
   "metadata": {
    "tags": []
   },
   "outputs": [
    {
     "data": {
      "text/plain": [
       "270"
      ]
     },
     "execution_count": 56,
     "metadata": {},
     "output_type": "execute_result"
    }
   ],
   "source": [
    "df_pass4_GTD_Other = df_pass4_GTD[df_pass4_GTD.Label != 'Social Stories']\n",
    "len(df_pass4_GTD_Other)"
   ]
  },
  {
   "cell_type": "code",
   "execution_count": 57,
   "id": "b3b517de-ecb1-42bd-aeb1-7e04d4fa279a",
   "metadata": {
    "tags": []
   },
   "outputs": [
    {
     "data": {
      "text/plain": [
       "230965"
      ]
     },
     "execution_count": 57,
     "metadata": {},
     "output_type": "execute_result"
    }
   ],
   "source": [
    "# Get the SBERT SMR and Cosine Similarity Score result for all the query strings -- QID is irrelevant and not imported\n",
    "df_pass4_SBERT = pd.read_csv('D:/KOPro/PhD/Implementation/SourceCode/py38/GTxM/data/GTxM_Pass4/CGTsbert_kaggle_pass4.csv', usecols=['QID','TID','Score'], dtype=str)\n",
    "len(df_pass4_SBERT)"
   ]
  },
  {
   "cell_type": "code",
   "execution_count": 58,
   "id": "c2f4535f-c267-4897-87d7-269594b84abb",
   "metadata": {
    "tags": []
   },
   "outputs": [
    {
     "data": {
      "text/plain": [
       "230609"
      ]
     },
     "execution_count": 58,
     "metadata": {},
     "output_type": "execute_result"
    }
   ],
   "source": [
    "# Remove the self-referenced scores i.e. where the QueryID is the same as the matched TweetID (these are invalid scores)\n",
    "df_pass4_SBERT = df_pass4_SBERT[df_pass4_SBERT.QID != df_pass4_SBERT.TID]\n",
    "len(df_pass4_SBERT)"
   ]
  },
  {
   "cell_type": "code",
   "execution_count": 59,
   "id": "af6ea35b-8242-49f4-a524-e16a52cebcc9",
   "metadata": {
    "tags": []
   },
   "outputs": [],
   "source": [
    "# sort by TID (Asc), Score (Desc)\n",
    "# df_pass4_SBERT = df_pass4_SBERT.sort_values(['TID','Score'], ascending=[True, False])\n",
    "# drop duplicates and retain only each unique TID and its top score\n",
    "# df_pass4_SBERT.drop_duplicates(subset='TID', keep='first', inplace=True)\n",
    "# len(df_pass4_SBERT)"
   ]
  },
  {
   "cell_type": "code",
   "execution_count": 60,
   "id": "94fd34ab-4649-49c5-aeef-56b591031a5e",
   "metadata": {
    "tags": []
   },
   "outputs": [
    {
     "data": {
      "text/plain": [
       "29"
      ]
     },
     "execution_count": 60,
     "metadata": {},
     "output_type": "execute_result"
    }
   ],
   "source": [
    "df_RH11_SStories = pd.merge(df_pass4_SBERT,df_pass4_GTD_SS, on='TID')\n",
    "len(df_RH11_SStories)"
   ]
  },
  {
   "cell_type": "code",
   "execution_count": 61,
   "id": "93ec6c1a-62e2-4e61-9f8a-1c33f83fa08a",
   "metadata": {
    "tags": []
   },
   "outputs": [
    {
     "data": {
      "text/html": [
       "<div>\n",
       "<style scoped>\n",
       "    .dataframe tbody tr th:only-of-type {\n",
       "        vertical-align: middle;\n",
       "    }\n",
       "\n",
       "    .dataframe tbody tr th {\n",
       "        vertical-align: top;\n",
       "    }\n",
       "\n",
       "    .dataframe thead th {\n",
       "        text-align: right;\n",
       "    }\n",
       "</style>\n",
       "<table border=\"1\" class=\"dataframe\">\n",
       "  <thead>\n",
       "    <tr style=\"text-align: right;\">\n",
       "      <th></th>\n",
       "      <th>QID</th>\n",
       "      <th>TID</th>\n",
       "      <th>Score</th>\n",
       "      <th>Label</th>\n",
       "      <th>Target</th>\n",
       "    </tr>\n",
       "  </thead>\n",
       "  <tbody>\n",
       "    <tr>\n",
       "      <th>0</th>\n",
       "      <td>1218229901184073729</td>\n",
       "      <td>1182104046213185537</td>\n",
       "      <td>0.3426157832145691</td>\n",
       "      <td>Social Stories</td>\n",
       "      <td>10</td>\n",
       "    </tr>\n",
       "    <tr>\n",
       "      <th>1</th>\n",
       "      <td>1186729408536731648</td>\n",
       "      <td>1202165763093729281</td>\n",
       "      <td>0.46573126316070557</td>\n",
       "      <td>Social Stories</td>\n",
       "      <td>10</td>\n",
       "    </tr>\n",
       "    <tr>\n",
       "      <th>2</th>\n",
       "      <td>1194189805862735872</td>\n",
       "      <td>1218070897925423104</td>\n",
       "      <td>0.36521995067596436</td>\n",
       "      <td>Social Stories</td>\n",
       "      <td>10</td>\n",
       "    </tr>\n",
       "    <tr>\n",
       "      <th>3</th>\n",
       "      <td>1188591243657404418</td>\n",
       "      <td>1188591222413234176</td>\n",
       "      <td>0.47177407145500183</td>\n",
       "      <td>Social Stories</td>\n",
       "      <td>10</td>\n",
       "    </tr>\n",
       "    <tr>\n",
       "      <th>4</th>\n",
       "      <td>1188591243657404418</td>\n",
       "      <td>1188591222413234176</td>\n",
       "      <td>0.35311359167099</td>\n",
       "      <td>Social Stories</td>\n",
       "      <td>10</td>\n",
       "    </tr>\n",
       "    <tr>\n",
       "      <th>5</th>\n",
       "      <td>1188591243657404418</td>\n",
       "      <td>1188591222413234176</td>\n",
       "      <td>0.5234397053718567</td>\n",
       "      <td>Social Stories</td>\n",
       "      <td>10</td>\n",
       "    </tr>\n",
       "    <tr>\n",
       "      <th>6</th>\n",
       "      <td>1188591243657404418</td>\n",
       "      <td>1188591222413234176</td>\n",
       "      <td>0.662091076374054</td>\n",
       "      <td>Social Stories</td>\n",
       "      <td>10</td>\n",
       "    </tr>\n",
       "    <tr>\n",
       "      <th>7</th>\n",
       "      <td>1215067146386059264</td>\n",
       "      <td>1219304506703392768</td>\n",
       "      <td>0.3980175852775574</td>\n",
       "      <td>Social Stories</td>\n",
       "      <td>10</td>\n",
       "    </tr>\n",
       "    <tr>\n",
       "      <th>8</th>\n",
       "      <td>1191616329264041985</td>\n",
       "      <td>1193266932989992960</td>\n",
       "      <td>0.3240981698036194</td>\n",
       "      <td>Social Stories</td>\n",
       "      <td>10</td>\n",
       "    </tr>\n",
       "    <tr>\n",
       "      <th>9</th>\n",
       "      <td>1207489389535866881</td>\n",
       "      <td>1189656804386594821</td>\n",
       "      <td>0.4134630858898163</td>\n",
       "      <td>Social Stories</td>\n",
       "      <td>10</td>\n",
       "    </tr>\n",
       "    <tr>\n",
       "      <th>10</th>\n",
       "      <td>1219281743271944194</td>\n",
       "      <td>1195830523970621441</td>\n",
       "      <td>0.4689098000526428</td>\n",
       "      <td>Social Stories</td>\n",
       "      <td>10</td>\n",
       "    </tr>\n",
       "    <tr>\n",
       "      <th>11</th>\n",
       "      <td>1219281743271944194</td>\n",
       "      <td>1195830523970621441</td>\n",
       "      <td>0.4689098000526428</td>\n",
       "      <td>Social Stories</td>\n",
       "      <td>10</td>\n",
       "    </tr>\n",
       "    <tr>\n",
       "      <th>12</th>\n",
       "      <td>1190021749351616513</td>\n",
       "      <td>1195830523970621441</td>\n",
       "      <td>0.35673007369041443</td>\n",
       "      <td>Social Stories</td>\n",
       "      <td>10</td>\n",
       "    </tr>\n",
       "    <tr>\n",
       "      <th>13</th>\n",
       "      <td>1181266674944602113</td>\n",
       "      <td>1195830523970621441</td>\n",
       "      <td>0.3115238547325134</td>\n",
       "      <td>Social Stories</td>\n",
       "      <td>10</td>\n",
       "    </tr>\n",
       "    <tr>\n",
       "      <th>14</th>\n",
       "      <td>1191063595112521728</td>\n",
       "      <td>1191062762807537665</td>\n",
       "      <td>0.5529511570930481</td>\n",
       "      <td>Social Stories</td>\n",
       "      <td>10</td>\n",
       "    </tr>\n",
       "    <tr>\n",
       "      <th>15</th>\n",
       "      <td>1191063595112521728</td>\n",
       "      <td>1191062762807537665</td>\n",
       "      <td>0.6927598118782043</td>\n",
       "      <td>Social Stories</td>\n",
       "      <td>10</td>\n",
       "    </tr>\n",
       "    <tr>\n",
       "      <th>16</th>\n",
       "      <td>1191063595112521728</td>\n",
       "      <td>1191062762807537665</td>\n",
       "      <td>0.5711874961853027</td>\n",
       "      <td>Social Stories</td>\n",
       "      <td>10</td>\n",
       "    </tr>\n",
       "    <tr>\n",
       "      <th>17</th>\n",
       "      <td>1191063595112521728</td>\n",
       "      <td>1191062762807537665</td>\n",
       "      <td>0.7414647340774536</td>\n",
       "      <td>Social Stories</td>\n",
       "      <td>10</td>\n",
       "    </tr>\n",
       "    <tr>\n",
       "      <th>18</th>\n",
       "      <td>1191063595112521728</td>\n",
       "      <td>1191062762807537665</td>\n",
       "      <td>0.5978564023971558</td>\n",
       "      <td>Social Stories</td>\n",
       "      <td>10</td>\n",
       "    </tr>\n",
       "    <tr>\n",
       "      <th>19</th>\n",
       "      <td>1202920724513595392</td>\n",
       "      <td>1191063595112521728</td>\n",
       "      <td>0.5131159424781799</td>\n",
       "      <td>Social Stories</td>\n",
       "      <td>10</td>\n",
       "    </tr>\n",
       "  </tbody>\n",
       "</table>\n",
       "</div>"
      ],
      "text/plain": [
       "                    QID                  TID                Score  \\\n",
       "0   1218229901184073729  1182104046213185537   0.3426157832145691   \n",
       "1   1186729408536731648  1202165763093729281  0.46573126316070557   \n",
       "2   1194189805862735872  1218070897925423104  0.36521995067596436   \n",
       "3   1188591243657404418  1188591222413234176  0.47177407145500183   \n",
       "4   1188591243657404418  1188591222413234176     0.35311359167099   \n",
       "5   1188591243657404418  1188591222413234176   0.5234397053718567   \n",
       "6   1188591243657404418  1188591222413234176    0.662091076374054   \n",
       "7   1215067146386059264  1219304506703392768   0.3980175852775574   \n",
       "8   1191616329264041985  1193266932989992960   0.3240981698036194   \n",
       "9   1207489389535866881  1189656804386594821   0.4134630858898163   \n",
       "10  1219281743271944194  1195830523970621441   0.4689098000526428   \n",
       "11  1219281743271944194  1195830523970621441   0.4689098000526428   \n",
       "12  1190021749351616513  1195830523970621441  0.35673007369041443   \n",
       "13  1181266674944602113  1195830523970621441   0.3115238547325134   \n",
       "14  1191063595112521728  1191062762807537665   0.5529511570930481   \n",
       "15  1191063595112521728  1191062762807537665   0.6927598118782043   \n",
       "16  1191063595112521728  1191062762807537665   0.5711874961853027   \n",
       "17  1191063595112521728  1191062762807537665   0.7414647340774536   \n",
       "18  1191063595112521728  1191062762807537665   0.5978564023971558   \n",
       "19  1202920724513595392  1191063595112521728   0.5131159424781799   \n",
       "\n",
       "             Label Target  \n",
       "0   Social Stories     10  \n",
       "1   Social Stories     10  \n",
       "2   Social Stories     10  \n",
       "3   Social Stories     10  \n",
       "4   Social Stories     10  \n",
       "5   Social Stories     10  \n",
       "6   Social Stories     10  \n",
       "7   Social Stories     10  \n",
       "8   Social Stories     10  \n",
       "9   Social Stories     10  \n",
       "10  Social Stories     10  \n",
       "11  Social Stories     10  \n",
       "12  Social Stories     10  \n",
       "13  Social Stories     10  \n",
       "14  Social Stories     10  \n",
       "15  Social Stories     10  \n",
       "16  Social Stories     10  \n",
       "17  Social Stories     10  \n",
       "18  Social Stories     10  \n",
       "19  Social Stories     10  "
      ]
     },
     "execution_count": 61,
     "metadata": {},
     "output_type": "execute_result"
    }
   ],
   "source": [
    "df_RH11_SStories.head(20)"
   ]
  },
  {
   "cell_type": "code",
   "execution_count": 62,
   "id": "ec998a23-b8b9-41c5-9d90-ce5bf82faf5b",
   "metadata": {
    "tags": []
   },
   "outputs": [
    {
     "data": {
      "text/plain": [
       "471"
      ]
     },
     "execution_count": 62,
     "metadata": {},
     "output_type": "execute_result"
    }
   ],
   "source": [
    "df_RH11_GTD_Other = pd.merge(df_pass4_SBERT,df_pass4_GTD_Other, on='TID')\n",
    "len(df_RH11_GTD_Other)"
   ]
  },
  {
   "cell_type": "code",
   "execution_count": 63,
   "id": "b07bf6dc-8e99-48d4-9a11-5db3abe90f64",
   "metadata": {
    "tags": []
   },
   "outputs": [
    {
     "data": {
      "text/html": [
       "<div>\n",
       "<style scoped>\n",
       "    .dataframe tbody tr th:only-of-type {\n",
       "        vertical-align: middle;\n",
       "    }\n",
       "\n",
       "    .dataframe tbody tr th {\n",
       "        vertical-align: top;\n",
       "    }\n",
       "\n",
       "    .dataframe thead th {\n",
       "        text-align: right;\n",
       "    }\n",
       "</style>\n",
       "<table border=\"1\" class=\"dataframe\">\n",
       "  <thead>\n",
       "    <tr style=\"text-align: right;\">\n",
       "      <th></th>\n",
       "      <th>QID</th>\n",
       "      <th>TID</th>\n",
       "      <th>Score</th>\n",
       "      <th>Label</th>\n",
       "      <th>Target</th>\n",
       "    </tr>\n",
       "  </thead>\n",
       "  <tbody>\n",
       "    <tr>\n",
       "      <th>0</th>\n",
       "      <td>1183587236039684096</td>\n",
       "      <td>1190587912817123328</td>\n",
       "      <td>0.34404128789901733</td>\n",
       "      <td>Sports</td>\n",
       "      <td>11</td>\n",
       "    </tr>\n",
       "    <tr>\n",
       "      <th>1</th>\n",
       "      <td>1183587236039684096</td>\n",
       "      <td>1211893717990133761</td>\n",
       "      <td>0.3005029559135437</td>\n",
       "      <td>Environmental</td>\n",
       "      <td>3</td>\n",
       "    </tr>\n",
       "    <tr>\n",
       "      <th>2</th>\n",
       "      <td>1183587236039684096</td>\n",
       "      <td>1180763964575289345</td>\n",
       "      <td>0.385413259267807</td>\n",
       "      <td>Entertainment</td>\n",
       "      <td>2</td>\n",
       "    </tr>\n",
       "    <tr>\n",
       "      <th>3</th>\n",
       "      <td>1183587236039684096</td>\n",
       "      <td>1180763964575289345</td>\n",
       "      <td>0.30610784888267517</td>\n",
       "      <td>Entertainment</td>\n",
       "      <td>2</td>\n",
       "    </tr>\n",
       "    <tr>\n",
       "      <th>4</th>\n",
       "      <td>1212015649020686336</td>\n",
       "      <td>1184578713725390852</td>\n",
       "      <td>0.6024719476699829</td>\n",
       "      <td>Politics</td>\n",
       "      <td>6</td>\n",
       "    </tr>\n",
       "    <tr>\n",
       "      <th>5</th>\n",
       "      <td>1189625485124354048</td>\n",
       "      <td>1184578713725390852</td>\n",
       "      <td>0.6697288751602173</td>\n",
       "      <td>Politics</td>\n",
       "      <td>6</td>\n",
       "    </tr>\n",
       "    <tr>\n",
       "      <th>6</th>\n",
       "      <td>1188591243657404418</td>\n",
       "      <td>1184578713725390852</td>\n",
       "      <td>0.4609363377094269</td>\n",
       "      <td>Politics</td>\n",
       "      <td>6</td>\n",
       "    </tr>\n",
       "    <tr>\n",
       "      <th>7</th>\n",
       "      <td>1212015649020686336</td>\n",
       "      <td>1214121238681051136</td>\n",
       "      <td>0.5697686076164246</td>\n",
       "      <td>Politics</td>\n",
       "      <td>6</td>\n",
       "    </tr>\n",
       "    <tr>\n",
       "      <th>8</th>\n",
       "      <td>1189539380932808704</td>\n",
       "      <td>1214121238681051136</td>\n",
       "      <td>0.5902812480926514</td>\n",
       "      <td>Politics</td>\n",
       "      <td>6</td>\n",
       "    </tr>\n",
       "    <tr>\n",
       "      <th>9</th>\n",
       "      <td>1216719991510327296</td>\n",
       "      <td>1214121238681051136</td>\n",
       "      <td>0.4926089346408844</td>\n",
       "      <td>Politics</td>\n",
       "      <td>6</td>\n",
       "    </tr>\n",
       "    <tr>\n",
       "      <th>10</th>\n",
       "      <td>1206499491215532032</td>\n",
       "      <td>1214121238681051136</td>\n",
       "      <td>0.5274856090545654</td>\n",
       "      <td>Politics</td>\n",
       "      <td>6</td>\n",
       "    </tr>\n",
       "    <tr>\n",
       "      <th>11</th>\n",
       "      <td>1189278103216050179</td>\n",
       "      <td>1214121238681051136</td>\n",
       "      <td>0.573570966720581</td>\n",
       "      <td>Politics</td>\n",
       "      <td>6</td>\n",
       "    </tr>\n",
       "    <tr>\n",
       "      <th>12</th>\n",
       "      <td>1189278103216050179</td>\n",
       "      <td>1214121238681051136</td>\n",
       "      <td>0.6705045104026794</td>\n",
       "      <td>Politics</td>\n",
       "      <td>6</td>\n",
       "    </tr>\n",
       "    <tr>\n",
       "      <th>13</th>\n",
       "      <td>1189278103216050179</td>\n",
       "      <td>1214121238681051136</td>\n",
       "      <td>0.5992079973220825</td>\n",
       "      <td>Politics</td>\n",
       "      <td>6</td>\n",
       "    </tr>\n",
       "    <tr>\n",
       "      <th>14</th>\n",
       "      <td>1189278103216050179</td>\n",
       "      <td>1214121238681051136</td>\n",
       "      <td>0.6436206102371216</td>\n",
       "      <td>Politics</td>\n",
       "      <td>6</td>\n",
       "    </tr>\n",
       "    <tr>\n",
       "      <th>15</th>\n",
       "      <td>1189282902946783241</td>\n",
       "      <td>1214121238681051136</td>\n",
       "      <td>0.5004248023033142</td>\n",
       "      <td>Politics</td>\n",
       "      <td>6</td>\n",
       "    </tr>\n",
       "    <tr>\n",
       "      <th>16</th>\n",
       "      <td>1218601518389252096</td>\n",
       "      <td>1214121238681051136</td>\n",
       "      <td>0.6377395391464233</td>\n",
       "      <td>Politics</td>\n",
       "      <td>6</td>\n",
       "    </tr>\n",
       "    <tr>\n",
       "      <th>17</th>\n",
       "      <td>1212015649020686336</td>\n",
       "      <td>1192012923985641472</td>\n",
       "      <td>0.5513791441917419</td>\n",
       "      <td>Politics</td>\n",
       "      <td>6</td>\n",
       "    </tr>\n",
       "    <tr>\n",
       "      <th>18</th>\n",
       "      <td>1189625485124354048</td>\n",
       "      <td>1192012923985641472</td>\n",
       "      <td>0.6439830660820007</td>\n",
       "      <td>Politics</td>\n",
       "      <td>6</td>\n",
       "    </tr>\n",
       "    <tr>\n",
       "      <th>19</th>\n",
       "      <td>1189625485124354048</td>\n",
       "      <td>1192012923985641472</td>\n",
       "      <td>0.5604619979858398</td>\n",
       "      <td>Politics</td>\n",
       "      <td>6</td>\n",
       "    </tr>\n",
       "  </tbody>\n",
       "</table>\n",
       "</div>"
      ],
      "text/plain": [
       "                    QID                  TID                Score  \\\n",
       "0   1183587236039684096  1190587912817123328  0.34404128789901733   \n",
       "1   1183587236039684096  1211893717990133761   0.3005029559135437   \n",
       "2   1183587236039684096  1180763964575289345    0.385413259267807   \n",
       "3   1183587236039684096  1180763964575289345  0.30610784888267517   \n",
       "4   1212015649020686336  1184578713725390852   0.6024719476699829   \n",
       "5   1189625485124354048  1184578713725390852   0.6697288751602173   \n",
       "6   1188591243657404418  1184578713725390852   0.4609363377094269   \n",
       "7   1212015649020686336  1214121238681051136   0.5697686076164246   \n",
       "8   1189539380932808704  1214121238681051136   0.5902812480926514   \n",
       "9   1216719991510327296  1214121238681051136   0.4926089346408844   \n",
       "10  1206499491215532032  1214121238681051136   0.5274856090545654   \n",
       "11  1189278103216050179  1214121238681051136    0.573570966720581   \n",
       "12  1189278103216050179  1214121238681051136   0.6705045104026794   \n",
       "13  1189278103216050179  1214121238681051136   0.5992079973220825   \n",
       "14  1189278103216050179  1214121238681051136   0.6436206102371216   \n",
       "15  1189282902946783241  1214121238681051136   0.5004248023033142   \n",
       "16  1218601518389252096  1214121238681051136   0.6377395391464233   \n",
       "17  1212015649020686336  1192012923985641472   0.5513791441917419   \n",
       "18  1189625485124354048  1192012923985641472   0.6439830660820007   \n",
       "19  1189625485124354048  1192012923985641472   0.5604619979858398   \n",
       "\n",
       "            Label Target  \n",
       "0          Sports     11  \n",
       "1   Environmental      3  \n",
       "2   Entertainment      2  \n",
       "3   Entertainment      2  \n",
       "4        Politics      6  \n",
       "5        Politics      6  \n",
       "6        Politics      6  \n",
       "7        Politics      6  \n",
       "8        Politics      6  \n",
       "9        Politics      6  \n",
       "10       Politics      6  \n",
       "11       Politics      6  \n",
       "12       Politics      6  \n",
       "13       Politics      6  \n",
       "14       Politics      6  \n",
       "15       Politics      6  \n",
       "16       Politics      6  \n",
       "17       Politics      6  \n",
       "18       Politics      6  \n",
       "19       Politics      6  "
      ]
     },
     "execution_count": 63,
     "metadata": {},
     "output_type": "execute_result"
    }
   ],
   "source": [
    "df_RH11_GTD_Other.head(20)"
   ]
  },
  {
   "cell_type": "code",
   "execution_count": 64,
   "id": "d5faab09-43a7-4979-a7f2-d581beca3bb7",
   "metadata": {},
   "outputs": [],
   "source": [
    "df_RH11_SStories.to_csv('df_RH11_SStories_NoQID.csv')"
   ]
  },
  {
   "cell_type": "code",
   "execution_count": 65,
   "id": "003b07d0-abe1-497b-8596-259bec54c011",
   "metadata": {
    "tags": []
   },
   "outputs": [],
   "source": [
    "df_RH11_GTD_Other.to_csv('df_RH11_GTD_Other_NoQID.csv')"
   ]
  },
  {
   "cell_type": "markdown",
   "id": "825dd3aa-3090-4f05-b55f-7d87c69bab47",
   "metadata": {
    "tags": []
   },
   "source": [
    "#### Test using Kruskal Wallis H test\n",
    "The Kruskal-Wallis H test (sometimes also called the \"one-way ANOVA on ranks\") is a rank-based nonparametric test that can be used to determine if there are statistically significant differences between two or more groups of an independent variable on a continuous or ordinal dependent variable. It is considered the nonparametric alternative to the one-way ANOVA, and an extension of the Mann-Whitney U test to allow the comparison of more than two independent groups.<br>\n",
    "https://statistics.laerd.com/spss-tutorials/kruskal-wallis-h-test-using-spss-statistics.php"
   ]
  },
  {
   "cell_type": "code",
   "execution_count": 66,
   "id": "56c7dbf6-bb5b-4e15-8615-e6ca6430bbea",
   "metadata": {
    "tags": []
   },
   "outputs": [
    {
     "data": {
      "text/plain": [
       "KruskalResult(statistic=7.173019807727805, pvalue=0.0074008091024261695)"
      ]
     },
     "execution_count": 66,
     "metadata": {},
     "output_type": "execute_result"
    }
   ],
   "source": [
    "stats.kruskal(df_RH11_SStories['Score'], df_RH11_GTD_Other['Score'], axis=1)"
   ]
  },
  {
   "cell_type": "markdown",
   "id": "a5928f56-d91d-4dd1-ac4b-a2c8600b1193",
   "metadata": {},
   "source": [
    "#### Test using Ztest from statsmodel"
   ]
  },
  {
   "cell_type": "code",
   "execution_count": 67,
   "id": "796528c6-8855-4ef1-8945-de9085de48af",
   "metadata": {
    "tags": []
   },
   "outputs": [],
   "source": [
    "from statsmodels.stats.weightstats import ztest as ztest"
   ]
  },
  {
   "cell_type": "code",
   "execution_count": 68,
   "id": "6322d2be-eb0d-4972-9a96-1259b4d3c382",
   "metadata": {
    "tags": []
   },
   "outputs": [],
   "source": [
    "A = df_RH11_SStories['Score'].tolist()\n",
    "B = df_RH11_GTD_Other['Score'].tolist()"
   ]
  },
  {
   "cell_type": "code",
   "execution_count": 69,
   "id": "201255bb-7583-40e3-9eec-9d15f42d029e",
   "metadata": {
    "tags": []
   },
   "outputs": [],
   "source": [
    "A = [float(i) for i in A]\n",
    "B = [float(i) for i in B]"
   ]
  },
  {
   "cell_type": "code",
   "execution_count": 70,
   "id": "f6c8a5a1-0f7d-4fd7-bc4e-b05b6c69ac29",
   "metadata": {
    "tags": []
   },
   "outputs": [
    {
     "data": {
      "text/plain": [
       "(-2.393875319947415, 0.008335707416480622)"
      ]
     },
     "execution_count": 70,
     "metadata": {},
     "output_type": "execute_result"
    }
   ],
   "source": [
    "ztest(A, B, value=0, alternative='smaller')"
   ]
  },
  {
   "cell_type": "markdown",
   "id": "26fc2335-e1d4-4c3e-86b2-0e17e6327be2",
   "metadata": {
    "tags": []
   },
   "source": [
    "### Hypothesis RH12\n",
    "H0: The GTxM classifier prediction performance to be the same with or without \"Social Stories\"<br>\n",
    "H1: “Social Stories” will cause the GTxM classifier prediction performance to be lower when included than without it."
   ]
  },
  {
   "cell_type": "code",
   "execution_count": 71,
   "id": "a78f2170-33dc-4673-9c0e-2c4dfad3c86c",
   "metadata": {
    "tags": []
   },
   "outputs": [
    {
     "data": {
      "text/plain": [
       "Ttest_indResult(statistic=-5.83313914412357, pvalue=0.0021521575633912716)"
      ]
     },
     "execution_count": 71,
     "metadata": {},
     "output_type": "execute_result"
    }
   ],
   "source": [
    "# Define data groups\n",
    "With_SStories = [42.65,52.20,50.06]\n",
    "Without_SStories = [68.28,69.99,64.55]\n",
    "# Conduct normal t-Test since the data groups have equal sizes\n",
    "stats.ttest_ind(a=With_SStories, b=Without_SStories, alternative='less')"
   ]
  },
  {
   "cell_type": "code",
   "execution_count": null,
   "id": "91ed9b5f-188c-4c81-a309-839861339f94",
   "metadata": {},
   "outputs": [],
   "source": []
  }
 ],
 "metadata": {
  "kernelspec": {
   "display_name": "Python 3 (ipykernel)",
   "language": "python",
   "name": "python3"
  },
  "language_info": {
   "codemirror_mode": {
    "name": "ipython",
    "version": 3
   },
   "file_extension": ".py",
   "mimetype": "text/x-python",
   "name": "python",
   "nbconvert_exporter": "python",
   "pygments_lexer": "ipython3",
   "version": "3.8.16"
  }
 },
 "nbformat": 4,
 "nbformat_minor": 5
}
