{
 "cells": [
  {
   "cell_type": "code",
   "execution_count": 10,
   "id": "2c64f3fd-b50e-4662-af6b-71a7ded45b45",
   "metadata": {
    "tags": []
   },
   "outputs": [],
   "source": [
    "#Credit: https://stats.seandolinar.com/collecting-twitter-data-converting-twitter-json-to-csv-ascii/"
   ]
  },
  {
   "cell_type": "code",
   "execution_count": 1,
   "id": "09b3cb83-8a8f-462f-b96e-8f7358806d19",
   "metadata": {
    "tags": []
   },
   "outputs": [],
   "source": [
    "import json\n",
    "import os\n",
    "import time\n",
    "import csv\n",
    "import pandas as pd\n",
    "import numpy as np"
   ]
  },
  {
   "cell_type": "code",
   "execution_count": 5,
   "id": "377c308b-c80a-420d-8092-e0ecf464f064",
   "metadata": {
    "tags": []
   },
   "outputs": [],
   "source": [
    "filepath = 'D:/KOPro/PhD/DataCollection/Datasets/Evaluation/2021/2021_04_2021_07/'\n",
    "filelist = os.listdir(filepath)"
   ]
  },
  {
   "cell_type": "code",
   "execution_count": 6,
   "id": "68435d82-a3aa-4451-b209-a951b3d8efed",
   "metadata": {
    "tags": []
   },
   "outputs": [],
   "source": [
    "df_rec = pd.DataFrame(columns=['RecID','created_at', 'text','hashtags',\n",
    "                           'InReplyTo','user_id','lang','possibly_sensitive','user_verified','media'])\n",
    "df_sup_header = pd.DataFrame(columns=['RecID','created_at', 'text','hashtags',\n",
    "                           'InReplyTo','user_id','lang','possibly_sensitive','user_verified','media'])\n",
    "df_sup_header.to_csv('data_eval1/df_sup_header.csv', index=False)"
   ]
  },
  {
   "cell_type": "code",
   "execution_count": null,
   "id": "2f034543-8b99-40a5-ab0a-8f4bce3044c6",
   "metadata": {},
   "outputs": [],
   "source": [
    "i = 0\n",
    "for file in filelist:\n",
    "    if file.endswith('.jsonl'):\n",
    "        print(file)\n",
    "        df_sup = pd.DataFrame(columns=['RecID','created_at', 'text','hashtags',\n",
    "                           'InReplyTo','user_id','lang','possibly_sensitive','user_verified','media'])\n",
    "        for line in open(filepath+file, 'r'):\n",
    "            strFileID = file[:len(file)-6]  # remove .jsonl as the equivalent of the TweetID\n",
    "            data = json.loads(line)\n",
    "            dlist = [data.get('id'), \n",
    "                     data.get('created_at'), \n",
    "                     data.get('full_text').replace('\\n',\" \").replace('\\r',\" \"), #remove line feed and carriage returns\n",
    "                     data.get('entities').get('hashtags'),\n",
    "                     data.get('in_reply_to_status_id'), \n",
    "                     data.get('user').get('id'), \n",
    "                     data.get('lang'),\n",
    "                     data.get('possibly_sensitive'),\n",
    "                     data.get('user').get('verified'),\n",
    "                     data.get('entities').get('media', {})]\n",
    "            if str(data.get('id')) == strFileID: # this is a RecTweet\n",
    "                df_rec.loc[len(df_rec)] = dlist\n",
    "            else:\n",
    "                df_sup.loc[len(df_sup)] = dlist\n",
    "        df_sup.to_csv('data_eval1/'+file[:len(file)-6]+'.csv', index=False, header=False)\n",
    "    # if i > 21:\n",
    "    #     break\n",
    "    i=i+1\n",
    "    time.sleep(0.5) # pause for the csv o/i operation to be reliable\n",
    "df_rec.to_csv('data_eval1/Eval1_RecTweets.csv', index=False)\n",
    "print(i)\n",
    "print(\"All done!\")"
   ]
  },
  {
   "cell_type": "code",
   "execution_count": 25,
   "id": "42d2f0ae-ce68-45c2-8fd2-252fee75c323",
   "metadata": {},
   "outputs": [],
   "source": [
    "a = file[:len(file)-6]\n",
    "b = data.get('id')"
   ]
  },
  {
   "cell_type": "code",
   "execution_count": 32,
   "id": "afe9ca07-7b71-49df-b92b-66e3d1efd097",
   "metadata": {
    "tags": []
   },
   "outputs": [
    {
     "data": {
      "text/plain": [
       "'1085959572886560768'"
      ]
     },
     "execution_count": 32,
     "metadata": {},
     "output_type": "execute_result"
    }
   ],
   "source": [
    "a"
   ]
  },
  {
   "cell_type": "code",
   "execution_count": 37,
   "id": "7ab1cea2-8720-4f56-94d4-495d1e6cc703",
   "metadata": {
    "tags": []
   },
   "outputs": [
    {
     "data": {
      "text/plain": [
       "'1085959572886560768'"
      ]
     },
     "execution_count": 37,
     "metadata": {},
     "output_type": "execute_result"
    }
   ],
   "source": [
    "str(b)"
   ]
  },
  {
   "cell_type": "code",
   "execution_count": null,
   "id": "b93afe29-e53d-4e7c-ae9d-065c4ff63024",
   "metadata": {},
   "outputs": [],
   "source": []
  }
 ],
 "metadata": {
  "kernelspec": {
   "display_name": "Python 3 (ipykernel)",
   "language": "python",
   "name": "python3"
  },
  "language_info": {
   "codemirror_mode": {
    "name": "ipython",
    "version": 3
   },
   "file_extension": ".py",
   "mimetype": "text/x-python",
   "name": "python",
   "nbconvert_exporter": "python",
   "pygments_lexer": "ipython3",
   "version": "3.8.16"
  }
 },
 "nbformat": 4,
 "nbformat_minor": 5
}
