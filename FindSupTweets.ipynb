{
 "cells": [
  {
   "cell_type": "code",
   "execution_count": 1,
   "id": "59a7c148-451f-470e-a5a2-461a1741723b",
   "metadata": {
    "tags": []
   },
   "outputs": [],
   "source": [
    "import pandas as pd"
   ]
  },
  {
   "cell_type": "code",
   "execution_count": 3,
   "id": "9307e5f8-9f8b-4231-81f3-94a73a1d2d0c",
   "metadata": {
    "tags": []
   },
   "outputs": [
    {
     "data": {
      "text/plain": [
       "2493070"
      ]
     },
     "execution_count": 3,
     "metadata": {},
     "output_type": "execute_result"
    }
   ],
   "source": [
    "df = pd.read_csv(\"D:/KOPro/PhD/DataCollection/Datasets/NewsCited/Consolidated/SupTweets.csv\", usecols=['id','in_reply_to_status_id'], dtype='str')\n",
    "len(df)"
   ]
  },
  {
   "cell_type": "code",
   "execution_count": 4,
   "id": "59d1bc9f-4755-45e9-a88e-c75568668249",
   "metadata": {
    "tags": []
   },
   "outputs": [],
   "source": [
    "df = df[df.in_reply_to_status_id == '1191062762807537665']"
   ]
  },
  {
   "cell_type": "code",
   "execution_count": 5,
   "id": "496369ca-5829-4057-a105-ace778a96c07",
   "metadata": {
    "tags": []
   },
   "outputs": [
    {
     "data": {
      "text/plain": [
       "897"
      ]
     },
     "execution_count": 5,
     "metadata": {},
     "output_type": "execute_result"
    }
   ],
   "source": [
    "len(df)"
   ]
  },
  {
   "cell_type": "code",
   "execution_count": 6,
   "id": "0e22bb50-5cd8-4526-ac43-28f7146d7c5b",
   "metadata": {
    "tags": []
   },
   "outputs": [
    {
     "data": {
      "text/html": [
       "<div>\n",
       "<style scoped>\n",
       "    .dataframe tbody tr th:only-of-type {\n",
       "        vertical-align: middle;\n",
       "    }\n",
       "\n",
       "    .dataframe tbody tr th {\n",
       "        vertical-align: top;\n",
       "    }\n",
       "\n",
       "    .dataframe thead th {\n",
       "        text-align: right;\n",
       "    }\n",
       "</style>\n",
       "<table border=\"1\" class=\"dataframe\">\n",
       "  <thead>\n",
       "    <tr style=\"text-align: right;\">\n",
       "      <th></th>\n",
       "      <th>id</th>\n",
       "      <th>in_reply_to_status_id</th>\n",
       "    </tr>\n",
       "  </thead>\n",
       "  <tbody>\n",
       "    <tr>\n",
       "      <th>752008</th>\n",
       "      <td>1192824218087542784</td>\n",
       "      <td>1191062762807537665</td>\n",
       "    </tr>\n",
       "    <tr>\n",
       "      <th>752009</th>\n",
       "      <td>1192746113025138688</td>\n",
       "      <td>1191062762807537665</td>\n",
       "    </tr>\n",
       "    <tr>\n",
       "      <th>752010</th>\n",
       "      <td>1192710546937851904</td>\n",
       "      <td>1191062762807537665</td>\n",
       "    </tr>\n",
       "    <tr>\n",
       "      <th>752011</th>\n",
       "      <td>1192665208856158213</td>\n",
       "      <td>1191062762807537665</td>\n",
       "    </tr>\n",
       "    <tr>\n",
       "      <th>752012</th>\n",
       "      <td>1192642939328925696</td>\n",
       "      <td>1191062762807537665</td>\n",
       "    </tr>\n",
       "    <tr>\n",
       "      <th>752013</th>\n",
       "      <td>1192607489583247361</td>\n",
       "      <td>1191062762807537665</td>\n",
       "    </tr>\n",
       "    <tr>\n",
       "      <th>752014</th>\n",
       "      <td>1192561419050504192</td>\n",
       "      <td>1191062762807537665</td>\n",
       "    </tr>\n",
       "    <tr>\n",
       "      <th>752015</th>\n",
       "      <td>1192520090517786624</td>\n",
       "      <td>1191062762807537665</td>\n",
       "    </tr>\n",
       "    <tr>\n",
       "      <th>752016</th>\n",
       "      <td>1192483838871650304</td>\n",
       "      <td>1191062762807537665</td>\n",
       "    </tr>\n",
       "    <tr>\n",
       "      <th>752017</th>\n",
       "      <td>1192479711370321920</td>\n",
       "      <td>1191062762807537665</td>\n",
       "    </tr>\n",
       "  </tbody>\n",
       "</table>\n",
       "</div>"
      ],
      "text/plain": [
       "                         id in_reply_to_status_id\n",
       "752008  1192824218087542784   1191062762807537665\n",
       "752009  1192746113025138688   1191062762807537665\n",
       "752010  1192710546937851904   1191062762807537665\n",
       "752011  1192665208856158213   1191062762807537665\n",
       "752012  1192642939328925696   1191062762807537665\n",
       "752013  1192607489583247361   1191062762807537665\n",
       "752014  1192561419050504192   1191062762807537665\n",
       "752015  1192520090517786624   1191062762807537665\n",
       "752016  1192483838871650304   1191062762807537665\n",
       "752017  1192479711370321920   1191062762807537665"
      ]
     },
     "execution_count": 6,
     "metadata": {},
     "output_type": "execute_result"
    }
   ],
   "source": [
    "df.head(10)"
   ]
  },
  {
   "cell_type": "code",
   "execution_count": null,
   "id": "821116b0-7b51-4762-a38d-16b403d16677",
   "metadata": {},
   "outputs": [],
   "source": []
  }
 ],
 "metadata": {
  "kernelspec": {
   "display_name": "Python 3 (ipykernel)",
   "language": "python",
   "name": "python3"
  },
  "language_info": {
   "codemirror_mode": {
    "name": "ipython",
    "version": 3
   },
   "file_extension": ".py",
   "mimetype": "text/x-python",
   "name": "python",
   "nbconvert_exporter": "python",
   "pygments_lexer": "ipython3",
   "version": "3.8.16"
  }
 },
 "nbformat": 4,
 "nbformat_minor": 5
}
