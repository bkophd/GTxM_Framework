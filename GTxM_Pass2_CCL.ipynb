{
 "cells": [
  {
   "cell_type": "markdown",
   "id": "a342bc27-0775-4969-82f6-5e41b402b934",
   "metadata": {},
   "source": [
    "## GTxM Pass 2: reGTr + CGT_Confirm_0_70"
   ]
  },
  {
   "cell_type": "code",
   "execution_count": 1,
   "id": "8d79ce3a-bf58-49e3-831a-a11590c617fc",
   "metadata": {},
   "outputs": [],
   "source": [
    "from sklearn.model_selection import train_test_split\n",
    "import pandas as pd"
   ]
  },
  {
   "cell_type": "markdown",
   "id": "577e7d14-1dd8-4a93-9e9f-ef10dfbe6809",
   "metadata": {
    "tags": []
   },
   "source": [
    "### Create Training datasets from existing GTD"
   ]
  },
  {
   "cell_type": "code",
   "execution_count": 2,
   "id": "72cac789-3270-4665-af03-9686a58a2bd9",
   "metadata": {},
   "outputs": [],
   "source": [
    "df = pd.read_csv('data/reGTrV2/reGTrV2_SMR_Tokens.csv', encoding='ISO-8859-1')"
   ]
  },
  {
   "cell_type": "code",
   "execution_count": 3,
   "id": "60ced4b8-96e2-4305-a5b5-7cde5c534303",
   "metadata": {},
   "outputs": [
    {
     "data": {
      "text/plain": [
       "854"
      ]
     },
     "execution_count": 3,
     "metadata": {},
     "output_type": "execute_result"
    }
   ],
   "source": [
    "len(df)"
   ]
  },
  {
   "cell_type": "code",
   "execution_count": 4,
   "id": "2394fb3f-0718-44d0-bb07-98c681357acf",
   "metadata": {},
   "outputs": [
    {
     "data": {
      "text/html": [
       "<div>\n",
       "<style scoped>\n",
       "    .dataframe tbody tr th:only-of-type {\n",
       "        vertical-align: middle;\n",
       "    }\n",
       "\n",
       "    .dataframe tbody tr th {\n",
       "        vertical-align: top;\n",
       "    }\n",
       "\n",
       "    .dataframe thead th {\n",
       "        text-align: right;\n",
       "    }\n",
       "</style>\n",
       "<table border=\"1\" class=\"dataframe\">\n",
       "  <thead>\n",
       "    <tr style=\"text-align: right;\">\n",
       "      <th></th>\n",
       "      <th>Unnamed: 0</th>\n",
       "      <th>RecID</th>\n",
       "      <th>Target</th>\n",
       "      <th>rowid</th>\n",
       "      <th>PubTitle</th>\n",
       "      <th>RecDoc</th>\n",
       "      <th>countSupTweets</th>\n",
       "      <th>smrHashtags</th>\n",
       "      <th>smrMentions</th>\n",
       "      <th>smrNER</th>\n",
       "      <th>smrNouns</th>\n",
       "      <th>smrVerbs</th>\n",
       "      <th>smrAdverbs</th>\n",
       "      <th>smrAdjectives</th>\n",
       "      <th>smrTopText</th>\n",
       "      <th>smrSummary</th>\n",
       "    </tr>\n",
       "    <tr>\n",
       "      <th>Label</th>\n",
       "      <th></th>\n",
       "      <th></th>\n",
       "      <th></th>\n",
       "      <th></th>\n",
       "      <th></th>\n",
       "      <th></th>\n",
       "      <th></th>\n",
       "      <th></th>\n",
       "      <th></th>\n",
       "      <th></th>\n",
       "      <th></th>\n",
       "      <th></th>\n",
       "      <th></th>\n",
       "      <th></th>\n",
       "      <th></th>\n",
       "      <th></th>\n",
       "    </tr>\n",
       "  </thead>\n",
       "  <tbody>\n",
       "    <tr>\n",
       "      <th>Business</th>\n",
       "      <td>73</td>\n",
       "      <td>73</td>\n",
       "      <td>73</td>\n",
       "      <td>73</td>\n",
       "      <td>73</td>\n",
       "      <td>73</td>\n",
       "      <td>73</td>\n",
       "      <td>73</td>\n",
       "      <td>73</td>\n",
       "      <td>73</td>\n",
       "      <td>73</td>\n",
       "      <td>73</td>\n",
       "      <td>73</td>\n",
       "      <td>73</td>\n",
       "      <td>73</td>\n",
       "      <td>73</td>\n",
       "    </tr>\n",
       "    <tr>\n",
       "      <th>Entertainment</th>\n",
       "      <td>143</td>\n",
       "      <td>143</td>\n",
       "      <td>143</td>\n",
       "      <td>143</td>\n",
       "      <td>143</td>\n",
       "      <td>143</td>\n",
       "      <td>143</td>\n",
       "      <td>143</td>\n",
       "      <td>143</td>\n",
       "      <td>143</td>\n",
       "      <td>143</td>\n",
       "      <td>143</td>\n",
       "      <td>143</td>\n",
       "      <td>143</td>\n",
       "      <td>143</td>\n",
       "      <td>143</td>\n",
       "    </tr>\n",
       "    <tr>\n",
       "      <th>Environmental</th>\n",
       "      <td>7</td>\n",
       "      <td>7</td>\n",
       "      <td>7</td>\n",
       "      <td>7</td>\n",
       "      <td>7</td>\n",
       "      <td>7</td>\n",
       "      <td>7</td>\n",
       "      <td>7</td>\n",
       "      <td>7</td>\n",
       "      <td>7</td>\n",
       "      <td>7</td>\n",
       "      <td>7</td>\n",
       "      <td>7</td>\n",
       "      <td>7</td>\n",
       "      <td>7</td>\n",
       "      <td>7</td>\n",
       "    </tr>\n",
       "    <tr>\n",
       "      <th>Human Rights</th>\n",
       "      <td>53</td>\n",
       "      <td>53</td>\n",
       "      <td>53</td>\n",
       "      <td>53</td>\n",
       "      <td>53</td>\n",
       "      <td>53</td>\n",
       "      <td>53</td>\n",
       "      <td>53</td>\n",
       "      <td>53</td>\n",
       "      <td>53</td>\n",
       "      <td>53</td>\n",
       "      <td>53</td>\n",
       "      <td>53</td>\n",
       "      <td>53</td>\n",
       "      <td>53</td>\n",
       "      <td>53</td>\n",
       "    </tr>\n",
       "    <tr>\n",
       "      <th>Law and Order</th>\n",
       "      <td>1</td>\n",
       "      <td>1</td>\n",
       "      <td>1</td>\n",
       "      <td>1</td>\n",
       "      <td>1</td>\n",
       "      <td>1</td>\n",
       "      <td>1</td>\n",
       "      <td>1</td>\n",
       "      <td>1</td>\n",
       "      <td>1</td>\n",
       "      <td>1</td>\n",
       "      <td>1</td>\n",
       "      <td>1</td>\n",
       "      <td>1</td>\n",
       "      <td>1</td>\n",
       "      <td>1</td>\n",
       "    </tr>\n",
       "    <tr>\n",
       "      <th>Obituary</th>\n",
       "      <td>100</td>\n",
       "      <td>100</td>\n",
       "      <td>100</td>\n",
       "      <td>100</td>\n",
       "      <td>100</td>\n",
       "      <td>100</td>\n",
       "      <td>100</td>\n",
       "      <td>100</td>\n",
       "      <td>100</td>\n",
       "      <td>100</td>\n",
       "      <td>100</td>\n",
       "      <td>100</td>\n",
       "      <td>100</td>\n",
       "      <td>100</td>\n",
       "      <td>100</td>\n",
       "      <td>100</td>\n",
       "    </tr>\n",
       "    <tr>\n",
       "      <th>Politics</th>\n",
       "      <td>380</td>\n",
       "      <td>380</td>\n",
       "      <td>380</td>\n",
       "      <td>380</td>\n",
       "      <td>380</td>\n",
       "      <td>380</td>\n",
       "      <td>380</td>\n",
       "      <td>380</td>\n",
       "      <td>380</td>\n",
       "      <td>380</td>\n",
       "      <td>380</td>\n",
       "      <td>380</td>\n",
       "      <td>380</td>\n",
       "      <td>380</td>\n",
       "      <td>380</td>\n",
       "      <td>380</td>\n",
       "    </tr>\n",
       "    <tr>\n",
       "      <th>Social Stories</th>\n",
       "      <td>24</td>\n",
       "      <td>24</td>\n",
       "      <td>24</td>\n",
       "      <td>24</td>\n",
       "      <td>24</td>\n",
       "      <td>24</td>\n",
       "      <td>24</td>\n",
       "      <td>24</td>\n",
       "      <td>24</td>\n",
       "      <td>24</td>\n",
       "      <td>24</td>\n",
       "      <td>24</td>\n",
       "      <td>24</td>\n",
       "      <td>24</td>\n",
       "      <td>24</td>\n",
       "      <td>24</td>\n",
       "    </tr>\n",
       "    <tr>\n",
       "      <th>Sports</th>\n",
       "      <td>73</td>\n",
       "      <td>73</td>\n",
       "      <td>73</td>\n",
       "      <td>73</td>\n",
       "      <td>73</td>\n",
       "      <td>73</td>\n",
       "      <td>73</td>\n",
       "      <td>73</td>\n",
       "      <td>73</td>\n",
       "      <td>73</td>\n",
       "      <td>73</td>\n",
       "      <td>73</td>\n",
       "      <td>73</td>\n",
       "      <td>73</td>\n",
       "      <td>73</td>\n",
       "      <td>73</td>\n",
       "    </tr>\n",
       "  </tbody>\n",
       "</table>\n",
       "</div>"
      ],
      "text/plain": [
       "                Unnamed: 0  RecID  Target  rowid  PubTitle  RecDoc  \\\n",
       "Label                                                                \n",
       "Business                73     73      73     73        73      73   \n",
       "Entertainment          143    143     143    143       143     143   \n",
       "Environmental            7      7       7      7         7       7   \n",
       "Human Rights            53     53      53     53        53      53   \n",
       "Law and Order            1      1       1      1         1       1   \n",
       "Obituary               100    100     100    100       100     100   \n",
       "Politics               380    380     380    380       380     380   \n",
       "Social Stories          24     24      24     24        24      24   \n",
       "Sports                  73     73      73     73        73      73   \n",
       "\n",
       "                countSupTweets  smrHashtags  smrMentions  smrNER  smrNouns  \\\n",
       "Label                                                                        \n",
       "Business                    73           73           73      73        73   \n",
       "Entertainment              143          143          143     143       143   \n",
       "Environmental                7            7            7       7         7   \n",
       "Human Rights                53           53           53      53        53   \n",
       "Law and Order                1            1            1       1         1   \n",
       "Obituary                   100          100          100     100       100   \n",
       "Politics                   380          380          380     380       380   \n",
       "Social Stories              24           24           24      24        24   \n",
       "Sports                      73           73           73      73        73   \n",
       "\n",
       "                smrVerbs  smrAdverbs  smrAdjectives  smrTopText  smrSummary  \n",
       "Label                                                                        \n",
       "Business              73          73             73          73          73  \n",
       "Entertainment        143         143            143         143         143  \n",
       "Environmental          7           7              7           7           7  \n",
       "Human Rights          53          53             53          53          53  \n",
       "Law and Order          1           1              1           1           1  \n",
       "Obituary             100         100            100         100         100  \n",
       "Politics             380         380            380         380         380  \n",
       "Social Stories        24          24             24          24          24  \n",
       "Sports                73          73             73          73          73  "
      ]
     },
     "execution_count": 4,
     "metadata": {},
     "output_type": "execute_result"
    }
   ],
   "source": [
    "df.groupby(by='Label').count() #.to_csv('reGTr_grouped.csv')"
   ]
  },
  {
   "cell_type": "code",
   "execution_count": 5,
   "id": "2756c50f-0004-40c1-8dba-78abb3285902",
   "metadata": {},
   "outputs": [],
   "source": [
    "# Remove Environmental, Health, Social Stories and 'Law and Order' since the count of SMRs are less than 50\n",
    "df_train = df[df.Label != 'Environmental']\n",
    "df_train = df_train[df_train.Label != 'Health']\n",
    "df_train = df_train[df_train.Label != 'Law and Order']\n",
    "df_train = df_train[df_train.Label != 'Social Stories']"
   ]
  },
  {
   "cell_type": "code",
   "execution_count": 6,
   "id": "345ffe99-ac9f-45c2-aa8c-64846034f9a7",
   "metadata": {},
   "outputs": [
    {
     "data": {
      "text/plain": [
       "822"
      ]
     },
     "execution_count": 6,
     "metadata": {},
     "output_type": "execute_result"
    }
   ],
   "source": [
    "len(df_train)"
   ]
  },
  {
   "cell_type": "code",
   "execution_count": 14,
   "id": "4e75e93b-e937-4478-94e3-e51a37747733",
   "metadata": {},
   "outputs": [],
   "source": [
    "# Save the rejected SMRs for use in the next GTxM continuum pass\n",
    "d1 = df[df.Label == 'Environmental']\n",
    "d2 = df[df.Label == 'Health']\n",
    "d3 = df[df.Label == 'Law and Order']\n",
    "d4 = df[df.Label == 'Social Stories']"
   ]
  },
  {
   "cell_type": "code",
   "execution_count": 15,
   "id": "7e0ee15a-7ea4-465a-ba4c-3b12d660315f",
   "metadata": {},
   "outputs": [],
   "source": [
    "df_Unusedt_GTD = pd.concat([d1,d2,d3,d4], axis=1)"
   ]
  },
  {
   "cell_type": "code",
   "execution_count": 16,
   "id": "ad719018-7293-45cc-8ad6-9d74e91a2a7c",
   "metadata": {},
   "outputs": [
    {
     "data": {
      "text/plain": [
       "32"
      ]
     },
     "execution_count": 16,
     "metadata": {},
     "output_type": "execute_result"
    }
   ],
   "source": [
    "len(df_Unused_GTD)"
   ]
  },
  {
   "cell_type": "code",
   "execution_count": 18,
   "id": "af6b3b6d-9436-4f4d-a28b-6ccc7f68b877",
   "metadata": {},
   "outputs": [],
   "source": [
    "df_train.to_csv('data/GTxM_Pass2/GTxM_Pass2_GTD_Train_Tokens.csv')"
   ]
  },
  {
   "cell_type": "code",
   "execution_count": 19,
   "id": "d9416b00-12f5-440b-b672-0e6d618e15ed",
   "metadata": {},
   "outputs": [],
   "source": [
    "df_Unused_GTD.to_csv('data/GTxM_Pass2/GTxM_Pass2_GTD_Unused_Tokens.csv')"
   ]
  },
  {
   "cell_type": "markdown",
   "id": "b870bf77-9602-4b2e-8424-2cba545941c5",
   "metadata": {
    "jp-MarkdownHeadingCollapsed": true,
    "tags": []
   },
   "source": [
    "### Create Test datasets from CGT Labeled Data"
   ]
  },
  {
   "cell_type": "code",
   "execution_count": 23,
   "id": "bfa61729-d785-4f07-942a-58c9d535c0d1",
   "metadata": {},
   "outputs": [],
   "source": [
    "df_cgt = pd.read_csv('data/CGTv2/CGT_Labeled_Tokens_0_70.csv', encoding='ISO-8859-1')"
   ]
  },
  {
   "cell_type": "code",
   "execution_count": 24,
   "id": "ac618180-d8cc-4a88-8c6f-3a2beeb730f2",
   "metadata": {},
   "outputs": [
    {
     "data": {
      "text/plain": [
       "407"
      ]
     },
     "execution_count": 24,
     "metadata": {},
     "output_type": "execute_result"
    }
   ],
   "source": [
    "len(df_cgt)"
   ]
  },
  {
   "cell_type": "code",
   "execution_count": 25,
   "id": "6bc43b16-e2ef-48aa-bec1-7bb39b2fb58e",
   "metadata": {},
   "outputs": [
    {
     "data": {
      "text/html": [
       "<div>\n",
       "<style scoped>\n",
       "    .dataframe tbody tr th:only-of-type {\n",
       "        vertical-align: middle;\n",
       "    }\n",
       "\n",
       "    .dataframe tbody tr th {\n",
       "        vertical-align: top;\n",
       "    }\n",
       "\n",
       "    .dataframe thead th {\n",
       "        text-align: right;\n",
       "    }\n",
       "</style>\n",
       "<table border=\"1\" class=\"dataframe\">\n",
       "  <thead>\n",
       "    <tr style=\"text-align: right;\">\n",
       "      <th></th>\n",
       "      <th>Unnamed: 0</th>\n",
       "      <th>RecID</th>\n",
       "      <th>Target</th>\n",
       "      <th>rowid</th>\n",
       "      <th>PubTitle</th>\n",
       "      <th>RecDoc</th>\n",
       "      <th>countSupTweets</th>\n",
       "      <th>smrHashtags</th>\n",
       "      <th>smrMentions</th>\n",
       "      <th>smrNER</th>\n",
       "      <th>smrNouns</th>\n",
       "      <th>smrVerbs</th>\n",
       "      <th>smrAdverbs</th>\n",
       "      <th>smrAdjectives</th>\n",
       "      <th>smrTopText</th>\n",
       "      <th>smrSummary</th>\n",
       "    </tr>\n",
       "    <tr>\n",
       "      <th>Label</th>\n",
       "      <th></th>\n",
       "      <th></th>\n",
       "      <th></th>\n",
       "      <th></th>\n",
       "      <th></th>\n",
       "      <th></th>\n",
       "      <th></th>\n",
       "      <th></th>\n",
       "      <th></th>\n",
       "      <th></th>\n",
       "      <th></th>\n",
       "      <th></th>\n",
       "      <th></th>\n",
       "      <th></th>\n",
       "      <th></th>\n",
       "      <th></th>\n",
       "    </tr>\n",
       "  </thead>\n",
       "  <tbody>\n",
       "    <tr>\n",
       "      <th>Business</th>\n",
       "      <td>4</td>\n",
       "      <td>4</td>\n",
       "      <td>4</td>\n",
       "      <td>4</td>\n",
       "      <td>4</td>\n",
       "      <td>4</td>\n",
       "      <td>4</td>\n",
       "      <td>4</td>\n",
       "      <td>4</td>\n",
       "      <td>4</td>\n",
       "      <td>4</td>\n",
       "      <td>4</td>\n",
       "      <td>4</td>\n",
       "      <td>4</td>\n",
       "      <td>4</td>\n",
       "      <td>4</td>\n",
       "    </tr>\n",
       "    <tr>\n",
       "      <th>Entertainment</th>\n",
       "      <td>22</td>\n",
       "      <td>22</td>\n",
       "      <td>22</td>\n",
       "      <td>22</td>\n",
       "      <td>22</td>\n",
       "      <td>22</td>\n",
       "      <td>22</td>\n",
       "      <td>22</td>\n",
       "      <td>22</td>\n",
       "      <td>22</td>\n",
       "      <td>22</td>\n",
       "      <td>22</td>\n",
       "      <td>22</td>\n",
       "      <td>22</td>\n",
       "      <td>22</td>\n",
       "      <td>22</td>\n",
       "    </tr>\n",
       "    <tr>\n",
       "      <th>Environmental</th>\n",
       "      <td>40</td>\n",
       "      <td>40</td>\n",
       "      <td>40</td>\n",
       "      <td>40</td>\n",
       "      <td>40</td>\n",
       "      <td>40</td>\n",
       "      <td>40</td>\n",
       "      <td>40</td>\n",
       "      <td>40</td>\n",
       "      <td>40</td>\n",
       "      <td>40</td>\n",
       "      <td>40</td>\n",
       "      <td>40</td>\n",
       "      <td>40</td>\n",
       "      <td>40</td>\n",
       "      <td>40</td>\n",
       "    </tr>\n",
       "    <tr>\n",
       "      <th>Health</th>\n",
       "      <td>4</td>\n",
       "      <td>4</td>\n",
       "      <td>4</td>\n",
       "      <td>4</td>\n",
       "      <td>4</td>\n",
       "      <td>4</td>\n",
       "      <td>4</td>\n",
       "      <td>4</td>\n",
       "      <td>4</td>\n",
       "      <td>4</td>\n",
       "      <td>4</td>\n",
       "      <td>4</td>\n",
       "      <td>4</td>\n",
       "      <td>4</td>\n",
       "      <td>4</td>\n",
       "      <td>4</td>\n",
       "    </tr>\n",
       "    <tr>\n",
       "      <th>Human Rights</th>\n",
       "      <td>40</td>\n",
       "      <td>40</td>\n",
       "      <td>40</td>\n",
       "      <td>40</td>\n",
       "      <td>40</td>\n",
       "      <td>40</td>\n",
       "      <td>40</td>\n",
       "      <td>40</td>\n",
       "      <td>40</td>\n",
       "      <td>40</td>\n",
       "      <td>40</td>\n",
       "      <td>40</td>\n",
       "      <td>40</td>\n",
       "      <td>40</td>\n",
       "      <td>40</td>\n",
       "      <td>40</td>\n",
       "    </tr>\n",
       "    <tr>\n",
       "      <th>Law and Order</th>\n",
       "      <td>37</td>\n",
       "      <td>37</td>\n",
       "      <td>37</td>\n",
       "      <td>37</td>\n",
       "      <td>37</td>\n",
       "      <td>37</td>\n",
       "      <td>37</td>\n",
       "      <td>37</td>\n",
       "      <td>37</td>\n",
       "      <td>37</td>\n",
       "      <td>37</td>\n",
       "      <td>37</td>\n",
       "      <td>37</td>\n",
       "      <td>37</td>\n",
       "      <td>37</td>\n",
       "      <td>37</td>\n",
       "    </tr>\n",
       "    <tr>\n",
       "      <th>Obituary</th>\n",
       "      <td>64</td>\n",
       "      <td>64</td>\n",
       "      <td>64</td>\n",
       "      <td>64</td>\n",
       "      <td>64</td>\n",
       "      <td>64</td>\n",
       "      <td>64</td>\n",
       "      <td>64</td>\n",
       "      <td>64</td>\n",
       "      <td>64</td>\n",
       "      <td>64</td>\n",
       "      <td>64</td>\n",
       "      <td>64</td>\n",
       "      <td>64</td>\n",
       "      <td>64</td>\n",
       "      <td>64</td>\n",
       "    </tr>\n",
       "    <tr>\n",
       "      <th>Politics</th>\n",
       "      <td>184</td>\n",
       "      <td>184</td>\n",
       "      <td>184</td>\n",
       "      <td>184</td>\n",
       "      <td>184</td>\n",
       "      <td>184</td>\n",
       "      <td>184</td>\n",
       "      <td>184</td>\n",
       "      <td>184</td>\n",
       "      <td>184</td>\n",
       "      <td>184</td>\n",
       "      <td>184</td>\n",
       "      <td>184</td>\n",
       "      <td>184</td>\n",
       "      <td>184</td>\n",
       "      <td>184</td>\n",
       "    </tr>\n",
       "    <tr>\n",
       "      <th>Social Stories</th>\n",
       "      <td>9</td>\n",
       "      <td>9</td>\n",
       "      <td>9</td>\n",
       "      <td>9</td>\n",
       "      <td>9</td>\n",
       "      <td>9</td>\n",
       "      <td>9</td>\n",
       "      <td>9</td>\n",
       "      <td>9</td>\n",
       "      <td>9</td>\n",
       "      <td>9</td>\n",
       "      <td>9</td>\n",
       "      <td>9</td>\n",
       "      <td>9</td>\n",
       "      <td>9</td>\n",
       "      <td>9</td>\n",
       "    </tr>\n",
       "    <tr>\n",
       "      <th>Sports</th>\n",
       "      <td>3</td>\n",
       "      <td>3</td>\n",
       "      <td>3</td>\n",
       "      <td>3</td>\n",
       "      <td>3</td>\n",
       "      <td>3</td>\n",
       "      <td>3</td>\n",
       "      <td>3</td>\n",
       "      <td>3</td>\n",
       "      <td>3</td>\n",
       "      <td>3</td>\n",
       "      <td>3</td>\n",
       "      <td>3</td>\n",
       "      <td>3</td>\n",
       "      <td>3</td>\n",
       "      <td>3</td>\n",
       "    </tr>\n",
       "  </tbody>\n",
       "</table>\n",
       "</div>"
      ],
      "text/plain": [
       "                Unnamed: 0  RecID  Target  rowid  PubTitle  RecDoc  \\\n",
       "Label                                                                \n",
       "Business                 4      4       4      4         4       4   \n",
       "Entertainment           22     22      22     22        22      22   \n",
       "Environmental           40     40      40     40        40      40   \n",
       "Health                   4      4       4      4         4       4   \n",
       "Human Rights            40     40      40     40        40      40   \n",
       "Law and Order           37     37      37     37        37      37   \n",
       "Obituary                64     64      64     64        64      64   \n",
       "Politics               184    184     184    184       184     184   \n",
       "Social Stories           9      9       9      9         9       9   \n",
       "Sports                   3      3       3      3         3       3   \n",
       "\n",
       "                countSupTweets  smrHashtags  smrMentions  smrNER  smrNouns  \\\n",
       "Label                                                                        \n",
       "Business                     4            4            4       4         4   \n",
       "Entertainment               22           22           22      22        22   \n",
       "Environmental               40           40           40      40        40   \n",
       "Health                       4            4            4       4         4   \n",
       "Human Rights                40           40           40      40        40   \n",
       "Law and Order               37           37           37      37        37   \n",
       "Obituary                    64           64           64      64        64   \n",
       "Politics                   184          184          184     184       184   \n",
       "Social Stories               9            9            9       9         9   \n",
       "Sports                       3            3            3       3         3   \n",
       "\n",
       "                smrVerbs  smrAdverbs  smrAdjectives  smrTopText  smrSummary  \n",
       "Label                                                                        \n",
       "Business               4           4              4           4           4  \n",
       "Entertainment         22          22             22          22          22  \n",
       "Environmental         40          40             40          40          40  \n",
       "Health                 4           4              4           4           4  \n",
       "Human Rights          40          40             40          40          40  \n",
       "Law and Order         37          37             37          37          37  \n",
       "Obituary              64          64             64          64          64  \n",
       "Politics             184         184            184         184         184  \n",
       "Social Stories         9           9              9           9           9  \n",
       "Sports                 3           3              3           3           3  "
      ]
     },
     "execution_count": 25,
     "metadata": {},
     "output_type": "execute_result"
    }
   ],
   "source": [
    "df_cgt.groupby(by='Label').count() #.to_csv('CGT_grouped.csv')"
   ]
  },
  {
   "cell_type": "markdown",
   "id": "423a2db4-d60b-4024-8d65-afcabf6072db",
   "metadata": {},
   "source": [
    "#### Remove classes with less than 50 training SMRs"
   ]
  },
  {
   "cell_type": "code",
   "execution_count": 26,
   "id": "028aba1a-32fa-42ff-9db8-f47b0b7c49f0",
   "metadata": {},
   "outputs": [],
   "source": [
    "df_test = df_cgt[df_cgt.Label != 'Environmental']\n",
    "df_test = df_test[df_test.Label != 'Health']\n",
    "df_test = df_test[df_test.Label != 'Law and Order']\n",
    "df_test = df_test[df_test.Label != 'Social Stories']"
   ]
  },
  {
   "cell_type": "code",
   "execution_count": 27,
   "id": "992b7d59-406c-42e1-9134-d15bc7fe4539",
   "metadata": {},
   "outputs": [
    {
     "data": {
      "text/plain": [
       "317"
      ]
     },
     "execution_count": 27,
     "metadata": {},
     "output_type": "execute_result"
    }
   ],
   "source": [
    "len(df_test)"
   ]
  },
  {
   "cell_type": "code",
   "execution_count": 28,
   "id": "b02eb948-02b2-4d02-91e9-e7bdb5721d8c",
   "metadata": {},
   "outputs": [],
   "source": [
    "d1 = df_cgt[df_cgt.Label == 'Environmental']\n",
    "d2 = df_cgt[df_cgt.Label == 'Health']\n",
    "d3 = df_cgt[df_cgt.Label == 'Law and Order']\n",
    "d4 = df_cgt[df_cgt.Label == 'Social Stories']"
   ]
  },
  {
   "cell_type": "code",
   "execution_count": 29,
   "id": "6a07112a-9b68-4d93-b5c3-ee89a656c570",
   "metadata": {},
   "outputs": [],
   "source": [
    "df_Unused_CGT = pd.concat([d1,d2,d3,d4], axis=1)"
   ]
  },
  {
   "cell_type": "code",
   "execution_count": 30,
   "id": "7b6eaa87-0ffc-4c26-bc94-cd521408fe9f",
   "metadata": {},
   "outputs": [
    {
     "data": {
      "text/plain": [
       "90"
      ]
     },
     "execution_count": 30,
     "metadata": {},
     "output_type": "execute_result"
    }
   ],
   "source": [
    "len(df_Unused_CGT)"
   ]
  },
  {
   "cell_type": "code",
   "execution_count": 31,
   "id": "632ecfdc-85cc-4353-a22e-75f11563fdf1",
   "metadata": {},
   "outputs": [],
   "source": [
    "df_test.to_csv('data/GTxM_Pass2/GTxM_Pass2_CGT_Test_Tokens.csv')"
   ]
  },
  {
   "cell_type": "code",
   "execution_count": 32,
   "id": "1f958325-7367-412e-aa90-2e0131c7110b",
   "metadata": {},
   "outputs": [],
   "source": [
    "df_Unused_CGT.to_csv('data/GTxM_Pass2/GTxM_Pass2_CGT_Unused_Tokens.csv')"
   ]
  },
  {
   "cell_type": "code",
   "execution_count": null,
   "id": "010b9a0e-0ea9-4704-93b8-d3aac05c2bc7",
   "metadata": {},
   "outputs": [],
   "source": []
  },
  {
   "cell_type": "code",
   "execution_count": null,
   "id": "5ba3fa73-7a7a-44dc-8e5e-73b93b08c0e3",
   "metadata": {},
   "outputs": [],
   "source": []
  },
  {
   "cell_type": "code",
   "execution_count": null,
   "id": "076e15d4-7d32-41de-9956-2811ed7301f5",
   "metadata": {},
   "outputs": [],
   "source": []
  },
  {
   "cell_type": "code",
   "execution_count": null,
   "id": "8ba0a10a-4a7a-402e-a050-cf61cf0f5920",
   "metadata": {},
   "outputs": [],
   "source": []
  },
  {
   "cell_type": "code",
   "execution_count": null,
   "id": "273cf4c1-86e1-462b-9148-275c446f1508",
   "metadata": {},
   "outputs": [],
   "source": []
  },
  {
   "cell_type": "code",
   "execution_count": null,
   "id": "2e37a7be-c31f-4f27-94e8-f06e17616af1",
   "metadata": {},
   "outputs": [],
   "source": []
  },
  {
   "cell_type": "markdown",
   "id": "208173df-c03b-472e-9b4e-d628a2016d4b",
   "metadata": {
    "jp-MarkdownHeadingCollapsed": true,
    "tags": []
   },
   "source": [
    "### All below is old and unused"
   ]
  },
  {
   "cell_type": "code",
   "execution_count": 39,
   "id": "1acd39ea-7884-492d-8cf9-5e39bf027fa6",
   "metadata": {},
   "outputs": [],
   "source": [
    "X = data['RecID']\n",
    "X.index = data['RecID']\n",
    "y = data['Target']\n",
    "y.index = data['RecID']"
   ]
  },
  {
   "cell_type": "code",
   "execution_count": 40,
   "id": "fd20599d-0ef6-49ac-bc71-c2aa663c2f99",
   "metadata": {},
   "outputs": [],
   "source": [
    "X_train, X_test, y_train, y_test = train_test_split(X, y, test_size=0.2, shuffle=True, stratify=y, random_state=1)"
   ]
  },
  {
   "cell_type": "code",
   "execution_count": 41,
   "id": "a9bb5d63-43c9-4357-bd30-78401f30d708",
   "metadata": {},
   "outputs": [
    {
     "data": {
      "text/plain": [
       "(1008, 253, 1008, 253)"
      ]
     },
     "execution_count": 41,
     "metadata": {},
     "output_type": "execute_result"
    }
   ],
   "source": [
    "len(X_train), len(X_test), len(y_train), len(y_test)"
   ]
  },
  {
   "cell_type": "code",
   "execution_count": 42,
   "id": "854bde91-8d47-42e2-8ce6-81baf751ac2e",
   "metadata": {},
   "outputs": [],
   "source": [
    "# save to csv\n",
    "X_train.to_csv('data/GTxM_Pass1/X_train_RecID.csv')\n",
    "X_test.to_csv('data/GTxM_Pass1/X_test_RecID.csv')\n",
    "y_train.to_csv('data/GTxM_Pass1/y_train_Target.csv')\n",
    "y_test.to_csv('data/GTxM_Pass1/y_test_Target.csv')"
   ]
  },
  {
   "cell_type": "code",
   "execution_count": 30,
   "id": "bf17afb3-5a45-4b9c-92e1-75bd855ed099",
   "metadata": {},
   "outputs": [
    {
     "data": {
      "text/plain": [
       "RecID\n",
       "1217585196675018752    1217585196675018752\n",
       "1221540691433508864    1221540691433508864\n",
       "1217141225112948736    1217141225112948736\n",
       "1195286672524664832    1195286672524664832\n",
       "1204763028039880704    1204763028039880704\n",
       "Name: RecID, dtype: int64"
      ]
     },
     "execution_count": 30,
     "metadata": {},
     "output_type": "execute_result"
    }
   ],
   "source": [
    "X_train.head()"
   ]
  },
  {
   "cell_type": "code",
   "execution_count": 31,
   "id": "65266ad6-0130-405c-839e-b9255e07852f",
   "metadata": {},
   "outputs": [
    {
     "data": {
      "text/plain": [
       "RecID\n",
       "1217585196675018752    9\n",
       "1221540691433508864    9\n",
       "1217141225112948736    6\n",
       "1195286672524664832    9\n",
       "1204763028039880704    6\n",
       "Name: Target, dtype: int64"
      ]
     },
     "execution_count": 31,
     "metadata": {},
     "output_type": "execute_result"
    }
   ],
   "source": [
    "y_train.head()"
   ]
  },
  {
   "cell_type": "code",
   "execution_count": null,
   "id": "152b362d-30cb-49e3-9fc4-382bf59233f6",
   "metadata": {},
   "outputs": [],
   "source": []
  }
 ],
 "metadata": {
  "kernelspec": {
   "display_name": "Python 3 (ipykernel)",
   "language": "python",
   "name": "python3"
  },
  "language_info": {
   "codemirror_mode": {
    "name": "ipython",
    "version": 3
   },
   "file_extension": ".py",
   "mimetype": "text/x-python",
   "name": "python",
   "nbconvert_exporter": "python",
   "pygments_lexer": "ipython3",
   "version": "3.8.11"
  }
 },
 "nbformat": 4,
 "nbformat_minor": 5
}
