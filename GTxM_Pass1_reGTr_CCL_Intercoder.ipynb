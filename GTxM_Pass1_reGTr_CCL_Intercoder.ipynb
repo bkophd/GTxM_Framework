{
 "cells": [
  {
   "cell_type": "markdown",
   "id": "00fc9860-410b-4bfe-9d28-9cb780201aa9",
   "metadata": {},
   "source": [
    "### Compute Krippendorff's Alpha for the reGTr Intercoder HO1, HO2 and HO2 labels"
   ]
  },
  {
   "cell_type": "code",
   "execution_count": 1,
   "id": "fa5913b1-2aef-4594-ba52-4a082a35c64e",
   "metadata": {},
   "outputs": [],
   "source": [
    "# credit: https://github.com/grrrr/krippendorff-alpha (Thomas Grill)\n",
    "# downloaded: https://github.com/grrrr/krippendorff-alpha/blob/master/krippendorff_alpha.py"
   ]
  },
  {
   "cell_type": "code",
   "execution_count": 2,
   "id": "88856349-9517-4bf5-a2f0-c77b20a620c8",
   "metadata": {},
   "outputs": [],
   "source": [
    "# krippendorff_alpha.py must be locally stored in the same folder as this notebook\n",
    "from krippendorff_alpha import *"
   ]
  },
  {
   "cell_type": "code",
   "execution_count": 3,
   "id": "41e3004d-1133-4d6a-ae6e-060ed981d64d",
   "metadata": {},
   "outputs": [],
   "source": [
    "import pandas as pd\n",
    "import numpy as np"
   ]
  },
  {
   "cell_type": "code",
   "execution_count": 4,
   "id": "da81858d-9c34-419a-ba76-bb9dc7e69f8e",
   "metadata": {},
   "outputs": [],
   "source": [
    "df = pd.read_csv(\"data/GTxM_Pass1/reGTr_InterCoder_HO1_HO2_HO3.csv\", dtype='str')"
   ]
  },
  {
   "cell_type": "code",
   "execution_count": 5,
   "id": "cc3f8e36-ff5d-466a-8307-2940a5b07311",
   "metadata": {},
   "outputs": [
    {
     "data": {
      "text/plain": [
       "873"
      ]
     },
     "execution_count": 5,
     "metadata": {},
     "output_type": "execute_result"
    }
   ],
   "source": [
    "len(df)"
   ]
  },
  {
   "cell_type": "code",
   "execution_count": 6,
   "id": "c918b8d5-d4d5-46de-ac9d-a334ff4ea352",
   "metadata": {},
   "outputs": [
    {
     "data": {
      "text/html": [
       "<div>\n",
       "<style scoped>\n",
       "    .dataframe tbody tr th:only-of-type {\n",
       "        vertical-align: middle;\n",
       "    }\n",
       "\n",
       "    .dataframe tbody tr th {\n",
       "        vertical-align: top;\n",
       "    }\n",
       "\n",
       "    .dataframe thead th {\n",
       "        text-align: right;\n",
       "    }\n",
       "</style>\n",
       "<table border=\"1\" class=\"dataframe\">\n",
       "  <thead>\n",
       "    <tr style=\"text-align: right;\">\n",
       "      <th></th>\n",
       "      <th>RecID</th>\n",
       "      <th>PubTitle</th>\n",
       "      <th>RecDoc</th>\n",
       "      <th>TargetHO1</th>\n",
       "      <th>TargetHO2</th>\n",
       "      <th>TargetHO3</th>\n",
       "      <th>LabelHO1</th>\n",
       "      <th>LabelHO2</th>\n",
       "      <th>LabelHO3</th>\n",
       "    </tr>\n",
       "  </thead>\n",
       "  <tbody>\n",
       "    <tr>\n",
       "      <th>0</th>\n",
       "      <td>1089699762331217920</td>\n",
       "      <td>Peloton exercise bike ad mocked as being 'sexi...</td>\n",
       "      <td>Love putting my Peloton bike in the most strik...</td>\n",
       "      <td>1</td>\n",
       "      <td>1</td>\n",
       "      <td>-1</td>\n",
       "      <td>Business</td>\n",
       "      <td>Business</td>\n",
       "      <td>-1</td>\n",
       "    </tr>\n",
       "    <tr>\n",
       "      <th>1</th>\n",
       "      <td>1122651175688515584</td>\n",
       "      <td>Biden Campaign Drops Opposition to Super PAC S...</td>\n",
       "      <td>I've said it before and I'll say it again. To ...</td>\n",
       "      <td>10</td>\n",
       "      <td>6</td>\n",
       "      <td>6</td>\n",
       "      <td>Social Stories</td>\n",
       "      <td>Politics</td>\n",
       "      <td>Politics</td>\n",
       "    </tr>\n",
       "    <tr>\n",
       "      <th>2</th>\n",
       "      <td>1139309394968096768</td>\n",
       "      <td>Six Takeaways From Senators' Questions to Impe...</td>\n",
       "      <td>I would not have thought that I needed to say ...</td>\n",
       "      <td>6</td>\n",
       "      <td>6</td>\n",
       "      <td>-1</td>\n",
       "      <td>Politics</td>\n",
       "      <td>Politics</td>\n",
       "      <td>-1</td>\n",
       "    </tr>\n",
       "    <tr>\n",
       "      <th>3</th>\n",
       "      <td>1159148971106942981</td>\n",
       "      <td>N.F.L. Invites Teams to Watch Colin Kaepernick...</td>\n",
       "      <td>5am. 5 days a week. For 3 years. Still Ready. ...</td>\n",
       "      <td>11</td>\n",
       "      <td>11</td>\n",
       "      <td>-1</td>\n",
       "      <td>Sports</td>\n",
       "      <td>Sports</td>\n",
       "      <td>-1</td>\n",
       "    </tr>\n",
       "    <tr>\n",
       "      <th>4</th>\n",
       "      <td>1166443046361153537</td>\n",
       "      <td>Popeyes Chicken Sandwich Returns, but Will the...</td>\n",
       "      <td>Y?all. We love that you love The Sandwich. Unf...</td>\n",
       "      <td>1</td>\n",
       "      <td>1</td>\n",
       "      <td>-1</td>\n",
       "      <td>Business</td>\n",
       "      <td>Business</td>\n",
       "      <td>-1</td>\n",
       "    </tr>\n",
       "  </tbody>\n",
       "</table>\n",
       "</div>"
      ],
      "text/plain": [
       "                 RecID                                           PubTitle  \\\n",
       "0  1089699762331217920  Peloton exercise bike ad mocked as being 'sexi...   \n",
       "1  1122651175688515584  Biden Campaign Drops Opposition to Super PAC S...   \n",
       "2  1139309394968096768  Six Takeaways From Senators' Questions to Impe...   \n",
       "3  1159148971106942981  N.F.L. Invites Teams to Watch Colin Kaepernick...   \n",
       "4  1166443046361153537  Popeyes Chicken Sandwich Returns, but Will the...   \n",
       "\n",
       "                                              RecDoc TargetHO1 TargetHO2  \\\n",
       "0  Love putting my Peloton bike in the most strik...         1         1   \n",
       "1  I've said it before and I'll say it again. To ...        10         6   \n",
       "2  I would not have thought that I needed to say ...         6         6   \n",
       "3  5am. 5 days a week. For 3 years. Still Ready. ...        11        11   \n",
       "4  Y?all. We love that you love The Sandwich. Unf...         1         1   \n",
       "\n",
       "  TargetHO3        LabelHO1  LabelHO2  LabelHO3  \n",
       "0        -1        Business  Business        -1  \n",
       "1         6  Social Stories  Politics  Politics  \n",
       "2        -1        Politics  Politics        -1  \n",
       "3        -1          Sports    Sports        -1  \n",
       "4        -1        Business  Business        -1  "
      ]
     },
     "execution_count": 6,
     "metadata": {},
     "output_type": "execute_result"
    }
   ],
   "source": [
    "df.head()"
   ]
  },
  {
   "cell_type": "markdown",
   "id": "8e61bd50-808b-462f-ac5d-ea1185d0e462",
   "metadata": {
    "tags": []
   },
   "source": [
    "### Get the subset with HO1 and HO2 agreement"
   ]
  },
  {
   "cell_type": "code",
   "execution_count": 7,
   "id": "66099796-3d5b-473e-bf57-a1f28792f018",
   "metadata": {},
   "outputs": [],
   "source": [
    "# issue: there are 29 records where HO1 & HO2 agree but these were still sent to HO3 (shouldn't have been) \n",
    "# resolution: blank out HO1 labels for the 29 records and use the HO2 and HO3 labels"
   ]
  },
  {
   "cell_type": "code",
   "execution_count": 8,
   "id": "f6e46784-1843-4aca-83b6-b0419bfe4190",
   "metadata": {},
   "outputs": [],
   "source": [
    "df_BlankHO1 = df[(df.LabelHO1 == df.LabelHO2) & (df.LabelHO3 != '-1')]"
   ]
  },
  {
   "cell_type": "code",
   "execution_count": 9,
   "id": "8b4b1dce-3844-4f74-b9e8-c96a3efaf099",
   "metadata": {},
   "outputs": [
    {
     "data": {
      "text/plain": [
       "29"
      ]
     },
     "execution_count": 9,
     "metadata": {},
     "output_type": "execute_result"
    }
   ],
   "source": [
    "len(df_BlankHO1)"
   ]
  },
  {
   "cell_type": "code",
   "execution_count": 10,
   "id": "4eb00286-46ad-412f-b175-430837c1c9ed",
   "metadata": {},
   "outputs": [
    {
     "data": {
      "text/html": [
       "<div>\n",
       "<style scoped>\n",
       "    .dataframe tbody tr th:only-of-type {\n",
       "        vertical-align: middle;\n",
       "    }\n",
       "\n",
       "    .dataframe tbody tr th {\n",
       "        vertical-align: top;\n",
       "    }\n",
       "\n",
       "    .dataframe thead th {\n",
       "        text-align: right;\n",
       "    }\n",
       "</style>\n",
       "<table border=\"1\" class=\"dataframe\">\n",
       "  <thead>\n",
       "    <tr style=\"text-align: right;\">\n",
       "      <th></th>\n",
       "      <th>RecID</th>\n",
       "      <th>PubTitle</th>\n",
       "      <th>RecDoc</th>\n",
       "      <th>TargetHO1</th>\n",
       "      <th>TargetHO2</th>\n",
       "      <th>TargetHO3</th>\n",
       "      <th>LabelHO1</th>\n",
       "      <th>LabelHO2</th>\n",
       "      <th>LabelHO3</th>\n",
       "    </tr>\n",
       "  </thead>\n",
       "  <tbody>\n",
       "    <tr>\n",
       "      <th>68</th>\n",
       "      <td>1182005931317583872</td>\n",
       "      <td>Mark Ruffalo breaks Hollywood ranks over Ellen...</td>\n",
       "      <td>Sorry, until George W. Bush is brought to just...</td>\n",
       "      <td>6</td>\n",
       "      <td>6</td>\n",
       "      <td>6</td>\n",
       "      <td>Politics</td>\n",
       "      <td>Politics</td>\n",
       "      <td>Politics</td>\n",
       "    </tr>\n",
       "    <tr>\n",
       "      <th>98</th>\n",
       "      <td>1184950984591712257</td>\n",
       "      <td>15 Times Trump and His Allies Claimed 'No Quid...</td>\n",
       "      <td>Mulvaney statement cleaning up his briefing co...</td>\n",
       "      <td>6</td>\n",
       "      <td>6</td>\n",
       "      <td>6</td>\n",
       "      <td>Politics</td>\n",
       "      <td>Politics</td>\n",
       "      <td>Politics</td>\n",
       "    </tr>\n",
       "  </tbody>\n",
       "</table>\n",
       "</div>"
      ],
      "text/plain": [
       "                  RecID                                           PubTitle  \\\n",
       "68  1182005931317583872  Mark Ruffalo breaks Hollywood ranks over Ellen...   \n",
       "98  1184950984591712257  15 Times Trump and His Allies Claimed 'No Quid...   \n",
       "\n",
       "                                               RecDoc TargetHO1 TargetHO2  \\\n",
       "68  Sorry, until George W. Bush is brought to just...         6         6   \n",
       "98  Mulvaney statement cleaning up his briefing co...         6         6   \n",
       "\n",
       "   TargetHO3  LabelHO1  LabelHO2  LabelHO3  \n",
       "68         6  Politics  Politics  Politics  \n",
       "98         6  Politics  Politics  Politics  "
      ]
     },
     "execution_count": 10,
     "metadata": {},
     "output_type": "execute_result"
    }
   ],
   "source": [
    "df_BlankHO1.head(2)"
   ]
  },
  {
   "cell_type": "code",
   "execution_count": 11,
   "id": "60291cb1-5b3b-4b45-8604-9f5abbec35d1",
   "metadata": {},
   "outputs": [],
   "source": [
    "df.loc[(df.LabelHO1 == df.LabelHO2) & (df.LabelHO3 != '-1'), 'LabelHO1'] = '-1'\n",
    "df.loc[(df.LabelHO1 == '-1'), 'TargetHO1'] = '-1'"
   ]
  },
  {
   "cell_type": "code",
   "execution_count": 13,
   "id": "3e8a86dd-b56f-4d25-b79c-998627ba6572",
   "metadata": {},
   "outputs": [
    {
     "data": {
      "text/html": [
       "<div>\n",
       "<style scoped>\n",
       "    .dataframe tbody tr th:only-of-type {\n",
       "        vertical-align: middle;\n",
       "    }\n",
       "\n",
       "    .dataframe tbody tr th {\n",
       "        vertical-align: top;\n",
       "    }\n",
       "\n",
       "    .dataframe thead th {\n",
       "        text-align: right;\n",
       "    }\n",
       "</style>\n",
       "<table border=\"1\" class=\"dataframe\">\n",
       "  <thead>\n",
       "    <tr style=\"text-align: right;\">\n",
       "      <th></th>\n",
       "      <th>RecID</th>\n",
       "      <th>PubTitle</th>\n",
       "      <th>RecDoc</th>\n",
       "      <th>TargetHO1</th>\n",
       "      <th>TargetHO2</th>\n",
       "      <th>TargetHO3</th>\n",
       "      <th>LabelHO1</th>\n",
       "      <th>LabelHO2</th>\n",
       "      <th>LabelHO3</th>\n",
       "    </tr>\n",
       "  </thead>\n",
       "  <tbody>\n",
       "    <tr>\n",
       "      <th>68</th>\n",
       "      <td>1182005931317583872</td>\n",
       "      <td>Mark Ruffalo breaks Hollywood ranks over Ellen...</td>\n",
       "      <td>Sorry, until George W. Bush is brought to just...</td>\n",
       "      <td>-1</td>\n",
       "      <td>6</td>\n",
       "      <td>6</td>\n",
       "      <td>-1</td>\n",
       "      <td>Politics</td>\n",
       "      <td>Politics</td>\n",
       "    </tr>\n",
       "    <tr>\n",
       "      <th>98</th>\n",
       "      <td>1184950984591712257</td>\n",
       "      <td>15 Times Trump and His Allies Claimed 'No Quid...</td>\n",
       "      <td>Mulvaney statement cleaning up his briefing co...</td>\n",
       "      <td>-1</td>\n",
       "      <td>6</td>\n",
       "      <td>6</td>\n",
       "      <td>-1</td>\n",
       "      <td>Politics</td>\n",
       "      <td>Politics</td>\n",
       "    </tr>\n",
       "    <tr>\n",
       "      <th>142</th>\n",
       "      <td>1188458334086684673</td>\n",
       "      <td>With al-Baghdadi Raid, Trump Makes the Made-fo...</td>\n",
       "      <td>President @realDonaldTrump watches as U.S. Spe...</td>\n",
       "      <td>-1</td>\n",
       "      <td>6</td>\n",
       "      <td>6</td>\n",
       "      <td>-1</td>\n",
       "      <td>Politics</td>\n",
       "      <td>Politics</td>\n",
       "    </tr>\n",
       "    <tr>\n",
       "      <th>182</th>\n",
       "      <td>1190059166129426432</td>\n",
       "      <td>Trump, Lifelong New Yorker, Declares Himself a...</td>\n",
       "      <td>Good riddance.\\n\\nIt?s not like @realDonaldTru...</td>\n",
       "      <td>-1</td>\n",
       "      <td>6</td>\n",
       "      <td>6</td>\n",
       "      <td>-1</td>\n",
       "      <td>Politics</td>\n",
       "      <td>Politics</td>\n",
       "    </tr>\n",
       "    <tr>\n",
       "      <th>212</th>\n",
       "      <td>1191983177725861892</td>\n",
       "      <td>Trump's Twitter War Room Aims Its Punches at D...</td>\n",
       "      <td>I also served with Vindman, and interacted wit...</td>\n",
       "      <td>-1</td>\n",
       "      <td>6</td>\n",
       "      <td>6</td>\n",
       "      <td>-1</td>\n",
       "      <td>Politics</td>\n",
       "      <td>Politics</td>\n",
       "    </tr>\n",
       "  </tbody>\n",
       "</table>\n",
       "</div>"
      ],
      "text/plain": [
       "                   RecID                                           PubTitle  \\\n",
       "68   1182005931317583872  Mark Ruffalo breaks Hollywood ranks over Ellen...   \n",
       "98   1184950984591712257  15 Times Trump and His Allies Claimed 'No Quid...   \n",
       "142  1188458334086684673  With al-Baghdadi Raid, Trump Makes the Made-fo...   \n",
       "182  1190059166129426432  Trump, Lifelong New Yorker, Declares Himself a...   \n",
       "212  1191983177725861892  Trump's Twitter War Room Aims Its Punches at D...   \n",
       "\n",
       "                                                RecDoc TargetHO1 TargetHO2  \\\n",
       "68   Sorry, until George W. Bush is brought to just...        -1         6   \n",
       "98   Mulvaney statement cleaning up his briefing co...        -1         6   \n",
       "142  President @realDonaldTrump watches as U.S. Spe...        -1         6   \n",
       "182  Good riddance.\\n\\nIt?s not like @realDonaldTru...        -1         6   \n",
       "212  I also served with Vindman, and interacted wit...        -1         6   \n",
       "\n",
       "    TargetHO3 LabelHO1  LabelHO2  LabelHO3  \n",
       "68          6       -1  Politics  Politics  \n",
       "98          6       -1  Politics  Politics  \n",
       "142         6       -1  Politics  Politics  \n",
       "182         6       -1  Politics  Politics  \n",
       "212         6       -1  Politics  Politics  "
      ]
     },
     "execution_count": 13,
     "metadata": {},
     "output_type": "execute_result"
    }
   ],
   "source": [
    "df[(df.LabelHO1 == '-1')].head()"
   ]
  },
  {
   "cell_type": "code",
   "execution_count": 14,
   "id": "2ecb5f13-702a-4822-bf32-1ee7513a2e7e",
   "metadata": {},
   "outputs": [],
   "source": [
    "df_AgreeHO1HO2 = df[(df.LabelHO1 == df.LabelHO2)]"
   ]
  },
  {
   "cell_type": "code",
   "execution_count": 15,
   "id": "ccd5c778-e7ad-4c38-a782-09f51a4183eb",
   "metadata": {},
   "outputs": [
    {
     "data": {
      "text/plain": [
       "700"
      ]
     },
     "execution_count": 15,
     "metadata": {},
     "output_type": "execute_result"
    }
   ],
   "source": [
    "len(df_AgreeHO1HO2)"
   ]
  },
  {
   "cell_type": "code",
   "execution_count": 16,
   "id": "11166e32-a2c1-45cf-96f2-a14b71743287",
   "metadata": {},
   "outputs": [
    {
     "name": "stderr",
     "output_type": "stream",
     "text": [
      "C:\\Users\\kazeem\\anaconda3\\envs\\py38\\lib\\site-packages\\pandas\\core\\frame.py:4901: SettingWithCopyWarning: \n",
      "A value is trying to be set on a copy of a slice from a DataFrame\n",
      "\n",
      "See the caveats in the documentation: https://pandas.pydata.org/pandas-docs/stable/user_guide/indexing.html#returning-a-view-versus-a-copy\n",
      "  return super().drop(\n"
     ]
    }
   ],
   "source": [
    "df_AgreeHO1HO2.drop(['PubTitle', 'RecDoc', 'TargetHO2', 'LabelHO2', 'TargetHO3', 'LabelHO3'], axis=1, inplace=True)"
   ]
  },
  {
   "cell_type": "code",
   "execution_count": 17,
   "id": "17e3dd32-767c-4f3e-96d8-be44587ff530",
   "metadata": {},
   "outputs": [
    {
     "name": "stderr",
     "output_type": "stream",
     "text": [
      "C:\\Users\\kazeem\\anaconda3\\envs\\py38\\lib\\site-packages\\pandas\\core\\frame.py:5034: SettingWithCopyWarning: \n",
      "A value is trying to be set on a copy of a slice from a DataFrame\n",
      "\n",
      "See the caveats in the documentation: https://pandas.pydata.org/pandas-docs/stable/user_guide/indexing.html#returning-a-view-versus-a-copy\n",
      "  return super().rename(\n"
     ]
    }
   ],
   "source": [
    "df_AgreeHO1HO2.rename(columns={'TargetHO1': 'Target', 'LabelHO1': 'Label'}, inplace=True)"
   ]
  },
  {
   "cell_type": "code",
   "execution_count": 18,
   "id": "2d8324ad-a8c7-46b0-9294-31b3e94ecd17",
   "metadata": {},
   "outputs": [
    {
     "data": {
      "text/html": [
       "<div>\n",
       "<style scoped>\n",
       "    .dataframe tbody tr th:only-of-type {\n",
       "        vertical-align: middle;\n",
       "    }\n",
       "\n",
       "    .dataframe tbody tr th {\n",
       "        vertical-align: top;\n",
       "    }\n",
       "\n",
       "    .dataframe thead th {\n",
       "        text-align: right;\n",
       "    }\n",
       "</style>\n",
       "<table border=\"1\" class=\"dataframe\">\n",
       "  <thead>\n",
       "    <tr style=\"text-align: right;\">\n",
       "      <th></th>\n",
       "      <th>RecID</th>\n",
       "      <th>Target</th>\n",
       "      <th>Label</th>\n",
       "    </tr>\n",
       "  </thead>\n",
       "  <tbody>\n",
       "    <tr>\n",
       "      <th>0</th>\n",
       "      <td>1089699762331217920</td>\n",
       "      <td>1</td>\n",
       "      <td>Business</td>\n",
       "    </tr>\n",
       "    <tr>\n",
       "      <th>2</th>\n",
       "      <td>1139309394968096768</td>\n",
       "      <td>6</td>\n",
       "      <td>Politics</td>\n",
       "    </tr>\n",
       "  </tbody>\n",
       "</table>\n",
       "</div>"
      ],
      "text/plain": [
       "                 RecID Target     Label\n",
       "0  1089699762331217920      1  Business\n",
       "2  1139309394968096768      6  Politics"
      ]
     },
     "execution_count": 18,
     "metadata": {},
     "output_type": "execute_result"
    }
   ],
   "source": [
    "df_AgreeHO1HO2.head(2)"
   ]
  },
  {
   "cell_type": "markdown",
   "id": "f6d8c7c2-a316-457d-b3a5-d0ea146d77e6",
   "metadata": {},
   "source": [
    "### Find krippendorff's alpha for the agreement between HO1 and HO2"
   ]
  },
  {
   "cell_type": "code",
   "execution_count": 19,
   "id": "c9675c07-c1cd-4b3d-a718-8af530769f6c",
   "metadata": {},
   "outputs": [],
   "source": [
    "HO1 = np.stack(df['TargetHO1'].astype(\"string\"))\n",
    "HO2 = np.stack(df['TargetHO2'].astype(\"string\"))\n",
    "# HO3 = np.stack(df['TargetHO3'].astype(\"string\"))"
   ]
  },
  {
   "cell_type": "code",
   "execution_count": 20,
   "id": "7ba02c54-62e7-409a-a21a-9b1a10ce03e3",
   "metadata": {},
   "outputs": [],
   "source": [
    "# arr = np.array((HO1,HO2,HO3))\n",
    "arr = np.array((HO1,HO2))"
   ]
  },
  {
   "cell_type": "code",
   "execution_count": 21,
   "id": "6ea39961-f274-42be-a275-4dca19ee34fb",
   "metadata": {},
   "outputs": [],
   "source": [
    "missing = '-1'"
   ]
  },
  {
   "cell_type": "code",
   "execution_count": 22,
   "id": "87a5428d-84a1-4ba5-bf2f-13e665902be9",
   "metadata": {},
   "outputs": [],
   "source": [
    "alpha1 = krippendorff_alpha(arr, nominal_metric, missing_items=missing)"
   ]
  },
  {
   "cell_type": "code",
   "execution_count": 23,
   "id": "b45f71dc-d922-43bc-a434-a0f8f19717ba",
   "metadata": {},
   "outputs": [
    {
     "data": {
      "text/plain": [
       "0.7627418234389511"
      ]
     },
     "execution_count": 23,
     "metadata": {},
     "output_type": "execute_result"
    }
   ],
   "source": [
    "alpha1"
   ]
  },
  {
   "cell_type": "markdown",
   "id": "58078bd6-f4a1-4577-94d7-0219c8d6a6e4",
   "metadata": {},
   "source": [
    "### Get the subset with HO1 or HO2 agreement with HO3"
   ]
  },
  {
   "cell_type": "code",
   "execution_count": 24,
   "id": "31649a21-88c6-4fc9-bae7-c05212582de1",
   "metadata": {},
   "outputs": [],
   "source": [
    "df2 = df[df.TargetHO3 != '-1']"
   ]
  },
  {
   "cell_type": "code",
   "execution_count": 25,
   "id": "c9281391-996f-4fe4-8108-94c93cf8d8a9",
   "metadata": {},
   "outputs": [
    {
     "data": {
      "text/plain": [
       "173"
      ]
     },
     "execution_count": 25,
     "metadata": {},
     "output_type": "execute_result"
    }
   ],
   "source": [
    "len(df2)"
   ]
  },
  {
   "cell_type": "code",
   "execution_count": 26,
   "id": "ccd624cd-225a-469a-984b-00c49a7e1953",
   "metadata": {},
   "outputs": [
    {
     "data": {
      "text/html": [
       "<div>\n",
       "<style scoped>\n",
       "    .dataframe tbody tr th:only-of-type {\n",
       "        vertical-align: middle;\n",
       "    }\n",
       "\n",
       "    .dataframe tbody tr th {\n",
       "        vertical-align: top;\n",
       "    }\n",
       "\n",
       "    .dataframe thead th {\n",
       "        text-align: right;\n",
       "    }\n",
       "</style>\n",
       "<table border=\"1\" class=\"dataframe\">\n",
       "  <thead>\n",
       "    <tr style=\"text-align: right;\">\n",
       "      <th></th>\n",
       "      <th>RecID</th>\n",
       "      <th>PubTitle</th>\n",
       "      <th>RecDoc</th>\n",
       "      <th>TargetHO1</th>\n",
       "      <th>TargetHO2</th>\n",
       "      <th>TargetHO3</th>\n",
       "      <th>LabelHO1</th>\n",
       "      <th>LabelHO2</th>\n",
       "      <th>LabelHO3</th>\n",
       "    </tr>\n",
       "  </thead>\n",
       "  <tbody>\n",
       "    <tr>\n",
       "      <th>1</th>\n",
       "      <td>1122651175688515584</td>\n",
       "      <td>Biden Campaign Drops Opposition to Super PAC S...</td>\n",
       "      <td>I've said it before and I'll say it again. To ...</td>\n",
       "      <td>10</td>\n",
       "      <td>6</td>\n",
       "      <td>6</td>\n",
       "      <td>Social Stories</td>\n",
       "      <td>Politics</td>\n",
       "      <td>Politics</td>\n",
       "    </tr>\n",
       "    <tr>\n",
       "      <th>15</th>\n",
       "      <td>1179115344180330496</td>\n",
       "      <td>Lupita Nyong'o: Colourism is the daughter of r...</td>\n",
       "      <td>This is 5-year-old me. I reflected on this lit...</td>\n",
       "      <td>5</td>\n",
       "      <td>10</td>\n",
       "      <td>10</td>\n",
       "      <td>Human Rights</td>\n",
       "      <td>Social Stories</td>\n",
       "      <td>Social Stories</td>\n",
       "    </tr>\n",
       "  </tbody>\n",
       "</table>\n",
       "</div>"
      ],
      "text/plain": [
       "                  RecID                                           PubTitle  \\\n",
       "1   1122651175688515584  Biden Campaign Drops Opposition to Super PAC S...   \n",
       "15  1179115344180330496  Lupita Nyong'o: Colourism is the daughter of r...   \n",
       "\n",
       "                                               RecDoc TargetHO1 TargetHO2  \\\n",
       "1   I've said it before and I'll say it again. To ...        10         6   \n",
       "15  This is 5-year-old me. I reflected on this lit...         5        10   \n",
       "\n",
       "   TargetHO3        LabelHO1        LabelHO2        LabelHO3  \n",
       "1          6  Social Stories        Politics        Politics  \n",
       "15        10    Human Rights  Social Stories  Social Stories  "
      ]
     },
     "execution_count": 26,
     "metadata": {},
     "output_type": "execute_result"
    }
   ],
   "source": [
    "df2.head(2)"
   ]
  },
  {
   "cell_type": "code",
   "execution_count": 27,
   "id": "2bfe15a6-526c-4bb6-8518-6c0535bc5b9a",
   "metadata": {},
   "outputs": [],
   "source": [
    "def AgreeTargetWithHO3(HO1Target, HO2Target, HO3Target):\n",
    "    AgreedTarget = -1\n",
    "    if (HO1Target == HO3Target):\n",
    "        AgreedTarget = HO3Target\n",
    "    if (HO2Target == HO3Target):\n",
    "        AgreedTarget = HO3Target\n",
    "    return AgreedTarget\n",
    "\n",
    "def AgreeLabelWithHO3(HO1Label, HO2Label, HO3Label):\n",
    "    AgreedLabel = -1\n",
    "    if (HO1Label == HO3Label):\n",
    "        AgreedLabel = HO3Label\n",
    "    if (HO2Label == HO3Label):\n",
    "        AgreedLabel = HO3Label\n",
    "    return AgreedLabel"
   ]
  },
  {
   "cell_type": "code",
   "execution_count": 29,
   "id": "48db6256-f705-4ff2-a01e-9fad98cfc7db",
   "metadata": {},
   "outputs": [
    {
     "name": "stderr",
     "output_type": "stream",
     "text": [
      "C:\\Users\\kazeem\\AppData\\Local\\Temp/ipykernel_3712/2170810033.py:1: SettingWithCopyWarning: \n",
      "A value is trying to be set on a copy of a slice from a DataFrame.\n",
      "Try using .loc[row_indexer,col_indexer] = value instead\n",
      "\n",
      "See the caveats in the documentation: https://pandas.pydata.org/pandas-docs/stable/user_guide/indexing.html#returning-a-view-versus-a-copy\n",
      "  df2['AgreedTarget'] = df2.apply(lambda x: AgreeTargetWithHO3(x['TargetHO1'], x['TargetHO2'], x['TargetHO3']), axis=1)\n",
      "C:\\Users\\kazeem\\AppData\\Local\\Temp/ipykernel_3712/2170810033.py:2: SettingWithCopyWarning: \n",
      "A value is trying to be set on a copy of a slice from a DataFrame.\n",
      "Try using .loc[row_indexer,col_indexer] = value instead\n",
      "\n",
      "See the caveats in the documentation: https://pandas.pydata.org/pandas-docs/stable/user_guide/indexing.html#returning-a-view-versus-a-copy\n",
      "  df2['AgreedLabel'] = df2.apply(lambda x: AgreeLabelWithHO3(x['LabelHO1'], x['LabelHO2'], x['LabelHO3']), axis=1)\n"
     ]
    }
   ],
   "source": [
    "df2['AgreedTarget'] = df2.apply(lambda x: AgreeTargetWithHO3(x['TargetHO1'], x['TargetHO2'], x['TargetHO3']), axis=1)\n",
    "df2['AgreedLabel'] = df2.apply(lambda x: AgreeLabelWithHO3(x['LabelHO1'], x['LabelHO2'], x['LabelHO3']), axis=1)"
   ]
  },
  {
   "cell_type": "code",
   "execution_count": 30,
   "id": "cf79b720-3dac-4394-b4d6-d35d3991dba5",
   "metadata": {},
   "outputs": [
    {
     "data": {
      "text/html": [
       "<div>\n",
       "<style scoped>\n",
       "    .dataframe tbody tr th:only-of-type {\n",
       "        vertical-align: middle;\n",
       "    }\n",
       "\n",
       "    .dataframe tbody tr th {\n",
       "        vertical-align: top;\n",
       "    }\n",
       "\n",
       "    .dataframe thead th {\n",
       "        text-align: right;\n",
       "    }\n",
       "</style>\n",
       "<table border=\"1\" class=\"dataframe\">\n",
       "  <thead>\n",
       "    <tr style=\"text-align: right;\">\n",
       "      <th></th>\n",
       "      <th>RecID</th>\n",
       "      <th>PubTitle</th>\n",
       "      <th>RecDoc</th>\n",
       "      <th>TargetHO1</th>\n",
       "      <th>TargetHO2</th>\n",
       "      <th>TargetHO3</th>\n",
       "      <th>LabelHO1</th>\n",
       "      <th>LabelHO2</th>\n",
       "      <th>LabelHO3</th>\n",
       "      <th>AgreedTarget</th>\n",
       "      <th>AgreedLabel</th>\n",
       "    </tr>\n",
       "  </thead>\n",
       "  <tbody>\n",
       "    <tr>\n",
       "      <th>1</th>\n",
       "      <td>1122651175688515584</td>\n",
       "      <td>Biden Campaign Drops Opposition to Super PAC S...</td>\n",
       "      <td>I've said it before and I'll say it again. To ...</td>\n",
       "      <td>10</td>\n",
       "      <td>6</td>\n",
       "      <td>6</td>\n",
       "      <td>Social Stories</td>\n",
       "      <td>Politics</td>\n",
       "      <td>Politics</td>\n",
       "      <td>6</td>\n",
       "      <td>Politics</td>\n",
       "    </tr>\n",
       "    <tr>\n",
       "      <th>15</th>\n",
       "      <td>1179115344180330496</td>\n",
       "      <td>Lupita Nyong'o: Colourism is the daughter of r...</td>\n",
       "      <td>This is 5-year-old me. I reflected on this lit...</td>\n",
       "      <td>5</td>\n",
       "      <td>10</td>\n",
       "      <td>10</td>\n",
       "      <td>Human Rights</td>\n",
       "      <td>Social Stories</td>\n",
       "      <td>Social Stories</td>\n",
       "      <td>10</td>\n",
       "      <td>Social Stories</td>\n",
       "    </tr>\n",
       "  </tbody>\n",
       "</table>\n",
       "</div>"
      ],
      "text/plain": [
       "                  RecID                                           PubTitle  \\\n",
       "1   1122651175688515584  Biden Campaign Drops Opposition to Super PAC S...   \n",
       "15  1179115344180330496  Lupita Nyong'o: Colourism is the daughter of r...   \n",
       "\n",
       "                                               RecDoc TargetHO1 TargetHO2  \\\n",
       "1   I've said it before and I'll say it again. To ...        10         6   \n",
       "15  This is 5-year-old me. I reflected on this lit...         5        10   \n",
       "\n",
       "   TargetHO3        LabelHO1        LabelHO2        LabelHO3 AgreedTarget  \\\n",
       "1          6  Social Stories        Politics        Politics            6   \n",
       "15        10    Human Rights  Social Stories  Social Stories           10   \n",
       "\n",
       "       AgreedLabel  \n",
       "1         Politics  \n",
       "15  Social Stories  "
      ]
     },
     "execution_count": 30,
     "metadata": {},
     "output_type": "execute_result"
    }
   ],
   "source": [
    "df2.head(2)"
   ]
  },
  {
   "cell_type": "code",
   "execution_count": 31,
   "id": "753f5064-bbd3-49b2-aeb9-7d208b049ac3",
   "metadata": {},
   "outputs": [],
   "source": [
    "df_AgreeHO1HO2HO3 = df2[(df2.AgreedTarget != -1)]"
   ]
  },
  {
   "cell_type": "code",
   "execution_count": 32,
   "id": "f921234d-308f-49e2-8a31-6741dd50ee80",
   "metadata": {},
   "outputs": [
    {
     "data": {
      "text/plain": [
       "154"
      ]
     },
     "execution_count": 32,
     "metadata": {},
     "output_type": "execute_result"
    }
   ],
   "source": [
    "len(df_AgreeHO1HO2HO3)"
   ]
  },
  {
   "cell_type": "code",
   "execution_count": 33,
   "id": "98a3bafe-5235-4acf-a5c4-bf76e2295e6c",
   "metadata": {},
   "outputs": [
    {
     "name": "stderr",
     "output_type": "stream",
     "text": [
      "C:\\Users\\kazeem\\anaconda3\\envs\\py38\\lib\\site-packages\\pandas\\core\\frame.py:4901: SettingWithCopyWarning: \n",
      "A value is trying to be set on a copy of a slice from a DataFrame\n",
      "\n",
      "See the caveats in the documentation: https://pandas.pydata.org/pandas-docs/stable/user_guide/indexing.html#returning-a-view-versus-a-copy\n",
      "  return super().drop(\n"
     ]
    }
   ],
   "source": [
    "df_AgreeHO1HO2HO3.drop(['PubTitle', 'RecDoc', 'TargetHO1', 'LabelHO1', 'TargetHO2', 'LabelHO2', 'TargetHO3', 'LabelHO3'], axis=1, inplace=True)"
   ]
  },
  {
   "cell_type": "code",
   "execution_count": 34,
   "id": "cca13fb1-461f-41ba-864b-942716e8c43d",
   "metadata": {},
   "outputs": [
    {
     "data": {
      "text/html": [
       "<div>\n",
       "<style scoped>\n",
       "    .dataframe tbody tr th:only-of-type {\n",
       "        vertical-align: middle;\n",
       "    }\n",
       "\n",
       "    .dataframe tbody tr th {\n",
       "        vertical-align: top;\n",
       "    }\n",
       "\n",
       "    .dataframe thead th {\n",
       "        text-align: right;\n",
       "    }\n",
       "</style>\n",
       "<table border=\"1\" class=\"dataframe\">\n",
       "  <thead>\n",
       "    <tr style=\"text-align: right;\">\n",
       "      <th></th>\n",
       "      <th>RecID</th>\n",
       "      <th>AgreedTarget</th>\n",
       "      <th>AgreedLabel</th>\n",
       "    </tr>\n",
       "  </thead>\n",
       "  <tbody>\n",
       "    <tr>\n",
       "      <th>1</th>\n",
       "      <td>1122651175688515584</td>\n",
       "      <td>6</td>\n",
       "      <td>Politics</td>\n",
       "    </tr>\n",
       "    <tr>\n",
       "      <th>15</th>\n",
       "      <td>1179115344180330496</td>\n",
       "      <td>10</td>\n",
       "      <td>Social Stories</td>\n",
       "    </tr>\n",
       "  </tbody>\n",
       "</table>\n",
       "</div>"
      ],
      "text/plain": [
       "                  RecID AgreedTarget     AgreedLabel\n",
       "1   1122651175688515584            6        Politics\n",
       "15  1179115344180330496           10  Social Stories"
      ]
     },
     "execution_count": 34,
     "metadata": {},
     "output_type": "execute_result"
    }
   ],
   "source": [
    "df_AgreeHO1HO2HO3.head(2)"
   ]
  },
  {
   "cell_type": "code",
   "execution_count": 35,
   "id": "e7243c8d-e5e2-40b3-8de6-0d3b0aebabe2",
   "metadata": {},
   "outputs": [
    {
     "name": "stderr",
     "output_type": "stream",
     "text": [
      "C:\\Users\\kazeem\\anaconda3\\envs\\py38\\lib\\site-packages\\pandas\\core\\frame.py:5034: SettingWithCopyWarning: \n",
      "A value is trying to be set on a copy of a slice from a DataFrame\n",
      "\n",
      "See the caveats in the documentation: https://pandas.pydata.org/pandas-docs/stable/user_guide/indexing.html#returning-a-view-versus-a-copy\n",
      "  return super().rename(\n"
     ]
    }
   ],
   "source": [
    "df_AgreeHO1HO2HO3.rename(columns={'AgreedTarget': 'Target', 'AgreedLabel': 'Label'}, inplace=True)"
   ]
  },
  {
   "cell_type": "markdown",
   "id": "1e7d845c-ee09-464b-aa0b-0b1b33f0e0df",
   "metadata": {
    "tags": []
   },
   "source": [
    "### Find krippendorff's alpha for HO3 and the agreement between HO1 and HO2"
   ]
  },
  {
   "cell_type": "code",
   "execution_count": 36,
   "id": "887cf7dd-5ca0-4957-a2a0-7aac1f27b675",
   "metadata": {},
   "outputs": [],
   "source": [
    "HO3_2 = np.stack(df2['TargetHO3'].astype(\"string\"))\n",
    "HOA_2 = np.stack(df2['AgreedTarget'].astype(\"string\")) #Agreed Target"
   ]
  },
  {
   "cell_type": "code",
   "execution_count": 37,
   "id": "88a2fc84-8d8a-46f6-b6ee-7b14a9f60baa",
   "metadata": {},
   "outputs": [
    {
     "data": {
      "text/plain": [
       "0.8496124031007752"
      ]
     },
     "execution_count": 37,
     "metadata": {},
     "output_type": "execute_result"
    }
   ],
   "source": [
    "arr2 = np.array((HO3_2, HOA_2))\n",
    "missing = '-1'\n",
    "alpha2 = krippendorff_alpha(arr2, nominal_metric, missing_items=missing)\n",
    "alpha2"
   ]
  },
  {
   "cell_type": "code",
   "execution_count": 38,
   "id": "ae08d49e-5e72-48fe-af24-488ca04a65cd",
   "metadata": {},
   "outputs": [],
   "source": [
    "alpha = (alpha1 + alpha2) / 2"
   ]
  },
  {
   "cell_type": "code",
   "execution_count": 39,
   "id": "c371bbb8-3f45-4858-9257-e770e01b098f",
   "metadata": {},
   "outputs": [
    {
     "data": {
      "text/plain": [
       "0.8061771132698632"
      ]
     },
     "execution_count": 39,
     "metadata": {},
     "output_type": "execute_result"
    }
   ],
   "source": [
    "alpha"
   ]
  },
  {
   "cell_type": "markdown",
   "id": "b0451d69-d37a-4c44-9140-3e247630fed8",
   "metadata": {},
   "source": [
    "### Get the subset with no agreement between HO1, HO2 and HO3"
   ]
  },
  {
   "cell_type": "code",
   "execution_count": 40,
   "id": "9ab2d3db-109b-4655-a77f-66ba8c0c2843",
   "metadata": {},
   "outputs": [],
   "source": [
    "df3 = df2[df2.AgreedLabel == -1] "
   ]
  },
  {
   "cell_type": "code",
   "execution_count": 41,
   "id": "f71d09b0-fd37-4cd8-8b27-d1a6ad52739f",
   "metadata": {},
   "outputs": [
    {
     "data": {
      "text/plain": [
       "19"
      ]
     },
     "execution_count": 41,
     "metadata": {},
     "output_type": "execute_result"
    }
   ],
   "source": [
    "len(df3)"
   ]
  },
  {
   "cell_type": "code",
   "execution_count": 42,
   "id": "a5ccbeaf-6312-4ab5-906b-6e7d3fe2a01f",
   "metadata": {},
   "outputs": [
    {
     "data": {
      "text/html": [
       "<div>\n",
       "<style scoped>\n",
       "    .dataframe tbody tr th:only-of-type {\n",
       "        vertical-align: middle;\n",
       "    }\n",
       "\n",
       "    .dataframe tbody tr th {\n",
       "        vertical-align: top;\n",
       "    }\n",
       "\n",
       "    .dataframe thead th {\n",
       "        text-align: right;\n",
       "    }\n",
       "</style>\n",
       "<table border=\"1\" class=\"dataframe\">\n",
       "  <thead>\n",
       "    <tr style=\"text-align: right;\">\n",
       "      <th></th>\n",
       "      <th>RecID</th>\n",
       "      <th>PubTitle</th>\n",
       "      <th>RecDoc</th>\n",
       "      <th>TargetHO1</th>\n",
       "      <th>TargetHO2</th>\n",
       "      <th>TargetHO3</th>\n",
       "      <th>LabelHO1</th>\n",
       "      <th>LabelHO2</th>\n",
       "      <th>LabelHO3</th>\n",
       "      <th>AgreedTarget</th>\n",
       "      <th>AgreedLabel</th>\n",
       "    </tr>\n",
       "  </thead>\n",
       "  <tbody>\n",
       "    <tr>\n",
       "      <th>39</th>\n",
       "      <td>1180954142396710912</td>\n",
       "      <td>Hearthstone gamer banned for Hong Kong protest</td>\n",
       "      <td>[BREAKING] Hong Kong Hearthstone player @blitz...</td>\n",
       "      <td>5</td>\n",
       "      <td>1</td>\n",
       "      <td>6</td>\n",
       "      <td>Human Rights</td>\n",
       "      <td>Business</td>\n",
       "      <td>Politics</td>\n",
       "      <td>-1</td>\n",
       "      <td>-1</td>\n",
       "    </tr>\n",
       "    <tr>\n",
       "      <th>43</th>\n",
       "      <td>1181212982128328705</td>\n",
       "      <td>Passport facial recognition checks fail to wor...</td>\n",
       "      <td>This is our @algoface 209 point Facial Landmar...</td>\n",
       "      <td>5</td>\n",
       "      <td>10</td>\n",
       "      <td>1</td>\n",
       "      <td>Human Rights</td>\n",
       "      <td>Social Stories</td>\n",
       "      <td>Business</td>\n",
       "      <td>-1</td>\n",
       "      <td>-1</td>\n",
       "    </tr>\n",
       "  </tbody>\n",
       "</table>\n",
       "</div>"
      ],
      "text/plain": [
       "                  RecID                                           PubTitle  \\\n",
       "39  1180954142396710912     Hearthstone gamer banned for Hong Kong protest   \n",
       "43  1181212982128328705  Passport facial recognition checks fail to wor...   \n",
       "\n",
       "                                               RecDoc TargetHO1 TargetHO2  \\\n",
       "39  [BREAKING] Hong Kong Hearthstone player @blitz...         5         1   \n",
       "43  This is our @algoface 209 point Facial Landmar...         5        10   \n",
       "\n",
       "   TargetHO3      LabelHO1        LabelHO2  LabelHO3 AgreedTarget AgreedLabel  \n",
       "39         6  Human Rights        Business  Politics           -1          -1  \n",
       "43         1  Human Rights  Social Stories  Business           -1          -1  "
      ]
     },
     "execution_count": 42,
     "metadata": {},
     "output_type": "execute_result"
    }
   ],
   "source": [
    "df3.head(2)"
   ]
  },
  {
   "cell_type": "code",
   "execution_count": 43,
   "id": "3f4dfa4a-bef1-4674-bbde-9fa3dc568e0a",
   "metadata": {},
   "outputs": [],
   "source": [
    "df_NoAgreeHO1HO2HO3 = pd.DataFrame()"
   ]
  },
  {
   "cell_type": "code",
   "execution_count": 44,
   "id": "1e2cfc8f-16b5-4db7-8976-b53c0a52ef3a",
   "metadata": {},
   "outputs": [],
   "source": [
    "df_NoAgreeHO1HO2HO3['RecID'] = df3['RecID']"
   ]
  },
  {
   "cell_type": "code",
   "execution_count": 45,
   "id": "d7016d3e-5279-459c-85b8-02944ee01bf7",
   "metadata": {},
   "outputs": [],
   "source": [
    "df_NoAgreeHO1HO2HO3['Label'] = \"Unknown\"\n",
    "df_NoAgreeHO1HO2HO3['Target'] = 0"
   ]
  },
  {
   "cell_type": "code",
   "execution_count": 46,
   "id": "ac99e934-8fc3-494e-9cef-686fd34b0925",
   "metadata": {},
   "outputs": [
    {
     "data": {
      "text/html": [
       "<div>\n",
       "<style scoped>\n",
       "    .dataframe tbody tr th:only-of-type {\n",
       "        vertical-align: middle;\n",
       "    }\n",
       "\n",
       "    .dataframe tbody tr th {\n",
       "        vertical-align: top;\n",
       "    }\n",
       "\n",
       "    .dataframe thead th {\n",
       "        text-align: right;\n",
       "    }\n",
       "</style>\n",
       "<table border=\"1\" class=\"dataframe\">\n",
       "  <thead>\n",
       "    <tr style=\"text-align: right;\">\n",
       "      <th></th>\n",
       "      <th>RecID</th>\n",
       "      <th>Label</th>\n",
       "      <th>Target</th>\n",
       "    </tr>\n",
       "  </thead>\n",
       "  <tbody>\n",
       "    <tr>\n",
       "      <th>39</th>\n",
       "      <td>1180954142396710912</td>\n",
       "      <td>Unknown</td>\n",
       "      <td>0</td>\n",
       "    </tr>\n",
       "    <tr>\n",
       "      <th>43</th>\n",
       "      <td>1181212982128328705</td>\n",
       "      <td>Unknown</td>\n",
       "      <td>0</td>\n",
       "    </tr>\n",
       "  </tbody>\n",
       "</table>\n",
       "</div>"
      ],
      "text/plain": [
       "                  RecID    Label  Target\n",
       "39  1180954142396710912  Unknown       0\n",
       "43  1181212982128328705  Unknown       0"
      ]
     },
     "execution_count": 46,
     "metadata": {},
     "output_type": "execute_result"
    }
   ],
   "source": [
    "df_NoAgreeHO1HO2HO3.head(2)"
   ]
  },
  {
   "cell_type": "code",
   "execution_count": 47,
   "id": "c30f539d-7c9d-44fd-8cfb-820e310ce20e",
   "metadata": {},
   "outputs": [
    {
     "data": {
      "text/plain": [
       "19"
      ]
     },
     "execution_count": 47,
     "metadata": {},
     "output_type": "execute_result"
    }
   ],
   "source": [
    "len(df_NoAgreeHO1HO2HO3)"
   ]
  },
  {
   "cell_type": "code",
   "execution_count": 48,
   "id": "fe65b794-369a-44c3-b8a1-2af930444491",
   "metadata": {},
   "outputs": [],
   "source": [
    "df_reGoundTruth = pd.concat([df_AgreeHO1HO2, df_AgreeHO1HO2HO3], axis = 0)"
   ]
  },
  {
   "cell_type": "code",
   "execution_count": 49,
   "id": "d64b6145-7d0a-4b96-9a25-51f54588eabc",
   "metadata": {},
   "outputs": [
    {
     "data": {
      "text/plain": [
       "854"
      ]
     },
     "execution_count": 49,
     "metadata": {},
     "output_type": "execute_result"
    }
   ],
   "source": [
    "len(df_reGoundTruth)"
   ]
  },
  {
   "cell_type": "code",
   "execution_count": 50,
   "id": "d382fdd5-0ec4-4362-a84c-04f1ba1a9835",
   "metadata": {},
   "outputs": [
    {
     "data": {
      "text/html": [
       "<div>\n",
       "<style scoped>\n",
       "    .dataframe tbody tr th:only-of-type {\n",
       "        vertical-align: middle;\n",
       "    }\n",
       "\n",
       "    .dataframe tbody tr th {\n",
       "        vertical-align: top;\n",
       "    }\n",
       "\n",
       "    .dataframe thead th {\n",
       "        text-align: right;\n",
       "    }\n",
       "</style>\n",
       "<table border=\"1\" class=\"dataframe\">\n",
       "  <thead>\n",
       "    <tr style=\"text-align: right;\">\n",
       "      <th></th>\n",
       "      <th>RecID</th>\n",
       "      <th>Target</th>\n",
       "      <th>Label</th>\n",
       "    </tr>\n",
       "  </thead>\n",
       "  <tbody>\n",
       "    <tr>\n",
       "      <th>0</th>\n",
       "      <td>1089699762331217920</td>\n",
       "      <td>1</td>\n",
       "      <td>Business</td>\n",
       "    </tr>\n",
       "    <tr>\n",
       "      <th>2</th>\n",
       "      <td>1139309394968096768</td>\n",
       "      <td>6</td>\n",
       "      <td>Politics</td>\n",
       "    </tr>\n",
       "  </tbody>\n",
       "</table>\n",
       "</div>"
      ],
      "text/plain": [
       "                 RecID Target     Label\n",
       "0  1089699762331217920      1  Business\n",
       "2  1139309394968096768      6  Politics"
      ]
     },
     "execution_count": 50,
     "metadata": {},
     "output_type": "execute_result"
    }
   ],
   "source": [
    "df_reGoundTruth.head(2)"
   ]
  },
  {
   "cell_type": "markdown",
   "id": "8ef9ded0-8461-44ec-9141-16d510dd09cd",
   "metadata": {},
   "source": [
    "### Write Output files"
   ]
  },
  {
   "cell_type": "code",
   "execution_count": 51,
   "id": "4ed52591-38b8-4ef1-99e4-4f94a61f59de",
   "metadata": {},
   "outputs": [],
   "source": [
    "#df_reGoundTruth.to_csv('data/GTxM_Pass1/reGTr_RecIDs.csv')"
   ]
  },
  {
   "cell_type": "code",
   "execution_count": 52,
   "id": "2f4dbc73-973e-43e4-8079-54f8b17a76d2",
   "metadata": {},
   "outputs": [],
   "source": [
    "#df_NoAgreeHO1HO2HO3.to_csv('data/GTxM_Pass1/reGTr_noAgree_RecIDs.csv')"
   ]
  },
  {
   "cell_type": "markdown",
   "id": "30055803-281d-4c39-8a58-b1617de92049",
   "metadata": {},
   "source": [
    "### Create reGTrTokens dataset for SVM"
   ]
  },
  {
   "cell_type": "code",
   "execution_count": 166,
   "id": "b6eee30d-c771-4d5d-8ccb-b470b3202219",
   "metadata": {},
   "outputs": [],
   "source": [
    "# core table required for BERT/XLNet Algorithm requirement\n",
    "df_tokens = pd.read_csv(\"data/MasterTokens.csv\", dtype='str')"
   ]
  },
  {
   "cell_type": "code",
   "execution_count": 167,
   "id": "3f93c9c8-f1d1-41b3-b43b-5fda42ecefcf",
   "metadata": {},
   "outputs": [
    {
     "data": {
      "text/html": [
       "<div>\n",
       "<style scoped>\n",
       "    .dataframe tbody tr th:only-of-type {\n",
       "        vertical-align: middle;\n",
       "    }\n",
       "\n",
       "    .dataframe tbody tr th {\n",
       "        vertical-align: top;\n",
       "    }\n",
       "\n",
       "    .dataframe thead th {\n",
       "        text-align: right;\n",
       "    }\n",
       "</style>\n",
       "<table border=\"1\" class=\"dataframe\">\n",
       "  <thead>\n",
       "    <tr style=\"text-align: right;\">\n",
       "      <th></th>\n",
       "      <th>rowid</th>\n",
       "      <th>RecID</th>\n",
       "      <th>PubTitle</th>\n",
       "      <th>RecDoc</th>\n",
       "      <th>countSupTweets</th>\n",
       "      <th>smrHashtags</th>\n",
       "      <th>smrMentions</th>\n",
       "      <th>smrNER</th>\n",
       "      <th>smrNouns</th>\n",
       "      <th>smrVerbs</th>\n",
       "      <th>smrAdverbs</th>\n",
       "      <th>smrAdjectives</th>\n",
       "      <th>smrTopText</th>\n",
       "      <th>smrSummary</th>\n",
       "    </tr>\n",
       "  </thead>\n",
       "  <tbody>\n",
       "    <tr>\n",
       "      <th>0</th>\n",
       "      <td>0</td>\n",
       "      <td>11947603240</td>\n",
       "      <td>Ed Sheeran, Drake and Justin Bieber: What were...</td>\n",
       "      <td>I think I have part created a pretty amazing s...</td>\n",
       "      <td>0.0</td>\n",
       "      <td></td>\n",
       "      <td></td>\n",
       "      <td></td>\n",
       "      <td>part song lie</td>\n",
       "      <td>creat</td>\n",
       "      <td>pretti</td>\n",
       "      <td>amaz</td>\n",
       "      <td>I think I have part created a pretty amazing s...</td>\n",
       "      <td>Summarization skipped (text is 1000 characters...</td>\n",
       "    </tr>\n",
       "    <tr>\n",
       "      <th>1</th>\n",
       "      <td>1</td>\n",
       "      <td>12643331537</td>\n",
       "      <td>Ed Sheeran, Drake and Justin Bieber: What were...</td>\n",
       "      <td>can i have one more follower please... i would...</td>\n",
       "      <td>1.0</td>\n",
       "      <td></td>\n",
       "      <td>jessglynne</td>\n",
       "      <td></td>\n",
       "      <td>follow igcom club gpsi</td>\n",
       "      <td>love</td>\n",
       "      <td></td>\n",
       "      <td>top</td>\n",
       "      <td>can i have one more follower please... i would...</td>\n",
       "      <td>Summarization skipped (text is 1000 characters...</td>\n",
       "    </tr>\n",
       "  </tbody>\n",
       "</table>\n",
       "</div>"
      ],
      "text/plain": [
       "  rowid        RecID                                           PubTitle  \\\n",
       "0     0  11947603240  Ed Sheeran, Drake and Justin Bieber: What were...   \n",
       "1     1  12643331537  Ed Sheeran, Drake and Justin Bieber: What were...   \n",
       "\n",
       "                                              RecDoc countSupTweets  \\\n",
       "0  I think I have part created a pretty amazing s...            0.0   \n",
       "1  can i have one more follower please... i would...            1.0   \n",
       "\n",
       "  smrHashtags smrMentions smrNER                smrNouns smrVerbs smrAdverbs  \\\n",
       "0                                          part song lie    creat     pretti   \n",
       "1              jessglynne         follow igcom club gpsi     love              \n",
       "\n",
       "  smrAdjectives                                         smrTopText  \\\n",
       "0          amaz  I think I have part created a pretty amazing s...   \n",
       "1           top  can i have one more follower please... i would...   \n",
       "\n",
       "                                          smrSummary  \n",
       "0  Summarization skipped (text is 1000 characters...  \n",
       "1  Summarization skipped (text is 1000 characters...  "
      ]
     },
     "execution_count": 167,
     "metadata": {},
     "output_type": "execute_result"
    }
   ],
   "source": [
    "df_tokens.head(2)"
   ]
  },
  {
   "cell_type": "code",
   "execution_count": 170,
   "id": "cfd9fd44-3478-46ec-a4b5-fb208380d647",
   "metadata": {},
   "outputs": [],
   "source": [
    "df_reGoundTruthTokens = pd.DataFrame()"
   ]
  },
  {
   "cell_type": "code",
   "execution_count": 172,
   "id": "18bdb8ba-0541-483c-958d-65c774f2849d",
   "metadata": {},
   "outputs": [],
   "source": [
    "df_reGoundTruthTokens = pd.merge(df_reGoundTruth,df_tokens, on='RecID', how='inner')"
   ]
  },
  {
   "cell_type": "code",
   "execution_count": 173,
   "id": "48aae9b3-7a67-4d4f-9140-3b6a5596885b",
   "metadata": {},
   "outputs": [
    {
     "data": {
      "text/html": [
       "<div>\n",
       "<style scoped>\n",
       "    .dataframe tbody tr th:only-of-type {\n",
       "        vertical-align: middle;\n",
       "    }\n",
       "\n",
       "    .dataframe tbody tr th {\n",
       "        vertical-align: top;\n",
       "    }\n",
       "\n",
       "    .dataframe thead th {\n",
       "        text-align: right;\n",
       "    }\n",
       "</style>\n",
       "<table border=\"1\" class=\"dataframe\">\n",
       "  <thead>\n",
       "    <tr style=\"text-align: right;\">\n",
       "      <th></th>\n",
       "      <th>RecID</th>\n",
       "      <th>Target</th>\n",
       "      <th>Label</th>\n",
       "      <th>rowid</th>\n",
       "      <th>PubTitle</th>\n",
       "      <th>RecDoc</th>\n",
       "      <th>countSupTweets</th>\n",
       "      <th>smrHashtags</th>\n",
       "      <th>smrMentions</th>\n",
       "      <th>smrNER</th>\n",
       "      <th>smrNouns</th>\n",
       "      <th>smrVerbs</th>\n",
       "      <th>smrAdverbs</th>\n",
       "      <th>smrAdjectives</th>\n",
       "      <th>smrTopText</th>\n",
       "      <th>smrSummary</th>\n",
       "    </tr>\n",
       "  </thead>\n",
       "  <tbody>\n",
       "    <tr>\n",
       "      <th>0</th>\n",
       "      <td>1089699762331217920</td>\n",
       "      <td>1</td>\n",
       "      <td>Business</td>\n",
       "      <td>192</td>\n",
       "      <td>Peloton exercise bike ad mocked as being 'sexi...</td>\n",
       "      <td>Love putting my Peloton bike in the most strik...</td>\n",
       "      <td>118.0</td>\n",
       "      <td>hilarious pton homesteadexemption realproblems...</td>\n",
       "      <td>profgalloway dpshow dirrtydut danglebus nicksc...</td>\n",
       "      <td>peloton serious later coupl monthli minut king...</td>\n",
       "      <td>love peloton bike area hous wife glanc hubbi e...</td>\n",
       "      <td>keep trap doe pedal whogco buy broke buy play ...</td>\n",
       "      <td>matter away serious later fast btw though outd...</td>\n",
       "      <td>strike ultra modern nervou dark right perfect ...</td>\n",
       "      <td>Love putting my Peloton bike in the most strik...</td>\n",
       "      <td>Love putting my Peloton bike in the most strik...</td>\n",
       "    </tr>\n",
       "    <tr>\n",
       "      <th>1</th>\n",
       "      <td>1139309394968096768</td>\n",
       "      <td>6</td>\n",
       "      <td>Politics</td>\n",
       "      <td>291</td>\n",
       "      <td>Six Takeaways From Senators' Questions to Impe...</td>\n",
       "      <td>I would not have thought that I needed to say ...</td>\n",
       "      <td>25.0</td>\n",
       "      <td>clintonfoundation corruptcomplicitgop clintons...</td>\n",
       "      <td>ellenlweintraub k9dancerpovey nypapajoe killer...</td>\n",
       "      <td>agenda us elect statu quo unsustain american b...</td>\n",
       "      <td>intern corpor polit agenda us elect polit dona...</td>\n",
       "      <td>control influenc destroy wipe cheat breath myb...</td>\n",
       "      <td>care right behind forward total appar</td>\n",
       "      <td>vast unsustain unaccept question possibl fair ...</td>\n",
       "      <td>I would not have thought that I needed to say ...</td>\n",
       "      <td>I would not have thought that I needed to say ...</td>\n",
       "    </tr>\n",
       "  </tbody>\n",
       "</table>\n",
       "</div>"
      ],
      "text/plain": [
       "                 RecID Target     Label rowid  \\\n",
       "0  1089699762331217920      1  Business   192   \n",
       "1  1139309394968096768      6  Politics   291   \n",
       "\n",
       "                                            PubTitle  \\\n",
       "0  Peloton exercise bike ad mocked as being 'sexi...   \n",
       "1  Six Takeaways From Senators' Questions to Impe...   \n",
       "\n",
       "                                              RecDoc countSupTweets  \\\n",
       "0  Love putting my Peloton bike in the most strik...          118.0   \n",
       "1  I would not have thought that I needed to say ...           25.0   \n",
       "\n",
       "                                         smrHashtags  \\\n",
       "0  hilarious pton homesteadexemption realproblems...   \n",
       "1  clintonfoundation corruptcomplicitgop clintons...   \n",
       "\n",
       "                                         smrMentions  \\\n",
       "0  profgalloway dpshow dirrtydut danglebus nicksc...   \n",
       "1  ellenlweintraub k9dancerpovey nypapajoe killer...   \n",
       "\n",
       "                                              smrNER  \\\n",
       "0  peloton serious later coupl monthli minut king...   \n",
       "1  agenda us elect statu quo unsustain american b...   \n",
       "\n",
       "                                            smrNouns  \\\n",
       "0  love peloton bike area hous wife glanc hubbi e...   \n",
       "1  intern corpor polit agenda us elect polit dona...   \n",
       "\n",
       "                                            smrVerbs  \\\n",
       "0  keep trap doe pedal whogco buy broke buy play ...   \n",
       "1  control influenc destroy wipe cheat breath myb...   \n",
       "\n",
       "                                          smrAdverbs  \\\n",
       "0  matter away serious later fast btw though outd...   \n",
       "1              care right behind forward total appar   \n",
       "\n",
       "                                       smrAdjectives  \\\n",
       "0  strike ultra modern nervou dark right perfect ...   \n",
       "1  vast unsustain unaccept question possibl fair ...   \n",
       "\n",
       "                                          smrTopText  \\\n",
       "0  Love putting my Peloton bike in the most strik...   \n",
       "1  I would not have thought that I needed to say ...   \n",
       "\n",
       "                                          smrSummary  \n",
       "0  Love putting my Peloton bike in the most strik...  \n",
       "1  I would not have thought that I needed to say ...  "
      ]
     },
     "execution_count": 173,
     "metadata": {},
     "output_type": "execute_result"
    }
   ],
   "source": [
    "df_reGoundTruthTokens.head(2)"
   ]
  },
  {
   "cell_type": "code",
   "execution_count": 174,
   "id": "208b9ada-da7c-4453-8bbc-912667b816a6",
   "metadata": {},
   "outputs": [
    {
     "data": {
      "text/plain": [
       "854"
      ]
     },
     "execution_count": 174,
     "metadata": {},
     "output_type": "execute_result"
    }
   ],
   "source": [
    "len(df_reGoundTruthTokens)"
   ]
  },
  {
   "cell_type": "code",
   "execution_count": 176,
   "id": "09431e01-f2a0-45f1-be39-c4dcf16bc506",
   "metadata": {},
   "outputs": [],
   "source": [
    "df_reGoundTruthTokens.to_csv('data/GTxM_Pass1/reGTr_Tokens.csv')"
   ]
  },
  {
   "cell_type": "code",
   "execution_count": 181,
   "id": "cafcb43d-2b7a-4700-a66b-8fc53a2e61ad",
   "metadata": {},
   "outputs": [],
   "source": [
    "df_reGTrTokensNoAgree = pd.merge(df_NoAgreeHO1HO2HO3,df_tokens, on='RecID', how='inner')"
   ]
  },
  {
   "cell_type": "code",
   "execution_count": 182,
   "id": "9950733b-0a27-4bb3-b996-09aee379ba7b",
   "metadata": {},
   "outputs": [
    {
     "data": {
      "text/html": [
       "<div>\n",
       "<style scoped>\n",
       "    .dataframe tbody tr th:only-of-type {\n",
       "        vertical-align: middle;\n",
       "    }\n",
       "\n",
       "    .dataframe tbody tr th {\n",
       "        vertical-align: top;\n",
       "    }\n",
       "\n",
       "    .dataframe thead th {\n",
       "        text-align: right;\n",
       "    }\n",
       "</style>\n",
       "<table border=\"1\" class=\"dataframe\">\n",
       "  <thead>\n",
       "    <tr style=\"text-align: right;\">\n",
       "      <th></th>\n",
       "      <th>RecID</th>\n",
       "      <th>Label</th>\n",
       "      <th>Target</th>\n",
       "      <th>rowid</th>\n",
       "      <th>PubTitle</th>\n",
       "      <th>RecDoc</th>\n",
       "      <th>countSupTweets</th>\n",
       "      <th>smrHashtags</th>\n",
       "      <th>smrMentions</th>\n",
       "      <th>smrNER</th>\n",
       "      <th>smrNouns</th>\n",
       "      <th>smrVerbs</th>\n",
       "      <th>smrAdverbs</th>\n",
       "      <th>smrAdjectives</th>\n",
       "      <th>smrTopText</th>\n",
       "      <th>smrSummary</th>\n",
       "    </tr>\n",
       "  </thead>\n",
       "  <tbody>\n",
       "    <tr>\n",
       "      <th>0</th>\n",
       "      <td>1180954142396710912</td>\n",
       "      <td>Unknown</td>\n",
       "      <td>0</td>\n",
       "      <td>651</td>\n",
       "      <td>Hearthstone gamer banned for Hong Kong protest</td>\n",
       "      <td>[BREAKING] Hong Kong Hearthstone player @blitz...</td>\n",
       "      <td>260.0</td>\n",
       "      <td>hongkong thaou+&gt;&gt; antimaskban glorytohongkong ...</td>\n",
       "      <td>gen_heleno sf_moro galileocheng blitzcjunghs t...</td>\n",
       "      <td>hong kong hearthston mandarin bc china free ho...</td>\n",
       "      <td>hong kong hearthston player liber countri inte...</td>\n",
       "      <td>burn destroy hurt bc revolut watch allow ruin ...</td>\n",
       "      <td>afterward instead truli longer suddenli overni...</td>\n",
       "      <td>post game innoc pathet corpor terribl polit in...</td>\n",
       "      <td>[BREAKING] Hong Kong Hearthstone player @blitz...</td>\n",
       "      <td>[BREAKING] Hong Kong Hearthstone player calls ...</td>\n",
       "    </tr>\n",
       "    <tr>\n",
       "      <th>1</th>\n",
       "      <td>1181212982128328705</td>\n",
       "      <td>Unknown</td>\n",
       "      <td>0</td>\n",
       "      <td>696</td>\n",
       "      <td>Passport facial recognition checks fail to wor...</td>\n",
       "      <td>This is our @algoface 209 point Facial Landmar...</td>\n",
       "      <td>57.0</td>\n",
       "      <td>facemask radssoon developer genderbias compute...</td>\n",
       "      <td>drjamiegraves hal_9000_ai sisofmoses bourdakos...</td>\n",
       "      <td>facial landmark tracker ff london bc western c...</td>\n",
       "      <td>point facial landmark tracker face problem fac...</td>\n",
       "      <td>work face mean detect resurfac sell tri includ...</td>\n",
       "      <td>actual notori deliber properli super pretti aw...</td>\n",
       "      <td>virtual minimum particular bandag bias brillia...</td>\n",
       "      <td>This is our @algoface 209 point Facial Landmar...</td>\n",
       "      <td>This is our 209 point Facial Landmark Tracker,...</td>\n",
       "    </tr>\n",
       "  </tbody>\n",
       "</table>\n",
       "</div>"
      ],
      "text/plain": [
       "                 RecID    Label  Target rowid  \\\n",
       "0  1180954142396710912  Unknown       0   651   \n",
       "1  1181212982128328705  Unknown       0   696   \n",
       "\n",
       "                                            PubTitle  \\\n",
       "0     Hearthstone gamer banned for Hong Kong protest   \n",
       "1  Passport facial recognition checks fail to wor...   \n",
       "\n",
       "                                              RecDoc countSupTweets  \\\n",
       "0  [BREAKING] Hong Kong Hearthstone player @blitz...          260.0   \n",
       "1  This is our @algoface 209 point Facial Landmar...           57.0   \n",
       "\n",
       "                                         smrHashtags  \\\n",
       "0  hongkong thaou+>> antimaskban glorytohongkong ...   \n",
       "1  facemask radssoon developer genderbias compute...   \n",
       "\n",
       "                                         smrMentions  \\\n",
       "0  gen_heleno sf_moro galileocheng blitzcjunghs t...   \n",
       "1  drjamiegraves hal_9000_ai sisofmoses bourdakos...   \n",
       "\n",
       "                                              smrNER  \\\n",
       "0  hong kong hearthston mandarin bc china free ho...   \n",
       "1  facial landmark tracker ff london bc western c...   \n",
       "\n",
       "                                            smrNouns  \\\n",
       "0  hong kong hearthston player liber countri inte...   \n",
       "1  point facial landmark tracker face problem fac...   \n",
       "\n",
       "                                            smrVerbs  \\\n",
       "0  burn destroy hurt bc revolut watch allow ruin ...   \n",
       "1  work face mean detect resurfac sell tri includ...   \n",
       "\n",
       "                                          smrAdverbs  \\\n",
       "0  afterward instead truli longer suddenli overni...   \n",
       "1  actual notori deliber properli super pretti aw...   \n",
       "\n",
       "                                       smrAdjectives  \\\n",
       "0  post game innoc pathet corpor terribl polit in...   \n",
       "1  virtual minimum particular bandag bias brillia...   \n",
       "\n",
       "                                          smrTopText  \\\n",
       "0  [BREAKING] Hong Kong Hearthstone player @blitz...   \n",
       "1  This is our @algoface 209 point Facial Landmar...   \n",
       "\n",
       "                                          smrSummary  \n",
       "0  [BREAKING] Hong Kong Hearthstone player calls ...  \n",
       "1  This is our 209 point Facial Landmark Tracker,...  "
      ]
     },
     "execution_count": 182,
     "metadata": {},
     "output_type": "execute_result"
    }
   ],
   "source": [
    "df_reGTrTokensNoAgree.head(2)"
   ]
  },
  {
   "cell_type": "code",
   "execution_count": 183,
   "id": "ba79d43d-94dd-437e-b8aa-2102d0ea0550",
   "metadata": {},
   "outputs": [
    {
     "data": {
      "text/plain": [
       "19"
      ]
     },
     "execution_count": 183,
     "metadata": {},
     "output_type": "execute_result"
    }
   ],
   "source": [
    "len(df_reGTrTokensNoAgree)"
   ]
  },
  {
   "cell_type": "code",
   "execution_count": 232,
   "id": "5d7924cb-f7d5-461d-ba3b-1aa6bce81334",
   "metadata": {},
   "outputs": [],
   "source": [
    "df_reGTrTokensNoAgree.to_csv('data/GTxM_Pass1/reGTr_Tokens_NoAgree.csv')"
   ]
  },
  {
   "cell_type": "markdown",
   "id": "89f1365f-314f-4648-94b2-f0e652ac1029",
   "metadata": {},
   "source": [
    "### Create reGTrDecomposed dataset for BERT/XLNet"
   ]
  },
  {
   "cell_type": "code",
   "execution_count": 210,
   "id": "cb45668e-3942-4f5c-8442-39b35f6f9c9d",
   "metadata": {},
   "outputs": [],
   "source": [
    "# core table required for BERT/XLNet Algorithm requirement\n",
    "df_decomposed = pd.read_csv(\"data/GrounTruthBERT.csv\", dtype='str')"
   ]
  },
  {
   "cell_type": "code",
   "execution_count": 211,
   "id": "090fe18f-01f3-43dc-b284-a5450020bb88",
   "metadata": {},
   "outputs": [
    {
     "data": {
      "text/html": [
       "<div>\n",
       "<style scoped>\n",
       "    .dataframe tbody tr th:only-of-type {\n",
       "        vertical-align: middle;\n",
       "    }\n",
       "\n",
       "    .dataframe tbody tr th {\n",
       "        vertical-align: top;\n",
       "    }\n",
       "\n",
       "    .dataframe thead th {\n",
       "        text-align: right;\n",
       "    }\n",
       "</style>\n",
       "<table border=\"1\" class=\"dataframe\">\n",
       "  <thead>\n",
       "    <tr style=\"text-align: right;\">\n",
       "      <th></th>\n",
       "      <th>Unnamed: 0</th>\n",
       "      <th>TID</th>\n",
       "      <th>OrigTweet</th>\n",
       "      <th>CleanTweetNoHttp</th>\n",
       "      <th>CleanTweetNoSpecChar</th>\n",
       "      <th>HashTags</th>\n",
       "      <th>Mentions</th>\n",
       "      <th>InReplyTo</th>\n",
       "      <th>ArticleTitle</th>\n",
       "      <th>CountReplyTweets</th>\n",
       "      <th>CountReplyWords</th>\n",
       "      <th>CountReplyChars</th>\n",
       "      <th>Target</th>\n",
       "      <th>Label</th>\n",
       "    </tr>\n",
       "  </thead>\n",
       "  <tbody>\n",
       "    <tr>\n",
       "      <th>0</th>\n",
       "      <td>0</td>\n",
       "      <td>826262311560216578</td>\n",
       "      <td>#coup has started. First of many steps. #rebel...</td>\n",
       "      <td>#coup has started. first of many steps. #rebel...</td>\n",
       "      <td>coup has started first of many steps rebellion...</td>\n",
       "      <td>coup rebellion impeachment lawyers</td>\n",
       "      <td></td>\n",
       "      <td>NaN</td>\n",
       "      <td>Assessing the Impeachment Defenses Offered by ...</td>\n",
       "      <td>76</td>\n",
       "      <td>NaN</td>\n",
       "      <td>NaN</td>\n",
       "      <td>10</td>\n",
       "      <td>Politics</td>\n",
       "    </tr>\n",
       "    <tr>\n",
       "      <th>1</th>\n",
       "      <td>1</td>\n",
       "      <td>1193437298303438858</td>\n",
       "      <td>@MarkSZaidEsq @jody_prichard Funny you want to...</td>\n",
       "      <td>@markszaidesq @jody_prichard funny you want to...</td>\n",
       "      <td>markszaidesq jody_prichard funny you want to d...</td>\n",
       "      <td>NaN</td>\n",
       "      <td>@jody_prichard @markszaidesq</td>\n",
       "      <td>826262311560216578</td>\n",
       "      <td>NaN</td>\n",
       "      <td>NaN</td>\n",
       "      <td>51</td>\n",
       "      <td>313</td>\n",
       "      <td>10</td>\n",
       "      <td>Politics</td>\n",
       "    </tr>\n",
       "  </tbody>\n",
       "</table>\n",
       "</div>"
      ],
      "text/plain": [
       "  Unnamed: 0                  TID  \\\n",
       "0          0   826262311560216578   \n",
       "1          1  1193437298303438858   \n",
       "\n",
       "                                           OrigTweet  \\\n",
       "0  #coup has started. First of many steps. #rebel...   \n",
       "1  @MarkSZaidEsq @jody_prichard Funny you want to...   \n",
       "\n",
       "                                    CleanTweetNoHttp  \\\n",
       "0  #coup has started. first of many steps. #rebel...   \n",
       "1  @markszaidesq @jody_prichard funny you want to...   \n",
       "\n",
       "                                CleanTweetNoSpecChar  \\\n",
       "0  coup has started first of many steps rebellion...   \n",
       "1  markszaidesq jody_prichard funny you want to d...   \n",
       "\n",
       "                             HashTags                      Mentions  \\\n",
       "0  coup rebellion impeachment lawyers                                 \n",
       "1                                 NaN  @jody_prichard @markszaidesq   \n",
       "\n",
       "            InReplyTo                                       ArticleTitle  \\\n",
       "0                 NaN  Assessing the Impeachment Defenses Offered by ...   \n",
       "1  826262311560216578                                                NaN   \n",
       "\n",
       "  CountReplyTweets CountReplyWords CountReplyChars Target     Label  \n",
       "0               76             NaN             NaN     10  Politics  \n",
       "1              NaN              51             313     10  Politics  "
      ]
     },
     "execution_count": 211,
     "metadata": {},
     "output_type": "execute_result"
    }
   ],
   "source": [
    "df_decomposed.head(2)"
   ]
  },
  {
   "cell_type": "code",
   "execution_count": 212,
   "id": "9318042a-1b29-489b-8d7a-9cccf2ac3341",
   "metadata": {},
   "outputs": [
    {
     "data": {
      "text/plain": [
       "124977"
      ]
     },
     "execution_count": 212,
     "metadata": {},
     "output_type": "execute_result"
    }
   ],
   "source": [
    "len(df_decomposed)"
   ]
  },
  {
   "cell_type": "code",
   "execution_count": 213,
   "id": "d20413ab-b1c8-4830-81cc-560e8c2c8680",
   "metadata": {},
   "outputs": [],
   "source": [
    "# Remove the existing Target and Label columns -- we will replace them with the new reGTr values\n",
    "df_decomposed.drop(['Target', 'Label'], axis=1, inplace=True)"
   ]
  },
  {
   "cell_type": "code",
   "execution_count": 214,
   "id": "a4642fe9-f8e8-4fe6-b385-180a2a524767",
   "metadata": {},
   "outputs": [],
   "source": [
    "# subset with TIDs as RecIDs\n",
    "df_decomposed_TID = df_decomposed[df_decomposed.InReplyTo.isnull()]"
   ]
  },
  {
   "cell_type": "code",
   "execution_count": 215,
   "id": "b2628d01-1db0-465d-925f-b8ebcca81231",
   "metadata": {},
   "outputs": [
    {
     "data": {
      "text/plain": [
       "873"
      ]
     },
     "execution_count": 215,
     "metadata": {},
     "output_type": "execute_result"
    }
   ],
   "source": [
    "len(df_decomposed_TIDs)"
   ]
  },
  {
   "cell_type": "code",
   "execution_count": 216,
   "id": "bdf991ab-668f-49bb-905e-de3905322914",
   "metadata": {},
   "outputs": [],
   "source": [
    "df_reGoundTruth.rename(columns={'RecID': 'TID'}, inplace=True)"
   ]
  },
  {
   "cell_type": "code",
   "execution_count": 217,
   "id": "8f574a77-65a8-457b-b86f-8fed9b340c0d",
   "metadata": {},
   "outputs": [],
   "source": [
    "df_reGTrDecomposed1 = pd.merge(df_reGoundTruth,df_decomposed_TID, on='TID', how='inner')"
   ]
  },
  {
   "cell_type": "code",
   "execution_count": 218,
   "id": "de65042f-524e-4f03-9a89-7294d644f023",
   "metadata": {},
   "outputs": [
    {
     "data": {
      "text/html": [
       "<div>\n",
       "<style scoped>\n",
       "    .dataframe tbody tr th:only-of-type {\n",
       "        vertical-align: middle;\n",
       "    }\n",
       "\n",
       "    .dataframe tbody tr th {\n",
       "        vertical-align: top;\n",
       "    }\n",
       "\n",
       "    .dataframe thead th {\n",
       "        text-align: right;\n",
       "    }\n",
       "</style>\n",
       "<table border=\"1\" class=\"dataframe\">\n",
       "  <thead>\n",
       "    <tr style=\"text-align: right;\">\n",
       "      <th></th>\n",
       "      <th>TID</th>\n",
       "      <th>Target</th>\n",
       "      <th>Label</th>\n",
       "      <th>Unnamed: 0</th>\n",
       "      <th>OrigTweet</th>\n",
       "      <th>CleanTweetNoHttp</th>\n",
       "      <th>CleanTweetNoSpecChar</th>\n",
       "      <th>HashTags</th>\n",
       "      <th>Mentions</th>\n",
       "      <th>InReplyTo</th>\n",
       "      <th>ArticleTitle</th>\n",
       "      <th>CountReplyTweets</th>\n",
       "      <th>CountReplyWords</th>\n",
       "      <th>CountReplyChars</th>\n",
       "    </tr>\n",
       "  </thead>\n",
       "  <tbody>\n",
       "    <tr>\n",
       "      <th>0</th>\n",
       "      <td>1089699762331217920</td>\n",
       "      <td>1</td>\n",
       "      <td>Business</td>\n",
       "      <td>142</td>\n",
       "      <td>Love putting my Peloton bike in the most strik...</td>\n",
       "      <td>love putting my peloton bike in the most strik...</td>\n",
       "      <td>love putting my peloton bike in the most strik...</td>\n",
       "      <td>NaN</td>\n",
       "      <td></td>\n",
       "      <td>NaN</td>\n",
       "      <td>Peloton exercise bike ad mocked as being 'sexi...</td>\n",
       "      <td>118</td>\n",
       "      <td>NaN</td>\n",
       "      <td>NaN</td>\n",
       "    </tr>\n",
       "    <tr>\n",
       "      <th>1</th>\n",
       "      <td>1139309394968096768</td>\n",
       "      <td>6</td>\n",
       "      <td>Politics</td>\n",
       "      <td>363</td>\n",
       "      <td>I would not have thought that I needed to say ...</td>\n",
       "      <td>i would not have thought that i needed to say ...</td>\n",
       "      <td>i would not have thought that i needed to say ...</td>\n",
       "      <td>NaN</td>\n",
       "      <td></td>\n",
       "      <td>NaN</td>\n",
       "      <td>Six Takeaways From Senators' Questions to Impe...</td>\n",
       "      <td>25</td>\n",
       "      <td>NaN</td>\n",
       "      <td>NaN</td>\n",
       "    </tr>\n",
       "  </tbody>\n",
       "</table>\n",
       "</div>"
      ],
      "text/plain": [
       "                   TID Target     Label Unnamed: 0  \\\n",
       "0  1089699762331217920      1  Business        142   \n",
       "1  1139309394968096768      6  Politics        363   \n",
       "\n",
       "                                           OrigTweet  \\\n",
       "0  Love putting my Peloton bike in the most strik...   \n",
       "1  I would not have thought that I needed to say ...   \n",
       "\n",
       "                                    CleanTweetNoHttp  \\\n",
       "0  love putting my peloton bike in the most strik...   \n",
       "1  i would not have thought that i needed to say ...   \n",
       "\n",
       "                                CleanTweetNoSpecChar HashTags Mentions  \\\n",
       "0  love putting my peloton bike in the most strik...      NaN            \n",
       "1  i would not have thought that i needed to say ...      NaN            \n",
       "\n",
       "  InReplyTo                                       ArticleTitle  \\\n",
       "0       NaN  Peloton exercise bike ad mocked as being 'sexi...   \n",
       "1       NaN  Six Takeaways From Senators' Questions to Impe...   \n",
       "\n",
       "  CountReplyTweets CountReplyWords CountReplyChars  \n",
       "0              118             NaN             NaN  \n",
       "1               25             NaN             NaN  "
      ]
     },
     "execution_count": 218,
     "metadata": {},
     "output_type": "execute_result"
    }
   ],
   "source": [
    "df_reGTrDecomposed1.head(2)"
   ]
  },
  {
   "cell_type": "code",
   "execution_count": 219,
   "id": "a57035c9-59c0-4346-8d72-3a61c75e6af0",
   "metadata": {},
   "outputs": [
    {
     "data": {
      "text/plain": [
       "854"
      ]
     },
     "execution_count": 219,
     "metadata": {},
     "output_type": "execute_result"
    }
   ],
   "source": [
    "len(df_reGTrDecomposed1)"
   ]
  },
  {
   "cell_type": "code",
   "execution_count": 220,
   "id": "2d239922-2d78-4e31-965d-ca30242aeb26",
   "metadata": {},
   "outputs": [],
   "source": [
    "# Reconnect to df_decomposed1 on InReplyTo to get the SubTweets\n",
    "df_reGoundTruth.rename(columns={'TID': 'InReplyTo'}, inplace=True)"
   ]
  },
  {
   "cell_type": "code",
   "execution_count": 221,
   "id": "26f541ad-c7e3-48b4-9a2b-b4d33f88c3bb",
   "metadata": {},
   "outputs": [],
   "source": [
    "df_reGTrDecomposed2 = pd.merge(df_reGoundTruth,df_decomposed, on='InReplyTo', how='inner')"
   ]
  },
  {
   "cell_type": "code",
   "execution_count": 222,
   "id": "6bdca0c7-e2ab-4891-bb09-620b3663f9d9",
   "metadata": {},
   "outputs": [
    {
     "data": {
      "text/html": [
       "<div>\n",
       "<style scoped>\n",
       "    .dataframe tbody tr th:only-of-type {\n",
       "        vertical-align: middle;\n",
       "    }\n",
       "\n",
       "    .dataframe tbody tr th {\n",
       "        vertical-align: top;\n",
       "    }\n",
       "\n",
       "    .dataframe thead th {\n",
       "        text-align: right;\n",
       "    }\n",
       "</style>\n",
       "<table border=\"1\" class=\"dataframe\">\n",
       "  <thead>\n",
       "    <tr style=\"text-align: right;\">\n",
       "      <th></th>\n",
       "      <th>InReplyTo</th>\n",
       "      <th>Target</th>\n",
       "      <th>Label</th>\n",
       "      <th>Unnamed: 0</th>\n",
       "      <th>TID</th>\n",
       "      <th>OrigTweet</th>\n",
       "      <th>CleanTweetNoHttp</th>\n",
       "      <th>CleanTweetNoSpecChar</th>\n",
       "      <th>HashTags</th>\n",
       "      <th>Mentions</th>\n",
       "      <th>ArticleTitle</th>\n",
       "      <th>CountReplyTweets</th>\n",
       "      <th>CountReplyWords</th>\n",
       "      <th>CountReplyChars</th>\n",
       "    </tr>\n",
       "  </thead>\n",
       "  <tbody>\n",
       "    <tr>\n",
       "      <th>0</th>\n",
       "      <td>1089699762331217920</td>\n",
       "      <td>1</td>\n",
       "      <td>Business</td>\n",
       "      <td>143</td>\n",
       "      <td>1202241703870160898</td>\n",
       "      <td>@ClueHeywood The wife always looks nervous and...</td>\n",
       "      <td>@clueheywood the wife always looks nervous and...</td>\n",
       "      <td>clueheywood the wife always looks nervous and ...</td>\n",
       "      <td>NaN</td>\n",
       "      <td>@clueheywood</td>\n",
       "      <td>NaN</td>\n",
       "      <td>NaN</td>\n",
       "      <td>54</td>\n",
       "      <td>293</td>\n",
       "    </tr>\n",
       "    <tr>\n",
       "      <th>1</th>\n",
       "      <td>1089699762331217920</td>\n",
       "      <td>1</td>\n",
       "      <td>Business</td>\n",
       "      <td>144</td>\n",
       "      <td>1201142676990631936</td>\n",
       "      <td>@ClueHeywood Seriously, whoΓÇÖs the mindless i...</td>\n",
       "      <td>@clueheywood seriously, whogcos the mindless i...</td>\n",
       "      <td>clueheywood seriously whogcos the mindless idi...</td>\n",
       "      <td>NaN</td>\n",
       "      <td>@clueheywood</td>\n",
       "      <td>NaN</td>\n",
       "      <td>NaN</td>\n",
       "      <td>47</td>\n",
       "      <td>269</td>\n",
       "    </tr>\n",
       "  </tbody>\n",
       "</table>\n",
       "</div>"
      ],
      "text/plain": [
       "             InReplyTo Target     Label Unnamed: 0                  TID  \\\n",
       "0  1089699762331217920      1  Business        143  1202241703870160898   \n",
       "1  1089699762331217920      1  Business        144  1201142676990631936   \n",
       "\n",
       "                                           OrigTweet  \\\n",
       "0  @ClueHeywood The wife always looks nervous and...   \n",
       "1  @ClueHeywood Seriously, whoΓÇÖs the mindless i...   \n",
       "\n",
       "                                    CleanTweetNoHttp  \\\n",
       "0  @clueheywood the wife always looks nervous and...   \n",
       "1  @clueheywood seriously, whogcos the mindless i...   \n",
       "\n",
       "                                CleanTweetNoSpecChar HashTags      Mentions  \\\n",
       "0  clueheywood the wife always looks nervous and ...      NaN  @clueheywood   \n",
       "1  clueheywood seriously whogcos the mindless idi...      NaN  @clueheywood   \n",
       "\n",
       "  ArticleTitle CountReplyTweets CountReplyWords CountReplyChars  \n",
       "0          NaN              NaN              54             293  \n",
       "1          NaN              NaN              47             269  "
      ]
     },
     "execution_count": 222,
     "metadata": {},
     "output_type": "execute_result"
    }
   ],
   "source": [
    "df_reGTrDecomposed2.head(2)"
   ]
  },
  {
   "cell_type": "code",
   "execution_count": 223,
   "id": "e9e707dc-e7b6-4ed2-84d0-9833d53b5b72",
   "metadata": {},
   "outputs": [
    {
     "data": {
      "text/plain": [
       "121740"
      ]
     },
     "execution_count": 223,
     "metadata": {},
     "output_type": "execute_result"
    }
   ],
   "source": [
    "len(df_reGTrDecomposed2)"
   ]
  },
  {
   "cell_type": "markdown",
   "id": "cd7270f5-e8d6-42c4-ae34-bf08d8080ae7",
   "metadata": {},
   "source": [
    "#### Update the Label and Target for the SupTweets based on the RecTweets"
   ]
  },
  {
   "cell_type": "code",
   "execution_count": 259,
   "id": "cf377b70-821e-499d-b852-b4d0b143c3e5",
   "metadata": {},
   "outputs": [],
   "source": [
    "# Loop through RecTweets, find all SubTweets, update the Labels and Targets\n",
    "for i in range(len(df_reGTrDecomposed1)):\n",
    "    iTID = df_reGTrDecomposed1.loc[i,'TID']\n",
    "    iLabel = df_reGTrDecomposed1.loc[i,'Label']\n",
    "    iTarget = df_reGTrDecomposed1.loc[i,'Target']\n",
    "    df_reGTrDecomposed2.loc[(df_reGTrDecomposed2.InReplyTo == iTID), 'Label'] = iLabel\n",
    "    df_reGTrDecomposed2.loc[(df_reGTrDecomposed2.InReplyTo == iTID), 'Target'] = iTarget"
   ]
  },
  {
   "cell_type": "code",
   "execution_count": 260,
   "id": "bf2befa3-aafb-41db-ba49-0a37d32d869e",
   "metadata": {},
   "outputs": [],
   "source": [
    "# Prepare the final file for df_reGTrDecomposed1 + df_reGTrDecomposed2\n",
    "df_reGTrDecomposed = pd.DataFrame()"
   ]
  },
  {
   "cell_type": "code",
   "execution_count": 261,
   "id": "2f61c488-0d85-4adc-8a00-74e3c5840294",
   "metadata": {},
   "outputs": [],
   "source": [
    "df_reGTrDecomposed = pd.concat([df_reGTrDecomposed1, df_reGTrDecomposed2], axis = 0)"
   ]
  },
  {
   "cell_type": "code",
   "execution_count": 262,
   "id": "18a17351-cb4e-4ebf-8aea-678c1d165f7c",
   "metadata": {},
   "outputs": [
    {
     "data": {
      "text/html": [
       "<div>\n",
       "<style scoped>\n",
       "    .dataframe tbody tr th:only-of-type {\n",
       "        vertical-align: middle;\n",
       "    }\n",
       "\n",
       "    .dataframe tbody tr th {\n",
       "        vertical-align: top;\n",
       "    }\n",
       "\n",
       "    .dataframe thead th {\n",
       "        text-align: right;\n",
       "    }\n",
       "</style>\n",
       "<table border=\"1\" class=\"dataframe\">\n",
       "  <thead>\n",
       "    <tr style=\"text-align: right;\">\n",
       "      <th></th>\n",
       "      <th>TID</th>\n",
       "      <th>Target</th>\n",
       "      <th>Label</th>\n",
       "      <th>Unnamed: 0</th>\n",
       "      <th>OrigTweet</th>\n",
       "      <th>CleanTweetNoHttp</th>\n",
       "      <th>CleanTweetNoSpecChar</th>\n",
       "      <th>HashTags</th>\n",
       "      <th>Mentions</th>\n",
       "      <th>InReplyTo</th>\n",
       "      <th>ArticleTitle</th>\n",
       "      <th>CountReplyTweets</th>\n",
       "      <th>CountReplyWords</th>\n",
       "      <th>CountReplyChars</th>\n",
       "    </tr>\n",
       "  </thead>\n",
       "  <tbody>\n",
       "    <tr>\n",
       "      <th>0</th>\n",
       "      <td>1089699762331217920</td>\n",
       "      <td>1</td>\n",
       "      <td>Business</td>\n",
       "      <td>142</td>\n",
       "      <td>Love putting my Peloton bike in the most strik...</td>\n",
       "      <td>love putting my peloton bike in the most strik...</td>\n",
       "      <td>love putting my peloton bike in the most strik...</td>\n",
       "      <td>NaN</td>\n",
       "      <td></td>\n",
       "      <td>NaN</td>\n",
       "      <td>Peloton exercise bike ad mocked as being 'sexi...</td>\n",
       "      <td>118</td>\n",
       "      <td>NaN</td>\n",
       "      <td>NaN</td>\n",
       "    </tr>\n",
       "    <tr>\n",
       "      <th>1</th>\n",
       "      <td>1139309394968096768</td>\n",
       "      <td>6</td>\n",
       "      <td>Politics</td>\n",
       "      <td>363</td>\n",
       "      <td>I would not have thought that I needed to say ...</td>\n",
       "      <td>i would not have thought that i needed to say ...</td>\n",
       "      <td>i would not have thought that i needed to say ...</td>\n",
       "      <td>NaN</td>\n",
       "      <td></td>\n",
       "      <td>NaN</td>\n",
       "      <td>Six Takeaways From Senators' Questions to Impe...</td>\n",
       "      <td>25</td>\n",
       "      <td>NaN</td>\n",
       "      <td>NaN</td>\n",
       "    </tr>\n",
       "    <tr>\n",
       "      <th>2</th>\n",
       "      <td>1159148971106942981</td>\n",
       "      <td>11</td>\n",
       "      <td>Sports</td>\n",
       "      <td>389</td>\n",
       "      <td>5am. 5 days a week. For 3 years. Still Ready. ...</td>\n",
       "      <td>5am. 5 days a week. for 3 years. still ready.</td>\n",
       "      <td>am days a week for years still ready</td>\n",
       "      <td>NaN</td>\n",
       "      <td></td>\n",
       "      <td>NaN</td>\n",
       "      <td>N.F.L. Invites Teams to Watch Colin Kaepernick...</td>\n",
       "      <td>38</td>\n",
       "      <td>NaN</td>\n",
       "      <td>NaN</td>\n",
       "    </tr>\n",
       "    <tr>\n",
       "      <th>3</th>\n",
       "      <td>1166443046361153537</td>\n",
       "      <td>1</td>\n",
       "      <td>Business</td>\n",
       "      <td>428</td>\n",
       "      <td>Y?all. We love that you love The Sandwich. Unf...</td>\n",
       "      <td>y?all. we love that you love the sandwich. unf...</td>\n",
       "      <td>y all we love that you love the sandwich unfor...</td>\n",
       "      <td>NaN</td>\n",
       "      <td></td>\n",
       "      <td>NaN</td>\n",
       "      <td>Popeyes Chicken Sandwich Returns, but Will the...</td>\n",
       "      <td>14</td>\n",
       "      <td>NaN</td>\n",
       "      <td>NaN</td>\n",
       "    </tr>\n",
       "    <tr>\n",
       "      <th>4</th>\n",
       "      <td>1175764155359465478</td>\n",
       "      <td>11</td>\n",
       "      <td>Sports</td>\n",
       "      <td>443</td>\n",
       "      <td>Will not be playing in the @NFL anymore these ...</td>\n",
       "      <td>will not be playing in the @nfl anymore these ...</td>\n",
       "      <td>will not be playing in the nfl anymore these o...</td>\n",
       "      <td>NaN</td>\n",
       "      <td>@nflpa @nfl</td>\n",
       "      <td>NaN</td>\n",
       "      <td>N.F.L. Players Association Files Grievances on...</td>\n",
       "      <td>19</td>\n",
       "      <td>NaN</td>\n",
       "      <td>NaN</td>\n",
       "    </tr>\n",
       "  </tbody>\n",
       "</table>\n",
       "</div>"
      ],
      "text/plain": [
       "                   TID Target     Label Unnamed: 0  \\\n",
       "0  1089699762331217920      1  Business        142   \n",
       "1  1139309394968096768      6  Politics        363   \n",
       "2  1159148971106942981     11    Sports        389   \n",
       "3  1166443046361153537      1  Business        428   \n",
       "4  1175764155359465478     11    Sports        443   \n",
       "\n",
       "                                           OrigTweet  \\\n",
       "0  Love putting my Peloton bike in the most strik...   \n",
       "1  I would not have thought that I needed to say ...   \n",
       "2  5am. 5 days a week. For 3 years. Still Ready. ...   \n",
       "3  Y?all. We love that you love The Sandwich. Unf...   \n",
       "4  Will not be playing in the @NFL anymore these ...   \n",
       "\n",
       "                                    CleanTweetNoHttp  \\\n",
       "0  love putting my peloton bike in the most strik...   \n",
       "1  i would not have thought that i needed to say ...   \n",
       "2      5am. 5 days a week. for 3 years. still ready.   \n",
       "3  y?all. we love that you love the sandwich. unf...   \n",
       "4  will not be playing in the @nfl anymore these ...   \n",
       "\n",
       "                                CleanTweetNoSpecChar HashTags     Mentions  \\\n",
       "0  love putting my peloton bike in the most strik...      NaN                \n",
       "1  i would not have thought that i needed to say ...      NaN                \n",
       "2               am days a week for years still ready      NaN                \n",
       "3  y all we love that you love the sandwich unfor...      NaN                \n",
       "4  will not be playing in the nfl anymore these o...      NaN  @nflpa @nfl   \n",
       "\n",
       "  InReplyTo                                       ArticleTitle  \\\n",
       "0       NaN  Peloton exercise bike ad mocked as being 'sexi...   \n",
       "1       NaN  Six Takeaways From Senators' Questions to Impe...   \n",
       "2       NaN  N.F.L. Invites Teams to Watch Colin Kaepernick...   \n",
       "3       NaN  Popeyes Chicken Sandwich Returns, but Will the...   \n",
       "4       NaN  N.F.L. Players Association Files Grievances on...   \n",
       "\n",
       "  CountReplyTweets CountReplyWords CountReplyChars  \n",
       "0              118             NaN             NaN  \n",
       "1               25             NaN             NaN  \n",
       "2               38             NaN             NaN  \n",
       "3               14             NaN             NaN  \n",
       "4               19             NaN             NaN  "
      ]
     },
     "execution_count": 262,
     "metadata": {},
     "output_type": "execute_result"
    }
   ],
   "source": [
    "df_reGTrDecomposed.head()"
   ]
  },
  {
   "cell_type": "code",
   "execution_count": 264,
   "id": "f520813a-8f3d-414f-afa6-a7e4b9d208b7",
   "metadata": {},
   "outputs": [
    {
     "data": {
      "text/html": [
       "<div>\n",
       "<style scoped>\n",
       "    .dataframe tbody tr th:only-of-type {\n",
       "        vertical-align: middle;\n",
       "    }\n",
       "\n",
       "    .dataframe tbody tr th {\n",
       "        vertical-align: top;\n",
       "    }\n",
       "\n",
       "    .dataframe thead th {\n",
       "        text-align: right;\n",
       "    }\n",
       "</style>\n",
       "<table border=\"1\" class=\"dataframe\">\n",
       "  <thead>\n",
       "    <tr style=\"text-align: right;\">\n",
       "      <th></th>\n",
       "      <th>TID</th>\n",
       "      <th>Target</th>\n",
       "      <th>Label</th>\n",
       "      <th>Unnamed: 0</th>\n",
       "      <th>OrigTweet</th>\n",
       "      <th>CleanTweetNoHttp</th>\n",
       "      <th>CleanTweetNoSpecChar</th>\n",
       "      <th>HashTags</th>\n",
       "      <th>Mentions</th>\n",
       "      <th>InReplyTo</th>\n",
       "      <th>ArticleTitle</th>\n",
       "      <th>CountReplyTweets</th>\n",
       "      <th>CountReplyWords</th>\n",
       "      <th>CountReplyChars</th>\n",
       "    </tr>\n",
       "  </thead>\n",
       "  <tbody>\n",
       "    <tr>\n",
       "      <th>121735</th>\n",
       "      <td>1223621336205090816</td>\n",
       "      <td>1</td>\n",
       "      <td>Business</td>\n",
       "      <td>123667</td>\n",
       "      <td>@elonmusk ELON I GOTTA KNOW ABOUT THE N64 CONT...</td>\n",
       "      <td>@elonmusk elon i gotta know about the n64 cont...</td>\n",
       "      <td>elonmusk elon i gotta know about the n control...</td>\n",
       "      <td>NaN</td>\n",
       "      <td>@elonmusk</td>\n",
       "      <td>1223133867772502019</td>\n",
       "      <td>NaN</td>\n",
       "      <td>NaN</td>\n",
       "      <td>13</td>\n",
       "      <td>76</td>\n",
       "    </tr>\n",
       "    <tr>\n",
       "      <th>121736</th>\n",
       "      <td>1223134212762542080</td>\n",
       "      <td>1</td>\n",
       "      <td>Business</td>\n",
       "      <td>123668</td>\n",
       "      <td>@elonmusk listening to music on a sick studio ...</td>\n",
       "      <td>@elonmusk listening to music on a sick studio ...</td>\n",
       "      <td>elonmusk listening to music on a sick studio o...</td>\n",
       "      <td>NaN</td>\n",
       "      <td>@elonmusk</td>\n",
       "      <td>1223133867772502019</td>\n",
       "      <td>NaN</td>\n",
       "      <td>NaN</td>\n",
       "      <td>13</td>\n",
       "      <td>75</td>\n",
       "    </tr>\n",
       "    <tr>\n",
       "      <th>121737</th>\n",
       "      <td>1223134530082467841</td>\n",
       "      <td>1</td>\n",
       "      <td>Business</td>\n",
       "      <td>123669</td>\n",
       "      <td>@elonmusk Kakoii Elon Chan ≡ƒñÖ≡ƒÅ╗≡ƒñÖ≡ƒÅ╗≡ƒñ...</td>\n",
       "      <td>@elonmusk kakoii elon chan fnofa+fnofa+fnofa+f...</td>\n",
       "      <td>elonmusk kakoii elon chan fnofa fnofa fnofa fo...</td>\n",
       "      <td>NaN</td>\n",
       "      <td>@elonmusk</td>\n",
       "      <td>1223133867772502019</td>\n",
       "      <td>NaN</td>\n",
       "      <td>NaN</td>\n",
       "      <td>5</td>\n",
       "      <td>75</td>\n",
       "    </tr>\n",
       "    <tr>\n",
       "      <th>121738</th>\n",
       "      <td>1223135031549235200</td>\n",
       "      <td>1</td>\n",
       "      <td>Business</td>\n",
       "      <td>123670</td>\n",
       "      <td>@elonmusk If this doesnΓÇÖt secure your Nobel ...</td>\n",
       "      <td>@elonmusk if this doesngcot secure your nobel ...</td>\n",
       "      <td>elonmusk if this doesngcot secure your nobel t...</td>\n",
       "      <td>NaN</td>\n",
       "      <td>@elonmusk</td>\n",
       "      <td>1223133867772502019</td>\n",
       "      <td>NaN</td>\n",
       "      <td>NaN</td>\n",
       "      <td>13</td>\n",
       "      <td>75</td>\n",
       "    </tr>\n",
       "    <tr>\n",
       "      <th>121739</th>\n",
       "      <td>1223137805544587269</td>\n",
       "      <td>1</td>\n",
       "      <td>Business</td>\n",
       "      <td>123671</td>\n",
       "      <td>@elonmusk wow Elon, great moves! proud of you,...</td>\n",
       "      <td>@elonmusk wow elon, great moves! proud of you,...</td>\n",
       "      <td>elonmusk wow elon great moves proud of you kee...</td>\n",
       "      <td>NaN</td>\n",
       "      <td>@h3h3productions @elonmusk</td>\n",
       "      <td>1223133867772502019</td>\n",
       "      <td>NaN</td>\n",
       "      <td>NaN</td>\n",
       "      <td>12</td>\n",
       "      <td>75</td>\n",
       "    </tr>\n",
       "  </tbody>\n",
       "</table>\n",
       "</div>"
      ],
      "text/plain": [
       "                        TID Target     Label Unnamed: 0  \\\n",
       "121735  1223621336205090816      1  Business     123667   \n",
       "121736  1223134212762542080      1  Business     123668   \n",
       "121737  1223134530082467841      1  Business     123669   \n",
       "121738  1223135031549235200      1  Business     123670   \n",
       "121739  1223137805544587269      1  Business     123671   \n",
       "\n",
       "                                                OrigTweet  \\\n",
       "121735  @elonmusk ELON I GOTTA KNOW ABOUT THE N64 CONT...   \n",
       "121736  @elonmusk listening to music on a sick studio ...   \n",
       "121737  @elonmusk Kakoii Elon Chan ≡ƒñÖ≡ƒÅ╗≡ƒñÖ≡ƒÅ╗≡ƒñ...   \n",
       "121738  @elonmusk If this doesnΓÇÖt secure your Nobel ...   \n",
       "121739  @elonmusk wow Elon, great moves! proud of you,...   \n",
       "\n",
       "                                         CleanTweetNoHttp  \\\n",
       "121735  @elonmusk elon i gotta know about the n64 cont...   \n",
       "121736  @elonmusk listening to music on a sick studio ...   \n",
       "121737  @elonmusk kakoii elon chan fnofa+fnofa+fnofa+f...   \n",
       "121738  @elonmusk if this doesngcot secure your nobel ...   \n",
       "121739  @elonmusk wow elon, great moves! proud of you,...   \n",
       "\n",
       "                                     CleanTweetNoSpecChar HashTags  \\\n",
       "121735  elonmusk elon i gotta know about the n control...      NaN   \n",
       "121736  elonmusk listening to music on a sick studio o...      NaN   \n",
       "121737  elonmusk kakoii elon chan fnofa fnofa fnofa fo...      NaN   \n",
       "121738  elonmusk if this doesngcot secure your nobel t...      NaN   \n",
       "121739  elonmusk wow elon great moves proud of you kee...      NaN   \n",
       "\n",
       "                          Mentions            InReplyTo ArticleTitle  \\\n",
       "121735                   @elonmusk  1223133867772502019          NaN   \n",
       "121736                   @elonmusk  1223133867772502019          NaN   \n",
       "121737                   @elonmusk  1223133867772502019          NaN   \n",
       "121738                   @elonmusk  1223133867772502019          NaN   \n",
       "121739  @h3h3productions @elonmusk  1223133867772502019          NaN   \n",
       "\n",
       "       CountReplyTweets CountReplyWords CountReplyChars  \n",
       "121735              NaN              13              76  \n",
       "121736              NaN              13              75  \n",
       "121737              NaN               5              75  \n",
       "121738              NaN              13              75  \n",
       "121739              NaN              12              75  "
      ]
     },
     "execution_count": 264,
     "metadata": {},
     "output_type": "execute_result"
    }
   ],
   "source": [
    "df_reGTrDecomposed.tail()"
   ]
  },
  {
   "cell_type": "code",
   "execution_count": 265,
   "id": "f8b50e89-dd30-4723-ab68-4b3fd5170c9b",
   "metadata": {},
   "outputs": [
    {
     "data": {
      "text/plain": [
       "122594"
      ]
     },
     "execution_count": 265,
     "metadata": {},
     "output_type": "execute_result"
    }
   ],
   "source": [
    "len(df_reGTrDecomposed)"
   ]
  },
  {
   "cell_type": "code",
   "execution_count": 276,
   "id": "963419c0-9c2b-415c-adc1-9f3916be87bd",
   "metadata": {},
   "outputs": [],
   "source": [
    "df_reGTrDecomposed.to_csv('data/GTxM_Pass1/reGTr_SMR_Decomposed.csv')"
   ]
  },
  {
   "cell_type": "markdown",
   "id": "2ac8a685-8ede-407e-b5ff-92b5cf21d299",
   "metadata": {},
   "source": [
    "#### Create the decomposed SMR datasets for No Agreement"
   ]
  },
  {
   "cell_type": "code",
   "execution_count": 233,
   "id": "8b46ea6c-7ee2-459b-8510-db7b65fcf3b8",
   "metadata": {},
   "outputs": [
    {
     "data": {
      "text/html": [
       "<div>\n",
       "<style scoped>\n",
       "    .dataframe tbody tr th:only-of-type {\n",
       "        vertical-align: middle;\n",
       "    }\n",
       "\n",
       "    .dataframe tbody tr th {\n",
       "        vertical-align: top;\n",
       "    }\n",
       "\n",
       "    .dataframe thead th {\n",
       "        text-align: right;\n",
       "    }\n",
       "</style>\n",
       "<table border=\"1\" class=\"dataframe\">\n",
       "  <thead>\n",
       "    <tr style=\"text-align: right;\">\n",
       "      <th></th>\n",
       "      <th>RecID</th>\n",
       "      <th>Label</th>\n",
       "      <th>Target</th>\n",
       "    </tr>\n",
       "  </thead>\n",
       "  <tbody>\n",
       "    <tr>\n",
       "      <th>39</th>\n",
       "      <td>1180954142396710912</td>\n",
       "      <td>Unknown</td>\n",
       "      <td>0</td>\n",
       "    </tr>\n",
       "    <tr>\n",
       "      <th>43</th>\n",
       "      <td>1181212982128328705</td>\n",
       "      <td>Unknown</td>\n",
       "      <td>0</td>\n",
       "    </tr>\n",
       "  </tbody>\n",
       "</table>\n",
       "</div>"
      ],
      "text/plain": [
       "                  RecID    Label  Target\n",
       "39  1180954142396710912  Unknown       0\n",
       "43  1181212982128328705  Unknown       0"
      ]
     },
     "execution_count": 233,
     "metadata": {},
     "output_type": "execute_result"
    }
   ],
   "source": [
    "df_NoAgreeHO1HO2HO3.head(2)"
   ]
  },
  {
   "cell_type": "code",
   "execution_count": 234,
   "id": "05443b56-1784-4e31-91ed-fd35e98f52b7",
   "metadata": {},
   "outputs": [],
   "source": [
    "# Reconnect to df_decomposed1 on InReplyTo to get the SubTweets\n",
    "df_NoAgreeHO1HO2HO3.rename(columns={'RecID': 'TID'}, inplace=True)"
   ]
  },
  {
   "cell_type": "code",
   "execution_count": 235,
   "id": "b0748ebb-8f3f-4871-84b0-d608bbdd046e",
   "metadata": {},
   "outputs": [],
   "source": [
    "df_reGTrDecomposed1_NoAgree = pd.merge(df_NoAgreeHO1HO2HO3,df_decomposed_TID, on='TID', how='inner')"
   ]
  },
  {
   "cell_type": "code",
   "execution_count": 236,
   "id": "4b31925d-0d32-4fbd-9286-8f557f31e450",
   "metadata": {},
   "outputs": [
    {
     "data": {
      "text/html": [
       "<div>\n",
       "<style scoped>\n",
       "    .dataframe tbody tr th:only-of-type {\n",
       "        vertical-align: middle;\n",
       "    }\n",
       "\n",
       "    .dataframe tbody tr th {\n",
       "        vertical-align: top;\n",
       "    }\n",
       "\n",
       "    .dataframe thead th {\n",
       "        text-align: right;\n",
       "    }\n",
       "</style>\n",
       "<table border=\"1\" class=\"dataframe\">\n",
       "  <thead>\n",
       "    <tr style=\"text-align: right;\">\n",
       "      <th></th>\n",
       "      <th>TID</th>\n",
       "      <th>Label</th>\n",
       "      <th>Target</th>\n",
       "      <th>Unnamed: 0</th>\n",
       "      <th>OrigTweet</th>\n",
       "      <th>CleanTweetNoHttp</th>\n",
       "      <th>CleanTweetNoSpecChar</th>\n",
       "      <th>HashTags</th>\n",
       "      <th>Mentions</th>\n",
       "      <th>InReplyTo</th>\n",
       "      <th>ArticleTitle</th>\n",
       "      <th>CountReplyTweets</th>\n",
       "      <th>CountReplyWords</th>\n",
       "      <th>CountReplyChars</th>\n",
       "    </tr>\n",
       "  </thead>\n",
       "  <tbody>\n",
       "    <tr>\n",
       "      <th>0</th>\n",
       "      <td>1180954142396710912</td>\n",
       "      <td>Unknown</td>\n",
       "      <td>0</td>\n",
       "      <td>3661</td>\n",
       "      <td>[BREAKING] Hong Kong Hearthstone player @blitz...</td>\n",
       "      <td>[breaking] hong kong hearthstone player @blitz...</td>\n",
       "      <td>breaking hong kong hearthstone player blitzchu...</td>\n",
       "      <td>Hearthstone</td>\n",
       "      <td>@blitzchunghs @matthieist</td>\n",
       "      <td>NaN</td>\n",
       "      <td>Hearthstone gamer banned for Hong Kong protest</td>\n",
       "      <td>260</td>\n",
       "      <td>NaN</td>\n",
       "      <td>NaN</td>\n",
       "    </tr>\n",
       "    <tr>\n",
       "      <th>1</th>\n",
       "      <td>1181212982128328705</td>\n",
       "      <td>Unknown</td>\n",
       "      <td>0</td>\n",
       "      <td>4462</td>\n",
       "      <td>This is our @algoface 209 point Facial Landmar...</td>\n",
       "      <td>this is our @algoface 209 point facial landmar...</td>\n",
       "      <td>this is our algoface point facial landmark tra...</td>\n",
       "      <td>AR RacialBias GenderBias Inclusive AR AI Compu...</td>\n",
       "      <td>@algoface</td>\n",
       "      <td>NaN</td>\n",
       "      <td>Passport facial recognition checks fail to wor...</td>\n",
       "      <td>57</td>\n",
       "      <td>NaN</td>\n",
       "      <td>NaN</td>\n",
       "    </tr>\n",
       "  </tbody>\n",
       "</table>\n",
       "</div>"
      ],
      "text/plain": [
       "                   TID    Label  Target Unnamed: 0  \\\n",
       "0  1180954142396710912  Unknown       0       3661   \n",
       "1  1181212982128328705  Unknown       0       4462   \n",
       "\n",
       "                                           OrigTweet  \\\n",
       "0  [BREAKING] Hong Kong Hearthstone player @blitz...   \n",
       "1  This is our @algoface 209 point Facial Landmar...   \n",
       "\n",
       "                                    CleanTweetNoHttp  \\\n",
       "0  [breaking] hong kong hearthstone player @blitz...   \n",
       "1  this is our @algoface 209 point facial landmar...   \n",
       "\n",
       "                                CleanTweetNoSpecChar  \\\n",
       "0  breaking hong kong hearthstone player blitzchu...   \n",
       "1  this is our algoface point facial landmark tra...   \n",
       "\n",
       "                                            HashTags  \\\n",
       "0                                        Hearthstone   \n",
       "1  AR RacialBias GenderBias Inclusive AR AI Compu...   \n",
       "\n",
       "                    Mentions InReplyTo  \\\n",
       "0  @blitzchunghs @matthieist       NaN   \n",
       "1                  @algoface       NaN   \n",
       "\n",
       "                                        ArticleTitle CountReplyTweets  \\\n",
       "0     Hearthstone gamer banned for Hong Kong protest              260   \n",
       "1  Passport facial recognition checks fail to wor...               57   \n",
       "\n",
       "  CountReplyWords CountReplyChars  \n",
       "0             NaN             NaN  \n",
       "1             NaN             NaN  "
      ]
     },
     "execution_count": 236,
     "metadata": {},
     "output_type": "execute_result"
    }
   ],
   "source": [
    "df_reGTrDecomposed1_NoAgree.head(2)"
   ]
  },
  {
   "cell_type": "code",
   "execution_count": 237,
   "id": "3b02c980-5c89-40e5-b821-86ba45b9542c",
   "metadata": {},
   "outputs": [
    {
     "data": {
      "text/plain": [
       "19"
      ]
     },
     "execution_count": 237,
     "metadata": {},
     "output_type": "execute_result"
    }
   ],
   "source": [
    "len(df_reGTrDecomposed1_NoAgree)"
   ]
  },
  {
   "cell_type": "code",
   "execution_count": 238,
   "id": "f66d9b2f-a7c7-4143-82b6-f195a40d451b",
   "metadata": {},
   "outputs": [],
   "source": [
    "# Reconnect to df_decomposed on InReplyTo to get the SubTweets\n",
    "df_NoAgreeHO1HO2HO3.rename(columns={'TID': 'InReplyTo'}, inplace=True)"
   ]
  },
  {
   "cell_type": "code",
   "execution_count": 242,
   "id": "66f4c57f-7b23-42d0-856c-89b5f149c57f",
   "metadata": {},
   "outputs": [
    {
     "data": {
      "text/plain": [
       "19"
      ]
     },
     "execution_count": 242,
     "metadata": {},
     "output_type": "execute_result"
    }
   ],
   "source": [
    "len(df_NoAgreeHO1HO2HO3)"
   ]
  },
  {
   "cell_type": "code",
   "execution_count": 243,
   "id": "c69849bd-7f8a-46f1-a36b-f3bd83cbefe0",
   "metadata": {},
   "outputs": [],
   "source": [
    "df_reGTrDecomposed2_NoAgree = pd.merge(df_NoAgreeHO1HO2HO3,df_decomposed, on='InReplyTo', how='inner')"
   ]
  },
  {
   "cell_type": "code",
   "execution_count": 244,
   "id": "b3f39d9d-492d-4f37-88cc-88e1c0406800",
   "metadata": {},
   "outputs": [
    {
     "data": {
      "text/html": [
       "<div>\n",
       "<style scoped>\n",
       "    .dataframe tbody tr th:only-of-type {\n",
       "        vertical-align: middle;\n",
       "    }\n",
       "\n",
       "    .dataframe tbody tr th {\n",
       "        vertical-align: top;\n",
       "    }\n",
       "\n",
       "    .dataframe thead th {\n",
       "        text-align: right;\n",
       "    }\n",
       "</style>\n",
       "<table border=\"1\" class=\"dataframe\">\n",
       "  <thead>\n",
       "    <tr style=\"text-align: right;\">\n",
       "      <th></th>\n",
       "      <th>InReplyTo</th>\n",
       "      <th>Label</th>\n",
       "      <th>Target</th>\n",
       "      <th>Unnamed: 0</th>\n",
       "      <th>TID</th>\n",
       "      <th>OrigTweet</th>\n",
       "      <th>CleanTweetNoHttp</th>\n",
       "      <th>CleanTweetNoSpecChar</th>\n",
       "      <th>HashTags</th>\n",
       "      <th>Mentions</th>\n",
       "      <th>ArticleTitle</th>\n",
       "      <th>CountReplyTweets</th>\n",
       "      <th>CountReplyWords</th>\n",
       "      <th>CountReplyChars</th>\n",
       "    </tr>\n",
       "  </thead>\n",
       "  <tbody>\n",
       "    <tr>\n",
       "      <th>0</th>\n",
       "      <td>1180954142396710912</td>\n",
       "      <td>Unknown</td>\n",
       "      <td>0</td>\n",
       "      <td>3662</td>\n",
       "      <td>1181727893510119425</td>\n",
       "      <td>@InvenGlobal @blitzchungHS @Matthieist µ»Åσñ⌐σ...</td>\n",
       "      <td>@invenglobal @blitzchunghs @matthieist u&gt;&gt;asns...</td>\n",
       "      <td>invenglobal blitzchunghs matthieist you asnsPS...</td>\n",
       "      <td>NaN</td>\n",
       "      <td>@blitzchunghs @matthieist @invenglobal</td>\n",
       "      <td>NaN</td>\n",
       "      <td>NaN</td>\n",
       "      <td>6</td>\n",
       "      <td>339</td>\n",
       "    </tr>\n",
       "    <tr>\n",
       "      <th>1</th>\n",
       "      <td>1180954142396710912</td>\n",
       "      <td>Unknown</td>\n",
       "      <td>0</td>\n",
       "      <td>3663</td>\n",
       "      <td>1181073462959300608</td>\n",
       "      <td>@InvenGlobal @blitzchungHS @Matthieist What ar...</td>\n",
       "      <td>@invenglobal @blitzchunghs @matthieist what ar...</td>\n",
       "      <td>invenglobal blitzchunghs matthieist what are h...</td>\n",
       "      <td>NaN</td>\n",
       "      <td>@blitzchunghs @matthieist @invenglobal</td>\n",
       "      <td>NaN</td>\n",
       "      <td>NaN</td>\n",
       "      <td>47</td>\n",
       "      <td>324</td>\n",
       "    </tr>\n",
       "  </tbody>\n",
       "</table>\n",
       "</div>"
      ],
      "text/plain": [
       "             InReplyTo    Label  Target Unnamed: 0                  TID  \\\n",
       "0  1180954142396710912  Unknown       0       3662  1181727893510119425   \n",
       "1  1180954142396710912  Unknown       0       3663  1181073462959300608   \n",
       "\n",
       "                                           OrigTweet  \\\n",
       "0  @InvenGlobal @blitzchungHS @Matthieist µ»Åσñ⌐σ...   \n",
       "1  @InvenGlobal @blitzchungHS @Matthieist What ar...   \n",
       "\n",
       "                                    CleanTweetNoHttp  \\\n",
       "0  @invenglobal @blitzchunghs @matthieist u>>asns...   \n",
       "1  @invenglobal @blitzchunghs @matthieist what ar...   \n",
       "\n",
       "                                CleanTweetNoSpecChar HashTags  \\\n",
       "0  invenglobal blitzchunghs matthieist you asnsPS...      NaN   \n",
       "1  invenglobal blitzchunghs matthieist what are h...      NaN   \n",
       "\n",
       "                                 Mentions ArticleTitle CountReplyTweets  \\\n",
       "0  @blitzchunghs @matthieist @invenglobal          NaN              NaN   \n",
       "1  @blitzchunghs @matthieist @invenglobal          NaN              NaN   \n",
       "\n",
       "  CountReplyWords CountReplyChars  \n",
       "0               6             339  \n",
       "1              47             324  "
      ]
     },
     "execution_count": 244,
     "metadata": {},
     "output_type": "execute_result"
    }
   ],
   "source": [
    "df_reGTrDecomposed2_NoAgree.head(2)"
   ]
  },
  {
   "cell_type": "code",
   "execution_count": 245,
   "id": "ed5e344a-5a12-4ac6-bd17-afc89b312fd6",
   "metadata": {},
   "outputs": [
    {
     "data": {
      "text/plain": [
       "2364"
      ]
     },
     "execution_count": 245,
     "metadata": {},
     "output_type": "execute_result"
    }
   ],
   "source": [
    "len(df_reGTrDecomposed2_NoAgree)"
   ]
  },
  {
   "cell_type": "code",
   "execution_count": 267,
   "id": "c2e907e3-a464-404f-9db8-ca5c565be9a5",
   "metadata": {},
   "outputs": [],
   "source": [
    "# Loop through RecTweets, find all SubTweets, update the Labels and Targets\n",
    "for i in range(len(df_reGTrDecomposed1_NoAgree)):\n",
    "    iTID = df_reGTrDecomposed1_NoAgree.loc[i,'TID']\n",
    "    iLabel = df_reGTrDecomposed1_NoAgree.loc[i,'Label']\n",
    "    iTarget = df_reGTrDecomposed1_NoAgree.loc[i,'Target']\n",
    "    df_reGTrDecomposed2_NoAgree.loc[(df_reGTrDecomposed2_NoAgree.InReplyTo == iTID), 'Label'] = iLabel\n",
    "    df_reGTrDecomposed2_NoAgree.loc[(df_reGTrDecomposed2_NoAgree.InReplyTo == iTID), 'Target'] = iTarget"
   ]
  },
  {
   "cell_type": "code",
   "execution_count": 268,
   "id": "ecb3246e-92ee-45bf-90cc-63187bec4fcd",
   "metadata": {},
   "outputs": [],
   "source": [
    "# Prepare the final file for df_reGTrDecomposed1 + df_reGTrDecomposed2\n",
    "df_reGTrDecomposed_NoAgree = pd.DataFrame()"
   ]
  },
  {
   "cell_type": "code",
   "execution_count": 269,
   "id": "03128b35-bedb-4260-a75a-f9b68a03e2be",
   "metadata": {},
   "outputs": [],
   "source": [
    "df_reGTrDecomposed_NoAgree = pd.concat([df_reGTrDecomposed1_NoAgree, df_reGTrDecomposed2_NoAgree], axis = 0)"
   ]
  },
  {
   "cell_type": "code",
   "execution_count": 270,
   "id": "c994f81e-c8ec-42f4-9972-580fecc4f39e",
   "metadata": {},
   "outputs": [
    {
     "data": {
      "text/html": [
       "<div>\n",
       "<style scoped>\n",
       "    .dataframe tbody tr th:only-of-type {\n",
       "        vertical-align: middle;\n",
       "    }\n",
       "\n",
       "    .dataframe tbody tr th {\n",
       "        vertical-align: top;\n",
       "    }\n",
       "\n",
       "    .dataframe thead th {\n",
       "        text-align: right;\n",
       "    }\n",
       "</style>\n",
       "<table border=\"1\" class=\"dataframe\">\n",
       "  <thead>\n",
       "    <tr style=\"text-align: right;\">\n",
       "      <th></th>\n",
       "      <th>TID</th>\n",
       "      <th>Label</th>\n",
       "      <th>Target</th>\n",
       "      <th>Unnamed: 0</th>\n",
       "      <th>OrigTweet</th>\n",
       "      <th>CleanTweetNoHttp</th>\n",
       "      <th>CleanTweetNoSpecChar</th>\n",
       "      <th>HashTags</th>\n",
       "      <th>Mentions</th>\n",
       "      <th>InReplyTo</th>\n",
       "      <th>ArticleTitle</th>\n",
       "      <th>CountReplyTweets</th>\n",
       "      <th>CountReplyWords</th>\n",
       "      <th>CountReplyChars</th>\n",
       "    </tr>\n",
       "  </thead>\n",
       "  <tbody>\n",
       "    <tr>\n",
       "      <th>0</th>\n",
       "      <td>1180954142396710912</td>\n",
       "      <td>Unknown</td>\n",
       "      <td>0</td>\n",
       "      <td>3661</td>\n",
       "      <td>[BREAKING] Hong Kong Hearthstone player @blitz...</td>\n",
       "      <td>[breaking] hong kong hearthstone player @blitz...</td>\n",
       "      <td>breaking hong kong hearthstone player blitzchu...</td>\n",
       "      <td>Hearthstone</td>\n",
       "      <td>@blitzchunghs @matthieist</td>\n",
       "      <td>NaN</td>\n",
       "      <td>Hearthstone gamer banned for Hong Kong protest</td>\n",
       "      <td>260</td>\n",
       "      <td>NaN</td>\n",
       "      <td>NaN</td>\n",
       "    </tr>\n",
       "    <tr>\n",
       "      <th>1</th>\n",
       "      <td>1181212982128328705</td>\n",
       "      <td>Unknown</td>\n",
       "      <td>0</td>\n",
       "      <td>4462</td>\n",
       "      <td>This is our @algoface 209 point Facial Landmar...</td>\n",
       "      <td>this is our @algoface 209 point facial landmar...</td>\n",
       "      <td>this is our algoface point facial landmark tra...</td>\n",
       "      <td>AR RacialBias GenderBias Inclusive AR AI Compu...</td>\n",
       "      <td>@algoface</td>\n",
       "      <td>NaN</td>\n",
       "      <td>Passport facial recognition checks fail to wor...</td>\n",
       "      <td>57</td>\n",
       "      <td>NaN</td>\n",
       "      <td>NaN</td>\n",
       "    </tr>\n",
       "  </tbody>\n",
       "</table>\n",
       "</div>"
      ],
      "text/plain": [
       "                   TID    Label  Target Unnamed: 0  \\\n",
       "0  1180954142396710912  Unknown       0       3661   \n",
       "1  1181212982128328705  Unknown       0       4462   \n",
       "\n",
       "                                           OrigTweet  \\\n",
       "0  [BREAKING] Hong Kong Hearthstone player @blitz...   \n",
       "1  This is our @algoface 209 point Facial Landmar...   \n",
       "\n",
       "                                    CleanTweetNoHttp  \\\n",
       "0  [breaking] hong kong hearthstone player @blitz...   \n",
       "1  this is our @algoface 209 point facial landmar...   \n",
       "\n",
       "                                CleanTweetNoSpecChar  \\\n",
       "0  breaking hong kong hearthstone player blitzchu...   \n",
       "1  this is our algoface point facial landmark tra...   \n",
       "\n",
       "                                            HashTags  \\\n",
       "0                                        Hearthstone   \n",
       "1  AR RacialBias GenderBias Inclusive AR AI Compu...   \n",
       "\n",
       "                    Mentions InReplyTo  \\\n",
       "0  @blitzchunghs @matthieist       NaN   \n",
       "1                  @algoface       NaN   \n",
       "\n",
       "                                        ArticleTitle CountReplyTweets  \\\n",
       "0     Hearthstone gamer banned for Hong Kong protest              260   \n",
       "1  Passport facial recognition checks fail to wor...               57   \n",
       "\n",
       "  CountReplyWords CountReplyChars  \n",
       "0             NaN             NaN  \n",
       "1             NaN             NaN  "
      ]
     },
     "execution_count": 270,
     "metadata": {},
     "output_type": "execute_result"
    }
   ],
   "source": [
    "df_reGTrDecomposed_NoAgree.head(2)"
   ]
  },
  {
   "cell_type": "code",
   "execution_count": 272,
   "id": "b1a60790-a883-4d20-92f5-f2968371ff28",
   "metadata": {},
   "outputs": [
    {
     "data": {
      "text/html": [
       "<div>\n",
       "<style scoped>\n",
       "    .dataframe tbody tr th:only-of-type {\n",
       "        vertical-align: middle;\n",
       "    }\n",
       "\n",
       "    .dataframe tbody tr th {\n",
       "        vertical-align: top;\n",
       "    }\n",
       "\n",
       "    .dataframe thead th {\n",
       "        text-align: right;\n",
       "    }\n",
       "</style>\n",
       "<table border=\"1\" class=\"dataframe\">\n",
       "  <thead>\n",
       "    <tr style=\"text-align: right;\">\n",
       "      <th></th>\n",
       "      <th>TID</th>\n",
       "      <th>Label</th>\n",
       "      <th>Target</th>\n",
       "      <th>Unnamed: 0</th>\n",
       "      <th>OrigTweet</th>\n",
       "      <th>CleanTweetNoHttp</th>\n",
       "      <th>CleanTweetNoSpecChar</th>\n",
       "      <th>HashTags</th>\n",
       "      <th>Mentions</th>\n",
       "      <th>InReplyTo</th>\n",
       "      <th>ArticleTitle</th>\n",
       "      <th>CountReplyTweets</th>\n",
       "      <th>CountReplyWords</th>\n",
       "      <th>CountReplyChars</th>\n",
       "    </tr>\n",
       "  </thead>\n",
       "  <tbody>\n",
       "    <tr>\n",
       "      <th>2362</th>\n",
       "      <td>1224145491040129024</td>\n",
       "      <td>Unknown</td>\n",
       "      <td>0</td>\n",
       "      <td>123409</td>\n",
       "      <td>@elonmusk This guy is a genius I'd let him mix...</td>\n",
       "      <td>@elonmusk this guy is a genius i'd let him mix...</td>\n",
       "      <td>elonmusk this guy is a genius i had let him mi...</td>\n",
       "      <td>NaN</td>\n",
       "      <td>@elonmusk</td>\n",
       "      <td>1223128794396938241</td>\n",
       "      <td>NaN</td>\n",
       "      <td>NaN</td>\n",
       "      <td>18</td>\n",
       "      <td>138</td>\n",
       "    </tr>\n",
       "    <tr>\n",
       "      <th>2363</th>\n",
       "      <td>1223556070263574528</td>\n",
       "      <td>Unknown</td>\n",
       "      <td>0</td>\n",
       "      <td>123410</td>\n",
       "      <td>@elonmusk I am making this mu Alarm tune and I...</td>\n",
       "      <td>@elonmusk i am making this mu alarm tune and i...</td>\n",
       "      <td>elonmusk i am making this mu alarm tune and i ...</td>\n",
       "      <td>NaN</td>\n",
       "      <td>@elonmusk</td>\n",
       "      <td>1223128794396938241</td>\n",
       "      <td>NaN</td>\n",
       "      <td>NaN</td>\n",
       "      <td>15</td>\n",
       "      <td>98</td>\n",
       "    </tr>\n",
       "  </tbody>\n",
       "</table>\n",
       "</div>"
      ],
      "text/plain": [
       "                      TID    Label  Target Unnamed: 0  \\\n",
       "2362  1224145491040129024  Unknown       0     123409   \n",
       "2363  1223556070263574528  Unknown       0     123410   \n",
       "\n",
       "                                              OrigTweet  \\\n",
       "2362  @elonmusk This guy is a genius I'd let him mix...   \n",
       "2363  @elonmusk I am making this mu Alarm tune and I...   \n",
       "\n",
       "                                       CleanTweetNoHttp  \\\n",
       "2362  @elonmusk this guy is a genius i'd let him mix...   \n",
       "2363  @elonmusk i am making this mu alarm tune and i...   \n",
       "\n",
       "                                   CleanTweetNoSpecChar HashTags   Mentions  \\\n",
       "2362  elonmusk this guy is a genius i had let him mi...      NaN  @elonmusk   \n",
       "2363  elonmusk i am making this mu alarm tune and i ...      NaN  @elonmusk   \n",
       "\n",
       "                InReplyTo ArticleTitle CountReplyTweets CountReplyWords  \\\n",
       "2362  1223128794396938241          NaN              NaN              18   \n",
       "2363  1223128794396938241          NaN              NaN              15   \n",
       "\n",
       "     CountReplyChars  \n",
       "2362             138  \n",
       "2363              98  "
      ]
     },
     "execution_count": 272,
     "metadata": {},
     "output_type": "execute_result"
    }
   ],
   "source": [
    "df_reGTrDecomposed_NoAgree.tail(2)"
   ]
  },
  {
   "cell_type": "code",
   "execution_count": 273,
   "id": "9c3c3362-48b7-47cb-962c-704e3e1cf44e",
   "metadata": {},
   "outputs": [
    {
     "data": {
      "text/plain": [
       "2383"
      ]
     },
     "execution_count": 273,
     "metadata": {},
     "output_type": "execute_result"
    }
   ],
   "source": [
    "len(df_reGTrDecomposed_NoAgree)"
   ]
  },
  {
   "cell_type": "code",
   "execution_count": 275,
   "id": "82a87652-d0df-4023-a91c-46225f7f4599",
   "metadata": {},
   "outputs": [],
   "source": [
    "df_reGTrDecomposed_NoAgree.to_csv('data/GTxM_Pass1/reGTr_SMR_Decomposed_NoAgree.csv')"
   ]
  },
  {
   "cell_type": "code",
   "execution_count": null,
   "id": "8e126df6-eebe-4c05-9f89-a09156694917",
   "metadata": {},
   "outputs": [],
   "source": []
  }
 ],
 "metadata": {
  "kernelspec": {
   "display_name": "Python 3 (ipykernel)",
   "language": "python",
   "name": "python3"
  },
  "language_info": {
   "codemirror_mode": {
    "name": "ipython",
    "version": 3
   },
   "file_extension": ".py",
   "mimetype": "text/x-python",
   "name": "python",
   "nbconvert_exporter": "python",
   "pygments_lexer": "ipython3",
   "version": "3.8.11"
  }
 },
 "nbformat": 4,
 "nbformat_minor": 5
}
