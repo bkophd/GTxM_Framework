{
 "cells": [
  {
   "cell_type": "markdown",
   "id": "986fa66b-b470-421c-9107-756edb8df9cb",
   "metadata": {
    "tags": []
   },
   "source": [
    "## GTxM Pass 3"
   ]
  },
  {
   "cell_type": "markdown",
   "id": "722ee73a-90f3-414a-9114-a30f6f062111",
   "metadata": {
    "jp-MarkdownHeadingCollapsed": true,
    "tags": []
   },
   "source": [
    "### Setup Env"
   ]
  },
  {
   "cell_type": "code",
   "execution_count": 1,
   "id": "3cff67a7-f9cd-460e-9b2c-3ced15c703f7",
   "metadata": {},
   "outputs": [],
   "source": [
    "# Pass 3 objective: remove international politics SMRs as they share terms with Human Rights, \n",
    "# and might be the reason the poor results in Pass2"
   ]
  },
  {
   "cell_type": "code",
   "execution_count": 1,
   "id": "684458f8-28eb-4692-9a5e-178e78af8617",
   "metadata": {},
   "outputs": [],
   "source": [
    "import pandas as pd\n",
    "import numpy as np\n",
    "import re\n",
    "from krippendorff_alpha import *"
   ]
  },
  {
   "cell_type": "code",
   "execution_count": 106,
   "id": "17c4d28b-c1c1-45c0-ab44-08ec84771a77",
   "metadata": {},
   "outputs": [],
   "source": [
    "def removeSpCharLine(text):\n",
    "    # remove all non ASCII characters and line breaks.\n",
    "    # credit: https://stackoverflow.com/questions/2758921/regular-expression-that-finds-and-replaces-non-ascii-characters-with-python\n",
    "    text.replace('\\n', ' ')\n",
    "    text.replace('\\r', ' ')\n",
    "    text = re.sub(r\"[\\u0080-\\uFFFF]\", \" \", text) #see ASCII list: https://www.asciitable.com/\n",
    "    text = \" \".join(text.split()) # replace multiple spaces with a single space\n",
    "    return(text+\". \")"
   ]
  },
  {
   "cell_type": "code",
   "execution_count": 107,
   "id": "64005e29-3ea8-466b-a4bd-72049b9e4f85",
   "metadata": {},
   "outputs": [],
   "source": [
    "df_gtd_tokens1 = pd.read_csv('data/GTxM_Pass1/reGTr_Tokens.csv', dtype='str')\n",
    "df_gtd_tokens2 = pd.read_csv('data/GTxM_Pass2/GTD_Pass2_To_3_tokens.csv', dtype='str')"
   ]
  },
  {
   "cell_type": "code",
   "execution_count": 108,
   "id": "0f815c2e-12a4-47e1-8323-a6c28510943e",
   "metadata": {},
   "outputs": [
    {
     "data": {
      "text/plain": [
       "(854, 283)"
      ]
     },
     "execution_count": 108,
     "metadata": {},
     "output_type": "execute_result"
    }
   ],
   "source": [
    "len(df_gtd_tokens1), len(df_gtd_tokens2)"
   ]
  },
  {
   "cell_type": "code",
   "execution_count": 109,
   "id": "b9c90152-9ac1-415f-a778-38bb9e5c4df8",
   "metadata": {},
   "outputs": [],
   "source": [
    "df_gtd_tokens = pd.concat([df_gtd_tokens1,df_gtd_tokens2], axis = 0)"
   ]
  },
  {
   "cell_type": "code",
   "execution_count": 110,
   "id": "0e67d513-e079-4d54-a0b1-51f004e7023b",
   "metadata": {},
   "outputs": [
    {
     "data": {
      "text/html": [
       "<div>\n",
       "<style scoped>\n",
       "    .dataframe tbody tr th:only-of-type {\n",
       "        vertical-align: middle;\n",
       "    }\n",
       "\n",
       "    .dataframe tbody tr th {\n",
       "        vertical-align: top;\n",
       "    }\n",
       "\n",
       "    .dataframe thead th {\n",
       "        text-align: right;\n",
       "    }\n",
       "</style>\n",
       "<table border=\"1\" class=\"dataframe\">\n",
       "  <thead>\n",
       "    <tr style=\"text-align: right;\">\n",
       "      <th></th>\n",
       "      <th>Unnamed: 0</th>\n",
       "      <th>RecID</th>\n",
       "      <th>Target</th>\n",
       "      <th>Label</th>\n",
       "      <th>rowid</th>\n",
       "      <th>PubTitle</th>\n",
       "      <th>RecDoc</th>\n",
       "      <th>countSupTweets</th>\n",
       "      <th>smrHashtags</th>\n",
       "      <th>smrMentions</th>\n",
       "      <th>smrNER</th>\n",
       "      <th>smrNouns</th>\n",
       "      <th>smrVerbs</th>\n",
       "      <th>smrAdverbs</th>\n",
       "      <th>smrAdjectives</th>\n",
       "      <th>smrTopText</th>\n",
       "      <th>smrSummary</th>\n",
       "    </tr>\n",
       "  </thead>\n",
       "  <tbody>\n",
       "    <tr>\n",
       "      <th>0</th>\n",
       "      <td>0</td>\n",
       "      <td>1089699762331217920</td>\n",
       "      <td>1</td>\n",
       "      <td>Business</td>\n",
       "      <td>192</td>\n",
       "      <td>Peloton exercise bike ad mocked as being 'sexi...</td>\n",
       "      <td>Love putting my Peloton bike in the most strik...</td>\n",
       "      <td>118.0</td>\n",
       "      <td>hilarious pton homesteadexemption realproblems...</td>\n",
       "      <td>profgalloway dpshow dirrtydut danglebus nicksc...</td>\n",
       "      <td>peloton serious later coupl monthli minut king...</td>\n",
       "      <td>love peloton bike area hous wife glanc hubbi e...</td>\n",
       "      <td>keep trap doe pedal whogco buy broke buy play ...</td>\n",
       "      <td>matter away serious later fast btw though outd...</td>\n",
       "      <td>strike ultra modern nervou dark right perfect ...</td>\n",
       "      <td>Love putting my Peloton bike in the most strik...</td>\n",
       "      <td>Love putting my Peloton bike in the most strik...</td>\n",
       "    </tr>\n",
       "    <tr>\n",
       "      <th>1</th>\n",
       "      <td>1</td>\n",
       "      <td>1139309394968096768</td>\n",
       "      <td>6</td>\n",
       "      <td>Politics</td>\n",
       "      <td>291</td>\n",
       "      <td>Six Takeaways From Senators' Questions to Impe...</td>\n",
       "      <td>I would not have thought that I needed to say ...</td>\n",
       "      <td>25.0</td>\n",
       "      <td>clintonfoundation corruptcomplicitgop clintons...</td>\n",
       "      <td>ellenlweintraub k9dancerpovey nypapajoe killer...</td>\n",
       "      <td>agenda us elect statu quo unsustain american b...</td>\n",
       "      <td>intern corpor polit agenda us elect polit dona...</td>\n",
       "      <td>control influenc destroy wipe cheat breath myb...</td>\n",
       "      <td>care right behind forward total appar</td>\n",
       "      <td>vast unsustain unaccept question possibl fair ...</td>\n",
       "      <td>I would not have thought that I needed to say ...</td>\n",
       "      <td>I would not have thought that I needed to say ...</td>\n",
       "    </tr>\n",
       "  </tbody>\n",
       "</table>\n",
       "</div>"
      ],
      "text/plain": [
       "  Unnamed: 0                RecID Target     Label rowid  \\\n",
       "0          0  1089699762331217920      1  Business   192   \n",
       "1          1  1139309394968096768      6  Politics   291   \n",
       "\n",
       "                                            PubTitle  \\\n",
       "0  Peloton exercise bike ad mocked as being 'sexi...   \n",
       "1  Six Takeaways From Senators' Questions to Impe...   \n",
       "\n",
       "                                              RecDoc countSupTweets  \\\n",
       "0  Love putting my Peloton bike in the most strik...          118.0   \n",
       "1  I would not have thought that I needed to say ...           25.0   \n",
       "\n",
       "                                         smrHashtags  \\\n",
       "0  hilarious pton homesteadexemption realproblems...   \n",
       "1  clintonfoundation corruptcomplicitgop clintons...   \n",
       "\n",
       "                                         smrMentions  \\\n",
       "0  profgalloway dpshow dirrtydut danglebus nicksc...   \n",
       "1  ellenlweintraub k9dancerpovey nypapajoe killer...   \n",
       "\n",
       "                                              smrNER  \\\n",
       "0  peloton serious later coupl monthli minut king...   \n",
       "1  agenda us elect statu quo unsustain american b...   \n",
       "\n",
       "                                            smrNouns  \\\n",
       "0  love peloton bike area hous wife glanc hubbi e...   \n",
       "1  intern corpor polit agenda us elect polit dona...   \n",
       "\n",
       "                                            smrVerbs  \\\n",
       "0  keep trap doe pedal whogco buy broke buy play ...   \n",
       "1  control influenc destroy wipe cheat breath myb...   \n",
       "\n",
       "                                          smrAdverbs  \\\n",
       "0  matter away serious later fast btw though outd...   \n",
       "1              care right behind forward total appar   \n",
       "\n",
       "                                       smrAdjectives  \\\n",
       "0  strike ultra modern nervou dark right perfect ...   \n",
       "1  vast unsustain unaccept question possibl fair ...   \n",
       "\n",
       "                                          smrTopText  \\\n",
       "0  Love putting my Peloton bike in the most strik...   \n",
       "1  I would not have thought that I needed to say ...   \n",
       "\n",
       "                                          smrSummary  \n",
       "0  Love putting my Peloton bike in the most strik...  \n",
       "1  I would not have thought that I needed to say ...  "
      ]
     },
     "execution_count": 110,
     "metadata": {},
     "output_type": "execute_result"
    }
   ],
   "source": [
    "df_gtd_tokens.head(2)"
   ]
  },
  {
   "cell_type": "code",
   "execution_count": 111,
   "id": "19ce614f-2bb4-4c8c-816a-215b5e3f03db",
   "metadata": {},
   "outputs": [
    {
     "data": {
      "text/html": [
       "<div>\n",
       "<style scoped>\n",
       "    .dataframe tbody tr th:only-of-type {\n",
       "        vertical-align: middle;\n",
       "    }\n",
       "\n",
       "    .dataframe tbody tr th {\n",
       "        vertical-align: top;\n",
       "    }\n",
       "\n",
       "    .dataframe thead th {\n",
       "        text-align: right;\n",
       "    }\n",
       "</style>\n",
       "<table border=\"1\" class=\"dataframe\">\n",
       "  <thead>\n",
       "    <tr style=\"text-align: right;\">\n",
       "      <th></th>\n",
       "      <th>Unnamed: 0</th>\n",
       "      <th>RecID</th>\n",
       "      <th>Target</th>\n",
       "      <th>Label</th>\n",
       "      <th>rowid</th>\n",
       "      <th>PubTitle</th>\n",
       "      <th>RecDoc</th>\n",
       "      <th>countSupTweets</th>\n",
       "      <th>smrHashtags</th>\n",
       "      <th>smrMentions</th>\n",
       "      <th>smrNER</th>\n",
       "      <th>smrNouns</th>\n",
       "      <th>smrVerbs</th>\n",
       "      <th>smrAdverbs</th>\n",
       "      <th>smrAdjectives</th>\n",
       "      <th>smrTopText</th>\n",
       "      <th>smrSummary</th>\n",
       "    </tr>\n",
       "  </thead>\n",
       "  <tbody>\n",
       "    <tr>\n",
       "      <th>281</th>\n",
       "      <td>281</td>\n",
       "      <td>1222910064236744704</td>\n",
       "      <td>6</td>\n",
       "      <td>Politics</td>\n",
       "      <td>4658</td>\n",
       "      <td>L'�tat, C'est Trump</td>\n",
       "      <td>Assuming the Senate votes against witnesses, a...</td>\n",
       "      <td>87.0</td>\n",
       "      <td>impeachandremovetrumpnow moreimpeaching obstru...</td>\n",
       "      <td>delavegalaw medit8now amandionair lanning_laur...</td>\n",
       "      <td>senat trump bolton mulvaney giuliani american ...</td>\n",
       "      <td>senat wit trump bolton mulvaney giuliani peopl...</td>\n",
       "      <td>assum vote expect subpoena entitl hear play ex...</td>\n",
       "      <td>immedi exactli sadli care long away right espe...</td>\n",
       "      <td>american obscen sham explicit democrat biparti...</td>\n",
       "      <td>Assuming the Senate votes against witnesses, a...</td>\n",
       "      <td>Assuming the Senate votes against witnesses, a...</td>\n",
       "    </tr>\n",
       "    <tr>\n",
       "      <th>282</th>\n",
       "      <td>282</td>\n",
       "      <td>1222952347548164098</td>\n",
       "      <td>6</td>\n",
       "      <td>Politics</td>\n",
       "      <td>4662</td>\n",
       "      <td>U.K. Leaves E.U., Embarking On an Uncertain Fu...</td>\n",
       "      <td>I am sad to see our British friends leave the ...</td>\n",
       "      <td>260.0</td>\n",
       "      <td>bernardtapie loveit 0doubt italy france brexit...</td>\n",
       "      <td>fathonie_ag_top devonlass nevenmaguire _hadley...</td>\n",
       "      <td>british eu brexit european us uk gcpsbasket br...</td>\n",
       "      <td>friend eu mandat brexit disrupt citizen employ...</td>\n",
       "      <td>leav act ensur unit understand mean trust unde...</td>\n",
       "      <td>perhap hope anytim qu un fulli therebi vigor f...</td>\n",
       "      <td>sad british littl possibl financi western brit...</td>\n",
       "      <td>I am sad to see our British friends leave the ...</td>\n",
       "      <td>I am sad to see our British friends leave the ...</td>\n",
       "    </tr>\n",
       "  </tbody>\n",
       "</table>\n",
       "</div>"
      ],
      "text/plain": [
       "    Unnamed: 0                RecID Target     Label rowid  \\\n",
       "281        281  1222910064236744704      6  Politics  4658   \n",
       "282        282  1222952347548164098      6  Politics  4662   \n",
       "\n",
       "                                              PubTitle  \\\n",
       "281                                L'�tat, C'est Trump   \n",
       "282  U.K. Leaves E.U., Embarking On an Uncertain Fu...   \n",
       "\n",
       "                                                RecDoc countSupTweets  \\\n",
       "281  Assuming the Senate votes against witnesses, a...           87.0   \n",
       "282  I am sad to see our British friends leave the ...          260.0   \n",
       "\n",
       "                                           smrHashtags  \\\n",
       "281  impeachandremovetrumpnow moreimpeaching obstru...   \n",
       "282  bernardtapie loveit 0doubt italy france brexit...   \n",
       "\n",
       "                                           smrMentions  \\\n",
       "281  delavegalaw medit8now amandionair lanning_laur...   \n",
       "282  fathonie_ag_top devonlass nevenmaguire _hadley...   \n",
       "\n",
       "                                                smrNER  \\\n",
       "281  senat trump bolton mulvaney giuliani american ...   \n",
       "282  british eu brexit european us uk gcpsbasket br...   \n",
       "\n",
       "                                              smrNouns  \\\n",
       "281  senat wit trump bolton mulvaney giuliani peopl...   \n",
       "282  friend eu mandat brexit disrupt citizen employ...   \n",
       "\n",
       "                                              smrVerbs  \\\n",
       "281  assum vote expect subpoena entitl hear play ex...   \n",
       "282  leav act ensur unit understand mean trust unde...   \n",
       "\n",
       "                                            smrAdverbs  \\\n",
       "281  immedi exactli sadli care long away right espe...   \n",
       "282  perhap hope anytim qu un fulli therebi vigor f...   \n",
       "\n",
       "                                         smrAdjectives  \\\n",
       "281  american obscen sham explicit democrat biparti...   \n",
       "282  sad british littl possibl financi western brit...   \n",
       "\n",
       "                                            smrTopText  \\\n",
       "281  Assuming the Senate votes against witnesses, a...   \n",
       "282  I am sad to see our British friends leave the ...   \n",
       "\n",
       "                                            smrSummary  \n",
       "281  Assuming the Senate votes against witnesses, a...  \n",
       "282  I am sad to see our British friends leave the ...  "
      ]
     },
     "execution_count": 111,
     "metadata": {},
     "output_type": "execute_result"
    }
   ],
   "source": [
    "df_gtd_tokens.tail(2)"
   ]
  },
  {
   "cell_type": "code",
   "execution_count": 112,
   "id": "f0f62476-c760-4954-88e8-43ef7c27dc2e",
   "metadata": {},
   "outputs": [
    {
     "data": {
      "text/plain": [
       "Label\n",
       "Business           75\n",
       "Entertainment     153\n",
       "Environmental      17\n",
       "Health              4\n",
       "Human Rights       83\n",
       "Law and Order      12\n",
       "Obituary          147\n",
       "Politics          539\n",
       "Social Stories     32\n",
       "Sports             75\n",
       "dtype: int64"
      ]
     },
     "execution_count": 112,
     "metadata": {},
     "output_type": "execute_result"
    }
   ],
   "source": [
    "df_gtd_tokens.groupby(['Label']).size()"
   ]
  },
  {
   "cell_type": "code",
   "execution_count": 113,
   "id": "5ff284fd-2066-4e24-b4f0-9e549a126aae",
   "metadata": {},
   "outputs": [],
   "source": [
    "df_gtd_tokens_politics = df_gtd_tokens[df_gtd_tokens.Label=='Politics']"
   ]
  },
  {
   "cell_type": "code",
   "execution_count": 114,
   "id": "f1759787-8988-476d-b760-0c7ea998bec1",
   "metadata": {},
   "outputs": [
    {
     "data": {
      "text/plain": [
       "539"
      ]
     },
     "execution_count": 114,
     "metadata": {},
     "output_type": "execute_result"
    }
   ],
   "source": [
    "len(df_gtd_tokens_politics)"
   ]
  },
  {
   "cell_type": "code",
   "execution_count": 115,
   "id": "ac114e19-17fc-4640-9da0-4f5d50bff801",
   "metadata": {},
   "outputs": [],
   "source": [
    "df_gtd_tokens_hrights = df_gtd_tokens[df_gtd_tokens.Label=='Human Rights']"
   ]
  },
  {
   "cell_type": "code",
   "execution_count": 116,
   "id": "fab9a951-16b1-4fe7-a0f2-6a75ce833b19",
   "metadata": {},
   "outputs": [
    {
     "data": {
      "text/plain": [
       "83"
      ]
     },
     "execution_count": 116,
     "metadata": {},
     "output_type": "execute_result"
    }
   ],
   "source": [
    "len(df_gtd_tokens_hrights)"
   ]
  },
  {
   "cell_type": "code",
   "execution_count": 117,
   "id": "10fb6a8b-fa3f-47b2-b17e-de3960f6d859",
   "metadata": {},
   "outputs": [],
   "source": [
    "df_GTD_Rec_Labels = df_gtd_tokens[['RecID','Label','Target']]"
   ]
  },
  {
   "cell_type": "code",
   "execution_count": 19,
   "id": "4834ffbe-e8c4-41fc-95ce-af397932600b",
   "metadata": {},
   "outputs": [],
   "source": [
    "df_gtd_tokens_politics.to_csv('data/GTxM_Pass3/GTxM_Pass3_GTD_politics_token.csv', index=False)"
   ]
  },
  {
   "cell_type": "markdown",
   "id": "f240c7cb-8570-41a0-a509-71029485432e",
   "metadata": {
    "jp-MarkdownHeadingCollapsed": true,
    "tags": []
   },
   "source": [
    "### After HO1 and HO2, get the JatoClassified files, compute intercoder"
   ]
  },
  {
   "cell_type": "code",
   "execution_count": 118,
   "id": "dd863389-db38-41e8-9056-71bf2292e212",
   "metadata": {},
   "outputs": [],
   "source": [
    "df_jato_pass3_HO1 = pd.read_csv('D:/KOPro/PhD/Implementation/SourceCode/JatoPass3_HO1/data/JatoClassified_Pass3_HO1.csv', dtype='str')"
   ]
  },
  {
   "cell_type": "code",
   "execution_count": 119,
   "id": "f8374592-551c-476f-942b-83657f568ac7",
   "metadata": {},
   "outputs": [],
   "source": [
    "df_jato_pass3_HO1 = pd.merge(df_jato_pass3_HO1, df_gtd_tokens_politics['RecID'], on='RecID', how='inner')"
   ]
  },
  {
   "cell_type": "code",
   "execution_count": 120,
   "id": "aac0bf34-b795-4aa1-95b1-b215d6b979c3",
   "metadata": {},
   "outputs": [
    {
     "data": {
      "text/plain": [
       "539"
      ]
     },
     "execution_count": 120,
     "metadata": {},
     "output_type": "execute_result"
    }
   ],
   "source": [
    "len(df_jato_pass3_HO1)"
   ]
  },
  {
   "cell_type": "code",
   "execution_count": 121,
   "id": "99a17223-8867-4965-aa47-56dae5385a65",
   "metadata": {},
   "outputs": [
    {
     "data": {
      "text/html": [
       "<div>\n",
       "<style scoped>\n",
       "    .dataframe tbody tr th:only-of-type {\n",
       "        vertical-align: middle;\n",
       "    }\n",
       "\n",
       "    .dataframe tbody tr th {\n",
       "        vertical-align: top;\n",
       "    }\n",
       "\n",
       "    .dataframe thead th {\n",
       "        text-align: right;\n",
       "    }\n",
       "</style>\n",
       "<table border=\"1\" class=\"dataframe\">\n",
       "  <thead>\n",
       "    <tr style=\"text-align: right;\">\n",
       "      <th></th>\n",
       "      <th>rowid</th>\n",
       "      <th>RecID</th>\n",
       "      <th>SavedDataTime</th>\n",
       "      <th>JatoCat</th>\n",
       "      <th>JatoSubCat</th>\n",
       "      <th>JatoCat2</th>\n",
       "      <th>JatoSubCat2</th>\n",
       "      <th>JatoCat3</th>\n",
       "      <th>JatoSubCat3</th>\n",
       "      <th>NewRecClass</th>\n",
       "      <th>GTCodes</th>\n",
       "      <th>NewsPubCat</th>\n",
       "    </tr>\n",
       "  </thead>\n",
       "  <tbody>\n",
       "    <tr>\n",
       "      <th>0</th>\n",
       "      <td>60</td>\n",
       "      <td>826262311560216578</td>\n",
       "      <td>2023:03:25 16:17:17</td>\n",
       "      <td>Political</td>\n",
       "      <td>Debate</td>\n",
       "      <td>NaN</td>\n",
       "      <td>NaN</td>\n",
       "      <td>NaN</td>\n",
       "      <td>NaN</td>\n",
       "      <td>NaN</td>\n",
       "      <td>NaN</td>\n",
       "      <td>Politics</td>\n",
       "    </tr>\n",
       "    <tr>\n",
       "      <th>1</th>\n",
       "      <td>257</td>\n",
       "      <td>1122651175688515584</td>\n",
       "      <td>2023:03:25 16:29:31</td>\n",
       "      <td>NaN</td>\n",
       "      <td>Campaigns</td>\n",
       "      <td>NaN</td>\n",
       "      <td>NaN</td>\n",
       "      <td>NaN</td>\n",
       "      <td>NaN</td>\n",
       "      <td>NaN</td>\n",
       "      <td>NaN</td>\n",
       "      <td>Politics</td>\n",
       "    </tr>\n",
       "  </tbody>\n",
       "</table>\n",
       "</div>"
      ],
      "text/plain": [
       "  rowid                RecID        SavedDataTime    JatoCat JatoSubCat  \\\n",
       "0    60   826262311560216578  2023:03:25 16:17:17  Political     Debate   \n",
       "1   257  1122651175688515584  2023:03:25 16:29:31        NaN  Campaigns   \n",
       "\n",
       "  JatoCat2 JatoSubCat2 JatoCat3 JatoSubCat3 NewRecClass GTCodes NewsPubCat  \n",
       "0      NaN         NaN      NaN         NaN         NaN     NaN   Politics  \n",
       "1      NaN         NaN      NaN         NaN         NaN     NaN   Politics  "
      ]
     },
     "execution_count": 121,
     "metadata": {},
     "output_type": "execute_result"
    }
   ],
   "source": [
    "df_jato_pass3_HO1.head(2)"
   ]
  },
  {
   "cell_type": "code",
   "execution_count": 122,
   "id": "235a85c0-f739-4a3a-8cec-6483f0ef0314",
   "metadata": {},
   "outputs": [
    {
     "data": {
      "text/plain": [
       "NewsPubCat\n",
       "Human Rights       16\n",
       "Politics          417\n",
       "World Politics    106\n",
       "dtype: int64"
      ]
     },
     "execution_count": 122,
     "metadata": {},
     "output_type": "execute_result"
    }
   ],
   "source": [
    "df_jato_pass3_HO1.groupby(['NewsPubCat']).size()"
   ]
  },
  {
   "cell_type": "code",
   "execution_count": 123,
   "id": "06b6499e-006d-49cd-b0aa-19e415834286",
   "metadata": {},
   "outputs": [],
   "source": [
    "Labels_Targets = pd.read_csv('data/Labels_TargetsV3.csv')"
   ]
  },
  {
   "cell_type": "code",
   "execution_count": 124,
   "id": "30aada86-d64b-4ddc-a25b-27b923170e91",
   "metadata": {},
   "outputs": [
    {
     "data": {
      "text/html": [
       "<div>\n",
       "<style scoped>\n",
       "    .dataframe tbody tr th:only-of-type {\n",
       "        vertical-align: middle;\n",
       "    }\n",
       "\n",
       "    .dataframe tbody tr th {\n",
       "        vertical-align: top;\n",
       "    }\n",
       "\n",
       "    .dataframe thead th {\n",
       "        text-align: right;\n",
       "    }\n",
       "</style>\n",
       "<table border=\"1\" class=\"dataframe\">\n",
       "  <thead>\n",
       "    <tr style=\"text-align: right;\">\n",
       "      <th></th>\n",
       "      <th>Target</th>\n",
       "      <th>Label</th>\n",
       "    </tr>\n",
       "  </thead>\n",
       "  <tbody>\n",
       "    <tr>\n",
       "      <th>0</th>\n",
       "      <td>1</td>\n",
       "      <td>Business</td>\n",
       "    </tr>\n",
       "    <tr>\n",
       "      <th>1</th>\n",
       "      <td>2</td>\n",
       "      <td>Entertainment</td>\n",
       "    </tr>\n",
       "  </tbody>\n",
       "</table>\n",
       "</div>"
      ],
      "text/plain": [
       "   Target          Label\n",
       "0       1       Business\n",
       "1       2  Entertainment"
      ]
     },
     "execution_count": 124,
     "metadata": {},
     "output_type": "execute_result"
    }
   ],
   "source": [
    "Labels_Targets.head(2)"
   ]
  },
  {
   "cell_type": "code",
   "execution_count": 125,
   "id": "fb4afd4d-5466-4bea-8ca6-d1bdb957ce5f",
   "metadata": {},
   "outputs": [],
   "source": [
    "Labels_Targets.rename(columns={'Label': 'NewsPubCat'}, inplace=True)"
   ]
  },
  {
   "cell_type": "code",
   "execution_count": 126,
   "id": "53bb4f1c-d1d6-4ed9-9668-37f2b0c20002",
   "metadata": {},
   "outputs": [],
   "source": [
    "df_jato_pass3_HO1_Target = pd.merge(df_jato_pass3_HO1,Labels_Targets, on='NewsPubCat', how='left')"
   ]
  },
  {
   "cell_type": "code",
   "execution_count": 127,
   "id": "e0cd30d6-781c-454b-a467-4e0140109a54",
   "metadata": {},
   "outputs": [],
   "source": [
    "df_jato_pass3_HO2 = pd.read_csv('D:/KOPro/PhD/Implementation/SourceCode/JatoPass3_HO2/data/JatoClassified_Pass3_HO2.csv', dtype='str')"
   ]
  },
  {
   "cell_type": "code",
   "execution_count": 128,
   "id": "ccd74f08-9772-4974-9217-6f1c6e5d28cf",
   "metadata": {},
   "outputs": [],
   "source": [
    "df_jato_pass3_HO2 = pd.merge(df_jato_pass3_HO2, df_gtd_tokens_politics['RecID'], on='RecID', how='inner')"
   ]
  },
  {
   "cell_type": "code",
   "execution_count": 129,
   "id": "cba7870c-a5bf-42de-9a71-04dc0c326200",
   "metadata": {},
   "outputs": [
    {
     "data": {
      "text/plain": [
       "539"
      ]
     },
     "execution_count": 129,
     "metadata": {},
     "output_type": "execute_result"
    }
   ],
   "source": [
    "len(df_jato_pass3_HO2)"
   ]
  },
  {
   "cell_type": "code",
   "execution_count": 130,
   "id": "43519148-6f31-4b56-a3f2-e6c848a12b97",
   "metadata": {},
   "outputs": [
    {
     "data": {
      "text/html": [
       "<div>\n",
       "<style scoped>\n",
       "    .dataframe tbody tr th:only-of-type {\n",
       "        vertical-align: middle;\n",
       "    }\n",
       "\n",
       "    .dataframe tbody tr th {\n",
       "        vertical-align: top;\n",
       "    }\n",
       "\n",
       "    .dataframe thead th {\n",
       "        text-align: right;\n",
       "    }\n",
       "</style>\n",
       "<table border=\"1\" class=\"dataframe\">\n",
       "  <thead>\n",
       "    <tr style=\"text-align: right;\">\n",
       "      <th></th>\n",
       "      <th>rowid</th>\n",
       "      <th>RecID</th>\n",
       "      <th>SavedDataTime</th>\n",
       "      <th>JatoCat</th>\n",
       "      <th>JatoSubCat</th>\n",
       "      <th>JatoCat2</th>\n",
       "      <th>JatoSubCat2</th>\n",
       "      <th>JatoCat3</th>\n",
       "      <th>JatoSubCat3</th>\n",
       "      <th>NewRecClass</th>\n",
       "      <th>GTCodes</th>\n",
       "      <th>NewsPubCat</th>\n",
       "    </tr>\n",
       "  </thead>\n",
       "  <tbody>\n",
       "    <tr>\n",
       "      <th>0</th>\n",
       "      <td>60.0</td>\n",
       "      <td>826262311560216578</td>\n",
       "      <td>2023:03:25 12:56:01</td>\n",
       "      <td>Political</td>\n",
       "      <td>Debate</td>\n",
       "      <td>NaN</td>\n",
       "      <td>NaN</td>\n",
       "      <td>NaN</td>\n",
       "      <td>NaN</td>\n",
       "      <td>NaN</td>\n",
       "      <td>NaN</td>\n",
       "      <td>Politics</td>\n",
       "    </tr>\n",
       "    <tr>\n",
       "      <th>1</th>\n",
       "      <td>257.0</td>\n",
       "      <td>1122651175688515584</td>\n",
       "      <td>2023:03:25 12:59:39</td>\n",
       "      <td>NaN</td>\n",
       "      <td>Campaigns</td>\n",
       "      <td>NaN</td>\n",
       "      <td>NaN</td>\n",
       "      <td>NaN</td>\n",
       "      <td>NaN</td>\n",
       "      <td>NaN</td>\n",
       "      <td>NaN</td>\n",
       "      <td>Politics</td>\n",
       "    </tr>\n",
       "  </tbody>\n",
       "</table>\n",
       "</div>"
      ],
      "text/plain": [
       "   rowid                RecID        SavedDataTime    JatoCat JatoSubCat  \\\n",
       "0   60.0   826262311560216578  2023:03:25 12:56:01  Political     Debate   \n",
       "1  257.0  1122651175688515584  2023:03:25 12:59:39        NaN  Campaigns   \n",
       "\n",
       "  JatoCat2 JatoSubCat2 JatoCat3 JatoSubCat3 NewRecClass GTCodes NewsPubCat  \n",
       "0      NaN         NaN      NaN         NaN         NaN     NaN   Politics  \n",
       "1      NaN         NaN      NaN         NaN         NaN     NaN   Politics  "
      ]
     },
     "execution_count": 130,
     "metadata": {},
     "output_type": "execute_result"
    }
   ],
   "source": [
    "df_jato_pass3_HO2.head(2)"
   ]
  },
  {
   "cell_type": "code",
   "execution_count": 131,
   "id": "23b9fde1-e206-41f3-9ef5-221fb6681ece",
   "metadata": {},
   "outputs": [
    {
     "data": {
      "text/plain": [
       "NewsPubCat\n",
       "Politics          466\n",
       "World Politics     73\n",
       "dtype: int64"
      ]
     },
     "execution_count": 131,
     "metadata": {},
     "output_type": "execute_result"
    }
   ],
   "source": [
    "df_jato_pass3_HO2.groupby(['NewsPubCat']).size()"
   ]
  },
  {
   "cell_type": "code",
   "execution_count": 132,
   "id": "f5fdeb1f-d40e-443f-b2aa-6885a7ae11f3",
   "metadata": {},
   "outputs": [],
   "source": [
    "df_jato_pass3_HO2_Target = pd.merge(df_jato_pass3_HO2,Labels_Targets, on='NewsPubCat', how='left')"
   ]
  },
  {
   "cell_type": "code",
   "execution_count": 133,
   "id": "2e61f6da-a520-4476-90ac-33e985cc3f1c",
   "metadata": {},
   "outputs": [],
   "source": [
    "df_jato_pass3_HO1_Target.drop(['rowid','SavedDataTime','JatoCat','JatoSubCat','JatoCat2','JatoSubCat2','JatoCat3','JatoSubCat3','NewRecClass','GTCodes'], axis=1, inplace=True)\n",
    "df_jato_pass3_HO2_Target.drop(['rowid','SavedDataTime','JatoCat','JatoSubCat','JatoCat2','JatoSubCat2','JatoCat3','JatoSubCat3','NewRecClass','GTCodes'], axis=1, inplace=True)\n",
    "df_jato_pass3_HO1_Target.rename(columns={'NewsPubCat': 'LabelHO1','Target': 'TargetHO1'}, inplace=True)\n",
    "df_jato_pass3_HO2_Target.rename(columns={'NewsPubCat': 'LabelHO2','Target': 'TargetHO2'}, inplace=True)"
   ]
  },
  {
   "cell_type": "code",
   "execution_count": 134,
   "id": "a3bbd87e-62fc-40d5-8604-e5bca735b541",
   "metadata": {},
   "outputs": [
    {
     "data": {
      "text/plain": [
       "539"
      ]
     },
     "execution_count": 134,
     "metadata": {},
     "output_type": "execute_result"
    }
   ],
   "source": [
    "# Merge HO1 and HO2 dataframes to get the agreed labels\n",
    "df_jato_pass3_HO1HO2 = pd.merge(df_jato_pass3_HO1_Target,df_jato_pass3_HO2_Target, on='RecID', how='inner')\n",
    "len(df_jato_pass3_HO1HO2)"
   ]
  },
  {
   "cell_type": "code",
   "execution_count": 135,
   "id": "2e1bb8e1-24b6-43f1-acd5-4e28733a81d5",
   "metadata": {},
   "outputs": [
    {
     "data": {
      "text/html": [
       "<div>\n",
       "<style scoped>\n",
       "    .dataframe tbody tr th:only-of-type {\n",
       "        vertical-align: middle;\n",
       "    }\n",
       "\n",
       "    .dataframe tbody tr th {\n",
       "        vertical-align: top;\n",
       "    }\n",
       "\n",
       "    .dataframe thead th {\n",
       "        text-align: right;\n",
       "    }\n",
       "</style>\n",
       "<table border=\"1\" class=\"dataframe\">\n",
       "  <thead>\n",
       "    <tr style=\"text-align: right;\">\n",
       "      <th></th>\n",
       "      <th>RecID</th>\n",
       "      <th>LabelHO1</th>\n",
       "      <th>TargetHO1</th>\n",
       "      <th>LabelHO2</th>\n",
       "      <th>TargetHO2</th>\n",
       "    </tr>\n",
       "  </thead>\n",
       "  <tbody>\n",
       "    <tr>\n",
       "      <th>0</th>\n",
       "      <td>826262311560216578</td>\n",
       "      <td>Politics</td>\n",
       "      <td>6</td>\n",
       "      <td>Politics</td>\n",
       "      <td>6</td>\n",
       "    </tr>\n",
       "    <tr>\n",
       "      <th>1</th>\n",
       "      <td>1122651175688515584</td>\n",
       "      <td>Politics</td>\n",
       "      <td>6</td>\n",
       "      <td>Politics</td>\n",
       "      <td>6</td>\n",
       "    </tr>\n",
       "  </tbody>\n",
       "</table>\n",
       "</div>"
      ],
      "text/plain": [
       "                 RecID  LabelHO1  TargetHO1  LabelHO2  TargetHO2\n",
       "0   826262311560216578  Politics          6  Politics          6\n",
       "1  1122651175688515584  Politics          6  Politics          6"
      ]
     },
     "execution_count": 135,
     "metadata": {},
     "output_type": "execute_result"
    }
   ],
   "source": [
    "df_jato_pass3_HO1HO2.head(2)"
   ]
  },
  {
   "cell_type": "code",
   "execution_count": 136,
   "id": "0968352c-79ec-46c9-b9a4-8305fca7290b",
   "metadata": {},
   "outputs": [],
   "source": [
    "df_jato_pass3_HO1HO2_Agreed = df_jato_pass3_HO1HO2[df_jato_pass3_HO1HO2.TargetHO1 == df_jato_pass3_HO1HO2.TargetHO2]"
   ]
  },
  {
   "cell_type": "code",
   "execution_count": 137,
   "id": "8b9af520-89e4-4385-bec0-65b778458692",
   "metadata": {},
   "outputs": [
    {
     "data": {
      "text/plain": [
       "475"
      ]
     },
     "execution_count": 137,
     "metadata": {},
     "output_type": "execute_result"
    }
   ],
   "source": [
    "len(df_jato_pass3_HO1HO2_Agreed)"
   ]
  },
  {
   "cell_type": "code",
   "execution_count": 138,
   "id": "25f3ebf5-13af-4996-a517-979e54690ceb",
   "metadata": {},
   "outputs": [
    {
     "data": {
      "text/plain": [
       "64"
      ]
     },
     "execution_count": 138,
     "metadata": {},
     "output_type": "execute_result"
    }
   ],
   "source": [
    "df_jato_pass3_HO1HO2_NoAgree = df_jato_pass3_HO1HO2[df_jato_pass3_HO1HO2.TargetHO1 != df_jato_pass3_HO1HO2.TargetHO2]\n",
    "len(df_jato_pass3_HO1HO2_NoAgree)"
   ]
  },
  {
   "cell_type": "markdown",
   "id": "38a6d02e-db72-4d8a-a3f8-f37c39ed59bc",
   "metadata": {
    "jp-MarkdownHeadingCollapsed": true,
    "tags": []
   },
   "source": [
    "### Find krippendorff's alpha for the agreement between HO1 and HO2"
   ]
  },
  {
   "cell_type": "code",
   "execution_count": 139,
   "id": "390ec6d0-fa91-40ec-82ba-9ca461be4afe",
   "metadata": {},
   "outputs": [],
   "source": [
    "# convert to horizontal array as expected by Krippendorff Alpha\n",
    "HO1Label = np.stack(df_jato_pass3_HO1_Target['TargetHO1'])\n",
    "HO2Label = np.stack(df_jato_pass3_HO2_Target['TargetHO2'])"
   ]
  },
  {
   "cell_type": "code",
   "execution_count": 140,
   "id": "1635809f-1dd9-4e74-9435-5afc3abd8add",
   "metadata": {},
   "outputs": [
    {
     "data": {
      "text/plain": [
       "0.6062359682146141"
      ]
     },
     "execution_count": 140,
     "metadata": {},
     "output_type": "execute_result"
    }
   ],
   "source": [
    "missing = '-1'\n",
    "arr = np.array((HO1Label,HO2Label))\n",
    "alpha = krippendorff_alpha(arr, nominal_metric, missing_items=missing)\n",
    "alpha"
   ]
  },
  {
   "cell_type": "markdown",
   "id": "0affeda8-28c4-4682-a740-f70a82779960",
   "metadata": {
    "jp-MarkdownHeadingCollapsed": true,
    "tags": []
   },
   "source": [
    "### Prepare JatoMaster for HO3, where no HO1 and HO2 agreement"
   ]
  },
  {
   "cell_type": "code",
   "execution_count": 141,
   "id": "059522d5-d31e-44a1-b245-77eab8caf120",
   "metadata": {},
   "outputs": [],
   "source": [
    "# old code, don't use\n",
    "# df_jato_pass3_HO1HO2 = pd.concat([df_jato_pass3_HO1,df_jato_pass3_HO2], axis=0)\n",
    "# df_jato_pass3_HO1HO2.drop_duplicates(subset=['RecID','NewsPubCat'], keep=False, inplace=True)\n",
    "# df_jato_pass3_HO1HO2.drop_duplicates(subset=['RecID'], keep='first', inplace=True)"
   ]
  },
  {
   "cell_type": "code",
   "execution_count": 142,
   "id": "fcf77f81-1869-4352-abc6-d11f9357ae53",
   "metadata": {},
   "outputs": [],
   "source": [
    "df_jatoMaster_Pass3_HO3 = pd.merge(df_gtd_tokens_politics, df_jato_pass3_HO1HO2_NoAgree['RecID'], on='RecID', how='inner')"
   ]
  },
  {
   "cell_type": "code",
   "execution_count": 143,
   "id": "7b830473-8703-4853-8605-76e4b3e51f06",
   "metadata": {},
   "outputs": [
    {
     "data": {
      "text/plain": [
       "64"
      ]
     },
     "execution_count": 143,
     "metadata": {},
     "output_type": "execute_result"
    }
   ],
   "source": [
    "len(df_jatoMaster_Pass3_HO3)"
   ]
  },
  {
   "cell_type": "code",
   "execution_count": 144,
   "id": "04825429-716b-4fc3-98db-51497b82e707",
   "metadata": {},
   "outputs": [],
   "source": [
    "df_jatoMaster_Pass3_HO3.drop(['Unnamed: 0','smrAdverbs','smrAdjectives','Target','Label'], axis=1, inplace=True)"
   ]
  },
  {
   "cell_type": "code",
   "execution_count": 145,
   "id": "3e6464cd-a907-4e61-90c7-7178eaf28bb2",
   "metadata": {},
   "outputs": [],
   "source": [
    "df_jatoMaster_Pass3_HO3['PubTitle'] = df_jatoMaster_Pass3_HO3['PubTitle'].apply(removeSpCharLine)\n",
    "df_jatoMaster_Pass3_HO3['RecDoc'] = df_jatoMaster_Pass3_HO3['RecDoc'].apply(removeSpCharLine)\n",
    "df_jatoMaster_Pass3_HO3['smrTopText'] = df_jatoMaster_Pass3_HO3['smrTopText'].apply(removeSpCharLine)\n",
    "df_jatoMaster_Pass3_HO3['smrSummary'] = df_jatoMaster_Pass3_HO3['smrSummary'].apply(removeSpCharLine)"
   ]
  },
  {
   "cell_type": "code",
   "execution_count": 146,
   "id": "573ad793-fbd0-4ca2-a5c7-5fb1ce05f000",
   "metadata": {},
   "outputs": [],
   "source": [
    "# df_jatoMaster_Pass3_HO3['PubTitle'] = df_jatoMaster_Pass3_HO3['PubTitle'].apply(lambda x: re.sub(r'\\W+', ' ', x))\n",
    "# df_jatoMaster_Pass3_HO3['RecDoc'] = df_jatoMaster_Pass3_HO3['RecDoc'].apply(lambda x: re.sub(r'\\W+', ' ', x))\n",
    "# df_jatoMaster_Pass3_HO3['smrTopText'] = df_jatoMaster_Pass3_HO3['smrTopText'].apply(lambda x: re.sub(r'\\W+', ' ', x))\n",
    "# df_jatoMaster_Pass3_HO3['smrSummary'] = df_jatoMaster_Pass3_HO3['smrSummary'].apply(lambda x: re.sub(r'\\W+', ' ', x))\n",
    "# df_jatoMaster_Pass3_HO3['PubTitle'] = df_jatoMaster_Pass3_HO3.PubTitle.str.replace('\\n', ' ')\n",
    "# df_jatoMaster_Pass3_HO3['RecDoc'] = df_jatoMaster_Pass3_HO3.RecDoc.str.replace('\\n', ' ')\n",
    "# df_jatoMaster_Pass3_HO3['smrTopText'] = df_jatoMaster_Pass3_HO3.smrTopText.str.replace('\\n', ' ')\n",
    "# df_jatoMaster_Pass3_HO3['smrSummary'] = df_jatoMaster_Pass3_HO3.smrSummary.str.replace('\\n', ' ')\n",
    "# df_jatoMaster_Pass3_HO3['PubTitle'] = df_jatoMaster_Pass3_HO3.PubTitle.str.replace('\\r', ' ')\n",
    "# df_jatoMaster_Pass3_HO3['RecDoc'] = df_jatoMaster_Pass3_HO3.RecDoc.str.replace('\\r', ' ')\n",
    "# df_jatoMaster_Pass3_HO3['smrTopText'] = df_jatoMaster_Pass3_HO3.smrTopText.str.replace('\\r', ' ')\n",
    "# df_jatoMaster_Pass3_HO3['smrSummary'] = df_jatoMaster_Pass3_HO3.smrSummary.str.replace('\\r', ' ')"
   ]
  },
  {
   "cell_type": "code",
   "execution_count": 147,
   "id": "82989d7f-eea5-43e5-8e2f-cd008181de09",
   "metadata": {},
   "outputs": [
    {
     "data": {
      "text/html": [
       "<div>\n",
       "<style scoped>\n",
       "    .dataframe tbody tr th:only-of-type {\n",
       "        vertical-align: middle;\n",
       "    }\n",
       "\n",
       "    .dataframe tbody tr th {\n",
       "        vertical-align: top;\n",
       "    }\n",
       "\n",
       "    .dataframe thead th {\n",
       "        text-align: right;\n",
       "    }\n",
       "</style>\n",
       "<table border=\"1\" class=\"dataframe\">\n",
       "  <thead>\n",
       "    <tr style=\"text-align: right;\">\n",
       "      <th></th>\n",
       "      <th>RecID</th>\n",
       "      <th>rowid</th>\n",
       "      <th>PubTitle</th>\n",
       "      <th>RecDoc</th>\n",
       "      <th>countSupTweets</th>\n",
       "      <th>smrHashtags</th>\n",
       "      <th>smrMentions</th>\n",
       "      <th>smrNER</th>\n",
       "      <th>smrNouns</th>\n",
       "      <th>smrVerbs</th>\n",
       "      <th>smrTopText</th>\n",
       "      <th>smrSummary</th>\n",
       "    </tr>\n",
       "  </thead>\n",
       "  <tbody>\n",
       "    <tr>\n",
       "      <th>0</th>\n",
       "      <td>1179179573541511176</td>\n",
       "      <td>529</td>\n",
       "      <td>False ?Coup? Claims by Trump Echo as Unifying ...</td>\n",
       "      <td>As I learn more and more each day, I am coming...</td>\n",
       "      <td>42.0</td>\n",
       "      <td>traitor istandwithpresidenttrump putinspuppet ...</td>\n",
       "      <td>t_wwg1wga patriotpure realjediman1 twitter go4...</td>\n",
       "      <td>power second zelenski second american russian ...</td>\n",
       "      <td>conclus place impeach coup power whistleblow a...</td>\n",
       "      <td>learn intend grant impeach accept derang lie d...</td>\n",
       "      <td>As I learn more and more each day, I am coming...</td>\n",
       "      <td>As I learn more and more each day, I am coming...</td>\n",
       "    </tr>\n",
       "    <tr>\n",
       "      <th>1</th>\n",
       "      <td>1179699937623379969</td>\n",
       "      <td>555</td>\n",
       "      <td>Barr and a Top Prosecutor Cast a Wide Net in R...</td>\n",
       "      <td>Australia?s response to Senator Lindsey Graham...</td>\n",
       "      <td>260.0</td>\n",
       "      <td>highcrimes spygate trumpisanationalsecuritythr...</td>\n",
       "      <td>king2712king jakesherman jeffsmybrother cnn do...</td>\n",
       "      <td>lindsey graham dem gop democrat fbi foe especi...</td>\n",
       "      <td>respons senat lindsey graham spi dem wongcot g...</td>\n",
       "      <td>leak work shame consid tri harm leak hide chal...</td>\n",
       "      <td>Australia?s response to Senator Lindsey Graham...</td>\n",
       "      <td>Australia?s response to Senator Lindsey Graham...</td>\n",
       "    </tr>\n",
       "  </tbody>\n",
       "</table>\n",
       "</div>"
      ],
      "text/plain": [
       "                 RecID rowid  \\\n",
       "0  1179179573541511176   529   \n",
       "1  1179699937623379969   555   \n",
       "\n",
       "                                            PubTitle  \\\n",
       "0  False ?Coup? Claims by Trump Echo as Unifying ...   \n",
       "1  Barr and a Top Prosecutor Cast a Wide Net in R...   \n",
       "\n",
       "                                              RecDoc countSupTweets  \\\n",
       "0  As I learn more and more each day, I am coming...           42.0   \n",
       "1  Australia?s response to Senator Lindsey Graham...          260.0   \n",
       "\n",
       "                                         smrHashtags  \\\n",
       "0  traitor istandwithpresidenttrump putinspuppet ...   \n",
       "1  highcrimes spygate trumpisanationalsecuritythr...   \n",
       "\n",
       "                                         smrMentions  \\\n",
       "0  t_wwg1wga patriotpure realjediman1 twitter go4...   \n",
       "1  king2712king jakesherman jeffsmybrother cnn do...   \n",
       "\n",
       "                                              smrNER  \\\n",
       "0  power second zelenski second american russian ...   \n",
       "1  lindsey graham dem gop democrat fbi foe especi...   \n",
       "\n",
       "                                            smrNouns  \\\n",
       "0  conclus place impeach coup power whistleblow a...   \n",
       "1  respons senat lindsey graham spi dem wongcot g...   \n",
       "\n",
       "                                            smrVerbs  \\\n",
       "0  learn intend grant impeach accept derang lie d...   \n",
       "1  leak work shame consid tri harm leak hide chal...   \n",
       "\n",
       "                                          smrTopText  \\\n",
       "0  As I learn more and more each day, I am coming...   \n",
       "1  Australia?s response to Senator Lindsey Graham...   \n",
       "\n",
       "                                          smrSummary  \n",
       "0  As I learn more and more each day, I am coming...  \n",
       "1  Australia?s response to Senator Lindsey Graham...  "
      ]
     },
     "execution_count": 147,
     "metadata": {},
     "output_type": "execute_result"
    }
   ],
   "source": [
    "df_jatoMaster_Pass3_HO3.head(2)"
   ]
  },
  {
   "cell_type": "code",
   "execution_count": 74,
   "id": "69fda912-05fe-4b35-9f5c-9467825c2169",
   "metadata": {},
   "outputs": [],
   "source": [
    "df_jatoMaster_Pass3_HO3.to_csv('D:/KOPro/PhD/Implementation/SourceCode/JatoPass3_HO3/data/JatoMaster.csv', index=False)"
   ]
  },
  {
   "cell_type": "markdown",
   "id": "ef4b5fd6-f7d7-465b-80dd-a3c5fb1fea35",
   "metadata": {
    "tags": []
   },
   "source": [
    "### After HO3, get the JatoClassified file, compute Krippendorff's Alpha"
   ]
  },
  {
   "cell_type": "code",
   "execution_count": 148,
   "id": "cbd69f9b-620b-4539-990b-3241893448c1",
   "metadata": {},
   "outputs": [],
   "source": [
    "df_jato_pass3_HO3 = pd.read_csv('D:/KOPro/PhD/Implementation/SourceCode/JatoPass3_HO3/data/JatoClassified_Pass3_HO3.csv', dtype='str')"
   ]
  },
  {
   "cell_type": "code",
   "execution_count": 149,
   "id": "df5fa226-0f19-4cb4-8084-e1796d58c992",
   "metadata": {},
   "outputs": [],
   "source": [
    "df_jato_pass3_HO3.drop(['rowid','SavedDataTime','JatoCat','JatoSubCat','JatoCat2','JatoSubCat2','JatoCat3','JatoSubCat3','NewRecClass','GTCodes'], axis=1, inplace=True)"
   ]
  },
  {
   "cell_type": "code",
   "execution_count": 150,
   "id": "44e6b524-97e5-4f32-a8b9-883c1022f867",
   "metadata": {},
   "outputs": [],
   "source": [
    "df_jato_pass3_HO3.rename(columns={'NewsPubCat': 'Label'}, inplace=True)"
   ]
  },
  {
   "cell_type": "code",
   "execution_count": 151,
   "id": "0bc4a2d9-8a5d-4ff2-bf45-259a30ed661a",
   "metadata": {},
   "outputs": [
    {
     "data": {
      "text/html": [
       "<div>\n",
       "<style scoped>\n",
       "    .dataframe tbody tr th:only-of-type {\n",
       "        vertical-align: middle;\n",
       "    }\n",
       "\n",
       "    .dataframe tbody tr th {\n",
       "        vertical-align: top;\n",
       "    }\n",
       "\n",
       "    .dataframe thead th {\n",
       "        text-align: right;\n",
       "    }\n",
       "</style>\n",
       "<table border=\"1\" class=\"dataframe\">\n",
       "  <thead>\n",
       "    <tr style=\"text-align: right;\">\n",
       "      <th></th>\n",
       "      <th>RecID</th>\n",
       "      <th>Label</th>\n",
       "    </tr>\n",
       "  </thead>\n",
       "  <tbody>\n",
       "    <tr>\n",
       "      <th>0</th>\n",
       "      <td>222818213392678912</td>\n",
       "      <td>Politics</td>\n",
       "    </tr>\n",
       "    <tr>\n",
       "      <th>1</th>\n",
       "      <td>826262311560216578</td>\n",
       "      <td>Politics</td>\n",
       "    </tr>\n",
       "  </tbody>\n",
       "</table>\n",
       "</div>"
      ],
      "text/plain": [
       "                RecID     Label\n",
       "0  222818213392678912  Politics\n",
       "1  826262311560216578  Politics"
      ]
     },
     "execution_count": 151,
     "metadata": {},
     "output_type": "execute_result"
    }
   ],
   "source": [
    "df_jato_pass3_HO3.head(2)"
   ]
  },
  {
   "cell_type": "code",
   "execution_count": 152,
   "id": "ca55f180-803b-427d-84b5-c796aa3ee281",
   "metadata": {},
   "outputs": [],
   "source": [
    "Labels_Targets = pd.read_csv('data/Labels_TargetsV3.csv')"
   ]
  },
  {
   "cell_type": "code",
   "execution_count": 153,
   "id": "fb0ff367-f53d-44f9-9fff-b3ceccd161ab",
   "metadata": {},
   "outputs": [
    {
     "data": {
      "text/html": [
       "<div>\n",
       "<style scoped>\n",
       "    .dataframe tbody tr th:only-of-type {\n",
       "        vertical-align: middle;\n",
       "    }\n",
       "\n",
       "    .dataframe tbody tr th {\n",
       "        vertical-align: top;\n",
       "    }\n",
       "\n",
       "    .dataframe thead th {\n",
       "        text-align: right;\n",
       "    }\n",
       "</style>\n",
       "<table border=\"1\" class=\"dataframe\">\n",
       "  <thead>\n",
       "    <tr style=\"text-align: right;\">\n",
       "      <th></th>\n",
       "      <th>Target</th>\n",
       "      <th>Label</th>\n",
       "    </tr>\n",
       "  </thead>\n",
       "  <tbody>\n",
       "    <tr>\n",
       "      <th>0</th>\n",
       "      <td>1</td>\n",
       "      <td>Business</td>\n",
       "    </tr>\n",
       "    <tr>\n",
       "      <th>1</th>\n",
       "      <td>2</td>\n",
       "      <td>Entertainment</td>\n",
       "    </tr>\n",
       "  </tbody>\n",
       "</table>\n",
       "</div>"
      ],
      "text/plain": [
       "   Target          Label\n",
       "0       1       Business\n",
       "1       2  Entertainment"
      ]
     },
     "execution_count": 153,
     "metadata": {},
     "output_type": "execute_result"
    }
   ],
   "source": [
    "Labels_Targets.head(2)"
   ]
  },
  {
   "cell_type": "code",
   "execution_count": 154,
   "id": "a3f9155e-9018-4b8f-b085-008d1a13569a",
   "metadata": {},
   "outputs": [],
   "source": [
    "df_jato_pass3_HO3_Target = pd.merge(df_jato_pass3_HO3,Labels_Targets, on='Label', how='left')"
   ]
  },
  {
   "cell_type": "code",
   "execution_count": 155,
   "id": "bf855a0c-326f-48e6-a835-2f0a7ad2a02f",
   "metadata": {},
   "outputs": [
    {
     "data": {
      "text/html": [
       "<div>\n",
       "<style scoped>\n",
       "    .dataframe tbody tr th:only-of-type {\n",
       "        vertical-align: middle;\n",
       "    }\n",
       "\n",
       "    .dataframe tbody tr th {\n",
       "        vertical-align: top;\n",
       "    }\n",
       "\n",
       "    .dataframe thead th {\n",
       "        text-align: right;\n",
       "    }\n",
       "</style>\n",
       "<table border=\"1\" class=\"dataframe\">\n",
       "  <thead>\n",
       "    <tr style=\"text-align: right;\">\n",
       "      <th></th>\n",
       "      <th>RecID</th>\n",
       "      <th>Label</th>\n",
       "      <th>Target</th>\n",
       "    </tr>\n",
       "  </thead>\n",
       "  <tbody>\n",
       "    <tr>\n",
       "      <th>0</th>\n",
       "      <td>222818213392678912</td>\n",
       "      <td>Politics</td>\n",
       "      <td>6</td>\n",
       "    </tr>\n",
       "    <tr>\n",
       "      <th>1</th>\n",
       "      <td>826262311560216578</td>\n",
       "      <td>Politics</td>\n",
       "      <td>6</td>\n",
       "    </tr>\n",
       "  </tbody>\n",
       "</table>\n",
       "</div>"
      ],
      "text/plain": [
       "                RecID     Label  Target\n",
       "0  222818213392678912  Politics       6\n",
       "1  826262311560216578  Politics       6"
      ]
     },
     "execution_count": 155,
     "metadata": {},
     "output_type": "execute_result"
    }
   ],
   "source": [
    "df_jato_pass3_HO3_Target.head(2)"
   ]
  },
  {
   "cell_type": "code",
   "execution_count": 156,
   "id": "e3fa6d89-526f-491e-a94f-51abe74761d6",
   "metadata": {},
   "outputs": [
    {
     "data": {
      "text/plain": [
       "2385"
      ]
     },
     "execution_count": 156,
     "metadata": {},
     "output_type": "execute_result"
    }
   ],
   "source": [
    "df_jato_pass3_HO3_Target.rename(columns={'Label': 'LabelHO3','Target': 'TargetHO3'}, inplace=True)\n",
    "len(df_jato_pass3_HO3_Target)"
   ]
  },
  {
   "cell_type": "code",
   "execution_count": 157,
   "id": "5a782148-0a02-4db9-aab2-3c93c2b1f206",
   "metadata": {},
   "outputs": [
    {
     "data": {
      "text/html": [
       "<div>\n",
       "<style scoped>\n",
       "    .dataframe tbody tr th:only-of-type {\n",
       "        vertical-align: middle;\n",
       "    }\n",
       "\n",
       "    .dataframe tbody tr th {\n",
       "        vertical-align: top;\n",
       "    }\n",
       "\n",
       "    .dataframe thead th {\n",
       "        text-align: right;\n",
       "    }\n",
       "</style>\n",
       "<table border=\"1\" class=\"dataframe\">\n",
       "  <thead>\n",
       "    <tr style=\"text-align: right;\">\n",
       "      <th></th>\n",
       "      <th>RecID</th>\n",
       "      <th>LabelHO1</th>\n",
       "      <th>TargetHO1</th>\n",
       "      <th>LabelHO2</th>\n",
       "      <th>TargetHO2</th>\n",
       "    </tr>\n",
       "  </thead>\n",
       "  <tbody>\n",
       "    <tr>\n",
       "      <th>5</th>\n",
       "      <td>1179179573541511176</td>\n",
       "      <td>World Politics</td>\n",
       "      <td>12</td>\n",
       "      <td>Politics</td>\n",
       "      <td>6</td>\n",
       "    </tr>\n",
       "    <tr>\n",
       "      <th>7</th>\n",
       "      <td>1179699937623379969</td>\n",
       "      <td>World Politics</td>\n",
       "      <td>12</td>\n",
       "      <td>Politics</td>\n",
       "      <td>6</td>\n",
       "    </tr>\n",
       "  </tbody>\n",
       "</table>\n",
       "</div>"
      ],
      "text/plain": [
       "                 RecID        LabelHO1  TargetHO1  LabelHO2  TargetHO2\n",
       "5  1179179573541511176  World Politics         12  Politics          6\n",
       "7  1179699937623379969  World Politics         12  Politics          6"
      ]
     },
     "execution_count": 157,
     "metadata": {},
     "output_type": "execute_result"
    }
   ],
   "source": [
    "df_jato_pass3_HO1HO2_NoAgree.head(2)"
   ]
  },
  {
   "cell_type": "code",
   "execution_count": 158,
   "id": "c12f2e7c-a297-4641-9b26-a6a75a7ee4ce",
   "metadata": {},
   "outputs": [],
   "source": [
    "df_jato_pass3_HO3HO2HO1 = pd.merge(df_jato_pass3_HO1HO2_NoAgree, df_jato_pass3_HO3_Target, on='RecID', how='inner')"
   ]
  },
  {
   "cell_type": "code",
   "execution_count": 159,
   "id": "17de0687-f614-44bc-955a-faa4531b0820",
   "metadata": {},
   "outputs": [
    {
     "data": {
      "text/plain": [
       "64"
      ]
     },
     "execution_count": 159,
     "metadata": {},
     "output_type": "execute_result"
    }
   ],
   "source": [
    "len(df_jato_pass3_HO3HO2HO1)"
   ]
  },
  {
   "cell_type": "code",
   "execution_count": 160,
   "id": "e452288f-b6ad-4b2c-bbce-5c25f0dae2e6",
   "metadata": {},
   "outputs": [
    {
     "data": {
      "text/html": [
       "<div>\n",
       "<style scoped>\n",
       "    .dataframe tbody tr th:only-of-type {\n",
       "        vertical-align: middle;\n",
       "    }\n",
       "\n",
       "    .dataframe tbody tr th {\n",
       "        vertical-align: top;\n",
       "    }\n",
       "\n",
       "    .dataframe thead th {\n",
       "        text-align: right;\n",
       "    }\n",
       "</style>\n",
       "<table border=\"1\" class=\"dataframe\">\n",
       "  <thead>\n",
       "    <tr style=\"text-align: right;\">\n",
       "      <th></th>\n",
       "      <th>RecID</th>\n",
       "      <th>LabelHO1</th>\n",
       "      <th>TargetHO1</th>\n",
       "      <th>LabelHO2</th>\n",
       "      <th>TargetHO2</th>\n",
       "      <th>LabelHO3</th>\n",
       "      <th>TargetHO3</th>\n",
       "    </tr>\n",
       "  </thead>\n",
       "  <tbody>\n",
       "    <tr>\n",
       "      <th>0</th>\n",
       "      <td>1179179573541511176</td>\n",
       "      <td>World Politics</td>\n",
       "      <td>12</td>\n",
       "      <td>Politics</td>\n",
       "      <td>6</td>\n",
       "      <td>Politics</td>\n",
       "      <td>6</td>\n",
       "    </tr>\n",
       "    <tr>\n",
       "      <th>1</th>\n",
       "      <td>1179699937623379969</td>\n",
       "      <td>World Politics</td>\n",
       "      <td>12</td>\n",
       "      <td>Politics</td>\n",
       "      <td>6</td>\n",
       "      <td>World Politics</td>\n",
       "      <td>12</td>\n",
       "    </tr>\n",
       "  </tbody>\n",
       "</table>\n",
       "</div>"
      ],
      "text/plain": [
       "                 RecID        LabelHO1  TargetHO1  LabelHO2  TargetHO2  \\\n",
       "0  1179179573541511176  World Politics         12  Politics          6   \n",
       "1  1179699937623379969  World Politics         12  Politics          6   \n",
       "\n",
       "         LabelHO3  TargetHO3  \n",
       "0        Politics          6  \n",
       "1  World Politics         12  "
      ]
     },
     "execution_count": 160,
     "metadata": {},
     "output_type": "execute_result"
    }
   ],
   "source": [
    "df_jato_pass3_HO3HO2HO1.head(2)"
   ]
  },
  {
   "cell_type": "code",
   "execution_count": 169,
   "id": "f4b1157e-71da-4996-a91e-e17e8b917646",
   "metadata": {},
   "outputs": [
    {
     "data": {
      "text/plain": [
       "LabelHO3\n",
       "Human Rights       3\n",
       "Politics          44\n",
       "World Politics    17\n",
       "dtype: int64"
      ]
     },
     "execution_count": 169,
     "metadata": {},
     "output_type": "execute_result"
    }
   ],
   "source": [
    "df_jato_pass3_HO3HO2HO1.groupby(['LabelHO3']).size()"
   ]
  },
  {
   "cell_type": "code",
   "execution_count": 161,
   "id": "41f4ac33-4d09-44eb-8392-d181d005a8a0",
   "metadata": {},
   "outputs": [],
   "source": [
    "def AgreeTargetWithA3(A1Target, A2Target, A3Target):\n",
    "    AgreedTarget = -1\n",
    "    if (A1Target == A3Target):\n",
    "        AgreedTarget = A3Target\n",
    "    if (A2Target == A3Target):\n",
    "        AgreedTarget = A3Target\n",
    "    return AgreedTarget"
   ]
  },
  {
   "cell_type": "code",
   "execution_count": 162,
   "id": "973c94ef-ff87-49a2-bb68-b8b5e51367de",
   "metadata": {},
   "outputs": [],
   "source": [
    "df_jato_pass3_HO3HO2HO1['AgreedTarget'] = df_jato_pass3_HO3HO2HO1.apply(lambda x: AgreeTargetWithA3(x['TargetHO1'], x['TargetHO2'], x['TargetHO3']), axis=1)"
   ]
  },
  {
   "cell_type": "code",
   "execution_count": 163,
   "id": "54a92b8a-1c66-4260-904b-763117419cd3",
   "metadata": {},
   "outputs": [],
   "source": [
    "# convert to horizontal array as expected by Krippendorff Alpha\n",
    "HO3Target = np.stack(df_jato_pass3_HO3HO2HO1['TargetHO3'].astype(\"string\"))\n",
    "AgreedTarget = np.stack(df_jato_pass3_HO3HO2HO1['AgreedTarget'].astype(\"string\"))"
   ]
  },
  {
   "cell_type": "code",
   "execution_count": 164,
   "id": "ec63bd20-3029-4215-a79d-8e4007b4dffe",
   "metadata": {},
   "outputs": [
    {
     "data": {
      "text/plain": [
       "0.9339058027582617"
      ]
     },
     "execution_count": 164,
     "metadata": {},
     "output_type": "execute_result"
    }
   ],
   "source": [
    "missing = '-1'\n",
    "arr = np.array((HO3Target,AgreedTarget))\n",
    "alpha2 = krippendorff_alpha(arr, nominal_metric, missing_items=missing)\n",
    "alpha2"
   ]
  },
  {
   "cell_type": "code",
   "execution_count": 165,
   "id": "120bc5d3-5163-40da-9820-4efa6838cf45",
   "metadata": {},
   "outputs": [],
   "source": [
    "df_GTD_pass3_HO3HO2HO1_Agree = df_jato_pass3_HO3HO2HO1[df_jato_pass3_HO3HO2HO1.TargetHO3 == df_jato_pass3_HO3HO2HO1.AgreedTarget]\n",
    "df_GTD_pass3_HO3HO2HO1_NoAgree = df_jato_pass3_HO3HO2HO1[df_jato_pass3_HO3HO2HO1.TargetHO3 != df_jato_pass3_HO3HO2HO1.AgreedTarget]"
   ]
  },
  {
   "cell_type": "code",
   "execution_count": 166,
   "id": "70f66949-a8aa-4523-bf88-31fa4280b27e",
   "metadata": {},
   "outputs": [
    {
     "data": {
      "text/plain": [
       "(62, 2)"
      ]
     },
     "execution_count": 166,
     "metadata": {},
     "output_type": "execute_result"
    }
   ],
   "source": [
    "len(df_GTD_pass3_HO3HO2HO1_Agree), len(df_GTD_pass3_HO3HO2HO1_NoAgree)"
   ]
  },
  {
   "cell_type": "markdown",
   "id": "f6df82a6-3cd8-4cab-91fe-c78ba1cbed4b",
   "metadata": {
    "tags": []
   },
   "source": [
    "### Generate New GTD"
   ]
  },
  {
   "cell_type": "code",
   "execution_count": 64,
   "id": "b9e6dd5a-e8e5-454e-b69d-348259236a44",
   "metadata": {},
   "outputs": [
    {
     "data": {
      "text/html": [
       "<div>\n",
       "<style scoped>\n",
       "    .dataframe tbody tr th:only-of-type {\n",
       "        vertical-align: middle;\n",
       "    }\n",
       "\n",
       "    .dataframe tbody tr th {\n",
       "        vertical-align: top;\n",
       "    }\n",
       "\n",
       "    .dataframe thead th {\n",
       "        text-align: right;\n",
       "    }\n",
       "</style>\n",
       "<table border=\"1\" class=\"dataframe\">\n",
       "  <thead>\n",
       "    <tr style=\"text-align: right;\">\n",
       "      <th></th>\n",
       "      <th>RecID</th>\n",
       "      <th>LabelHO1</th>\n",
       "      <th>TargetHO1</th>\n",
       "      <th>LabelHO2</th>\n",
       "      <th>TargetHO2</th>\n",
       "    </tr>\n",
       "  </thead>\n",
       "  <tbody>\n",
       "    <tr>\n",
       "      <th>0</th>\n",
       "      <td>826262311560216578</td>\n",
       "      <td>Politics</td>\n",
       "      <td>6</td>\n",
       "      <td>Politics</td>\n",
       "      <td>6</td>\n",
       "    </tr>\n",
       "    <tr>\n",
       "      <th>1</th>\n",
       "      <td>1122651175688515584</td>\n",
       "      <td>Politics</td>\n",
       "      <td>6</td>\n",
       "      <td>Politics</td>\n",
       "      <td>6</td>\n",
       "    </tr>\n",
       "  </tbody>\n",
       "</table>\n",
       "</div>"
      ],
      "text/plain": [
       "                 RecID  LabelHO1  TargetHO1  LabelHO2  TargetHO2\n",
       "0   826262311560216578  Politics          6  Politics          6\n",
       "1  1122651175688515584  Politics          6  Politics          6"
      ]
     },
     "execution_count": 64,
     "metadata": {},
     "output_type": "execute_result"
    }
   ],
   "source": [
    "df_jato_pass3_HO1HO2_Agreed.head(2)"
   ]
  },
  {
   "cell_type": "code",
   "execution_count": 65,
   "id": "7fa561be-d81c-488a-a264-afa909f10d40",
   "metadata": {},
   "outputs": [
    {
     "name": "stderr",
     "output_type": "stream",
     "text": [
      "C:\\Users\\kazeem\\anaconda3\\envs\\py38\\lib\\site-packages\\pandas\\core\\frame.py:4901: SettingWithCopyWarning: \n",
      "A value is trying to be set on a copy of a slice from a DataFrame\n",
      "\n",
      "See the caveats in the documentation: https://pandas.pydata.org/pandas-docs/stable/user_guide/indexing.html#returning-a-view-versus-a-copy\n",
      "  return super().drop(\n",
      "C:\\Users\\kazeem\\anaconda3\\envs\\py38\\lib\\site-packages\\pandas\\core\\frame.py:5034: SettingWithCopyWarning: \n",
      "A value is trying to be set on a copy of a slice from a DataFrame\n",
      "\n",
      "See the caveats in the documentation: https://pandas.pydata.org/pandas-docs/stable/user_guide/indexing.html#returning-a-view-versus-a-copy\n",
      "  return super().rename(\n"
     ]
    }
   ],
   "source": [
    "df_jato_pass3_HO1HO2_Agreed.drop(['LabelHO2','TargetHO2'], axis=1, inplace=True)\n",
    "df_jato_pass3_HO1HO2_Agreed.rename(columns={'LabelHO1': 'Label','TargetHO1': 'Target'}, inplace=True)"
   ]
  },
  {
   "cell_type": "code",
   "execution_count": 66,
   "id": "4f4c277f-05ce-478f-a08e-cd50da3880e6",
   "metadata": {},
   "outputs": [
    {
     "data": {
      "text/html": [
       "<div>\n",
       "<style scoped>\n",
       "    .dataframe tbody tr th:only-of-type {\n",
       "        vertical-align: middle;\n",
       "    }\n",
       "\n",
       "    .dataframe tbody tr th {\n",
       "        vertical-align: top;\n",
       "    }\n",
       "\n",
       "    .dataframe thead th {\n",
       "        text-align: right;\n",
       "    }\n",
       "</style>\n",
       "<table border=\"1\" class=\"dataframe\">\n",
       "  <thead>\n",
       "    <tr style=\"text-align: right;\">\n",
       "      <th></th>\n",
       "      <th>RecID</th>\n",
       "      <th>Label</th>\n",
       "      <th>Target</th>\n",
       "    </tr>\n",
       "  </thead>\n",
       "  <tbody>\n",
       "    <tr>\n",
       "      <th>0</th>\n",
       "      <td>826262311560216578</td>\n",
       "      <td>Politics</td>\n",
       "      <td>6</td>\n",
       "    </tr>\n",
       "    <tr>\n",
       "      <th>1</th>\n",
       "      <td>1122651175688515584</td>\n",
       "      <td>Politics</td>\n",
       "      <td>6</td>\n",
       "    </tr>\n",
       "  </tbody>\n",
       "</table>\n",
       "</div>"
      ],
      "text/plain": [
       "                 RecID     Label  Target\n",
       "0   826262311560216578  Politics       6\n",
       "1  1122651175688515584  Politics       6"
      ]
     },
     "execution_count": 66,
     "metadata": {},
     "output_type": "execute_result"
    }
   ],
   "source": [
    "df_jato_pass3_HO1HO2_Agreed.head(2)"
   ]
  },
  {
   "cell_type": "code",
   "execution_count": 67,
   "id": "2c11a8af-3966-4dad-ac07-04d2fd652007",
   "metadata": {},
   "outputs": [
    {
     "data": {
      "text/plain": [
       "475"
      ]
     },
     "execution_count": 67,
     "metadata": {},
     "output_type": "execute_result"
    }
   ],
   "source": [
    "len(df_jato_pass3_HO1HO2_Agreed)"
   ]
  },
  {
   "cell_type": "code",
   "execution_count": 68,
   "id": "b4f16666-5c9c-40bf-94d8-dcc5894c5fd3",
   "metadata": {},
   "outputs": [
    {
     "data": {
      "text/html": [
       "<div>\n",
       "<style scoped>\n",
       "    .dataframe tbody tr th:only-of-type {\n",
       "        vertical-align: middle;\n",
       "    }\n",
       "\n",
       "    .dataframe tbody tr th {\n",
       "        vertical-align: top;\n",
       "    }\n",
       "\n",
       "    .dataframe thead th {\n",
       "        text-align: right;\n",
       "    }\n",
       "</style>\n",
       "<table border=\"1\" class=\"dataframe\">\n",
       "  <thead>\n",
       "    <tr style=\"text-align: right;\">\n",
       "      <th></th>\n",
       "      <th>RecID</th>\n",
       "      <th>LabelHO1</th>\n",
       "      <th>TargetHO1</th>\n",
       "      <th>LabelHO2</th>\n",
       "      <th>TargetHO2</th>\n",
       "      <th>LabelHO3</th>\n",
       "      <th>TargetHO3</th>\n",
       "      <th>AgreedTarget</th>\n",
       "    </tr>\n",
       "  </thead>\n",
       "  <tbody>\n",
       "    <tr>\n",
       "      <th>0</th>\n",
       "      <td>1179179573541511176</td>\n",
       "      <td>World Politics</td>\n",
       "      <td>12</td>\n",
       "      <td>Politics</td>\n",
       "      <td>6</td>\n",
       "      <td>Politics</td>\n",
       "      <td>6</td>\n",
       "      <td>6</td>\n",
       "    </tr>\n",
       "    <tr>\n",
       "      <th>1</th>\n",
       "      <td>1179699937623379969</td>\n",
       "      <td>World Politics</td>\n",
       "      <td>12</td>\n",
       "      <td>Politics</td>\n",
       "      <td>6</td>\n",
       "      <td>World Politics</td>\n",
       "      <td>12</td>\n",
       "      <td>12</td>\n",
       "    </tr>\n",
       "  </tbody>\n",
       "</table>\n",
       "</div>"
      ],
      "text/plain": [
       "                 RecID        LabelHO1  TargetHO1  LabelHO2  TargetHO2  \\\n",
       "0  1179179573541511176  World Politics         12  Politics          6   \n",
       "1  1179699937623379969  World Politics         12  Politics          6   \n",
       "\n",
       "         LabelHO3  TargetHO3  AgreedTarget  \n",
       "0        Politics          6             6  \n",
       "1  World Politics         12            12  "
      ]
     },
     "execution_count": 68,
     "metadata": {},
     "output_type": "execute_result"
    }
   ],
   "source": [
    "df_GTD_pass3_HO3HO2HO1_Agree.head(2)"
   ]
  },
  {
   "cell_type": "code",
   "execution_count": 69,
   "id": "48cf8db7-67cf-4855-b149-c27e15ebf0af",
   "metadata": {},
   "outputs": [
    {
     "data": {
      "text/plain": [
       "62"
      ]
     },
     "execution_count": 69,
     "metadata": {},
     "output_type": "execute_result"
    }
   ],
   "source": [
    "len(df_GTD_pass3_HO3HO2HO1_Agree)"
   ]
  },
  {
   "cell_type": "code",
   "execution_count": 170,
   "id": "57186246-a247-41c9-b115-13714242a158",
   "metadata": {},
   "outputs": [
    {
     "data": {
      "text/plain": [
       "LabelHO3\n",
       "Human Rights       3\n",
       "Politics          43\n",
       "World Politics    16\n",
       "dtype: int64"
      ]
     },
     "execution_count": 170,
     "metadata": {},
     "output_type": "execute_result"
    }
   ],
   "source": [
    "df_GTD_pass3_HO3HO2HO1_Agree.groupby(['LabelHO3']).size()"
   ]
  },
  {
   "cell_type": "code",
   "execution_count": 70,
   "id": "7b09f238-8cf9-4c8f-980c-ed993b30fe46",
   "metadata": {},
   "outputs": [
    {
     "name": "stderr",
     "output_type": "stream",
     "text": [
      "C:\\Users\\kazeem\\anaconda3\\envs\\py38\\lib\\site-packages\\pandas\\core\\frame.py:4901: SettingWithCopyWarning: \n",
      "A value is trying to be set on a copy of a slice from a DataFrame\n",
      "\n",
      "See the caveats in the documentation: https://pandas.pydata.org/pandas-docs/stable/user_guide/indexing.html#returning-a-view-versus-a-copy\n",
      "  return super().drop(\n",
      "C:\\Users\\kazeem\\anaconda3\\envs\\py38\\lib\\site-packages\\pandas\\core\\frame.py:5034: SettingWithCopyWarning: \n",
      "A value is trying to be set on a copy of a slice from a DataFrame\n",
      "\n",
      "See the caveats in the documentation: https://pandas.pydata.org/pandas-docs/stable/user_guide/indexing.html#returning-a-view-versus-a-copy\n",
      "  return super().rename(\n"
     ]
    }
   ],
   "source": [
    "df_GTD_pass3_HO3HO2HO1_Agree.drop(['LabelHO1','TargetHO1','LabelHO2','TargetHO2','AgreedTarget'], axis=1, inplace=True)\n",
    "df_GTD_pass3_HO3HO2HO1_Agree.rename(columns={'LabelHO3': 'Label','TargetHO3': 'Target'}, inplace=True)"
   ]
  },
  {
   "cell_type": "code",
   "execution_count": 71,
   "id": "d9aeb69c-f34b-4e78-a8d4-593277cd68cf",
   "metadata": {},
   "outputs": [
    {
     "data": {
      "text/html": [
       "<div>\n",
       "<style scoped>\n",
       "    .dataframe tbody tr th:only-of-type {\n",
       "        vertical-align: middle;\n",
       "    }\n",
       "\n",
       "    .dataframe tbody tr th {\n",
       "        vertical-align: top;\n",
       "    }\n",
       "\n",
       "    .dataframe thead th {\n",
       "        text-align: right;\n",
       "    }\n",
       "</style>\n",
       "<table border=\"1\" class=\"dataframe\">\n",
       "  <thead>\n",
       "    <tr style=\"text-align: right;\">\n",
       "      <th></th>\n",
       "      <th>RecID</th>\n",
       "      <th>Label</th>\n",
       "      <th>Target</th>\n",
       "    </tr>\n",
       "  </thead>\n",
       "  <tbody>\n",
       "    <tr>\n",
       "      <th>0</th>\n",
       "      <td>1179179573541511176</td>\n",
       "      <td>Politics</td>\n",
       "      <td>6</td>\n",
       "    </tr>\n",
       "    <tr>\n",
       "      <th>1</th>\n",
       "      <td>1179699937623379969</td>\n",
       "      <td>World Politics</td>\n",
       "      <td>12</td>\n",
       "    </tr>\n",
       "  </tbody>\n",
       "</table>\n",
       "</div>"
      ],
      "text/plain": [
       "                 RecID           Label  Target\n",
       "0  1179179573541511176        Politics       6\n",
       "1  1179699937623379969  World Politics      12"
      ]
     },
     "execution_count": 71,
     "metadata": {},
     "output_type": "execute_result"
    }
   ],
   "source": [
    "df_GTD_pass3_HO3HO2HO1_Agree.head(2)"
   ]
  },
  {
   "cell_type": "code",
   "execution_count": 72,
   "id": "1610b854-1742-4895-a9b3-4d37d10972d8",
   "metadata": {},
   "outputs": [],
   "source": [
    "df_GTD_pass3_Agree = pd.concat([df_jato_pass3_HO1HO2_Agreed, df_GTD_pass3_HO3HO2HO1_Agree], axis=0)"
   ]
  },
  {
   "cell_type": "code",
   "execution_count": 73,
   "id": "e2a0c55f-19ec-4fdf-b3f7-d76090a0c90c",
   "metadata": {},
   "outputs": [
    {
     "data": {
      "text/plain": [
       "537"
      ]
     },
     "execution_count": 73,
     "metadata": {},
     "output_type": "execute_result"
    }
   ],
   "source": [
    "len(df_GTD_pass3_Agree)"
   ]
  },
  {
   "cell_type": "code",
   "execution_count": 74,
   "id": "e4459f89-8825-4f21-9883-aa9c2509d0aa",
   "metadata": {},
   "outputs": [],
   "source": [
    "df_GTD_pass3_NoWorldPolitics = df_GTD_pass3_Agree[df_GTD_pass3_Agree.Label != 'World Politics']"
   ]
  },
  {
   "cell_type": "code",
   "execution_count": 75,
   "id": "e74d1422-5e2d-4d33-9895-4cd368873452",
   "metadata": {},
   "outputs": [
    {
     "data": {
      "text/plain": [
       "459"
      ]
     },
     "execution_count": 75,
     "metadata": {},
     "output_type": "execute_result"
    }
   ],
   "source": [
    "len(df_GTD_pass3_NoWorldPolitics)"
   ]
  },
  {
   "cell_type": "code",
   "execution_count": 76,
   "id": "5d2d20ee-8f07-4e56-9fee-f0d47d915924",
   "metadata": {},
   "outputs": [
    {
     "data": {
      "text/plain": [
       "78"
      ]
     },
     "execution_count": 76,
     "metadata": {},
     "output_type": "execute_result"
    }
   ],
   "source": [
    "df_GTD_pass3_WorldPolitics = df_GTD_pass3_Agree[df_GTD_pass3_Agree.Label == 'World Politics']\n",
    "len(df_GTD_pass3_WorldPolitics)"
   ]
  },
  {
   "cell_type": "code",
   "execution_count": 77,
   "id": "13e900dd-fa67-4d17-99d5-1dc49d1fdd5a",
   "metadata": {},
   "outputs": [],
   "source": [
    "# New GTD = Original GTD - Politics + df_GTD_pass3_NoWorldPolitics\n",
    "df_gtd_tokens_NoPolitics = df_gtd_tokens[df_gtd_tokens.Label!='Politics']\n",
    "df_gtd_tokens_NoPolitics = df_gtd_tokens_NoPolitics[['RecID','Label','Target']]"
   ]
  },
  {
   "cell_type": "code",
   "execution_count": 78,
   "id": "09b6d7fe-e467-4109-9b37-a623c3609f47",
   "metadata": {},
   "outputs": [
    {
     "data": {
      "text/plain": [
       "598"
      ]
     },
     "execution_count": 78,
     "metadata": {},
     "output_type": "execute_result"
    }
   ],
   "source": [
    "len(df_gtd_tokens_NoPolitics)"
   ]
  },
  {
   "cell_type": "code",
   "execution_count": 79,
   "id": "ecf77b58-4807-46ca-baa1-27ffc13895e0",
   "metadata": {},
   "outputs": [
    {
     "data": {
      "text/html": [
       "<div>\n",
       "<style scoped>\n",
       "    .dataframe tbody tr th:only-of-type {\n",
       "        vertical-align: middle;\n",
       "    }\n",
       "\n",
       "    .dataframe tbody tr th {\n",
       "        vertical-align: top;\n",
       "    }\n",
       "\n",
       "    .dataframe thead th {\n",
       "        text-align: right;\n",
       "    }\n",
       "</style>\n",
       "<table border=\"1\" class=\"dataframe\">\n",
       "  <thead>\n",
       "    <tr style=\"text-align: right;\">\n",
       "      <th></th>\n",
       "      <th>RecID</th>\n",
       "      <th>Label</th>\n",
       "      <th>Target</th>\n",
       "    </tr>\n",
       "  </thead>\n",
       "  <tbody>\n",
       "    <tr>\n",
       "      <th>0</th>\n",
       "      <td>1089699762331217920</td>\n",
       "      <td>Business</td>\n",
       "      <td>1</td>\n",
       "    </tr>\n",
       "    <tr>\n",
       "      <th>2</th>\n",
       "      <td>1159148971106942981</td>\n",
       "      <td>Sports</td>\n",
       "      <td>11</td>\n",
       "    </tr>\n",
       "  </tbody>\n",
       "</table>\n",
       "</div>"
      ],
      "text/plain": [
       "                 RecID     Label Target\n",
       "0  1089699762331217920  Business      1\n",
       "2  1159148971106942981    Sports     11"
      ]
     },
     "execution_count": 79,
     "metadata": {},
     "output_type": "execute_result"
    }
   ],
   "source": [
    "df_gtd_tokens_NoPolitics.head(2)"
   ]
  },
  {
   "cell_type": "code",
   "execution_count": 80,
   "id": "97eb9c4f-aa4f-4e58-b536-fcba85243aad",
   "metadata": {},
   "outputs": [
    {
     "data": {
      "text/plain": [
       "1057"
      ]
     },
     "execution_count": 80,
     "metadata": {},
     "output_type": "execute_result"
    }
   ],
   "source": [
    "df_Pass3_GTD = pd.concat([df_gtd_tokens_NoPolitics,df_GTD_pass3_NoWorldPolitics], axis=0)\n",
    "len(df_Pass3_GTD)"
   ]
  },
  {
   "cell_type": "code",
   "execution_count": 81,
   "id": "8d5ccf99-90fc-454c-a313-fead2f0a7318",
   "metadata": {},
   "outputs": [],
   "source": [
    "# randomize the dataset to prevent all Politics placed at the end\n",
    "df_Pass3_GTD = df_Pass3_GTD.sample(frac=1).reset_index(drop=True)"
   ]
  },
  {
   "cell_type": "code",
   "execution_count": 82,
   "id": "055acfaa-fc1f-4445-b33e-feeeb1da8325",
   "metadata": {},
   "outputs": [],
   "source": [
    "df_Pass3_GTD.to_csv('data/GTxM_Pass3/GTxM_Pass3_GTD_UpTodate.csv', index=False)"
   ]
  },
  {
   "cell_type": "markdown",
   "id": "612a26d2-f290-43ab-b178-fc64e56d9d64",
   "metadata": {
    "tags": []
   },
   "source": [
    "### Generate New Rejected list = Existing + WorldPolitics + HO3HO2HO1_NoAgree"
   ]
  },
  {
   "cell_type": "code",
   "execution_count": 91,
   "id": "4418b6e4-680b-4190-bd63-93ea15c9e4b7",
   "metadata": {},
   "outputs": [
    {
     "data": {
      "text/plain": [
       "80"
      ]
     },
     "execution_count": 91,
     "metadata": {},
     "output_type": "execute_result"
    }
   ],
   "source": [
    "df_Pass3_Rejected = pd.DataFrame(pd.concat([df_GTD_pass3_WorldPolitics['RecID'], df_GTD_pass3_HO3HO2HO1_NoAgree['RecID']], axis=0))\n",
    "len(df_Pass3_Rejected)"
   ]
  },
  {
   "cell_type": "code",
   "execution_count": 92,
   "id": "2ad41fd9-3033-468b-9644-72cd6dd7ea07",
   "metadata": {},
   "outputs": [
    {
     "data": {
      "text/html": [
       "<div>\n",
       "<style scoped>\n",
       "    .dataframe tbody tr th:only-of-type {\n",
       "        vertical-align: middle;\n",
       "    }\n",
       "\n",
       "    .dataframe tbody tr th {\n",
       "        vertical-align: top;\n",
       "    }\n",
       "\n",
       "    .dataframe thead th {\n",
       "        text-align: right;\n",
       "    }\n",
       "</style>\n",
       "<table border=\"1\" class=\"dataframe\">\n",
       "  <thead>\n",
       "    <tr style=\"text-align: right;\">\n",
       "      <th></th>\n",
       "      <th>RecID</th>\n",
       "    </tr>\n",
       "  </thead>\n",
       "  <tbody>\n",
       "    <tr>\n",
       "      <th>25</th>\n",
       "      <td>1181085835942232064</td>\n",
       "    </tr>\n",
       "    <tr>\n",
       "      <th>26</th>\n",
       "      <td>1181181496784228352</td>\n",
       "    </tr>\n",
       "  </tbody>\n",
       "</table>\n",
       "</div>"
      ],
      "text/plain": [
       "                  RecID\n",
       "25  1181085835942232064\n",
       "26  1181181496784228352"
      ]
     },
     "execution_count": 92,
     "metadata": {},
     "output_type": "execute_result"
    }
   ],
   "source": [
    "df_Pass3_Rejected.head(2)"
   ]
  },
  {
   "cell_type": "code",
   "execution_count": 85,
   "id": "879ca2ec-5184-49e2-b8e1-de820e62762d",
   "metadata": {},
   "outputs": [],
   "source": [
    "df_Pass3_Rejected.to_csv('data/GTxM_Pass3/GTxM_Pass3_Reject.csv', index=False)"
   ]
  },
  {
   "cell_type": "code",
   "execution_count": 98,
   "id": "3326e716-fbe5-43de-8776-39b6675ea724",
   "metadata": {},
   "outputs": [
    {
     "data": {
      "text/plain": [
       "19"
      ]
     },
     "execution_count": 98,
     "metadata": {},
     "output_type": "execute_result"
    }
   ],
   "source": [
    "# Pass 1 Rejected\n",
    "df_pass1_rejected = pd.read_csv('data/GTxM_Pass1/reGTr_Tokens_NoAgree.csv')\n",
    "df_pass1_rejected = pd.DataFrame(df_pass1_rejected['RecID'])\n",
    "len(df_pass1_rejected)"
   ]
  },
  {
   "cell_type": "code",
   "execution_count": 99,
   "id": "6e64100e-9e9e-40da-9edb-3f89ac7948f9",
   "metadata": {},
   "outputs": [
    {
     "data": {
      "text/html": [
       "<div>\n",
       "<style scoped>\n",
       "    .dataframe tbody tr th:only-of-type {\n",
       "        vertical-align: middle;\n",
       "    }\n",
       "\n",
       "    .dataframe tbody tr th {\n",
       "        vertical-align: top;\n",
       "    }\n",
       "\n",
       "    .dataframe thead th {\n",
       "        text-align: right;\n",
       "    }\n",
       "</style>\n",
       "<table border=\"1\" class=\"dataframe\">\n",
       "  <thead>\n",
       "    <tr style=\"text-align: right;\">\n",
       "      <th></th>\n",
       "      <th>RecID</th>\n",
       "    </tr>\n",
       "  </thead>\n",
       "  <tbody>\n",
       "    <tr>\n",
       "      <th>0</th>\n",
       "      <td>1180954142396710912</td>\n",
       "    </tr>\n",
       "    <tr>\n",
       "      <th>1</th>\n",
       "      <td>1181212982128328705</td>\n",
       "    </tr>\n",
       "  </tbody>\n",
       "</table>\n",
       "</div>"
      ],
      "text/plain": [
       "                 RecID\n",
       "0  1180954142396710912\n",
       "1  1181212982128328705"
      ]
     },
     "execution_count": 99,
     "metadata": {},
     "output_type": "execute_result"
    }
   ],
   "source": [
    "df_pass1_rejected.head(2)"
   ]
  },
  {
   "cell_type": "code",
   "execution_count": 100,
   "id": "93b9c23a-2565-4ed8-a306-8309b4150008",
   "metadata": {},
   "outputs": [
    {
     "data": {
      "text/plain": [
       "124"
      ]
     },
     "execution_count": 100,
     "metadata": {},
     "output_type": "execute_result"
    }
   ],
   "source": [
    "# Pass 2 Rejected\n",
    "df_pass2_rejected = pd.read_csv('data/GTxM_Pass2/GTxM_Pass2_Reject.csv')\n",
    "len(df_pass2_rejected)"
   ]
  },
  {
   "cell_type": "code",
   "execution_count": 101,
   "id": "c330da0a-79e6-4b2d-933b-11688f4e221e",
   "metadata": {},
   "outputs": [
    {
     "data": {
      "text/html": [
       "<div>\n",
       "<style scoped>\n",
       "    .dataframe tbody tr th:only-of-type {\n",
       "        vertical-align: middle;\n",
       "    }\n",
       "\n",
       "    .dataframe tbody tr th {\n",
       "        vertical-align: top;\n",
       "    }\n",
       "\n",
       "    .dataframe thead th {\n",
       "        text-align: right;\n",
       "    }\n",
       "</style>\n",
       "<table border=\"1\" class=\"dataframe\">\n",
       "  <thead>\n",
       "    <tr style=\"text-align: right;\">\n",
       "      <th></th>\n",
       "      <th>RecID</th>\n",
       "    </tr>\n",
       "  </thead>\n",
       "  <tbody>\n",
       "    <tr>\n",
       "      <th>0</th>\n",
       "      <td>1222242112307187712</td>\n",
       "    </tr>\n",
       "    <tr>\n",
       "      <th>1</th>\n",
       "      <td>1222223980909813761</td>\n",
       "    </tr>\n",
       "  </tbody>\n",
       "</table>\n",
       "</div>"
      ],
      "text/plain": [
       "                 RecID\n",
       "0  1222242112307187712\n",
       "1  1222223980909813761"
      ]
     },
     "execution_count": 101,
     "metadata": {},
     "output_type": "execute_result"
    }
   ],
   "source": [
    "df_pass2_rejected.head(2)"
   ]
  },
  {
   "cell_type": "code",
   "execution_count": 102,
   "id": "def9d4a4-9491-4314-b52a-26c791be6077",
   "metadata": {},
   "outputs": [
    {
     "data": {
      "text/plain": [
       "223"
      ]
     },
     "execution_count": 102,
     "metadata": {},
     "output_type": "execute_result"
    }
   ],
   "source": [
    "# consolidate all rejected\n",
    "df_pass3_rejected_all = pd.concat([df_Pass3_Rejected['RecID'],df_pass2_rejected['RecID'],df_pass1_rejected['RecID']], axis=0)\n",
    "len(df_pass3_rejected_all)"
   ]
  },
  {
   "cell_type": "code",
   "execution_count": 103,
   "id": "202a9938-79b9-4347-8a76-44e1611feccd",
   "metadata": {},
   "outputs": [
    {
     "data": {
      "text/plain": [
       "25    1181085835942232064\n",
       "26    1181181496784228352\n",
       "Name: RecID, dtype: object"
      ]
     },
     "execution_count": 103,
     "metadata": {},
     "output_type": "execute_result"
    }
   ],
   "source": [
    "df_pass3_rejected_all.head(2)"
   ]
  },
  {
   "cell_type": "code",
   "execution_count": 104,
   "id": "eaba878d-dfd8-4a48-86cf-80b00ed01286",
   "metadata": {},
   "outputs": [],
   "source": [
    "df_pass3_rejected_all.to_csv('data/GTxM_Pass3/GTxM_Pass3_Reject_UpTodate.csv', index=False)"
   ]
  },
  {
   "cell_type": "markdown",
   "id": "9a0e9ca5-e2bf-493c-8ee5-6d55739c6770",
   "metadata": {
    "jp-MarkdownHeadingCollapsed": true,
    "tags": []
   },
   "source": [
    "### Prepare the dataframe statements for GTxM Classifiers"
   ]
  },
  {
   "cell_type": "code",
   "execution_count": 3,
   "id": "715470ea-d07e-41e8-9075-6a2c039f739b",
   "metadata": {},
   "outputs": [],
   "source": [
    "data = pd.read_csv('data/MasterTokens.csv', encoding='ISO-8859-1')"
   ]
  },
  {
   "cell_type": "code",
   "execution_count": 4,
   "id": "4b96eadf-ac76-4a92-8552-26c1233a369a",
   "metadata": {},
   "outputs": [],
   "source": [
    "df_GTD_Rec = pd.read_csv('data/GTxM_Pass3/GTxM_Pass3_GTD_UpTodate.csv')"
   ]
  },
  {
   "cell_type": "code",
   "execution_count": 5,
   "id": "1ee92225-70d2-4bb7-ba64-377b92f24f57",
   "metadata": {},
   "outputs": [],
   "source": [
    "data = pd.merge(data, df_GTD_Rec, on='RecID')"
   ]
  },
  {
   "cell_type": "code",
   "execution_count": 6,
   "id": "3c1f2e1e-e856-4f6f-876e-a1f53e970fbe",
   "metadata": {},
   "outputs": [
    {
     "data": {
      "text/plain": [
       "1057"
      ]
     },
     "execution_count": 6,
     "metadata": {},
     "output_type": "execute_result"
    }
   ],
   "source": [
    "len(data)"
   ]
  },
  {
   "cell_type": "code",
   "execution_count": 7,
   "id": "fb0d3c38-3121-4573-b9e5-e2315cf0a478",
   "metadata": {},
   "outputs": [
    {
     "data": {
      "text/html": [
       "<div>\n",
       "<style scoped>\n",
       "    .dataframe tbody tr th:only-of-type {\n",
       "        vertical-align: middle;\n",
       "    }\n",
       "\n",
       "    .dataframe tbody tr th {\n",
       "        vertical-align: top;\n",
       "    }\n",
       "\n",
       "    .dataframe thead th {\n",
       "        text-align: right;\n",
       "    }\n",
       "</style>\n",
       "<table border=\"1\" class=\"dataframe\">\n",
       "  <thead>\n",
       "    <tr style=\"text-align: right;\">\n",
       "      <th></th>\n",
       "      <th>rowid</th>\n",
       "      <th>RecID</th>\n",
       "      <th>PubTitle</th>\n",
       "      <th>RecDoc</th>\n",
       "      <th>countSupTweets</th>\n",
       "      <th>smrHashtags</th>\n",
       "      <th>smrMentions</th>\n",
       "      <th>smrNER</th>\n",
       "      <th>smrNouns</th>\n",
       "      <th>smrVerbs</th>\n",
       "      <th>smrAdverbs</th>\n",
       "      <th>smrAdjectives</th>\n",
       "      <th>smrTopText</th>\n",
       "      <th>smrSummary</th>\n",
       "      <th>Label</th>\n",
       "      <th>Target</th>\n",
       "    </tr>\n",
       "  </thead>\n",
       "  <tbody>\n",
       "    <tr>\n",
       "      <th>0</th>\n",
       "      <td>60</td>\n",
       "      <td>826262311560216578</td>\n",
       "      <td>Assessing the Impeachment Defenses Offered by ...</td>\n",
       "      <td>#coup has started. First of many steps. #rebel...</td>\n",
       "      <td>76.0</td>\n",
       "      <td>rebellion pervertprotector crossfirehurricaneb...</td>\n",
       "      <td>markszaidesq object__observe realdonaldtrumps ...</td>\n",
       "      <td>wtelf constitut senat host biden ukrain burism...</td>\n",
       "      <td>step peopl countri problem busi oil weapon wte...</td>\n",
       "      <td>start follow discrimin sell step suppos hand p...</td>\n",
       "      <td>ultim forth serious mostli btw certainli rabid...</td>\n",
       "      <td>funni multipl sad human hoax constitut pro quo...</td>\n",
       "      <td>#coup has started. First of many steps. #rebel...</td>\n",
       "      <td>has started.\\nFunny you want to discriminate a...</td>\n",
       "      <td>Politics</td>\n",
       "      <td>6</td>\n",
       "    </tr>\n",
       "    <tr>\n",
       "      <th>1</th>\n",
       "      <td>63</td>\n",
       "      <td>833502973204459520</td>\n",
       "      <td>Ringo Starr: Abbey Road wasn't meant to be The...</td>\n",
       "      <td>Thanks for coming over man and playing  Great ...</td>\n",
       "      <td>13.0</td>\n",
       "      <td></td>\n",
       "      <td>ringostarrmusic</td>\n",
       "      <td>ringo paul fn fn fn fn fn fn fyifyifyifyifyify...</td>\n",
       "      <td>man bass peac love photo memori band music guy...</td>\n",
       "      <td>play love man love order live play love beat f...</td>\n",
       "      <td>togeth forev especi nearli</td>\n",
       "      <td>great great greatest happi love ador beauti wo...</td>\n",
       "      <td>Thanks for coming over man and playing  Great ...</td>\n",
       "      <td>Summarization skipped (text is 1000 characters...</td>\n",
       "      <td>Entertainment</td>\n",
       "      <td>2</td>\n",
       "    </tr>\n",
       "  </tbody>\n",
       "</table>\n",
       "</div>"
      ],
      "text/plain": [
       "   rowid               RecID  \\\n",
       "0     60  826262311560216578   \n",
       "1     63  833502973204459520   \n",
       "\n",
       "                                            PubTitle  \\\n",
       "0  Assessing the Impeachment Defenses Offered by ...   \n",
       "1  Ringo Starr: Abbey Road wasn't meant to be The...   \n",
       "\n",
       "                                              RecDoc  countSupTweets  \\\n",
       "0  #coup has started. First of many steps. #rebel...            76.0   \n",
       "1  Thanks for coming over man and playing  Great ...            13.0   \n",
       "\n",
       "                                         smrHashtags  \\\n",
       "0  rebellion pervertprotector crossfirehurricaneb...   \n",
       "1                                                      \n",
       "\n",
       "                                         smrMentions  \\\n",
       "0  markszaidesq object__observe realdonaldtrumps ...   \n",
       "1                                    ringostarrmusic   \n",
       "\n",
       "                                              smrNER  \\\n",
       "0  wtelf constitut senat host biden ukrain burism...   \n",
       "1  ringo paul fn fn fn fn fn fn fyifyifyifyifyify...   \n",
       "\n",
       "                                            smrNouns  \\\n",
       "0  step peopl countri problem busi oil weapon wte...   \n",
       "1  man bass peac love photo memori band music guy...   \n",
       "\n",
       "                                            smrVerbs  \\\n",
       "0  start follow discrimin sell step suppos hand p...   \n",
       "1  play love man love order live play love beat f...   \n",
       "\n",
       "                                          smrAdverbs  \\\n",
       "0  ultim forth serious mostli btw certainli rabid...   \n",
       "1                         togeth forev especi nearli   \n",
       "\n",
       "                                       smrAdjectives  \\\n",
       "0  funni multipl sad human hoax constitut pro quo...   \n",
       "1  great great greatest happi love ador beauti wo...   \n",
       "\n",
       "                                          smrTopText  \\\n",
       "0  #coup has started. First of many steps. #rebel...   \n",
       "1  Thanks for coming over man and playing  Great ...   \n",
       "\n",
       "                                          smrSummary          Label  Target  \n",
       "0  has started.\\nFunny you want to discriminate a...       Politics       6  \n",
       "1  Summarization skipped (text is 1000 characters...  Entertainment       2  "
      ]
     },
     "execution_count": 7,
     "metadata": {},
     "output_type": "execute_result"
    }
   ],
   "source": [
    "data.head(2)"
   ]
  },
  {
   "cell_type": "code",
   "execution_count": 28,
   "id": "ddabac6a-0938-4dee-876c-907ac8ff9ef0",
   "metadata": {},
   "outputs": [
    {
     "data": {
      "text/plain": [
       "Label           Target\n",
       "Business        1          75\n",
       "Entertainment   2         153\n",
       "Environmental   3          17\n",
       "Health          4           4\n",
       "Human Rights    5          86\n",
       "Law and Order   7          12\n",
       "Obituary        9         147\n",
       "Politics        6         456\n",
       "Social Stories  10         32\n",
       "Sports          11         75\n",
       "dtype: int64"
      ]
     },
     "execution_count": 28,
     "metadata": {},
     "output_type": "execute_result"
    }
   ],
   "source": [
    "data.groupby(['Label','Target']).size()"
   ]
  },
  {
   "cell_type": "markdown",
   "id": "2b83f201-92b3-43f0-8d11-d32b94e28334",
   "metadata": {},
   "source": [
    "#### prep for BERT/XLNet"
   ]
  },
  {
   "cell_type": "code",
   "execution_count": 2,
   "id": "cf8ba231-6d38-4c8a-8494-472b38623a20",
   "metadata": {},
   "outputs": [
    {
     "data": {
      "text/html": [
       "<div>\n",
       "<style scoped>\n",
       "    .dataframe tbody tr th:only-of-type {\n",
       "        vertical-align: middle;\n",
       "    }\n",
       "\n",
       "    .dataframe tbody tr th {\n",
       "        vertical-align: top;\n",
       "    }\n",
       "\n",
       "    .dataframe thead th {\n",
       "        text-align: right;\n",
       "    }\n",
       "</style>\n",
       "<table border=\"1\" class=\"dataframe\">\n",
       "  <thead>\n",
       "    <tr style=\"text-align: right;\">\n",
       "      <th></th>\n",
       "      <th>TID</th>\n",
       "      <th>OrigTweet</th>\n",
       "      <th>InReplyTo</th>\n",
       "    </tr>\n",
       "  </thead>\n",
       "  <tbody>\n",
       "    <tr>\n",
       "      <th>0</th>\n",
       "      <td>222818213392678912</td>\n",
       "      <td>Seedy lists of party apparatchiks appointed by...</td>\n",
       "      <td>NaN</td>\n",
       "    </tr>\n",
       "    <tr>\n",
       "      <th>1</th>\n",
       "      <td>1207942378688040961</td>\n",
       "      <td>@ZacGoldsmith @mrjamesob Do you think losing y...</td>\n",
       "      <td>222818213392678912</td>\n",
       "    </tr>\n",
       "  </tbody>\n",
       "</table>\n",
       "</div>"
      ],
      "text/plain": [
       "                   TID                                          OrigTweet  \\\n",
       "0   222818213392678912  Seedy lists of party apparatchiks appointed by...   \n",
       "1  1207942378688040961  @ZacGoldsmith @mrjamesob Do you think losing y...   \n",
       "\n",
       "            InReplyTo  \n",
       "0                 NaN  \n",
       "1  222818213392678912  "
      ]
     },
     "execution_count": 2,
     "metadata": {},
     "output_type": "execute_result"
    }
   ],
   "source": [
    "df_CoreCGT = pd.read_csv('data/CGTexpandedSMR_Data.csv', dtype='str', usecols=['TID', 'OrigTweet', 'InReplyTo'])\n",
    "df_CoreCGT.head(2)"
   ]
  },
  {
   "cell_type": "code",
   "execution_count": 3,
   "id": "b1ba8de1-63c2-4714-b8ad-d59b692dea64",
   "metadata": {},
   "outputs": [
    {
     "data": {
      "text/html": [
       "<div>\n",
       "<style scoped>\n",
       "    .dataframe tbody tr th:only-of-type {\n",
       "        vertical-align: middle;\n",
       "    }\n",
       "\n",
       "    .dataframe tbody tr th {\n",
       "        vertical-align: top;\n",
       "    }\n",
       "\n",
       "    .dataframe thead th {\n",
       "        text-align: right;\n",
       "    }\n",
       "</style>\n",
       "<table border=\"1\" class=\"dataframe\">\n",
       "  <thead>\n",
       "    <tr style=\"text-align: right;\">\n",
       "      <th></th>\n",
       "      <th>TID</th>\n",
       "      <th>OrigTweet</th>\n",
       "      <th>InReplyTo</th>\n",
       "    </tr>\n",
       "  </thead>\n",
       "  <tbody>\n",
       "    <tr>\n",
       "      <th>0</th>\n",
       "      <td>826262311560216578</td>\n",
       "      <td>#coup has started. First of many steps. #rebel...</td>\n",
       "      <td>NaN</td>\n",
       "    </tr>\n",
       "    <tr>\n",
       "      <th>1</th>\n",
       "      <td>1193437298303438858</td>\n",
       "      <td>@MarkSZaidEsq @jody_prichard Funny you want to...</td>\n",
       "      <td>826262311560216578</td>\n",
       "    </tr>\n",
       "  </tbody>\n",
       "</table>\n",
       "</div>"
      ],
      "text/plain": [
       "                   TID                                          OrigTweet  \\\n",
       "0   826262311560216578  #coup has started. First of many steps. #rebel...   \n",
       "1  1193437298303438858  @MarkSZaidEsq @jody_prichard Funny you want to...   \n",
       "\n",
       "            InReplyTo  \n",
       "0                 NaN  \n",
       "1  826262311560216578  "
      ]
     },
     "execution_count": 3,
     "metadata": {},
     "output_type": "execute_result"
    }
   ],
   "source": [
    "df_CoreGTr = pd.read_csv('data/GroundTruthBERT.csv', dtype='str', usecols=['TID', 'OrigTweet', 'InReplyTo'])\n",
    "df_CoreGTr.head(2)"
   ]
  },
  {
   "cell_type": "code",
   "execution_count": 4,
   "id": "de7ed49e-d17e-462f-bb2f-c99f9820798c",
   "metadata": {},
   "outputs": [],
   "source": [
    "df_Core = pd.concat([df_CoreGTr, df_CoreCGT], axis=0)"
   ]
  },
  {
   "cell_type": "code",
   "execution_count": 5,
   "id": "593f025e-fe50-489e-8feb-a14067c83f2a",
   "metadata": {},
   "outputs": [
    {
     "data": {
      "text/plain": [
       "322199"
      ]
     },
     "execution_count": 5,
     "metadata": {},
     "output_type": "execute_result"
    }
   ],
   "source": [
    "len(df_Core)"
   ]
  },
  {
   "cell_type": "code",
   "execution_count": 6,
   "id": "70e396eb-d53a-4be3-abf7-d7a7a95a4c38",
   "metadata": {},
   "outputs": [
    {
     "data": {
      "text/plain": [
       "2385"
      ]
     },
     "execution_count": 6,
     "metadata": {},
     "output_type": "execute_result"
    }
   ],
   "source": [
    "df_Core_Rec = df_Core[df_Core.InReplyTo.isna()]\n",
    "len(df_Core_Rec)"
   ]
  },
  {
   "cell_type": "code",
   "execution_count": 7,
   "id": "bc71a2c1-785d-4f92-846c-ff5ba4dcf793",
   "metadata": {},
   "outputs": [
    {
     "data": {
      "text/plain": [
       "319814"
      ]
     },
     "execution_count": 7,
     "metadata": {},
     "output_type": "execute_result"
    }
   ],
   "source": [
    "df_Core_Sup = df_Core[df_Core.InReplyTo.notna()]\n",
    "len(df_Core_Sup)"
   ]
  },
  {
   "cell_type": "code",
   "execution_count": 8,
   "id": "7020d159-7644-4787-8af7-dccae24d1c48",
   "metadata": {},
   "outputs": [
    {
     "data": {
      "text/plain": [
       "1057"
      ]
     },
     "execution_count": 8,
     "metadata": {},
     "output_type": "execute_result"
    }
   ],
   "source": [
    "df_GTD_Rec = pd.read_csv('data/GTxM_Pass3/GTxM_Pass3_GTD_UpTodate.csv', dtype='str')\n",
    "len(df_GTD_Rec)"
   ]
  },
  {
   "cell_type": "code",
   "execution_count": 9,
   "id": "9e66f512-1435-4869-8c7d-668128aacea9",
   "metadata": {},
   "outputs": [
    {
     "data": {
      "text/html": [
       "<div>\n",
       "<style scoped>\n",
       "    .dataframe tbody tr th:only-of-type {\n",
       "        vertical-align: middle;\n",
       "    }\n",
       "\n",
       "    .dataframe tbody tr th {\n",
       "        vertical-align: top;\n",
       "    }\n",
       "\n",
       "    .dataframe thead th {\n",
       "        text-align: right;\n",
       "    }\n",
       "</style>\n",
       "<table border=\"1\" class=\"dataframe\">\n",
       "  <thead>\n",
       "    <tr style=\"text-align: right;\">\n",
       "      <th></th>\n",
       "      <th>RecID</th>\n",
       "      <th>Label</th>\n",
       "      <th>Target</th>\n",
       "    </tr>\n",
       "  </thead>\n",
       "  <tbody>\n",
       "    <tr>\n",
       "      <th>0</th>\n",
       "      <td>1207761446513319936</td>\n",
       "      <td>Politics</td>\n",
       "      <td>6</td>\n",
       "    </tr>\n",
       "    <tr>\n",
       "      <th>1</th>\n",
       "      <td>1180079141087055872</td>\n",
       "      <td>Politics</td>\n",
       "      <td>6</td>\n",
       "    </tr>\n",
       "  </tbody>\n",
       "</table>\n",
       "</div>"
      ],
      "text/plain": [
       "                 RecID     Label Target\n",
       "0  1207761446513319936  Politics      6\n",
       "1  1180079141087055872  Politics      6"
      ]
     },
     "execution_count": 9,
     "metadata": {},
     "output_type": "execute_result"
    }
   ],
   "source": [
    "df_GTD_Rec.head(2)"
   ]
  },
  {
   "cell_type": "code",
   "execution_count": 10,
   "id": "e16aa195-3eb1-4902-829f-ec57171b5303",
   "metadata": {},
   "outputs": [
    {
     "data": {
      "text/plain": [
       "1057"
      ]
     },
     "execution_count": 10,
     "metadata": {},
     "output_type": "execute_result"
    }
   ],
   "source": [
    "df_GTD_Rec.rename(columns={'RecID': 'TID'}, inplace=True)\n",
    "df_Core_Rec = pd.merge(df_Core_Rec, df_GTD_Rec, on='TID')\n",
    "len(df_Core_Rec)"
   ]
  },
  {
   "cell_type": "code",
   "execution_count": 11,
   "id": "0fd58b63-0a60-4e1d-9f2d-c61415263dfe",
   "metadata": {},
   "outputs": [
    {
     "data": {
      "text/plain": [
       "157436"
      ]
     },
     "execution_count": 11,
     "metadata": {},
     "output_type": "execute_result"
    }
   ],
   "source": [
    "df_GTD_Rec.rename(columns={'TID': 'InReplyTo'}, inplace=True)\n",
    "df_Core_Sup = pd.merge(df_Core_Sup, df_GTD_Rec, on='InReplyTo')\n",
    "len(df_Core_Sup)"
   ]
  },
  {
   "cell_type": "code",
   "execution_count": 130,
   "id": "43862a1d-449f-4a71-84e6-fe28073b320d",
   "metadata": {},
   "outputs": [],
   "source": [
    "df = pd.concat([df_Core_Rec, df_Core_Sup], axis=0)"
   ]
  },
  {
   "cell_type": "code",
   "execution_count": 131,
   "id": "e45c776e-747b-42a2-b6e9-492c2bd2247d",
   "metadata": {},
   "outputs": [],
   "source": [
    "df = df.sample(frac=1,axis=0,ignore_index=True)"
   ]
  },
  {
   "cell_type": "code",
   "execution_count": 132,
   "id": "a24b9cff-e62e-46ce-a689-1c97015726f6",
   "metadata": {},
   "outputs": [
    {
     "data": {
      "text/plain": [
       "158493"
      ]
     },
     "execution_count": 132,
     "metadata": {},
     "output_type": "execute_result"
    }
   ],
   "source": [
    "len(df)"
   ]
  },
  {
   "cell_type": "code",
   "execution_count": 133,
   "id": "f1b4ed61-d38c-4ece-8540-77fcd3158d1a",
   "metadata": {},
   "outputs": [
    {
     "data": {
      "text/html": [
       "<div>\n",
       "<style scoped>\n",
       "    .dataframe tbody tr th:only-of-type {\n",
       "        vertical-align: middle;\n",
       "    }\n",
       "\n",
       "    .dataframe tbody tr th {\n",
       "        vertical-align: top;\n",
       "    }\n",
       "\n",
       "    .dataframe thead th {\n",
       "        text-align: right;\n",
       "    }\n",
       "</style>\n",
       "<table border=\"1\" class=\"dataframe\">\n",
       "  <thead>\n",
       "    <tr style=\"text-align: right;\">\n",
       "      <th></th>\n",
       "      <th>TID</th>\n",
       "      <th>OrigTweet</th>\n",
       "      <th>InReplyTo</th>\n",
       "      <th>Label</th>\n",
       "      <th>Target</th>\n",
       "    </tr>\n",
       "  </thead>\n",
       "  <tbody>\n",
       "    <tr>\n",
       "      <th>0</th>\n",
       "      <td>1201948365249925120</td>\n",
       "      <td>@Leahgreenb You're acting like Biden doesn't h...</td>\n",
       "      <td>1201934660789510144</td>\n",
       "      <td>Human Rights</td>\n",
       "      <td>5</td>\n",
       "    </tr>\n",
       "    <tr>\n",
       "      <th>1</th>\n",
       "      <td>1192258461523992582</td>\n",
       "      <td>@mattgaetz Matt Gaetz getting behind the wheel...</td>\n",
       "      <td>1192218741033046016</td>\n",
       "      <td>Politics</td>\n",
       "      <td>6</td>\n",
       "    </tr>\n",
       "    <tr>\n",
       "      <th>2</th>\n",
       "      <td>1220502912465588228</td>\n",
       "      <td>@GretaThunberg whats your contingency plan if ...</td>\n",
       "      <td>1220355420600008704</td>\n",
       "      <td>Environmental</td>\n",
       "      <td>3</td>\n",
       "    </tr>\n",
       "    <tr>\n",
       "      <th>3</th>\n",
       "      <td>1200671040675950593</td>\n",
       "      <td>@TheSteinLine @R_Greezy</td>\n",
       "      <td>1200658086731628544</td>\n",
       "      <td>Sports</td>\n",
       "      <td>11</td>\n",
       "    </tr>\n",
       "    <tr>\n",
       "      <th>4</th>\n",
       "      <td>1220779702270484481</td>\n",
       "      <td>@BorisJohnson @AlunCairns I'm really looking f...</td>\n",
       "      <td>1220759425868275712</td>\n",
       "      <td>Politics</td>\n",
       "      <td>6</td>\n",
       "    </tr>\n",
       "  </tbody>\n",
       "</table>\n",
       "</div>"
      ],
      "text/plain": [
       "                   TID                                          OrigTweet  \\\n",
       "0  1201948365249925120  @Leahgreenb You're acting like Biden doesn't h...   \n",
       "1  1192258461523992582  @mattgaetz Matt Gaetz getting behind the wheel...   \n",
       "2  1220502912465588228  @GretaThunberg whats your contingency plan if ...   \n",
       "3  1200671040675950593                            @TheSteinLine @R_Greezy   \n",
       "4  1220779702270484481  @BorisJohnson @AlunCairns I'm really looking f...   \n",
       "\n",
       "             InReplyTo          Label Target  \n",
       "0  1201934660789510144   Human Rights      5  \n",
       "1  1192218741033046016       Politics      6  \n",
       "2  1220355420600008704  Environmental      3  \n",
       "3  1200658086731628544         Sports     11  \n",
       "4  1220759425868275712       Politics      6  "
      ]
     },
     "execution_count": 133,
     "metadata": {},
     "output_type": "execute_result"
    }
   ],
   "source": [
    "df.head()"
   ]
  },
  {
   "cell_type": "code",
   "execution_count": 134,
   "id": "1e7f773e-27ca-41e7-9a3a-a09754f44e45",
   "metadata": {},
   "outputs": [
    {
     "data": {
      "text/plain": [
       "Label           Target\n",
       "Business        1          8903\n",
       "Entertainment   2         21955\n",
       "Environmental   3          2592\n",
       "Health          4           715\n",
       "Human Rights    5         14253\n",
       "Law and Order   7          2098\n",
       "Obituary        9         16841\n",
       "Politics        6         75573\n",
       "Social Stories  10         3424\n",
       "Sports          11        12139\n",
       "dtype: int64"
      ]
     },
     "execution_count": 134,
     "metadata": {},
     "output_type": "execute_result"
    }
   ],
   "source": [
    "df.groupby(['Label','Target']).size()"
   ]
  },
  {
   "cell_type": "code",
   "execution_count": 135,
   "id": "a74d71b9-0b5c-4183-a688-988c62d0bb48",
   "metadata": {},
   "outputs": [],
   "source": [
    "df_Rec = df[df.InReplyTo.isna()]"
   ]
  },
  {
   "cell_type": "code",
   "execution_count": 136,
   "id": "990d7313-8a1b-45de-aac5-22988d772125",
   "metadata": {},
   "outputs": [
    {
     "data": {
      "text/plain": [
       "Label           Target\n",
       "Business        1          75\n",
       "Entertainment   2         153\n",
       "Environmental   3          17\n",
       "Health          4           4\n",
       "Human Rights    5          86\n",
       "Law and Order   7          12\n",
       "Obituary        9         147\n",
       "Politics        6         456\n",
       "Social Stories  10         32\n",
       "Sports          11         75\n",
       "dtype: int64"
      ]
     },
     "execution_count": 136,
     "metadata": {},
     "output_type": "execute_result"
    }
   ],
   "source": [
    "df_Rec.groupby(['Label','Target']).size()"
   ]
  },
  {
   "cell_type": "code",
   "execution_count": 137,
   "id": "a32c73c7-a293-4034-8c28-0c58a434d8c6",
   "metadata": {},
   "outputs": [
    {
     "data": {
      "text/plain": [
       "Label           Target\n",
       "Business        1          8828\n",
       "Entertainment   2         21802\n",
       "Environmental   3          2575\n",
       "Health          4           711\n",
       "Human Rights    5         14167\n",
       "Law and Order   7          2086\n",
       "Obituary        9         16694\n",
       "Politics        6         75117\n",
       "Social Stories  10         3392\n",
       "Sports          11        12064\n",
       "dtype: int64"
      ]
     },
     "execution_count": 137,
     "metadata": {},
     "output_type": "execute_result"
    }
   ],
   "source": [
    "df_Core_Sup.groupby(['Label','Target']).size()"
   ]
  },
  {
   "cell_type": "code",
   "execution_count": 138,
   "id": "7a59b274-3beb-4a4b-80ef-bcd385d3282e",
   "metadata": {},
   "outputs": [
    {
     "data": {
      "text/plain": [
       "158493"
      ]
     },
     "execution_count": 138,
     "metadata": {},
     "output_type": "execute_result"
    }
   ],
   "source": [
    "len(df)"
   ]
  },
  {
   "cell_type": "code",
   "execution_count": 139,
   "id": "bd4eefc8-f55b-465a-ae2f-99f8c084d6b9",
   "metadata": {},
   "outputs": [
    {
     "data": {
      "text/plain": [
       "149664"
      ]
     },
     "execution_count": 139,
     "metadata": {},
     "output_type": "execute_result"
    }
   ],
   "source": [
    "# Remove Label with low SMR counts\n",
    "df = df[df.Label != 'Social Stories']\n",
    "df = df[df.Label != 'Law and Order']\n",
    "df = df[df.Label != 'Environmental']\n",
    "df = df[df.Label != 'Health']\n",
    "len(df)"
   ]
  },
  {
   "cell_type": "code",
   "execution_count": 140,
   "id": "39a1a9ac-5d50-42ad-947b-34514c1d4f15",
   "metadata": {},
   "outputs": [],
   "source": [
    "def remove1stMent(text):\n",
    "  if text[0] == '@':\n",
    "      words = text.split()\n",
    "      words = words[1:] # remove the @mention word\n",
    "      text = \" \".join(words).lstrip()\n",
    "  return(text)\n",
    "\n",
    "def removeSpecialChar(text):\n",
    "  #old text = re.sub(r'\\W', ' ', text) #replace ALL non-word characters, including emojis with space\n",
    "  # remove all non ASCII characters \n",
    "\n",
    "  # credit: https://stackoverflow.com/questions/2758921/regular-expression-that-finds-and-replaces-non-ascii-characters-with-python\n",
    "  text = re.sub(r\"[\\u0080-\\uFFFF]\", \" \", text) #see ASCII list: https://www.asciitable.com/\n",
    "  text = \" \".join(text.split()) # replace multiple spaces with a single space\n",
    "  return(text)\n",
    "\n",
    "def removeDigits(text):\n",
    "  text = re.sub(r'\\d', ' ', text) #replace digits with space\n",
    "  return(text)\n",
    "\n",
    "def cleanColloquials(text):\n",
    "  #Replace common abbreviations and slangs\n",
    "  text = text.replace(\" i m \",\" i am \")\n",
    "  text = text.replace(\" i ve \",\" i have \")\n",
    "  text = text.replace(\" i ll \",\" i will \")\n",
    "  text = text.replace(\" i d \",\" i had \")\n",
    "  text = text.replace(\" that s \",\" that is \")\n",
    "  text = text.replace(\" isn t \",\" is not \")\n",
    "  text = text.replace(\" it s \",\" it is \")\n",
    "  text = text.replace(\" she s \",\" she is \")\n",
    "  text = text.replace(\" he s \",\" he is \")\n",
    "  text = text.replace(\" u \",\" you \")\n",
    "  text = text.replace(\" ur \",\" your \")\n",
    "  text = text.replace(\" b4 \",\" before \")\n",
    "  text = text.replace(\" wasnt \",\" was not \")\n",
    "  text = text.replace(\" wasn t \",\" was not \")\n",
    "  text = text.replace(\" cant \",\" can not \")\n",
    "  text = text.replace(\" can t \",\" can not \")\n",
    "  text = text.replace(\" couldnt \",\" could not \")\n",
    "  text = text.replace(\" couldn t \",\" could not \")\n",
    "  text = text.replace(\" wouldnt \",\" would not \")\n",
    "  text = text.replace(\" wouldn t \",\" would not \")\n",
    "  text = text.replace(\" dont \",\" do not \")\n",
    "  text = text.replace(\" don t \",\" do not \")\n",
    "  text = text.replace(\" didnt \",\" did not \")\n",
    "  text = text.replace(\" didn t \",\" did not \")\n",
    "  text = text.replace(\" let s \",\" let us \")\n",
    "  text = text.replace(\" i'm \",\" i am \")\n",
    "  text = text.replace(\" i've \",\" i have \")\n",
    "  text = text.replace(\" i'll \",\" i will \")\n",
    "  text = text.replace(\" i'd \",\" i had \")\n",
    "  text = text.replace(\" that's \",\" that is \")\n",
    "  text = text.replace(\" isn't \",\" is not \")\n",
    "  text = text.replace(\" it's \",\" it is \")\n",
    "  text = text.replace(\" she's \",\" she is \")\n",
    "  text = text.replace(\" he's \",\" he is \")\n",
    "  text = text.replace(\" u \",\" you \")\n",
    "  text = text.replace(\" ur \",\" your \")\n",
    "  text = text.replace(\" b4 \",\" before \")\n",
    "  text = text.replace(\" wasn't \",\" was not \")\n",
    "  text = text.replace(\" can't \",\" can not \")\n",
    "  text = text.replace(\" couldn't \",\" could not \")\n",
    "  text = text.replace(\" wouldn't \",\" would not \")\n",
    "  text = text.replace(\" don't \",\" do not \")\n",
    "  text = text.replace(\" didn't \",\" did not \")\n",
    "  text = text.replace(\" let's \",\" let us \")\n",
    "  text = text.replace(\" luv \",\" love \")\n",
    "  text = text.replace(\" true \",\" truth \")\n",
    "  text = text.replace(\" ppl \",\" people \")\n",
    "  text = text.replace(\" fb \",\" facebook \")\n",
    "  text = text.replace(\" b day \",\" birthday \")\n",
    "  text = text.replace(\" bday \",\" birthday \")\n",
    "  if (len(text.strip())  == 0):\n",
    "      text = ' ' #replace None with a single space\n",
    "  return(text)\n",
    "\n",
    "def removeHashtags(text):\n",
    "  words = text.split()\n",
    "  words = filter(lambda x:x[0]!='#', words)\n",
    "  text = \" \".join(words)\n",
    "  if (len(text.strip())  == 0):\n",
    "      text = ' ' #replace None with a single space\n",
    "  return(text)\n",
    "\n",
    "def removeMentions(text):\n",
    "  words = text.split()\n",
    "  words = filter(lambda x:x[0]!='@', words)\n",
    "  text = \" \".join(words)\n",
    "  if (len(text.strip())  == 0):\n",
    "      text = ' ' #replace None with a single space\n",
    "  return(text)\n",
    "\n",
    "def removeHttpWeb(text):\n",
    "  words = text.split()\n",
    "  words = filter(lambda x:x[0]!='&', words)\n",
    "  words = filter(lambda x:x[0:4]!='http', words)\n",
    "  text = \" \".join(words)\n",
    "  if (len(text.strip())  == 0):\n",
    "      text = ' ' #replace None with a single space\n",
    "  return(text)\n",
    "\n",
    "def removeUnicode(text):\n",
    "  #convert unicode chars to ascii\n",
    "  text = unidecode(text)\n",
    "  return(text)\n",
    "\n"
   ]
  },
  {
   "cell_type": "code",
   "execution_count": 141,
   "id": "b53432b7-3f75-473e-9027-93cb855199c2",
   "metadata": {},
   "outputs": [],
   "source": [
    "# CLEANUP FACTORY\n",
    "def cleanup(text):\n",
    "  #Scenario1: \n",
    "  #text = removeUnicode(text)\n",
    "  text = removeSpecialChar(text)\n",
    "  text = remove1stMent(text)\n",
    "  text = removeHttpWeb(text)\n",
    "  text = cleanColloquials(text)\n",
    "\n",
    "  #Scenario2: remove1stMent, removeHttpWeb, removeSpecialChar, cleanColloquials\n",
    "  #Scenario3: remove1stMent, removeHttpWeb, removeHashtags, removeSpecialChar, cleanColloquials\n",
    "  return(text)"
   ]
  },
  {
   "cell_type": "code",
   "execution_count": 142,
   "id": "8416953c-0fa9-45ac-8f83-48a329cea52a",
   "metadata": {},
   "outputs": [],
   "source": [
    "df['CleanTweet'] = df['OrigTweet'].apply(cleanup)\n",
    "#remove1stMentNoSpecChar('@MarkSZaidEsq @tko From the evidence and more to co')\n",
    "# df['CleanTweet'] = df['CleanTweetNoHttp'].apply(remove1stMentNoSpecChar)"
   ]
  },
  {
   "cell_type": "code",
   "execution_count": 143,
   "id": "c526f614-aed1-481c-9fff-ba7a269af960",
   "metadata": {},
   "outputs": [
    {
     "name": "stdout",
     "output_type": "stream",
     "text": [
      "The dataset contains 6 unique categories\n"
     ]
    }
   ],
   "source": [
    "print(f\"The dataset contains { df.Target.nunique() } unique categories\")"
   ]
  },
  {
   "cell_type": "code",
   "execution_count": 144,
   "id": "330eefd9-b7a6-4c69-b0e0-b82925020436",
   "metadata": {},
   "outputs": [],
   "source": [
    "# convert the tweets into lower case if uncased model.\n",
    "df['CleanTweet'] = df['CleanTweet'].apply(lambda x: str(x).lower())\n",
    "# trim to 280 characters max\n",
    "df['CleanTweet'] = df['CleanTweet'].str.slice(0,279)\n",
    "# calculating the length of tweet\n",
    "df['CleanTweet_len'] = df['CleanTweet'].apply(lambda x: len(str(x).split()))\n",
    "# Remove tweets with less than 10 words\n",
    "df = df.query('CleanTweet_len > 9')"
   ]
  },
  {
   "cell_type": "code",
   "execution_count": 145,
   "id": "871b316a-88fb-4d16-b6c2-3a818828e40e",
   "metadata": {},
   "outputs": [
    {
     "data": {
      "text/plain": [
       "122716"
      ]
     },
     "execution_count": 145,
     "metadata": {},
     "output_type": "execute_result"
    }
   ],
   "source": [
    "len(df)"
   ]
  },
  {
   "cell_type": "code",
   "execution_count": 146,
   "id": "edbe13cd-87b1-42c9-ada9-02acc2a0a818",
   "metadata": {},
   "outputs": [
    {
     "data": {
      "text/plain": [
       "Label          Target\n",
       "Business       1          67\n",
       "Entertainment  2         139\n",
       "Human Rights   5          82\n",
       "Obituary       9         138\n",
       "Politics       6         436\n",
       "Sports         11         58\n",
       "dtype: int64"
      ]
     },
     "execution_count": 146,
     "metadata": {},
     "output_type": "execute_result"
    }
   ],
   "source": [
    "# check that the RecTweets are still all in the dataset after the cleansing\n",
    "df_RecTweets = df[df.InReplyTo.isna()]\n",
    "df_RecTweets.groupby(['Label','Target']).size()"
   ]
  },
  {
   "cell_type": "code",
   "execution_count": 147,
   "id": "19b5bc91-3440-4b11-92fa-915075c3bf28",
   "metadata": {},
   "outputs": [
    {
     "data": {
      "text/plain": [
       "array(['Human Rights', 'Politics', 'Obituary', 'Sports', 'Entertainment',\n",
       "       'Business'], dtype=object)"
      ]
     },
     "execution_count": 147,
     "metadata": {},
     "output_type": "execute_result"
    }
   ],
   "source": [
    "df['Label'].unique()"
   ]
  },
  {
   "cell_type": "code",
   "execution_count": 148,
   "id": "920a6485-d13b-4ad3-b8b0-2a8a905ed175",
   "metadata": {},
   "outputs": [
    {
     "data": {
      "text/plain": [
       "array(['5', '6', '9', '11', '2', '1'], dtype=object)"
      ]
     },
     "execution_count": 148,
     "metadata": {},
     "output_type": "execute_result"
    }
   ],
   "source": [
    "df['Target'].unique()"
   ]
  },
  {
   "cell_type": "code",
   "execution_count": 149,
   "id": "8a9135ec-1a5d-4aca-9d31-ac68b57f7e5e",
   "metadata": {},
   "outputs": [
    {
     "data": {
      "text/plain": [
       "Label          Target\n",
       "Business       1          7407\n",
       "Entertainment  2         16623\n",
       "Human Rights   5         11927\n",
       "Obituary       9         11406\n",
       "Politics       6         66470\n",
       "Sports         11         8883\n",
       "dtype: int64"
      ]
     },
     "execution_count": 149,
     "metadata": {},
     "output_type": "execute_result"
    }
   ],
   "source": [
    "df.groupby(['Label','Target']).size()"
   ]
  },
  {
   "cell_type": "code",
   "execution_count": null,
   "id": "0ba45627-45c0-48d3-b2b1-f7b59a80bb61",
   "metadata": {},
   "outputs": [],
   "source": []
  }
 ],
 "metadata": {
  "kernelspec": {
   "display_name": "Python 3 (ipykernel)",
   "language": "python",
   "name": "python3"
  },
  "language_info": {
   "codemirror_mode": {
    "name": "ipython",
    "version": 3
   },
   "file_extension": ".py",
   "mimetype": "text/x-python",
   "name": "python",
   "nbconvert_exporter": "python",
   "pygments_lexer": "ipython3",
   "version": "3.8.16"
  }
 },
 "nbformat": 4,
 "nbformat_minor": 5
}
