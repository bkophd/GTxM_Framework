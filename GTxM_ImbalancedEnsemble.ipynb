{
 "cells": [
  {
   "cell_type": "markdown",
   "id": "3d7d1822-6eac-490e-a5a0-786cabb1aebb",
   "metadata": {},
   "source": [
    "### Class Imbalance issue - Try out Undersampling Methods"
   ]
  },
  {
   "cell_type": "code",
   "execution_count": 1,
   "id": "556bd763-8450-466b-91db-2d17a0c9649f",
   "metadata": {},
   "outputs": [],
   "source": [
    "# credits: https://github.com/saimadhu-polamuri/DataAspirant_codes/tree/master/handle_imbalance_data\n",
    "# and: https://imbalanced-learn.org/stable/references/generated/imblearn.under_sampling.TomekLinks.html"
   ]
  },
  {
   "cell_type": "markdown",
   "id": "a08a88e4-8c8e-469d-aa40-c294be95715a",
   "metadata": {
    "tags": []
   },
   "source": [
    "#### Import libraries"
   ]
  },
  {
   "cell_type": "code",
   "execution_count": 2,
   "id": "034ec0c8-08ab-4666-abff-e8664140fe5b",
   "metadata": {},
   "outputs": [],
   "source": [
    "# Around SEP 2021: install and use use the following module versions\n",
    "# imbalanced-learn 0.7.0 [pip install imbalanced-learn==0.8.1]\n",
    "# scipy(>=0.19.1) [conda install -c conda-forge scipy=1.7.1]\n",
    "# scikit-learn(>=0.22) [conda install -c conda-forge scikit-learn=1.0]\n",
    "# numpy(>=1.13.3) [conda install -c conda-forge numpy=1.21.2]\n",
    "# joblib(>=0.11) [conda install -c conda-forge joblib=1.0.1]"
   ]
  },
  {
   "cell_type": "code",
   "execution_count": 2,
   "id": "119af9b4-eb01-4ac8-a9f3-7e2ba74d1582",
   "metadata": {},
   "outputs": [],
   "source": [
    "import re\n",
    "import numpy as np\n",
    "import pandas as pd\n",
    "import time\n",
    "from sklearn.feature_extraction.text import TfidfVectorizer\n",
    "from sklearn.model_selection import train_test_split, cross_validate\n",
    "from sklearn.metrics import accuracy_score\n",
    "from sklearn.metrics import precision_recall_fscore_support\n",
    "from sklearn.metrics import confusion_matrix\n",
    "from sklearn.svm import SVC\n",
    "import csv\n",
    "import warnings\n",
    "import sklearn.exceptions\n",
    "warnings.filterwarnings(\"ignore\",category=DeprecationWarning)\n",
    "warnings.filterwarnings(\"ignore\",category=sklearn.exceptions.UndefinedMetricWarning)\n",
    "\n",
    "from imblearn.ensemble import BalancedRandomForestClassifier\n",
    "from imblearn.ensemble import BalancedBaggingClassifier\n",
    "from imblearn.ensemble import EasyEnsembleClassifier\n",
    "from imblearn.ensemble import RUSBoostClassifier"
   ]
  },
  {
   "cell_type": "markdown",
   "id": "17a97fe7-fde8-49c4-b8c7-fe7a7fc3ed25",
   "metadata": {
    "tags": []
   },
   "source": [
    "#### Prep Data"
   ]
  },
  {
   "cell_type": "code",
   "execution_count": 3,
   "id": "b7827afa-9dcb-4228-8149-1d5e56ff1fea",
   "metadata": {},
   "outputs": [
    {
     "data": {
      "text/plain": [
       "4684"
      ]
     },
     "execution_count": 3,
     "metadata": {},
     "output_type": "execute_result"
    }
   ],
   "source": [
    "data = pd.read_csv('data/MasterTokens.csv', encoding='ISO-8859-1', dtype='str', usecols=['RecID', 'smrNouns', 'smrAdverbs'])\n",
    "len(data)"
   ]
  },
  {
   "cell_type": "code",
   "execution_count": 4,
   "id": "0813b7e8-6545-4bbc-8531-7dc2c3e65348",
   "metadata": {},
   "outputs": [
    {
     "data": {
      "text/html": [
       "<div>\n",
       "<style scoped>\n",
       "    .dataframe tbody tr th:only-of-type {\n",
       "        vertical-align: middle;\n",
       "    }\n",
       "\n",
       "    .dataframe tbody tr th {\n",
       "        vertical-align: top;\n",
       "    }\n",
       "\n",
       "    .dataframe thead th {\n",
       "        text-align: right;\n",
       "    }\n",
       "</style>\n",
       "<table border=\"1\" class=\"dataframe\">\n",
       "  <thead>\n",
       "    <tr style=\"text-align: right;\">\n",
       "      <th></th>\n",
       "      <th>RecID</th>\n",
       "      <th>smrNouns</th>\n",
       "      <th>smrAdverbs</th>\n",
       "    </tr>\n",
       "  </thead>\n",
       "  <tbody>\n",
       "    <tr>\n",
       "      <th>0</th>\n",
       "      <td>11947603240</td>\n",
       "      <td>part song lie</td>\n",
       "      <td>pretti</td>\n",
       "    </tr>\n",
       "    <tr>\n",
       "      <th>1</th>\n",
       "      <td>12643331537</td>\n",
       "      <td>follow igcom club gpsi</td>\n",
       "      <td></td>\n",
       "    </tr>\n",
       "  </tbody>\n",
       "</table>\n",
       "</div>"
      ],
      "text/plain": [
       "         RecID                smrNouns smrAdverbs\n",
       "0  11947603240           part song lie     pretti\n",
       "1  12643331537  follow igcom club gpsi           "
      ]
     },
     "execution_count": 4,
     "metadata": {},
     "output_type": "execute_result"
    }
   ],
   "source": [
    "data.head(2)"
   ]
  },
  {
   "cell_type": "markdown",
   "id": "7106ba36-80ac-4774-b733-f8cf4ce03476",
   "metadata": {
    "tags": []
   },
   "source": [
    "#### Prep Training data"
   ]
  },
  {
   "cell_type": "code",
   "execution_count": 5,
   "id": "c807bae3-60b4-4b11-b31a-b656a1ecea02",
   "metadata": {},
   "outputs": [
    {
     "data": {
      "text/plain": [
       "1057"
      ]
     },
     "execution_count": 5,
     "metadata": {},
     "output_type": "execute_result"
    }
   ],
   "source": [
    "df_GTD_Rec = pd.read_csv('data/GTxM_Pass3/GTxM_Pass3_GTD_UpTodate.csv', dtype='str')\n",
    "len(df_GTD_Rec)"
   ]
  },
  {
   "cell_type": "code",
   "execution_count": 6,
   "id": "d87b4897-77b0-491c-9daf-2c374ae028a2",
   "metadata": {},
   "outputs": [
    {
     "data": {
      "text/html": [
       "<div>\n",
       "<style scoped>\n",
       "    .dataframe tbody tr th:only-of-type {\n",
       "        vertical-align: middle;\n",
       "    }\n",
       "\n",
       "    .dataframe tbody tr th {\n",
       "        vertical-align: top;\n",
       "    }\n",
       "\n",
       "    .dataframe thead th {\n",
       "        text-align: right;\n",
       "    }\n",
       "</style>\n",
       "<table border=\"1\" class=\"dataframe\">\n",
       "  <thead>\n",
       "    <tr style=\"text-align: right;\">\n",
       "      <th></th>\n",
       "      <th>RecID</th>\n",
       "      <th>Label</th>\n",
       "      <th>Target</th>\n",
       "    </tr>\n",
       "  </thead>\n",
       "  <tbody>\n",
       "    <tr>\n",
       "      <th>0</th>\n",
       "      <td>1207761446513319936</td>\n",
       "      <td>Politics</td>\n",
       "      <td>6</td>\n",
       "    </tr>\n",
       "    <tr>\n",
       "      <th>1</th>\n",
       "      <td>1180079141087055872</td>\n",
       "      <td>Politics</td>\n",
       "      <td>6</td>\n",
       "    </tr>\n",
       "  </tbody>\n",
       "</table>\n",
       "</div>"
      ],
      "text/plain": [
       "                 RecID     Label Target\n",
       "0  1207761446513319936  Politics      6\n",
       "1  1180079141087055872  Politics      6"
      ]
     },
     "execution_count": 6,
     "metadata": {},
     "output_type": "execute_result"
    }
   ],
   "source": [
    "df_GTD_Rec.head(2)"
   ]
  },
  {
   "cell_type": "code",
   "execution_count": 7,
   "id": "90c2aa2e-1788-4438-b8d7-44512eef5d5e",
   "metadata": {},
   "outputs": [
    {
     "data": {
      "text/plain": [
       "1057"
      ]
     },
     "execution_count": 7,
     "metadata": {},
     "output_type": "execute_result"
    }
   ],
   "source": [
    "# train on pass 3 GTD\n",
    "df_train = pd.merge(data, df_GTD_Rec, on=\"RecID\")\n",
    "len(df_train)"
   ]
  },
  {
   "cell_type": "code",
   "execution_count": 8,
   "id": "34d0cbd2-86c1-423f-857d-eb5f33943ed0",
   "metadata": {},
   "outputs": [
    {
     "data": {
      "text/plain": [
       "Target  Label         \n",
       "1       Business           75\n",
       "10      Social Stories     32\n",
       "11      Sports             75\n",
       "2       Entertainment     153\n",
       "3       Environmental      17\n",
       "4       Health              4\n",
       "5       Human Rights       86\n",
       "6       Politics          456\n",
       "7       Law and Order      12\n",
       "9       Obituary          147\n",
       "dtype: int64"
      ]
     },
     "execution_count": 8,
     "metadata": {},
     "output_type": "execute_result"
    }
   ],
   "source": [
    "df_train.groupby(['Target','Label']).size()"
   ]
  },
  {
   "cell_type": "code",
   "execution_count": 9,
   "id": "3d807dcb-f606-46a2-bd1a-eb6d368c01c0",
   "metadata": {},
   "outputs": [],
   "source": [
    "# remove lower than 50 count SMRs\n",
    "df_train = df_train[df_train.Label != 'Environmental']\n",
    "df_train = df_train[df_train.Label != 'Health']\n",
    "df_train = df_train[df_train.Label != 'Law and Order']\n",
    "df_train = df_train[df_train.Label != 'Social Stories']"
   ]
  },
  {
   "cell_type": "code",
   "execution_count": 10,
   "id": "4e128517-2f2f-4e25-b233-4d728c5e24ac",
   "metadata": {},
   "outputs": [],
   "source": [
    "# remove Business and Obituary from training since test has 0 and only 1 SMRs\n",
    "# insufficient for testing\n",
    "# df_train = df_train[df_train.Label != 'Business']\n",
    "# df_train = df_train[df_train.Label != 'Obituary']"
   ]
  },
  {
   "cell_type": "code",
   "execution_count": 11,
   "id": "4f098d54-8062-49c9-b55c-337aeb41fadb",
   "metadata": {},
   "outputs": [
    {
     "data": {
      "text/plain": [
       "992"
      ]
     },
     "execution_count": 11,
     "metadata": {},
     "output_type": "execute_result"
    }
   ],
   "source": [
    "len(df_train)"
   ]
  },
  {
   "cell_type": "code",
   "execution_count": 12,
   "id": "1014ea84-9707-48fb-9a3b-a52590a12e97",
   "metadata": {},
   "outputs": [],
   "source": [
    "df_train.Target = df_train['Target'].astype(int)"
   ]
  },
  {
   "cell_type": "code",
   "execution_count": 13,
   "id": "c8a8c201-2d71-4f01-b0bb-c594807787d5",
   "metadata": {},
   "outputs": [],
   "source": [
    "# Code the Targets 0-5\n",
    "df_train.loc[(df_train.Target == 1), 'Target'] = 0 # Business\n",
    "df_train.loc[(df_train.Target == 2), 'Target'] = 1 # Entertainment\n",
    "df_train.loc[(df_train.Target == 5), 'Target'] = 2 # Human Rights\n",
    "df_train.loc[(df_train.Target == 6), 'Target'] = 3 # Politics\n",
    "df_train.loc[(df_train.Target == 9), 'Target'] = 4 # Obituary\n",
    "df_train.loc[(df_train.Target == 11), 'Target'] = 5 # Sports"
   ]
  },
  {
   "cell_type": "code",
   "execution_count": 14,
   "id": "c88ebe4e-7194-4e83-bb20-30a123f7fde2",
   "metadata": {},
   "outputs": [
    {
     "data": {
      "text/plain": [
       "Target  Label        \n",
       "0       Business          75\n",
       "1       Entertainment    153\n",
       "2       Human Rights      86\n",
       "3       Politics         456\n",
       "4       Obituary         147\n",
       "5       Sports            75\n",
       "dtype: int64"
      ]
     },
     "execution_count": 14,
     "metadata": {},
     "output_type": "execute_result"
    }
   ],
   "source": [
    "df_train.groupby(['Target','Label']).size()"
   ]
  },
  {
   "cell_type": "markdown",
   "id": "c35062aa-cbe2-46c7-b342-ab92229ea6a1",
   "metadata": {
    "tags": []
   },
   "source": [
    "#### Prep Test data"
   ]
  },
  {
   "cell_type": "code",
   "execution_count": 15,
   "id": "d17469b1-c637-4211-867f-acb42dbc4af2",
   "metadata": {},
   "outputs": [
    {
     "data": {
      "text/html": [
       "<div>\n",
       "<style scoped>\n",
       "    .dataframe tbody tr th:only-of-type {\n",
       "        vertical-align: middle;\n",
       "    }\n",
       "\n",
       "    .dataframe tbody tr th {\n",
       "        vertical-align: top;\n",
       "    }\n",
       "\n",
       "    .dataframe thead th {\n",
       "        text-align: right;\n",
       "    }\n",
       "</style>\n",
       "<table border=\"1\" class=\"dataframe\">\n",
       "  <thead>\n",
       "    <tr style=\"text-align: right;\">\n",
       "      <th></th>\n",
       "      <th>RecID</th>\n",
       "      <th>Label</th>\n",
       "      <th>Target</th>\n",
       "    </tr>\n",
       "  </thead>\n",
       "  <tbody>\n",
       "    <tr>\n",
       "      <th>0</th>\n",
       "      <td>1135851552495865857</td>\n",
       "      <td>Social Stories</td>\n",
       "      <td>10</td>\n",
       "    </tr>\n",
       "    <tr>\n",
       "      <th>1</th>\n",
       "      <td>1151389038781390848</td>\n",
       "      <td>Human Rights</td>\n",
       "      <td>5</td>\n",
       "    </tr>\n",
       "  </tbody>\n",
       "</table>\n",
       "</div>"
      ],
      "text/plain": [
       "                 RecID           Label Target\n",
       "0  1135851552495865857  Social Stories     10\n",
       "1  1151389038781390848    Human Rights      5"
      ]
     },
     "execution_count": 15,
     "metadata": {},
     "output_type": "execute_result"
    }
   ],
   "source": [
    "df_CGT_Rec = pd.read_csv('data/GTxM_Pass4/GTxM_CGT_Labeled_Pass4.csv', dtype='str')\n",
    "df_CGT_Rec.head(2)"
   ]
  },
  {
   "cell_type": "code",
   "execution_count": 16,
   "id": "dacbf1bf-42ff-41e2-a608-f25f9f5942d3",
   "metadata": {},
   "outputs": [
    {
     "data": {
      "text/plain": [
       "425"
      ]
     },
     "execution_count": 16,
     "metadata": {},
     "output_type": "execute_result"
    }
   ],
   "source": [
    "len(df_CGT_Rec)"
   ]
  },
  {
   "cell_type": "code",
   "execution_count": 17,
   "id": "bf32b262-d349-4790-bca6-a02ae4b89196",
   "metadata": {},
   "outputs": [
    {
     "data": {
      "text/plain": [
       "327"
      ]
     },
     "execution_count": 17,
     "metadata": {},
     "output_type": "execute_result"
    }
   ],
   "source": [
    "# Remove 'World Politics' as per research decision in pass 3\n",
    "# unify UK and USA politics\n",
    "df_CGT_Rec = df_CGT_Rec[df_CGT_Rec.Label != 'World Politics']\n",
    "df_CGT_Rec.loc[(df_CGT_Rec.Label == 'USA Politics'), 'Label'] = 'Politics'\n",
    "df_CGT_Rec.loc[(df_CGT_Rec.Label == 'UK Politics'), 'Label'] = 'Politics'\n",
    "df_CGT_Rec.loc[(df_CGT_Rec.Target == '14'), 'Target'] = '6'\n",
    "df_CGT_Rec.loc[(df_CGT_Rec.Target == '15'), 'Target'] = '6'\n",
    "len(df_CGT_Rec)"
   ]
  },
  {
   "cell_type": "code",
   "execution_count": 18,
   "id": "9623b716-0afc-4731-b6de-4f762a1a0244",
   "metadata": {},
   "outputs": [],
   "source": [
    "# remove lower than 50 traing count SMRs\n",
    "df_CGT_Rec = df_CGT_Rec[df_CGT_Rec.Label != 'Environmental']\n",
    "df_CGT_Rec = df_CGT_Rec[df_CGT_Rec.Label != 'Health']\n",
    "df_CGT_Rec = df_CGT_Rec[df_CGT_Rec.Label != 'Law and Order']\n",
    "df_CGT_Rec = df_CGT_Rec[df_CGT_Rec.Label != 'Social Stories']\n",
    "df_CGT_Rec = df_CGT_Rec[df_CGT_Rec.Label != 'Travel']"
   ]
  },
  {
   "cell_type": "code",
   "execution_count": 19,
   "id": "d17f66dc-3532-454d-8c47-c74bef1ec2ad",
   "metadata": {},
   "outputs": [],
   "source": [
    "# Remove Obitaury - insufficient samples\n",
    "# df_CGT_Rec = df_CGT_Rec[df_CGT_Rec.Label != 'Obituary']"
   ]
  },
  {
   "cell_type": "code",
   "execution_count": 20,
   "id": "a1e1be9c-f77c-49d5-ab49-2f523ad704ea",
   "metadata": {},
   "outputs": [
    {
     "data": {
      "text/plain": [
       "223"
      ]
     },
     "execution_count": 20,
     "metadata": {},
     "output_type": "execute_result"
    }
   ],
   "source": [
    "df_test = pd.merge(data, df_CGT_Rec, on=\"RecID\")\n",
    "len(df_test)"
   ]
  },
  {
   "cell_type": "code",
   "execution_count": 21,
   "id": "6d776619-d346-46a0-8602-f54354048622",
   "metadata": {},
   "outputs": [
    {
     "data": {
      "text/html": [
       "<div>\n",
       "<style scoped>\n",
       "    .dataframe tbody tr th:only-of-type {\n",
       "        vertical-align: middle;\n",
       "    }\n",
       "\n",
       "    .dataframe tbody tr th {\n",
       "        vertical-align: top;\n",
       "    }\n",
       "\n",
       "    .dataframe thead th {\n",
       "        text-align: right;\n",
       "    }\n",
       "</style>\n",
       "<table border=\"1\" class=\"dataframe\">\n",
       "  <thead>\n",
       "    <tr style=\"text-align: right;\">\n",
       "      <th></th>\n",
       "      <th>RecID</th>\n",
       "      <th>smrNouns</th>\n",
       "      <th>smrAdverbs</th>\n",
       "      <th>Label</th>\n",
       "      <th>Target</th>\n",
       "    </tr>\n",
       "  </thead>\n",
       "  <tbody>\n",
       "    <tr>\n",
       "      <th>0</th>\n",
       "      <td>222818213392678912</td>\n",
       "      <td>list parti apparatchik power parti leader pres...</td>\n",
       "      <td>actual ntw enough pretti probabl kind total ba...</td>\n",
       "      <td>Politics</td>\n",
       "      <td>6</td>\n",
       "    </tr>\n",
       "    <tr>\n",
       "      <th>1</th>\n",
       "      <td>1124056098925944832</td>\n",
       "      <td>support critic messag design chang paramount s...</td>\n",
       "      <td>fulli total definit actual</td>\n",
       "      <td>Entertainment</td>\n",
       "      <td>2</td>\n",
       "    </tr>\n",
       "  </tbody>\n",
       "</table>\n",
       "</div>"
      ],
      "text/plain": [
       "                 RecID                                           smrNouns  \\\n",
       "0   222818213392678912  list parti apparatchik power parti leader pres...   \n",
       "1  1124056098925944832  support critic messag design chang paramount s...   \n",
       "\n",
       "                                          smrAdverbs          Label Target  \n",
       "0  actual ntw enough pretti probabl kind total ba...       Politics      6  \n",
       "1                         fulli total definit actual  Entertainment      2  "
      ]
     },
     "execution_count": 21,
     "metadata": {},
     "output_type": "execute_result"
    }
   ],
   "source": [
    "df_test.head(2)"
   ]
  },
  {
   "cell_type": "code",
   "execution_count": 22,
   "id": "0c27c586-f161-47a4-8eae-a434d8387f83",
   "metadata": {},
   "outputs": [],
   "source": [
    "# Add a placebo SMR for Business (since it is missing in the test data and required for keras encoding)\n",
    "df_test.loc[len(df_test)] = ['101','business placebo record tweet keras encoding purpose','This is business placebo supporting tweet for keras encoding purpose only','Business','1']\n"
   ]
  },
  {
   "cell_type": "code",
   "execution_count": 23,
   "id": "a348c2ae-08d4-4647-8293-05cba7eee3da",
   "metadata": {},
   "outputs": [
    {
     "data": {
      "text/plain": [
       "Target  Label        \n",
       "1       Business           1\n",
       "11      Sports            16\n",
       "2       Entertainment     28\n",
       "5       Human Rights      24\n",
       "6       Politics         154\n",
       "9       Obituary           1\n",
       "dtype: int64"
      ]
     },
     "execution_count": 23,
     "metadata": {},
     "output_type": "execute_result"
    }
   ],
   "source": [
    "df_test.groupby(['Target','Label']).size()"
   ]
  },
  {
   "cell_type": "code",
   "execution_count": 24,
   "id": "e3bf37e4-0336-4759-9a77-9122e38f562e",
   "metadata": {},
   "outputs": [],
   "source": [
    "df_test.Target = df_test['Target'].astype(int)"
   ]
  },
  {
   "cell_type": "code",
   "execution_count": 25,
   "id": "04525c23-9551-4628-965f-3da0a876c5ab",
   "metadata": {},
   "outputs": [],
   "source": [
    "# # Code the Targets 0-5\n",
    "df_test.loc[(df_test.Target == 1), 'Target'] = 0 # Business\n",
    "df_test.loc[(df_test.Target == 2), 'Target'] = 1 # Entertainment\n",
    "df_test.loc[(df_test.Target == 5), 'Target'] = 2 # Human Rights\n",
    "df_test.loc[(df_test.Target == 6), 'Target'] = 3 # Politics\n",
    "df_test.loc[(df_test.Target == 9), 'Target'] = 4 # Obituary\n",
    "df_test.loc[(df_test.Target == 11), 'Target'] = 5 # Sports\n"
   ]
  },
  {
   "cell_type": "code",
   "execution_count": 26,
   "id": "89cea15c-c4bf-4de0-aab9-76db3a1026ff",
   "metadata": {},
   "outputs": [
    {
     "data": {
      "text/plain": [
       "Target  Label        \n",
       "0       Business           1\n",
       "1       Entertainment     28\n",
       "2       Human Rights      24\n",
       "3       Politics         154\n",
       "4       Obituary           1\n",
       "5       Sports            16\n",
       "dtype: int64"
      ]
     },
     "execution_count": 26,
     "metadata": {},
     "output_type": "execute_result"
    }
   ],
   "source": [
    "df_test.groupby(['Target','Label']).size()"
   ]
  },
  {
   "cell_type": "markdown",
   "id": "add69122-976c-4c72-9572-a5d685f28e80",
   "metadata": {
    "tags": []
   },
   "source": [
    "#### Baseline SVM Predictions"
   ]
  },
  {
   "cell_type": "code",
   "execution_count": 27,
   "id": "26614a04-0cc8-4c08-b4b5-a8a387625353",
   "metadata": {},
   "outputs": [
    {
     "name": "stderr",
     "output_type": "stream",
     "text": [
      "C:\\Users\\kazeem\\anaconda3\\envs\\py38\\lib\\site-packages\\sklearn\\utils\\deprecation.py:87: FutureWarning: Function get_feature_names is deprecated; get_feature_names is deprecated in 1.0 and will be removed in 1.2. Please use get_feature_names_out instead.\n",
      "  warnings.warn(msg, category=FutureWarning)\n"
     ]
    }
   ],
   "source": [
    "scoring = {'acc': 'accuracy',\n",
    "           'prec': 'precision_weighted',\n",
    "           'recall': 'recall_weighted',\n",
    "           'f1': 'f1_weighted'}\n",
    "\n",
    "#test_ratio = 0.20\n",
    "corpus = df_train['smrNouns'] + df_train['smrAdverbs']\n",
    "# corpus = df_train['smrNouns'] + df_train['smrNER'] +df_train['smrAdverbs'] + df_test['smrAdjectives']\n",
    "# corpus = df_train['smrNER'] + df_test['smrAdjectives']\n",
    "corpus = corpus.fillna(value='')\n",
    "vec = 'TFIDF'\n",
    "# vectorizer = TfidfVectorizer(min_df=2,ngram_range=(1,2),max_features=10000)\n",
    "vectorizer = TfidfVectorizer(min_df=2,ngram_range=(1,2),max_features=5000)\n",
    "data_vec = vectorizer.fit_transform(corpus)\n",
    "# vec_dtm = pd.DataFrame(data_vec.toarray(), columns=vectorizer.get_feature_names_out())\n",
    "# resolution: https://stackoverflow.com/questions/70215049/attributeerror-tfidfvectorizer-object-has-no-attribute-get-feature-names-out\n",
    "vec_dtm = pd.DataFrame(data_vec.toarray(), columns=vectorizer.get_feature_names())\n",
    "vec_dtm.index = df_train['RecID']\n",
    "y = df_train['Target']\n",
    "y.index = df_train['RecID']\n",
    "y=y.astype('int')\n",
    "X = vec_dtm\n"
   ]
  },
  {
   "cell_type": "code",
   "execution_count": 28,
   "id": "95b4b050-263a-4acb-80c4-883fbba66170",
   "metadata": {},
   "outputs": [
    {
     "data": {
      "text/plain": [
       "SVC(kernel='linear')"
      ]
     },
     "execution_count": 28,
     "metadata": {},
     "output_type": "execute_result"
    }
   ],
   "source": [
    "clf = SVC(kernel='linear')\n",
    "clf.fit(X, y)"
   ]
  },
  {
   "cell_type": "code",
   "execution_count": 29,
   "id": "cfd41252-0a79-41f9-9a6d-2900ebe688fe",
   "metadata": {},
   "outputs": [
    {
     "name": "stderr",
     "output_type": "stream",
     "text": [
      "C:\\Users\\kazeem\\anaconda3\\envs\\py38\\lib\\site-packages\\sklearn\\utils\\deprecation.py:87: FutureWarning: Function get_feature_names is deprecated; get_feature_names is deprecated in 1.0 and will be removed in 1.2. Please use get_feature_names_out instead.\n",
      "  warnings.warn(msg, category=FutureWarning)\n"
     ]
    }
   ],
   "source": [
    "# setup test data\n",
    "corpus_test = df_test['smrNouns'] + df_test['smrAdverbs']\n",
    "# corpus_test = df_test['smrNouns'] + df_test['smrNER'] + df_test['smrAdverbs'] + df_test['smrAdjectives']\n",
    "# corpus_test = df_test['smrNER'] + df_test['smrAdjectives']\n",
    "corpus_test = corpus_test.fillna(value='')\n",
    "# vectorizer = TfidfVectorizer(min_df=2,ngram_range=(1,2),max_features=10000)\n",
    "vectorizer = TfidfVectorizer(min_df=2,ngram_range=(1,2),max_features=5000)\n",
    "data_vec = vectorizer.fit_transform(corpus_test)\n",
    "vec_dtm = pd.DataFrame(data_vec.toarray(), columns=vectorizer.get_feature_names())\n",
    "vec_dtm.index = df_test['RecID']\n",
    "y_test = df_test['Target']\n",
    "y_test.index = df_test['RecID']\n",
    "y_test=y_test.astype('int')\n",
    "X_test = vec_dtm"
   ]
  },
  {
   "cell_type": "code",
   "execution_count": 30,
   "id": "187588ae-c12f-4801-8ef1-9c25f6797a8a",
   "metadata": {},
   "outputs": [
    {
     "name": "stderr",
     "output_type": "stream",
     "text": [
      "C:\\Users\\kazeem\\anaconda3\\envs\\py38\\lib\\site-packages\\sklearn\\base.py:493: FutureWarning: The feature names should match those that were passed during fit. Starting version 1.2, an error will be raised.\n",
      "Feature names unseen at fit time:\n",
      "- aaron\n",
      "- aberdeen\n",
      "- abram\n",
      "- absolut away\n",
      "- absolut forward\n",
      "- ...\n",
      "Feature names seen at fit time, yet now missing:\n",
      "- abc\n",
      "- absolut instead\n",
      "- absolut togeth\n",
      "- accomplic\n",
      "- accuraci\n",
      "- ...\n",
      "\n",
      "  warnings.warn(message, FutureWarning)\n"
     ]
    }
   ],
   "source": [
    "test_pred = clf.predict(X_test)"
   ]
  },
  {
   "cell_type": "code",
   "execution_count": 31,
   "id": "5822b695-5580-4e59-8ea9-8f2abe2fce75",
   "metadata": {},
   "outputs": [],
   "source": [
    "test_acc = accuracy_score(y_test, test_pred)\n",
    "test_prec_recall_f1 = precision_recall_fscore_support(y_test, test_pred, average = 'weighted')\n",
    "\n",
    "# For Prod:\n",
    "result = ['GTxM Pass 4', 'SVM', 0,\n",
    "        test_acc*100, test_prec_recall_f1[0]*100, test_prec_recall_f1[1]*100, test_prec_recall_f1[2]*100]"
   ]
  },
  {
   "cell_type": "code",
   "execution_count": 32,
   "id": "389a14fe-4105-4d65-9c0c-c47c162fc175",
   "metadata": {},
   "outputs": [
    {
     "data": {
      "text/plain": [
       "['GTxM Pass 4',\n",
       " 'SVM',\n",
       " 0,\n",
       " 51.78571428571429,\n",
       " 51.001240151736205,\n",
       " 51.78571428571429,\n",
       " 50.87569323942704]"
      ]
     },
     "execution_count": 32,
     "metadata": {},
     "output_type": "execute_result"
    }
   ],
   "source": [
    "result"
   ]
  },
  {
   "cell_type": "markdown",
   "id": "34042aa4-9abc-4a0b-912f-f5a8f1b56ec4",
   "metadata": {
    "tags": []
   },
   "source": [
    "##### Generate Confusion Matrix"
   ]
  },
  {
   "cell_type": "code",
   "execution_count": 33,
   "id": "950319d0-9c7c-4e45-9c1e-4c892eb3cd62",
   "metadata": {},
   "outputs": [],
   "source": [
    "svm_cm = confusion_matrix(y_test, test_pred)\n",
    "df_svm_cm = pd.DataFrame(svm_cm, \n",
    "                        columns=['Business','Entertainment','Human Rights','Politics','Obituary','Sports'],\n",
    "                        index=['Business','Entertainment','Human Rights','Politics','Obituary','Sports'])\n",
    "\n",
    "# Removed Business and Obituary since there is none in test data\n",
    "# df_svm_cm = pd.DataFrame(svm_cm, \n",
    "#                         columns=['Entertainment','Human Rights','Politics','Sports'],\n",
    "#                         index=['Entertainment','Human Rights','Politics','Sports'])\n",
    "df_svm_cm.to_csv('results/GTxM_Pass4/GTxM_Clf_SVM_Baseline_CM.csv')"
   ]
  },
  {
   "cell_type": "code",
   "execution_count": 34,
   "id": "dc584bb5-574d-485e-90ed-f6538ca70f8c",
   "metadata": {},
   "outputs": [
    {
     "data": {
      "text/html": [
       "<div>\n",
       "<style scoped>\n",
       "    .dataframe tbody tr th:only-of-type {\n",
       "        vertical-align: middle;\n",
       "    }\n",
       "\n",
       "    .dataframe tbody tr th {\n",
       "        vertical-align: top;\n",
       "    }\n",
       "\n",
       "    .dataframe thead th {\n",
       "        text-align: right;\n",
       "    }\n",
       "</style>\n",
       "<table border=\"1\" class=\"dataframe\">\n",
       "  <thead>\n",
       "    <tr style=\"text-align: right;\">\n",
       "      <th></th>\n",
       "      <th>Business</th>\n",
       "      <th>Entertainment</th>\n",
       "      <th>Human Rights</th>\n",
       "      <th>Politics</th>\n",
       "      <th>Obituary</th>\n",
       "      <th>Sports</th>\n",
       "    </tr>\n",
       "  </thead>\n",
       "  <tbody>\n",
       "    <tr>\n",
       "      <th>Business</th>\n",
       "      <td>0</td>\n",
       "      <td>1</td>\n",
       "      <td>0</td>\n",
       "      <td>0</td>\n",
       "      <td>0</td>\n",
       "      <td>0</td>\n",
       "    </tr>\n",
       "    <tr>\n",
       "      <th>Entertainment</th>\n",
       "      <td>1</td>\n",
       "      <td>9</td>\n",
       "      <td>0</td>\n",
       "      <td>17</td>\n",
       "      <td>1</td>\n",
       "      <td>0</td>\n",
       "    </tr>\n",
       "    <tr>\n",
       "      <th>Human Rights</th>\n",
       "      <td>0</td>\n",
       "      <td>6</td>\n",
       "      <td>0</td>\n",
       "      <td>18</td>\n",
       "      <td>0</td>\n",
       "      <td>0</td>\n",
       "    </tr>\n",
       "    <tr>\n",
       "      <th>Politics</th>\n",
       "      <td>2</td>\n",
       "      <td>43</td>\n",
       "      <td>1</td>\n",
       "      <td>107</td>\n",
       "      <td>1</td>\n",
       "      <td>0</td>\n",
       "    </tr>\n",
       "    <tr>\n",
       "      <th>Obituary</th>\n",
       "      <td>0</td>\n",
       "      <td>0</td>\n",
       "      <td>0</td>\n",
       "      <td>1</td>\n",
       "      <td>0</td>\n",
       "      <td>0</td>\n",
       "    </tr>\n",
       "    <tr>\n",
       "      <th>Sports</th>\n",
       "      <td>0</td>\n",
       "      <td>10</td>\n",
       "      <td>0</td>\n",
       "      <td>6</td>\n",
       "      <td>0</td>\n",
       "      <td>0</td>\n",
       "    </tr>\n",
       "  </tbody>\n",
       "</table>\n",
       "</div>"
      ],
      "text/plain": [
       "               Business  Entertainment  Human Rights  Politics  Obituary  \\\n",
       "Business              0              1             0         0         0   \n",
       "Entertainment         1              9             0        17         1   \n",
       "Human Rights          0              6             0        18         0   \n",
       "Politics              2             43             1       107         1   \n",
       "Obituary              0              0             0         1         0   \n",
       "Sports                0             10             0         6         0   \n",
       "\n",
       "               Sports  \n",
       "Business            0  \n",
       "Entertainment       0  \n",
       "Human Rights        0  \n",
       "Politics            0  \n",
       "Obituary            0  \n",
       "Sports              0  "
      ]
     },
     "execution_count": 34,
     "metadata": {},
     "output_type": "execute_result"
    }
   ],
   "source": [
    "df_svm_cm"
   ]
  },
  {
   "cell_type": "markdown",
   "id": "0452fdba-d421-4b59-99df-50c6c4ed763d",
   "metadata": {
    "tags": []
   },
   "source": [
    "#### RUSBoostClassifier Predictions"
   ]
  },
  {
   "cell_type": "code",
   "execution_count": 35,
   "id": "a63316f3-d427-4a8a-a05f-e425bd3366e8",
   "metadata": {},
   "outputs": [
    {
     "data": {
      "text/plain": [
       "RUSBoostClassifier(random_state=0)"
      ]
     },
     "execution_count": 35,
     "metadata": {},
     "output_type": "execute_result"
    }
   ],
   "source": [
    "# from sklearn.datasets import make_classification\n",
    "clf_rusB = RUSBoostClassifier(random_state=0)\n",
    "clf_rusB.fit(X, y)"
   ]
  },
  {
   "cell_type": "code",
   "execution_count": 36,
   "id": "d0c72e2e-d8e3-4390-b7c0-054487936878",
   "metadata": {},
   "outputs": [
    {
     "name": "stderr",
     "output_type": "stream",
     "text": [
      "C:\\Users\\kazeem\\anaconda3\\envs\\py38\\lib\\site-packages\\sklearn\\base.py:493: FutureWarning: The feature names should match those that were passed during fit. Starting version 1.2, an error will be raised.\n",
      "Feature names unseen at fit time:\n",
      "- aaron\n",
      "- aberdeen\n",
      "- abram\n",
      "- absolut away\n",
      "- absolut forward\n",
      "- ...\n",
      "Feature names seen at fit time, yet now missing:\n",
      "- abc\n",
      "- absolut instead\n",
      "- absolut togeth\n",
      "- accomplic\n",
      "- accuraci\n",
      "- ...\n",
      "\n",
      "  warnings.warn(message, FutureWarning)\n"
     ]
    }
   ],
   "source": [
    "test_pred = clf_rusB.predict(X_test)"
   ]
  },
  {
   "cell_type": "code",
   "execution_count": 37,
   "id": "9f404f2a-ec04-4bd2-a25e-ab809ef72b3f",
   "metadata": {},
   "outputs": [],
   "source": [
    "test_acc = accuracy_score(y_test, test_pred)\n",
    "test_prec_recall_f1 = precision_recall_fscore_support(y_test, test_pred, average = 'weighted')\n",
    "\n",
    "# For Prod:\n",
    "result = ['GTxM Pass 4', 'RUSB', 0,\n",
    "        test_acc*100, test_prec_recall_f1[0]*100, test_prec_recall_f1[1]*100, test_prec_recall_f1[2]*100]"
   ]
  },
  {
   "cell_type": "code",
   "execution_count": 38,
   "id": "138f404e-4772-4866-8c10-4d944f3bec89",
   "metadata": {},
   "outputs": [
    {
     "data": {
      "text/plain": [
       "['GTxM Pass 4',\n",
       " 'RUSB',\n",
       " 0,\n",
       " 46.875,\n",
       " 56.08135283961598,\n",
       " 46.875,\n",
       " 49.47779029178071]"
      ]
     },
     "execution_count": 38,
     "metadata": {},
     "output_type": "execute_result"
    }
   ],
   "source": [
    "result"
   ]
  },
  {
   "cell_type": "markdown",
   "id": "3686c632-7f0b-44dc-b047-1a9bf33435e6",
   "metadata": {
    "tags": []
   },
   "source": [
    "##### Generate Confusion Matrix"
   ]
  },
  {
   "cell_type": "code",
   "execution_count": 39,
   "id": "0de4b15c-5a29-4506-94f8-18d91d940ed6",
   "metadata": {},
   "outputs": [],
   "source": [
    "cm = confusion_matrix(y_test, test_pred)\n",
    "df_cm = pd.DataFrame(cm, \n",
    "                        columns=['Business','Entertainment','Human Rights','Politics','Obituary','Sports'],\n",
    "                        index=['Business','Entertainment','Human Rights','Politics','Obituary','Sports'])\n",
    "df_cm.to_csv('results/GTxM_Pass4/GTxM_Clf_RUSB_CM.csv')"
   ]
  },
  {
   "cell_type": "code",
   "execution_count": 40,
   "id": "ff51026d-d2eb-4caf-9e8e-ee0649c141cf",
   "metadata": {},
   "outputs": [
    {
     "data": {
      "text/html": [
       "<div>\n",
       "<style scoped>\n",
       "    .dataframe tbody tr th:only-of-type {\n",
       "        vertical-align: middle;\n",
       "    }\n",
       "\n",
       "    .dataframe tbody tr th {\n",
       "        vertical-align: top;\n",
       "    }\n",
       "\n",
       "    .dataframe thead th {\n",
       "        text-align: right;\n",
       "    }\n",
       "</style>\n",
       "<table border=\"1\" class=\"dataframe\">\n",
       "  <thead>\n",
       "    <tr style=\"text-align: right;\">\n",
       "      <th></th>\n",
       "      <th>Business</th>\n",
       "      <th>Entertainment</th>\n",
       "      <th>Human Rights</th>\n",
       "      <th>Politics</th>\n",
       "      <th>Obituary</th>\n",
       "      <th>Sports</th>\n",
       "    </tr>\n",
       "  </thead>\n",
       "  <tbody>\n",
       "    <tr>\n",
       "      <th>Business</th>\n",
       "      <td>0</td>\n",
       "      <td>0</td>\n",
       "      <td>0</td>\n",
       "      <td>1</td>\n",
       "      <td>0</td>\n",
       "      <td>0</td>\n",
       "    </tr>\n",
       "    <tr>\n",
       "      <th>Entertainment</th>\n",
       "      <td>2</td>\n",
       "      <td>10</td>\n",
       "      <td>1</td>\n",
       "      <td>12</td>\n",
       "      <td>0</td>\n",
       "      <td>3</td>\n",
       "    </tr>\n",
       "    <tr>\n",
       "      <th>Human Rights</th>\n",
       "      <td>0</td>\n",
       "      <td>6</td>\n",
       "      <td>1</td>\n",
       "      <td>14</td>\n",
       "      <td>1</td>\n",
       "      <td>2</td>\n",
       "    </tr>\n",
       "    <tr>\n",
       "      <th>Politics</th>\n",
       "      <td>2</td>\n",
       "      <td>21</td>\n",
       "      <td>1</td>\n",
       "      <td>90</td>\n",
       "      <td>6</td>\n",
       "      <td>34</td>\n",
       "    </tr>\n",
       "    <tr>\n",
       "      <th>Obituary</th>\n",
       "      <td>0</td>\n",
       "      <td>0</td>\n",
       "      <td>0</td>\n",
       "      <td>1</td>\n",
       "      <td>0</td>\n",
       "      <td>0</td>\n",
       "    </tr>\n",
       "    <tr>\n",
       "      <th>Sports</th>\n",
       "      <td>0</td>\n",
       "      <td>3</td>\n",
       "      <td>0</td>\n",
       "      <td>9</td>\n",
       "      <td>0</td>\n",
       "      <td>4</td>\n",
       "    </tr>\n",
       "  </tbody>\n",
       "</table>\n",
       "</div>"
      ],
      "text/plain": [
       "               Business  Entertainment  Human Rights  Politics  Obituary  \\\n",
       "Business              0              0             0         1         0   \n",
       "Entertainment         2             10             1        12         0   \n",
       "Human Rights          0              6             1        14         1   \n",
       "Politics              2             21             1        90         6   \n",
       "Obituary              0              0             0         1         0   \n",
       "Sports                0              3             0         9         0   \n",
       "\n",
       "               Sports  \n",
       "Business            0  \n",
       "Entertainment       3  \n",
       "Human Rights        2  \n",
       "Politics           34  \n",
       "Obituary            0  \n",
       "Sports              4  "
      ]
     },
     "execution_count": 40,
     "metadata": {},
     "output_type": "execute_result"
    }
   ],
   "source": [
    "df_cm"
   ]
  },
  {
   "cell_type": "markdown",
   "id": "4eb95e70-961d-4c13-97ae-305b35970613",
   "metadata": {
    "tags": []
   },
   "source": [
    "#### BalancedRandomForestClassifier Predictions"
   ]
  },
  {
   "cell_type": "code",
   "execution_count": 45,
   "id": "3fb345ae-6d5e-4768-8124-228a43cd63b7",
   "metadata": {},
   "outputs": [
    {
     "data": {
      "text/plain": [
       "BalancedRandomForestClassifier(max_depth=2, random_state=0)"
      ]
     },
     "execution_count": 45,
     "metadata": {},
     "output_type": "execute_result"
    }
   ],
   "source": [
    "# from imblearn.ensemble import BalancedRandomForestClassifier\n",
    "clf_brf = BalancedRandomForestClassifier(max_depth=2, random_state=0)\n",
    "clf_brf.fit(X,y)"
   ]
  },
  {
   "cell_type": "code",
   "execution_count": 46,
   "id": "b98f9795-2413-4d78-a421-b788e595a09e",
   "metadata": {},
   "outputs": [
    {
     "name": "stderr",
     "output_type": "stream",
     "text": [
      "C:\\Users\\kazeem\\anaconda3\\envs\\py38\\lib\\site-packages\\sklearn\\base.py:493: FutureWarning: The feature names should match those that were passed during fit. Starting version 1.2, an error will be raised.\n",
      "Feature names unseen at fit time:\n",
      "- aaron\n",
      "- aberdeen\n",
      "- abram\n",
      "- absolut away\n",
      "- absolut forward\n",
      "- ...\n",
      "Feature names seen at fit time, yet now missing:\n",
      "- abc\n",
      "- absolut instead\n",
      "- absolut togeth\n",
      "- accomplic\n",
      "- accuraci\n",
      "- ...\n",
      "\n",
      "  warnings.warn(message, FutureWarning)\n"
     ]
    }
   ],
   "source": [
    "test_pred = clf_brf.predict(X_test)"
   ]
  },
  {
   "cell_type": "code",
   "execution_count": 47,
   "id": "d6b1d13e-db73-4dbd-a2dd-d6e7e57cabac",
   "metadata": {},
   "outputs": [],
   "source": [
    "test_acc = accuracy_score(y_test, test_pred)\n",
    "test_prec_recall_f1 = precision_recall_fscore_support(y_test, test_pred, average = 'weighted')\n",
    "\n",
    "# For Prod:\n",
    "result = ['GTxM Pass 4', 'BRF', 0,\n",
    "        test_acc*100, test_prec_recall_f1[0]*100, test_prec_recall_f1[1]*100, test_prec_recall_f1[2]*100]"
   ]
  },
  {
   "cell_type": "code",
   "execution_count": 48,
   "id": "dac65b11-d1ca-4bf1-b856-f403207c6f95",
   "metadata": {},
   "outputs": [
    {
     "data": {
      "text/plain": [
       "['GTxM Pass 4',\n",
       " 'BRF',\n",
       " 0,\n",
       " 18.303571428571427,\n",
       " 65.64923943740737,\n",
       " 18.303571428571427,\n",
       " 19.201826645222873]"
      ]
     },
     "execution_count": 48,
     "metadata": {},
     "output_type": "execute_result"
    }
   ],
   "source": [
    "result"
   ]
  },
  {
   "cell_type": "markdown",
   "id": "bb3b2ec3-1526-4250-ae91-46e79b679cf9",
   "metadata": {
    "tags": []
   },
   "source": [
    "##### Generate Confusion Matrix"
   ]
  },
  {
   "cell_type": "code",
   "execution_count": 49,
   "id": "e67f2210-39b6-4bb0-9707-1a10a8da419a",
   "metadata": {},
   "outputs": [],
   "source": [
    "cm = confusion_matrix(y_test, test_pred)\n",
    "df_cm = pd.DataFrame(cm, \n",
    "                        columns=['Business','Entertainment','Human Rights','Politics','Obituary','Sports'],\n",
    "                        index=['Business','Entertainment','Human Rights','Politics','Obituary','Sports'])\n",
    "df_cm.to_csv('results/GTxM_Pass4/GTxM_Clf_BRF_CM.csv')"
   ]
  },
  {
   "cell_type": "code",
   "execution_count": 50,
   "id": "ef80c354-8d38-46e3-b4f7-fb5bb1da7efe",
   "metadata": {},
   "outputs": [
    {
     "data": {
      "text/html": [
       "<div>\n",
       "<style scoped>\n",
       "    .dataframe tbody tr th:only-of-type {\n",
       "        vertical-align: middle;\n",
       "    }\n",
       "\n",
       "    .dataframe tbody tr th {\n",
       "        vertical-align: top;\n",
       "    }\n",
       "\n",
       "    .dataframe thead th {\n",
       "        text-align: right;\n",
       "    }\n",
       "</style>\n",
       "<table border=\"1\" class=\"dataframe\">\n",
       "  <thead>\n",
       "    <tr style=\"text-align: right;\">\n",
       "      <th></th>\n",
       "      <th>Business</th>\n",
       "      <th>Entertainment</th>\n",
       "      <th>Human Rights</th>\n",
       "      <th>Politics</th>\n",
       "      <th>Obituary</th>\n",
       "      <th>Sports</th>\n",
       "    </tr>\n",
       "  </thead>\n",
       "  <tbody>\n",
       "    <tr>\n",
       "      <th>Business</th>\n",
       "      <td>0</td>\n",
       "      <td>1</td>\n",
       "      <td>0</td>\n",
       "      <td>0</td>\n",
       "      <td>0</td>\n",
       "      <td>0</td>\n",
       "    </tr>\n",
       "    <tr>\n",
       "      <th>Entertainment</th>\n",
       "      <td>0</td>\n",
       "      <td>20</td>\n",
       "      <td>0</td>\n",
       "      <td>0</td>\n",
       "      <td>6</td>\n",
       "      <td>2</td>\n",
       "    </tr>\n",
       "    <tr>\n",
       "      <th>Human Rights</th>\n",
       "      <td>0</td>\n",
       "      <td>12</td>\n",
       "      <td>1</td>\n",
       "      <td>2</td>\n",
       "      <td>5</td>\n",
       "      <td>4</td>\n",
       "    </tr>\n",
       "    <tr>\n",
       "      <th>Politics</th>\n",
       "      <td>13</td>\n",
       "      <td>84</td>\n",
       "      <td>12</td>\n",
       "      <td>19</td>\n",
       "      <td>23</td>\n",
       "      <td>3</td>\n",
       "    </tr>\n",
       "    <tr>\n",
       "      <th>Obituary</th>\n",
       "      <td>0</td>\n",
       "      <td>1</td>\n",
       "      <td>0</td>\n",
       "      <td>0</td>\n",
       "      <td>0</td>\n",
       "      <td>0</td>\n",
       "    </tr>\n",
       "    <tr>\n",
       "      <th>Sports</th>\n",
       "      <td>1</td>\n",
       "      <td>13</td>\n",
       "      <td>0</td>\n",
       "      <td>0</td>\n",
       "      <td>1</td>\n",
       "      <td>1</td>\n",
       "    </tr>\n",
       "  </tbody>\n",
       "</table>\n",
       "</div>"
      ],
      "text/plain": [
       "               Business  Entertainment  Human Rights  Politics  Obituary  \\\n",
       "Business              0              1             0         0         0   \n",
       "Entertainment         0             20             0         0         6   \n",
       "Human Rights          0             12             1         2         5   \n",
       "Politics             13             84            12        19        23   \n",
       "Obituary              0              1             0         0         0   \n",
       "Sports                1             13             0         0         1   \n",
       "\n",
       "               Sports  \n",
       "Business            0  \n",
       "Entertainment       2  \n",
       "Human Rights        4  \n",
       "Politics            3  \n",
       "Obituary            0  \n",
       "Sports              1  "
      ]
     },
     "execution_count": 50,
     "metadata": {},
     "output_type": "execute_result"
    }
   ],
   "source": [
    "df_cm"
   ]
  },
  {
   "cell_type": "code",
   "execution_count": null,
   "id": "f4b99900-cf71-4e5e-b0d7-3cffe7ea0ddb",
   "metadata": {},
   "outputs": [],
   "source": []
  }
 ],
 "metadata": {
  "kernelspec": {
   "display_name": "Python 3 (ipykernel)",
   "language": "python",
   "name": "python3"
  },
  "language_info": {
   "codemirror_mode": {
    "name": "ipython",
    "version": 3
   },
   "file_extension": ".py",
   "mimetype": "text/x-python",
   "name": "python",
   "nbconvert_exporter": "python",
   "pygments_lexer": "ipython3",
   "version": "3.8.16"
  }
 },
 "nbformat": 4,
 "nbformat_minor": 5
}
